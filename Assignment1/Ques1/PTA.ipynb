{
  "nbformat": 4,
  "nbformat_minor": 0,
  "metadata": {
    "colab": {
      "name": "Assignment1/Ques1/PTA.ipynb",
      "provenance": [],
      "collapsed_sections": [],
      "authorship_tag": "ABX9TyOy2STTWXkwBRlZWurPvCPP"
    },
    "kernelspec": {
      "name": "python3",
      "display_name": "Python 3"
    },
    "language_info": {
      "name": "python"
    }
  },
  "cells": [
    {
      "cell_type": "code",
      "execution_count": 80,
      "metadata": {
        "id": "RRXtK-t-TTxn"
      },
      "outputs": [],
      "source": [
        "import numpy as np\n",
        "import matplotlib.pyplot as plt\n",
        "import pickle\n",
        "plt.style.use('seaborn')"
      ]
    },
    {
      "cell_type": "code",
      "source": [
        "from os import truncate\n",
        "class Perceptron():\n",
        "    def __init__(self, X, y, numWeights, threshold, modelName,weights=None, maxIters=50, loadModel=False):\n",
        "        trainOnes = np.ones((X.shape[0], 1))\n",
        "        self.X = np.hstack((X, trainOnes)).astype('float')\n",
        "        self.y = np.array([1 if i == 1 else -1 for i in y]).astype('float')\n",
        "        self.numWeights = numWeights\n",
        "        self.threshold = threshold\n",
        "        self.maxIters = maxIters\n",
        "        self.modelName = modelName\n",
        "        if loadModel:\n",
        "            self.weights, self.iters = self.loadModel()\n",
        "        else:\n",
        "            if weights is not None:\n",
        "                self.weights = np.array(weights).astype('float')\n",
        "            else:\n",
        "                self.weights = np.array(np.random.normal(0, 1, numWeights + 1)).astype('float')\n",
        "            self.iters = 0\n",
        "    \n",
        "    def plotGraph(self):\n",
        "        x1 = [i[0] for i in self.X]\n",
        "        if self.X.shape[1] == 1:\n",
        "            x2 = [0 for i in range(self.X[0])]\n",
        "        else:\n",
        "            x2 = [i[1] for i in self.X]\n",
        "        plt.scatter(x1, x2, c=self.y, cmap='coolwarm')\n",
        "\n",
        "        if self.X.shape[1] == 3:\n",
        "            x_ = np.linspace(-1, 2, 100)\n",
        "            y_ = -(self.weights[2] + self.weights[0]*x_)/(self.weights[1]+1e-9)\n",
        "            plt.plot(x_, y_, 'green')\n",
        "        else:\n",
        "            x_ = -(self.weights[1]/(self.weights[0] + 1e-9))\n",
        "            x_ = np.linspace(x_, x_, 100)\n",
        "            y_ = np.linspace(0, 2, 100)\n",
        "            plt.plot(x_, y_, 'green')\n",
        "        plt.show()\n",
        "\n",
        "    def updateWeights(self):\n",
        "        for i in range(len(self.X)):\n",
        "            if self.y[i]*np.dot(self.weights.T, self.X[i]) <= self.threshold:\n",
        "                self.weights += (self.y[i] * self.X[i])\n",
        "                return\n",
        "\n",
        "    def checkConvergence(self):\n",
        "        for i in range(len(self.X)):\n",
        "            if self.y[i]*np.dot(self.weights.T, self.X[i]) <= self.threshold:\n",
        "                return False\n",
        "        return True\n",
        "\n",
        "    def train(self):\n",
        "        steps = 0\n",
        "        while steps < self.maxIters:\n",
        "            steps += 1\n",
        "            print(f'\\nIteration number: {self.iters}\\nWeights: {self.weights}')\n",
        "            self.plotGraph()\n",
        "            if self.checkConvergence() == False:\n",
        "                self.updateWeights()\n",
        "            else:\n",
        "                self.saveModel()\n",
        "                return\n",
        "            self.iters += 1\n",
        "    \n",
        "    def saveModel(self):\n",
        "        model = {\n",
        "            \"name\": self.modelName, \n",
        "            \"iterations\": self.iters,\n",
        "            \"weights\": self.weights\n",
        "        }\n",
        "        with open(f'{self.modelName}.pickle', 'wb') as f:\n",
        "            pickle.dump(model, f)\n",
        "\n",
        "    def loadModel(self):\n",
        "        with open(f'{self.modelName}.pickle', 'rb') as f:\n",
        "            model = pickle.load(f)\n",
        "            return model['weights'], model['iterations']\n"
      ],
      "metadata": {
        "id": "I7t6aVN9T8W9"
      },
      "execution_count": 97,
      "outputs": []
    },
    {
      "cell_type": "code",
      "source": [
        "X = np.array([[0, 0], [0, 1], [1, 0], [1, 1]])\n",
        "y = np.array([0, 0, 0, 1])"
      ],
      "metadata": {
        "id": "QkdZz03jW0XT"
      },
      "execution_count": 98,
      "outputs": []
    },
    {
      "cell_type": "code",
      "source": [
        "X = np.array([[0], [1]])\n",
        "y = np.array([1, 0])"
      ],
      "metadata": {
        "id": "ydHQ9A0gpHyN"
      },
      "execution_count": 99,
      "outputs": []
    },
    {
      "cell_type": "code",
      "source": [
        "p = Perceptron(X, y, 1, 0, weights=[3,2], modelName='notGate', loadModel=True)\n",
        "print(p.weights)\n",
        "print(p.weights.shape)\n",
        "print(p.X)\n",
        "print(p.X[0].shape)\n",
        "print(p.y)"
      ],
      "metadata": {
        "colab": {
          "base_uri": "https://localhost:8080/"
        },
        "id": "8NP65jEaXH4V",
        "outputId": "f0d33310-308c-4ef7-fdaa-a5782b559803"
      },
      "execution_count": 100,
      "outputs": [
        {
          "output_type": "stream",
          "name": "stdout",
          "text": [
            "[-2.  1.]\n",
            "(2,)\n",
            "[[0. 1.]\n",
            " [1. 1.]]\n",
            "(2,)\n",
            "[ 1. -1.]\n"
          ]
        }
      ]
    },
    {
      "cell_type": "code",
      "source": [
        "p.train()"
      ],
      "metadata": {
        "colab": {
          "base_uri": "https://localhost:8080/",
          "height": 399
        },
        "id": "6YGEN_uNXRlw",
        "outputId": "904e06a7-b4b1-4639-c44e-3a3d4535d5a9"
      },
      "execution_count": 101,
      "outputs": [
        {
          "output_type": "stream",
          "name": "stdout",
          "text": [
            "\n",
            "Iteration number: 11\n",
            "Weights: [-2.  1.]\n"
          ]
        },
        {
          "output_type": "display_data",
          "data": {
            "image/png": "[encoded data removed]",
            "text/plain": [
              "<Figure size 576x396 with 1 Axes>"
            ]
          },
          "metadata": {}
        }
      ]
    },
    {
      "cell_type": "code",
      "source": [
        "print(p.weights)\n",
        "print(p.X)\n",
        "print(p.y)\n",
        "print(p.threshold)"
      ],
      "metadata": {
        "colab": {
          "base_uri": "https://localhost:8080/"
        },
        "id": "cQ-jsS1niWEK",
        "outputId": "8d864e8c-4fe5-485b-d596-6c58fe3ec704"
      },
      "execution_count": 26,
      "outputs": [
        {
          "output_type": "stream",
          "name": "stdout",
          "text": [
            "[-0.9  0.1]\n",
            "[[0. 1.]\n",
            " [1. 1.]]\n",
            "[ 1 -1]\n",
            "0\n"
          ]
        }
      ]
    },
    {
      "cell_type": "code",
      "source": [
        ""
      ],
      "metadata": {
        "id": "fv5DgxCSib-m"
      },
      "execution_count": null,
      "outputs": []
    }
  ]
}