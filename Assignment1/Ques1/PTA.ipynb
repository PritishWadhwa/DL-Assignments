{
  "nbformat": 4,
  "nbformat_minor": 0,
  "metadata": {
    "colab": {
      "name": "PTA.ipynb",
      "provenance": [],
      "collapsed_sections": [],
      "authorship_tag": "ABX9TyNLDWtWv+UUr+yf3vGImj06"
    },
    "kernelspec": {
      "name": "python3",
      "display_name": "Python 3"
    },
    "language_info": {
      "name": "python"
    }
  },
  "cells": [
    {
      "cell_type": "code",
      "execution_count": 1,
      "metadata": {
        "id": "RRXtK-t-TTxn"
      },
      "outputs": [],
      "source": [
        "import numpy as np\n",
        "import matplotlib.pyplot as plt\n",
        "plt.style.use('seaborn')\n",
        "# plt.style.use('dark_background')"
      ]
    },
    {
      "cell_type": "code",
      "source": [
        "class Perceptron():\n",
        "    def __init__(self, X, y, numWeights, threshold, weights=None, maxIters=50, loadModel=False, modelName=None):\n",
        "        trainOnes = np.ones((X.shape[0], 1))\n",
        "        self.X = np.hstack((X, trainOnes))\n",
        "        self.y = [1 if i == 1 else -1 for i in y]\n",
        "        self.numWeights = numWeights\n",
        "        self.threshold = threshold\n",
        "        self.maxIters = maxIters\n",
        "        if loadModel:\n",
        "            pass\n",
        "        else:\n",
        "            if weights is not None:\n",
        "                self.weights = weights\n",
        "            else:\n",
        "                self.weights = np.random.normal(0, 1, numWeights + 1)\n",
        "            self.iters = 0\n",
        "    \n",
        "    def plotGraph(self):\n",
        "        x1 = [i[0] for i in self.X]\n",
        "        if self.X.shape[1] == 1:\n",
        "            x2 = [0 for i in range(self.X[0])]\n",
        "        else:\n",
        "            x2 = [i[1] for i in self.X]\n",
        "        plt.scatter(x1, x2, c=self.y, cmap='coolwarm')\n",
        "\n",
        "        if self.X.shape[1] == 3:\n",
        "            x_ = np.linspace(-1, 2, 100)\n",
        "            y_ = -(self.weights[2] + self.weights[0]*x_)/self.weights[1]\n",
        "            plt.plot(x_, y_, 'r')\n",
        "        else:\n",
        "            x_ = np.linspace(-1, 2, 100)\n",
        "            y_ = -(self.weights[1] + self.weights[0]*x_)\n",
        "            plt.plot(x_, y_, 'r')\n",
        "        plt.show()\n",
        "\n",
        "    def updateWeights(self):\n",
        "        for i in range(len(self.X)):\n",
        "            if self.y[i]*np.dot(self.weights, self.X[i]) <= self.threshold:\n",
        "                self.weights += (self.y[i] * self.X[i])\n",
        "                return\n",
        "\n",
        "    def checkConvergence(self):\n",
        "        for i in range(len(self.X)):\n",
        "            if self.y[i]*np.dot(self.weights, self.X[i]) <= self.threshold:\n",
        "                return False\n",
        "        return True\n",
        "\n",
        "    def train(self):\n",
        "        steps = 0\n",
        "        while steps < self.maxIters:\n",
        "            steps += 1\n",
        "            self.iters += 1\n",
        "            print(f'\\nEpoch number: {self.iters}\\nWeights: {self.weights}')\n",
        "            self.plotGraph()\n",
        "            if self.checkConvergence() == False:\n",
        "                self.updateWeights()\n",
        "            else:\n",
        "                return\n"
      ],
      "metadata": {
        "id": "I7t6aVN9T8W9"
      },
      "execution_count": 78,
      "outputs": []
    },
    {
      "cell_type": "code",
      "source": [
        "X = np.array([[0, 0], [0, 1], [1, 0], [1, 1]])\n",
        "y = np.array([0, 0, 0, 1])"
      ],
      "metadata": {
        "id": "QkdZz03jW0XT"
      },
      "execution_count": 79,
      "outputs": []
    },
    {
      "cell_type": "code",
      "source": [
        "X = np.array([[0], [1]])\n",
        "y = np.array([1, 0])"
      ],
      "metadata": {
        "id": "ydHQ9A0gpHyN"
      },
      "execution_count": 80,
      "outputs": []
    },
    {
      "cell_type": "code",
      "source": [
        "p = Perceptron(X, y, 1, 0, weights=[0.1,0.1])\n",
        "print(p.weights)\n",
        "print(p.X)\n",
        "print(p.X.shape)\n",
        "print(p.y)"
      ],
      "metadata": {
        "colab": {
          "base_uri": "https://localhost:8080/"
        },
        "id": "8NP65jEaXH4V",
        "outputId": "327efef9-30d9-4560-8f41-a3310a3ced93"
      },
      "execution_count": 83,
      "outputs": [
        {
          "output_type": "stream",
          "name": "stdout",
          "text": [
            "[0.1, 0.1]\n",
            "[[0. 1.]\n",
            " [1. 1.]]\n",
            "(2, 2)\n",
            "[1, -1]\n"
          ]
        }
      ]
    },
    {
      "cell_type": "code",
      "source": [
        "p.train()"
      ],
      "metadata": {
        "colab": {
          "base_uri": "https://localhost:8080/",
          "height": 917
        },
        "id": "6YGEN_uNXRlw",
        "outputId": "30aa244b-c900-4672-a41c-a530a4232c6e"
      },
      "execution_count": 84,
      "outputs": [
        {
          "output_type": "stream",
          "name": "stdout",
          "text": [
            "\n",
            "Epoch number: 1\n",
            "Weights: [0.1, 0.1]\n"
          ]
        },
        {
          "output_type": "display_data",
          "data": {
            "image/png": "[encoded data removed]",
            "text/plain": [
              "<Figure size 432x288 with 1 Axes>"
            ]
          },
          "metadata": {
            "needs_background": "light"
          }
        },
        {
          "output_type": "stream",
          "name": "stdout",
          "text": [
            "\n",
            "Epoch number: 2\n",
            "Weights: [-0.9 -0.9]\n"
          ]
        },
        {
          "output_type": "display_data",
          "data": {
            "image/png": "[encoded data removed]",
            "text/plain": [
              "<Figure size 432x288 with 1 Axes>"
            ]
          },
          "metadata": {
            "needs_background": "light"
          }
        },
        {
          "output_type": "stream",
          "name": "stdout",
          "text": [
            "\n",
            "Epoch number: 3\n",
            "Weights: [-0.9  0.1]\n"
          ]
        },
        {
          "output_type": "display_data",
          "data": {
            "image/png": "[encoded data removed]",
            "text/plain": [
              "<Figure size 432x288 with 1 Axes>"
            ]
          },
          "metadata": {
            "needs_background": "light"
          }
        }
      ]
    },
    {
      "cell_type": "code",
      "source": [
        "print(p.weights)\n",
        "print(p.X)\n",
        "print(p.y)\n",
        "print(p.threshold)"
      ],
      "metadata": {
        "colab": {
          "base_uri": "https://localhost:8080/"
        },
        "id": "cQ-jsS1niWEK",
        "outputId": "9fc0b1f3-d596-43f3-f9de-6deb4cff4312"
      },
      "execution_count": 85,
      "outputs": [
        {
          "output_type": "stream",
          "name": "stdout",
          "text": [
            "[-0.9  0.1]\n",
            "[[0. 1.]\n",
            " [1. 1.]]\n",
            "[1, -1]\n",
            "0\n"
          ]
        }
      ]
    },
    {
      "cell_type": "code",
      "source": [
        ""
      ],
      "metadata": {
        "id": "fv5DgxCSib-m"
      },
      "execution_count": 44,
      "outputs": []
    }
  ]
}