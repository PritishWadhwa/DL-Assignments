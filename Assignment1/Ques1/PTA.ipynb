{
  "nbformat": 4,
  "nbformat_minor": 0,
  "metadata": {
    "colab": {
      "name": "PTA.ipynb",
      "provenance": [],
      "collapsed_sections": [],
      "authorship_tag": "ABX9TyPsKoxbEA+pPNrOxoQmTrtW"
    },
    "kernelspec": {
      "name": "python3",
      "display_name": "Python 3"
    },
    "language_info": {
      "name": "python"
    }
  },
  "cells": [
    {
      "cell_type": "code",
      "execution_count": 1,
      "metadata": {
        "id": "RRXtK-t-TTxn"
      },
      "outputs": [],
      "source": [
        "import numpy as np\n",
        "import matplotlib.pyplot as plt\n",
        "plt.style.use('seaborn')\n",
        "plt.style.use('dark_background')"
      ]
    },
    {
      "cell_type": "code",
      "source": [
        "class Perceptron():\n",
        "    def __init__(self, X, y, numWeights, threshold, maxIters=50, loadModel=False, modelName=None):\n",
        "        trainOnes = np.ones((X.shape[0], 1))\n",
        "        self.X = np.hstack((X, trainOnes))\n",
        "        self.y = [1 if i == 1 else -1 for i in y]\n",
        "        self.numWeights = numWeights\n",
        "        self.threshold = threshold\n",
        "        self.maxIters = maxIters\n",
        "        if loadModel:\n",
        "            pass\n",
        "        else:\n",
        "            self.weights = np.random.normal(0, 1, numWeights + 1)\n",
        "            self.iters = 0\n",
        "    \n",
        "    def updateWeights(self):\n",
        "        for i in range(len(self.X)):\n",
        "            pass\n",
        "\n",
        "\n",
        "    def train(self):\n",
        "        steps = 0\n",
        "        while steps < self.maxIters:\n",
        "            steps += 1\n",
        "            self.iters += 1\n"
      ],
      "metadata": {
        "id": "I7t6aVN9T8W9"
      },
      "execution_count": 24,
      "outputs": []
    },
    {
      "cell_type": "code",
      "source": [
        "X = np.array([[0, 0], [0, 1], [1, 0], [1, 1]])\n",
        "y = np.array([0, 0, 0, 1])"
      ],
      "metadata": {
        "id": "QkdZz03jW0XT"
      },
      "execution_count": 25,
      "outputs": []
    },
    {
      "cell_type": "code",
      "source": [
        "p = Perceptron(X, y, 2, 0)\n",
        "print(p.weights)\n",
        "print(p.X)\n",
        "print(p.y)"
      ],
      "metadata": {
        "colab": {
          "base_uri": "https://localhost:8080/"
        },
        "id": "8NP65jEaXH4V",
        "outputId": "01809daf-1524-4284-96f7-298c258e2fd0"
      },
      "execution_count": 26,
      "outputs": [
        {
          "output_type": "stream",
          "name": "stdout",
          "text": [
            "[-0.47520598 -1.30286668  0.56363703]\n",
            "[[0. 0. 1.]\n",
            " [0. 1. 1.]\n",
            " [1. 0. 1.]\n",
            " [1. 1. 1.]]\n",
            "[-1, -1, -1, 1]\n"
          ]
        }
      ]
    },
    {
      "cell_type": "code",
      "source": [
        ""
      ],
      "metadata": {
        "id": "6YGEN_uNXRlw"
      },
      "execution_count": null,
      "outputs": []
    }
  ]
}