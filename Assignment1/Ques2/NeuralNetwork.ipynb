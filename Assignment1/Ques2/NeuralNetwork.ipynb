{
  "nbformat": 4,
  "nbformat_minor": 0,
  "metadata": {
    "colab": {
      "name": "NeuralNetwork.ipynb",
      "provenance": [],
      "collapsed_sections": [],
      "mount_file_id": "1V8Pu6RZs4NJlX4Hsi7Nq-NeJd2ooRCN5",
      "authorship_tag": "ABX9TyPN0b2yvfbrYgRGPlsqYxbK"
    },
    "kernelspec": {
      "name": "python3",
      "display_name": "Python 3"
    },
    "language_info": {
      "name": "python"
    }
  },
  "cells": [
    {
      "cell_type": "code",
      "source": [
        "!pip install kaggle"
      ],
      "metadata": {
        "colab": {
          "base_uri": "https://localhost:8080/"
        },
        "id": "ySmHVfLk8kyX",
        "outputId": "7957686c-c14c-44ed-d30f-cba89f7403a2"
      },
      "execution_count": null,
      "outputs": [
        {
          "output_type": "stream",
          "name": "stdout",
          "text": [
            "Requirement already satisfied: kaggle in /usr/local/lib/python3.7/dist-packages (1.5.12)\n",
            "Requirement already satisfied: python-slugify in /usr/local/lib/python3.7/dist-packages (from kaggle) (5.0.2)\n",
            "Requirement already satisfied: six>=1.10 in /usr/local/lib/python3.7/dist-packages (from kaggle) (1.15.0)\n",
            "Requirement already satisfied: tqdm in /usr/local/lib/python3.7/dist-packages (from kaggle) (4.62.3)\n",
            "Requirement already satisfied: requests in /usr/local/lib/python3.7/dist-packages (from kaggle) (2.23.0)\n",
            "Requirement already satisfied: urllib3 in /usr/local/lib/python3.7/dist-packages (from kaggle) (1.24.3)\n",
            "Requirement already satisfied: python-dateutil in /usr/local/lib/python3.7/dist-packages (from kaggle) (2.8.2)\n",
            "Requirement already satisfied: certifi in /usr/local/lib/python3.7/dist-packages (from kaggle) (2021.10.8)\n",
            "Requirement already satisfied: text-unidecode>=1.3 in /usr/local/lib/python3.7/dist-packages (from python-slugify->kaggle) (1.3)\n",
            "Requirement already satisfied: idna<3,>=2.5 in /usr/local/lib/python3.7/dist-packages (from requests->kaggle) (2.10)\n",
            "Requirement already satisfied: chardet<4,>=3.0.2 in /usr/local/lib/python3.7/dist-packages (from requests->kaggle) (3.0.4)\n"
          ]
        }
      ]
    },
    {
      "cell_type": "code",
      "source": [
        "mkdir ~/.kaggle"
      ],
      "metadata": {
        "id": "eC8mu1l_8wcm"
      },
      "execution_count": null,
      "outputs": []
    },
    {
      "cell_type": "code",
      "source": [
        "cp /content/drive/MyDrive/kaggle.json ~/.kaggle/"
      ],
      "metadata": {
        "id": "SBxbey9A8zTA"
      },
      "execution_count": null,
      "outputs": []
    },
    {
      "cell_type": "code",
      "source": [
        "! chmod 600 ~/.kaggle/kaggle.json"
      ],
      "metadata": {
        "id": "-2naWb_E8y2A"
      },
      "execution_count": null,
      "outputs": []
    },
    {
      "cell_type": "code",
      "source": [
        "! kaggle datasets download zalando-research/fashionmnist"
      ],
      "metadata": {
        "colab": {
          "base_uri": "https://localhost:8080/"
        },
        "id": "NhwVv6Vw9Ohb",
        "outputId": "ad3ca508-352b-4bf3-9f71-1cb921b0d3b7"
      },
      "execution_count": null,
      "outputs": [
        {
          "output_type": "stream",
          "name": "stdout",
          "text": [
            "Downloading fashionmnist.zip to /content/drive/MyDrive/dlAssignments/Assignment1/NeuralNetwork\n",
            " 89% 61.0M/68.8M [00:00<00:00, 77.8MB/s]\n",
            "100% 68.8M/68.8M [00:00<00:00, 117MB/s] \n"
          ]
        }
      ]
    },
    {
      "cell_type": "code",
      "source": [
        "ls"
      ],
      "metadata": {
        "colab": {
          "base_uri": "https://localhost:8080/"
        },
        "id": "WaIi8XFv9YHV",
        "outputId": "214070cf-cecc-4444-ab92-6a234e4dd4d4"
      },
      "execution_count": null,
      "outputs": [
        {
          "output_type": "stream",
          "name": "stdout",
          "text": [
            "\u001b[0m\u001b[01;34mData\u001b[0m/  fashionmnist.zip  NeuralNetwork.ipynb\n"
          ]
        }
      ]
    },
    {
      "cell_type": "code",
      "source": [
        "!unzip fashionmnist.zip"
      ],
      "metadata": {
        "colab": {
          "base_uri": "https://localhost:8080/"
        },
        "id": "rSvWyel69aBT",
        "outputId": "6c478afe-61a0-4110-cba5-a9b2995925e5"
      },
      "execution_count": null,
      "outputs": [
        {
          "output_type": "stream",
          "name": "stdout",
          "text": [
            "Archive:  fashionmnist.zip\n",
            "  inflating: fashion-mnist_test.csv  \n",
            "  inflating: fashion-mnist_train.csv  \n",
            "  inflating: t10k-images-idx3-ubyte  \n",
            "  inflating: t10k-labels-idx1-ubyte  \n",
            "  inflating: train-images-idx3-ubyte  \n",
            "  inflating: train-labels-idx1-ubyte  \n"
          ]
        }
      ]
    },
    {
      "cell_type": "code",
      "source": [
        "ls"
      ],
      "metadata": {
        "colab": {
          "base_uri": "https://localhost:8080/"
        },
        "id": "c5Bh2KCy9fyl",
        "outputId": "46ba62e2-9027-41c2-8d0f-f03978248add"
      },
      "execution_count": null,
      "outputs": [
        {
          "output_type": "stream",
          "name": "stdout",
          "text": [
            "fashion-mnist_test.csv   NeuralNetwork.ipynb     train-images-idx3-ubyte\n",
            "fashion-mnist_train.csv  t10k-images-idx3-ubyte  train-labels-idx1-ubyte\n",
            "fashionmnist.zip         t10k-labels-idx1-ubyte\n"
          ]
        }
      ]
    },
    {
      "cell_type": "code",
      "source": [
        "mkdir Data"
      ],
      "metadata": {
        "id": "fgwSPFRH9iCt"
      },
      "execution_count": null,
      "outputs": []
    },
    {
      "cell_type": "code",
      "source": [
        "mv *ubyte ./Data"
      ],
      "metadata": {
        "id": "WkZGvIrL9k2V"
      },
      "execution_count": null,
      "outputs": []
    },
    {
      "cell_type": "code",
      "source": [
        "from google.colab import drive\n",
        "drive.mount('/content/drive')"
      ],
      "metadata": {
        "colab": {
          "base_uri": "https://localhost:8080/"
        },
        "id": "H5TnlE0Y7iyz",
        "outputId": "6c0de9b9-386f-4115-9aec-9f9c4266195f"
      },
      "execution_count": 2,
      "outputs": [
        {
          "output_type": "stream",
          "name": "stdout",
          "text": [
            "Drive already mounted at /content/drive; to attempt to forcibly remount, call drive.mount(\"/content/drive\", force_remount=True).\n"
          ]
        }
      ]
    },
    {
      "cell_type": "code",
      "source": [
        "cd drive/MyDrive/dlAssignments/Assignment1/NeuralNetwork/"
      ],
      "metadata": {
        "colab": {
          "base_uri": "https://localhost:8080/"
        },
        "id": "1ffAXacw7veM",
        "outputId": "5cc5fa43-2dc2-4393-b933-4357205aec6e"
      },
      "execution_count": 3,
      "outputs": [
        {
          "output_type": "stream",
          "name": "stdout",
          "text": [
            "/content/drive/MyDrive/dlAssignments/Assignment1/NeuralNetwork\n"
          ]
        }
      ]
    },
    {
      "cell_type": "code",
      "execution_count": 4,
      "metadata": {
        "id": "SQqmoEcx6J9h"
      },
      "outputs": [],
      "source": [
        "import numpy as np\n",
        "import matplotlib.pyplot as plt\n",
        "import pandas as pd\n",
        "from tqdm import tqdm\n",
        "from sklearn.preprocessing import StandardScaler"
      ]
    },
    {
      "cell_type": "code",
      "source": [
        "class MyNeuralNetwork:\n",
        "    # Custom implementation of Neural Network Class\n",
        "    def __init__(self, N_inputs, N_outputs, N_layers=2, Layer_sizes=[10, 5], activation=\"sigmoid\", learning_rate=0.1, weight_init=\"random\", batch_size=1, num_epochs=200, backpropogation='gd', beta=0.9, gamma=0.999):\n",
        "        \"\"\"\n",
        "        N_inputs: input size\n",
        "        N_outputs: outputs size\n",
        "        N_layers: number of hidden layers\n",
        "        Layer_sizes: list of hidden layer sizes\n",
        "        activation: activation function to be used (ReLu, Leaky ReLu, sigmoid, linear, tanh, softmax)\n",
        "        learning_rate: learning rate\n",
        "        weight_init: weight initialization (zero, random, normal)\n",
        "        batch_size: batch size\n",
        "        num_epochs: number of epochs\n",
        "        \"\"\"\n",
        "        self.N_inputs = N_inputs\n",
        "        self.N_outputs = N_outputs\n",
        "        self.N_layers = N_layers\n",
        "        self.Layer_sizes = Layer_sizes\n",
        "        self.activation = activation\n",
        "        self.learning_rate = learning_rate\n",
        "        self.weight_init = weight_init\n",
        "        self.batch_size = batch_size\n",
        "        self.num_epochs = num_epochs\n",
        "        self.backpropogation = backpropogation\n",
        "        self.beta = beta\n",
        "        self.gamma = gamma\n",
        "        self.iterations = 1\n",
        "        np.random.seed(0)\n",
        "\n",
        "        model = {}\n",
        "        if weight_init == \"zero\":\n",
        "            model['W1'] = np.zeros((N_inputs, Layer_sizes[0]))\n",
        "            model['b1'] = np.zeros((1, Layer_sizes[0]))\n",
        "            for i in range(1, N_layers):\n",
        "                model['W' +\n",
        "                      str(i+1)] = np.zeros((Layer_sizes[i-1], Layer_sizes[i]))\n",
        "                model['b' + str(i+1)] = np.zeros((1, Layer_sizes[i]))\n",
        "            model['W' + str(N_layers+1)\n",
        "                  ] = np.zeros((Layer_sizes[-1], N_outputs))\n",
        "            model['b' + str(N_layers+1)] = np.zeros((1, N_outputs))\n",
        "        elif weight_init == \"random\":\n",
        "            model['W1'] = np.random.randn(N_inputs, Layer_sizes[0])*0.01\n",
        "            model['b1'] = np.zeros((1, Layer_sizes[0]))\n",
        "            for i in range(1, N_layers):\n",
        "                model['W' + str(i+1)] = np.random.randn(Layer_sizes[i-1],\n",
        "                                                        Layer_sizes[i])*0.01\n",
        "                model['b' + str(i+1)] = np.zeros((1, Layer_sizes[i]))\n",
        "            model['W' + str(N_layers+1)\n",
        "                  ] = np.random.randn(Layer_sizes[-1], N_outputs)*0.01\n",
        "            model['b' + str(N_layers+1)] = np.zeros((1, N_outputs))\n",
        "        elif weight_init == \"normal\":\n",
        "            model['W1'] = np.random.normal(\n",
        "                0, 1, (N_inputs, Layer_sizes[0]))*0.01\n",
        "            model['b1'] = np.zeros((1, Layer_sizes[0]))\n",
        "            for i in range(1, N_layers):\n",
        "                model['W' + str(i+1)] = np.random.normal(0, 1,\n",
        "                                                         (Layer_sizes[i-1], Layer_sizes[i]))*0.01\n",
        "                model['b' + str(i+1)] = np.zeros((1, Layer_sizes[i]))\n",
        "            model['W' + str(N_layers+1)] = np.random.normal(0,\n",
        "                                                            1, (Layer_sizes[-1], N_outputs))*0.01\n",
        "            model['b' + str(N_layers+1)] = np.zeros((1, N_outputs))\n",
        "        else:\n",
        "            print(\"Invalid weight initialization\")\n",
        "            return\n",
        "\n",
        "        self.model = model\n",
        "        self.activationOutputs = None\n",
        "\n",
        "    def relu_forward(self, X):\n",
        "        \"\"\"\n",
        "        ReLu activation function for forward propagation\n",
        "        X: input\n",
        "        return: output after applying the relu function\n",
        "        \"\"\"\n",
        "        return np.maximum(X, 0)\n",
        "\n",
        "    def relu_backward(self, X):\n",
        "        \"\"\"\n",
        "        ReLu activation function for backpropagation\n",
        "        X: input\n",
        "        return: output after applying the gradient of relu function\n",
        "        \"\"\"\n",
        "        return np.where(X > 0, 1, 0)\n",
        "\n",
        "    def leaky_relu_forward(self, X):\n",
        "        \"\"\"\n",
        "        Leaky ReLu activation function\n",
        "        X: input\n",
        "        return: output after applying the Leaky ReLu function\n",
        "        \"\"\"\n",
        "        return np.maximum(X, 0.01*X)\n",
        "\n",
        "    def leaky_relu_backward(self, X):\n",
        "        \"\"\"\n",
        "        Leaky ReLu activation function\n",
        "        X: input\n",
        "        return: output after applying the gradient of Leaky ReLu function\n",
        "        \"\"\"\n",
        "        return np.where(X > 0, 1, 0.01)\n",
        "\n",
        "    def sigmoid_forward(self, X):\n",
        "        \"\"\"\n",
        "        Sigmoid activation function\n",
        "        X: input\n",
        "        return: output after applying the sigmoid function\n",
        "        \"\"\"\n",
        "        return 1/(1+np.exp(-X))\n",
        "\n",
        "    def sigmoid_backward(self, X):\n",
        "        \"\"\"\n",
        "        Sigmoid activation function\n",
        "        X: input\n",
        "        return: output after applying the gradient of sigmoid function\n",
        "        \"\"\"\n",
        "        return self.sigmoid_forward(X)*(1-self.sigmoid_forward(X))\n",
        "        # return X*(1-X)\n",
        "\n",
        "    def linear_forward(self, X):\n",
        "        \"\"\"\n",
        "        Linear activation function\n",
        "        X: input\n",
        "        return: output after applying the linear function\n",
        "        \"\"\"\n",
        "        return X\n",
        "\n",
        "    def linear_backward(self, X):\n",
        "        \"\"\"\n",
        "        Linear activation function\n",
        "        X: input\n",
        "        return: output after applying the gradient of linear function\n",
        "        \"\"\"\n",
        "        return np.ones(X.shape)\n",
        "\n",
        "    def tanh_forward(self, X):\n",
        "        \"\"\"\n",
        "        Tanh activation function\n",
        "        X: input\n",
        "        return: output after applying the tanh function\n",
        "        \"\"\"\n",
        "        return (np.exp(X)-np.exp(-X))/(np.exp(X)+np.exp(-X))\n",
        "        # return np.tanh(X)\n",
        "\n",
        "    def tanh_backward(self, X):\n",
        "        \"\"\"\n",
        "        Tanh activation function\n",
        "        X: input\n",
        "        return: output after applying the gradient of tanh function\n",
        "        \"\"\"\n",
        "        return 1-(self.tanh_forward(X)**2)\n",
        "        # return 1-X**2\n",
        "\n",
        "    def softmax_forward(self, X):\n",
        "        \"\"\"\n",
        "        Softmax activation function\n",
        "        X: input\n",
        "        return: output after applying the softmax function\n",
        "        \"\"\"\n",
        "        exp = np.exp(X - np.max(X))\n",
        "        return exp/np.sum(exp, axis=1, keepdims=True)\n",
        "\n",
        "    def softmax_backward_actual(self, X):\n",
        "        \"\"\"\n",
        "        Softmax activation function\n",
        "        X: input\n",
        "        return: output after applying the gradient of softmax function\n",
        "        \"\"\"\n",
        "        s = self.softmax_forward(X).reshape(-1, 1)\n",
        "        return np.diagflat(s) - np.dot(s, s.T)\n",
        "\n",
        "    def softmax_backward(self, X):\n",
        "        \"\"\"\n",
        "        Softmax activation function\n",
        "        X: input\n",
        "        return: output after applying the gradient of softmax function\n",
        "        \"\"\"\n",
        "        return self.softmax_forward(X)*(1-self.softmax_forward(X))\n",
        "\n",
        "    def forward(self, X):\n",
        "        \"\"\"\n",
        "        Forward propagation\n",
        "        X: input\n",
        "        return: output after applying the activation function\n",
        "        \"\"\"\n",
        "        if self.activation == \"relu\":\n",
        "            currentActivationFuntion = self.relu_forward\n",
        "        elif self.activation == \"leaky_relu\":\n",
        "            currentActivationFuntion = self.leaky_relu_forward\n",
        "        elif self.activation == \"sigmoid\":\n",
        "            currentActivationFuntion = self.sigmoid_forward\n",
        "        elif self.activation == \"linear\":\n",
        "            currentActivationFuntion = self.linear_forward\n",
        "        elif self.activation == \"tanh\":\n",
        "            currentActivationFuntion = self.tanh_forward\n",
        "        elif self.activation == \"softmax\":\n",
        "            currentActivationFuntion = self.softmax_forward\n",
        "        else:\n",
        "            raise ValueError(\"Invalid activation function\")\n",
        "\n",
        "        self.activationOutputs = {}\n",
        "\n",
        "        self.activationOutputs['Z1'] = np.dot(\n",
        "            X, self.model['W1']) + self.model['b1']\n",
        "        self.activationOutputs['A1'] = currentActivationFuntion(\n",
        "            self.activationOutputs['Z1'])\n",
        "        # self.activationOutputs['A1'] = np.tanh(self.activationOutputs['Z1'])\n",
        "\n",
        "        for i in range(2, self.N_layers+1):\n",
        "            self.activationOutputs['Z' + str(i)] = np.dot(self.activationOutputs['A' + str(\n",
        "                i-1)], self.model['W' + str(i)]) + self.model['b' + str(i)]\n",
        "            self.activationOutputs['A' + str(i)] = currentActivationFuntion(\n",
        "                self.activationOutputs['Z' + str(i)])\n",
        "\n",
        "        self.activationOutputs['Z' + str(self.N_layers+1)] = np.dot(self.activationOutputs['A' + str(\n",
        "            self.N_layers)], self.model['W' + str(self.N_layers+1)]) + self.model['b' + str(self.N_layers+1)]\n",
        "        self.activationOutputs['A' + str(self.N_layers+1)] = self.softmax_forward(\n",
        "            self.activationOutputs['Z' + str(self.N_layers+1)])\n",
        "\n",
        "        return self.activationOutputs['A' + str(self.N_layers+1)]\n",
        "\n",
        "    def backward(self, X, Y):\n",
        "        \"\"\"\n",
        "        Backward propagation\n",
        "        X: input\n",
        "        Y: output\n",
        "        \"\"\"\n",
        "        if self.activation == \"relu\":\n",
        "            currentActivationFuntion = self.relu_backward\n",
        "        elif self.activation == \"leaky_relu\":\n",
        "            currentActivationFuntion = self.leaky_relu_backward\n",
        "        elif self.activation == \"sigmoid\":\n",
        "            currentActivationFuntion = self.sigmoid_backward\n",
        "        elif self.activation == \"linear\":\n",
        "            currentActivationFuntion = self.linear_backward\n",
        "        elif self.activation == \"tanh\":\n",
        "            currentActivationFuntion = self.tanh_backward\n",
        "        elif self.activation == \"softmax\":\n",
        "            currentActivationFuntion = self.softmax_backward\n",
        "        else:\n",
        "            raise ValueError(\"Invalid activation function\")\n",
        "\n",
        "        # computing the gradients\n",
        "        self.gradients = {}\n",
        "        self.gradients['delta' + str(self.N_layers+1)] = (\n",
        "            self.activationOutputs['A' + str(self.N_layers+1)] - Y)\n",
        "        self.gradients['dW' + str(self.N_layers+1)] = (1/len(X)) * np.dot(self.activationOutputs['A' + str(\n",
        "            self.N_layers)].T, self.gradients['delta' + str(self.N_layers+1)])\n",
        "        self.gradients['db' + str(self.N_layers+1)] = (1/len(X)) * np.sum(\n",
        "            self.gradients['delta' + str(self.N_layers+1)], axis=0, keepdims=True)\n",
        "\n",
        "        for i in range(self.N_layers, 1, -1):\n",
        "            self.gradients['delta' + str(i)] = np.dot(self.gradients['delta' + str(i+1)], self.model['W' + str(\n",
        "                i+1)].T) * currentActivationFuntion(self.activationOutputs['Z' + str(i)])\n",
        "            self.gradients['dW' + str(i)] = (1/len(X)) * np.dot(\n",
        "                self.activationOutputs['A' + str(i-1)].T, self.gradients['delta' + str(i)])\n",
        "            self.gradients['db' + str(i)] = (1/len(X)) * np.sum(\n",
        "                self.gradients['delta' + str(i)], axis=0, keepdims=True)\n",
        "\n",
        "        self.gradients['delta1'] = np.dot(\n",
        "            self.gradients['delta2'], self.model['W2'].T) * currentActivationFuntion(self.activationOutputs['Z1'])\n",
        "        self.gradients['dW1'] = (1/len(X)) * \\\n",
        "            np.dot(X.T, self.gradients['delta1'])\n",
        "        self.gradients['db1'] = (\n",
        "            1/len(X)) * np.sum(self.gradients['delta1'], axis=0, keepdims=True)\n",
        "\n",
        "        # updating the model parameters\n",
        "        if self.backpropogation == 'gd':\n",
        "            for i in range(1, self.N_layers+2):\n",
        "                self.model['W' + str(i)] -= self.learning_rate * \\\n",
        "                    self.gradients['dW' + str(i)]\n",
        "                self.model['b' + str(i)] -= self.learning_rate * \\\n",
        "                    self.gradients['db' + str(i)]\n",
        "\n",
        "        elif self.backpropogation == 'momentum':\n",
        "            for i in range(1, self.N_layers+2):\n",
        "                if ('v_W' + str(i)) not in self.model:\n",
        "                    self.model['v_W' + str(i)] = 0\n",
        "                if ('v_b' + str(i)) not in self.model:\n",
        "                    self.model['v_b' + str(i)] = 0\n",
        "                self.model['v_W' + str(i)] = (self.beta*self.model['v_W' + str(i)]) - (self.learning_rate * self.gradients['dW' + str(i)])\n",
        "                self.model['v_b' + str(i)] = (self.beta*self.model['v_b' + str(i)]) - (self.learning_rate * self.gradients['db' + str(i)])\n",
        "                self.model['W' + str(i)] = self.model['W' + str(i)] + self.model['v_W' + str(i)]\n",
        "                self.model['b' + str(i)] = self.model['b' + str(i)] + self.model['v_b' + str(i)]\n",
        "\n",
        "        elif self.backpropogation == 'nag':\n",
        "            for i in range(1, self.N_layers+2):\n",
        "                if ('v_W' + str(i)) not in self.model:\n",
        "                    self.model['v_W' + str(i)] = 0\n",
        "                if ('v_b' + str(i)) not in self.model:\n",
        "                    self.model['v_b' + str(i)] = 0\n",
        "                prevV_W = self.model['v_W' + str(i)]\n",
        "                prevV_b = self.model['v_b' + str(i)]\n",
        "                self.model['v_W' + str(i)] = (self.beta*self.model['v_W' + str(i)]) - (self.learning_rate * self.gradients['dW' + str(i)])\n",
        "                self.model['v_b' + str(i)] = (self.beta*self.model['v_b' + str(i)]) - (self.learning_rate * self.gradients['db' + str(i)])\n",
        "                self.model['W' + str(i)] = self.model['W' + str(i)] + ((1 + self.beta)*self.model['v_W' + str(i)] - self.beta*prevV_W)\n",
        "                self.model['b' + str(i)] = self.model['b' + str(i)] + ((1 + self.beta)*self.model['v_b' + str(i)] - self.beta*prevV_b)\n",
        "        \n",
        "        elif self.backpropogation == 'adagrad':\n",
        "            epsilon = 0.0001\n",
        "            for i in range(1, self.N_layers+2):\n",
        "                if ('W_squaredSum' + str(i)) not in self.model:\n",
        "                    self.model['W_squaredSum' + str(i)] = [0]\n",
        "                if ('b_squaredSum' + str(i)) not in self.model:\n",
        "                    self.model['b_squaredSum' + str(i)] = [0]\n",
        "                self.model['W_squaredSum' + str(i)].append(self.model['W_squaredSum' + str(i)][-1] + np.square(self.gradients['dW' + str(i)]))\n",
        "                self.model['b_squaredSum' + str(i)].append(self.model['b_squaredSum' + str(i)][-1] + np.square(self.gradients['db' + str(i)]))\n",
        "                self.model['W' + str(i)] = self.model['W' + str(i)] - (self.learning_rate*self.gradients['dW' + str(i)])/np.sqrt(self.model['W_squaredSum' + str(i)][-1] + epsilon)\n",
        "                self.model['b' + str(i)] = self.model['b' + str(i)] - (self.learning_rate*self.gradients['db' + str(i)])/np.sqrt(self.model['b_squaredSum' + str(i)][-1] + epsilon)\n",
        "\n",
        "        elif self.backpropogation == 'rmsprop':\n",
        "            epsilon = 0.1\n",
        "            for i in range(1, self.N_layers+2):\n",
        "                if ('v_W' + str(i)) not in self.model:\n",
        "                    self.model['v_W' + str(i)] = 0\n",
        "                if ('v_b' + str(i)) not in self.model:\n",
        "                    self.model['v_b' + str(i)] = 0\n",
        "                self.model['v_W' + str(i)] = self.beta*self.model['v_W' + str(i)] + (1-self.beta)*np.square(self.gradients['dW' + str(i)])\n",
        "                self.model['v_b' + str(i)] = self.beta*self.model['v_b' + str(i)] + (1-self.beta)*np.square(self.gradients['db' + str(i)])\n",
        "                self.model['W' + str(i)] = self.model['W' + str(i)] - (self.learning_rate*self.gradients['dW' + str(i)])/np.sqrt(self.model['v_W' + str(i)] + epsilon)\n",
        "                self.model['b' + str(i)] = self.model['b' + str(i)] - (self.learning_rate*self.gradients['db' + str(i)])/np.sqrt(self.model['v_b' + str(i)] + epsilon)\n",
        "\n",
        "        elif self.backpropogation == 'adam':\n",
        "            epsilon = 0.001\n",
        "            for i in range(1, self.N_layers+2):\n",
        "                if ('v_W' + str(i)) not in self.model:\n",
        "                    self.model['v_W' + str(i)] = 0\n",
        "                if ('v_b' + str(i)) not in self.model:\n",
        "                    self.model['v_b' + str(i)] = 0\n",
        "                if ('s_W' + str(i)) not in self.model:\n",
        "                    self.model['s_W' + str(i)] = 0\n",
        "                if ('s_b' + str(i)) not in self.model:\n",
        "                    self.model['s_b' + str(i)] = 0\n",
        "                self.model['v_W' + str(i)] = self.beta*self.model['v_W' + str(i)] - (1-self.beta)*self.gradients['dW' + str(i)]\n",
        "                self.model['v_b' + str(i)] = self.beta*self.model['v_b' + str(i)] - (1-self.beta)*self.gradients['db' + str(i)]\n",
        "                self.model['s_W' + str(i)] = self.gamma*self.model['s_W' + str(i)] + (1 - self.gamma)*np.square(self.gradients['dW' + str(i)])\n",
        "                self.model['s_b' + str(i)] = self.gamma*self.model['s_b' + str(i)] + (1 - self.gamma)*np.square(self.gradients['db' + str(i)])\n",
        "                v_W = self.model['v_W' + str(i)]/(1-np.power(self.beta, self.iterations))\n",
        "                v_b = self.model['v_b' + str(i)]/(1-np.power(self.beta, self.iterations))\n",
        "                s_W = self.model['s_W' + str(i)]/(1-np.power(self.gamma, self.iterations)) \n",
        "                s_b = self.model['s_b' + str(i)]/(1-np.power(self.gamma, self.iterations))\n",
        "                # v_W = self.model['v_W' + str(i)]\n",
        "                # v_b = self.model['v_b' + str(i)]\n",
        "                # s_W = self.model['s_W' + str(i)]\n",
        "                # s_b = self.model['s_b' + str(i)]\n",
        "                # print(np.sqrt(s_W), np.sqrt(s_b))\n",
        "                self.model['W' + str(i)] = self.model['W' + str(i)] + (self.learning_rate*v_W)/(np.sqrt(s_W) + epsilon)\n",
        "                self.model['b' + str(i)] = self.model['b' + str(i)] + (self.learning_rate*v_b)/(np.sqrt(s_b) + epsilon)\n",
        "\n",
        "        else:\n",
        "            raise ValueError(\"Invalid backpropogation algorithm\")\n",
        "\n",
        "    def oneHotEncoder(self, y, n_classes):\n",
        "        \"\"\"\n",
        "        One hot encoder\n",
        "        y: input\n",
        "        return: encoded output\n",
        "        \"\"\"\n",
        "        m = y.shape[0]\n",
        "        y_oht = np.zeros((m, n_classes))\n",
        "        y_oht[np.arange(m), y] = 1\n",
        "        return y_oht\n",
        "\n",
        "    def crossEntropyLoss(self, y_oht, y_prob):\n",
        "        \"\"\"\n",
        "        Cross entropy loss\n",
        "        y_oht: one hot encoded output\n",
        "        y_prob: probabilities for classes\n",
        "        return: cross entropy loss\n",
        "        \"\"\"\n",
        "        return -np.mean(y_oht * np.log(y_prob + 1e-8))\n",
        "\n",
        "    def fit(self, X, y, validX=None, validY=None, logs=True):\n",
        "        \"\"\"\n",
        "        Fit the model to the data\n",
        "        X: input\n",
        "        Y: output\n",
        "        epochs: number of epochs\n",
        "        \"\"\"\n",
        "        train_losses = []\n",
        "        valid_losses = []\n",
        "        train_accs = []\n",
        "        valid_accs = []\n",
        "        classes = self.N_outputs\n",
        "        batchSize = self.batch_size\n",
        "        y_oht = self.oneHotEncoder(y, classes)\n",
        "        if validX is not None and validY is not None:\n",
        "            y_oht_valid = self.oneHotEncoder(validY, classes)\n",
        "        for i in range(self.num_epochs):\n",
        "            for j in range(0, X.shape[0], batchSize):\n",
        "                X_batch = X[j:j+batchSize]\n",
        "                y_batch = y_oht[j:j+batchSize]\n",
        "                y_ = self.forward(X_batch)\n",
        "                self.backward(X_batch, y_batch)\n",
        "            y_ = self.forward(X)\n",
        "            train_loss = self.crossEntropyLoss(y_oht, y_)\n",
        "            train_losses.append(train_loss)\n",
        "            if validX is not None and validY is not None:\n",
        "                y_valid = self.forward(validX)\n",
        "                valid_loss = self.crossEntropyLoss(y_oht_valid, y_valid)\n",
        "                valid_losses.append(valid_loss)\n",
        "                validAcc = self.score(validX, validY)\n",
        "                valid_accs.append(validAcc)\n",
        "            trainAcc = self.score(X, y)\n",
        "            train_accs.append(trainAcc)\n",
        "            if logs:\n",
        "                print(\"Epoch: {}, Loss: {}, Score: {}\".format(\n",
        "                    i, train_loss, trainAcc))\n",
        "            self.iterations += 1\n",
        "        if validX is not None and validY is not None:\n",
        "            return train_losses, valid_losses, train_accs, valid_accs\n",
        "        return train_losses, train_accs\n",
        "\n",
        "    def predict_proba(self, X):\n",
        "        \"\"\"\n",
        "        Predict probabilities\n",
        "        X: input\n",
        "        return: probabilities\n",
        "        \"\"\"\n",
        "        return self.forward(X)\n",
        "\n",
        "    def predict(self, X):\n",
        "        \"\"\"\n",
        "        Predict classes\n",
        "        X: input\n",
        "        return: classes\n",
        "        \"\"\"\n",
        "        return np.argmax(self.forward(X), axis=1)\n",
        "\n",
        "    def score(self, X, y):\n",
        "        \"\"\"\n",
        "        Score the model\n",
        "        X: input\n",
        "        Y: output\n",
        "        return: accuracy\n",
        "        \"\"\"\n",
        "        y_pred = self.predict(X)\n",
        "        return np.mean(y_pred == y)*100\n",
        "\n",
        "    def saveWeights(self, filename):\n",
        "        \"\"\"\n",
        "        Save the weights\n",
        "        filename: name of the file\n",
        "        \"\"\"\n",
        "        np.save(filename, self.model, allow_pickle=True)\n",
        "\n",
        "    def loadWeights(self, filename):\n",
        "        \"\"\"\n",
        "        Load the weights\n",
        "        filename: name of the file\n",
        "        \"\"\"\n",
        "        self.model = np.load(filename, allow_pickle=True).item()"
      ],
      "metadata": {
        "id": "kiaaIJWR6gu3"
      },
      "execution_count": 146,
      "outputs": []
    },
    {
      "cell_type": "code",
      "source": [
        "ls Data"
      ],
      "metadata": {
        "colab": {
          "base_uri": "https://localhost:8080/"
        },
        "id": "GLicGqUF6q0U",
        "outputId": "f1a013ef-5a91-4c09-9c8f-5166c44041b1"
      },
      "execution_count": 115,
      "outputs": [
        {
          "output_type": "stream",
          "name": "stdout",
          "text": [
            "fashion-mnist_test.csv   t10k-images-idx3-ubyte  train-images-idx3-ubyte\n",
            "fashion-mnist_train.csv  t10k-labels-idx1-ubyte  train-labels-idx1-ubyte\n"
          ]
        }
      ]
    },
    {
      "cell_type": "code",
      "source": [
        "trainData = pd.read_csv('./Data/fashion-mnist_train.csv')\n",
        "testData = pd.read_csv('./Data/fashion-mnist_test.csv')"
      ],
      "metadata": {
        "id": "pUZ02yAS98rT"
      },
      "execution_count": 116,
      "outputs": []
    },
    {
      "cell_type": "code",
      "source": [
        "trainData.shape, testData.shape"
      ],
      "metadata": {
        "colab": {
          "base_uri": "https://localhost:8080/"
        },
        "id": "f_y2CllL_LMW",
        "outputId": "4af6d4ce-559e-4be4-86fa-02ce5eb65f5f"
      },
      "execution_count": 117,
      "outputs": [
        {
          "output_type": "execute_result",
          "data": {
            "text/plain": [
              "((60000, 785), (10000, 785))"
            ]
          },
          "metadata": {},
          "execution_count": 117
        }
      ]
    },
    {
      "cell_type": "code",
      "source": [
        "trainData = trainData.values\n",
        "testData = testData.values"
      ],
      "metadata": {
        "id": "ccVNYnvSAGYN"
      },
      "execution_count": 118,
      "outputs": []
    },
    {
      "cell_type": "code",
      "source": [
        "trainX = trainData[:, 1:]\n",
        "trainY = trainData[:, 0]\n",
        "testX = testData[:, 1:]\n",
        "testY = testData[:, 0]"
      ],
      "metadata": {
        "id": "XTnVSITM_PFG"
      },
      "execution_count": 119,
      "outputs": []
    },
    {
      "cell_type": "code",
      "source": [
        "trainX.shape, trainY.shape, testX.shape, testY.shape"
      ],
      "metadata": {
        "colab": {
          "base_uri": "https://localhost:8080/"
        },
        "id": "sMbsi3AIAAYT",
        "outputId": "fab91f27-3833-4cb8-faf1-4c1053f19fa2"
      },
      "execution_count": 120,
      "outputs": [
        {
          "output_type": "execute_result",
          "data": {
            "text/plain": [
              "((60000, 784), (60000,), (10000, 784), (10000,))"
            ]
          },
          "metadata": {},
          "execution_count": 120
        }
      ]
    },
    {
      "cell_type": "code",
      "source": [
        "#To visualize this, I have to convert it to a 2D array of size 28 x 28\n",
        "def drawImg(X, Y, i):\n",
        "    plt.imshow(X[i].reshape(28, 28), cmap='gray')\n",
        "    plt.title(\"Label \" + str(Y[i]))\n",
        "    plt.show()"
      ],
      "metadata": {
        "id": "rJ0cs4mJAQKM"
      },
      "execution_count": 121,
      "outputs": []
    },
    {
      "cell_type": "code",
      "source": [
        "for i in range(10):\n",
        "    drawImg(trainX, trainY, i)"
      ],
      "metadata": {
        "colab": {
          "base_uri": "https://localhost:8080/",
          "height": 1000
        },
        "id": "7yQ4zHd1AoIe",
        "outputId": "2cf69b76-f647-47b8-f88a-ae5aaefedd15"
      },
      "execution_count": 122,
      "outputs": [
        {
          "output_type": "display_data",
          "data": {
            "image/png": "[encoded data removed]",
            "text/plain": [
              "<Figure size 432x288 with 1 Axes>"
            ]
          },
          "metadata": {
            "needs_background": "light"
          }
        },
        {
          "output_type": "display_data",
          "data": {
            "image/png": "[encoded data removed]",
            "text/plain": [
              "<Figure size 432x288 with 1 Axes>"
            ]
          },
          "metadata": {
            "needs_background": "light"
          }
        },
        {
          "output_type": "display_data",
          "data": {
            "image/png": "[encoded data removed]",
            "text/plain": [
              "<Figure size 432x288 with 1 Axes>"
            ]
          },
          "metadata": {
            "needs_background": "light"
          }
        },
        {
          "output_type": "display_data",
          "data": {
            "image/png": "[encoded data removed]",
            "text/plain": [
              "<Figure size 432x288 with 1 Axes>"
            ]
          },
          "metadata": {
            "needs_background": "light"
          }
        },
        {
          "output_type": "display_data",
          "data": {
            "image/png": "[encoded data removed]",
            "text/plain": [
              "<Figure size 432x288 with 1 Axes>"
            ]
          },
          "metadata": {
            "needs_background": "light"
          }
        },
        {
          "output_type": "display_data",
          "data": {
            "image/png": "[encoded data removed]",
            "text/plain": [
              "<Figure size 432x288 with 1 Axes>"
            ]
          },
          "metadata": {
            "needs_background": "light"
          }
        },
        {
          "output_type": "display_data",
          "data": {
            "image/png": "[encoded data removed]",
            "text/plain": [
              "<Figure size 432x288 with 1 Axes>"
            ]
          },
          "metadata": {
            "needs_background": "light"
          }
        },
        {
          "output_type": "display_data",
          "data": {
            "image/png": "[encoded data removed]",
            "text/plain": [
              "<Figure size 432x288 with 1 Axes>"
            ]
          },
          "metadata": {
            "needs_background": "light"
          }
        },
        {
          "output_type": "display_data",
          "data": {
            "image/png": "[encoded data removed]",
            "text/plain": [
              "<Figure size 432x288 with 1 Axes>"
            ]
          },
          "metadata": {
            "needs_background": "light"
          }
        },
        {
          "output_type": "display_data",
          "data": {
            "image/png": "[encoded data removed]",
            "text/plain": [
              "<Figure size 432x288 with 1 Axes>"
            ]
          },
          "metadata": {
            "needs_background": "light"
          }
        }
      ]
    },
    {
      "cell_type": "code",
      "source": [
        "normalize = StandardScaler()\n",
        "trainX = normalize.fit_transform(trainX)\n",
        "testX = normalize.transform(testX)"
      ],
      "metadata": {
        "id": "jJA8oK0ZAuCT"
      },
      "execution_count": 123,
      "outputs": []
    },
    {
      "cell_type": "code",
      "source": [
        "# adam\n",
        "model = MyNeuralNetwork(N_inputs=784, N_outputs=10, N_layers=1, Layer_sizes=[\n",
        "                        256], activation=\"relu\", learning_rate=0.001, weight_init=\"random\", num_epochs=50, batch_size=len(trainX), backpropogation='adam')"
      ],
      "metadata": {
        "id": "1EM4p-Rg8ANU"
      },
      "execution_count": 147,
      "outputs": []
    },
    {
      "cell_type": "code",
      "source": [
        "trainLoss, testLoss, trainAccs, testAccs = model.fit(\n",
        "    trainX, trainY, validX=testX, validY=testY, logs=True)"
      ],
      "metadata": {
        "colab": {
          "base_uri": "https://localhost:8080/"
        },
        "id": "4ktUG0-C8C-1",
        "outputId": "66b984c4-affc-4ce6-917b-8a9c8c52dac7"
      },
      "execution_count": 148,
      "outputs": [
        {
          "output_type": "stream",
          "name": "stdout",
          "text": [
            "Epoch: 0, Loss: 0.22186197683874342, Score: 55.59166666666666\n",
            "Epoch: 1, Loss: 0.2131715093190313, Score: 61.31333333333333\n",
            "Epoch: 2, Loss: 0.20381768037386774, Score: 63.38333333333333\n",
            "Epoch: 3, Loss: 0.19353731935355542, Score: 64.03166666666667\n",
            "Epoch: 4, Loss: 0.1824570949531362, Score: 64.39666666666668\n",
            "Epoch: 5, Loss: 0.170915750714597, Score: 64.70666666666666\n",
            "Epoch: 6, Loss: 0.15937920759417978, Score: 64.96333333333332\n",
            "Epoch: 7, Loss: 0.14834711223262337, Score: 65.245\n",
            "Epoch: 8, Loss: 0.13824055165237165, Score: 65.54333333333334\n",
            "Epoch: 9, Loss: 0.12931177167797855, Score: 65.745\n",
            "Epoch: 10, Loss: 0.12162791543170051, Score: 65.95\n",
            "Epoch: 11, Loss: 0.11511874987880491, Score: 66.13166666666666\n",
            "Epoch: 12, Loss: 0.10963500326186035, Score: 66.19666666666667\n",
            "Epoch: 13, Loss: 0.1049858029809867, Score: 66.43666666666667\n",
            "Epoch: 14, Loss: 0.10096906677577928, Score: 66.68666666666667\n",
            "Epoch: 15, Loss: 0.09740422528737626, Score: 67.11333333333333\n",
            "Epoch: 16, Loss: 0.09416144365605707, Score: 67.69666666666667\n",
            "Epoch: 17, Loss: 0.0911694823712368, Score: 68.48666666666666\n",
            "Epoch: 18, Loss: 0.0884012252326238, Score: 69.25\n",
            "Epoch: 19, Loss: 0.08584814855082125, Score: 70.06166666666667\n",
            "Epoch: 20, Loss: 0.08349725945375773, Score: 70.795\n",
            "Epoch: 21, Loss: 0.08132607557745791, Score: 71.44833333333334\n",
            "Epoch: 22, Loss: 0.07931267760398193, Score: 72.14333333333333\n",
            "Epoch: 23, Loss: 0.07744471837136918, Score: 72.80499999999999\n",
            "Epoch: 24, Loss: 0.07572141822327079, Score: 73.36\n",
            "Epoch: 25, Loss: 0.07414382734794897, Score: 73.79833333333333\n",
            "Epoch: 26, Loss: 0.07270657621101005, Score: 74.12666666666667\n",
            "Epoch: 27, Loss: 0.0713939572403853, Score: 74.34166666666667\n",
            "Epoch: 28, Loss: 0.07018306417638902, Score: 74.61\n",
            "Epoch: 29, Loss: 0.06905197166868103, Score: 74.84166666666667\n",
            "Epoch: 30, Loss: 0.06798419728264891, Score: 75.11166666666666\n",
            "Epoch: 31, Loss: 0.06697097820275662, Score: 75.41\n",
            "Epoch: 32, Loss: 0.06600910932459611, Score: 75.64\n",
            "Epoch: 33, Loss: 0.06509624677175804, Score: 75.92333333333333\n",
            "Epoch: 34, Loss: 0.06422851228676935, Score: 76.13166666666666\n",
            "Epoch: 35, Loss: 0.0634006368912053, Score: 76.44666666666666\n",
            "Epoch: 36, Loss: 0.06260809150320926, Score: 76.73833333333333\n",
            "Epoch: 37, Loss: 0.0618477926751979, Score: 77.02833333333334\n",
            "Epoch: 38, Loss: 0.0611168864971827, Score: 77.255\n",
            "Epoch: 39, Loss: 0.060413950897818154, Score: 77.49333333333334\n",
            "Epoch: 40, Loss: 0.059735504395126385, Score: 77.8\n",
            "Epoch: 41, Loss: 0.0590787809433806, Score: 78.10166666666667\n",
            "Epoch: 42, Loss: 0.05844223923724878, Score: 78.35166666666666\n",
            "Epoch: 43, Loss: 0.05782724271121267, Score: 78.67833333333333\n",
            "Epoch: 44, Loss: 0.05723650781158992, Score: 78.93166666666667\n",
            "Epoch: 45, Loss: 0.05667290950941971, Score: 79.13333333333334\n",
            "Epoch: 46, Loss: 0.056137170699795555, Score: 79.39\n",
            "Epoch: 47, Loss: 0.0556268479187825, Score: 79.62\n",
            "Epoch: 48, Loss: 0.055138982146448995, Score: 79.82333333333334\n",
            "Epoch: 49, Loss: 0.054671652104236974, Score: 80.01833333333333\n"
          ]
        }
      ]
    },
    {
      "cell_type": "code",
      "source": [
        "print(\"Test Accuracy ReLU: {}\".format(model.score(testX, testY)))"
      ],
      "metadata": {
        "colab": {
          "base_uri": "https://localhost:8080/"
        },
        "id": "Ik-QzVh58G6Z",
        "outputId": "40682889-e9ac-4859-f6b2-5ae530b1c253"
      },
      "execution_count": 149,
      "outputs": [
        {
          "output_type": "stream",
          "name": "stdout",
          "text": [
            "Test Accuracy ReLU: 80.34\n"
          ]
        }
      ]
    },
    {
      "cell_type": "code",
      "source": [
        "# rmsprop\n",
        "model = MyNeuralNetwork(N_inputs=784, N_outputs=10, N_layers=1, Layer_sizes=[\n",
        "                        256], activation=\"relu\", learning_rate=0.08, weight_init=\"random\", num_epochs=50, batch_size=len(trainX), backpropogation='rmsprop')"
      ],
      "metadata": {
        "id": "MhA3bcAh2BQc"
      },
      "execution_count": 62,
      "outputs": []
    },
    {
      "cell_type": "code",
      "source": [
        "trainLoss, testLoss, trainAccs, testAccs = model.fit(\n",
        "    trainX, trainY, validX=testX, validY=testY, logs=True)"
      ],
      "metadata": {
        "colab": {
          "base_uri": "https://localhost:8080/"
        },
        "id": "zwgPQoWJ2F36",
        "outputId": "9ee2a919-f172-4f50-8e20-5136ceff9758"
      },
      "execution_count": 63,
      "outputs": [
        {
          "output_type": "stream",
          "name": "stdout",
          "text": [
            "Epoch: 0, Loss: 0.22135004162616867, Score: 56.96666666666667\n",
            "Epoch: 1, Loss: 0.21002696153858322, Score: 63.834999999999994\n",
            "Epoch: 2, Loss: 0.1926974130531193, Score: 63.690000000000005\n",
            "Epoch: 3, Loss: 0.1689937687278571, Score: 61.586666666666666\n",
            "Epoch: 4, Loss: 0.14522015277207373, Score: 59.973333333333336\n",
            "Epoch: 5, Loss: 0.12725919447384532, Score: 61.526666666666664\n",
            "Epoch: 6, Loss: 0.11490772900660474, Score: 64.66333333333333\n",
            "Epoch: 7, Loss: 0.10596422131315256, Score: 67.30833333333334\n",
            "Epoch: 8, Loss: 0.09905553510928601, Score: 68.93\n",
            "Epoch: 9, Loss: 0.09342695165674651, Score: 70.19333333333333\n",
            "Epoch: 10, Loss: 0.08870511647714999, Score: 71.17833333333333\n",
            "Epoch: 11, Loss: 0.08470173175886034, Score: 72.00166666666667\n",
            "Epoch: 12, Loss: 0.08129016976065913, Score: 72.72166666666666\n",
            "Epoch: 13, Loss: 0.07836662873574185, Score: 73.28833333333333\n",
            "Epoch: 14, Loss: 0.0758492873887636, Score: 73.80499999999999\n",
            "Epoch: 15, Loss: 0.07367892394799315, Score: 74.30333333333333\n",
            "Epoch: 16, Loss: 0.07181160997003286, Score: 74.71333333333334\n",
            "Epoch: 17, Loss: 0.07023537760362308, Score: 74.95833333333334\n",
            "Epoch: 18, Loss: 0.06894970927403964, Score: 75.32\n",
            "Epoch: 19, Loss: 0.06809468545805264, Score: 75.18666666666667\n",
            "Epoch: 20, Loss: 0.0677163964626824, Score: 75.315\n",
            "Epoch: 21, Loss: 0.06855853627758751, Score: 74.25833333333334\n",
            "Epoch: 22, Loss: 0.0694141069339505, Score: 74.12666666666667\n",
            "Epoch: 23, Loss: 0.07174519461673481, Score: 72.60666666666667\n",
            "Epoch: 24, Loss: 0.06971361734580847, Score: 74.03999999999999\n",
            "Epoch: 25, Loss: 0.06867616240650082, Score: 72.885\n",
            "Epoch: 26, Loss: 0.06710004114466504, Score: 74.83166666666666\n",
            "Epoch: 27, Loss: 0.06568725403935287, Score: 73.84666666666668\n",
            "Epoch: 28, Loss: 0.06392548500675437, Score: 75.96000000000001\n",
            "Epoch: 29, Loss: 0.061951253939541824, Score: 75.78833333333334\n",
            "Epoch: 30, Loss: 0.060448987675998114, Score: 77.49833333333333\n",
            "Epoch: 31, Loss: 0.05922839610539191, Score: 77.70166666666667\n",
            "Epoch: 32, Loss: 0.05831405092049867, Score: 78.425\n",
            "Epoch: 33, Loss: 0.057512668064389726, Score: 78.71166666666667\n",
            "Epoch: 34, Loss: 0.056858462273818904, Score: 78.99666666666667\n",
            "Epoch: 35, Loss: 0.056258696117225275, Score: 79.39333333333335\n",
            "Epoch: 36, Loss: 0.0557472506361599, Score: 79.42833333333333\n",
            "Epoch: 37, Loss: 0.055281479851863845, Score: 79.83833333333334\n",
            "Epoch: 38, Loss: 0.054885484357353645, Score: 79.78\n",
            "Epoch: 39, Loss: 0.05455201227921436, Score: 80.11500000000001\n",
            "Epoch: 40, Loss: 0.05429227021513771, Score: 79.90333333333334\n",
            "Epoch: 41, Loss: 0.054138096507230726, Score: 80.32166666666667\n",
            "Epoch: 42, Loss: 0.054061074233918115, Score: 79.925\n",
            "Epoch: 43, Loss: 0.054144666154039844, Score: 80.30833333333334\n",
            "Epoch: 44, Loss: 0.054235872759329555, Score: 79.76333333333334\n",
            "Epoch: 45, Loss: 0.054450465419222105, Score: 80.16666666666666\n",
            "Epoch: 46, Loss: 0.05442416879619271, Score: 79.64666666666666\n",
            "Epoch: 47, Loss: 0.05429883700602411, Score: 80.32666666666667\n",
            "Epoch: 48, Loss: 0.05379900848862416, Score: 79.975\n",
            "Epoch: 49, Loss: 0.05315080901130391, Score: 80.85333333333334\n"
          ]
        }
      ]
    },
    {
      "cell_type": "code",
      "source": [
        "print(\"Test Accuracy ReLU: {}\".format(model.score(testX, testY)))"
      ],
      "metadata": {
        "colab": {
          "base_uri": "https://localhost:8080/"
        },
        "id": "70zQAIq45CB-",
        "outputId": "0145f5b6-d5ad-4233-d579-e33a95f381f5"
      },
      "execution_count": 64,
      "outputs": [
        {
          "output_type": "stream",
          "name": "stdout",
          "text": [
            "Test Accuracy ReLU: 80.84\n"
          ]
        }
      ]
    },
    {
      "cell_type": "code",
      "source": [
        "# adagrad\n",
        "model = MyNeuralNetwork(N_inputs=784, N_outputs=10, N_layers=1, Layer_sizes=[\n",
        "                        256], activation=\"relu\", learning_rate=0.08, weight_init=\"random\", num_epochs=50, batch_size=len(trainX), backpropogation='adagrad')"
      ],
      "metadata": {
        "id": "_a6gjIS8zv_5"
      },
      "execution_count": 42,
      "outputs": []
    },
    {
      "cell_type": "code",
      "source": [
        "trainLoss, testLoss, trainAccs, testAccs = model.fit(\n",
        "    trainX, trainY, validX=testX, validY=testY, logs=True)"
      ],
      "metadata": {
        "colab": {
          "base_uri": "https://localhost:8080/"
        },
        "id": "PIZIsTbIz19O",
        "outputId": "025ef5b9-806d-4964-c6dc-7d9a87fbaeb8"
      },
      "execution_count": 43,
      "outputs": [
        {
          "output_type": "stream",
          "name": "stdout",
          "text": [
            "Epoch: 0, Loss: 0.3233817708063344, Score: 20.163333333333334\n",
            "Epoch: 1, Loss: 0.7896464877076989, Score: 34.968333333333334\n",
            "Epoch: 2, Loss: 1.0817646891776578, Score: 31.255\n",
            "Epoch: 3, Loss: 1.4240663491653913, Score: 16.32166666666667\n",
            "Epoch: 4, Loss: 1.475182970258472, Score: 14.965\n",
            "Epoch: 5, Loss: 1.0940245578175962, Score: 31.458333333333332\n",
            "Epoch: 6, Loss: 0.7152495488547025, Score: 51.35333333333333\n",
            "Epoch: 7, Loss: 0.6963603296776386, Score: 50.36000000000001\n",
            "Epoch: 8, Loss: 0.45676978718424893, Score: 62.75833333333334\n",
            "Epoch: 9, Loss: 0.3426606056686606, Score: 69.78\n",
            "Epoch: 10, Loss: 0.31392800687718986, Score: 69.77333333333333\n",
            "Epoch: 11, Loss: 0.34157182287318777, Score: 65.13166666666666\n",
            "Epoch: 12, Loss: 0.37674486411183583, Score: 68.07666666666667\n",
            "Epoch: 13, Loss: 0.24731157822996624, Score: 71.47666666666666\n",
            "Epoch: 14, Loss: 0.17976212981508255, Score: 75.23666666666666\n",
            "Epoch: 15, Loss: 0.16207891767546972, Score: 76.12\n",
            "Epoch: 16, Loss: 0.12335893571084744, Score: 78.27833333333334\n",
            "Epoch: 17, Loss: 0.10469673636092615, Score: 78.84666666666666\n",
            "Epoch: 18, Loss: 0.0956263056229208, Score: 80.285\n",
            "Epoch: 19, Loss: 0.08799818451419296, Score: 80.34833333333333\n",
            "Epoch: 20, Loss: 0.08385034228369476, Score: 80.80833333333334\n",
            "Epoch: 21, Loss: 0.08594047145705035, Score: 79.99000000000001\n",
            "Epoch: 22, Loss: 0.09827675379605483, Score: 77.29333333333334\n",
            "Epoch: 23, Loss: 0.14296446262666546, Score: 74.26666666666667\n",
            "Epoch: 24, Loss: 0.14681564193563426, Score: 74.91833333333334\n",
            "Epoch: 25, Loss: 0.09111645791865813, Score: 78.96666666666667\n",
            "Epoch: 26, Loss: 0.08281602566294165, Score: 81.06666666666666\n",
            "Epoch: 27, Loss: 0.07767713944646491, Score: 80.12666666666667\n",
            "Epoch: 28, Loss: 0.08422180191509507, Score: 81.01\n",
            "Epoch: 29, Loss: 0.06813505738973409, Score: 81.78166666666667\n",
            "Epoch: 30, Loss: 0.06868443121998596, Score: 82.47833333333332\n",
            "Epoch: 31, Loss: 0.06587067137637154, Score: 81.64166666666667\n",
            "Epoch: 32, Loss: 0.07468605536341616, Score: 82.22\n",
            "Epoch: 33, Loss: 0.05940644654049195, Score: 83.09\n",
            "Epoch: 34, Loss: 0.05966106600080143, Score: 83.56333333333333\n",
            "Epoch: 35, Loss: 0.05957805921088362, Score: 82.38\n",
            "Epoch: 36, Loss: 0.06770152662696692, Score: 82.42\n",
            "Epoch: 37, Loss: 0.05986145076948334, Score: 82.16333333333333\n",
            "Epoch: 38, Loss: 0.07083574221712687, Score: 80.02666666666667\n",
            "Epoch: 39, Loss: 0.10725316096574458, Score: 77.435\n",
            "Epoch: 40, Loss: 0.07014295496992502, Score: 82.12\n",
            "Epoch: 41, Loss: 0.0590422761843584, Score: 83.08333333333333\n",
            "Epoch: 42, Loss: 0.05817396758558511, Score: 83.67833333333333\n",
            "Epoch: 43, Loss: 0.05630149087571825, Score: 83.03833333333334\n",
            "Epoch: 44, Loss: 0.05976951125063336, Score: 83.71666666666667\n",
            "Epoch: 45, Loss: 0.05221545904856447, Score: 83.95\n",
            "Epoch: 46, Loss: 0.05318883598165323, Score: 84.43166666666667\n",
            "Epoch: 47, Loss: 0.05119880557211304, Score: 83.89833333333333\n",
            "Epoch: 48, Loss: 0.05473628828720741, Score: 84.31833333333333\n",
            "Epoch: 49, Loss: 0.049415779361304354, Score: 84.29166666666667\n"
          ]
        }
      ]
    },
    {
      "cell_type": "code",
      "source": [
        "print(\"Test Accuracy ReLU: {}\".format(model.score(testX, testY)))"
      ],
      "metadata": {
        "colab": {
          "base_uri": "https://localhost:8080/"
        },
        "id": "zwLOsGMu0U0x",
        "outputId": "4032fa42-b827-4554-e71a-7aa59445ca4e"
      },
      "execution_count": 44,
      "outputs": [
        {
          "output_type": "stream",
          "name": "stdout",
          "text": [
            "Test Accuracy ReLU: 83.73\n"
          ]
        }
      ]
    },
    {
      "cell_type": "code",
      "source": [
        "# Gradient descent with momentum nag\n",
        "model = MyNeuralNetwork(N_inputs=784, N_outputs=10, N_layers=1, Layer_sizes=[\n",
        "                        256], activation=\"relu\", learning_rate=0.08, weight_init=\"random\", num_epochs=50, batch_size=len(trainX), backpropogation='nag')"
      ],
      "metadata": {
        "id": "pRcikAeSuJy7"
      },
      "execution_count": 33,
      "outputs": []
    },
    {
      "cell_type": "code",
      "source": [
        "trainLoss, testLoss, trainAccs, testAccs = model.fit(\n",
        "    trainX, trainY, validX=testX, validY=testY, logs=True)"
      ],
      "metadata": {
        "colab": {
          "base_uri": "https://localhost:8080/"
        },
        "id": "M4Gh0eqcuOCQ",
        "outputId": "8e6e8534-6ece-4e50-921b-36f3354f6cdc"
      },
      "execution_count": 34,
      "outputs": [
        {
          "output_type": "stream",
          "name": "stdout",
          "text": [
            "Epoch: 0, Loss: 0.2250467901654805, Score: 50.13333333333333\n",
            "Epoch: 1, Loss: 0.21654758925160675, Score: 61.62\n",
            "Epoch: 2, Loss: 0.20330870790745942, Score: 64.31166666666667\n",
            "Epoch: 3, Loss: 0.18227289311019967, Score: 63.629999999999995\n",
            "Epoch: 4, Loss: 0.15439882892556098, Score: 61.77166666666667\n",
            "Epoch: 5, Loss: 0.1286659850213582, Score: 60.51166666666666\n",
            "Epoch: 6, Loss: 0.11108253782488098, Score: 62.295\n",
            "Epoch: 7, Loss: 0.09974342332870256, Score: 65.92\n",
            "Epoch: 8, Loss: 0.09167361645381832, Score: 68.58333333333333\n",
            "Epoch: 9, Loss: 0.0855150565293716, Score: 70.07166666666666\n",
            "Epoch: 10, Loss: 0.08037334919545416, Score: 71.455\n",
            "Epoch: 11, Loss: 0.07621944138629341, Score: 72.93333333333332\n",
            "Epoch: 12, Loss: 0.07306960584605525, Score: 73.85000000000001\n",
            "Epoch: 13, Loss: 0.07057244652116834, Score: 74.47500000000001\n",
            "Epoch: 14, Loss: 0.06841857304075774, Score: 74.95333333333333\n",
            "Epoch: 15, Loss: 0.0664392534918507, Score: 75.48666666666666\n",
            "Epoch: 16, Loss: 0.06453720144618014, Score: 76.03666666666666\n",
            "Epoch: 17, Loss: 0.06264223765162029, Score: 76.605\n",
            "Epoch: 18, Loss: 0.0607446660607926, Score: 77.305\n",
            "Epoch: 19, Loss: 0.058893387842281764, Score: 78.02\n",
            "Epoch: 20, Loss: 0.0571651459858441, Score: 78.78833333333334\n",
            "Epoch: 21, Loss: 0.055612451733955764, Score: 79.51166666666667\n",
            "Epoch: 22, Loss: 0.05424792411686716, Score: 80.11833333333334\n",
            "Epoch: 23, Loss: 0.05307086976209852, Score: 80.74166666666667\n",
            "Epoch: 24, Loss: 0.05207200994391667, Score: 81.28666666666666\n",
            "Epoch: 25, Loss: 0.05122291898458961, Score: 81.76333333333334\n",
            "Epoch: 26, Loss: 0.05047285651108056, Score: 82.07333333333334\n",
            "Epoch: 27, Loss: 0.049774185092936477, Score: 82.38499999999999\n",
            "Epoch: 28, Loss: 0.049097909934648444, Score: 82.69166666666666\n",
            "Epoch: 29, Loss: 0.04843513773714037, Score: 82.90166666666666\n",
            "Epoch: 30, Loss: 0.04778870386458368, Score: 83.12\n",
            "Epoch: 31, Loss: 0.0471679499941805, Score: 83.35666666666667\n",
            "Epoch: 32, Loss: 0.04657976391566148, Score: 83.55166666666666\n",
            "Epoch: 33, Loss: 0.046027936491123925, Score: 83.75333333333333\n",
            "Epoch: 34, Loss: 0.04551222404231634, Score: 83.865\n",
            "Epoch: 35, Loss: 0.045029994240581676, Score: 84.03500000000001\n",
            "Epoch: 36, Loss: 0.04457749176125761, Score: 84.185\n",
            "Epoch: 37, Loss: 0.04415196054573053, Score: 84.30166666666666\n",
            "Epoch: 38, Loss: 0.043751575301968326, Score: 84.39333333333333\n",
            "Epoch: 39, Loss: 0.043375169922175966, Score: 84.50999999999999\n",
            "Epoch: 40, Loss: 0.04302068457948801, Score: 84.59166666666667\n",
            "Epoch: 41, Loss: 0.04268555778503538, Score: 84.67833333333333\n",
            "Epoch: 42, Loss: 0.04236779378452013, Score: 84.775\n",
            "Epoch: 43, Loss: 0.0420654871613761, Score: 84.89833333333333\n",
            "Epoch: 44, Loss: 0.041776467589607326, Score: 84.96166666666667\n",
            "Epoch: 45, Loss: 0.041498767397378684, Score: 85.08333333333333\n",
            "Epoch: 46, Loss: 0.04123137003296166, Score: 85.16833333333334\n",
            "Epoch: 47, Loss: 0.040973842194414196, Score: 85.24333333333334\n",
            "Epoch: 48, Loss: 0.040725781614153043, Score: 85.32166666666666\n",
            "Epoch: 49, Loss: 0.0404864822159663, Score: 85.43166666666666\n"
          ]
        }
      ]
    },
    {
      "cell_type": "code",
      "source": [
        "print(\"Test Accuracy ReLU: {}\".format(model.score(testX, testY)))"
      ],
      "metadata": {
        "colab": {
          "base_uri": "https://localhost:8080/"
        },
        "id": "eL3LwFdvuSp-",
        "outputId": "8e46ae08-d03c-4c4e-ef20-3abf7131106e"
      },
      "execution_count": 35,
      "outputs": [
        {
          "output_type": "stream",
          "name": "stdout",
          "text": [
            "Test Accuracy ReLU: 85.50999999999999\n"
          ]
        }
      ]
    },
    {
      "cell_type": "code",
      "source": [
        "# Gradient descent with momentum\n",
        "model = MyNeuralNetwork(N_inputs=784, N_outputs=10, N_layers=1, Layer_sizes=[\n",
        "                        256], activation=\"relu\", learning_rate=0.08, weight_init=\"random\", num_epochs=50, batch_size=len(trainX), backpropogation='momentum')"
      ],
      "metadata": {
        "id": "Bu8KaRx1fvSo"
      },
      "execution_count": 26,
      "outputs": []
    },
    {
      "cell_type": "code",
      "source": [
        "trainLoss, testLoss, trainAccs, testAccs = model.fit(\n",
        "    trainX, trainY, validX=testX, validY=testY, logs=True)"
      ],
      "metadata": {
        "colab": {
          "base_uri": "https://localhost:8080/"
        },
        "id": "YyrXXRlbf8D6",
        "outputId": "01e3c954-726e-409d-cea0-26e7905117ef"
      },
      "execution_count": 27,
      "outputs": [
        {
          "output_type": "stream",
          "name": "stdout",
          "text": [
            "Epoch: 0, Loss: 0.22776693274523557, Score: 36.59833333333333\n",
            "Epoch: 1, Loss: 0.22198351716395195, Score: 55.87833333333333\n",
            "Epoch: 2, Loss: 0.21332166604181943, Score: 63.339999999999996\n",
            "Epoch: 3, Loss: 0.20031285043367145, Score: 64.45666666666666\n",
            "Epoch: 4, Loss: 0.1808595117459976, Score: 63.89666666666667\n",
            "Epoch: 5, Loss: 0.15566922056623983, Score: 62.48166666666667\n",
            "Epoch: 6, Loss: 0.13136878386151143, Score: 60.748333333333335\n",
            "Epoch: 7, Loss: 0.11418367808794426, Score: 60.97\n",
            "Epoch: 8, Loss: 0.10371815666485858, Score: 63.260000000000005\n",
            "Epoch: 9, Loss: 0.09669870846914823, Score: 66.51\n",
            "Epoch: 10, Loss: 0.09089280592130045, Score: 68.93333333333334\n",
            "Epoch: 11, Loss: 0.08660473998436928, Score: 69.72833333333334\n",
            "Epoch: 12, Loss: 0.08219454626102814, Score: 71.055\n",
            "Epoch: 13, Loss: 0.07835460815029145, Score: 72.99166666666666\n",
            "Epoch: 14, Loss: 0.07667723540856126, Score: 73.66333333333334\n",
            "Epoch: 15, Loss: 0.0745646223869906, Score: 73.99\n",
            "Epoch: 16, Loss: 0.07198262819108892, Score: 74.46333333333334\n",
            "Epoch: 17, Loss: 0.06997539903464962, Score: 75.06\n",
            "Epoch: 18, Loss: 0.06750969456335809, Score: 75.685\n",
            "Epoch: 19, Loss: 0.06561344861068968, Score: 76.09666666666666\n",
            "Epoch: 20, Loss: 0.06376095905981999, Score: 76.69666666666667\n",
            "Epoch: 21, Loss: 0.061306707918559626, Score: 77.57166666666667\n",
            "Epoch: 22, Loss: 0.05938218554502408, Score: 78.46166666666666\n",
            "Epoch: 23, Loss: 0.057788090024103525, Score: 79.31833333333333\n",
            "Epoch: 24, Loss: 0.05616852212620272, Score: 79.80333333333334\n",
            "Epoch: 25, Loss: 0.05502069676660219, Score: 80.14333333333333\n",
            "Epoch: 26, Loss: 0.05363495851196374, Score: 80.89166666666667\n",
            "Epoch: 27, Loss: 0.05298509976701104, Score: 81.41833333333334\n",
            "Epoch: 28, Loss: 0.052419079221044655, Score: 81.51666666666667\n",
            "Epoch: 29, Loss: 0.05173639082178003, Score: 81.685\n",
            "Epoch: 30, Loss: 0.05072402787188665, Score: 82.21166666666667\n",
            "Epoch: 31, Loss: 0.0500378246910804, Score: 82.50833333333333\n",
            "Epoch: 32, Loss: 0.04916058524648712, Score: 82.80499999999999\n",
            "Epoch: 33, Loss: 0.048312126665534236, Score: 83.075\n",
            "Epoch: 34, Loss: 0.047473698310677444, Score: 83.39\n",
            "Epoch: 35, Loss: 0.04695435184646162, Score: 83.51833333333335\n",
            "Epoch: 36, Loss: 0.046394729717746004, Score: 83.60833333333333\n",
            "Epoch: 37, Loss: 0.04587407963765473, Score: 83.65666666666667\n",
            "Epoch: 38, Loss: 0.045396310024653296, Score: 83.77833333333334\n",
            "Epoch: 39, Loss: 0.044987928666155086, Score: 83.94\n",
            "Epoch: 40, Loss: 0.04454513963836127, Score: 84.08833333333334\n",
            "Epoch: 41, Loss: 0.044000686261389546, Score: 84.27\n",
            "Epoch: 42, Loss: 0.0435796458730915, Score: 84.33166666666668\n",
            "Epoch: 43, Loss: 0.04321365026343699, Score: 84.47833333333334\n",
            "Epoch: 44, Loss: 0.04286887222869329, Score: 84.60166666666666\n",
            "Epoch: 45, Loss: 0.042531091615455735, Score: 84.67166666666667\n",
            "Epoch: 46, Loss: 0.04222810641003198, Score: 84.80833333333334\n",
            "Epoch: 47, Loss: 0.04195966237003797, Score: 84.86166666666666\n",
            "Epoch: 48, Loss: 0.041635811421444284, Score: 85.01833333333333\n",
            "Epoch: 49, Loss: 0.04132141650549212, Score: 85.13166666666667\n"
          ]
        }
      ]
    },
    {
      "cell_type": "code",
      "source": [
        "print(\"Test Accuracy ReLU: {}\".format(model.score(testX, testY)))"
      ],
      "metadata": {
        "colab": {
          "base_uri": "https://localhost:8080/"
        },
        "id": "-LfIcEAshUJ-",
        "outputId": "f6ffc613-6d46-4e6a-8157-f39943235790"
      },
      "execution_count": 28,
      "outputs": [
        {
          "output_type": "stream",
          "name": "stdout",
          "text": [
            "Test Accuracy ReLU: 85.24000000000001\n"
          ]
        }
      ]
    },
    {
      "cell_type": "code",
      "source": [
        "# Gradient descent\n",
        "model = MyNeuralNetwork(N_inputs=784, N_outputs=10, N_layers=1, Layer_sizes=[\n",
        "                        256], activation=\"relu\", learning_rate=0.08, weight_init=\"random\", num_epochs=50, batch_size=len(trainX))"
      ],
      "metadata": {
        "id": "7ZsvU5XNYmKi"
      },
      "execution_count": 29,
      "outputs": []
    },
    {
      "cell_type": "code",
      "source": [
        "trainLoss, testLoss, trainAccs, testAccs = model.fit(\n",
        "    trainX, trainY, validX=testX, validY=testY, logs=True)"
      ],
      "metadata": {
        "colab": {
          "base_uri": "https://localhost:8080/"
        },
        "id": "DJbaw_bsZRNK",
        "outputId": "8aea06fa-3965-4a02-ea4e-b0e25c7bffb0"
      },
      "execution_count": 30,
      "outputs": [
        {
          "output_type": "stream",
          "name": "stdout",
          "text": [
            "Epoch: 0, Loss: 0.22776693274523557, Score: 36.59833333333333\n",
            "Epoch: 1, Loss: 0.22468121624147097, Score: 50.81\n",
            "Epoch: 2, Loss: 0.22140444830067474, Score: 56.12166666666667\n",
            "Epoch: 3, Loss: 0.21776316901350662, Score: 59.555\n",
            "Epoch: 4, Loss: 0.21360005771375642, Score: 62.03833333333333\n",
            "Epoch: 5, Loss: 0.2087748591426473, Score: 63.041666666666664\n",
            "Epoch: 6, Loss: 0.20318078724810387, Score: 63.19166666666667\n",
            "Epoch: 7, Loss: 0.1967723543893887, Score: 63.00666666666667\n",
            "Epoch: 8, Loss: 0.18959914210078485, Score: 62.51833333333333\n",
            "Epoch: 9, Loss: 0.18182505791730144, Score: 61.82333333333333\n",
            "Epoch: 10, Loss: 0.1737181933207491, Score: 61.095\n",
            "Epoch: 11, Loss: 0.16559340002489714, Score: 60.405\n",
            "Epoch: 12, Loss: 0.15774162785365486, Score: 60.026666666666664\n",
            "Epoch: 13, Loss: 0.150380727248746, Score: 60.07\n",
            "Epoch: 14, Loss: 0.14364161197362874, Score: 60.38166666666667\n",
            "Epoch: 15, Loss: 0.13757342941734413, Score: 60.83333333333333\n",
            "Epoch: 16, Loss: 0.13215765971615198, Score: 61.458333333333336\n",
            "Epoch: 17, Loss: 0.12733277833673842, Score: 62.26833333333334\n",
            "Epoch: 18, Loss: 0.12302166598475194, Score: 63.123333333333335\n",
            "Epoch: 19, Loss: 0.11915086401300522, Score: 64.07666666666667\n",
            "Epoch: 20, Loss: 0.11565710991586581, Score: 65.02333333333333\n",
            "Epoch: 21, Loss: 0.11248658096654714, Score: 65.91166666666666\n",
            "Epoch: 22, Loss: 0.1095933102290117, Score: 66.67166666666667\n",
            "Epoch: 23, Loss: 0.1069383767239044, Score: 67.39500000000001\n",
            "Epoch: 24, Loss: 0.10448857356778732, Score: 67.97166666666666\n",
            "Epoch: 25, Loss: 0.10221615307826182, Score: 68.55666666666667\n",
            "Epoch: 26, Loss: 0.10009801915458479, Score: 69.01666666666667\n",
            "Epoch: 27, Loss: 0.09811553437814337, Score: 69.46833333333333\n",
            "Epoch: 28, Loss: 0.09625365191932314, Score: 69.91166666666668\n",
            "Epoch: 29, Loss: 0.09449995599463107, Score: 70.24666666666667\n",
            "Epoch: 30, Loss: 0.09284468567774092, Score: 70.58666666666666\n",
            "Epoch: 31, Loss: 0.09128030123717368, Score: 70.85833333333333\n",
            "Epoch: 32, Loss: 0.08980005118457196, Score: 71.17666666666666\n",
            "Epoch: 33, Loss: 0.0883979395250514, Score: 71.475\n",
            "Epoch: 34, Loss: 0.08706876751749032, Score: 71.70833333333333\n",
            "Epoch: 35, Loss: 0.08580740493227697, Score: 71.94666666666667\n",
            "Epoch: 36, Loss: 0.08460933068351728, Score: 72.19333333333333\n",
            "Epoch: 37, Loss: 0.08347065609163583, Score: 72.40833333333333\n",
            "Epoch: 38, Loss: 0.0823874602761579, Score: 72.63333333333334\n",
            "Epoch: 39, Loss: 0.08135665760757907, Score: 72.83500000000001\n",
            "Epoch: 40, Loss: 0.08037476558828324, Score: 73.03500000000001\n",
            "Epoch: 41, Loss: 0.07943887829125679, Score: 73.19\n",
            "Epoch: 42, Loss: 0.07854645532936445, Score: 73.40166666666667\n",
            "Epoch: 43, Loss: 0.07769532376737827, Score: 73.585\n",
            "Epoch: 44, Loss: 0.07688309788259981, Score: 73.715\n",
            "Epoch: 45, Loss: 0.07610737507414302, Score: 73.875\n",
            "Epoch: 46, Loss: 0.07536630855270698, Score: 74.05000000000001\n",
            "Epoch: 47, Loss: 0.07465803186461147, Score: 74.22166666666666\n",
            "Epoch: 48, Loss: 0.07398084545266313, Score: 74.375\n",
            "Epoch: 49, Loss: 0.07333306175259117, Score: 74.48666666666666\n"
          ]
        }
      ]
    },
    {
      "cell_type": "code",
      "source": [
        "print(\"Test Accuracy ReLU: {}\".format(model.score(testX, testY)))"
      ],
      "metadata": {
        "colab": {
          "base_uri": "https://localhost:8080/"
        },
        "id": "TIhKjIuEZZJ6",
        "outputId": "44a8813f-ccde-4370-d322-cb096dfc7045"
      },
      "execution_count": 31,
      "outputs": [
        {
          "output_type": "stream",
          "name": "stdout",
          "text": [
            "Test Accuracy ReLU: 74.28\n"
          ]
        }
      ]
    },
    {
      "cell_type": "code",
      "source": [
        ""
      ],
      "metadata": {
        "id": "UTACNytGb4Oc"
      },
      "execution_count": null,
      "outputs": []
    }
  ]
}