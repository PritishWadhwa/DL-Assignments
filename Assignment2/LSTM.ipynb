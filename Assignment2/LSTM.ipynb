{
  "nbformat": 4,
  "nbformat_minor": 0,
  "metadata": {
    "colab": {
      "name": "LSTM.ipynb",
      "provenance": [],
      "collapsed_sections": []
    },
    "kernelspec": {
      "name": "python3",
      "display_name": "Python 3"
    },
    "language_info": {
      "name": "python"
    }
  },
  "cells": [
    {
      "cell_type": "code",
      "execution_count": 1,
      "metadata": {
        "colab": {
          "base_uri": "https://localhost:8080/"
        },
        "id": "y_aISAgNly79",
        "outputId": "34366a82-332b-469e-940f-165c7cf95bad"
      },
      "outputs": [
        {
          "output_type": "stream",
          "name": "stdout",
          "text": [
            "Mounted at /content/drive\n"
          ]
        }
      ],
      "source": [
        "from google.colab import drive\n",
        "drive.mount('/content/drive')"
      ]
    },
    {
      "cell_type": "code",
      "source": [
        "import numpy as np\n",
        "import pandas as pd\n",
        "import matplotlib.pyplot as plt\n",
        "import spacy\n",
        "import torch\n",
        "import torch.nn as nn\n",
        "from torch.nn.utils.rnn import pack_padded_sequence, pad_packed_sequence\n",
        "import torch.optim as optim\n",
        "from sklearn.metrics import accuracy_score, classification_report, confusion_matrix\n",
        "import seaborn as sns\n",
        "from torch.utils.data import DataLoader, TensorDataset, Dataset\n",
        "device = torch.device('cuda' if torch.cuda.is_available() else 'cpu')\n",
        "from tqdm import tqdm"
      ],
      "metadata": {
        "id": "uchrlIN4l5oW"
      },
      "execution_count": 44,
      "outputs": []
    },
    {
      "cell_type": "code",
      "source": [
        ""
      ],
      "metadata": {
        "id": "d7P-CR6HeuwD"
      },
      "execution_count": 2,
      "outputs": []
    },
    {
      "cell_type": "code",
      "source": [
        "#Reading csv file\n",
        "train = pd.read_csv(\"/content/drive/MyDrive/DL_DialogDataset/train.csv\")\n",
        "test = pd.read_csv(\"/content/drive/MyDrive/DL_DialogDataset/test.csv\")\n",
        "train"
      ],
      "metadata": {
        "colab": {
          "base_uri": "https://localhost:8080/",
          "height": 423
        },
        "id": "KfDqCJ-el__U",
        "outputId": "d16fe2cb-925b-412b-e968-053998193f64"
      },
      "execution_count": 3,
      "outputs": [
        {
          "output_type": "execute_result",
          "data": {
            "text/plain": [
              "                                              utterance  act\n",
              "0     Say , Jim , how about going for a few beers af...    3\n",
              "1      You know that is tempting but is really not g...    4\n",
              "2        What do you mean ? It will help us to relax .     2\n",
              "3      Do you really think so ? I don't . It will ju...    2\n",
              "4      I guess you are right.But what shall we do ? ...    2\n",
              "...                                                 ...  ...\n",
              "5085               Tom and Helen got married at last .     1\n",
              "5086   How did you know that ? I heart Tom ’ s fathe...    2\n",
              "5087           I was invited to attend their wedding .     1\n",
              "5088   It ’ s great . Although his father didn ’ t a...    1\n",
              "5089                              How moving love is .     1\n",
              "\n",
              "[5090 rows x 2 columns]"
            ],
            "text/html": [
              "\n",
              "  <div id=\"df-3829fd8d-a30d-43b6-bc0a-333db9716bed\">\n",
              "    <div class=\"colab-df-container\">\n",
              "      <div>\n",
              "<style scoped>\n",
              "    .dataframe tbody tr th:only-of-type {\n",
              "        vertical-align: middle;\n",
              "    }\n",
              "\n",
              "    .dataframe tbody tr th {\n",
              "        vertical-align: top;\n",
              "    }\n",
              "\n",
              "    .dataframe thead th {\n",
              "        text-align: right;\n",
              "    }\n",
              "</style>\n",
              "<table border=\"1\" class=\"dataframe\">\n",
              "  <thead>\n",
              "    <tr style=\"text-align: right;\">\n",
              "      <th></th>\n",
              "      <th>utterance</th>\n",
              "      <th>act</th>\n",
              "    </tr>\n",
              "  </thead>\n",
              "  <tbody>\n",
              "    <tr>\n",
              "      <th>0</th>\n",
              "      <td>Say , Jim , how about going for a few beers af...</td>\n",
              "      <td>3</td>\n",
              "    </tr>\n",
              "    <tr>\n",
              "      <th>1</th>\n",
              "      <td>You know that is tempting but is really not g...</td>\n",
              "      <td>4</td>\n",
              "    </tr>\n",
              "    <tr>\n",
              "      <th>2</th>\n",
              "      <td>What do you mean ? It will help us to relax .</td>\n",
              "      <td>2</td>\n",
              "    </tr>\n",
              "    <tr>\n",
              "      <th>3</th>\n",
              "      <td>Do you really think so ? I don't . It will ju...</td>\n",
              "      <td>2</td>\n",
              "    </tr>\n",
              "    <tr>\n",
              "      <th>4</th>\n",
              "      <td>I guess you are right.But what shall we do ? ...</td>\n",
              "      <td>2</td>\n",
              "    </tr>\n",
              "    <tr>\n",
              "      <th>...</th>\n",
              "      <td>...</td>\n",
              "      <td>...</td>\n",
              "    </tr>\n",
              "    <tr>\n",
              "      <th>5085</th>\n",
              "      <td>Tom and Helen got married at last .</td>\n",
              "      <td>1</td>\n",
              "    </tr>\n",
              "    <tr>\n",
              "      <th>5086</th>\n",
              "      <td>How did you know that ? I heart Tom ’ s fathe...</td>\n",
              "      <td>2</td>\n",
              "    </tr>\n",
              "    <tr>\n",
              "      <th>5087</th>\n",
              "      <td>I was invited to attend their wedding .</td>\n",
              "      <td>1</td>\n",
              "    </tr>\n",
              "    <tr>\n",
              "      <th>5088</th>\n",
              "      <td>It ’ s great . Although his father didn ’ t a...</td>\n",
              "      <td>1</td>\n",
              "    </tr>\n",
              "    <tr>\n",
              "      <th>5089</th>\n",
              "      <td>How moving love is .</td>\n",
              "      <td>1</td>\n",
              "    </tr>\n",
              "  </tbody>\n",
              "</table>\n",
              "<p>5090 rows × 2 columns</p>\n",
              "</div>\n",
              "      <button class=\"colab-df-convert\" onclick=\"convertToInteractive('df-3829fd8d-a30d-43b6-bc0a-333db9716bed')\"\n",
              "              title=\"Convert this dataframe to an interactive table.\"\n",
              "              style=\"display:none;\">\n",
              "        \n",
              "  <svg xmlns=\"http://www.w3.org/2000/svg\" height=\"24px\"viewBox=\"0 0 24 24\"\n",
              "       width=\"24px\">\n",
              "    <path d=\"M0 0h24v24H0V0z\" fill=\"none\"/>\n",
              "    <path d=\"M18.56 5.44l.94 2.06.94-2.06 2.06-.94-2.06-.94-.94-2.06-.94 2.06-2.06.94zm-11 1L8.5 8.5l.94-2.06 2.06-.94-2.06-.94L8.5 2.5l-.94 2.06-2.06.94zm10 10l.94 2.06.94-2.06 2.06-.94-2.06-.94-.94-2.06-.94 2.06-2.06.94z\"/><path d=\"M17.41 7.96l-1.37-1.37c-.4-.4-.92-.59-1.43-.59-.52 0-1.04.2-1.43.59L10.3 9.45l-7.72 7.72c-.78.78-.78 2.05 0 2.83L4 21.41c.39.39.9.59 1.41.59.51 0 1.02-.2 1.41-.59l7.78-7.78 2.81-2.81c.8-.78.8-2.07 0-2.86zM5.41 20L4 18.59l7.72-7.72 1.47 1.35L5.41 20z\"/>\n",
              "  </svg>\n",
              "      </button>\n",
              "      \n",
              "  <style>\n",
              "    .colab-df-container {\n",
              "      display:flex;\n",
              "      flex-wrap:wrap;\n",
              "      gap: 12px;\n",
              "    }\n",
              "\n",
              "    .colab-df-convert {\n",
              "      background-color: #E8F0FE;\n",
              "      border: none;\n",
              "      border-radius: 50%;\n",
              "      cursor: pointer;\n",
              "      display: none;\n",
              "      fill: #1967D2;\n",
              "      height: 32px;\n",
              "      padding: 0 0 0 0;\n",
              "      width: 32px;\n",
              "    }\n",
              "\n",
              "    .colab-df-convert:hover {\n",
              "      background-color: #E2EBFA;\n",
              "      box-shadow: 0px 1px 2px rgba(60, 64, 67, 0.3), 0px 1px 3px 1px rgba(60, 64, 67, 0.15);\n",
              "      fill: #174EA6;\n",
              "    }\n",
              "\n",
              "    [theme=dark] .colab-df-convert {\n",
              "      background-color: #3B4455;\n",
              "      fill: #D2E3FC;\n",
              "    }\n",
              "\n",
              "    [theme=dark] .colab-df-convert:hover {\n",
              "      background-color: #434B5C;\n",
              "      box-shadow: 0px 1px 3px 1px rgba(0, 0, 0, 0.15);\n",
              "      filter: drop-shadow(0px 1px 2px rgba(0, 0, 0, 0.3));\n",
              "      fill: #FFFFFF;\n",
              "    }\n",
              "  </style>\n",
              "\n",
              "      <script>\n",
              "        const buttonEl =\n",
              "          document.querySelector('#df-3829fd8d-a30d-43b6-bc0a-333db9716bed button.colab-df-convert');\n",
              "        buttonEl.style.display =\n",
              "          google.colab.kernel.accessAllowed ? 'block' : 'none';\n",
              "\n",
              "        async function convertToInteractive(key) {\n",
              "          const element = document.querySelector('#df-3829fd8d-a30d-43b6-bc0a-333db9716bed');\n",
              "          const dataTable =\n",
              "            await google.colab.kernel.invokeFunction('convertToInteractive',\n",
              "                                                     [key], {});\n",
              "          if (!dataTable) return;\n",
              "\n",
              "          const docLinkHtml = 'Like what you see? Visit the ' +\n",
              "            '<a target=\"_blank\" href=https://colab.research.google.com/notebooks/data_table.ipynb>data table notebook</a>'\n",
              "            + ' to learn more about interactive tables.';\n",
              "          element.innerHTML = '';\n",
              "          dataTable['output_type'] = 'display_data';\n",
              "          await google.colab.output.renderOutput(dataTable, element);\n",
              "          const docLink = document.createElement('div');\n",
              "          docLink.innerHTML = docLinkHtml;\n",
              "          element.appendChild(docLink);\n",
              "        }\n",
              "      </script>\n",
              "    </div>\n",
              "  </div>\n",
              "  "
            ]
          },
          "metadata": {},
          "execution_count": 3
        }
      ]
    },
    {
      "cell_type": "code",
      "source": [
        "Xtrain = train.utterance\n",
        "ytrain = train.act\n",
        "Xtest = test.utterance\n",
        "ytest = test.act\n",
        "  "
      ],
      "metadata": {
        "id": "o7N2pmXPnJ8U"
      },
      "execution_count": 4,
      "outputs": []
    },
    {
      "cell_type": "markdown",
      "source": [
        "## Preprocessing"
      ],
      "metadata": {
        "id": "uD21uaO7nkOk"
      }
    },
    {
      "cell_type": "code",
      "source": [
        "!pip install contractions "
      ],
      "metadata": {
        "colab": {
          "base_uri": "https://localhost:8080/"
        },
        "id": "mpXMAc77fpj2",
        "outputId": "cc37fee2-b99e-4aa7-fca9-068dff88d68a"
      },
      "execution_count": 5,
      "outputs": [
        {
          "output_type": "stream",
          "name": "stdout",
          "text": [
            "Collecting contractions\n",
            "  Downloading contractions-0.1.68-py2.py3-none-any.whl (8.1 kB)\n",
            "Collecting textsearch>=0.0.21\n",
            "  Downloading textsearch-0.0.21-py2.py3-none-any.whl (7.5 kB)\n",
            "Collecting anyascii\n",
            "  Downloading anyascii-0.3.0-py3-none-any.whl (284 kB)\n",
            "\u001b[K     |████████████████████████████████| 284 kB 5.3 MB/s \n",
            "\u001b[?25hCollecting pyahocorasick\n",
            "  Downloading pyahocorasick-1.4.4-cp37-cp37m-manylinux_2_17_x86_64.manylinux2014_x86_64.whl (106 kB)\n",
            "\u001b[K     |████████████████████████████████| 106 kB 56.1 MB/s \n",
            "\u001b[?25hInstalling collected packages: pyahocorasick, anyascii, textsearch, contractions\n",
            "Successfully installed anyascii-0.3.0 contractions-0.1.68 pyahocorasick-1.4.4 textsearch-0.0.21\n"
          ]
        }
      ]
    },
    {
      "cell_type": "code",
      "source": [
        "def lowerCase(df):\n",
        "  df= df.apply(lambda x: x.lower())\n",
        "  return df\n",
        "\n",
        "Xtrain = lowerCase(Xtrain)\n",
        "Xtest = lowerCase(Xtest)"
      ],
      "metadata": {
        "id": "GGCVogsQerYl"
      },
      "execution_count": 6,
      "outputs": []
    },
    {
      "cell_type": "code",
      "source": [
        "import contractions\n",
        "def contractionExpand(text):\n",
        "  return contractions.fix(text)\n",
        "\n",
        "Xtrain = Xtrain.apply(lambda x: contractionExpand(x))"
      ],
      "metadata": {
        "id": "pG6AeBDrhyPp"
      },
      "execution_count": 7,
      "outputs": []
    },
    {
      "cell_type": "code",
      "source": [
        "Xtest = Xtest.apply(lambda x: contractionExpand(x))"
      ],
      "metadata": {
        "id": "_9LIHIIlapzF"
      },
      "execution_count": 8,
      "outputs": []
    },
    {
      "cell_type": "code",
      "source": [
        "import nltk\n",
        "nltk.download('punkt')\n",
        "\n",
        "def tokenize(text):\n",
        "  tokens = nltk.word_tokenize(text)\n",
        "  return tokens\n",
        "\n",
        "Xtrain = Xtrain.apply(lambda x: tokenize(x))"
      ],
      "metadata": {
        "colab": {
          "base_uri": "https://localhost:8080/"
        },
        "id": "j0WGZyfkfczn",
        "outputId": "c711ac5a-ff86-4d04-d8d7-82c023652007"
      },
      "execution_count": 9,
      "outputs": [
        {
          "output_type": "stream",
          "name": "stdout",
          "text": [
            "[nltk_data] Downloading package punkt to /root/nltk_data...\n",
            "[nltk_data]   Unzipping tokenizers/punkt.zip.\n"
          ]
        }
      ]
    },
    {
      "cell_type": "code",
      "source": [
        "Xtest = Xtest.apply(lambda x: tokenize(x))"
      ],
      "metadata": {
        "id": "pDq0UUymatwm"
      },
      "execution_count": 10,
      "outputs": []
    },
    {
      "cell_type": "code",
      "source": [
        "Xtrain"
      ],
      "metadata": {
        "colab": {
          "base_uri": "https://localhost:8080/"
        },
        "id": "wCMzbVVEgt2i",
        "outputId": "f2f0ad5a-3cbd-4dfc-8ef8-fba7b54ce8aa"
      },
      "execution_count": 11,
      "outputs": [
        {
          "output_type": "execute_result",
          "data": {
            "text/plain": [
              "0       [say, ,, jim, ,, how, about, going, for, a, fe...\n",
              "1       [you, know, that, is, tempting, but, is, reall...\n",
              "2       [what, do, you, mean, ?, it, will, help, us, t...\n",
              "3       [do, you, really, think, so, ?, i, do, not, .,...\n",
              "4       [i, guess, you, are, right.but, what, shall, w...\n",
              "                              ...                        \n",
              "5085         [tom, and, helen, got, married, at, last, .]\n",
              "5086    [how, did, you, know, that, ?, i, heart, tom, ...\n",
              "5087     [i, was, invited, to, attend, their, wedding, .]\n",
              "5088    [it, ’, s, great, ., although, his, father, di...\n",
              "5089                           [how, moving, love, is, .]\n",
              "Name: utterance, Length: 5090, dtype: object"
            ]
          },
          "metadata": {},
          "execution_count": 11
        }
      ]
    },
    {
      "cell_type": "code",
      "source": [
        "Xtest"
      ],
      "metadata": {
        "colab": {
          "base_uri": "https://localhost:8080/"
        },
        "id": "nNqqj6OTaxN_",
        "outputId": "f63d9037-9f4f-4973-e36a-759284140fe2"
      },
      "execution_count": 12,
      "outputs": [
        {
          "output_type": "execute_result",
          "data": {
            "text/plain": [
              "0      [i, am, better, now, ., want, to, play, again, ?]\n",
              "1      [i, will, let, you, break, the, balls, this, t...\n",
              "2      [let, us, get, all, the, balls, out, of, the, ...\n",
              "3      [ok, ., how, much, do, you, want, to, bet, on,...\n",
              "4      [you, are, crazy, ., gambling, is, against, my...\n",
              "                             ...                        \n",
              "717    [yeah, ,, i, got, to, eat, as, much, pizza, as...\n",
              "718                       [did, you, like, the, play, ?]\n",
              "719    [not, really, ., it, is, a, dull, one, ,, and,...\n",
              "720    [you, are, absolutely, right, ., the, acting, ...\n",
              "721    [to, be, fair, ,, though, ,, both, the, costum...\n",
              "Name: utterance, Length: 722, dtype: object"
            ]
          },
          "metadata": {},
          "execution_count": 12
        }
      ]
    },
    {
      "cell_type": "code",
      "source": [
        "max_seq_len = len(max(Xtrain, key=len))"
      ],
      "metadata": {
        "id": "KjUl_Gvggu-A"
      },
      "execution_count": 13,
      "outputs": []
    },
    {
      "cell_type": "code",
      "source": [
        "max_seq_len_test = len(max(Xtest, key=len))"
      ],
      "metadata": {
        "id": "cM1t8X_obA-j"
      },
      "execution_count": 14,
      "outputs": []
    },
    {
      "cell_type": "markdown",
      "source": [
        "### Sentence Embedding for each utterance: Using Glove and then pooling"
      ],
      "metadata": {
        "id": "HB9TUZgKCXfF"
      }
    },
    {
      "cell_type": "code",
      "source": [
        "!wget http://nlp.stanford.edu/data/glove.6B.zip\n",
        "!unzip glove.6B.zip\n",
        "!ls -lat"
      ],
      "metadata": {
        "colab": {
          "base_uri": "https://localhost:8080/"
        },
        "id": "DwKpOnrTsH-R",
        "outputId": "c70964cd-dcb9-4193-8590-ebc55377ddca"
      },
      "execution_count": 15,
      "outputs": [
        {
          "output_type": "stream",
          "name": "stdout",
          "text": [
            "--2022-03-29 09:36:08--  http://nlp.stanford.edu/data/glove.6B.zip\n",
            "Resolving nlp.stanford.edu (nlp.stanford.edu)... 171.64.67.140\n",
            "Connecting to nlp.stanford.edu (nlp.stanford.edu)|171.64.67.140|:80... connected.\n",
            "HTTP request sent, awaiting response... 302 Found\n",
            "Location: https://nlp.stanford.edu/data/glove.6B.zip [following]\n",
            "--2022-03-29 09:36:08--  https://nlp.stanford.edu/data/glove.6B.zip\n",
            "Connecting to nlp.stanford.edu (nlp.stanford.edu)|171.64.67.140|:443... connected.\n",
            "HTTP request sent, awaiting response... 301 Moved Permanently\n",
            "Location: http://downloads.cs.stanford.edu/nlp/data/glove.6B.zip [following]\n",
            "--2022-03-29 09:36:08--  http://downloads.cs.stanford.edu/nlp/data/glove.6B.zip\n",
            "Resolving downloads.cs.stanford.edu (downloads.cs.stanford.edu)... 171.64.64.22\n",
            "Connecting to downloads.cs.stanford.edu (downloads.cs.stanford.edu)|171.64.64.22|:80... connected.\n",
            "HTTP request sent, awaiting response... 200 OK\n",
            "Length: 862182613 (822M) [application/zip]\n",
            "Saving to: ‘glove.6B.zip’\n",
            "\n",
            "glove.6B.zip        100%[===================>] 822.24M  5.12MB/s    in 2m 40s  \n",
            "\n",
            "2022-03-29 09:38:48 (5.14 MB/s) - ‘glove.6B.zip’ saved [862182613/862182613]\n",
            "\n",
            "Archive:  glove.6B.zip\n",
            "  inflating: glove.6B.50d.txt        \n",
            "  inflating: glove.6B.100d.txt       \n",
            "  inflating: glove.6B.200d.txt       \n",
            "  inflating: glove.6B.300d.txt       \n",
            "total 3039148\n",
            "drwxr-xr-x 1 root root       4096 Mar 29 09:39 .\n",
            "drwx------ 6 root root       4096 Mar 29 09:35 drive\n",
            "drwxr-xr-x 1 root root       4096 Mar 29 09:34 ..\n",
            "drwxr-xr-x 1 root root       4096 Mar 23 14:22 sample_data\n",
            "drwxr-xr-x 4 root root       4096 Mar 23 14:21 .config\n",
            "-rw-r--r-- 1 root root  862182613 Oct 25  2015 glove.6B.zip\n",
            "-rw-rw-r-- 1 root root 1037962819 Aug 27  2014 glove.6B.300d.txt\n",
            "-rw-rw-r-- 1 root root  171350079 Aug  4  2014 glove.6B.50d.txt\n",
            "-rw-rw-r-- 1 root root  693432828 Aug  4  2014 glove.6B.200d.txt\n",
            "-rw-rw-r-- 1 root root  347116733 Aug  4  2014 glove.6B.100d.txt\n"
          ]
        }
      ]
    },
    {
      "cell_type": "code",
      "source": [
        "vocab,embeddings = [],[]\n",
        "with open('glove.6B.50d.txt','rt') as fi:\n",
        "    full_content = fi.read().strip().split('\\n')\n",
        "for i in range(len(full_content)):\n",
        "    i_word = full_content[i].split(' ')[0]\n",
        "    i_embeddings = [float(val) for val in full_content[i].split(' ')[1:]]\n",
        "    vocab.append(i_word)\n",
        "    embeddings.append(i_embeddings)"
      ],
      "metadata": {
        "id": "T5ToUVnqsK9a"
      },
      "execution_count": 16,
      "outputs": []
    },
    {
      "cell_type": "code",
      "source": [
        "vocab_npa = np.array(vocab)\n",
        "embs_npa = np.array(embeddings)"
      ],
      "metadata": {
        "id": "CQyBjN4ysLq0"
      },
      "execution_count": 17,
      "outputs": []
    },
    {
      "cell_type": "code",
      "source": [
        "#insert '<pad>' and '<unk>' tokens at start of vocab_npa.\n",
        "vocab_npa = np.insert(vocab_npa, 0, '<pad>')\n",
        "vocab_npa = np.insert(vocab_npa, 1, '<unk>')\n",
        "print(vocab_npa[:10])\n",
        "\n",
        "pad_emb_npa = np.zeros((1,embs_npa.shape[1]))   #embedding for '<pad>' token.\n",
        "unk_emb_npa = np.mean(embs_npa,axis=0,keepdims=True)    #embedding for '<unk>' token.\n",
        "\n",
        "#insert embeddings for pad and unk tokens at top of embs_npa.\n",
        "embs_npa = np.vstack((pad_emb_npa,unk_emb_npa,embs_npa))\n",
        "print(embs_npa.shape)"
      ],
      "metadata": {
        "colab": {
          "base_uri": "https://localhost:8080/"
        },
        "id": "K-ge-vSssOaw",
        "outputId": "6d727f07-bc31-4171-ec05-96267f3dc704"
      },
      "execution_count": 18,
      "outputs": [
        {
          "output_type": "stream",
          "name": "stdout",
          "text": [
            "['<pad>' '<unk>' 'the' ',' '.' 'of' 'to' 'and' 'in' 'a']\n",
            "(400002, 50)\n"
          ]
        }
      ]
    },
    {
      "cell_type": "code",
      "source": [
        "my_embedding_layer = torch.nn.Embedding.from_pretrained(torch.from_numpy(embs_npa).float())\n",
        "\n",
        "assert my_embedding_layer.weight.shape == embs_npa.shape\n",
        "print(my_embedding_layer.weight.shape)"
      ],
      "metadata": {
        "colab": {
          "base_uri": "https://localhost:8080/"
        },
        "id": "o01qckQNsRMA",
        "outputId": "556d3071-74bd-4d91-f8fe-0d85cc67ce65"
      },
      "execution_count": 19,
      "outputs": [
        {
          "output_type": "stream",
          "name": "stdout",
          "text": [
            "torch.Size([400002, 50])\n"
          ]
        }
      ]
    },
    {
      "cell_type": "code",
      "source": [
        "def convert_text_to_id(df,vocab,unk_token,pad_to_len,pad_token):\n",
        "  word2idx = {term:idx for idx,term in enumerate(vocab)}\n",
        "  idx2word = {idx:word for word,idx in word2idx.items()}\n",
        "\n",
        "  for i in range(len(df)):\n",
        "    deficit = pad_to_len - len(df[i])\n",
        "    df[i].extend([pad_token]*deficit)\n",
        "    for j in range(len(df[i])):\n",
        "      if df[i][j] not in word2idx:\n",
        "        df[i][j] = word2idx[unk_token]\n",
        "      else:\n",
        "        df[i][j] = word2idx[df[i][j]]\n",
        "  return df\n",
        "\n",
        "\n",
        "Xtrain_id = convert_text_to_id(Xtrain,vocab_npa,'<unk>',max_seq_len,'<pad>')\n"
      ],
      "metadata": {
        "id": "DJ9vlKsCkNBV"
      },
      "execution_count": 20,
      "outputs": []
    },
    {
      "cell_type": "code",
      "source": [
        "Xtest_id = convert_text_to_id(Xtest,vocab_npa,'<unk>',max_seq_len_test,'<pad>')"
      ],
      "metadata": {
        "id": "_MiUNXvUbKM8"
      },
      "execution_count": 21,
      "outputs": []
    },
    {
      "cell_type": "code",
      "source": [
        "len(Xtrain_id[0])"
      ],
      "metadata": {
        "colab": {
          "base_uri": "https://localhost:8080/"
        },
        "id": "tHFGSJrCBlU1",
        "outputId": "c37f7c78-88bd-49bc-9422-b661f0feb67d"
      },
      "execution_count": 22,
      "outputs": [
        {
          "output_type": "execute_result",
          "data": {
            "text/plain": [
              "102"
            ]
          },
          "metadata": {},
          "execution_count": 22
        }
      ]
    },
    {
      "cell_type": "code",
      "source": [
        "Xtrain_id"
      ],
      "metadata": {
        "colab": {
          "base_uri": "https://localhost:8080/"
        },
        "id": "9Va15sar7Yvn",
        "outputId": "b1126c72-3ae2-4aab-f603-677b2f44ea02"
      },
      "execution_count": 23,
      "outputs": [
        {
          "output_type": "execute_result",
          "data": {
            "text/plain": [
              "0       [205, 3, 2017, 3, 199, 61, 224, 12, 9, 308, 13...\n",
              "1       [83, 348, 14, 16, 21655, 36, 16, 590, 38, 221,...\n",
              "2       [104, 90, 83, 1704, 190, 22, 45, 277, 97, 6, 1...\n",
              "3       [90, 83, 590, 271, 102, 190, 43, 90, 38, 4, 22...\n",
              "4       [43, 5022, 83, 34, 1, 104, 5286, 55, 90, 190, ...\n",
              "                              ...                        \n",
              "5085    [1616, 7, 7216, 407, 1169, 24, 78, 4, 0, 0, 0,...\n",
              "5086    [199, 121, 83, 348, 14, 190, 43, 1060, 1616, 3...\n",
              "5087    [43, 17, 2862, 6, 2057, 46, 4320, 4, 0, 0, 0, ...\n",
              "5088    [22, 3073, 1536, 355, 4, 378, 28, 631, 73332, ...\n",
              "5089    [199, 1235, 837, 16, 4, 0, 0, 0, 0, 0, 0, 0, 0...\n",
              "Name: utterance, Length: 5090, dtype: object"
            ]
          },
          "metadata": {},
          "execution_count": 23
        }
      ]
    },
    {
      "cell_type": "code",
      "source": [
        "#Load dataset\n",
        "Xtrain_id = np.array(Xtrain_id)\n",
        "Xtrain_id= np.vstack(Xtrain_id).astype('int')\n",
        "ytrain = np.array(ytrain)\n",
        "ytrain = ytrain - 1\n",
        "train_data = TensorDataset(torch.from_numpy(Xtrain_id), torch.from_numpy(ytrain))\n"
      ],
      "metadata": {
        "id": "PCZ2TMFg1Phy"
      },
      "execution_count": 24,
      "outputs": []
    },
    {
      "cell_type": "code",
      "source": [
        "Xtest_id = np.array(Xtest_id)\n",
        "Xtest_id= np.vstack(Xtest_id).astype('int')\n",
        "ytest = np.array(ytest)\n",
        "ytest = ytest - 1\n",
        "test_data = TensorDataset(torch.from_numpy(Xtest_id), torch.from_numpy(ytest))"
      ],
      "metadata": {
        "id": "XiiLGbdDbSTK"
      },
      "execution_count": 25,
      "outputs": []
    },
    {
      "cell_type": "code",
      "source": [
        "ytrain"
      ],
      "metadata": {
        "colab": {
          "base_uri": "https://localhost:8080/"
        },
        "id": "eQIQdRNZWv0n",
        "outputId": "9a608311-b1df-4583-929e-f0604c6da97f"
      },
      "execution_count": 26,
      "outputs": [
        {
          "output_type": "execute_result",
          "data": {
            "text/plain": [
              "array([2, 3, 1, ..., 0, 0, 0])"
            ]
          },
          "metadata": {},
          "execution_count": 26
        }
      ]
    },
    {
      "cell_type": "code",
      "source": [
        "trainDataLoader = DataLoader(train_data,batch_size=32)"
      ],
      "metadata": {
        "id": "iUWRDrPXkNiF"
      },
      "execution_count": 27,
      "outputs": []
    },
    {
      "cell_type": "code",
      "source": [
        "testDataLoader = DataLoader(test_data, batch_size=32)"
      ],
      "metadata": {
        "id": "STY2ccMrbgYe"
      },
      "execution_count": 28,
      "outputs": []
    },
    {
      "cell_type": "code",
      "source": [
        "class LSTMClass(nn.Module):\n",
        "    def __init__(self,embs_nps,hidden_size,num_layers,drop_prob):\n",
        "        super().__init__()\n",
        "        self.vocab_size = embs_npa.shape[0]\n",
        "        self.embedding_dim = embs_npa.shape[1]\n",
        "        self.embedding = nn.Embedding.from_pretrained(torch.from_numpy(embs_npa).float(),freeze=True)\n",
        "        self.hidden_size = hidden_size\n",
        "        self.num_layers = num_layers\n",
        "        self.pool = nn.AdaptiveAvgPool2d((1,self.embedding_dim))\n",
        "        self.lstm = nn.LSTM(input_size=self.embedding_dim,hidden_size=self.hidden_size,num_layers=self.num_layers,batch_first=True,bidirectional=False)\n",
        "        self.dropout = nn.Dropout(drop_prob)\n",
        "        self.linear = nn.Linear(hidden_size, 4)\n",
        "        # self.softmax = nn.Softmax()\n",
        "        \n",
        "\n",
        "    def forward(self, x):\n",
        "      embed_out = self.embedding(x)\n",
        "      # print(\"emb\",embed_out.shape)\n",
        "      sentence_embed_out = self.pool(embed_out)\n",
        "      # print(\"Senemb\",sentence_embed_out.shape)\n",
        "      hnot = torch.zeros(self.num_layers,x.size(0),self.hidden_size).to(device)\n",
        "      cnot = torch.zeros(self.num_layers,x.size(0),self.hidden_size).to(device)\n",
        "      out,_ = self.lstm(sentence_embed_out,(hnot,cnot))\n",
        "      out = out[:,-1,:]\n",
        "      # print(\"lstm\",out.shape)\n",
        "      # out = self.dropout(out)\n",
        "      out = self.linear(out)\n",
        "      # print(\"lin\",out.shape)\n",
        "      # out = self.softmax(out)\n",
        "      return out"
      ],
      "metadata": {
        "id": "pkeZNTPw1SCR"
      },
      "execution_count": 74,
      "outputs": []
    },
    {
      "cell_type": "code",
      "source": [
        "lstm = LSTMClass(embs_npa,256,1,0.2).to(device)\n",
        "criterion = nn.CrossEntropyLoss()\n",
        "# criterion = nn.L1Loss()\n",
        "optimizer = optim.Adam(lstm.parameters(), lr=0.1)"
      ],
      "metadata": {
        "id": "jBR-EjRh6HVc"
      },
      "execution_count": 75,
      "outputs": []
    },
    {
      "cell_type": "code",
      "source": [
        "totalSteps = len(trainDataLoader)\n",
        "numEpochs = 10\n",
        "X = 2  # X previous utterances for t th utterance\n",
        "for epoch in range(numEpochs):  # loop over the dataset multiple times\n",
        "\n",
        "    running_loss = 0.0\n",
        "    \n",
        "    for i, data in tqdm(enumerate(trainDataLoader)):\n",
        "        # get the inputs; data is a list of [inputs, labels]\n",
        "        inputs, labels = data\n",
        "        inputs = inputs.to(device)\n",
        "        # print(\"l\",labels.shape)\n",
        "        # print(labels)\n",
        "        labels = labels.reshape((-1,)).to(device)\n",
        "        # print(\"l\",labels.shape)\n",
        "        # print(labels)\n",
        "        inputs = torch.squeeze(inputs,0)\n",
        "        # print(inputs.shape)\n",
        "        # print(inputs)\n",
        "        \n",
        "        outputs = lstm(inputs)\n",
        "        \n",
        "          \n",
        "        # outputs = torch.squeeze(outputs)\n",
        "        # outputs = outputs.reshape((-1, 1))\n",
        "        # print(outputs.shape)\n",
        "        loss = criterion(outputs, labels)\n",
        "\n",
        "        optimizer.zero_grad()\n",
        "        loss.backward()\n",
        "        optimizer.step()\n",
        "\n",
        "    \n",
        "        if (i+1) % 10 == 0:\n",
        "            print(f'Epoch {epoch + 1} / {numEpochs}, Step {i+1} / {totalSteps}, Loss: {loss.item():.4f}')\n",
        "            # print(outputs)\n",
        "\n",
        "print('Finished Training')"
      ],
      "metadata": {
        "colab": {
          "base_uri": "https://localhost:8080/"
        },
        "id": "QrgQuNUO6IG2",
        "outputId": "f345c289-d12c-4ab1-87cc-085aafb231c1"
      },
      "execution_count": 79,
      "outputs": [
        {
          "output_type": "stream",
          "name": "stderr",
          "text": [
            "11it [00:00, 104.58it/s]"
          ]
        },
        {
          "output_type": "stream",
          "name": "stdout",
          "text": [
            "Epoch 1 / 10, Step 10 / 5086, Loss: 1.4224\n",
            "Epoch 1 / 10, Step 20 / 5086, Loss: 0.0065\n"
          ]
        },
        {
          "output_type": "stream",
          "name": "stderr",
          "text": [
            "44it [00:00, 90.20it/s]"
          ]
        },
        {
          "output_type": "stream",
          "name": "stdout",
          "text": [
            "Epoch 1 / 10, Step 30 / 5086, Loss: 3.3861\n",
            "Epoch 1 / 10, Step 40 / 5086, Loss: 0.5834\n",
            "Epoch 1 / 10, Step 50 / 5086, Loss: 0.5184\n"
          ]
        },
        {
          "output_type": "stream",
          "name": "stderr",
          "text": [
            "81it [00:00, 107.99it/s]"
          ]
        },
        {
          "output_type": "stream",
          "name": "stdout",
          "text": [
            "Epoch 1 / 10, Step 60 / 5086, Loss: 0.0394\n",
            "Epoch 1 / 10, Step 70 / 5086, Loss: 0.7014\n",
            "Epoch 1 / 10, Step 80 / 5086, Loss: 0.0151\n"
          ]
        },
        {
          "output_type": "stream",
          "name": "stderr",
          "text": [
            "106it [00:01, 114.63it/s]"
          ]
        },
        {
          "output_type": "stream",
          "name": "stdout",
          "text": [
            "Epoch 1 / 10, Step 90 / 5086, Loss: 0.2605\n",
            "Epoch 1 / 10, Step 100 / 5086, Loss: 0.2853\n",
            "Epoch 1 / 10, Step 110 / 5086, Loss: 2.7427\n"
          ]
        },
        {
          "output_type": "stream",
          "name": "stderr",
          "text": [
            "143it [00:01, 113.16it/s]"
          ]
        },
        {
          "output_type": "stream",
          "name": "stdout",
          "text": [
            "Epoch 1 / 10, Step 120 / 5086, Loss: 6.0277\n",
            "Epoch 1 / 10, Step 130 / 5086, Loss: 5.6657\n",
            "Epoch 1 / 10, Step 140 / 5086, Loss: 8.1626\n"
          ]
        },
        {
          "output_type": "stream",
          "name": "stderr",
          "text": [
            "\r155it [00:01, 105.51it/s]"
          ]
        },
        {
          "output_type": "stream",
          "name": "stdout",
          "text": [
            "Epoch 1 / 10, Step 150 / 5086, Loss: 0.9201\n",
            "Epoch 1 / 10, Step 160 / 5086, Loss: 3.9416\n"
          ]
        },
        {
          "output_type": "stream",
          "name": "stderr",
          "text": [
            "176it [00:01, 69.56it/s]"
          ]
        },
        {
          "output_type": "stream",
          "name": "stdout",
          "text": [
            "Epoch 1 / 10, Step 170 / 5086, Loss: 0.1076\n"
          ]
        },
        {
          "output_type": "stream",
          "name": "stderr",
          "text": [
            "\r185it [00:02, 59.36it/s]"
          ]
        },
        {
          "output_type": "stream",
          "name": "stdout",
          "text": [
            "Epoch 1 / 10, Step 180 / 5086, Loss: 0.2790\n",
            "Epoch 1 / 10, Step 190 / 5086, Loss: 0.3683\n"
          ]
        },
        {
          "output_type": "stream",
          "name": "stderr",
          "text": [
            "224it [00:02, 100.47it/s]"
          ]
        },
        {
          "output_type": "stream",
          "name": "stdout",
          "text": [
            "Epoch 1 / 10, Step 200 / 5086, Loss: 1.2875\n",
            "Epoch 1 / 10, Step 210 / 5086, Loss: 2.8986\n",
            "Epoch 1 / 10, Step 220 / 5086, Loss: 0.3770\n",
            "Epoch 1 / 10, Step 230 / 5086, Loss: 2.4790\n"
          ]
        },
        {
          "output_type": "stream",
          "name": "stderr",
          "text": [
            "259it [00:02, 131.89it/s]"
          ]
        },
        {
          "output_type": "stream",
          "name": "stdout",
          "text": [
            "Epoch 1 / 10, Step 240 / 5086, Loss: 2.6646\n",
            "Epoch 1 / 10, Step 250 / 5086, Loss: 2.6342\n",
            "Epoch 1 / 10, Step 260 / 5086, Loss: 3.2902\n",
            "Epoch 1 / 10, Step 270 / 5086, Loss: 3.2259\n"
          ]
        },
        {
          "output_type": "stream",
          "name": "stderr",
          "text": [
            "311it [00:02, 154.79it/s]"
          ]
        },
        {
          "output_type": "stream",
          "name": "stdout",
          "text": [
            "Epoch 1 / 10, Step 280 / 5086, Loss: 12.6820\n",
            "Epoch 1 / 10, Step 290 / 5086, Loss: 4.0758\n",
            "Epoch 1 / 10, Step 300 / 5086, Loss: 0.2655\n",
            "Epoch 1 / 10, Step 310 / 5086, Loss: 1.3336\n"
          ]
        },
        {
          "output_type": "stream",
          "name": "stderr",
          "text": [
            "347it [00:03, 163.41it/s]"
          ]
        },
        {
          "output_type": "stream",
          "name": "stdout",
          "text": [
            "Epoch 1 / 10, Step 320 / 5086, Loss: 1.2285\n",
            "Epoch 1 / 10, Step 330 / 5086, Loss: 0.5307\n",
            "Epoch 1 / 10, Step 340 / 5086, Loss: 0.0529\n",
            "Epoch 1 / 10, Step 350 / 5086, Loss: 0.5225\n"
          ]
        },
        {
          "output_type": "stream",
          "name": "stderr",
          "text": [
            "383it [00:03, 171.50it/s]"
          ]
        },
        {
          "output_type": "stream",
          "name": "stdout",
          "text": [
            "Epoch 1 / 10, Step 360 / 5086, Loss: 1.8194\n",
            "Epoch 1 / 10, Step 370 / 5086, Loss: 0.2071\n",
            "Epoch 1 / 10, Step 380 / 5086, Loss: 0.0349\n",
            "Epoch 1 / 10, Step 390 / 5086, Loss: 2.0593\n"
          ]
        },
        {
          "output_type": "stream",
          "name": "stderr",
          "text": [
            "419it [00:03, 168.42it/s]"
          ]
        },
        {
          "output_type": "stream",
          "name": "stdout",
          "text": [
            "Epoch 1 / 10, Step 400 / 5086, Loss: 1.8930\n",
            "Epoch 1 / 10, Step 410 / 5086, Loss: 0.1618\n",
            "Epoch 1 / 10, Step 420 / 5086, Loss: 6.3390\n",
            "Epoch 1 / 10, Step 430 / 5086, Loss: 0.4479\n"
          ]
        },
        {
          "output_type": "stream",
          "name": "stderr",
          "text": [
            "474it [00:03, 174.96it/s]"
          ]
        },
        {
          "output_type": "stream",
          "name": "stdout",
          "text": [
            "Epoch 1 / 10, Step 440 / 5086, Loss: 1.3034\n",
            "Epoch 1 / 10, Step 450 / 5086, Loss: 3.7441\n",
            "Epoch 1 / 10, Step 460 / 5086, Loss: 1.0822\n",
            "Epoch 1 / 10, Step 470 / 5086, Loss: 1.8433\n"
          ]
        },
        {
          "output_type": "stream",
          "name": "stderr",
          "text": [
            "512it [00:04, 180.34it/s]"
          ]
        },
        {
          "output_type": "stream",
          "name": "stdout",
          "text": [
            "Epoch 1 / 10, Step 480 / 5086, Loss: 2.4838\n",
            "Epoch 1 / 10, Step 490 / 5086, Loss: 0.9347\n",
            "Epoch 1 / 10, Step 500 / 5086, Loss: 1.9395\n",
            "Epoch 1 / 10, Step 510 / 5086, Loss: 0.1227\n"
          ]
        },
        {
          "output_type": "stream",
          "name": "stderr",
          "text": [
            "549it [00:04, 168.56it/s]"
          ]
        },
        {
          "output_type": "stream",
          "name": "stdout",
          "text": [
            "Epoch 1 / 10, Step 520 / 5086, Loss: 0.0078\n",
            "Epoch 1 / 10, Step 530 / 5086, Loss: 0.0000\n",
            "Epoch 1 / 10, Step 540 / 5086, Loss: 0.9005\n",
            "Epoch 1 / 10, Step 550 / 5086, Loss: 0.8153\n"
          ]
        },
        {
          "output_type": "stream",
          "name": "stderr",
          "text": [
            "585it [00:04, 171.29it/s]"
          ]
        },
        {
          "output_type": "stream",
          "name": "stdout",
          "text": [
            "Epoch 1 / 10, Step 560 / 5086, Loss: 0.9522\n",
            "Epoch 1 / 10, Step 570 / 5086, Loss: 0.2677\n",
            "Epoch 1 / 10, Step 580 / 5086, Loss: 2.5614\n",
            "Epoch 1 / 10, Step 590 / 5086, Loss: 2.5118\n"
          ]
        },
        {
          "output_type": "stream",
          "name": "stderr",
          "text": [
            "621it [00:04, 169.05it/s]"
          ]
        },
        {
          "output_type": "stream",
          "name": "stdout",
          "text": [
            "Epoch 1 / 10, Step 600 / 5086, Loss: 0.9700\n",
            "Epoch 1 / 10, Step 610 / 5086, Loss: 1.8488\n",
            "Epoch 1 / 10, Step 620 / 5086, Loss: 1.0965\n",
            "Epoch 1 / 10, Step 630 / 5086, Loss: 2.2848\n"
          ]
        },
        {
          "output_type": "stream",
          "name": "stderr",
          "text": [
            "678it [00:05, 180.37it/s]"
          ]
        },
        {
          "output_type": "stream",
          "name": "stdout",
          "text": [
            "Epoch 1 / 10, Step 640 / 5086, Loss: 7.1420\n",
            "Epoch 1 / 10, Step 650 / 5086, Loss: 1.6119\n",
            "Epoch 1 / 10, Step 660 / 5086, Loss: 0.5073\n",
            "Epoch 1 / 10, Step 670 / 5086, Loss: 1.3435\n"
          ]
        },
        {
          "output_type": "stream",
          "name": "stderr",
          "text": [
            "715it [00:05, 177.85it/s]"
          ]
        },
        {
          "output_type": "stream",
          "name": "stdout",
          "text": [
            "Epoch 1 / 10, Step 680 / 5086, Loss: 2.3022\n",
            "Epoch 1 / 10, Step 690 / 5086, Loss: 4.2494\n",
            "Epoch 1 / 10, Step 700 / 5086, Loss: 4.3038\n",
            "Epoch 1 / 10, Step 710 / 5086, Loss: 1.1698\n"
          ]
        },
        {
          "output_type": "stream",
          "name": "stderr",
          "text": [
            "754it [00:05, 183.28it/s]"
          ]
        },
        {
          "output_type": "stream",
          "name": "stdout",
          "text": [
            "Epoch 1 / 10, Step 720 / 5086, Loss: 0.8028\n",
            "Epoch 1 / 10, Step 730 / 5086, Loss: 3.2004\n",
            "Epoch 1 / 10, Step 740 / 5086, Loss: 4.1117\n",
            "Epoch 1 / 10, Step 750 / 5086, Loss: 0.6298\n"
          ]
        },
        {
          "output_type": "stream",
          "name": "stderr",
          "text": [
            "793it [00:05, 184.69it/s]"
          ]
        },
        {
          "output_type": "stream",
          "name": "stdout",
          "text": [
            "Epoch 1 / 10, Step 760 / 5086, Loss: 0.6634\n",
            "Epoch 1 / 10, Step 770 / 5086, Loss: 10.3632\n",
            "Epoch 1 / 10, Step 780 / 5086, Loss: 3.7989\n",
            "Epoch 1 / 10, Step 790 / 5086, Loss: 0.0451\n"
          ]
        },
        {
          "output_type": "stream",
          "name": "stderr",
          "text": [
            "833it [00:05, 189.96it/s]"
          ]
        },
        {
          "output_type": "stream",
          "name": "stdout",
          "text": [
            "Epoch 1 / 10, Step 800 / 5086, Loss: 16.5187\n",
            "Epoch 1 / 10, Step 810 / 5086, Loss: 4.9450\n",
            "Epoch 1 / 10, Step 820 / 5086, Loss: 10.1288\n",
            "Epoch 1 / 10, Step 830 / 5086, Loss: 12.4701\n"
          ]
        },
        {
          "output_type": "stream",
          "name": "stderr",
          "text": [
            "873it [00:06, 188.67it/s]"
          ]
        },
        {
          "output_type": "stream",
          "name": "stdout",
          "text": [
            "Epoch 1 / 10, Step 840 / 5086, Loss: 8.1540\n",
            "Epoch 1 / 10, Step 850 / 5086, Loss: 1.6544\n",
            "Epoch 1 / 10, Step 860 / 5086, Loss: 1.1565\n",
            "Epoch 1 / 10, Step 870 / 5086, Loss: 0.0055\n"
          ]
        },
        {
          "output_type": "stream",
          "name": "stderr",
          "text": [
            "911it [00:06, 186.52it/s]"
          ]
        },
        {
          "output_type": "stream",
          "name": "stdout",
          "text": [
            "Epoch 1 / 10, Step 880 / 5086, Loss: 2.0567\n",
            "Epoch 1 / 10, Step 890 / 5086, Loss: 3.2133\n",
            "Epoch 1 / 10, Step 900 / 5086, Loss: 2.4401\n",
            "Epoch 1 / 10, Step 910 / 5086, Loss: 1.1738\n"
          ]
        },
        {
          "output_type": "stream",
          "name": "stderr",
          "text": [
            "949it [00:06, 185.05it/s]"
          ]
        },
        {
          "output_type": "stream",
          "name": "stdout",
          "text": [
            "Epoch 1 / 10, Step 920 / 5086, Loss: 1.0122\n",
            "Epoch 1 / 10, Step 930 / 5086, Loss: 0.0068\n",
            "Epoch 1 / 10, Step 940 / 5086, Loss: 0.7840\n",
            "Epoch 1 / 10, Step 950 / 5086, Loss: 1.6870\n"
          ]
        },
        {
          "output_type": "stream",
          "name": "stderr",
          "text": [
            "987it [00:06, 180.31it/s]"
          ]
        },
        {
          "output_type": "stream",
          "name": "stdout",
          "text": [
            "Epoch 1 / 10, Step 960 / 5086, Loss: 7.6141\n",
            "Epoch 1 / 10, Step 970 / 5086, Loss: 0.8701\n",
            "Epoch 1 / 10, Step 980 / 5086, Loss: 2.8023\n",
            "Epoch 1 / 10, Step 990 / 5086, Loss: 3.4678\n"
          ]
        },
        {
          "output_type": "stream",
          "name": "stderr",
          "text": [
            "1025it [00:06, 182.00it/s]"
          ]
        },
        {
          "output_type": "stream",
          "name": "stdout",
          "text": [
            "Epoch 1 / 10, Step 1000 / 5086, Loss: 2.9515\n",
            "Epoch 1 / 10, Step 1010 / 5086, Loss: 0.1521\n",
            "Epoch 1 / 10, Step 1020 / 5086, Loss: 0.9456\n",
            "Epoch 1 / 10, Step 1030 / 5086, Loss: 0.6781\n"
          ]
        },
        {
          "output_type": "stream",
          "name": "stderr",
          "text": [
            "1065it [00:07, 188.54it/s]"
          ]
        },
        {
          "output_type": "stream",
          "name": "stdout",
          "text": [
            "Epoch 1 / 10, Step 1040 / 5086, Loss: 1.1373\n",
            "Epoch 1 / 10, Step 1050 / 5086, Loss: 1.0473\n",
            "Epoch 1 / 10, Step 1060 / 5086, Loss: 10.9000\n",
            "Epoch 1 / 10, Step 1070 / 5086, Loss: 8.0224\n"
          ]
        },
        {
          "output_type": "stream",
          "name": "stderr",
          "text": [
            "1103it [00:07, 186.94it/s]"
          ]
        },
        {
          "output_type": "stream",
          "name": "stdout",
          "text": [
            "Epoch 1 / 10, Step 1080 / 5086, Loss: 2.6137\n",
            "Epoch 1 / 10, Step 1090 / 5086, Loss: 0.0033\n",
            "Epoch 1 / 10, Step 1100 / 5086, Loss: 3.1176\n",
            "Epoch 1 / 10, Step 1110 / 5086, Loss: 0.8432\n"
          ]
        },
        {
          "output_type": "stream",
          "name": "stderr",
          "text": [
            "1141it [00:07, 184.08it/s]"
          ]
        },
        {
          "output_type": "stream",
          "name": "stdout",
          "text": [
            "Epoch 1 / 10, Step 1120 / 5086, Loss: 0.4123\n",
            "Epoch 1 / 10, Step 1130 / 5086, Loss: 3.4872\n",
            "Epoch 1 / 10, Step 1140 / 5086, Loss: 0.9491\n",
            "Epoch 1 / 10, Step 1150 / 5086, Loss: 0.2667\n"
          ]
        },
        {
          "output_type": "stream",
          "name": "stderr",
          "text": [
            "1179it [00:07, 179.45it/s]"
          ]
        },
        {
          "output_type": "stream",
          "name": "stdout",
          "text": [
            "Epoch 1 / 10, Step 1160 / 5086, Loss: 5.7226\n",
            "Epoch 1 / 10, Step 1170 / 5086, Loss: 3.1931\n",
            "Epoch 1 / 10, Step 1180 / 5086, Loss: 0.0007\n",
            "Epoch 1 / 10, Step 1190 / 5086, Loss: 1.9695\n"
          ]
        },
        {
          "output_type": "stream",
          "name": "stderr",
          "text": [
            "1233it [00:08, 175.43it/s]"
          ]
        },
        {
          "output_type": "stream",
          "name": "stdout",
          "text": [
            "Epoch 1 / 10, Step 1200 / 5086, Loss: 0.0877\n",
            "Epoch 1 / 10, Step 1210 / 5086, Loss: 2.9070\n",
            "Epoch 1 / 10, Step 1220 / 5086, Loss: 1.4522\n",
            "Epoch 1 / 10, Step 1230 / 5086, Loss: 17.6884\n"
          ]
        },
        {
          "output_type": "stream",
          "name": "stderr",
          "text": [
            "1270it [00:08, 177.51it/s]"
          ]
        },
        {
          "output_type": "stream",
          "name": "stdout",
          "text": [
            "Epoch 1 / 10, Step 1240 / 5086, Loss: 6.2522\n",
            "Epoch 1 / 10, Step 1250 / 5086, Loss: 8.5872\n",
            "Epoch 1 / 10, Step 1260 / 5086, Loss: 2.1838\n",
            "Epoch 1 / 10, Step 1270 / 5086, Loss: 4.1715\n"
          ]
        },
        {
          "output_type": "stream",
          "name": "stderr",
          "text": [
            "1308it [00:08, 177.55it/s]"
          ]
        },
        {
          "output_type": "stream",
          "name": "stdout",
          "text": [
            "Epoch 1 / 10, Step 1280 / 5086, Loss: 0.0345\n",
            "Epoch 1 / 10, Step 1290 / 5086, Loss: 1.7015\n",
            "Epoch 1 / 10, Step 1300 / 5086, Loss: 1.4374\n",
            "Epoch 1 / 10, Step 1310 / 5086, Loss: 0.6237\n"
          ]
        },
        {
          "output_type": "stream",
          "name": "stderr",
          "text": [
            "1344it [00:08, 172.39it/s]"
          ]
        },
        {
          "output_type": "stream",
          "name": "stdout",
          "text": [
            "Epoch 1 / 10, Step 1320 / 5086, Loss: 1.1095\n",
            "Epoch 1 / 10, Step 1330 / 5086, Loss: 1.7753\n",
            "Epoch 1 / 10, Step 1340 / 5086, Loss: 5.4516\n",
            "Epoch 1 / 10, Step 1350 / 5086, Loss: 5.7680\n"
          ]
        },
        {
          "output_type": "stream",
          "name": "stderr",
          "text": [
            "1380it [00:08, 173.73it/s]"
          ]
        },
        {
          "output_type": "stream",
          "name": "stdout",
          "text": [
            "Epoch 1 / 10, Step 1360 / 5086, Loss: 0.4346\n",
            "Epoch 1 / 10, Step 1370 / 5086, Loss: 3.0490\n",
            "Epoch 1 / 10, Step 1380 / 5086, Loss: 4.0226\n",
            "Epoch 1 / 10, Step 1390 / 5086, Loss: 1.3609\n"
          ]
        },
        {
          "output_type": "stream",
          "name": "stderr",
          "text": [
            "1436it [00:09, 179.96it/s]"
          ]
        },
        {
          "output_type": "stream",
          "name": "stdout",
          "text": [
            "Epoch 1 / 10, Step 1400 / 5086, Loss: 1.9794\n",
            "Epoch 1 / 10, Step 1410 / 5086, Loss: 29.6837\n",
            "Epoch 1 / 10, Step 1420 / 5086, Loss: 0.0702\n",
            "Epoch 1 / 10, Step 1430 / 5086, Loss: 2.5008\n"
          ]
        },
        {
          "output_type": "stream",
          "name": "stderr",
          "text": [
            "1475it [00:09, 183.81it/s]"
          ]
        },
        {
          "output_type": "stream",
          "name": "stdout",
          "text": [
            "Epoch 1 / 10, Step 1440 / 5086, Loss: 2.7264\n",
            "Epoch 1 / 10, Step 1450 / 5086, Loss: 6.9119\n",
            "Epoch 1 / 10, Step 1460 / 5086, Loss: 1.9976\n",
            "Epoch 1 / 10, Step 1470 / 5086, Loss: 0.4412\n"
          ]
        },
        {
          "output_type": "stream",
          "name": "stderr",
          "text": [
            "1513it [00:09, 182.17it/s]"
          ]
        },
        {
          "output_type": "stream",
          "name": "stdout",
          "text": [
            "Epoch 1 / 10, Step 1480 / 5086, Loss: 0.4301\n",
            "Epoch 1 / 10, Step 1490 / 5086, Loss: 1.5640\n",
            "Epoch 1 / 10, Step 1500 / 5086, Loss: 7.2031\n",
            "Epoch 1 / 10, Step 1510 / 5086, Loss: 0.0138\n"
          ]
        },
        {
          "output_type": "stream",
          "name": "stderr",
          "text": [
            "1552it [00:09, 180.39it/s]"
          ]
        },
        {
          "output_type": "stream",
          "name": "stdout",
          "text": [
            "Epoch 1 / 10, Step 1520 / 5086, Loss: 0.1837\n",
            "Epoch 1 / 10, Step 1530 / 5086, Loss: 2.5090\n",
            "Epoch 1 / 10, Step 1540 / 5086, Loss: 0.5318\n",
            "Epoch 1 / 10, Step 1550 / 5086, Loss: 1.2063\n"
          ]
        },
        {
          "output_type": "stream",
          "name": "stderr",
          "text": [
            "1590it [00:10, 181.71it/s]"
          ]
        },
        {
          "output_type": "stream",
          "name": "stdout",
          "text": [
            "Epoch 1 / 10, Step 1560 / 5086, Loss: 3.1266\n",
            "Epoch 1 / 10, Step 1570 / 5086, Loss: 10.1629\n",
            "Epoch 1 / 10, Step 1580 / 5086, Loss: 0.0014\n",
            "Epoch 1 / 10, Step 1590 / 5086, Loss: 4.3797\n"
          ]
        },
        {
          "output_type": "stream",
          "name": "stderr",
          "text": [
            "1628it [00:10, 180.23it/s]"
          ]
        },
        {
          "output_type": "stream",
          "name": "stdout",
          "text": [
            "Epoch 1 / 10, Step 1600 / 5086, Loss: 5.2262\n",
            "Epoch 1 / 10, Step 1610 / 5086, Loss: 0.3695\n",
            "Epoch 1 / 10, Step 1620 / 5086, Loss: 0.6446\n",
            "Epoch 1 / 10, Step 1630 / 5086, Loss: 0.0000\n"
          ]
        },
        {
          "output_type": "stream",
          "name": "stderr",
          "text": [
            "1668it [00:10, 188.02it/s]"
          ]
        },
        {
          "output_type": "stream",
          "name": "stdout",
          "text": [
            "Epoch 1 / 10, Step 1640 / 5086, Loss: 3.5201\n",
            "Epoch 1 / 10, Step 1650 / 5086, Loss: 0.0524\n",
            "Epoch 1 / 10, Step 1660 / 5086, Loss: 1.7382\n",
            "Epoch 1 / 10, Step 1670 / 5086, Loss: 1.0327\n",
            "Epoch 1 / 10, Step 1680 / 5086, Loss: 0.0148\n"
          ]
        },
        {
          "output_type": "stream",
          "name": "stderr",
          "text": [
            "1708it [00:10, 190.22it/s]"
          ]
        },
        {
          "output_type": "stream",
          "name": "stdout",
          "text": [
            "Epoch 1 / 10, Step 1690 / 5086, Loss: 2.2477\n",
            "Epoch 1 / 10, Step 1700 / 5086, Loss: 0.4865\n",
            "Epoch 1 / 10, Step 1710 / 5086, Loss: 0.2727\n",
            "Epoch 1 / 10, Step 1720 / 5086, Loss: 0.1557\n"
          ]
        },
        {
          "output_type": "stream",
          "name": "stderr",
          "text": [
            "1768it [00:11, 189.46it/s]"
          ]
        },
        {
          "output_type": "stream",
          "name": "stdout",
          "text": [
            "Epoch 1 / 10, Step 1730 / 5086, Loss: 0.2372\n",
            "Epoch 1 / 10, Step 1740 / 5086, Loss: 0.0120\n",
            "Epoch 1 / 10, Step 1750 / 5086, Loss: 2.6637\n",
            "Epoch 1 / 10, Step 1760 / 5086, Loss: 0.8550\n"
          ]
        },
        {
          "output_type": "stream",
          "name": "stderr",
          "text": [
            "1808it [00:11, 190.74it/s]"
          ]
        },
        {
          "output_type": "stream",
          "name": "stdout",
          "text": [
            "Epoch 1 / 10, Step 1770 / 5086, Loss: 1.0218\n",
            "Epoch 1 / 10, Step 1780 / 5086, Loss: 0.6030\n",
            "Epoch 1 / 10, Step 1790 / 5086, Loss: 1.5353\n",
            "Epoch 1 / 10, Step 1800 / 5086, Loss: 0.2881\n"
          ]
        },
        {
          "output_type": "stream",
          "name": "stderr",
          "text": [
            "1848it [00:11, 187.99it/s]"
          ]
        },
        {
          "output_type": "stream",
          "name": "stdout",
          "text": [
            "Epoch 1 / 10, Step 1810 / 5086, Loss: 4.8552\n",
            "Epoch 1 / 10, Step 1820 / 5086, Loss: 1.2644\n",
            "Epoch 1 / 10, Step 1830 / 5086, Loss: 2.0235\n",
            "Epoch 1 / 10, Step 1840 / 5086, Loss: 3.5543\n"
          ]
        },
        {
          "output_type": "stream",
          "name": "stderr",
          "text": [
            "\r1867it [00:11, 181.77it/s]"
          ]
        },
        {
          "output_type": "stream",
          "name": "stdout",
          "text": [
            "Epoch 1 / 10, Step 1850 / 5086, Loss: 0.1880\n",
            "Epoch 1 / 10, Step 1860 / 5086, Loss: 2.3374\n",
            "Epoch 1 / 10, Step 1870 / 5086, Loss: 3.6601\n",
            "Epoch 1 / 10, Step 1880 / 5086, Loss: 5.0894\n"
          ]
        },
        {
          "output_type": "stream",
          "name": "stderr",
          "text": [
            "1924it [00:11, 176.80it/s]"
          ]
        },
        {
          "output_type": "stream",
          "name": "stdout",
          "text": [
            "Epoch 1 / 10, Step 1890 / 5086, Loss: 3.2520\n",
            "Epoch 1 / 10, Step 1900 / 5086, Loss: 3.7479\n",
            "Epoch 1 / 10, Step 1910 / 5086, Loss: 0.0004\n",
            "Epoch 1 / 10, Step 1920 / 5086, Loss: 7.4751\n"
          ]
        },
        {
          "output_type": "stream",
          "name": "stderr",
          "text": [
            "1961it [00:12, 179.37it/s]"
          ]
        },
        {
          "output_type": "stream",
          "name": "stdout",
          "text": [
            "Epoch 1 / 10, Step 1930 / 5086, Loss: 0.8648\n",
            "Epoch 1 / 10, Step 1940 / 5086, Loss: 0.0475\n",
            "Epoch 1 / 10, Step 1950 / 5086, Loss: 4.8671\n",
            "Epoch 1 / 10, Step 1960 / 5086, Loss: 2.1855\n"
          ]
        },
        {
          "output_type": "stream",
          "name": "stderr",
          "text": [
            "1998it [00:12, 178.92it/s]"
          ]
        },
        {
          "output_type": "stream",
          "name": "stdout",
          "text": [
            "Epoch 1 / 10, Step 1970 / 5086, Loss: 0.4074\n",
            "Epoch 1 / 10, Step 1980 / 5086, Loss: 0.9032\n",
            "Epoch 1 / 10, Step 1990 / 5086, Loss: 2.5133\n",
            "Epoch 1 / 10, Step 2000 / 5086, Loss: 0.0588\n"
          ]
        },
        {
          "output_type": "stream",
          "name": "stderr",
          "text": [
            "2035it [00:12, 180.24it/s]"
          ]
        },
        {
          "output_type": "stream",
          "name": "stdout",
          "text": [
            "Epoch 1 / 10, Step 2010 / 5086, Loss: 2.5846\n",
            "Epoch 1 / 10, Step 2020 / 5086, Loss: 3.8174\n",
            "Epoch 1 / 10, Step 2030 / 5086, Loss: 1.6044\n",
            "Epoch 1 / 10, Step 2040 / 5086, Loss: 4.3254\n"
          ]
        },
        {
          "output_type": "stream",
          "name": "stderr",
          "text": [
            "2073it [00:12, 175.79it/s]"
          ]
        },
        {
          "output_type": "stream",
          "name": "stdout",
          "text": [
            "Epoch 1 / 10, Step 2050 / 5086, Loss: 5.4386\n",
            "Epoch 1 / 10, Step 2060 / 5086, Loss: 2.4448\n",
            "Epoch 1 / 10, Step 2070 / 5086, Loss: 11.5748\n",
            "Epoch 1 / 10, Step 2080 / 5086, Loss: 4.9637\n"
          ]
        },
        {
          "output_type": "stream",
          "name": "stderr",
          "text": [
            "2109it [00:12, 174.17it/s]"
          ]
        },
        {
          "output_type": "stream",
          "name": "stdout",
          "text": [
            "Epoch 1 / 10, Step 2090 / 5086, Loss: 0.6831\n",
            "Epoch 1 / 10, Step 2100 / 5086, Loss: 1.0589\n",
            "Epoch 1 / 10, Step 2110 / 5086, Loss: 10.9752\n",
            "Epoch 1 / 10, Step 2120 / 5086, Loss: 8.8820\n"
          ]
        },
        {
          "output_type": "stream",
          "name": "stderr",
          "text": [
            "2166it [00:13, 182.20it/s]"
          ]
        },
        {
          "output_type": "stream",
          "name": "stdout",
          "text": [
            "Epoch 1 / 10, Step 2130 / 5086, Loss: 7.4306\n",
            "Epoch 1 / 10, Step 2140 / 5086, Loss: 0.0515\n",
            "Epoch 1 / 10, Step 2150 / 5086, Loss: 0.0044\n",
            "Epoch 1 / 10, Step 2160 / 5086, Loss: 7.9976\n"
          ]
        },
        {
          "output_type": "stream",
          "name": "stderr",
          "text": [
            "2205it [00:13, 185.84it/s]"
          ]
        },
        {
          "output_type": "stream",
          "name": "stdout",
          "text": [
            "Epoch 1 / 10, Step 2170 / 5086, Loss: 0.0408\n",
            "Epoch 1 / 10, Step 2180 / 5086, Loss: 7.8219\n",
            "Epoch 1 / 10, Step 2190 / 5086, Loss: 5.7386\n",
            "Epoch 1 / 10, Step 2200 / 5086, Loss: 8.6668\n"
          ]
        },
        {
          "output_type": "stream",
          "name": "stderr",
          "text": [
            "2243it [00:13, 180.89it/s]"
          ]
        },
        {
          "output_type": "stream",
          "name": "stdout",
          "text": [
            "Epoch 1 / 10, Step 2210 / 5086, Loss: 1.5064\n",
            "Epoch 1 / 10, Step 2220 / 5086, Loss: 0.0137\n",
            "Epoch 1 / 10, Step 2230 / 5086, Loss: 8.4967\n",
            "Epoch 1 / 10, Step 2240 / 5086, Loss: 0.0978\n"
          ]
        },
        {
          "output_type": "stream",
          "name": "stderr",
          "text": [
            "2281it [00:13, 175.13it/s]"
          ]
        },
        {
          "output_type": "stream",
          "name": "stdout",
          "text": [
            "Epoch 1 / 10, Step 2250 / 5086, Loss: 0.0075\n",
            "Epoch 1 / 10, Step 2260 / 5086, Loss: 0.9220\n",
            "Epoch 1 / 10, Step 2270 / 5086, Loss: 0.8630\n",
            "Epoch 1 / 10, Step 2280 / 5086, Loss: 5.1955\n"
          ]
        },
        {
          "output_type": "stream",
          "name": "stderr",
          "text": [
            "2317it [00:14, 176.10it/s]"
          ]
        },
        {
          "output_type": "stream",
          "name": "stdout",
          "text": [
            "Epoch 1 / 10, Step 2290 / 5086, Loss: 0.1250\n",
            "Epoch 1 / 10, Step 2300 / 5086, Loss: 0.6331\n",
            "Epoch 1 / 10, Step 2310 / 5086, Loss: 0.2659\n",
            "Epoch 1 / 10, Step 2320 / 5086, Loss: 0.0000\n"
          ]
        },
        {
          "output_type": "stream",
          "name": "stderr",
          "text": [
            "2354it [00:14, 177.72it/s]"
          ]
        },
        {
          "output_type": "stream",
          "name": "stdout",
          "text": [
            "Epoch 1 / 10, Step 2330 / 5086, Loss: 8.4098\n",
            "Epoch 1 / 10, Step 2340 / 5086, Loss: 0.9785\n",
            "Epoch 1 / 10, Step 2350 / 5086, Loss: 1.6034\n",
            "Epoch 1 / 10, Step 2360 / 5086, Loss: 6.7952\n"
          ]
        },
        {
          "output_type": "stream",
          "name": "stderr",
          "text": [
            "2390it [00:14, 175.39it/s]"
          ]
        },
        {
          "output_type": "stream",
          "name": "stdout",
          "text": [
            "Epoch 1 / 10, Step 2370 / 5086, Loss: 3.6266\n",
            "Epoch 1 / 10, Step 2380 / 5086, Loss: 12.5570\n",
            "Epoch 1 / 10, Step 2390 / 5086, Loss: 1.4891\n",
            "Epoch 1 / 10, Step 2400 / 5086, Loss: 0.8661\n"
          ]
        },
        {
          "output_type": "stream",
          "name": "stderr",
          "text": [
            "2426it [00:14, 170.31it/s]"
          ]
        },
        {
          "output_type": "stream",
          "name": "stdout",
          "text": [
            "Epoch 1 / 10, Step 2410 / 5086, Loss: 0.2566\n",
            "Epoch 1 / 10, Step 2420 / 5086, Loss: 0.0070\n",
            "Epoch 1 / 10, Step 2430 / 5086, Loss: 1.2782\n",
            "Epoch 1 / 10, Step 2440 / 5086, Loss: 0.1577\n"
          ]
        },
        {
          "output_type": "stream",
          "name": "stderr",
          "text": [
            "2482it [00:15, 171.78it/s]"
          ]
        },
        {
          "output_type": "stream",
          "name": "stdout",
          "text": [
            "Epoch 1 / 10, Step 2450 / 5086, Loss: 0.0352\n",
            "Epoch 1 / 10, Step 2460 / 5086, Loss: 4.0195\n",
            "Epoch 1 / 10, Step 2470 / 5086, Loss: 0.7063\n",
            "Epoch 1 / 10, Step 2480 / 5086, Loss: 0.1790\n"
          ]
        },
        {
          "output_type": "stream",
          "name": "stderr",
          "text": [
            "2518it [00:15, 173.18it/s]"
          ]
        },
        {
          "output_type": "stream",
          "name": "stdout",
          "text": [
            "Epoch 1 / 10, Step 2490 / 5086, Loss: 0.0023\n",
            "Epoch 1 / 10, Step 2500 / 5086, Loss: 17.2172\n",
            "Epoch 1 / 10, Step 2510 / 5086, Loss: 7.9864\n",
            "Epoch 1 / 10, Step 2520 / 5086, Loss: 2.6043\n"
          ]
        },
        {
          "output_type": "stream",
          "name": "stderr",
          "text": [
            "2556it [00:15, 178.35it/s]"
          ]
        },
        {
          "output_type": "stream",
          "name": "stdout",
          "text": [
            "Epoch 1 / 10, Step 2530 / 5086, Loss: 0.0039\n",
            "Epoch 1 / 10, Step 2540 / 5086, Loss: 0.3520\n",
            "Epoch 1 / 10, Step 2550 / 5086, Loss: 6.0273\n",
            "Epoch 1 / 10, Step 2560 / 5086, Loss: 0.0384\n"
          ]
        },
        {
          "output_type": "stream",
          "name": "stderr",
          "text": [
            "2594it [00:15, 182.22it/s]"
          ]
        },
        {
          "output_type": "stream",
          "name": "stdout",
          "text": [
            "Epoch 1 / 10, Step 2570 / 5086, Loss: 0.0105\n",
            "Epoch 1 / 10, Step 2580 / 5086, Loss: 1.8167\n",
            "Epoch 1 / 10, Step 2590 / 5086, Loss: 0.2166\n",
            "Epoch 1 / 10, Step 2600 / 5086, Loss: 3.7242\n"
          ]
        },
        {
          "output_type": "stream",
          "name": "stderr",
          "text": [
            "2632it [00:15, 179.34it/s]"
          ]
        },
        {
          "output_type": "stream",
          "name": "stdout",
          "text": [
            "Epoch 1 / 10, Step 2610 / 5086, Loss: 8.0345\n",
            "Epoch 1 / 10, Step 2620 / 5086, Loss: 0.1563\n",
            "Epoch 1 / 10, Step 2630 / 5086, Loss: 5.8061\n",
            "Epoch 1 / 10, Step 2640 / 5086, Loss: 6.7648\n"
          ]
        },
        {
          "output_type": "stream",
          "name": "stderr",
          "text": [
            "2670it [00:16, 183.45it/s]"
          ]
        },
        {
          "output_type": "stream",
          "name": "stdout",
          "text": [
            "Epoch 1 / 10, Step 2650 / 5086, Loss: 2.7248\n",
            "Epoch 1 / 10, Step 2660 / 5086, Loss: 2.7032\n",
            "Epoch 1 / 10, Step 2670 / 5086, Loss: 0.1311\n",
            "Epoch 1 / 10, Step 2680 / 5086, Loss: 0.7642\n"
          ]
        },
        {
          "output_type": "stream",
          "name": "stderr",
          "text": [
            "2728it [00:16, 184.88it/s]"
          ]
        },
        {
          "output_type": "stream",
          "name": "stdout",
          "text": [
            "Epoch 1 / 10, Step 2690 / 5086, Loss: 5.8116\n",
            "Epoch 1 / 10, Step 2700 / 5086, Loss: 0.4349\n",
            "Epoch 1 / 10, Step 2710 / 5086, Loss: 10.3622\n",
            "Epoch 1 / 10, Step 2720 / 5086, Loss: 0.0224\n"
          ]
        },
        {
          "output_type": "stream",
          "name": "stderr",
          "text": [
            "2766it [00:16, 181.38it/s]"
          ]
        },
        {
          "output_type": "stream",
          "name": "stdout",
          "text": [
            "Epoch 1 / 10, Step 2730 / 5086, Loss: 0.5691\n",
            "Epoch 1 / 10, Step 2740 / 5086, Loss: 0.0007\n",
            "Epoch 1 / 10, Step 2750 / 5086, Loss: 5.1081\n",
            "Epoch 1 / 10, Step 2760 / 5086, Loss: 0.0653\n"
          ]
        },
        {
          "output_type": "stream",
          "name": "stderr",
          "text": [
            "2804it [00:16, 178.58it/s]"
          ]
        },
        {
          "output_type": "stream",
          "name": "stdout",
          "text": [
            "Epoch 1 / 10, Step 2770 / 5086, Loss: 6.0780\n",
            "Epoch 1 / 10, Step 2780 / 5086, Loss: 4.8417\n",
            "Epoch 1 / 10, Step 2790 / 5086, Loss: 0.6860\n",
            "Epoch 1 / 10, Step 2800 / 5086, Loss: 7.0229\n"
          ]
        },
        {
          "output_type": "stream",
          "name": "stderr",
          "text": [
            "2842it [00:17, 176.65it/s]"
          ]
        },
        {
          "output_type": "stream",
          "name": "stdout",
          "text": [
            "Epoch 1 / 10, Step 2810 / 5086, Loss: 0.2098\n",
            "Epoch 1 / 10, Step 2820 / 5086, Loss: 1.8585\n",
            "Epoch 1 / 10, Step 2830 / 5086, Loss: 1.7089\n",
            "Epoch 1 / 10, Step 2840 / 5086, Loss: 1.6583\n"
          ]
        },
        {
          "output_type": "stream",
          "name": "stderr",
          "text": [
            "2878it [00:17, 176.99it/s]"
          ]
        },
        {
          "output_type": "stream",
          "name": "stdout",
          "text": [
            "Epoch 1 / 10, Step 2850 / 5086, Loss: 1.8836\n",
            "Epoch 1 / 10, Step 2860 / 5086, Loss: 3.1951\n",
            "Epoch 1 / 10, Step 2870 / 5086, Loss: 4.1755\n",
            "Epoch 1 / 10, Step 2880 / 5086, Loss: 3.4132\n"
          ]
        },
        {
          "output_type": "stream",
          "name": "stderr",
          "text": [
            "2914it [00:17, 175.49it/s]"
          ]
        },
        {
          "output_type": "stream",
          "name": "stdout",
          "text": [
            "Epoch 1 / 10, Step 2890 / 5086, Loss: 13.9545\n",
            "Epoch 1 / 10, Step 2900 / 5086, Loss: 6.1302\n",
            "Epoch 1 / 10, Step 2910 / 5086, Loss: 2.3738\n",
            "Epoch 1 / 10, Step 2920 / 5086, Loss: 4.1704\n"
          ]
        },
        {
          "output_type": "stream",
          "name": "stderr",
          "text": [
            "2951it [00:17, 175.41it/s]"
          ]
        },
        {
          "output_type": "stream",
          "name": "stdout",
          "text": [
            "Epoch 1 / 10, Step 2930 / 5086, Loss: 0.1166\n",
            "Epoch 1 / 10, Step 2940 / 5086, Loss: 0.0242\n",
            "Epoch 1 / 10, Step 2950 / 5086, Loss: 2.4608\n",
            "Epoch 1 / 10, Step 2960 / 5086, Loss: 2.9154\n"
          ]
        },
        {
          "output_type": "stream",
          "name": "stderr",
          "text": [
            "3006it [00:18, 176.25it/s]"
          ]
        },
        {
          "output_type": "stream",
          "name": "stdout",
          "text": [
            "Epoch 1 / 10, Step 2970 / 5086, Loss: 0.9300\n",
            "Epoch 1 / 10, Step 2980 / 5086, Loss: 0.0196\n",
            "Epoch 1 / 10, Step 2990 / 5086, Loss: 0.2533\n",
            "Epoch 1 / 10, Step 3000 / 5086, Loss: 5.5527\n"
          ]
        },
        {
          "output_type": "stream",
          "name": "stderr",
          "text": [
            "3043it [00:18, 176.78it/s]"
          ]
        },
        {
          "output_type": "stream",
          "name": "stdout",
          "text": [
            "Epoch 1 / 10, Step 3010 / 5086, Loss: 2.9209\n",
            "Epoch 1 / 10, Step 3020 / 5086, Loss: 3.8096\n",
            "Epoch 1 / 10, Step 3030 / 5086, Loss: 11.8045\n",
            "Epoch 1 / 10, Step 3040 / 5086, Loss: 2.2112\n"
          ]
        },
        {
          "output_type": "stream",
          "name": "stderr",
          "text": [
            "3079it [00:18, 175.27it/s]"
          ]
        },
        {
          "output_type": "stream",
          "name": "stdout",
          "text": [
            "Epoch 1 / 10, Step 3050 / 5086, Loss: 3.2034\n",
            "Epoch 1 / 10, Step 3060 / 5086, Loss: 7.0230\n",
            "Epoch 1 / 10, Step 3070 / 5086, Loss: 1.5747\n",
            "Epoch 1 / 10, Step 3080 / 5086, Loss: 1.2438\n"
          ]
        },
        {
          "output_type": "stream",
          "name": "stderr",
          "text": [
            "3115it [00:18, 172.67it/s]"
          ]
        },
        {
          "output_type": "stream",
          "name": "stdout",
          "text": [
            "Epoch 1 / 10, Step 3090 / 5086, Loss: 0.0448\n",
            "Epoch 1 / 10, Step 3100 / 5086, Loss: 0.0171\n",
            "Epoch 1 / 10, Step 3110 / 5086, Loss: 2.4358\n",
            "Epoch 1 / 10, Step 3120 / 5086, Loss: 3.9553\n"
          ]
        },
        {
          "output_type": "stream",
          "name": "stderr",
          "text": [
            "3152it [00:18, 176.92it/s]"
          ]
        },
        {
          "output_type": "stream",
          "name": "stdout",
          "text": [
            "Epoch 1 / 10, Step 3130 / 5086, Loss: 3.9818\n",
            "Epoch 1 / 10, Step 3140 / 5086, Loss: 4.1111\n",
            "Epoch 1 / 10, Step 3150 / 5086, Loss: 2.8329\n",
            "Epoch 1 / 10, Step 3160 / 5086, Loss: 8.2311\n"
          ]
        },
        {
          "output_type": "stream",
          "name": "stderr",
          "text": [
            "3190it [00:19, 170.88it/s]"
          ]
        },
        {
          "output_type": "stream",
          "name": "stdout",
          "text": [
            "Epoch 1 / 10, Step 3170 / 5086, Loss: 6.7673\n",
            "Epoch 1 / 10, Step 3180 / 5086, Loss: 1.8722\n",
            "Epoch 1 / 10, Step 3190 / 5086, Loss: 1.3457\n",
            "Epoch 1 / 10, Step 3200 / 5086, Loss: 2.0736\n"
          ]
        },
        {
          "output_type": "stream",
          "name": "stderr",
          "text": [
            "3246it [00:19, 176.62it/s]"
          ]
        },
        {
          "output_type": "stream",
          "name": "stdout",
          "text": [
            "Epoch 1 / 10, Step 3210 / 5086, Loss: 0.0178\n",
            "Epoch 1 / 10, Step 3220 / 5086, Loss: 1.2663\n",
            "Epoch 1 / 10, Step 3230 / 5086, Loss: 0.8057\n",
            "Epoch 1 / 10, Step 3240 / 5086, Loss: 4.7477\n"
          ]
        },
        {
          "output_type": "stream",
          "name": "stderr",
          "text": [
            "3282it [00:19, 171.66it/s]"
          ]
        },
        {
          "output_type": "stream",
          "name": "stdout",
          "text": [
            "Epoch 1 / 10, Step 3250 / 5086, Loss: 0.0633\n",
            "Epoch 1 / 10, Step 3260 / 5086, Loss: 0.8983\n",
            "Epoch 1 / 10, Step 3270 / 5086, Loss: 0.0019\n",
            "Epoch 1 / 10, Step 3280 / 5086, Loss: 0.0020\n"
          ]
        },
        {
          "output_type": "stream",
          "name": "stderr",
          "text": [
            "3319it [00:19, 171.76it/s]"
          ]
        },
        {
          "output_type": "stream",
          "name": "stdout",
          "text": [
            "Epoch 1 / 10, Step 3290 / 5086, Loss: 0.0007\n",
            "Epoch 1 / 10, Step 3300 / 5086, Loss: 0.1493\n",
            "Epoch 1 / 10, Step 3310 / 5086, Loss: 12.5769\n",
            "Epoch 1 / 10, Step 3320 / 5086, Loss: 5.4974\n"
          ]
        },
        {
          "output_type": "stream",
          "name": "stderr",
          "text": [
            "3355it [00:20, 172.38it/s]"
          ]
        },
        {
          "output_type": "stream",
          "name": "stdout",
          "text": [
            "Epoch 1 / 10, Step 3330 / 5086, Loss: 7.0984\n",
            "Epoch 1 / 10, Step 3340 / 5086, Loss: 5.9229\n",
            "Epoch 1 / 10, Step 3350 / 5086, Loss: 0.2193\n",
            "Epoch 1 / 10, Step 3360 / 5086, Loss: 6.5935\n"
          ]
        },
        {
          "output_type": "stream",
          "name": "stderr",
          "text": [
            "3391it [00:20, 173.05it/s]"
          ]
        },
        {
          "output_type": "stream",
          "name": "stdout",
          "text": [
            "Epoch 1 / 10, Step 3370 / 5086, Loss: 0.9933\n",
            "Epoch 1 / 10, Step 3380 / 5086, Loss: 0.1913\n",
            "Epoch 1 / 10, Step 3390 / 5086, Loss: 0.7538\n",
            "Epoch 1 / 10, Step 3400 / 5086, Loss: 2.0613\n"
          ]
        },
        {
          "output_type": "stream",
          "name": "stderr",
          "text": [
            "3449it [00:20, 183.53it/s]"
          ]
        },
        {
          "output_type": "stream",
          "name": "stdout",
          "text": [
            "Epoch 1 / 10, Step 3410 / 5086, Loss: 0.6642\n",
            "Epoch 1 / 10, Step 3420 / 5086, Loss: 0.1643\n",
            "Epoch 1 / 10, Step 3430 / 5086, Loss: 1.0634\n",
            "Epoch 1 / 10, Step 3440 / 5086, Loss: 0.0008\n"
          ]
        },
        {
          "output_type": "stream",
          "name": "stderr",
          "text": [
            "3488it [00:20, 186.59it/s]"
          ]
        },
        {
          "output_type": "stream",
          "name": "stdout",
          "text": [
            "Epoch 1 / 10, Step 3450 / 5086, Loss: 3.0457\n",
            "Epoch 1 / 10, Step 3460 / 5086, Loss: 5.8518\n",
            "Epoch 1 / 10, Step 3470 / 5086, Loss: 2.0234\n",
            "Epoch 1 / 10, Step 3480 / 5086, Loss: 4.9654\n"
          ]
        },
        {
          "output_type": "stream",
          "name": "stderr",
          "text": [
            "3526it [00:20, 187.02it/s]"
          ]
        },
        {
          "output_type": "stream",
          "name": "stdout",
          "text": [
            "Epoch 1 / 10, Step 3490 / 5086, Loss: 6.1888\n",
            "Epoch 1 / 10, Step 3500 / 5086, Loss: 3.1690\n",
            "Epoch 1 / 10, Step 3510 / 5086, Loss: 0.6703\n",
            "Epoch 1 / 10, Step 3520 / 5086, Loss: 0.9411\n"
          ]
        },
        {
          "output_type": "stream",
          "name": "stderr",
          "text": [
            "3564it [00:21, 180.52it/s]"
          ]
        },
        {
          "output_type": "stream",
          "name": "stdout",
          "text": [
            "Epoch 1 / 10, Step 3530 / 5086, Loss: 0.0062\n",
            "Epoch 1 / 10, Step 3540 / 5086, Loss: 0.9379\n",
            "Epoch 1 / 10, Step 3550 / 5086, Loss: 2.4551\n",
            "Epoch 1 / 10, Step 3560 / 5086, Loss: 1.4459\n"
          ]
        },
        {
          "output_type": "stream",
          "name": "stderr",
          "text": [
            "3601it [00:21, 178.90it/s]"
          ]
        },
        {
          "output_type": "stream",
          "name": "stdout",
          "text": [
            "Epoch 1 / 10, Step 3570 / 5086, Loss: 0.4826\n",
            "Epoch 1 / 10, Step 3580 / 5086, Loss: 0.6388\n",
            "Epoch 1 / 10, Step 3590 / 5086, Loss: 0.0239\n",
            "Epoch 1 / 10, Step 3600 / 5086, Loss: 0.8049\n"
          ]
        },
        {
          "output_type": "stream",
          "name": "stderr",
          "text": [
            "3637it [00:21, 175.83it/s]"
          ]
        },
        {
          "output_type": "stream",
          "name": "stdout",
          "text": [
            "Epoch 1 / 10, Step 3610 / 5086, Loss: 1.7974\n",
            "Epoch 1 / 10, Step 3620 / 5086, Loss: 1.5285\n",
            "Epoch 1 / 10, Step 3630 / 5086, Loss: 0.1977\n",
            "Epoch 1 / 10, Step 3640 / 5086, Loss: 2.3885\n"
          ]
        },
        {
          "output_type": "stream",
          "name": "stderr",
          "text": [
            "3674it [00:21, 179.31it/s]"
          ]
        },
        {
          "output_type": "stream",
          "name": "stdout",
          "text": [
            "Epoch 1 / 10, Step 3650 / 5086, Loss: 3.1054\n",
            "Epoch 1 / 10, Step 3660 / 5086, Loss: 0.6669\n",
            "Epoch 1 / 10, Step 3670 / 5086, Loss: 2.4454\n",
            "Epoch 1 / 10, Step 3680 / 5086, Loss: 0.4092\n"
          ]
        },
        {
          "output_type": "stream",
          "name": "stderr",
          "text": [
            "3711it [00:22, 173.99it/s]"
          ]
        },
        {
          "output_type": "stream",
          "name": "stdout",
          "text": [
            "Epoch 1 / 10, Step 3690 / 5086, Loss: 0.3563\n",
            "Epoch 1 / 10, Step 3700 / 5086, Loss: 3.3056\n",
            "Epoch 1 / 10, Step 3710 / 5086, Loss: 2.6316\n",
            "Epoch 1 / 10, Step 3720 / 5086, Loss: 5.3269\n"
          ]
        },
        {
          "output_type": "stream",
          "name": "stderr",
          "text": [
            "3767it [00:22, 179.47it/s]"
          ]
        },
        {
          "output_type": "stream",
          "name": "stdout",
          "text": [
            "Epoch 1 / 10, Step 3730 / 5086, Loss: 1.5356\n",
            "Epoch 1 / 10, Step 3740 / 5086, Loss: 0.6114\n",
            "Epoch 1 / 10, Step 3750 / 5086, Loss: 0.4885\n",
            "Epoch 1 / 10, Step 3760 / 5086, Loss: 0.0489\n"
          ]
        },
        {
          "output_type": "stream",
          "name": "stderr",
          "text": [
            "3804it [00:22, 182.48it/s]"
          ]
        },
        {
          "output_type": "stream",
          "name": "stdout",
          "text": [
            "Epoch 1 / 10, Step 3770 / 5086, Loss: 0.7718\n",
            "Epoch 1 / 10, Step 3780 / 5086, Loss: 0.3640\n",
            "Epoch 1 / 10, Step 3790 / 5086, Loss: 0.0211\n",
            "Epoch 1 / 10, Step 3800 / 5086, Loss: 2.3370\n"
          ]
        },
        {
          "output_type": "stream",
          "name": "stderr",
          "text": [
            "3842it [00:22, 181.74it/s]"
          ]
        },
        {
          "output_type": "stream",
          "name": "stdout",
          "text": [
            "Epoch 1 / 10, Step 3810 / 5086, Loss: 0.6815\n",
            "Epoch 1 / 10, Step 3820 / 5086, Loss: 3.5626\n",
            "Epoch 1 / 10, Step 3830 / 5086, Loss: 0.1328\n",
            "Epoch 1 / 10, Step 3840 / 5086, Loss: 0.8301\n"
          ]
        },
        {
          "output_type": "stream",
          "name": "stderr",
          "text": [
            "3880it [00:22, 176.96it/s]"
          ]
        },
        {
          "output_type": "stream",
          "name": "stdout",
          "text": [
            "Epoch 1 / 10, Step 3850 / 5086, Loss: 0.4185\n",
            "Epoch 1 / 10, Step 3860 / 5086, Loss: 0.0846\n",
            "Epoch 1 / 10, Step 3870 / 5086, Loss: 1.2704\n",
            "Epoch 1 / 10, Step 3880 / 5086, Loss: 1.5181\n"
          ]
        },
        {
          "output_type": "stream",
          "name": "stderr",
          "text": [
            "3916it [00:23, 174.33it/s]"
          ]
        },
        {
          "output_type": "stream",
          "name": "stdout",
          "text": [
            "Epoch 1 / 10, Step 3890 / 5086, Loss: 1.2341\n",
            "Epoch 1 / 10, Step 3900 / 5086, Loss: 0.0008\n",
            "Epoch 1 / 10, Step 3910 / 5086, Loss: 0.0404\n",
            "Epoch 1 / 10, Step 3920 / 5086, Loss: 0.2442\n"
          ]
        },
        {
          "output_type": "stream",
          "name": "stderr",
          "text": [
            "3954it [00:23, 179.01it/s]"
          ]
        },
        {
          "output_type": "stream",
          "name": "stdout",
          "text": [
            "Epoch 1 / 10, Step 3930 / 5086, Loss: 2.6208\n",
            "Epoch 1 / 10, Step 3940 / 5086, Loss: 3.6867\n",
            "Epoch 1 / 10, Step 3950 / 5086, Loss: 0.0118\n",
            "Epoch 1 / 10, Step 3960 / 5086, Loss: 1.3090\n"
          ]
        },
        {
          "output_type": "stream",
          "name": "stderr",
          "text": [
            "3991it [00:23, 176.66it/s]"
          ]
        },
        {
          "output_type": "stream",
          "name": "stdout",
          "text": [
            "Epoch 1 / 10, Step 3970 / 5086, Loss: 1.0813\n",
            "Epoch 1 / 10, Step 3980 / 5086, Loss: 0.0905\n",
            "Epoch 1 / 10, Step 3990 / 5086, Loss: 2.9685\n",
            "Epoch 1 / 10, Step 4000 / 5086, Loss: 2.9471\n"
          ]
        },
        {
          "output_type": "stream",
          "name": "stderr",
          "text": [
            "4048it [00:23, 182.20it/s]"
          ]
        },
        {
          "output_type": "stream",
          "name": "stdout",
          "text": [
            "Epoch 1 / 10, Step 4010 / 5086, Loss: 3.0185\n",
            "Epoch 1 / 10, Step 4020 / 5086, Loss: 2.1493\n",
            "Epoch 1 / 10, Step 4030 / 5086, Loss: 6.1526\n",
            "Epoch 1 / 10, Step 4040 / 5086, Loss: 2.1768\n"
          ]
        },
        {
          "output_type": "stream",
          "name": "stderr",
          "text": [
            "4086it [00:24, 179.71it/s]"
          ]
        },
        {
          "output_type": "stream",
          "name": "stdout",
          "text": [
            "Epoch 1 / 10, Step 4050 / 5086, Loss: 2.3828\n",
            "Epoch 1 / 10, Step 4060 / 5086, Loss: 1.5036\n",
            "Epoch 1 / 10, Step 4070 / 5086, Loss: 2.9342\n",
            "Epoch 1 / 10, Step 4080 / 5086, Loss: 1.2259\n"
          ]
        },
        {
          "output_type": "stream",
          "name": "stderr",
          "text": [
            "4123it [00:24, 176.93it/s]"
          ]
        },
        {
          "output_type": "stream",
          "name": "stdout",
          "text": [
            "Epoch 1 / 10, Step 4090 / 5086, Loss: 0.2907\n",
            "Epoch 1 / 10, Step 4100 / 5086, Loss: 0.0317\n",
            "Epoch 1 / 10, Step 4110 / 5086, Loss: 2.7597\n",
            "Epoch 1 / 10, Step 4120 / 5086, Loss: 0.5024\n"
          ]
        },
        {
          "output_type": "stream",
          "name": "stderr",
          "text": [
            "4160it [00:24, 178.22it/s]"
          ]
        },
        {
          "output_type": "stream",
          "name": "stdout",
          "text": [
            "Epoch 1 / 10, Step 4130 / 5086, Loss: 2.2597\n",
            "Epoch 1 / 10, Step 4140 / 5086, Loss: 2.0788\n",
            "Epoch 1 / 10, Step 4150 / 5086, Loss: 0.0593\n",
            "Epoch 1 / 10, Step 4160 / 5086, Loss: 0.0012\n"
          ]
        },
        {
          "output_type": "stream",
          "name": "stderr",
          "text": [
            "4198it [00:24, 181.85it/s]"
          ]
        },
        {
          "output_type": "stream",
          "name": "stdout",
          "text": [
            "Epoch 1 / 10, Step 4170 / 5086, Loss: 2.4540\n",
            "Epoch 1 / 10, Step 4180 / 5086, Loss: 4.7781\n",
            "Epoch 1 / 10, Step 4190 / 5086, Loss: 1.4659\n",
            "Epoch 1 / 10, Step 4200 / 5086, Loss: 0.9637\n"
          ]
        },
        {
          "output_type": "stream",
          "name": "stderr",
          "text": [
            "4236it [00:24, 176.39it/s]"
          ]
        },
        {
          "output_type": "stream",
          "name": "stdout",
          "text": [
            "Epoch 1 / 10, Step 4210 / 5086, Loss: 0.0014\n",
            "Epoch 1 / 10, Step 4220 / 5086, Loss: 1.1015\n",
            "Epoch 1 / 10, Step 4230 / 5086, Loss: 0.3708\n",
            "Epoch 1 / 10, Step 4240 / 5086, Loss: 0.6473\n"
          ]
        },
        {
          "output_type": "stream",
          "name": "stderr",
          "text": [
            "4272it [00:25, 173.29it/s]"
          ]
        },
        {
          "output_type": "stream",
          "name": "stdout",
          "text": [
            "Epoch 1 / 10, Step 4250 / 5086, Loss: 3.8381\n",
            "Epoch 1 / 10, Step 4260 / 5086, Loss: 4.4543\n",
            "Epoch 1 / 10, Step 4270 / 5086, Loss: 1.4381\n",
            "Epoch 1 / 10, Step 4280 / 5086, Loss: 0.1157\n"
          ]
        },
        {
          "output_type": "stream",
          "name": "stderr",
          "text": [
            "4310it [00:25, 173.28it/s]"
          ]
        },
        {
          "output_type": "stream",
          "name": "stdout",
          "text": [
            "Epoch 1 / 10, Step 4290 / 5086, Loss: 2.4040\n",
            "Epoch 1 / 10, Step 4300 / 5086, Loss: 0.1220\n",
            "Epoch 1 / 10, Step 4310 / 5086, Loss: 0.0827\n",
            "Epoch 1 / 10, Step 4320 / 5086, Loss: 0.0654\n"
          ]
        },
        {
          "output_type": "stream",
          "name": "stderr",
          "text": [
            "4350it [00:25, 185.78it/s]"
          ]
        },
        {
          "output_type": "stream",
          "name": "stdout",
          "text": [
            "Epoch 1 / 10, Step 4330 / 5086, Loss: 1.3387\n",
            "Epoch 1 / 10, Step 4340 / 5086, Loss: 0.4205\n",
            "Epoch 1 / 10, Step 4350 / 5086, Loss: 5.0527\n",
            "Epoch 1 / 10, Step 4360 / 5086, Loss: 0.0116\n",
            "Epoch 1 / 10, Step 4370 / 5086, Loss: 2.1625\n"
          ]
        },
        {
          "output_type": "stream",
          "name": "stderr",
          "text": [
            "4411it [00:25, 189.49it/s]"
          ]
        },
        {
          "output_type": "stream",
          "name": "stdout",
          "text": [
            "Epoch 1 / 10, Step 4380 / 5086, Loss: 0.8791\n",
            "Epoch 1 / 10, Step 4390 / 5086, Loss: 2.0214\n",
            "Epoch 1 / 10, Step 4400 / 5086, Loss: 4.5083\n",
            "Epoch 1 / 10, Step 4410 / 5086, Loss: 4.4438\n"
          ]
        },
        {
          "output_type": "stream",
          "name": "stderr",
          "text": [
            "4451it [00:26, 187.91it/s]"
          ]
        },
        {
          "output_type": "stream",
          "name": "stdout",
          "text": [
            "Epoch 1 / 10, Step 4420 / 5086, Loss: 4.5975\n",
            "Epoch 1 / 10, Step 4430 / 5086, Loss: 0.0146\n",
            "Epoch 1 / 10, Step 4440 / 5086, Loss: 0.0001\n",
            "Epoch 1 / 10, Step 4450 / 5086, Loss: 2.6164\n"
          ]
        },
        {
          "output_type": "stream",
          "name": "stderr",
          "text": [
            "4489it [00:26, 185.08it/s]"
          ]
        },
        {
          "output_type": "stream",
          "name": "stdout",
          "text": [
            "Epoch 1 / 10, Step 4460 / 5086, Loss: 1.3688\n",
            "Epoch 1 / 10, Step 4470 / 5086, Loss: 2.1285\n",
            "Epoch 1 / 10, Step 4480 / 5086, Loss: 5.1144\n",
            "Epoch 1 / 10, Step 4490 / 5086, Loss: 6.1139\n"
          ]
        },
        {
          "output_type": "stream",
          "name": "stderr",
          "text": [
            "4527it [00:26, 182.42it/s]"
          ]
        },
        {
          "output_type": "stream",
          "name": "stdout",
          "text": [
            "Epoch 1 / 10, Step 4500 / 5086, Loss: 0.0029\n",
            "Epoch 1 / 10, Step 4510 / 5086, Loss: 0.2643\n",
            "Epoch 1 / 10, Step 4520 / 5086, Loss: 0.5026\n",
            "Epoch 1 / 10, Step 4530 / 5086, Loss: 0.7375\n"
          ]
        },
        {
          "output_type": "stream",
          "name": "stderr",
          "text": [
            "4564it [00:26, 177.31it/s]"
          ]
        },
        {
          "output_type": "stream",
          "name": "stdout",
          "text": [
            "Epoch 1 / 10, Step 4540 / 5086, Loss: 1.1620\n",
            "Epoch 1 / 10, Step 4550 / 5086, Loss: 1.4749\n",
            "Epoch 1 / 10, Step 4560 / 5086, Loss: 0.9048\n",
            "Epoch 1 / 10, Step 4570 / 5086, Loss: 0.0090\n"
          ]
        },
        {
          "output_type": "stream",
          "name": "stderr",
          "text": [
            "4602it [00:26, 179.66it/s]"
          ]
        },
        {
          "output_type": "stream",
          "name": "stdout",
          "text": [
            "Epoch 1 / 10, Step 4580 / 5086, Loss: 0.0048\n",
            "Epoch 1 / 10, Step 4590 / 5086, Loss: 0.6479\n",
            "Epoch 1 / 10, Step 4600 / 5086, Loss: 4.3995\n",
            "Epoch 1 / 10, Step 4610 / 5086, Loss: 0.1485\n"
          ]
        },
        {
          "output_type": "stream",
          "name": "stderr",
          "text": [
            "4640it [00:27, 176.35it/s]"
          ]
        },
        {
          "output_type": "stream",
          "name": "stdout",
          "text": [
            "Epoch 1 / 10, Step 4620 / 5086, Loss: 1.3493\n",
            "Epoch 1 / 10, Step 4630 / 5086, Loss: 1.3701\n",
            "Epoch 1 / 10, Step 4640 / 5086, Loss: 0.0032\n",
            "Epoch 1 / 10, Step 4650 / 5086, Loss: 0.6701\n"
          ]
        },
        {
          "output_type": "stream",
          "name": "stderr",
          "text": [
            "4695it [00:27, 176.99it/s]"
          ]
        },
        {
          "output_type": "stream",
          "name": "stdout",
          "text": [
            "Epoch 1 / 10, Step 4660 / 5086, Loss: 1.8997\n",
            "Epoch 1 / 10, Step 4670 / 5086, Loss: 2.2533\n",
            "Epoch 1 / 10, Step 4680 / 5086, Loss: 0.1418\n",
            "Epoch 1 / 10, Step 4690 / 5086, Loss: 0.0005\n"
          ]
        },
        {
          "output_type": "stream",
          "name": "stderr",
          "text": [
            "4731it [00:27, 178.14it/s]"
          ]
        },
        {
          "output_type": "stream",
          "name": "stdout",
          "text": [
            "Epoch 1 / 10, Step 4700 / 5086, Loss: 4.0886\n",
            "Epoch 1 / 10, Step 4710 / 5086, Loss: 3.8539\n",
            "Epoch 1 / 10, Step 4720 / 5086, Loss: 0.0835\n",
            "Epoch 1 / 10, Step 4730 / 5086, Loss: 0.6531\n"
          ]
        },
        {
          "output_type": "stream",
          "name": "stderr",
          "text": [
            "4767it [00:27, 177.55it/s]"
          ]
        },
        {
          "output_type": "stream",
          "name": "stdout",
          "text": [
            "Epoch 1 / 10, Step 4740 / 5086, Loss: 0.0000\n",
            "Epoch 1 / 10, Step 4750 / 5086, Loss: 7.0992\n",
            "Epoch 1 / 10, Step 4760 / 5086, Loss: 0.0259\n",
            "Epoch 1 / 10, Step 4770 / 5086, Loss: 0.9632\n"
          ]
        },
        {
          "output_type": "stream",
          "name": "stderr",
          "text": [
            "4803it [00:28, 176.25it/s]"
          ]
        },
        {
          "output_type": "stream",
          "name": "stdout",
          "text": [
            "Epoch 1 / 10, Step 4780 / 5086, Loss: 1.2819\n",
            "Epoch 1 / 10, Step 4790 / 5086, Loss: 2.9017\n",
            "Epoch 1 / 10, Step 4800 / 5086, Loss: 1.9765\n",
            "Epoch 1 / 10, Step 4810 / 5086, Loss: 0.1421\n"
          ]
        },
        {
          "output_type": "stream",
          "name": "stderr",
          "text": [
            "4840it [00:28, 174.05it/s]"
          ]
        },
        {
          "output_type": "stream",
          "name": "stdout",
          "text": [
            "Epoch 1 / 10, Step 4820 / 5086, Loss: 1.3222\n",
            "Epoch 1 / 10, Step 4830 / 5086, Loss: 0.1219\n",
            "Epoch 1 / 10, Step 4840 / 5086, Loss: 2.8186\n",
            "Epoch 1 / 10, Step 4850 / 5086, Loss: 1.9177\n"
          ]
        },
        {
          "output_type": "stream",
          "name": "stderr",
          "text": [
            "4894it [00:28, 172.93it/s]"
          ]
        },
        {
          "output_type": "stream",
          "name": "stdout",
          "text": [
            "Epoch 1 / 10, Step 4860 / 5086, Loss: 0.4096\n",
            "Epoch 1 / 10, Step 4870 / 5086, Loss: 1.6318\n",
            "Epoch 1 / 10, Step 4880 / 5086, Loss: 2.7391\n",
            "Epoch 1 / 10, Step 4890 / 5086, Loss: 0.1705\n"
          ]
        },
        {
          "output_type": "stream",
          "name": "stderr",
          "text": [
            "4930it [00:28, 173.38it/s]"
          ]
        },
        {
          "output_type": "stream",
          "name": "stdout",
          "text": [
            "Epoch 1 / 10, Step 4900 / 5086, Loss: 0.0157\n",
            "Epoch 1 / 10, Step 4910 / 5086, Loss: 1.6048\n",
            "Epoch 1 / 10, Step 4920 / 5086, Loss: 1.9943\n",
            "Epoch 1 / 10, Step 4930 / 5086, Loss: 5.1623\n"
          ]
        },
        {
          "output_type": "stream",
          "name": "stderr",
          "text": [
            "4967it [00:29, 174.04it/s]"
          ]
        },
        {
          "output_type": "stream",
          "name": "stdout",
          "text": [
            "Epoch 1 / 10, Step 4940 / 5086, Loss: 2.2884\n",
            "Epoch 1 / 10, Step 4950 / 5086, Loss: 0.4046\n",
            "Epoch 1 / 10, Step 4960 / 5086, Loss: 0.0120\n",
            "Epoch 1 / 10, Step 4970 / 5086, Loss: 0.0036\n"
          ]
        },
        {
          "output_type": "stream",
          "name": "stderr",
          "text": [
            "5002it [00:29, 166.42it/s]"
          ]
        },
        {
          "output_type": "stream",
          "name": "stdout",
          "text": [
            "Epoch 1 / 10, Step 4980 / 5086, Loss: 1.2905\n",
            "Epoch 1 / 10, Step 4990 / 5086, Loss: 2.1602\n",
            "Epoch 1 / 10, Step 5000 / 5086, Loss: 4.5546\n",
            "Epoch 1 / 10, Step 5010 / 5086, Loss: 0.0456\n"
          ]
        },
        {
          "output_type": "stream",
          "name": "stderr",
          "text": [
            "5037it [00:29, 168.29it/s]"
          ]
        },
        {
          "output_type": "stream",
          "name": "stdout",
          "text": [
            "Epoch 1 / 10, Step 5020 / 5086, Loss: 3.1721\n",
            "Epoch 1 / 10, Step 5030 / 5086, Loss: 0.1129\n",
            "Epoch 1 / 10, Step 5040 / 5086, Loss: 1.4649\n",
            "Epoch 1 / 10, Step 5050 / 5086, Loss: 0.9082\n"
          ]
        },
        {
          "output_type": "stream",
          "name": "stderr",
          "text": [
            "5086it [00:29, 170.71it/s]\n"
          ]
        },
        {
          "output_type": "stream",
          "name": "stdout",
          "text": [
            "Epoch 1 / 10, Step 5060 / 5086, Loss: 3.9858\n",
            "Epoch 1 / 10, Step 5070 / 5086, Loss: 0.5123\n",
            "Epoch 1 / 10, Step 5080 / 5086, Loss: 0.0542\n"
          ]
        },
        {
          "output_type": "stream",
          "name": "stderr",
          "text": [
            "38it [00:00, 174.12it/s]"
          ]
        },
        {
          "output_type": "stream",
          "name": "stdout",
          "text": [
            "Epoch 2 / 10, Step 10 / 5086, Loss: 2.6214\n",
            "Epoch 2 / 10, Step 20 / 5086, Loss: 0.0113\n",
            "Epoch 2 / 10, Step 30 / 5086, Loss: 3.2613\n",
            "Epoch 2 / 10, Step 40 / 5086, Loss: 0.6680\n"
          ]
        },
        {
          "output_type": "stream",
          "name": "stderr",
          "text": [
            "74it [00:00, 167.96it/s]"
          ]
        },
        {
          "output_type": "stream",
          "name": "stdout",
          "text": [
            "Epoch 2 / 10, Step 50 / 5086, Loss: 0.4278\n",
            "Epoch 2 / 10, Step 60 / 5086, Loss: 0.0185\n",
            "Epoch 2 / 10, Step 70 / 5086, Loss: 1.5625\n",
            "Epoch 2 / 10, Step 80 / 5086, Loss: 0.0050\n"
          ]
        },
        {
          "output_type": "stream",
          "name": "stderr",
          "text": [
            "112it [00:00, 178.04it/s]"
          ]
        },
        {
          "output_type": "stream",
          "name": "stdout",
          "text": [
            "Epoch 2 / 10, Step 90 / 5086, Loss: 0.1132\n",
            "Epoch 2 / 10, Step 100 / 5086, Loss: 0.0333\n",
            "Epoch 2 / 10, Step 110 / 5086, Loss: 6.9975\n",
            "Epoch 2 / 10, Step 120 / 5086, Loss: 7.1782\n",
            "Epoch 2 / 10, Step 130 / 5086, Loss: 3.1058"
          ]
        },
        {
          "output_type": "stream",
          "name": "stderr",
          "text": [
            "154it [00:00, 193.01it/s]"
          ]
        },
        {
          "output_type": "stream",
          "name": "stdout",
          "text": [
            "\n",
            "Epoch 2 / 10, Step 140 / 5086, Loss: 9.6734\n",
            "Epoch 2 / 10, Step 150 / 5086, Loss: 0.0637\n",
            "Epoch 2 / 10, Step 160 / 5086, Loss: 4.0700\n",
            "Epoch 2 / 10, Step 170 / 5086, Loss: 0.0728\n"
          ]
        },
        {
          "output_type": "stream",
          "name": "stderr",
          "text": [
            "212it [00:01, 187.95it/s]"
          ]
        },
        {
          "output_type": "stream",
          "name": "stdout",
          "text": [
            "Epoch 2 / 10, Step 180 / 5086, Loss: 5.2755\n",
            "Epoch 2 / 10, Step 190 / 5086, Loss: 0.0198\n",
            "Epoch 2 / 10, Step 200 / 5086, Loss: 2.6712\n",
            "Epoch 2 / 10, Step 210 / 5086, Loss: 4.3398\n"
          ]
        },
        {
          "output_type": "stream",
          "name": "stderr",
          "text": [
            "251it [00:01, 187.92it/s]"
          ]
        },
        {
          "output_type": "stream",
          "name": "stdout",
          "text": [
            "Epoch 2 / 10, Step 220 / 5086, Loss: 1.5340\n",
            "Epoch 2 / 10, Step 230 / 5086, Loss: 6.7800\n",
            "Epoch 2 / 10, Step 240 / 5086, Loss: 4.0693\n",
            "Epoch 2 / 10, Step 250 / 5086, Loss: 3.0147\n"
          ]
        },
        {
          "output_type": "stream",
          "name": "stderr",
          "text": [
            "289it [00:01, 180.75it/s]"
          ]
        },
        {
          "output_type": "stream",
          "name": "stdout",
          "text": [
            "Epoch 2 / 10, Step 260 / 5086, Loss: 3.1315\n",
            "Epoch 2 / 10, Step 270 / 5086, Loss: 5.2671\n",
            "Epoch 2 / 10, Step 280 / 5086, Loss: 17.1467\n",
            "Epoch 2 / 10, Step 290 / 5086, Loss: 3.5173\n"
          ]
        },
        {
          "output_type": "stream",
          "name": "stderr",
          "text": [
            "326it [00:01, 177.72it/s]"
          ]
        },
        {
          "output_type": "stream",
          "name": "stdout",
          "text": [
            "Epoch 2 / 10, Step 300 / 5086, Loss: 0.6425\n",
            "Epoch 2 / 10, Step 310 / 5086, Loss: 0.7429\n",
            "Epoch 2 / 10, Step 320 / 5086, Loss: 0.2252\n",
            "Epoch 2 / 10, Step 330 / 5086, Loss: 2.2435\n"
          ]
        },
        {
          "output_type": "stream",
          "name": "stderr",
          "text": [
            "363it [00:02, 176.79it/s]"
          ]
        },
        {
          "output_type": "stream",
          "name": "stdout",
          "text": [
            "Epoch 2 / 10, Step 340 / 5086, Loss: 1.6500\n",
            "Epoch 2 / 10, Step 350 / 5086, Loss: 0.3975\n",
            "Epoch 2 / 10, Step 360 / 5086, Loss: 0.7993\n",
            "Epoch 2 / 10, Step 370 / 5086, Loss: 0.3433\n"
          ]
        },
        {
          "output_type": "stream",
          "name": "stderr",
          "text": [
            "399it [00:02, 173.50it/s]"
          ]
        },
        {
          "output_type": "stream",
          "name": "stdout",
          "text": [
            "Epoch 2 / 10, Step 380 / 5086, Loss: 0.0234\n",
            "Epoch 2 / 10, Step 390 / 5086, Loss: 1.2056\n",
            "Epoch 2 / 10, Step 400 / 5086, Loss: 1.5247\n",
            "Epoch 2 / 10, Step 410 / 5086, Loss: 0.1913\n"
          ]
        },
        {
          "output_type": "stream",
          "name": "stderr",
          "text": [
            "435it [00:02, 171.31it/s]"
          ]
        },
        {
          "output_type": "stream",
          "name": "stdout",
          "text": [
            "Epoch 2 / 10, Step 420 / 5086, Loss: 4.8384\n",
            "Epoch 2 / 10, Step 430 / 5086, Loss: 0.2291\n",
            "Epoch 2 / 10, Step 440 / 5086, Loss: 1.2529\n",
            "Epoch 2 / 10, Step 450 / 5086, Loss: 2.8448\n"
          ]
        },
        {
          "output_type": "stream",
          "name": "stderr",
          "text": [
            "487it [00:02, 167.01it/s]"
          ]
        },
        {
          "output_type": "stream",
          "name": "stdout",
          "text": [
            "Epoch 2 / 10, Step 460 / 5086, Loss: 1.3351\n",
            "Epoch 2 / 10, Step 470 / 5086, Loss: 0.5014\n",
            "Epoch 2 / 10, Step 480 / 5086, Loss: 2.3532\n",
            "Epoch 2 / 10, Step 490 / 5086, Loss: 0.9698\n"
          ]
        },
        {
          "output_type": "stream",
          "name": "stderr",
          "text": [
            "523it [00:02, 171.22it/s]"
          ]
        },
        {
          "output_type": "stream",
          "name": "stdout",
          "text": [
            "Epoch 2 / 10, Step 500 / 5086, Loss: 0.2889\n",
            "Epoch 2 / 10, Step 510 / 5086, Loss: 0.0007\n",
            "Epoch 2 / 10, Step 520 / 5086, Loss: 0.0030\n",
            "Epoch 2 / 10, Step 530 / 5086, Loss: 0.0066\n"
          ]
        },
        {
          "output_type": "stream",
          "name": "stderr",
          "text": [
            "559it [00:03, 171.04it/s]"
          ]
        },
        {
          "output_type": "stream",
          "name": "stdout",
          "text": [
            "Epoch 2 / 10, Step 540 / 5086, Loss: 0.8987\n",
            "Epoch 2 / 10, Step 550 / 5086, Loss: 1.7119\n",
            "Epoch 2 / 10, Step 560 / 5086, Loss: 1.3738\n",
            "Epoch 2 / 10, Step 570 / 5086, Loss: 0.5117\n"
          ]
        },
        {
          "output_type": "stream",
          "name": "stderr",
          "text": [
            "613it [00:03, 170.59it/s]"
          ]
        },
        {
          "output_type": "stream",
          "name": "stdout",
          "text": [
            "Epoch 2 / 10, Step 580 / 5086, Loss: 2.1910\n",
            "Epoch 2 / 10, Step 590 / 5086, Loss: 4.0911\n",
            "Epoch 2 / 10, Step 600 / 5086, Loss: 2.1401\n",
            "Epoch 2 / 10, Step 610 / 5086, Loss: 0.6598\n"
          ]
        },
        {
          "output_type": "stream",
          "name": "stderr",
          "text": [
            "650it [00:03, 174.59it/s]"
          ]
        },
        {
          "output_type": "stream",
          "name": "stdout",
          "text": [
            "Epoch 2 / 10, Step 620 / 5086, Loss: 0.5793\n",
            "Epoch 2 / 10, Step 630 / 5086, Loss: 1.3653\n",
            "Epoch 2 / 10, Step 640 / 5086, Loss: 9.2972\n",
            "Epoch 2 / 10, Step 650 / 5086, Loss: 3.0246\n"
          ]
        },
        {
          "output_type": "stream",
          "name": "stderr",
          "text": [
            "686it [00:03, 172.18it/s]"
          ]
        },
        {
          "output_type": "stream",
          "name": "stdout",
          "text": [
            "Epoch 2 / 10, Step 660 / 5086, Loss: 0.0347\n",
            "Epoch 2 / 10, Step 670 / 5086, Loss: 0.7379\n",
            "Epoch 2 / 10, Step 680 / 5086, Loss: 0.7773\n",
            "Epoch 2 / 10, Step 690 / 5086, Loss: 3.3813\n"
          ]
        },
        {
          "output_type": "stream",
          "name": "stderr",
          "text": [
            "722it [00:04, 173.03it/s]"
          ]
        },
        {
          "output_type": "stream",
          "name": "stdout",
          "text": [
            "Epoch 2 / 10, Step 700 / 5086, Loss: 2.0700\n",
            "Epoch 2 / 10, Step 710 / 5086, Loss: 0.0656\n",
            "Epoch 2 / 10, Step 720 / 5086, Loss: 0.4015\n",
            "Epoch 2 / 10, Step 730 / 5086, Loss: 3.7294\n"
          ]
        },
        {
          "output_type": "stream",
          "name": "stderr",
          "text": [
            "759it [00:04, 175.11it/s]"
          ]
        },
        {
          "output_type": "stream",
          "name": "stdout",
          "text": [
            "Epoch 2 / 10, Step 740 / 5086, Loss: 5.0831\n",
            "Epoch 2 / 10, Step 750 / 5086, Loss: 0.0114\n",
            "Epoch 2 / 10, Step 760 / 5086, Loss: 2.1025\n",
            "Epoch 2 / 10, Step 770 / 5086, Loss: 10.0700\n"
          ]
        },
        {
          "output_type": "stream",
          "name": "stderr",
          "text": [
            "814it [00:04, 174.32it/s]"
          ]
        },
        {
          "output_type": "stream",
          "name": "stdout",
          "text": [
            "Epoch 2 / 10, Step 780 / 5086, Loss: 2.0862\n",
            "Epoch 2 / 10, Step 790 / 5086, Loss: 0.1248\n",
            "Epoch 2 / 10, Step 800 / 5086, Loss: 13.2983\n",
            "Epoch 2 / 10, Step 810 / 5086, Loss: 0.3559\n"
          ]
        },
        {
          "output_type": "stream",
          "name": "stderr",
          "text": [
            "850it [00:04, 174.49it/s]"
          ]
        },
        {
          "output_type": "stream",
          "name": "stdout",
          "text": [
            "Epoch 2 / 10, Step 820 / 5086, Loss: 12.0557\n",
            "Epoch 2 / 10, Step 830 / 5086, Loss: 17.6624\n",
            "Epoch 2 / 10, Step 840 / 5086, Loss: 6.0786\n",
            "Epoch 2 / 10, Step 850 / 5086, Loss: 1.9160\n"
          ]
        },
        {
          "output_type": "stream",
          "name": "stderr",
          "text": [
            "886it [00:05, 169.62it/s]"
          ]
        },
        {
          "output_type": "stream",
          "name": "stdout",
          "text": [
            "Epoch 2 / 10, Step 860 / 5086, Loss: 3.3795\n",
            "Epoch 2 / 10, Step 870 / 5086, Loss: 0.0120\n",
            "Epoch 2 / 10, Step 880 / 5086, Loss: 2.9944\n",
            "Epoch 2 / 10, Step 890 / 5086, Loss: 2.8228\n"
          ]
        },
        {
          "output_type": "stream",
          "name": "stderr",
          "text": [
            "922it [00:05, 172.27it/s]"
          ]
        },
        {
          "output_type": "stream",
          "name": "stdout",
          "text": [
            "Epoch 2 / 10, Step 900 / 5086, Loss: 3.0194\n",
            "Epoch 2 / 10, Step 910 / 5086, Loss: 0.0453\n",
            "Epoch 2 / 10, Step 920 / 5086, Loss: 0.8145\n",
            "Epoch 2 / 10, Step 930 / 5086, Loss: 1.6076\n"
          ]
        },
        {
          "output_type": "stream",
          "name": "stderr",
          "text": [
            "959it [00:05, 173.55it/s]"
          ]
        },
        {
          "output_type": "stream",
          "name": "stdout",
          "text": [
            "Epoch 2 / 10, Step 940 / 5086, Loss: 0.0026\n",
            "Epoch 2 / 10, Step 950 / 5086, Loss: 0.8253\n",
            "Epoch 2 / 10, Step 960 / 5086, Loss: 12.5072\n",
            "Epoch 2 / 10, Step 970 / 5086, Loss: 0.4199\n"
          ]
        },
        {
          "output_type": "stream",
          "name": "stderr",
          "text": [
            "1014it [00:05, 173.96it/s]"
          ]
        },
        {
          "output_type": "stream",
          "name": "stdout",
          "text": [
            "Epoch 2 / 10, Step 980 / 5086, Loss: 4.7290\n",
            "Epoch 2 / 10, Step 990 / 5086, Loss: 0.2864\n",
            "Epoch 2 / 10, Step 1000 / 5086, Loss: 2.0921\n",
            "Epoch 2 / 10, Step 1010 / 5086, Loss: 0.1090\n"
          ]
        },
        {
          "output_type": "stream",
          "name": "stderr",
          "text": [
            "1052it [00:06, 174.29it/s]"
          ]
        },
        {
          "output_type": "stream",
          "name": "stdout",
          "text": [
            "Epoch 2 / 10, Step 1020 / 5086, Loss: 0.0018\n",
            "Epoch 2 / 10, Step 1030 / 5086, Loss: 1.8317\n",
            "Epoch 2 / 10, Step 1040 / 5086, Loss: 3.5570\n",
            "Epoch 2 / 10, Step 1050 / 5086, Loss: 1.6034\n"
          ]
        },
        {
          "output_type": "stream",
          "name": "stderr",
          "text": [
            "1089it [00:06, 177.85it/s]"
          ]
        },
        {
          "output_type": "stream",
          "name": "stdout",
          "text": [
            "Epoch 2 / 10, Step 1060 / 5086, Loss: 9.1775\n",
            "Epoch 2 / 10, Step 1070 / 5086, Loss: 7.9118\n",
            "Epoch 2 / 10, Step 1080 / 5086, Loss: 4.6373\n",
            "Epoch 2 / 10, Step 1090 / 5086, Loss: 0.1296\n"
          ]
        },
        {
          "output_type": "stream",
          "name": "stderr",
          "text": [
            "1125it [00:06, 175.69it/s]"
          ]
        },
        {
          "output_type": "stream",
          "name": "stdout",
          "text": [
            "Epoch 2 / 10, Step 1100 / 5086, Loss: 1.3886\n",
            "Epoch 2 / 10, Step 1110 / 5086, Loss: 0.5101\n",
            "Epoch 2 / 10, Step 1120 / 5086, Loss: 0.6657\n",
            "Epoch 2 / 10, Step 1130 / 5086, Loss: 6.2973\n"
          ]
        },
        {
          "output_type": "stream",
          "name": "stderr",
          "text": [
            "1161it [00:06, 171.36it/s]"
          ]
        },
        {
          "output_type": "stream",
          "name": "stdout",
          "text": [
            "Epoch 2 / 10, Step 1140 / 5086, Loss: 1.0971\n",
            "Epoch 2 / 10, Step 1150 / 5086, Loss: 0.5772\n",
            "Epoch 2 / 10, Step 1160 / 5086, Loss: 12.9012\n",
            "Epoch 2 / 10, Step 1170 / 5086, Loss: 2.8436\n"
          ]
        },
        {
          "output_type": "stream",
          "name": "stderr",
          "text": [
            "1218it [00:06, 182.41it/s]"
          ]
        },
        {
          "output_type": "stream",
          "name": "stdout",
          "text": [
            "Epoch 2 / 10, Step 1180 / 5086, Loss: 0.0408\n",
            "Epoch 2 / 10, Step 1190 / 5086, Loss: 1.0423\n",
            "Epoch 2 / 10, Step 1200 / 5086, Loss: 0.0015\n",
            "Epoch 2 / 10, Step 1210 / 5086, Loss: 4.7604\n"
          ]
        },
        {
          "output_type": "stream",
          "name": "stderr",
          "text": [
            "\r1237it [00:07, 174.63it/s]"
          ]
        },
        {
          "output_type": "stream",
          "name": "stdout",
          "text": [
            "Epoch 2 / 10, Step 1220 / 5086, Loss: 1.1182\n",
            "Epoch 2 / 10, Step 1230 / 5086, Loss: 22.7914\n",
            "Epoch 2 / 10, Step 1240 / 5086, Loss: 3.8314\n",
            "Epoch 2 / 10, Step 1250 / 5086, Loss: 9.3228\n"
          ]
        },
        {
          "output_type": "stream",
          "name": "stderr",
          "text": [
            "1291it [00:07, 173.77it/s]"
          ]
        },
        {
          "output_type": "stream",
          "name": "stdout",
          "text": [
            "Epoch 2 / 10, Step 1260 / 5086, Loss: 5.3331\n",
            "Epoch 2 / 10, Step 1270 / 5086, Loss: 3.6557\n",
            "Epoch 2 / 10, Step 1280 / 5086, Loss: 0.0051\n",
            "Epoch 2 / 10, Step 1290 / 5086, Loss: 1.9968\n"
          ]
        },
        {
          "output_type": "stream",
          "name": "stderr",
          "text": [
            "1327it [00:07, 166.28it/s]"
          ]
        },
        {
          "output_type": "stream",
          "name": "stdout",
          "text": [
            "Epoch 2 / 10, Step 1300 / 5086, Loss: 1.1703\n",
            "Epoch 2 / 10, Step 1310 / 5086, Loss: 0.0705\n",
            "Epoch 2 / 10, Step 1320 / 5086, Loss: 1.0253\n",
            "Epoch 2 / 10, Step 1330 / 5086, Loss: 0.0122\n"
          ]
        },
        {
          "output_type": "stream",
          "name": "stderr",
          "text": [
            "1363it [00:07, 171.63it/s]"
          ]
        },
        {
          "output_type": "stream",
          "name": "stdout",
          "text": [
            "Epoch 2 / 10, Step 1340 / 5086, Loss: 5.2049\n",
            "Epoch 2 / 10, Step 1350 / 5086, Loss: 3.2822\n",
            "Epoch 2 / 10, Step 1360 / 5086, Loss: 0.3504\n",
            "Epoch 2 / 10, Step 1370 / 5086, Loss: 4.5625\n"
          ]
        },
        {
          "output_type": "stream",
          "name": "stderr",
          "text": [
            "1400it [00:08, 175.37it/s]"
          ]
        },
        {
          "output_type": "stream",
          "name": "stdout",
          "text": [
            "Epoch 2 / 10, Step 1380 / 5086, Loss: 14.3160\n",
            "Epoch 2 / 10, Step 1390 / 5086, Loss: 0.2552\n",
            "Epoch 2 / 10, Step 1400 / 5086, Loss: 0.0817\n",
            "Epoch 2 / 10, Step 1410 / 5086, Loss: 25.8823\n"
          ]
        },
        {
          "output_type": "stream",
          "name": "stderr",
          "text": [
            "1456it [00:08, 178.34it/s]"
          ]
        },
        {
          "output_type": "stream",
          "name": "stdout",
          "text": [
            "Epoch 2 / 10, Step 1420 / 5086, Loss: 0.6149\n",
            "Epoch 2 / 10, Step 1430 / 5086, Loss: 0.6164\n",
            "Epoch 2 / 10, Step 1440 / 5086, Loss: 0.4243\n",
            "Epoch 2 / 10, Step 1450 / 5086, Loss: 11.2809\n"
          ]
        },
        {
          "output_type": "stream",
          "name": "stderr",
          "text": [
            "1493it [00:08, 180.45it/s]"
          ]
        },
        {
          "output_type": "stream",
          "name": "stdout",
          "text": [
            "Epoch 2 / 10, Step 1460 / 5086, Loss: 0.6816\n",
            "Epoch 2 / 10, Step 1470 / 5086, Loss: 0.5002\n",
            "Epoch 2 / 10, Step 1480 / 5086, Loss: 0.0000\n",
            "Epoch 2 / 10, Step 1490 / 5086, Loss: 1.4649\n"
          ]
        },
        {
          "output_type": "stream",
          "name": "stderr",
          "text": [
            "1530it [00:08, 171.26it/s]"
          ]
        },
        {
          "output_type": "stream",
          "name": "stdout",
          "text": [
            "Epoch 2 / 10, Step 1500 / 5086, Loss: 7.1688\n",
            "Epoch 2 / 10, Step 1510 / 5086, Loss: 0.0018\n",
            "Epoch 2 / 10, Step 1520 / 5086, Loss: 0.0009\n",
            "Epoch 2 / 10, Step 1530 / 5086, Loss: 2.3770\n"
          ]
        },
        {
          "output_type": "stream",
          "name": "stderr",
          "text": [
            "1566it [00:09, 170.61it/s]"
          ]
        },
        {
          "output_type": "stream",
          "name": "stdout",
          "text": [
            "Epoch 2 / 10, Step 1540 / 5086, Loss: 2.4512\n",
            "Epoch 2 / 10, Step 1550 / 5086, Loss: 0.0003\n",
            "Epoch 2 / 10, Step 1560 / 5086, Loss: 0.1771\n",
            "Epoch 2 / 10, Step 1570 / 5086, Loss: 3.7142\n"
          ]
        },
        {
          "output_type": "stream",
          "name": "stderr",
          "text": [
            "1602it [00:09, 173.44it/s]"
          ]
        },
        {
          "output_type": "stream",
          "name": "stdout",
          "text": [
            "Epoch 2 / 10, Step 1580 / 5086, Loss: 0.0008\n",
            "Epoch 2 / 10, Step 1590 / 5086, Loss: 5.5659\n",
            "Epoch 2 / 10, Step 1600 / 5086, Loss: 3.8789\n",
            "Epoch 2 / 10, Step 1610 / 5086, Loss: 0.8459\n"
          ]
        },
        {
          "output_type": "stream",
          "name": "stderr",
          "text": [
            "1640it [00:09, 179.90it/s]"
          ]
        },
        {
          "output_type": "stream",
          "name": "stdout",
          "text": [
            "Epoch 2 / 10, Step 1620 / 5086, Loss: 0.0015\n",
            "Epoch 2 / 10, Step 1630 / 5086, Loss: 0.0000\n",
            "Epoch 2 / 10, Step 1640 / 5086, Loss: 1.3546\n",
            "Epoch 2 / 10, Step 1650 / 5086, Loss: 0.8156\n"
          ]
        },
        {
          "output_type": "stream",
          "name": "stderr",
          "text": [
            "1695it [00:09, 175.54it/s]"
          ]
        },
        {
          "output_type": "stream",
          "name": "stdout",
          "text": [
            "Epoch 2 / 10, Step 1660 / 5086, Loss: 1.3208\n",
            "Epoch 2 / 10, Step 1670 / 5086, Loss: 0.6053\n",
            "Epoch 2 / 10, Step 1680 / 5086, Loss: 0.0041\n",
            "Epoch 2 / 10, Step 1690 / 5086, Loss: 3.7441\n"
          ]
        },
        {
          "output_type": "stream",
          "name": "stderr",
          "text": [
            "1731it [00:09, 173.24it/s]"
          ]
        },
        {
          "output_type": "stream",
          "name": "stdout",
          "text": [
            "Epoch 2 / 10, Step 1700 / 5086, Loss: 0.4577\n",
            "Epoch 2 / 10, Step 1710 / 5086, Loss: 2.0989\n",
            "Epoch 2 / 10, Step 1720 / 5086, Loss: 0.1556\n",
            "Epoch 2 / 10, Step 1730 / 5086, Loss: 0.0515\n"
          ]
        },
        {
          "output_type": "stream",
          "name": "stderr",
          "text": [
            "1767it [00:10, 175.29it/s]"
          ]
        },
        {
          "output_type": "stream",
          "name": "stdout",
          "text": [
            "Epoch 2 / 10, Step 1740 / 5086, Loss: 0.0045\n",
            "Epoch 2 / 10, Step 1750 / 5086, Loss: 1.1841\n",
            "Epoch 2 / 10, Step 1760 / 5086, Loss: 1.4193\n",
            "Epoch 2 / 10, Step 1770 / 5086, Loss: 1.2019\n"
          ]
        },
        {
          "output_type": "stream",
          "name": "stderr",
          "text": [
            "1804it [00:10, 174.81it/s]"
          ]
        },
        {
          "output_type": "stream",
          "name": "stdout",
          "text": [
            "Epoch 2 / 10, Step 1780 / 5086, Loss: 0.4313\n",
            "Epoch 2 / 10, Step 1790 / 5086, Loss: 1.5662\n",
            "Epoch 2 / 10, Step 1800 / 5086, Loss: 0.1255\n",
            "Epoch 2 / 10, Step 1810 / 5086, Loss: 7.6166\n"
          ]
        },
        {
          "output_type": "stream",
          "name": "stderr",
          "text": [
            "1841it [00:10, 177.77it/s]"
          ]
        },
        {
          "output_type": "stream",
          "name": "stdout",
          "text": [
            "Epoch 2 / 10, Step 1820 / 5086, Loss: 1.9208\n",
            "Epoch 2 / 10, Step 1830 / 5086, Loss: 2.1056\n",
            "Epoch 2 / 10, Step 1840 / 5086, Loss: 4.1635\n",
            "Epoch 2 / 10, Step 1850 / 5086, Loss: 0.9517\n"
          ]
        },
        {
          "output_type": "stream",
          "name": "stderr",
          "text": [
            "1877it [00:10, 172.83it/s]"
          ]
        },
        {
          "output_type": "stream",
          "name": "stdout",
          "text": [
            "Epoch 2 / 10, Step 1860 / 5086, Loss: 2.1262\n",
            "Epoch 2 / 10, Step 1870 / 5086, Loss: 3.8817\n",
            "Epoch 2 / 10, Step 1880 / 5086, Loss: 4.5011\n",
            "Epoch 2 / 10, Step 1890 / 5086, Loss: 3.0511\n"
          ]
        },
        {
          "output_type": "stream",
          "name": "stderr",
          "text": [
            "1936it [00:11, 184.37it/s]"
          ]
        },
        {
          "output_type": "stream",
          "name": "stdout",
          "text": [
            "Epoch 2 / 10, Step 1900 / 5086, Loss: 5.4759\n",
            "Epoch 2 / 10, Step 1910 / 5086, Loss: 0.6392\n",
            "Epoch 2 / 10, Step 1920 / 5086, Loss: 4.7181\n",
            "Epoch 2 / 10, Step 1930 / 5086, Loss: 1.1838\n"
          ]
        },
        {
          "output_type": "stream",
          "name": "stderr",
          "text": [
            "1975it [00:11, 189.75it/s]"
          ]
        },
        {
          "output_type": "stream",
          "name": "stdout",
          "text": [
            "Epoch 2 / 10, Step 1940 / 5086, Loss: 0.0035\n",
            "Epoch 2 / 10, Step 1950 / 5086, Loss: 6.2292\n",
            "Epoch 2 / 10, Step 1960 / 5086, Loss: 2.4022\n",
            "Epoch 2 / 10, Step 1970 / 5086, Loss: 0.0583\n"
          ]
        },
        {
          "output_type": "stream",
          "name": "stderr",
          "text": [
            "2013it [00:11, 186.65it/s]"
          ]
        },
        {
          "output_type": "stream",
          "name": "stdout",
          "text": [
            "Epoch 2 / 10, Step 1980 / 5086, Loss: 0.0688\n",
            "Epoch 2 / 10, Step 1990 / 5086, Loss: 0.7652\n",
            "Epoch 2 / 10, Step 2000 / 5086, Loss: 0.0237\n",
            "Epoch 2 / 10, Step 2010 / 5086, Loss: 4.4366\n"
          ]
        },
        {
          "output_type": "stream",
          "name": "stderr",
          "text": [
            "2051it [00:11, 180.23it/s]"
          ]
        },
        {
          "output_type": "stream",
          "name": "stdout",
          "text": [
            "Epoch 2 / 10, Step 2020 / 5086, Loss: 3.0035\n",
            "Epoch 2 / 10, Step 2030 / 5086, Loss: 0.1509\n",
            "Epoch 2 / 10, Step 2040 / 5086, Loss: 3.9450\n",
            "Epoch 2 / 10, Step 2050 / 5086, Loss: 4.3106\n"
          ]
        },
        {
          "output_type": "stream",
          "name": "stderr",
          "text": [
            "2088it [00:11, 173.93it/s]"
          ]
        },
        {
          "output_type": "stream",
          "name": "stdout",
          "text": [
            "Epoch 2 / 10, Step 2060 / 5086, Loss: 1.9710\n",
            "Epoch 2 / 10, Step 2070 / 5086, Loss: 9.1085\n",
            "Epoch 2 / 10, Step 2080 / 5086, Loss: 1.4075\n",
            "Epoch 2 / 10, Step 2090 / 5086, Loss: 2.3898\n"
          ]
        },
        {
          "output_type": "stream",
          "name": "stderr",
          "text": [
            "2124it [00:12, 173.53it/s]"
          ]
        },
        {
          "output_type": "stream",
          "name": "stdout",
          "text": [
            "Epoch 2 / 10, Step 2100 / 5086, Loss: 5.2125\n",
            "Epoch 2 / 10, Step 2110 / 5086, Loss: 12.0801\n",
            "Epoch 2 / 10, Step 2120 / 5086, Loss: 8.2987\n",
            "Epoch 2 / 10, Step 2130 / 5086, Loss: 5.1435\n"
          ]
        },
        {
          "output_type": "stream",
          "name": "stderr",
          "text": [
            "2160it [00:12, 172.42it/s]"
          ]
        },
        {
          "output_type": "stream",
          "name": "stdout",
          "text": [
            "Epoch 2 / 10, Step 2140 / 5086, Loss: 0.0547\n",
            "Epoch 2 / 10, Step 2150 / 5086, Loss: 0.0038\n",
            "Epoch 2 / 10, Step 2160 / 5086, Loss: 7.9183\n",
            "Epoch 2 / 10, Step 2170 / 5086, Loss: 0.0016\n"
          ]
        },
        {
          "output_type": "stream",
          "name": "stderr",
          "text": [
            "2196it [00:12, 172.18it/s]"
          ]
        },
        {
          "output_type": "stream",
          "name": "stdout",
          "text": [
            "Epoch 2 / 10, Step 2180 / 5086, Loss: 8.1863\n",
            "Epoch 2 / 10, Step 2190 / 5086, Loss: 6.0421\n",
            "Epoch 2 / 10, Step 2200 / 5086, Loss: 7.8071\n",
            "Epoch 2 / 10, Step 2210 / 5086, Loss: 2.1309\n"
          ]
        },
        {
          "output_type": "stream",
          "name": "stderr",
          "text": [
            "2249it [00:12, 166.30it/s]"
          ]
        },
        {
          "output_type": "stream",
          "name": "stdout",
          "text": [
            "Epoch 2 / 10, Step 2220 / 5086, Loss: 0.0019\n",
            "Epoch 2 / 10, Step 2230 / 5086, Loss: 8.2843\n",
            "Epoch 2 / 10, Step 2240 / 5086, Loss: 0.1169\n",
            "Epoch 2 / 10, Step 2250 / 5086, Loss: 0.0002\n"
          ]
        },
        {
          "output_type": "stream",
          "name": "stderr",
          "text": [
            "2284it [00:13, 168.29it/s]"
          ]
        },
        {
          "output_type": "stream",
          "name": "stdout",
          "text": [
            "Epoch 2 / 10, Step 2260 / 5086, Loss: 0.2551\n",
            "Epoch 2 / 10, Step 2270 / 5086, Loss: 1.7026\n",
            "Epoch 2 / 10, Step 2280 / 5086, Loss: 2.7137\n",
            "Epoch 2 / 10, Step 2290 / 5086, Loss: 0.0669\n"
          ]
        },
        {
          "output_type": "stream",
          "name": "stderr",
          "text": [
            "2319it [00:13, 167.19it/s]"
          ]
        },
        {
          "output_type": "stream",
          "name": "stdout",
          "text": [
            "Epoch 2 / 10, Step 2300 / 5086, Loss: 0.0009\n",
            "Epoch 2 / 10, Step 2310 / 5086, Loss: 0.0367\n",
            "Epoch 2 / 10, Step 2320 / 5086, Loss: 0.0372\n",
            "Epoch 2 / 10, Step 2330 / 5086, Loss: 10.7550\n"
          ]
        },
        {
          "output_type": "stream",
          "name": "stderr",
          "text": [
            "2376it [00:13, 178.60it/s]"
          ]
        },
        {
          "output_type": "stream",
          "name": "stdout",
          "text": [
            "Epoch 2 / 10, Step 2340 / 5086, Loss: 0.0317\n",
            "Epoch 2 / 10, Step 2350 / 5086, Loss: 3.3295\n",
            "Epoch 2 / 10, Step 2360 / 5086, Loss: 3.6819\n",
            "Epoch 2 / 10, Step 2370 / 5086, Loss: 2.5640\n"
          ]
        },
        {
          "output_type": "stream",
          "name": "stderr",
          "text": [
            "2412it [00:13, 169.78it/s]"
          ]
        },
        {
          "output_type": "stream",
          "name": "stdout",
          "text": [
            "Epoch 2 / 10, Step 2380 / 5086, Loss: 3.0357\n",
            "Epoch 2 / 10, Step 2390 / 5086, Loss: 0.4007\n",
            "Epoch 2 / 10, Step 2400 / 5086, Loss: 1.4642\n",
            "Epoch 2 / 10, Step 2410 / 5086, Loss: 0.6560\n"
          ]
        },
        {
          "output_type": "stream",
          "name": "stderr",
          "text": [
            "2448it [00:14, 173.15it/s]"
          ]
        },
        {
          "output_type": "stream",
          "name": "stdout",
          "text": [
            "Epoch 2 / 10, Step 2420 / 5086, Loss: 0.1235\n",
            "Epoch 2 / 10, Step 2430 / 5086, Loss: 0.6153\n",
            "Epoch 2 / 10, Step 2440 / 5086, Loss: 1.0547\n",
            "Epoch 2 / 10, Step 2450 / 5086, Loss: 1.7980\n"
          ]
        },
        {
          "output_type": "stream",
          "name": "stderr",
          "text": [
            "2484it [00:14, 168.71it/s]"
          ]
        },
        {
          "output_type": "stream",
          "name": "stdout",
          "text": [
            "Epoch 2 / 10, Step 2460 / 5086, Loss: 5.2812\n",
            "Epoch 2 / 10, Step 2470 / 5086, Loss: 0.3415\n",
            "Epoch 2 / 10, Step 2480 / 5086, Loss: 1.6532\n",
            "Epoch 2 / 10, Step 2490 / 5086, Loss: 0.0000\n"
          ]
        },
        {
          "output_type": "stream",
          "name": "stderr",
          "text": [
            "2519it [00:14, 169.24it/s]"
          ]
        },
        {
          "output_type": "stream",
          "name": "stdout",
          "text": [
            "Epoch 2 / 10, Step 2500 / 5086, Loss: 16.8320\n",
            "Epoch 2 / 10, Step 2510 / 5086, Loss: 7.4523\n",
            "Epoch 2 / 10, Step 2520 / 5086, Loss: 3.2593\n",
            "Epoch 2 / 10, Step 2530 / 5086, Loss: 0.0012\n"
          ]
        },
        {
          "output_type": "stream",
          "name": "stderr",
          "text": [
            "2571it [00:14, 167.45it/s]"
          ]
        },
        {
          "output_type": "stream",
          "name": "stdout",
          "text": [
            "Epoch 2 / 10, Step 2540 / 5086, Loss: 0.0432\n",
            "Epoch 2 / 10, Step 2550 / 5086, Loss: 4.7625\n",
            "Epoch 2 / 10, Step 2560 / 5086, Loss: 0.0081\n",
            "Epoch 2 / 10, Step 2570 / 5086, Loss: 0.1106\n"
          ]
        },
        {
          "output_type": "stream",
          "name": "stderr",
          "text": [
            "2605it [00:15, 165.21it/s]"
          ]
        },
        {
          "output_type": "stream",
          "name": "stdout",
          "text": [
            "Epoch 2 / 10, Step 2580 / 5086, Loss: 2.6631\n",
            "Epoch 2 / 10, Step 2590 / 5086, Loss: 0.1679\n",
            "Epoch 2 / 10, Step 2600 / 5086, Loss: 5.8442\n",
            "Epoch 2 / 10, Step 2610 / 5086, Loss: 6.4393\n"
          ]
        },
        {
          "output_type": "stream",
          "name": "stderr",
          "text": [
            "2640it [00:15, 165.40it/s]"
          ]
        },
        {
          "output_type": "stream",
          "name": "stdout",
          "text": [
            "Epoch 2 / 10, Step 2620 / 5086, Loss: 0.5775\n",
            "Epoch 2 / 10, Step 2630 / 5086, Loss: 2.5876\n",
            "Epoch 2 / 10, Step 2640 / 5086, Loss: 1.9309\n",
            "Epoch 2 / 10, Step 2650 / 5086, Loss: 4.9859\n"
          ]
        },
        {
          "output_type": "stream",
          "name": "stderr",
          "text": [
            "2691it [00:15, 165.61it/s]"
          ]
        },
        {
          "output_type": "stream",
          "name": "stdout",
          "text": [
            "Epoch 2 / 10, Step 2660 / 5086, Loss: 0.9200\n",
            "Epoch 2 / 10, Step 2670 / 5086, Loss: 2.0365\n",
            "Epoch 2 / 10, Step 2680 / 5086, Loss: 1.3011\n",
            "Epoch 2 / 10, Step 2690 / 5086, Loss: 11.6297\n"
          ]
        },
        {
          "output_type": "stream",
          "name": "stderr",
          "text": [
            "2728it [00:15, 172.67it/s]"
          ]
        },
        {
          "output_type": "stream",
          "name": "stdout",
          "text": [
            "Epoch 2 / 10, Step 2700 / 5086, Loss: 0.3204\n",
            "Epoch 2 / 10, Step 2710 / 5086, Loss: 11.1491\n",
            "Epoch 2 / 10, Step 2720 / 5086, Loss: 0.3649\n",
            "Epoch 2 / 10, Step 2730 / 5086, Loss: 1.2710\n"
          ]
        },
        {
          "output_type": "stream",
          "name": "stderr",
          "text": [
            "2764it [00:15, 173.25it/s]"
          ]
        },
        {
          "output_type": "stream",
          "name": "stdout",
          "text": [
            "Epoch 2 / 10, Step 2740 / 5086, Loss: 0.1335\n",
            "Epoch 2 / 10, Step 2750 / 5086, Loss: 5.2504\n",
            "Epoch 2 / 10, Step 2760 / 5086, Loss: 0.7692\n",
            "Epoch 2 / 10, Step 2770 / 5086, Loss: 7.5466\n"
          ]
        },
        {
          "output_type": "stream",
          "name": "stderr",
          "text": [
            "2801it [00:16, 176.62it/s]"
          ]
        },
        {
          "output_type": "stream",
          "name": "stdout",
          "text": [
            "Epoch 2 / 10, Step 2780 / 5086, Loss: 6.0829\n",
            "Epoch 2 / 10, Step 2790 / 5086, Loss: 3.4372\n",
            "Epoch 2 / 10, Step 2800 / 5086, Loss: 8.1640\n",
            "Epoch 2 / 10, Step 2810 / 5086, Loss: 0.0059\n"
          ]
        },
        {
          "output_type": "stream",
          "name": "stderr",
          "text": [
            "2856it [00:16, 176.90it/s]"
          ]
        },
        {
          "output_type": "stream",
          "name": "stdout",
          "text": [
            "Epoch 2 / 10, Step 2820 / 5086, Loss: 0.7303\n",
            "Epoch 2 / 10, Step 2830 / 5086, Loss: 0.1400\n",
            "Epoch 2 / 10, Step 2840 / 5086, Loss: 1.4119\n",
            "Epoch 2 / 10, Step 2850 / 5086, Loss: 1.7560\n"
          ]
        },
        {
          "output_type": "stream",
          "name": "stderr",
          "text": [
            "2893it [00:16, 171.69it/s]"
          ]
        },
        {
          "output_type": "stream",
          "name": "stdout",
          "text": [
            "Epoch 2 / 10, Step 2860 / 5086, Loss: 2.5157\n",
            "Epoch 2 / 10, Step 2870 / 5086, Loss: 5.7899\n",
            "Epoch 2 / 10, Step 2880 / 5086, Loss: 2.7507\n",
            "Epoch 2 / 10, Step 2890 / 5086, Loss: 12.0234\n"
          ]
        },
        {
          "output_type": "stream",
          "name": "stderr",
          "text": [
            "\r2911it [00:16, 167.97it/s]"
          ]
        },
        {
          "output_type": "stream",
          "name": "stdout",
          "text": [
            "Epoch 2 / 10, Step 2900 / 5086, Loss: 5.7087\n",
            "Epoch 2 / 10, Step 2910 / 5086, Loss: 2.1423\n",
            "Epoch 2 / 10, Step 2920 / 5086, Loss: 2.7131\n"
          ]
        },
        {
          "output_type": "stream",
          "name": "stderr",
          "text": [
            "\r2928it [00:16, 144.91it/s]"
          ]
        },
        {
          "output_type": "stream",
          "name": "stdout",
          "text": [
            "Epoch 2 / 10, Step 2930 / 5086, Loss: 0.0882\n"
          ]
        },
        {
          "output_type": "stream",
          "name": "stderr",
          "text": [
            "\r2944it [00:17, 87.36it/s] "
          ]
        },
        {
          "output_type": "stream",
          "name": "stdout",
          "text": [
            "Epoch 2 / 10, Step 2940 / 5086, Loss: 0.0240\n",
            "Epoch 2 / 10, Step 2950 / 5086, Loss: 3.8149\n"
          ]
        },
        {
          "output_type": "stream",
          "name": "stderr",
          "text": [
            "2987it [00:17, 113.76it/s]"
          ]
        },
        {
          "output_type": "stream",
          "name": "stdout",
          "text": [
            "Epoch 2 / 10, Step 2960 / 5086, Loss: 4.2911\n",
            "Epoch 2 / 10, Step 2970 / 5086, Loss: 0.9768\n",
            "Epoch 2 / 10, Step 2980 / 5086, Loss: 0.0196\n",
            "Epoch 2 / 10, Step 2990 / 5086, Loss: 0.0027\n"
          ]
        },
        {
          "output_type": "stream",
          "name": "stderr",
          "text": [
            "3021it [00:17, 136.15it/s]"
          ]
        },
        {
          "output_type": "stream",
          "name": "stdout",
          "text": [
            "Epoch 2 / 10, Step 3000 / 5086, Loss: 3.8771\n",
            "Epoch 2 / 10, Step 3010 / 5086, Loss: 4.2320\n",
            "Epoch 2 / 10, Step 3020 / 5086, Loss: 0.6900\n",
            "Epoch 2 / 10, Step 3030 / 5086, Loss: 5.3606\n"
          ]
        },
        {
          "output_type": "stream",
          "name": "stderr",
          "text": [
            "3051it [00:18, 101.46it/s]"
          ]
        },
        {
          "output_type": "stream",
          "name": "stdout",
          "text": [
            "Epoch 2 / 10, Step 3040 / 5086, Loss: 1.4538\n",
            "Epoch 2 / 10, Step 3050 / 5086, Loss: 2.4766\n"
          ]
        },
        {
          "output_type": "stream",
          "name": "stderr",
          "text": [
            "\r3064it [00:18, 81.63it/s] "
          ]
        },
        {
          "output_type": "stream",
          "name": "stdout",
          "text": [
            "Epoch 2 / 10, Step 3060 / 5086, Loss: 4.1981\n",
            "Epoch 2 / 10, Step 3070 / 5086, Loss: 0.9851\n"
          ]
        },
        {
          "output_type": "stream",
          "name": "stderr",
          "text": [
            "3109it [00:18, 109.33it/s]"
          ]
        },
        {
          "output_type": "stream",
          "name": "stdout",
          "text": [
            "Epoch 2 / 10, Step 3080 / 5086, Loss: 0.3593\n",
            "Epoch 2 / 10, Step 3090 / 5086, Loss: 0.0031\n",
            "Epoch 2 / 10, Step 3100 / 5086, Loss: 0.0087\n",
            "Epoch 2 / 10, Step 3110 / 5086, Loss: 0.9384\n"
          ]
        },
        {
          "output_type": "stream",
          "name": "stderr",
          "text": [
            "3141it [00:19, 130.42it/s]"
          ]
        },
        {
          "output_type": "stream",
          "name": "stdout",
          "text": [
            "Epoch 2 / 10, Step 3120 / 5086, Loss: 6.6565\n",
            "Epoch 2 / 10, Step 3130 / 5086, Loss: 0.2988\n",
            "Epoch 2 / 10, Step 3140 / 5086, Loss: 3.5718\n",
            "Epoch 2 / 10, Step 3150 / 5086, Loss: 1.1062\n"
          ]
        },
        {
          "output_type": "stream",
          "name": "stderr",
          "text": [
            "\r3156it [00:19, 130.91it/s]"
          ]
        },
        {
          "output_type": "stream",
          "name": "stdout",
          "text": [
            "Epoch 2 / 10, Step 3160 / 5086, Loss: 9.7192\n"
          ]
        },
        {
          "output_type": "stream",
          "name": "stderr",
          "text": [
            "3181it [00:19, 74.36it/s]"
          ]
        },
        {
          "output_type": "stream",
          "name": "stdout",
          "text": [
            "Epoch 2 / 10, Step 3170 / 5086, Loss: 6.0366\n",
            "Epoch 2 / 10, Step 3180 / 5086, Loss: 3.3468\n"
          ]
        },
        {
          "output_type": "stream",
          "name": "stderr",
          "text": [
            "3215it [00:19, 107.27it/s]"
          ]
        },
        {
          "output_type": "stream",
          "name": "stdout",
          "text": [
            "Epoch 2 / 10, Step 3190 / 5086, Loss: 1.7873\n",
            "Epoch 2 / 10, Step 3200 / 5086, Loss: 3.4302\n",
            "Epoch 2 / 10, Step 3210 / 5086, Loss: 0.0652\n",
            "Epoch 2 / 10, Step 3220 / 5086, Loss: 0.3320\n"
          ]
        },
        {
          "output_type": "stream",
          "name": "stderr",
          "text": [
            "3247it [00:20, 129.71it/s]"
          ]
        },
        {
          "output_type": "stream",
          "name": "stdout",
          "text": [
            "Epoch 2 / 10, Step 3230 / 5086, Loss: 0.0674\n",
            "Epoch 2 / 10, Step 3240 / 5086, Loss: 4.9859\n",
            "Epoch 2 / 10, Step 3250 / 5086, Loss: 0.0089\n",
            "Epoch 2 / 10, Step 3260 / 5086, Loss: 2.6273\n"
          ]
        },
        {
          "output_type": "stream",
          "name": "stderr",
          "text": [
            "3301it [00:20, 157.48it/s]"
          ]
        },
        {
          "output_type": "stream",
          "name": "stdout",
          "text": [
            "Epoch 2 / 10, Step 3270 / 5086, Loss: 0.0006\n",
            "Epoch 2 / 10, Step 3280 / 5086, Loss: 0.0002\n",
            "Epoch 2 / 10, Step 3290 / 5086, Loss: 0.2267\n",
            "Epoch 2 / 10, Step 3300 / 5086, Loss: 0.0005\n"
          ]
        },
        {
          "output_type": "stream",
          "name": "stderr",
          "text": [
            "3337it [00:20, 164.75it/s]"
          ]
        },
        {
          "output_type": "stream",
          "name": "stdout",
          "text": [
            "Epoch 2 / 10, Step 3310 / 5086, Loss: 10.8631\n",
            "Epoch 2 / 10, Step 3320 / 5086, Loss: 4.6691\n",
            "Epoch 2 / 10, Step 3330 / 5086, Loss: 3.7843\n",
            "Epoch 2 / 10, Step 3340 / 5086, Loss: 1.4768\n"
          ]
        },
        {
          "output_type": "stream",
          "name": "stderr",
          "text": [
            "3373it [00:20, 171.07it/s]"
          ]
        },
        {
          "output_type": "stream",
          "name": "stdout",
          "text": [
            "Epoch 2 / 10, Step 3350 / 5086, Loss: 0.0832\n",
            "Epoch 2 / 10, Step 3360 / 5086, Loss: 6.3107\n",
            "Epoch 2 / 10, Step 3370 / 5086, Loss: 2.6961\n",
            "Epoch 2 / 10, Step 3380 / 5086, Loss: 0.9636\n"
          ]
        },
        {
          "output_type": "stream",
          "name": "stderr",
          "text": [
            "3409it [00:21, 169.14it/s]"
          ]
        },
        {
          "output_type": "stream",
          "name": "stdout",
          "text": [
            "Epoch 2 / 10, Step 3390 / 5086, Loss: 2.8320\n",
            "Epoch 2 / 10, Step 3400 / 5086, Loss: 1.9757\n",
            "Epoch 2 / 10, Step 3410 / 5086, Loss: 0.7648\n",
            "Epoch 2 / 10, Step 3420 / 5086, Loss: 1.2925\n"
          ]
        },
        {
          "output_type": "stream",
          "name": "stderr",
          "text": [
            "3464it [00:21, 175.86it/s]"
          ]
        },
        {
          "output_type": "stream",
          "name": "stdout",
          "text": [
            "Epoch 2 / 10, Step 3430 / 5086, Loss: 0.5076\n",
            "Epoch 2 / 10, Step 3440 / 5086, Loss: 0.0011\n",
            "Epoch 2 / 10, Step 3450 / 5086, Loss: 2.5318\n",
            "Epoch 2 / 10, Step 3460 / 5086, Loss: 2.8968\n"
          ]
        },
        {
          "output_type": "stream",
          "name": "stderr",
          "text": [
            "3500it [00:21, 175.30it/s]"
          ]
        },
        {
          "output_type": "stream",
          "name": "stdout",
          "text": [
            "Epoch 2 / 10, Step 3470 / 5086, Loss: 2.0600\n",
            "Epoch 2 / 10, Step 3480 / 5086, Loss: 5.9373\n",
            "Epoch 2 / 10, Step 3490 / 5086, Loss: 6.8877\n",
            "Epoch 2 / 10, Step 3500 / 5086, Loss: 3.1308\n"
          ]
        },
        {
          "output_type": "stream",
          "name": "stderr",
          "text": [
            "3537it [00:21, 177.02it/s]"
          ]
        },
        {
          "output_type": "stream",
          "name": "stdout",
          "text": [
            "Epoch 2 / 10, Step 3510 / 5086, Loss: 0.7045\n",
            "Epoch 2 / 10, Step 3520 / 5086, Loss: 0.3398\n",
            "Epoch 2 / 10, Step 3530 / 5086, Loss: 0.5548\n",
            "Epoch 2 / 10, Step 3540 / 5086, Loss: 0.0208\n"
          ]
        },
        {
          "output_type": "stream",
          "name": "stderr",
          "text": [
            "3573it [00:21, 175.06it/s]"
          ]
        },
        {
          "output_type": "stream",
          "name": "stdout",
          "text": [
            "Epoch 2 / 10, Step 3550 / 5086, Loss: 1.0411\n",
            "Epoch 2 / 10, Step 3560 / 5086, Loss: 1.4994\n",
            "Epoch 2 / 10, Step 3570 / 5086, Loss: 0.7984\n",
            "Epoch 2 / 10, Step 3580 / 5086, Loss: 0.8016\n"
          ]
        },
        {
          "output_type": "stream",
          "name": "stderr",
          "text": [
            "3609it [00:22, 171.98it/s]"
          ]
        },
        {
          "output_type": "stream",
          "name": "stdout",
          "text": [
            "Epoch 2 / 10, Step 3590 / 5086, Loss: 0.0535\n",
            "Epoch 2 / 10, Step 3600 / 5086, Loss: 1.5677\n",
            "Epoch 2 / 10, Step 3610 / 5086, Loss: 1.6388\n",
            "Epoch 2 / 10, Step 3620 / 5086, Loss: 1.5658\n"
          ]
        },
        {
          "output_type": "stream",
          "name": "stderr",
          "text": [
            "3663it [00:22, 171.88it/s]"
          ]
        },
        {
          "output_type": "stream",
          "name": "stdout",
          "text": [
            "Epoch 2 / 10, Step 3630 / 5086, Loss: 0.5493\n",
            "Epoch 2 / 10, Step 3640 / 5086, Loss: 2.2207\n",
            "Epoch 2 / 10, Step 3650 / 5086, Loss: 2.7727\n",
            "Epoch 2 / 10, Step 3660 / 5086, Loss: 0.4830\n"
          ]
        },
        {
          "output_type": "stream",
          "name": "stderr",
          "text": [
            "3699it [00:22, 168.73it/s]"
          ]
        },
        {
          "output_type": "stream",
          "name": "stdout",
          "text": [
            "Epoch 2 / 10, Step 3670 / 5086, Loss: 5.6416\n",
            "Epoch 2 / 10, Step 3680 / 5086, Loss: 0.0406\n",
            "Epoch 2 / 10, Step 3690 / 5086, Loss: 0.9636\n",
            "Epoch 2 / 10, Step 3700 / 5086, Loss: 2.0968\n"
          ]
        },
        {
          "output_type": "stream",
          "name": "stderr",
          "text": [
            "3734it [00:22, 168.17it/s]"
          ]
        },
        {
          "output_type": "stream",
          "name": "stdout",
          "text": [
            "Epoch 2 / 10, Step 3710 / 5086, Loss: 6.3822\n",
            "Epoch 2 / 10, Step 3720 / 5086, Loss: 5.3028\n",
            "Epoch 2 / 10, Step 3730 / 5086, Loss: 3.0309\n",
            "Epoch 2 / 10, Step 3740 / 5086, Loss: 0.0020\n"
          ]
        },
        {
          "output_type": "stream",
          "name": "stderr",
          "text": [
            "3768it [00:23, 160.81it/s]"
          ]
        },
        {
          "output_type": "stream",
          "name": "stdout",
          "text": [
            "Epoch 2 / 10, Step 3750 / 5086, Loss: 0.3493\n",
            "Epoch 2 / 10, Step 3760 / 5086, Loss: 0.0002\n",
            "Epoch 2 / 10, Step 3770 / 5086, Loss: 0.0013\n",
            "Epoch 2 / 10, Step 3780 / 5086, Loss: 0.5572\n"
          ]
        },
        {
          "output_type": "stream",
          "name": "stderr",
          "text": [
            "3821it [00:23, 168.58it/s]"
          ]
        },
        {
          "output_type": "stream",
          "name": "stdout",
          "text": [
            "Epoch 2 / 10, Step 3790 / 5086, Loss: 2.4246\n",
            "Epoch 2 / 10, Step 3800 / 5086, Loss: 3.3211\n",
            "Epoch 2 / 10, Step 3810 / 5086, Loss: 0.7716\n",
            "Epoch 2 / 10, Step 3820 / 5086, Loss: 6.1430\n"
          ]
        },
        {
          "output_type": "stream",
          "name": "stderr",
          "text": [
            "3858it [00:23, 174.40it/s]"
          ]
        },
        {
          "output_type": "stream",
          "name": "stdout",
          "text": [
            "Epoch 2 / 10, Step 3830 / 5086, Loss: 0.3571\n",
            "Epoch 2 / 10, Step 3840 / 5086, Loss: 0.6870\n",
            "Epoch 2 / 10, Step 3850 / 5086, Loss: 0.0028\n",
            "Epoch 2 / 10, Step 3860 / 5086, Loss: 1.1707\n"
          ]
        },
        {
          "output_type": "stream",
          "name": "stderr",
          "text": [
            "3894it [00:23, 172.27it/s]"
          ]
        },
        {
          "output_type": "stream",
          "name": "stdout",
          "text": [
            "Epoch 2 / 10, Step 3870 / 5086, Loss: 0.0625\n",
            "Epoch 2 / 10, Step 3880 / 5086, Loss: 0.0814\n",
            "Epoch 2 / 10, Step 3890 / 5086, Loss: 1.7287\n",
            "Epoch 2 / 10, Step 3900 / 5086, Loss: 0.1801\n"
          ]
        },
        {
          "output_type": "stream",
          "name": "stderr",
          "text": [
            "3930it [00:24, 166.14it/s]"
          ]
        },
        {
          "output_type": "stream",
          "name": "stdout",
          "text": [
            "Epoch 2 / 10, Step 3910 / 5086, Loss: 0.0092\n",
            "Epoch 2 / 10, Step 3920 / 5086, Loss: 0.2521\n",
            "Epoch 2 / 10, Step 3930 / 5086, Loss: 3.2077\n",
            "Epoch 2 / 10, Step 3940 / 5086, Loss: 5.6365\n"
          ]
        },
        {
          "output_type": "stream",
          "name": "stderr",
          "text": [
            "3982it [00:24, 165.58it/s]"
          ]
        },
        {
          "output_type": "stream",
          "name": "stdout",
          "text": [
            "Epoch 2 / 10, Step 3950 / 5086, Loss: 0.4500\n",
            "Epoch 2 / 10, Step 3960 / 5086, Loss: 3.4094\n",
            "Epoch 2 / 10, Step 3970 / 5086, Loss: 1.1454\n",
            "Epoch 2 / 10, Step 3980 / 5086, Loss: 0.0000\n"
          ]
        },
        {
          "output_type": "stream",
          "name": "stderr",
          "text": [
            "4017it [00:24, 169.83it/s]"
          ]
        },
        {
          "output_type": "stream",
          "name": "stdout",
          "text": [
            "Epoch 2 / 10, Step 3990 / 5086, Loss: 2.6543\n",
            "Epoch 2 / 10, Step 4000 / 5086, Loss: 2.8514\n",
            "Epoch 2 / 10, Step 4010 / 5086, Loss: 2.6454\n",
            "Epoch 2 / 10, Step 4020 / 5086, Loss: 5.3102\n"
          ]
        },
        {
          "output_type": "stream",
          "name": "stderr",
          "text": [
            "4054it [00:24, 171.44it/s]"
          ]
        },
        {
          "output_type": "stream",
          "name": "stdout",
          "text": [
            "Epoch 2 / 10, Step 4030 / 5086, Loss: 5.5143\n",
            "Epoch 2 / 10, Step 4040 / 5086, Loss: 1.9176\n",
            "Epoch 2 / 10, Step 4050 / 5086, Loss: 2.9303\n",
            "Epoch 2 / 10, Step 4060 / 5086, Loss: 1.1080\n"
          ]
        },
        {
          "output_type": "stream",
          "name": "stderr",
          "text": [
            "4090it [00:25, 169.81it/s]"
          ]
        },
        {
          "output_type": "stream",
          "name": "stdout",
          "text": [
            "Epoch 2 / 10, Step 4070 / 5086, Loss: 3.3436\n",
            "Epoch 2 / 10, Step 4080 / 5086, Loss: 2.4783\n",
            "Epoch 2 / 10, Step 4090 / 5086, Loss: 0.1620\n",
            "Epoch 2 / 10, Step 4100 / 5086, Loss: 0.0273\n"
          ]
        },
        {
          "output_type": "stream",
          "name": "stderr",
          "text": [
            "4145it [00:25, 172.27it/s]"
          ]
        },
        {
          "output_type": "stream",
          "name": "stdout",
          "text": [
            "Epoch 2 / 10, Step 4110 / 5086, Loss: 3.5870\n",
            "Epoch 2 / 10, Step 4120 / 5086, Loss: 1.1064\n",
            "Epoch 2 / 10, Step 4130 / 5086, Loss: 2.4887\n",
            "Epoch 2 / 10, Step 4140 / 5086, Loss: 1.0383\n"
          ]
        },
        {
          "output_type": "stream",
          "name": "stderr",
          "text": [
            "4181it [00:25, 168.88it/s]"
          ]
        },
        {
          "output_type": "stream",
          "name": "stdout",
          "text": [
            "Epoch 2 / 10, Step 4150 / 5086, Loss: 0.0829\n",
            "Epoch 2 / 10, Step 4160 / 5086, Loss: 0.0001\n",
            "Epoch 2 / 10, Step 4170 / 5086, Loss: 2.8379\n",
            "Epoch 2 / 10, Step 4180 / 5086, Loss: 9.8393\n"
          ]
        },
        {
          "output_type": "stream",
          "name": "stderr",
          "text": [
            "4215it [00:25, 168.37it/s]"
          ]
        },
        {
          "output_type": "stream",
          "name": "stdout",
          "text": [
            "Epoch 2 / 10, Step 4190 / 5086, Loss: 4.2656\n",
            "Epoch 2 / 10, Step 4200 / 5086, Loss: 0.7092\n",
            "Epoch 2 / 10, Step 4210 / 5086, Loss: 0.0455\n",
            "Epoch 2 / 10, Step 4220 / 5086, Loss: 0.3537\n"
          ]
        },
        {
          "output_type": "stream",
          "name": "stderr",
          "text": [
            "4251it [00:26, 173.35it/s]"
          ]
        },
        {
          "output_type": "stream",
          "name": "stdout",
          "text": [
            "Epoch 2 / 10, Step 4230 / 5086, Loss: 0.1199\n",
            "Epoch 2 / 10, Step 4240 / 5086, Loss: 3.3450\n",
            "Epoch 2 / 10, Step 4250 / 5086, Loss: 2.4793\n",
            "Epoch 2 / 10, Step 4260 / 5086, Loss: 2.2716\n"
          ]
        },
        {
          "output_type": "stream",
          "name": "stderr",
          "text": [
            "4308it [00:26, 180.51it/s]"
          ]
        },
        {
          "output_type": "stream",
          "name": "stdout",
          "text": [
            "Epoch 2 / 10, Step 4270 / 5086, Loss: 2.5963\n",
            "Epoch 2 / 10, Step 4280 / 5086, Loss: 0.1819\n",
            "Epoch 2 / 10, Step 4290 / 5086, Loss: 1.0153\n",
            "Epoch 2 / 10, Step 4300 / 5086, Loss: 2.4511\n"
          ]
        },
        {
          "output_type": "stream",
          "name": "stderr",
          "text": [
            "4346it [00:26, 181.51it/s]"
          ]
        },
        {
          "output_type": "stream",
          "name": "stdout",
          "text": [
            "Epoch 2 / 10, Step 4310 / 5086, Loss: 0.8242\n",
            "Epoch 2 / 10, Step 4320 / 5086, Loss: 0.0527\n",
            "Epoch 2 / 10, Step 4330 / 5086, Loss: 6.0229\n",
            "Epoch 2 / 10, Step 4340 / 5086, Loss: 0.0091\n"
          ]
        },
        {
          "output_type": "stream",
          "name": "stderr",
          "text": [
            "4384it [00:26, 181.38it/s]"
          ]
        },
        {
          "output_type": "stream",
          "name": "stdout",
          "text": [
            "Epoch 2 / 10, Step 4350 / 5086, Loss: 7.2722\n",
            "Epoch 2 / 10, Step 4360 / 5086, Loss: 0.0764\n",
            "Epoch 2 / 10, Step 4370 / 5086, Loss: 1.5950\n",
            "Epoch 2 / 10, Step 4380 / 5086, Loss: 0.8279\n"
          ]
        },
        {
          "output_type": "stream",
          "name": "stderr",
          "text": [
            "4421it [00:26, 177.38it/s]"
          ]
        },
        {
          "output_type": "stream",
          "name": "stdout",
          "text": [
            "Epoch 2 / 10, Step 4390 / 5086, Loss: 0.9199\n",
            "Epoch 2 / 10, Step 4400 / 5086, Loss: 6.3752\n",
            "Epoch 2 / 10, Step 4410 / 5086, Loss: 3.6682\n",
            "Epoch 2 / 10, Step 4420 / 5086, Loss: 3.1861\n"
          ]
        },
        {
          "output_type": "stream",
          "name": "stderr",
          "text": [
            "4457it [00:27, 170.38it/s]"
          ]
        },
        {
          "output_type": "stream",
          "name": "stdout",
          "text": [
            "Epoch 2 / 10, Step 4430 / 5086, Loss: 0.0053\n",
            "Epoch 2 / 10, Step 4440 / 5086, Loss: 0.0052\n",
            "Epoch 2 / 10, Step 4450 / 5086, Loss: 2.7453\n",
            "Epoch 2 / 10, Step 4460 / 5086, Loss: 4.2145\n"
          ]
        },
        {
          "output_type": "stream",
          "name": "stderr",
          "text": [
            "4493it [00:27, 171.37it/s]"
          ]
        },
        {
          "output_type": "stream",
          "name": "stdout",
          "text": [
            "Epoch 2 / 10, Step 4470 / 5086, Loss: 0.6771\n",
            "Epoch 2 / 10, Step 4480 / 5086, Loss: 4.0932\n",
            "Epoch 2 / 10, Step 4490 / 5086, Loss: 6.2687\n",
            "Epoch 2 / 10, Step 4500 / 5086, Loss: 0.7806\n"
          ]
        },
        {
          "output_type": "stream",
          "name": "stderr",
          "text": [
            "4529it [00:27, 170.74it/s]"
          ]
        },
        {
          "output_type": "stream",
          "name": "stdout",
          "text": [
            "Epoch 2 / 10, Step 4510 / 5086, Loss: 0.7584\n",
            "Epoch 2 / 10, Step 4520 / 5086, Loss: 3.2476\n",
            "Epoch 2 / 10, Step 4530 / 5086, Loss: 0.5429\n",
            "Epoch 2 / 10, Step 4540 / 5086, Loss: 1.0591\n"
          ]
        },
        {
          "output_type": "stream",
          "name": "stderr",
          "text": [
            "4583it [00:27, 171.99it/s]"
          ]
        },
        {
          "output_type": "stream",
          "name": "stdout",
          "text": [
            "Epoch 2 / 10, Step 4550 / 5086, Loss: 1.3417\n",
            "Epoch 2 / 10, Step 4560 / 5086, Loss: 1.3715\n",
            "Epoch 2 / 10, Step 4570 / 5086, Loss: 0.0308\n",
            "Epoch 2 / 10, Step 4580 / 5086, Loss: 0.0000\n"
          ]
        },
        {
          "output_type": "stream",
          "name": "stderr",
          "text": [
            "4619it [00:28, 172.81it/s]"
          ]
        },
        {
          "output_type": "stream",
          "name": "stdout",
          "text": [
            "Epoch 2 / 10, Step 4590 / 5086, Loss: 0.0061\n",
            "Epoch 2 / 10, Step 4600 / 5086, Loss: 3.0739\n",
            "Epoch 2 / 10, Step 4610 / 5086, Loss: 6.8894\n",
            "Epoch 2 / 10, Step 4620 / 5086, Loss: 3.9785\n"
          ]
        },
        {
          "output_type": "stream",
          "name": "stderr",
          "text": [
            "4655it [00:28, 168.90it/s]"
          ]
        },
        {
          "output_type": "stream",
          "name": "stdout",
          "text": [
            "Epoch 2 / 10, Step 4630 / 5086, Loss: 0.2786\n",
            "Epoch 2 / 10, Step 4640 / 5086, Loss: 1.4049\n",
            "Epoch 2 / 10, Step 4650 / 5086, Loss: 0.0234\n",
            "Epoch 2 / 10, Step 4660 / 5086, Loss: 1.4931\n"
          ]
        },
        {
          "output_type": "stream",
          "name": "stderr",
          "text": [
            "4690it [00:28, 171.14it/s]"
          ]
        },
        {
          "output_type": "stream",
          "name": "stdout",
          "text": [
            "Epoch 2 / 10, Step 4670 / 5086, Loss: 0.9287\n",
            "Epoch 2 / 10, Step 4680 / 5086, Loss: 0.1233\n",
            "Epoch 2 / 10, Step 4690 / 5086, Loss: 0.1606\n",
            "Epoch 2 / 10, Step 4700 / 5086, Loss: 6.0224\n"
          ]
        },
        {
          "output_type": "stream",
          "name": "stderr",
          "text": [
            "4745it [00:28, 174.94it/s]"
          ]
        },
        {
          "output_type": "stream",
          "name": "stdout",
          "text": [
            "Epoch 2 / 10, Step 4710 / 5086, Loss: 2.1934\n",
            "Epoch 2 / 10, Step 4720 / 5086, Loss: 3.5319\n",
            "Epoch 2 / 10, Step 4730 / 5086, Loss: 2.0355\n",
            "Epoch 2 / 10, Step 4740 / 5086, Loss: 0.0000\n"
          ]
        },
        {
          "output_type": "stream",
          "name": "stderr",
          "text": [
            "4781it [00:29, 171.13it/s]"
          ]
        },
        {
          "output_type": "stream",
          "name": "stdout",
          "text": [
            "Epoch 2 / 10, Step 4750 / 5086, Loss: 9.5759\n",
            "Epoch 2 / 10, Step 4760 / 5086, Loss: 0.0004\n",
            "Epoch 2 / 10, Step 4770 / 5086, Loss: 4.3708\n",
            "Epoch 2 / 10, Step 4780 / 5086, Loss: 1.8510\n"
          ]
        },
        {
          "output_type": "stream",
          "name": "stderr",
          "text": [
            "4817it [00:29, 167.69it/s]"
          ]
        },
        {
          "output_type": "stream",
          "name": "stdout",
          "text": [
            "Epoch 2 / 10, Step 4790 / 5086, Loss: 2.1205\n",
            "Epoch 2 / 10, Step 4800 / 5086, Loss: 1.9197\n",
            "Epoch 2 / 10, Step 4810 / 5086, Loss: 0.0050\n",
            "Epoch 2 / 10, Step 4820 / 5086, Loss: 0.8607\n"
          ]
        },
        {
          "output_type": "stream",
          "name": "stderr",
          "text": [
            "4851it [00:29, 160.79it/s]"
          ]
        },
        {
          "output_type": "stream",
          "name": "stdout",
          "text": [
            "Epoch 2 / 10, Step 4830 / 5086, Loss: 0.1896\n",
            "Epoch 2 / 10, Step 4840 / 5086, Loss: 3.0920\n",
            "Epoch 2 / 10, Step 4850 / 5086, Loss: 4.7695\n",
            "Epoch 2 / 10, Step 4860 / 5086, Loss: 0.7126\n"
          ]
        },
        {
          "output_type": "stream",
          "name": "stderr",
          "text": [
            "4903it [00:29, 166.38it/s]"
          ]
        },
        {
          "output_type": "stream",
          "name": "stdout",
          "text": [
            "Epoch 2 / 10, Step 4870 / 5086, Loss: 0.5973\n",
            "Epoch 2 / 10, Step 4880 / 5086, Loss: 2.4038\n",
            "Epoch 2 / 10, Step 4890 / 5086, Loss: 0.1739\n",
            "Epoch 2 / 10, Step 4900 / 5086, Loss: 0.0064\n"
          ]
        },
        {
          "output_type": "stream",
          "name": "stderr",
          "text": [
            "4937it [00:30, 163.98it/s]"
          ]
        },
        {
          "output_type": "stream",
          "name": "stdout",
          "text": [
            "Epoch 2 / 10, Step 4910 / 5086, Loss: 3.5226\n",
            "Epoch 2 / 10, Step 4920 / 5086, Loss: 2.5398\n",
            "Epoch 2 / 10, Step 4930 / 5086, Loss: 1.1572\n",
            "Epoch 2 / 10, Step 4940 / 5086, Loss: 0.0590\n"
          ]
        },
        {
          "output_type": "stream",
          "name": "stderr",
          "text": [
            "4971it [00:30, 162.29it/s]"
          ]
        },
        {
          "output_type": "stream",
          "name": "stdout",
          "text": [
            "Epoch 2 / 10, Step 4950 / 5086, Loss: 0.9890\n",
            "Epoch 2 / 10, Step 4960 / 5086, Loss: 0.0939\n",
            "Epoch 2 / 10, Step 4970 / 5086, Loss: 0.0147\n",
            "Epoch 2 / 10, Step 4980 / 5086, Loss: 0.8105\n"
          ]
        },
        {
          "output_type": "stream",
          "name": "stderr",
          "text": [
            "5024it [00:30, 167.33it/s]"
          ]
        },
        {
          "output_type": "stream",
          "name": "stdout",
          "text": [
            "Epoch 2 / 10, Step 4990 / 5086, Loss: 1.7354\n",
            "Epoch 2 / 10, Step 5000 / 5086, Loss: 4.4883\n",
            "Epoch 2 / 10, Step 5010 / 5086, Loss: 0.0727\n",
            "Epoch 2 / 10, Step 5020 / 5086, Loss: 1.8145\n"
          ]
        },
        {
          "output_type": "stream",
          "name": "stderr",
          "text": [
            "5059it [00:30, 167.64it/s]"
          ]
        },
        {
          "output_type": "stream",
          "name": "stdout",
          "text": [
            "Epoch 2 / 10, Step 5030 / 5086, Loss: 0.0084\n",
            "Epoch 2 / 10, Step 5040 / 5086, Loss: 1.7097\n",
            "Epoch 2 / 10, Step 5050 / 5086, Loss: 0.5557\n",
            "Epoch 2 / 10, Step 5060 / 5086, Loss: 7.7216\n"
          ]
        },
        {
          "output_type": "stream",
          "name": "stderr",
          "text": [
            "5086it [00:30, 164.36it/s]\n"
          ]
        },
        {
          "output_type": "stream",
          "name": "stdout",
          "text": [
            "Epoch 2 / 10, Step 5070 / 5086, Loss: 2.6676\n",
            "Epoch 2 / 10, Step 5080 / 5086, Loss: 1.3485\n"
          ]
        },
        {
          "output_type": "stream",
          "name": "stderr",
          "text": [
            "\r0it [00:00, ?it/s]"
          ]
        },
        {
          "output_type": "stream",
          "name": "stdout",
          "text": [
            "Epoch 3 / 10, Step 10 / 5086, Loss: 1.3357\n"
          ]
        },
        {
          "output_type": "stream",
          "name": "stderr",
          "text": [
            "37it [00:00, 179.93it/s]"
          ]
        },
        {
          "output_type": "stream",
          "name": "stdout",
          "text": [
            "Epoch 3 / 10, Step 20 / 5086, Loss: 0.0354\n",
            "Epoch 3 / 10, Step 30 / 5086, Loss: 5.7207\n",
            "Epoch 3 / 10, Step 40 / 5086, Loss: 0.9030\n"
          ]
        },
        {
          "output_type": "stream",
          "name": "stderr",
          "text": [
            "\r55it [00:00, 173.21it/s]"
          ]
        },
        {
          "output_type": "stream",
          "name": "stdout",
          "text": [
            "Epoch 3 / 10, Step 50 / 5086, Loss: 0.8883\n"
          ]
        },
        {
          "output_type": "stream",
          "name": "stderr",
          "text": [
            "\r73it [00:00, 175.59it/s]"
          ]
        },
        {
          "output_type": "stream",
          "name": "stdout",
          "text": [
            "Epoch 3 / 10, Step 60 / 5086, Loss: 0.0331\n",
            "Epoch 3 / 10, Step 70 / 5086, Loss: 0.1054\n",
            "Epoch 3 / 10, Step 80 / 5086, Loss: 0.0015\n"
          ]
        },
        {
          "output_type": "stream",
          "name": "stderr",
          "text": [
            "\r91it [00:00, 176.19it/s]"
          ]
        },
        {
          "output_type": "stream",
          "name": "stdout",
          "text": [
            "Epoch 3 / 10, Step 90 / 5086, Loss: 1.2926\n"
          ]
        },
        {
          "output_type": "stream",
          "name": "stderr",
          "text": [
            "\r109it [00:00, 176.38it/s]"
          ]
        },
        {
          "output_type": "stream",
          "name": "stdout",
          "text": [
            "Epoch 3 / 10, Step 100 / 5086, Loss: 0.0739\n",
            "Epoch 3 / 10, Step 110 / 5086, Loss: 8.5164\n",
            "Epoch 3 / 10, Step 120 / 5086, Loss: 10.3881\n"
          ]
        },
        {
          "output_type": "stream",
          "name": "stderr",
          "text": [
            "\r128it [00:00, 176.96it/s]"
          ]
        },
        {
          "output_type": "stream",
          "name": "stdout",
          "text": [
            "Epoch 3 / 10, Step 130 / 5086, Loss: 2.6792\n"
          ]
        },
        {
          "output_type": "stream",
          "name": "stderr",
          "text": [
            "164it [00:00, 173.18it/s]"
          ]
        },
        {
          "output_type": "stream",
          "name": "stdout",
          "text": [
            "Epoch 3 / 10, Step 140 / 5086, Loss: 9.2553\n",
            "Epoch 3 / 10, Step 150 / 5086, Loss: 0.0854\n",
            "Epoch 3 / 10, Step 160 / 5086, Loss: 4.0622\n",
            "Epoch 3 / 10, Step 170 / 5086, Loss: 3.3662\n"
          ]
        },
        {
          "output_type": "stream",
          "name": "stderr",
          "text": [
            "200it [00:01, 169.29it/s]"
          ]
        },
        {
          "output_type": "stream",
          "name": "stdout",
          "text": [
            "Epoch 3 / 10, Step 180 / 5086, Loss: 2.6949\n",
            "Epoch 3 / 10, Step 190 / 5086, Loss: 0.0625\n",
            "Epoch 3 / 10, Step 200 / 5086, Loss: 1.1961\n",
            "Epoch 3 / 10, Step 210 / 5086, Loss: 3.9111\n"
          ]
        },
        {
          "output_type": "stream",
          "name": "stderr",
          "text": [
            "234it [00:01, 164.31it/s]"
          ]
        },
        {
          "output_type": "stream",
          "name": "stdout",
          "text": [
            "Epoch 3 / 10, Step 220 / 5086, Loss: 0.1347\n",
            "Epoch 3 / 10, Step 230 / 5086, Loss: 6.2072\n",
            "Epoch 3 / 10, Step 240 / 5086, Loss: 2.3439\n"
          ]
        },
        {
          "output_type": "stream",
          "name": "stderr",
          "text": [
            "\r251it [00:01, 163.35it/s]"
          ]
        },
        {
          "output_type": "stream",
          "name": "stdout",
          "text": [
            "Epoch 3 / 10, Step 250 / 5086, Loss: 2.9913\n"
          ]
        },
        {
          "output_type": "stream",
          "name": "stderr",
          "text": [
            "\r269it [00:01, 166.59it/s]"
          ]
        },
        {
          "output_type": "stream",
          "name": "stdout",
          "text": [
            "Epoch 3 / 10, Step 260 / 5086, Loss: 0.4919\n",
            "Epoch 3 / 10, Step 270 / 5086, Loss: 7.4201\n",
            "Epoch 3 / 10, Step 280 / 5086, Loss: 18.2781\n"
          ]
        },
        {
          "output_type": "stream",
          "name": "stderr",
          "text": [
            "\r287it [00:01, 168.52it/s]"
          ]
        },
        {
          "output_type": "stream",
          "name": "stdout",
          "text": [
            "Epoch 3 / 10, Step 290 / 5086, Loss: 3.4007\n"
          ]
        },
        {
          "output_type": "stream",
          "name": "stderr",
          "text": [
            "321it [00:01, 167.55it/s]"
          ]
        },
        {
          "output_type": "stream",
          "name": "stdout",
          "text": [
            "Epoch 3 / 10, Step 300 / 5086, Loss: 0.4165\n",
            "Epoch 3 / 10, Step 310 / 5086, Loss: 0.2581\n",
            "Epoch 3 / 10, Step 320 / 5086, Loss: 0.7162\n",
            "Epoch 3 / 10, Step 330 / 5086, Loss: 3.4899\n"
          ]
        },
        {
          "output_type": "stream",
          "name": "stderr",
          "text": [
            "355it [00:02, 162.66it/s]"
          ]
        },
        {
          "output_type": "stream",
          "name": "stdout",
          "text": [
            "Epoch 3 / 10, Step 340 / 5086, Loss: 0.7194\n",
            "Epoch 3 / 10, Step 350 / 5086, Loss: 0.6221\n",
            "Epoch 3 / 10, Step 360 / 5086, Loss: 1.4193\n"
          ]
        },
        {
          "output_type": "stream",
          "name": "stderr",
          "text": [
            "\r372it [00:02, 161.68it/s]"
          ]
        },
        {
          "output_type": "stream",
          "name": "stdout",
          "text": [
            "Epoch 3 / 10, Step 370 / 5086, Loss: 0.6076\n"
          ]
        },
        {
          "output_type": "stream",
          "name": "stderr",
          "text": [
            "\r389it [00:02, 160.24it/s]"
          ]
        },
        {
          "output_type": "stream",
          "name": "stdout",
          "text": [
            "Epoch 3 / 10, Step 380 / 5086, Loss: 0.1119\n",
            "Epoch 3 / 10, Step 390 / 5086, Loss: 2.3683\n",
            "Epoch 3 / 10, Step 400 / 5086, Loss: 0.9959\n"
          ]
        },
        {
          "output_type": "stream",
          "name": "stderr",
          "text": [
            "\r406it [00:02, 156.77it/s]"
          ]
        },
        {
          "output_type": "stream",
          "name": "stdout",
          "text": [
            "Epoch 3 / 10, Step 410 / 5086, Loss: 0.0161\n"
          ]
        },
        {
          "output_type": "stream",
          "name": "stderr",
          "text": [
            "442it [00:02, 165.36it/s]"
          ]
        },
        {
          "output_type": "stream",
          "name": "stdout",
          "text": [
            "Epoch 3 / 10, Step 420 / 5086, Loss: 5.9485\n",
            "Epoch 3 / 10, Step 430 / 5086, Loss: 0.1584\n",
            "Epoch 3 / 10, Step 440 / 5086, Loss: 1.6022\n",
            "Epoch 3 / 10, Step 450 / 5086, Loss: 3.3268\n"
          ]
        },
        {
          "output_type": "stream",
          "name": "stderr",
          "text": [
            "478it [00:02, 169.04it/s]"
          ]
        },
        {
          "output_type": "stream",
          "name": "stdout",
          "text": [
            "Epoch 3 / 10, Step 460 / 5086, Loss: 2.4086\n",
            "Epoch 3 / 10, Step 470 / 5086, Loss: 1.2791\n",
            "Epoch 3 / 10, Step 480 / 5086, Loss: 3.6423\n"
          ]
        },
        {
          "output_type": "stream",
          "name": "stderr",
          "text": [
            "\r496it [00:02, 170.08it/s]"
          ]
        },
        {
          "output_type": "stream",
          "name": "stdout",
          "text": [
            "Epoch 3 / 10, Step 490 / 5086, Loss: 0.7758\n"
          ]
        },
        {
          "output_type": "stream",
          "name": "stderr",
          "text": [
            "\r514it [00:03, 168.13it/s]"
          ]
        },
        {
          "output_type": "stream",
          "name": "stdout",
          "text": [
            "Epoch 3 / 10, Step 500 / 5086, Loss: 4.4284\n",
            "Epoch 3 / 10, Step 510 / 5086, Loss: 0.1158\n",
            "Epoch 3 / 10, Step 520 / 5086, Loss: 1.6159\n"
          ]
        },
        {
          "output_type": "stream",
          "name": "stderr",
          "text": [
            "\r531it [00:03, 165.30it/s]"
          ]
        },
        {
          "output_type": "stream",
          "name": "stdout",
          "text": [
            "Epoch 3 / 10, Step 530 / 5086, Loss: 0.0006\n"
          ]
        },
        {
          "output_type": "stream",
          "name": "stderr",
          "text": [
            "\r548it [00:03, 165.88it/s]"
          ]
        },
        {
          "output_type": "stream",
          "name": "stdout",
          "text": [
            "Epoch 3 / 10, Step 540 / 5086, Loss: 1.4800\n",
            "Epoch 3 / 10, Step 550 / 5086, Loss: 1.6190\n",
            "Epoch 3 / 10, Step 560 / 5086, Loss: 0.0851\n"
          ]
        },
        {
          "output_type": "stream",
          "name": "stderr",
          "text": [
            "\r565it [00:03, 162.64it/s]"
          ]
        },
        {
          "output_type": "stream",
          "name": "stdout",
          "text": [
            "Epoch 3 / 10, Step 570 / 5086, Loss: 0.0590\n"
          ]
        },
        {
          "output_type": "stream",
          "name": "stderr",
          "text": [
            "600it [00:03, 164.73it/s]"
          ]
        },
        {
          "output_type": "stream",
          "name": "stdout",
          "text": [
            "Epoch 3 / 10, Step 580 / 5086, Loss: 5.6183\n",
            "Epoch 3 / 10, Step 590 / 5086, Loss: 4.2345\n",
            "Epoch 3 / 10, Step 600 / 5086, Loss: 2.3314\n",
            "Epoch 3 / 10, Step 610 / 5086, Loss: 0.0179\n"
          ]
        },
        {
          "output_type": "stream",
          "name": "stderr",
          "text": [
            "635it [00:03, 167.26it/s]"
          ]
        },
        {
          "output_type": "stream",
          "name": "stdout",
          "text": [
            "Epoch 3 / 10, Step 620 / 5086, Loss: 0.6690\n",
            "Epoch 3 / 10, Step 630 / 5086, Loss: 2.1274\n",
            "Epoch 3 / 10, Step 640 / 5086, Loss: 7.5281\n"
          ]
        },
        {
          "output_type": "stream",
          "name": "stderr",
          "text": [
            "\r652it [00:03, 166.39it/s]"
          ]
        },
        {
          "output_type": "stream",
          "name": "stdout",
          "text": [
            "Epoch 3 / 10, Step 650 / 5086, Loss: 1.7213\n"
          ]
        },
        {
          "output_type": "stream",
          "name": "stderr",
          "text": [
            "\r669it [00:04, 166.85it/s]"
          ]
        },
        {
          "output_type": "stream",
          "name": "stdout",
          "text": [
            "Epoch 3 / 10, Step 660 / 5086, Loss: 0.0127\n",
            "Epoch 3 / 10, Step 670 / 5086, Loss: 0.3489\n",
            "Epoch 3 / 10, Step 680 / 5086, Loss: 1.7690\n"
          ]
        },
        {
          "output_type": "stream",
          "name": "stderr",
          "text": [
            "\r686it [00:04, 164.40it/s]"
          ]
        },
        {
          "output_type": "stream",
          "name": "stdout",
          "text": [
            "Epoch 3 / 10, Step 690 / 5086, Loss: 4.2454\n"
          ]
        },
        {
          "output_type": "stream",
          "name": "stderr",
          "text": [
            "720it [00:04, 164.34it/s]"
          ]
        },
        {
          "output_type": "stream",
          "name": "stdout",
          "text": [
            "Epoch 3 / 10, Step 700 / 5086, Loss: 3.6901\n",
            "Epoch 3 / 10, Step 710 / 5086, Loss: 0.9336\n",
            "Epoch 3 / 10, Step 720 / 5086, Loss: 1.3906\n",
            "Epoch 3 / 10, Step 730 / 5086, Loss: 4.3363\n"
          ]
        },
        {
          "output_type": "stream",
          "name": "stderr",
          "text": [
            "755it [00:04, 162.65it/s]"
          ]
        },
        {
          "output_type": "stream",
          "name": "stdout",
          "text": [
            "Epoch 3 / 10, Step 740 / 5086, Loss: 4.5029\n",
            "Epoch 3 / 10, Step 750 / 5086, Loss: 0.0028\n",
            "Epoch 3 / 10, Step 760 / 5086, Loss: 2.8966\n"
          ]
        },
        {
          "output_type": "stream",
          "name": "stderr",
          "text": [
            "\r772it [00:04, 163.06it/s]"
          ]
        },
        {
          "output_type": "stream",
          "name": "stdout",
          "text": [
            "Epoch 3 / 10, Step 770 / 5086, Loss: 9.4198\n"
          ]
        },
        {
          "output_type": "stream",
          "name": "stderr",
          "text": [
            "\r789it [00:04, 162.89it/s]"
          ]
        },
        {
          "output_type": "stream",
          "name": "stdout",
          "text": [
            "Epoch 3 / 10, Step 780 / 5086, Loss: 1.6345\n",
            "Epoch 3 / 10, Step 790 / 5086, Loss: 0.0830\n",
            "Epoch 3 / 10, Step 800 / 5086, Loss: 13.3690\n"
          ]
        },
        {
          "output_type": "stream",
          "name": "stderr",
          "text": [
            "\r806it [00:04, 164.76it/s]"
          ]
        },
        {
          "output_type": "stream",
          "name": "stdout",
          "text": [
            "Epoch 3 / 10, Step 810 / 5086, Loss: 1.8072\n"
          ]
        },
        {
          "output_type": "stream",
          "name": "stderr",
          "text": [
            "842it [00:05, 172.42it/s]"
          ]
        },
        {
          "output_type": "stream",
          "name": "stdout",
          "text": [
            "Epoch 3 / 10, Step 820 / 5086, Loss: 12.4902\n",
            "Epoch 3 / 10, Step 830 / 5086, Loss: 18.1676\n",
            "Epoch 3 / 10, Step 840 / 5086, Loss: 8.2220\n",
            "Epoch 3 / 10, Step 850 / 5086, Loss: 3.0283\n"
          ]
        },
        {
          "output_type": "stream",
          "name": "stderr",
          "text": [
            "879it [00:05, 169.50it/s]"
          ]
        },
        {
          "output_type": "stream",
          "name": "stdout",
          "text": [
            "Epoch 3 / 10, Step 860 / 5086, Loss: 5.3534\n",
            "Epoch 3 / 10, Step 870 / 5086, Loss: 0.6178\n",
            "Epoch 3 / 10, Step 880 / 5086, Loss: 3.4080\n",
            "Epoch 3 / 10, Step 890 / 5086, Loss: 2.4110\n"
          ]
        },
        {
          "output_type": "stream",
          "name": "stderr",
          "text": [
            "915it [00:05, 167.74it/s]"
          ]
        },
        {
          "output_type": "stream",
          "name": "stdout",
          "text": [
            "Epoch 3 / 10, Step 900 / 5086, Loss: 2.4425\n",
            "Epoch 3 / 10, Step 910 / 5086, Loss: 0.0209\n",
            "Epoch 3 / 10, Step 920 / 5086, Loss: 1.8947\n"
          ]
        },
        {
          "output_type": "stream",
          "name": "stderr",
          "text": [
            "\r933it [00:05, 169.75it/s]"
          ]
        },
        {
          "output_type": "stream",
          "name": "stdout",
          "text": [
            "Epoch 3 / 10, Step 930 / 5086, Loss: 1.8667\n"
          ]
        },
        {
          "output_type": "stream",
          "name": "stderr",
          "text": [
            "\r951it [00:05, 170.09it/s]"
          ]
        },
        {
          "output_type": "stream",
          "name": "stdout",
          "text": [
            "Epoch 3 / 10, Step 940 / 5086, Loss: 0.0149\n",
            "Epoch 3 / 10, Step 950 / 5086, Loss: 1.0211\n",
            "Epoch 3 / 10, Step 960 / 5086, Loss: 12.3342\n"
          ]
        },
        {
          "output_type": "stream",
          "name": "stderr",
          "text": [
            "\r969it [00:05, 168.28it/s]"
          ]
        },
        {
          "output_type": "stream",
          "name": "stdout",
          "text": [
            "Epoch 3 / 10, Step 970 / 5086, Loss: 0.8051\n"
          ]
        },
        {
          "output_type": "stream",
          "name": "stderr",
          "text": [
            "1004it [00:06, 169.34it/s]"
          ]
        },
        {
          "output_type": "stream",
          "name": "stdout",
          "text": [
            "Epoch 3 / 10, Step 980 / 5086, Loss: 3.9179\n",
            "Epoch 3 / 10, Step 990 / 5086, Loss: 0.3212\n",
            "Epoch 3 / 10, Step 1000 / 5086, Loss: 1.3860\n",
            "Epoch 3 / 10, Step 1010 / 5086, Loss: 0.1668\n"
          ]
        },
        {
          "output_type": "stream",
          "name": "stderr",
          "text": [
            "1040it [00:06, 170.65it/s]"
          ]
        },
        {
          "output_type": "stream",
          "name": "stdout",
          "text": [
            "Epoch 3 / 10, Step 1020 / 5086, Loss: 0.5407\n",
            "Epoch 3 / 10, Step 1030 / 5086, Loss: 1.2718\n",
            "Epoch 3 / 10, Step 1040 / 5086, Loss: 2.9481\n",
            "Epoch 3 / 10, Step 1050 / 5086, Loss: 1.4006\n"
          ]
        },
        {
          "output_type": "stream",
          "name": "stderr",
          "text": [
            "1075it [00:06, 160.12it/s]"
          ]
        },
        {
          "output_type": "stream",
          "name": "stdout",
          "text": [
            "Epoch 3 / 10, Step 1060 / 5086, Loss: 8.4441\n",
            "Epoch 3 / 10, Step 1070 / 5086, Loss: 8.8007\n",
            "Epoch 3 / 10, Step 1080 / 5086, Loss: 3.3751\n"
          ]
        },
        {
          "output_type": "stream",
          "name": "stderr",
          "text": [
            "\r1092it [00:06, 162.84it/s]"
          ]
        },
        {
          "output_type": "stream",
          "name": "stdout",
          "text": [
            "Epoch 3 / 10, Step 1090 / 5086, Loss: 0.1879\n"
          ]
        },
        {
          "output_type": "stream",
          "name": "stderr",
          "text": [
            "\r1109it [00:06, 161.70it/s]"
          ]
        },
        {
          "output_type": "stream",
          "name": "stdout",
          "text": [
            "Epoch 3 / 10, Step 1100 / 5086, Loss: 1.4548\n",
            "Epoch 3 / 10, Step 1110 / 5086, Loss: 1.4869\n",
            "Epoch 3 / 10, Step 1120 / 5086, Loss: 0.4664\n"
          ]
        },
        {
          "output_type": "stream",
          "name": "stderr",
          "text": [
            "\r1126it [00:06, 162.29it/s]"
          ]
        },
        {
          "output_type": "stream",
          "name": "stdout",
          "text": [
            "Epoch 3 / 10, Step 1130 / 5086, Loss: 8.4120\n"
          ]
        },
        {
          "output_type": "stream",
          "name": "stderr",
          "text": [
            "1161it [00:06, 164.30it/s]"
          ]
        },
        {
          "output_type": "stream",
          "name": "stdout",
          "text": [
            "Epoch 3 / 10, Step 1140 / 5086, Loss: 1.4485\n",
            "Epoch 3 / 10, Step 1150 / 5086, Loss: 0.9313\n",
            "Epoch 3 / 10, Step 1160 / 5086, Loss: 2.7994\n",
            "Epoch 3 / 10, Step 1170 / 5086, Loss: 7.2016\n"
          ]
        },
        {
          "output_type": "stream",
          "name": "stderr",
          "text": [
            "1196it [00:07, 163.10it/s]"
          ]
        },
        {
          "output_type": "stream",
          "name": "stdout",
          "text": [
            "Epoch 3 / 10, Step 1180 / 5086, Loss: 0.1937\n",
            "Epoch 3 / 10, Step 1190 / 5086, Loss: 1.9895\n",
            "Epoch 3 / 10, Step 1200 / 5086, Loss: 0.1316\n"
          ]
        },
        {
          "output_type": "stream",
          "name": "stderr",
          "text": [
            "\r1213it [00:07, 160.08it/s]"
          ]
        },
        {
          "output_type": "stream",
          "name": "stdout",
          "text": [
            "Epoch 3 / 10, Step 1210 / 5086, Loss: 2.7259\n"
          ]
        },
        {
          "output_type": "stream",
          "name": "stderr",
          "text": [
            "\r1230it [00:07, 160.73it/s]"
          ]
        },
        {
          "output_type": "stream",
          "name": "stdout",
          "text": [
            "Epoch 3 / 10, Step 1220 / 5086, Loss: 2.3126\n",
            "Epoch 3 / 10, Step 1230 / 5086, Loss: 25.3204\n",
            "Epoch 3 / 10, Step 1240 / 5086, Loss: 5.7199\n"
          ]
        },
        {
          "output_type": "stream",
          "name": "stderr",
          "text": [
            "\r1247it [00:07, 156.47it/s]"
          ]
        },
        {
          "output_type": "stream",
          "name": "stdout",
          "text": [
            "Epoch 3 / 10, Step 1250 / 5086, Loss: 7.5179\n"
          ]
        },
        {
          "output_type": "stream",
          "name": "stderr",
          "text": [
            "1281it [00:07, 160.90it/s]"
          ]
        },
        {
          "output_type": "stream",
          "name": "stdout",
          "text": [
            "Epoch 3 / 10, Step 1260 / 5086, Loss: 3.4000\n",
            "Epoch 3 / 10, Step 1270 / 5086, Loss: 3.3243\n",
            "Epoch 3 / 10, Step 1280 / 5086, Loss: 0.0103\n",
            "Epoch 3 / 10, Step 1290 / 5086, Loss: 0.4256\n"
          ]
        },
        {
          "output_type": "stream",
          "name": "stderr",
          "text": [
            "1314it [00:07, 157.34it/s]"
          ]
        },
        {
          "output_type": "stream",
          "name": "stdout",
          "text": [
            "Epoch 3 / 10, Step 1300 / 5086, Loss: 0.9228\n",
            "Epoch 3 / 10, Step 1310 / 5086, Loss: 0.0233\n",
            "Epoch 3 / 10, Step 1320 / 5086, Loss: 0.0031\n"
          ]
        },
        {
          "output_type": "stream",
          "name": "stderr",
          "text": [
            "\r1330it [00:08, 156.62it/s]"
          ]
        },
        {
          "output_type": "stream",
          "name": "stdout",
          "text": [
            "Epoch 3 / 10, Step 1330 / 5086, Loss: 0.0578\n"
          ]
        },
        {
          "output_type": "stream",
          "name": "stderr",
          "text": [
            "\r1346it [00:08, 156.60it/s]"
          ]
        },
        {
          "output_type": "stream",
          "name": "stdout",
          "text": [
            "Epoch 3 / 10, Step 1340 / 5086, Loss: 4.3444\n",
            "Epoch 3 / 10, Step 1350 / 5086, Loss: 2.3783\n",
            "Epoch 3 / 10, Step 1360 / 5086, Loss: 0.1008\n"
          ]
        },
        {
          "output_type": "stream",
          "name": "stderr",
          "text": [
            "\r1363it [00:08, 157.61it/s]"
          ]
        },
        {
          "output_type": "stream",
          "name": "stdout",
          "text": [
            "Epoch 3 / 10, Step 1370 / 5086, Loss: 4.3976\n"
          ]
        },
        {
          "output_type": "stream",
          "name": "stderr",
          "text": [
            "1396it [00:08, 158.50it/s]"
          ]
        },
        {
          "output_type": "stream",
          "name": "stdout",
          "text": [
            "Epoch 3 / 10, Step 1380 / 5086, Loss: 5.0518\n",
            "Epoch 3 / 10, Step 1390 / 5086, Loss: 1.0105\n",
            "Epoch 3 / 10, Step 1400 / 5086, Loss: 3.2693\n"
          ]
        },
        {
          "output_type": "stream",
          "name": "stderr",
          "text": [
            "\r1412it [00:08, 158.04it/s]"
          ]
        },
        {
          "output_type": "stream",
          "name": "stdout",
          "text": [
            "Epoch 3 / 10, Step 1410 / 5086, Loss: 12.7879\n"
          ]
        },
        {
          "output_type": "stream",
          "name": "stderr",
          "text": [
            "\r1430it [00:08, 161.88it/s]"
          ]
        },
        {
          "output_type": "stream",
          "name": "stdout",
          "text": [
            "Epoch 3 / 10, Step 1420 / 5086, Loss: 1.6511\n",
            "Epoch 3 / 10, Step 1430 / 5086, Loss: 1.4473\n",
            "Epoch 3 / 10, Step 1440 / 5086, Loss: 0.7494\n"
          ]
        },
        {
          "output_type": "stream",
          "name": "stderr",
          "text": [
            "\r1447it [00:08, 163.99it/s]"
          ]
        },
        {
          "output_type": "stream",
          "name": "stdout",
          "text": [
            "Epoch 3 / 10, Step 1450 / 5086, Loss: 4.4466\n"
          ]
        },
        {
          "output_type": "stream",
          "name": "stderr",
          "text": [
            "1481it [00:08, 165.65it/s]"
          ]
        },
        {
          "output_type": "stream",
          "name": "stdout",
          "text": [
            "Epoch 3 / 10, Step 1460 / 5086, Loss: 1.5675\n",
            "Epoch 3 / 10, Step 1470 / 5086, Loss: 0.4668\n",
            "Epoch 3 / 10, Step 1480 / 5086, Loss: 0.0001\n",
            "Epoch 3 / 10, Step 1490 / 5086, Loss: 1.8300\n"
          ]
        },
        {
          "output_type": "stream",
          "name": "stderr",
          "text": [
            "1515it [00:09, 164.14it/s]"
          ]
        },
        {
          "output_type": "stream",
          "name": "stdout",
          "text": [
            "Epoch 3 / 10, Step 1500 / 5086, Loss: 5.3952\n",
            "Epoch 3 / 10, Step 1510 / 5086, Loss: 0.0793\n",
            "Epoch 3 / 10, Step 1520 / 5086, Loss: 0.0390\n"
          ]
        },
        {
          "output_type": "stream",
          "name": "stderr",
          "text": [
            "\r1532it [00:09, 163.45it/s]"
          ]
        },
        {
          "output_type": "stream",
          "name": "stdout",
          "text": [
            "Epoch 3 / 10, Step 1530 / 5086, Loss: 1.5503\n"
          ]
        },
        {
          "output_type": "stream",
          "name": "stderr",
          "text": [
            "\r1549it [00:09, 161.74it/s]"
          ]
        },
        {
          "output_type": "stream",
          "name": "stdout",
          "text": [
            "Epoch 3 / 10, Step 1540 / 5086, Loss: 1.5490\n",
            "Epoch 3 / 10, Step 1550 / 5086, Loss: 0.0003\n",
            "Epoch 3 / 10, Step 1560 / 5086, Loss: 0.0477\n"
          ]
        },
        {
          "output_type": "stream",
          "name": "stderr",
          "text": [
            "\r1566it [00:09, 156.10it/s]"
          ]
        },
        {
          "output_type": "stream",
          "name": "stdout",
          "text": [
            "Epoch 3 / 10, Step 1570 / 5086, Loss: 3.4979\n"
          ]
        },
        {
          "output_type": "stream",
          "name": "stderr",
          "text": [
            "1602it [00:09, 165.48it/s]"
          ]
        },
        {
          "output_type": "stream",
          "name": "stdout",
          "text": [
            "Epoch 3 / 10, Step 1580 / 5086, Loss: 0.0139\n",
            "Epoch 3 / 10, Step 1590 / 5086, Loss: 2.3173\n",
            "Epoch 3 / 10, Step 1600 / 5086, Loss: 2.4494\n",
            "Epoch 3 / 10, Step 1610 / 5086, Loss: 0.6132\n"
          ]
        },
        {
          "output_type": "stream",
          "name": "stderr",
          "text": [
            "1637it [00:09, 165.66it/s]"
          ]
        },
        {
          "output_type": "stream",
          "name": "stdout",
          "text": [
            "Epoch 3 / 10, Step 1620 / 5086, Loss: 0.1088\n",
            "Epoch 3 / 10, Step 1630 / 5086, Loss: 0.0000\n",
            "Epoch 3 / 10, Step 1640 / 5086, Loss: 1.1477\n"
          ]
        },
        {
          "output_type": "stream",
          "name": "stderr",
          "text": [
            "\r1655it [00:10, 168.05it/s]"
          ]
        },
        {
          "output_type": "stream",
          "name": "stdout",
          "text": [
            "Epoch 3 / 10, Step 1650 / 5086, Loss: 0.3116\n"
          ]
        },
        {
          "output_type": "stream",
          "name": "stderr",
          "text": [
            "\r1674it [00:10, 173.99it/s]"
          ]
        },
        {
          "output_type": "stream",
          "name": "stdout",
          "text": [
            "Epoch 3 / 10, Step 1660 / 5086, Loss: 0.8959\n",
            "Epoch 3 / 10, Step 1670 / 5086, Loss: 0.7859\n",
            "Epoch 3 / 10, Step 1680 / 5086, Loss: 0.0046\n"
          ]
        },
        {
          "output_type": "stream",
          "name": "stderr",
          "text": [
            "\r1692it [00:10, 174.07it/s]"
          ]
        },
        {
          "output_type": "stream",
          "name": "stdout",
          "text": [
            "Epoch 3 / 10, Step 1690 / 5086, Loss: 1.8992\n"
          ]
        },
        {
          "output_type": "stream",
          "name": "stderr",
          "text": [
            "\r1710it [00:10, 174.53it/s]"
          ]
        },
        {
          "output_type": "stream",
          "name": "stdout",
          "text": [
            "Epoch 3 / 10, Step 1700 / 5086, Loss: 3.0388\n",
            "Epoch 3 / 10, Step 1710 / 5086, Loss: 0.0019\n",
            "Epoch 3 / 10, Step 1720 / 5086, Loss: 0.0046\n"
          ]
        },
        {
          "output_type": "stream",
          "name": "stderr",
          "text": [
            "\r1729it [00:10, 178.39it/s]"
          ]
        },
        {
          "output_type": "stream",
          "name": "stdout",
          "text": [
            "Epoch 3 / 10, Step 1730 / 5086, Loss: 0.0556\n"
          ]
        },
        {
          "output_type": "stream",
          "name": "stderr",
          "text": [
            "\r1747it [00:10, 173.16it/s]"
          ]
        },
        {
          "output_type": "stream",
          "name": "stdout",
          "text": [
            "Epoch 3 / 10, Step 1740 / 5086, Loss: 0.1066\n",
            "Epoch 3 / 10, Step 1750 / 5086, Loss: 1.0669\n",
            "Epoch 3 / 10, Step 1760 / 5086, Loss: 2.8479\n"
          ]
        },
        {
          "output_type": "stream",
          "name": "stderr",
          "text": [
            "\r1766it [00:10, 176.24it/s]"
          ]
        },
        {
          "output_type": "stream",
          "name": "stdout",
          "text": [
            "Epoch 3 / 10, Step 1770 / 5086, Loss: 1.1758\n"
          ]
        },
        {
          "output_type": "stream",
          "name": "stderr",
          "text": [
            "1802it [00:10, 174.96it/s]"
          ]
        },
        {
          "output_type": "stream",
          "name": "stdout",
          "text": [
            "Epoch 3 / 10, Step 1780 / 5086, Loss: 1.1199\n",
            "Epoch 3 / 10, Step 1790 / 5086, Loss: 1.3737\n",
            "Epoch 3 / 10, Step 1800 / 5086, Loss: 0.3321\n",
            "Epoch 3 / 10, Step 1810 / 5086, Loss: 13.3506\n"
          ]
        },
        {
          "output_type": "stream",
          "name": "stderr",
          "text": [
            "1839it [00:11, 171.09it/s]"
          ]
        },
        {
          "output_type": "stream",
          "name": "stdout",
          "text": [
            "Epoch 3 / 10, Step 1820 / 5086, Loss: 0.8848\n",
            "Epoch 3 / 10, Step 1830 / 5086, Loss: 0.7214\n",
            "Epoch 3 / 10, Step 1840 / 5086, Loss: 7.8989\n",
            "Epoch 3 / 10, Step 1850 / 5086, Loss: 0.0065\n"
          ]
        },
        {
          "output_type": "stream",
          "name": "stderr",
          "text": [
            "1874it [00:11, 166.86it/s]"
          ]
        },
        {
          "output_type": "stream",
          "name": "stdout",
          "text": [
            "Epoch 3 / 10, Step 1860 / 5086, Loss: 2.2975\n",
            "Epoch 3 / 10, Step 1870 / 5086, Loss: 4.4773\n",
            "Epoch 3 / 10, Step 1880 / 5086, Loss: 5.0596\n"
          ]
        },
        {
          "output_type": "stream",
          "name": "stderr",
          "text": [
            "\r1891it [00:11, 165.04it/s]"
          ]
        },
        {
          "output_type": "stream",
          "name": "stdout",
          "text": [
            "Epoch 3 / 10, Step 1890 / 5086, Loss: 1.0314\n"
          ]
        },
        {
          "output_type": "stream",
          "name": "stderr",
          "text": [
            "\r1908it [00:11, 166.01it/s]"
          ]
        },
        {
          "output_type": "stream",
          "name": "stdout",
          "text": [
            "Epoch 3 / 10, Step 1900 / 5086, Loss: 5.5624\n",
            "Epoch 3 / 10, Step 1910 / 5086, Loss: 0.0359\n",
            "Epoch 3 / 10, Step 1920 / 5086, Loss: 3.8958\n"
          ]
        },
        {
          "output_type": "stream",
          "name": "stderr",
          "text": [
            "\r1925it [00:11, 163.86it/s]"
          ]
        },
        {
          "output_type": "stream",
          "name": "stdout",
          "text": [
            "Epoch 3 / 10, Step 1930 / 5086, Loss: 0.2579\n"
          ]
        },
        {
          "output_type": "stream",
          "name": "stderr",
          "text": [
            "1961it [00:11, 169.74it/s]"
          ]
        },
        {
          "output_type": "stream",
          "name": "stdout",
          "text": [
            "Epoch 3 / 10, Step 1940 / 5086, Loss: 0.4933\n",
            "Epoch 3 / 10, Step 1950 / 5086, Loss: 6.3032\n",
            "Epoch 3 / 10, Step 1960 / 5086, Loss: 1.9805\n",
            "Epoch 3 / 10, Step 1970 / 5086, Loss: 0.1391\n"
          ]
        },
        {
          "output_type": "stream",
          "name": "stderr",
          "text": [
            "1998it [00:12, 172.85it/s]"
          ]
        },
        {
          "output_type": "stream",
          "name": "stdout",
          "text": [
            "Epoch 3 / 10, Step 1980 / 5086, Loss: 0.4358\n",
            "Epoch 3 / 10, Step 1990 / 5086, Loss: 0.5047\n",
            "Epoch 3 / 10, Step 2000 / 5086, Loss: 0.3169\n",
            "Epoch 3 / 10, Step 2010 / 5086, Loss: 0.8846\n"
          ]
        },
        {
          "output_type": "stream",
          "name": "stderr",
          "text": [
            "2033it [00:12, 168.69it/s]"
          ]
        },
        {
          "output_type": "stream",
          "name": "stdout",
          "text": [
            "Epoch 3 / 10, Step 2020 / 5086, Loss: 2.8818\n",
            "Epoch 3 / 10, Step 2030 / 5086, Loss: 1.0873\n",
            "Epoch 3 / 10, Step 2040 / 5086, Loss: 3.0001\n"
          ]
        },
        {
          "output_type": "stream",
          "name": "stderr",
          "text": [
            "\r2050it [00:12, 167.95it/s]"
          ]
        },
        {
          "output_type": "stream",
          "name": "stdout",
          "text": [
            "Epoch 3 / 10, Step 2050 / 5086, Loss: 7.0814\n"
          ]
        },
        {
          "output_type": "stream",
          "name": "stderr",
          "text": [
            "\r2067it [00:12, 166.49it/s]"
          ]
        },
        {
          "output_type": "stream",
          "name": "stdout",
          "text": [
            "Epoch 3 / 10, Step 2060 / 5086, Loss: 3.1692\n",
            "Epoch 3 / 10, Step 2070 / 5086, Loss: 8.0357\n",
            "Epoch 3 / 10, Step 2080 / 5086, Loss: 5.6927\n"
          ]
        },
        {
          "output_type": "stream",
          "name": "stderr",
          "text": [
            "\r2085it [00:12, 168.25it/s]"
          ]
        },
        {
          "output_type": "stream",
          "name": "stdout",
          "text": [
            "Epoch 3 / 10, Step 2090 / 5086, Loss: 3.0160\n"
          ]
        },
        {
          "output_type": "stream",
          "name": "stderr",
          "text": [
            "2122it [00:12, 173.69it/s]"
          ]
        },
        {
          "output_type": "stream",
          "name": "stdout",
          "text": [
            "Epoch 3 / 10, Step 2100 / 5086, Loss: 0.5148\n",
            "Epoch 3 / 10, Step 2110 / 5086, Loss: 14.5948\n",
            "Epoch 3 / 10, Step 2120 / 5086, Loss: 6.8824\n",
            "Epoch 3 / 10, Step 2130 / 5086, Loss: 4.8390\n"
          ]
        },
        {
          "output_type": "stream",
          "name": "stderr",
          "text": [
            "2158it [00:13, 171.19it/s]"
          ]
        },
        {
          "output_type": "stream",
          "name": "stdout",
          "text": [
            "Epoch 3 / 10, Step 2140 / 5086, Loss: 0.1650\n",
            "Epoch 3 / 10, Step 2150 / 5086, Loss: 0.0067\n",
            "Epoch 3 / 10, Step 2160 / 5086, Loss: 9.7291\n",
            "Epoch 3 / 10, Step 2170 / 5086, Loss: 0.0126\n"
          ]
        },
        {
          "output_type": "stream",
          "name": "stderr",
          "text": [
            "2193it [00:13, 167.92it/s]"
          ]
        },
        {
          "output_type": "stream",
          "name": "stdout",
          "text": [
            "Epoch 3 / 10, Step 2180 / 5086, Loss: 8.1583\n",
            "Epoch 3 / 10, Step 2190 / 5086, Loss: 5.8986\n",
            "Epoch 3 / 10, Step 2200 / 5086, Loss: 9.8120\n"
          ]
        },
        {
          "output_type": "stream",
          "name": "stderr",
          "text": [
            "\r2210it [00:13, 165.81it/s]"
          ]
        },
        {
          "output_type": "stream",
          "name": "stdout",
          "text": [
            "Epoch 3 / 10, Step 2210 / 5086, Loss: 1.2496\n"
          ]
        },
        {
          "output_type": "stream",
          "name": "stderr",
          "text": [
            "\r2227it [00:13, 164.43it/s]"
          ]
        },
        {
          "output_type": "stream",
          "name": "stdout",
          "text": [
            "Epoch 3 / 10, Step 2220 / 5086, Loss: 0.0000\n",
            "Epoch 3 / 10, Step 2230 / 5086, Loss: 3.5612\n",
            "Epoch 3 / 10, Step 2240 / 5086, Loss: 0.0388\n"
          ]
        },
        {
          "output_type": "stream",
          "name": "stderr",
          "text": [
            "\r2245it [00:13, 165.87it/s]"
          ]
        },
        {
          "output_type": "stream",
          "name": "stdout",
          "text": [
            "Epoch 3 / 10, Step 2250 / 5086, Loss: 0.0000\n"
          ]
        },
        {
          "output_type": "stream",
          "name": "stderr",
          "text": [
            "2280it [00:13, 164.51it/s]"
          ]
        },
        {
          "output_type": "stream",
          "name": "stdout",
          "text": [
            "Epoch 3 / 10, Step 2260 / 5086, Loss: 0.9346\n",
            "Epoch 3 / 10, Step 2270 / 5086, Loss: 1.3553\n",
            "Epoch 3 / 10, Step 2280 / 5086, Loss: 6.7019\n",
            "Epoch 3 / 10, Step 2290 / 5086, Loss: 0.0056\n"
          ]
        },
        {
          "output_type": "stream",
          "name": "stderr",
          "text": [
            "2316it [00:13, 169.36it/s]"
          ]
        },
        {
          "output_type": "stream",
          "name": "stdout",
          "text": [
            "Epoch 3 / 10, Step 2300 / 5086, Loss: 0.0030\n",
            "Epoch 3 / 10, Step 2310 / 5086, Loss: 0.1115\n",
            "Epoch 3 / 10, Step 2320 / 5086, Loss: 0.0000\n"
          ]
        },
        {
          "output_type": "stream",
          "name": "stderr",
          "text": [
            "\r2333it [00:14, 167.33it/s]"
          ]
        },
        {
          "output_type": "stream",
          "name": "stdout",
          "text": [
            "Epoch 3 / 10, Step 2330 / 5086, Loss: 16.0289\n"
          ]
        },
        {
          "output_type": "stream",
          "name": "stderr",
          "text": [
            "\r2350it [00:14, 165.45it/s]"
          ]
        },
        {
          "output_type": "stream",
          "name": "stdout",
          "text": [
            "Epoch 3 / 10, Step 2340 / 5086, Loss: 0.8604\n",
            "Epoch 3 / 10, Step 2350 / 5086, Loss: 4.0296\n",
            "Epoch 3 / 10, Step 2360 / 5086, Loss: 3.8028\n"
          ]
        },
        {
          "output_type": "stream",
          "name": "stderr",
          "text": [
            "\r2367it [00:14, 166.71it/s]"
          ]
        },
        {
          "output_type": "stream",
          "name": "stdout",
          "text": [
            "Epoch 3 / 10, Step 2370 / 5086, Loss: 3.0124\n"
          ]
        },
        {
          "output_type": "stream",
          "name": "stderr",
          "text": [
            "2402it [00:14, 169.14it/s]"
          ]
        },
        {
          "output_type": "stream",
          "name": "stdout",
          "text": [
            "Epoch 3 / 10, Step 2380 / 5086, Loss: 9.2949\n",
            "Epoch 3 / 10, Step 2390 / 5086, Loss: 2.7856\n",
            "Epoch 3 / 10, Step 2400 / 5086, Loss: 0.2542\n",
            "Epoch 3 / 10, Step 2410 / 5086, Loss: 0.2577\n"
          ]
        },
        {
          "output_type": "stream",
          "name": "stderr",
          "text": [
            "2436it [00:14, 165.09it/s]"
          ]
        },
        {
          "output_type": "stream",
          "name": "stdout",
          "text": [
            "Epoch 3 / 10, Step 2420 / 5086, Loss: 0.1714\n",
            "Epoch 3 / 10, Step 2430 / 5086, Loss: 0.6823\n",
            "Epoch 3 / 10, Step 2440 / 5086, Loss: 0.0023\n"
          ]
        },
        {
          "output_type": "stream",
          "name": "stderr",
          "text": [
            "\r2453it [00:14, 165.93it/s]"
          ]
        },
        {
          "output_type": "stream",
          "name": "stdout",
          "text": [
            "Epoch 3 / 10, Step 2450 / 5086, Loss: 0.2020\n"
          ]
        },
        {
          "output_type": "stream",
          "name": "stderr",
          "text": [
            "\r2470it [00:14, 165.46it/s]"
          ]
        },
        {
          "output_type": "stream",
          "name": "stdout",
          "text": [
            "Epoch 3 / 10, Step 2460 / 5086, Loss: 4.8897\n",
            "Epoch 3 / 10, Step 2470 / 5086, Loss: 0.0208\n",
            "Epoch 3 / 10, Step 2480 / 5086, Loss: 0.0722\n"
          ]
        },
        {
          "output_type": "stream",
          "name": "stderr",
          "text": [
            "\r2489it [00:15, 171.56it/s]"
          ]
        },
        {
          "output_type": "stream",
          "name": "stdout",
          "text": [
            "Epoch 3 / 10, Step 2490 / 5086, Loss: 0.0002\n"
          ]
        },
        {
          "output_type": "stream",
          "name": "stderr",
          "text": [
            "2527it [00:15, 180.32it/s]"
          ]
        },
        {
          "output_type": "stream",
          "name": "stdout",
          "text": [
            "Epoch 3 / 10, Step 2500 / 5086, Loss: 12.4828\n",
            "Epoch 3 / 10, Step 2510 / 5086, Loss: 8.5165\n",
            "Epoch 3 / 10, Step 2520 / 5086, Loss: 3.7734\n",
            "Epoch 3 / 10, Step 2530 / 5086, Loss: 0.0135\n"
          ]
        },
        {
          "output_type": "stream",
          "name": "stderr",
          "text": [
            "2566it [00:15, 183.37it/s]"
          ]
        },
        {
          "output_type": "stream",
          "name": "stdout",
          "text": [
            "Epoch 3 / 10, Step 2540 / 5086, Loss: 0.0630\n",
            "Epoch 3 / 10, Step 2550 / 5086, Loss: 6.8404\n",
            "Epoch 3 / 10, Step 2560 / 5086, Loss: 0.1534\n",
            "Epoch 3 / 10, Step 2570 / 5086, Loss: 0.0093\n"
          ]
        },
        {
          "output_type": "stream",
          "name": "stderr",
          "text": [
            "2605it [00:15, 183.97it/s]"
          ]
        },
        {
          "output_type": "stream",
          "name": "stdout",
          "text": [
            "Epoch 3 / 10, Step 2580 / 5086, Loss: 2.3560\n",
            "Epoch 3 / 10, Step 2590 / 5086, Loss: 0.1619\n",
            "Epoch 3 / 10, Step 2600 / 5086, Loss: 1.1459\n",
            "Epoch 3 / 10, Step 2610 / 5086, Loss: 8.5355\n"
          ]
        },
        {
          "output_type": "stream",
          "name": "stderr",
          "text": [
            "2643it [00:15, 178.25it/s]"
          ]
        },
        {
          "output_type": "stream",
          "name": "stdout",
          "text": [
            "Epoch 3 / 10, Step 2620 / 5086, Loss: 0.4670\n",
            "Epoch 3 / 10, Step 2630 / 5086, Loss: 5.1638\n",
            "Epoch 3 / 10, Step 2640 / 5086, Loss: 4.6741\n",
            "Epoch 3 / 10, Step 2650 / 5086, Loss: 2.8884\n"
          ]
        },
        {
          "output_type": "stream",
          "name": "stderr",
          "text": [
            "2679it [00:16, 169.33it/s]"
          ]
        },
        {
          "output_type": "stream",
          "name": "stdout",
          "text": [
            "Epoch 3 / 10, Step 2660 / 5086, Loss: 1.9008\n",
            "Epoch 3 / 10, Step 2670 / 5086, Loss: 0.5663\n",
            "Epoch 3 / 10, Step 2680 / 5086, Loss: 2.6481\n",
            "Epoch 3 / 10, Step 2690 / 5086, Loss: 9.5031\n"
          ]
        },
        {
          "output_type": "stream",
          "name": "stderr",
          "text": [
            "2715it [00:16, 170.26it/s]"
          ]
        },
        {
          "output_type": "stream",
          "name": "stdout",
          "text": [
            "Epoch 3 / 10, Step 2700 / 5086, Loss: 0.5528\n",
            "Epoch 3 / 10, Step 2710 / 5086, Loss: 12.5832\n",
            "Epoch 3 / 10, Step 2720 / 5086, Loss: 0.2798\n"
          ]
        },
        {
          "output_type": "stream",
          "name": "stderr",
          "text": [
            "\r2733it [00:16, 171.27it/s]"
          ]
        },
        {
          "output_type": "stream",
          "name": "stdout",
          "text": [
            "Epoch 3 / 10, Step 2730 / 5086, Loss: 0.7160\n"
          ]
        },
        {
          "output_type": "stream",
          "name": "stderr",
          "text": [
            "\r2751it [00:16, 169.05it/s]"
          ]
        },
        {
          "output_type": "stream",
          "name": "stdout",
          "text": [
            "Epoch 3 / 10, Step 2740 / 5086, Loss: 0.0004\n",
            "Epoch 3 / 10, Step 2750 / 5086, Loss: 6.2317\n",
            "Epoch 3 / 10, Step 2760 / 5086, Loss: 0.1432\n"
          ]
        },
        {
          "output_type": "stream",
          "name": "stderr",
          "text": [
            "\r2768it [00:16, 167.67it/s]"
          ]
        },
        {
          "output_type": "stream",
          "name": "stdout",
          "text": [
            "Epoch 3 / 10, Step 2770 / 5086, Loss: 4.0302\n"
          ]
        },
        {
          "output_type": "stream",
          "name": "stderr",
          "text": [
            "\r2785it [00:16, 159.79it/s]"
          ]
        },
        {
          "output_type": "stream",
          "name": "stdout",
          "text": [
            "Epoch 3 / 10, Step 2780 / 5086, Loss: 2.4092\n",
            "Epoch 3 / 10, Step 2790 / 5086, Loss: 0.5766\n",
            "Epoch 3 / 10, Step 2800 / 5086, Loss: 5.9837\n"
          ]
        },
        {
          "output_type": "stream",
          "name": "stderr",
          "text": [
            "\r2802it [00:16, 160.04it/s]"
          ]
        },
        {
          "output_type": "stream",
          "name": "stdout",
          "text": [
            "Epoch 3 / 10, Step 2810 / 5086, Loss: 0.0333\n"
          ]
        },
        {
          "output_type": "stream",
          "name": "stderr",
          "text": [
            "2838it [00:17, 166.40it/s]"
          ]
        },
        {
          "output_type": "stream",
          "name": "stdout",
          "text": [
            "Epoch 3 / 10, Step 2820 / 5086, Loss: 0.4502\n",
            "Epoch 3 / 10, Step 2830 / 5086, Loss: 0.1159\n",
            "Epoch 3 / 10, Step 2840 / 5086, Loss: 1.6872\n",
            "Epoch 3 / 10, Step 2850 / 5086, Loss: 1.9898\n"
          ]
        },
        {
          "output_type": "stream",
          "name": "stderr",
          "text": [
            "2872it [00:17, 162.31it/s]"
          ]
        },
        {
          "output_type": "stream",
          "name": "stdout",
          "text": [
            "Epoch 3 / 10, Step 2860 / 5086, Loss: 2.2145\n",
            "Epoch 3 / 10, Step 2870 / 5086, Loss: 6.4792\n",
            "Epoch 3 / 10, Step 2880 / 5086, Loss: 3.5221\n"
          ]
        },
        {
          "output_type": "stream",
          "name": "stderr",
          "text": [
            "\r2889it [00:17, 162.81it/s]"
          ]
        },
        {
          "output_type": "stream",
          "name": "stdout",
          "text": [
            "Epoch 3 / 10, Step 2890 / 5086, Loss: 12.7375\n"
          ]
        },
        {
          "output_type": "stream",
          "name": "stderr",
          "text": [
            "\r2906it [00:17, 159.30it/s]"
          ]
        },
        {
          "output_type": "stream",
          "name": "stdout",
          "text": [
            "Epoch 3 / 10, Step 2900 / 5086, Loss: 6.9320\n",
            "Epoch 3 / 10, Step 2910 / 5086, Loss: 1.8399\n",
            "Epoch 3 / 10, Step 2920 / 5086, Loss: 4.6146\n"
          ]
        },
        {
          "output_type": "stream",
          "name": "stderr",
          "text": [
            "\r2923it [00:17, 161.92it/s]"
          ]
        },
        {
          "output_type": "stream",
          "name": "stdout",
          "text": [
            "Epoch 3 / 10, Step 2930 / 5086, Loss: 0.2222\n"
          ]
        },
        {
          "output_type": "stream",
          "name": "stderr",
          "text": [
            "2957it [00:17, 161.31it/s]"
          ]
        },
        {
          "output_type": "stream",
          "name": "stdout",
          "text": [
            "Epoch 3 / 10, Step 2940 / 5086, Loss: 0.0004\n",
            "Epoch 3 / 10, Step 2950 / 5086, Loss: 1.9786\n",
            "Epoch 3 / 10, Step 2960 / 5086, Loss: 2.8255\n",
            "Epoch 3 / 10, Step 2970 / 5086, Loss: 1.0311\n"
          ]
        },
        {
          "output_type": "stream",
          "name": "stderr",
          "text": [
            "2992it [00:18, 163.77it/s]"
          ]
        },
        {
          "output_type": "stream",
          "name": "stdout",
          "text": [
            "Epoch 3 / 10, Step 2980 / 5086, Loss: 0.0293\n",
            "Epoch 3 / 10, Step 2990 / 5086, Loss: 0.1391\n",
            "Epoch 3 / 10, Step 3000 / 5086, Loss: 3.4097\n"
          ]
        },
        {
          "output_type": "stream",
          "name": "stderr",
          "text": [
            "\r3009it [00:18, 161.99it/s]"
          ]
        },
        {
          "output_type": "stream",
          "name": "stdout",
          "text": [
            "Epoch 3 / 10, Step 3010 / 5086, Loss: 2.4127\n"
          ]
        },
        {
          "output_type": "stream",
          "name": "stderr",
          "text": [
            "3044it [00:18, 164.38it/s]"
          ]
        },
        {
          "output_type": "stream",
          "name": "stdout",
          "text": [
            "Epoch 3 / 10, Step 3020 / 5086, Loss: 1.1507\n",
            "Epoch 3 / 10, Step 3030 / 5086, Loss: 5.0166\n",
            "Epoch 3 / 10, Step 3040 / 5086, Loss: 1.0594\n",
            "Epoch 3 / 10, Step 3050 / 5086, Loss: 1.0128\n"
          ]
        },
        {
          "output_type": "stream",
          "name": "stderr",
          "text": [
            "3079it [00:18, 164.51it/s]"
          ]
        },
        {
          "output_type": "stream",
          "name": "stdout",
          "text": [
            "Epoch 3 / 10, Step 3060 / 5086, Loss: 3.1860\n",
            "Epoch 3 / 10, Step 3070 / 5086, Loss: 1.4693\n",
            "Epoch 3 / 10, Step 3080 / 5086, Loss: 1.1395\n",
            "Epoch 3 / 10, Step 3090 / 5086, Loss: 0.0142\n"
          ]
        },
        {
          "output_type": "stream",
          "name": "stderr",
          "text": [
            "3114it [00:18, 163.34it/s]"
          ]
        },
        {
          "output_type": "stream",
          "name": "stdout",
          "text": [
            "Epoch 3 / 10, Step 3100 / 5086, Loss: 0.0293\n",
            "Epoch 3 / 10, Step 3110 / 5086, Loss: 0.6222\n",
            "Epoch 3 / 10, Step 3120 / 5086, Loss: 1.4455\n"
          ]
        },
        {
          "output_type": "stream",
          "name": "stderr",
          "text": [
            "\r3131it [00:18, 159.12it/s]"
          ]
        },
        {
          "output_type": "stream",
          "name": "stdout",
          "text": [
            "Epoch 3 / 10, Step 3130 / 5086, Loss: 1.0836\n"
          ]
        },
        {
          "output_type": "stream",
          "name": "stderr",
          "text": [
            "\r3147it [00:18, 156.81it/s]"
          ]
        },
        {
          "output_type": "stream",
          "name": "stdout",
          "text": [
            "Epoch 3 / 10, Step 3140 / 5086, Loss: 2.1259\n",
            "Epoch 3 / 10, Step 3150 / 5086, Loss: 2.1380\n",
            "Epoch 3 / 10, Step 3160 / 5086, Loss: 4.2768\n"
          ]
        },
        {
          "output_type": "stream",
          "name": "stderr",
          "text": [
            "\r3164it [00:19, 157.94it/s]"
          ]
        },
        {
          "output_type": "stream",
          "name": "stdout",
          "text": [
            "Epoch 3 / 10, Step 3170 / 5086, Loss: 3.6668\n"
          ]
        },
        {
          "output_type": "stream",
          "name": "stderr",
          "text": [
            "3199it [00:19, 163.55it/s]"
          ]
        },
        {
          "output_type": "stream",
          "name": "stdout",
          "text": [
            "Epoch 3 / 10, Step 3180 / 5086, Loss: 2.0753\n",
            "Epoch 3 / 10, Step 3190 / 5086, Loss: 1.7728\n",
            "Epoch 3 / 10, Step 3200 / 5086, Loss: 3.5558\n",
            "Epoch 3 / 10, Step 3210 / 5086, Loss: 0.4376\n"
          ]
        },
        {
          "output_type": "stream",
          "name": "stderr",
          "text": [
            "3233it [00:19, 160.55it/s]"
          ]
        },
        {
          "output_type": "stream",
          "name": "stdout",
          "text": [
            "Epoch 3 / 10, Step 3220 / 5086, Loss: 2.5133\n",
            "Epoch 3 / 10, Step 3230 / 5086, Loss: 0.0000\n",
            "Epoch 3 / 10, Step 3240 / 5086, Loss: 2.7541\n"
          ]
        },
        {
          "output_type": "stream",
          "name": "stderr",
          "text": [
            "\r3250it [00:19, 159.88it/s]"
          ]
        },
        {
          "output_type": "stream",
          "name": "stdout",
          "text": [
            "Epoch 3 / 10, Step 3250 / 5086, Loss: 0.0242\n"
          ]
        },
        {
          "output_type": "stream",
          "name": "stderr",
          "text": [
            "\r3267it [00:19, 160.41it/s]"
          ]
        },
        {
          "output_type": "stream",
          "name": "stdout",
          "text": [
            "Epoch 3 / 10, Step 3260 / 5086, Loss: 3.4900\n",
            "Epoch 3 / 10, Step 3270 / 5086, Loss: 3.8040\n",
            "Epoch 3 / 10, Step 3280 / 5086, Loss: 0.2019\n"
          ]
        },
        {
          "output_type": "stream",
          "name": "stderr",
          "text": [
            "\r3285it [00:19, 163.10it/s]"
          ]
        },
        {
          "output_type": "stream",
          "name": "stdout",
          "text": [
            "Epoch 3 / 10, Step 3290 / 5086, Loss: 0.0024\n"
          ]
        },
        {
          "output_type": "stream",
          "name": "stderr",
          "text": [
            "3321it [00:20, 169.28it/s]"
          ]
        },
        {
          "output_type": "stream",
          "name": "stdout",
          "text": [
            "Epoch 3 / 10, Step 3300 / 5086, Loss: 0.0171\n",
            "Epoch 3 / 10, Step 3310 / 5086, Loss: 10.3267\n",
            "Epoch 3 / 10, Step 3320 / 5086, Loss: 2.5968\n",
            "Epoch 3 / 10, Step 3330 / 5086, Loss: 3.5463\n"
          ]
        },
        {
          "output_type": "stream",
          "name": "stderr",
          "text": [
            "3356it [00:20, 169.67it/s]"
          ]
        },
        {
          "output_type": "stream",
          "name": "stdout",
          "text": [
            "Epoch 3 / 10, Step 3340 / 5086, Loss: 3.6637\n",
            "Epoch 3 / 10, Step 3350 / 5086, Loss: 0.1852\n",
            "Epoch 3 / 10, Step 3360 / 5086, Loss: 6.9195\n"
          ]
        },
        {
          "output_type": "stream",
          "name": "stderr",
          "text": [
            "\r3374it [00:20, 170.85it/s]"
          ]
        },
        {
          "output_type": "stream",
          "name": "stdout",
          "text": [
            "Epoch 3 / 10, Step 3370 / 5086, Loss: 0.3867\n"
          ]
        },
        {
          "output_type": "stream",
          "name": "stderr",
          "text": [
            "\r3392it [00:20, 170.72it/s]"
          ]
        },
        {
          "output_type": "stream",
          "name": "stdout",
          "text": [
            "Epoch 3 / 10, Step 3380 / 5086, Loss: 0.1994\n",
            "Epoch 3 / 10, Step 3390 / 5086, Loss: 0.7054\n",
            "Epoch 3 / 10, Step 3400 / 5086, Loss: 1.7000\n"
          ]
        },
        {
          "output_type": "stream",
          "name": "stderr",
          "text": [
            "\r3410it [00:20, 170.33it/s]"
          ]
        },
        {
          "output_type": "stream",
          "name": "stdout",
          "text": [
            "Epoch 3 / 10, Step 3410 / 5086, Loss: 2.0422\n"
          ]
        },
        {
          "output_type": "stream",
          "name": "stderr",
          "text": [
            "\r3428it [00:20, 168.83it/s]"
          ]
        },
        {
          "output_type": "stream",
          "name": "stdout",
          "text": [
            "Epoch 3 / 10, Step 3420 / 5086, Loss: 0.5871\n",
            "Epoch 3 / 10, Step 3430 / 5086, Loss: 1.5434\n",
            "Epoch 3 / 10, Step 3440 / 5086, Loss: 0.0030\n"
          ]
        },
        {
          "output_type": "stream",
          "name": "stderr",
          "text": [
            "\r3447it [00:20, 171.41it/s]"
          ]
        },
        {
          "output_type": "stream",
          "name": "stdout",
          "text": [
            "Epoch 3 / 10, Step 3450 / 5086, Loss: 1.6372\n"
          ]
        },
        {
          "output_type": "stream",
          "name": "stderr",
          "text": [
            "3483it [00:21, 168.15it/s]"
          ]
        },
        {
          "output_type": "stream",
          "name": "stdout",
          "text": [
            "Epoch 3 / 10, Step 3460 / 5086, Loss: 2.2106\n",
            "Epoch 3 / 10, Step 3470 / 5086, Loss: 2.4638\n",
            "Epoch 3 / 10, Step 3480 / 5086, Loss: 2.7645\n",
            "Epoch 3 / 10, Step 3490 / 5086, Loss: 6.1750\n"
          ]
        },
        {
          "output_type": "stream",
          "name": "stderr",
          "text": [
            "3518it [00:21, 164.41it/s]"
          ]
        },
        {
          "output_type": "stream",
          "name": "stdout",
          "text": [
            "Epoch 3 / 10, Step 3500 / 5086, Loss: 2.3982\n",
            "Epoch 3 / 10, Step 3510 / 5086, Loss: 1.2987\n",
            "Epoch 3 / 10, Step 3520 / 5086, Loss: 0.5405\n",
            "Epoch 3 / 10, Step 3530 / 5086, Loss: 0.0006\n"
          ]
        },
        {
          "output_type": "stream",
          "name": "stderr",
          "text": [
            "3552it [00:21, 161.06it/s]"
          ]
        },
        {
          "output_type": "stream",
          "name": "stdout",
          "text": [
            "Epoch 3 / 10, Step 3540 / 5086, Loss: 0.3457\n",
            "Epoch 3 / 10, Step 3550 / 5086, Loss: 1.6406\n",
            "Epoch 3 / 10, Step 3560 / 5086, Loss: 2.0992\n"
          ]
        },
        {
          "output_type": "stream",
          "name": "stderr",
          "text": [
            "\r3569it [00:21, 159.62it/s]"
          ]
        },
        {
          "output_type": "stream",
          "name": "stdout",
          "text": [
            "Epoch 3 / 10, Step 3570 / 5086, Loss: 1.5680\n"
          ]
        },
        {
          "output_type": "stream",
          "name": "stderr",
          "text": [
            "3603it [00:21, 163.39it/s]"
          ]
        },
        {
          "output_type": "stream",
          "name": "stdout",
          "text": [
            "Epoch 3 / 10, Step 3580 / 5086, Loss: 1.6950\n",
            "Epoch 3 / 10, Step 3590 / 5086, Loss: 0.0117\n",
            "Epoch 3 / 10, Step 3600 / 5086, Loss: 0.5198\n",
            "Epoch 3 / 10, Step 3610 / 5086, Loss: 2.2860\n"
          ]
        },
        {
          "output_type": "stream",
          "name": "stderr",
          "text": [
            "3637it [00:21, 157.82it/s]"
          ]
        },
        {
          "output_type": "stream",
          "name": "stdout",
          "text": [
            "Epoch 3 / 10, Step 3620 / 5086, Loss: 0.4018\n",
            "Epoch 3 / 10, Step 3630 / 5086, Loss: 0.3239\n",
            "Epoch 3 / 10, Step 3640 / 5086, Loss: 1.7521\n",
            "Epoch 3 / 10, Step 3650 / 5086, Loss: 3.6624\n"
          ]
        },
        {
          "output_type": "stream",
          "name": "stderr",
          "text": [
            "3671it [00:22, 160.31it/s]"
          ]
        },
        {
          "output_type": "stream",
          "name": "stdout",
          "text": [
            "Epoch 3 / 10, Step 3660 / 5086, Loss: 1.0710\n",
            "Epoch 3 / 10, Step 3670 / 5086, Loss: 4.1690\n",
            "Epoch 3 / 10, Step 3680 / 5086, Loss: 0.1598\n"
          ]
        },
        {
          "output_type": "stream",
          "name": "stderr",
          "text": [
            "\r3688it [00:22, 158.52it/s]"
          ]
        },
        {
          "output_type": "stream",
          "name": "stdout",
          "text": [
            "Epoch 3 / 10, Step 3690 / 5086, Loss: 1.7675\n"
          ]
        },
        {
          "output_type": "stream",
          "name": "stderr",
          "text": [
            "3721it [00:22, 161.57it/s]"
          ]
        },
        {
          "output_type": "stream",
          "name": "stdout",
          "text": [
            "Epoch 3 / 10, Step 3700 / 5086, Loss: 1.9157\n",
            "Epoch 3 / 10, Step 3710 / 5086, Loss: 3.3977\n",
            "Epoch 3 / 10, Step 3720 / 5086, Loss: 3.2215\n",
            "Epoch 3 / 10, Step 3730 / 5086, Loss: 2.0672\n"
          ]
        },
        {
          "output_type": "stream",
          "name": "stderr",
          "text": [
            "3756it [00:22, 164.91it/s]"
          ]
        },
        {
          "output_type": "stream",
          "name": "stdout",
          "text": [
            "Epoch 3 / 10, Step 3740 / 5086, Loss: 0.9294\n",
            "Epoch 3 / 10, Step 3750 / 5086, Loss: 0.8405\n",
            "Epoch 3 / 10, Step 3760 / 5086, Loss: 0.4578\n"
          ]
        },
        {
          "output_type": "stream",
          "name": "stderr",
          "text": [
            "\r3773it [00:22, 165.85it/s]"
          ]
        },
        {
          "output_type": "stream",
          "name": "stdout",
          "text": [
            "Epoch 3 / 10, Step 3770 / 5086, Loss: 0.0103\n"
          ]
        },
        {
          "output_type": "stream",
          "name": "stderr",
          "text": [
            "\r3790it [00:22, 161.86it/s]"
          ]
        },
        {
          "output_type": "stream",
          "name": "stdout",
          "text": [
            "Epoch 3 / 10, Step 3780 / 5086, Loss: 0.3611\n",
            "Epoch 3 / 10, Step 3790 / 5086, Loss: 0.4239\n",
            "Epoch 3 / 10, Step 3800 / 5086, Loss: 1.9837\n"
          ]
        },
        {
          "output_type": "stream",
          "name": "stderr",
          "text": [
            "\r3807it [00:23, 161.67it/s]"
          ]
        },
        {
          "output_type": "stream",
          "name": "stdout",
          "text": [
            "Epoch 3 / 10, Step 3810 / 5086, Loss: 1.2543\n"
          ]
        },
        {
          "output_type": "stream",
          "name": "stderr",
          "text": [
            "3841it [00:23, 160.18it/s]"
          ]
        },
        {
          "output_type": "stream",
          "name": "stdout",
          "text": [
            "Epoch 3 / 10, Step 3820 / 5086, Loss: 5.3948\n",
            "Epoch 3 / 10, Step 3830 / 5086, Loss: 0.9076\n",
            "Epoch 3 / 10, Step 3840 / 5086, Loss: 0.0088\n",
            "Epoch 3 / 10, Step 3850 / 5086, Loss: 0.0803\n"
          ]
        },
        {
          "output_type": "stream",
          "name": "stderr",
          "text": [
            "3875it [00:23, 158.80it/s]"
          ]
        },
        {
          "output_type": "stream",
          "name": "stdout",
          "text": [
            "Epoch 3 / 10, Step 3860 / 5086, Loss: 0.6056\n",
            "Epoch 3 / 10, Step 3870 / 5086, Loss: 0.0190\n",
            "Epoch 3 / 10, Step 3880 / 5086, Loss: 1.2751\n",
            "Epoch 3 / 10, Step 3890 / 5086, Loss: 1.3330\n"
          ]
        },
        {
          "output_type": "stream",
          "name": "stderr",
          "text": [
            "3907it [00:23, 149.44it/s]"
          ]
        },
        {
          "output_type": "stream",
          "name": "stdout",
          "text": [
            "Epoch 3 / 10, Step 3900 / 5086, Loss: 0.0006\n",
            "Epoch 3 / 10, Step 3910 / 5086, Loss: 0.0710\n",
            "Epoch 3 / 10, Step 3920 / 5086, Loss: 0.1340\n"
          ]
        },
        {
          "output_type": "stream",
          "name": "stderr",
          "text": [
            "\r3923it [00:23, 151.40it/s]"
          ]
        },
        {
          "output_type": "stream",
          "name": "stdout",
          "text": [
            "Epoch 3 / 10, Step 3930 / 5086, Loss: 3.4421\n"
          ]
        },
        {
          "output_type": "stream",
          "name": "stderr",
          "text": [
            "3955it [00:23, 154.93it/s]"
          ]
        },
        {
          "output_type": "stream",
          "name": "stdout",
          "text": [
            "Epoch 3 / 10, Step 3940 / 5086, Loss: 8.0921\n",
            "Epoch 3 / 10, Step 3950 / 5086, Loss: 0.0607\n",
            "Epoch 3 / 10, Step 3960 / 5086, Loss: 2.8709\n"
          ]
        },
        {
          "output_type": "stream",
          "name": "stderr",
          "text": [
            "\r3971it [00:24, 152.31it/s]"
          ]
        },
        {
          "output_type": "stream",
          "name": "stdout",
          "text": [
            "Epoch 3 / 10, Step 3970 / 5086, Loss: 1.4278\n"
          ]
        },
        {
          "output_type": "stream",
          "name": "stderr",
          "text": [
            "\r3988it [00:24, 156.25it/s]"
          ]
        },
        {
          "output_type": "stream",
          "name": "stdout",
          "text": [
            "Epoch 3 / 10, Step 3980 / 5086, Loss: 0.0224\n",
            "Epoch 3 / 10, Step 3990 / 5086, Loss: 3.2036\n",
            "Epoch 3 / 10, Step 4000 / 5086, Loss: 2.6900\n"
          ]
        },
        {
          "output_type": "stream",
          "name": "stderr",
          "text": [
            "\r4005it [00:24, 157.69it/s]"
          ]
        },
        {
          "output_type": "stream",
          "name": "stdout",
          "text": [
            "Epoch 3 / 10, Step 4010 / 5086, Loss: 1.8970\n"
          ]
        },
        {
          "output_type": "stream",
          "name": "stderr",
          "text": [
            "4039it [00:24, 159.30it/s]"
          ]
        },
        {
          "output_type": "stream",
          "name": "stdout",
          "text": [
            "Epoch 3 / 10, Step 4020 / 5086, Loss: 4.0987\n",
            "Epoch 3 / 10, Step 4030 / 5086, Loss: 8.8047\n",
            "Epoch 3 / 10, Step 4040 / 5086, Loss: 2.9503\n",
            "Epoch 3 / 10, Step 4050 / 5086, Loss: 2.3478\n"
          ]
        },
        {
          "output_type": "stream",
          "name": "stderr",
          "text": [
            "4073it [00:24, 160.31it/s]"
          ]
        },
        {
          "output_type": "stream",
          "name": "stdout",
          "text": [
            "Epoch 3 / 10, Step 4060 / 5086, Loss: 1.2051\n",
            "Epoch 3 / 10, Step 4070 / 5086, Loss: 3.6817\n",
            "Epoch 3 / 10, Step 4080 / 5086, Loss: 1.7059\n"
          ]
        },
        {
          "output_type": "stream",
          "name": "stderr",
          "text": [
            "\r4090it [00:24, 156.61it/s]"
          ]
        },
        {
          "output_type": "stream",
          "name": "stdout",
          "text": [
            "Epoch 3 / 10, Step 4090 / 5086, Loss: 0.0500\n"
          ]
        },
        {
          "output_type": "stream",
          "name": "stderr",
          "text": [
            "\r4106it [00:24, 156.40it/s]"
          ]
        },
        {
          "output_type": "stream",
          "name": "stdout",
          "text": [
            "Epoch 3 / 10, Step 4100 / 5086, Loss: 0.1956\n",
            "Epoch 3 / 10, Step 4110 / 5086, Loss: 0.8692\n",
            "Epoch 3 / 10, Step 4120 / 5086, Loss: 0.9182\n"
          ]
        },
        {
          "output_type": "stream",
          "name": "stderr",
          "text": [
            "\r4122it [00:25, 154.07it/s]"
          ]
        },
        {
          "output_type": "stream",
          "name": "stdout",
          "text": [
            "Epoch 3 / 10, Step 4130 / 5086, Loss: 2.2553\n"
          ]
        },
        {
          "output_type": "stream",
          "name": "stderr",
          "text": [
            "4159it [00:25, 169.10it/s]"
          ]
        },
        {
          "output_type": "stream",
          "name": "stdout",
          "text": [
            "Epoch 3 / 10, Step 4140 / 5086, Loss: 0.8724\n",
            "Epoch 3 / 10, Step 4150 / 5086, Loss: 0.2264\n",
            "Epoch 3 / 10, Step 4160 / 5086, Loss: 0.0015\n"
          ]
        },
        {
          "output_type": "stream",
          "name": "stderr",
          "text": [
            "\r4177it [00:25, 171.16it/s]"
          ]
        },
        {
          "output_type": "stream",
          "name": "stdout",
          "text": [
            "Epoch 3 / 10, Step 4170 / 5086, Loss: 1.8271\n"
          ]
        },
        {
          "output_type": "stream",
          "name": "stderr",
          "text": [
            "\r4195it [00:25, 170.19it/s]"
          ]
        },
        {
          "output_type": "stream",
          "name": "stdout",
          "text": [
            "Epoch 3 / 10, Step 4180 / 5086, Loss: 5.8803\n",
            "Epoch 3 / 10, Step 4190 / 5086, Loss: 2.6242\n",
            "Epoch 3 / 10, Step 4200 / 5086, Loss: 0.5178\n"
          ]
        },
        {
          "output_type": "stream",
          "name": "stderr",
          "text": [
            "\r4213it [00:25, 171.55it/s]"
          ]
        },
        {
          "output_type": "stream",
          "name": "stdout",
          "text": [
            "Epoch 3 / 10, Step 4210 / 5086, Loss: 0.0000\n"
          ]
        },
        {
          "output_type": "stream",
          "name": "stderr",
          "text": [
            "\r4231it [00:25, 170.01it/s]"
          ]
        },
        {
          "output_type": "stream",
          "name": "stdout",
          "text": [
            "Epoch 3 / 10, Step 4220 / 5086, Loss: 0.0958\n",
            "Epoch 3 / 10, Step 4230 / 5086, Loss: 0.0032\n",
            "Epoch 3 / 10, Step 4240 / 5086, Loss: 5.9363\n"
          ]
        },
        {
          "output_type": "stream",
          "name": "stderr",
          "text": [
            "\r4249it [00:25, 172.32it/s]"
          ]
        },
        {
          "output_type": "stream",
          "name": "stdout",
          "text": [
            "Epoch 3 / 10, Step 4250 / 5086, Loss: 3.9699\n"
          ]
        },
        {
          "output_type": "stream",
          "name": "stderr",
          "text": [
            "\r4267it [00:25, 172.34it/s]"
          ]
        },
        {
          "output_type": "stream",
          "name": "stdout",
          "text": [
            "Epoch 3 / 10, Step 4260 / 5086, Loss: 3.3029\n",
            "Epoch 3 / 10, Step 4270 / 5086, Loss: 7.4070\n",
            "Epoch 3 / 10, Step 4280 / 5086, Loss: 0.0027\n"
          ]
        },
        {
          "output_type": "stream",
          "name": "stderr",
          "text": [
            "\r4285it [00:25, 170.26it/s]"
          ]
        },
        {
          "output_type": "stream",
          "name": "stdout",
          "text": [
            "Epoch 3 / 10, Step 4290 / 5086, Loss: 1.0976\n"
          ]
        },
        {
          "output_type": "stream",
          "name": "stderr",
          "text": [
            "4321it [00:26, 166.33it/s]"
          ]
        },
        {
          "output_type": "stream",
          "name": "stdout",
          "text": [
            "Epoch 3 / 10, Step 4300 / 5086, Loss: 1.9182\n",
            "Epoch 3 / 10, Step 4310 / 5086, Loss: 0.7941\n",
            "Epoch 3 / 10, Step 4320 / 5086, Loss: 0.1163\n",
            "Epoch 3 / 10, Step 4330 / 5086, Loss: 0.9047\n"
          ]
        },
        {
          "output_type": "stream",
          "name": "stderr",
          "text": [
            "4356it [00:26, 165.00it/s]"
          ]
        },
        {
          "output_type": "stream",
          "name": "stdout",
          "text": [
            "Epoch 3 / 10, Step 4340 / 5086, Loss: 6.5473\n",
            "Epoch 3 / 10, Step 4350 / 5086, Loss: 8.3810\n",
            "Epoch 3 / 10, Step 4360 / 5086, Loss: 0.0080\n"
          ]
        },
        {
          "output_type": "stream",
          "name": "stderr",
          "text": [
            "\r4373it [00:26, 163.11it/s]"
          ]
        },
        {
          "output_type": "stream",
          "name": "stdout",
          "text": [
            "Epoch 3 / 10, Step 4370 / 5086, Loss: 2.9941\n"
          ]
        },
        {
          "output_type": "stream",
          "name": "stderr",
          "text": [
            "\r4390it [00:26, 162.52it/s]"
          ]
        },
        {
          "output_type": "stream",
          "name": "stdout",
          "text": [
            "Epoch 3 / 10, Step 4380 / 5086, Loss: 1.7443\n",
            "Epoch 3 / 10, Step 4390 / 5086, Loss: 2.9119\n",
            "Epoch 3 / 10, Step 4400 / 5086, Loss: 9.2163\n"
          ]
        },
        {
          "output_type": "stream",
          "name": "stderr",
          "text": [
            "\r4407it [00:26, 162.18it/s]"
          ]
        },
        {
          "output_type": "stream",
          "name": "stdout",
          "text": [
            "Epoch 3 / 10, Step 4410 / 5086, Loss: 3.1992\n"
          ]
        },
        {
          "output_type": "stream",
          "name": "stderr",
          "text": [
            "4443it [00:26, 168.45it/s]"
          ]
        },
        {
          "output_type": "stream",
          "name": "stdout",
          "text": [
            "Epoch 3 / 10, Step 4420 / 5086, Loss: 1.4658\n",
            "Epoch 3 / 10, Step 4430 / 5086, Loss: 0.0498\n",
            "Epoch 3 / 10, Step 4440 / 5086, Loss: 0.0000\n",
            "Epoch 3 / 10, Step 4450 / 5086, Loss: 1.9356\n"
          ]
        },
        {
          "output_type": "stream",
          "name": "stderr",
          "text": [
            "4479it [00:27, 164.92it/s]"
          ]
        },
        {
          "output_type": "stream",
          "name": "stdout",
          "text": [
            "Epoch 3 / 10, Step 4460 / 5086, Loss: 2.4843\n",
            "Epoch 3 / 10, Step 4470 / 5086, Loss: 2.1706\n",
            "Epoch 3 / 10, Step 4480 / 5086, Loss: 5.6621\n",
            "Epoch 3 / 10, Step 4490 / 5086, Loss: 4.7010\n"
          ]
        },
        {
          "output_type": "stream",
          "name": "stderr",
          "text": [
            "4513it [00:27, 161.88it/s]"
          ]
        },
        {
          "output_type": "stream",
          "name": "stdout",
          "text": [
            "Epoch 3 / 10, Step 4500 / 5086, Loss: 0.0002\n",
            "Epoch 3 / 10, Step 4510 / 5086, Loss: 0.3359\n",
            "Epoch 3 / 10, Step 4520 / 5086, Loss: 0.7247\n"
          ]
        },
        {
          "output_type": "stream",
          "name": "stderr",
          "text": [
            "\r4530it [00:27, 161.14it/s]"
          ]
        },
        {
          "output_type": "stream",
          "name": "stdout",
          "text": [
            "Epoch 3 / 10, Step 4530 / 5086, Loss: 1.0795\n"
          ]
        },
        {
          "output_type": "stream",
          "name": "stderr",
          "text": [
            "\r4547it [00:27, 159.63it/s]"
          ]
        },
        {
          "output_type": "stream",
          "name": "stdout",
          "text": [
            "Epoch 3 / 10, Step 4540 / 5086, Loss: 0.0491\n",
            "Epoch 3 / 10, Step 4550 / 5086, Loss: 1.6444\n",
            "Epoch 3 / 10, Step 4560 / 5086, Loss: 0.7122\n"
          ]
        },
        {
          "output_type": "stream",
          "name": "stderr",
          "text": [
            "\r4565it [00:27, 162.37it/s]"
          ]
        },
        {
          "output_type": "stream",
          "name": "stdout",
          "text": [
            "Epoch 3 / 10, Step 4570 / 5086, Loss: 0.0006\n"
          ]
        },
        {
          "output_type": "stream",
          "name": "stderr",
          "text": [
            "4601it [00:27, 167.85it/s]"
          ]
        },
        {
          "output_type": "stream",
          "name": "stdout",
          "text": [
            "Epoch 3 / 10, Step 4580 / 5086, Loss: 0.0031\n",
            "Epoch 3 / 10, Step 4590 / 5086, Loss: 0.3547\n",
            "Epoch 3 / 10, Step 4600 / 5086, Loss: 3.9801\n",
            "Epoch 3 / 10, Step 4610 / 5086, Loss: 0.4293\n"
          ]
        },
        {
          "output_type": "stream",
          "name": "stderr",
          "text": [
            "4635it [00:28, 163.76it/s]"
          ]
        },
        {
          "output_type": "stream",
          "name": "stdout",
          "text": [
            "Epoch 3 / 10, Step 4620 / 5086, Loss: 0.0575\n",
            "Epoch 3 / 10, Step 4630 / 5086, Loss: 0.5325\n",
            "Epoch 3 / 10, Step 4640 / 5086, Loss: 0.0065\n"
          ]
        },
        {
          "output_type": "stream",
          "name": "stderr",
          "text": [
            "\r4652it [00:28, 162.66it/s]"
          ]
        },
        {
          "output_type": "stream",
          "name": "stdout",
          "text": [
            "Epoch 3 / 10, Step 4650 / 5086, Loss: 0.0664\n"
          ]
        },
        {
          "output_type": "stream",
          "name": "stderr",
          "text": [
            "\r4669it [00:28, 162.86it/s]"
          ]
        },
        {
          "output_type": "stream",
          "name": "stdout",
          "text": [
            "Epoch 3 / 10, Step 4660 / 5086, Loss: 1.8159\n",
            "Epoch 3 / 10, Step 4670 / 5086, Loss: 4.6394\n",
            "Epoch 3 / 10, Step 4680 / 5086, Loss: 0.1675\n"
          ]
        },
        {
          "output_type": "stream",
          "name": "stderr",
          "text": [
            "\r4686it [00:28, 159.00it/s]"
          ]
        },
        {
          "output_type": "stream",
          "name": "stdout",
          "text": [
            "Epoch 3 / 10, Step 4690 / 5086, Loss: 0.0133\n"
          ]
        },
        {
          "output_type": "stream",
          "name": "stderr",
          "text": [
            "4718it [00:28, 158.12it/s]"
          ]
        },
        {
          "output_type": "stream",
          "name": "stdout",
          "text": [
            "Epoch 3 / 10, Step 4700 / 5086, Loss: 5.1310\n",
            "Epoch 3 / 10, Step 4710 / 5086, Loss: 1.8292\n",
            "Epoch 3 / 10, Step 4720 / 5086, Loss: 0.0189\n",
            "Epoch 3 / 10, Step 4730 / 5086, Loss: 0.7832\n"
          ]
        },
        {
          "output_type": "stream",
          "name": "stderr",
          "text": [
            "4753it [00:28, 164.34it/s]"
          ]
        },
        {
          "output_type": "stream",
          "name": "stdout",
          "text": [
            "Epoch 3 / 10, Step 4740 / 5086, Loss: 0.0000\n",
            "Epoch 3 / 10, Step 4750 / 5086, Loss: 7.0388\n",
            "Epoch 3 / 10, Step 4760 / 5086, Loss: 0.0014\n"
          ]
        },
        {
          "output_type": "stream",
          "name": "stderr",
          "text": [
            "\r4770it [00:28, 165.12it/s]"
          ]
        },
        {
          "output_type": "stream",
          "name": "stdout",
          "text": [
            "Epoch 3 / 10, Step 4770 / 5086, Loss: 0.2166\n"
          ]
        },
        {
          "output_type": "stream",
          "name": "stderr",
          "text": [
            "\r4787it [00:29, 164.71it/s]"
          ]
        },
        {
          "output_type": "stream",
          "name": "stdout",
          "text": [
            "Epoch 3 / 10, Step 4780 / 5086, Loss: 1.4866\n",
            "Epoch 3 / 10, Step 4790 / 5086, Loss: 2.4524\n",
            "Epoch 3 / 10, Step 4800 / 5086, Loss: 1.5786\n"
          ]
        },
        {
          "output_type": "stream",
          "name": "stderr",
          "text": [
            "\r4804it [00:29, 163.29it/s]"
          ]
        },
        {
          "output_type": "stream",
          "name": "stdout",
          "text": [
            "Epoch 3 / 10, Step 4810 / 5086, Loss: 0.0107\n"
          ]
        },
        {
          "output_type": "stream",
          "name": "stderr",
          "text": [
            "4838it [00:29, 159.45it/s]"
          ]
        },
        {
          "output_type": "stream",
          "name": "stdout",
          "text": [
            "Epoch 3 / 10, Step 4820 / 5086, Loss: 0.4686\n",
            "Epoch 3 / 10, Step 4830 / 5086, Loss: 0.1281\n",
            "Epoch 3 / 10, Step 4840 / 5086, Loss: 3.8387\n",
            "Epoch 3 / 10, Step 4850 / 5086, Loss: 4.0216\n"
          ]
        },
        {
          "output_type": "stream",
          "name": "stderr",
          "text": [
            "4871it [00:29, 160.85it/s]"
          ]
        },
        {
          "output_type": "stream",
          "name": "stdout",
          "text": [
            "Epoch 3 / 10, Step 4860 / 5086, Loss: 0.7093\n",
            "Epoch 3 / 10, Step 4870 / 5086, Loss: 0.6167\n",
            "Epoch 3 / 10, Step 4880 / 5086, Loss: 2.1372\n"
          ]
        },
        {
          "output_type": "stream",
          "name": "stderr",
          "text": [
            "\r4888it [00:29, 161.92it/s]"
          ]
        },
        {
          "output_type": "stream",
          "name": "stdout",
          "text": [
            "Epoch 3 / 10, Step 4890 / 5086, Loss: 0.0356\n"
          ]
        },
        {
          "output_type": "stream",
          "name": "stderr",
          "text": [
            "4922it [00:29, 162.50it/s]"
          ]
        },
        {
          "output_type": "stream",
          "name": "stdout",
          "text": [
            "Epoch 3 / 10, Step 4900 / 5086, Loss: 0.0152\n",
            "Epoch 3 / 10, Step 4910 / 5086, Loss: 3.3758\n",
            "Epoch 3 / 10, Step 4920 / 5086, Loss: 4.3704\n",
            "Epoch 3 / 10, Step 4930 / 5086, Loss: 1.8572\n"
          ]
        },
        {
          "output_type": "stream",
          "name": "stderr",
          "text": [
            "4955it [00:30, 159.25it/s]"
          ]
        },
        {
          "output_type": "stream",
          "name": "stdout",
          "text": [
            "Epoch 3 / 10, Step 4940 / 5086, Loss: 1.4670\n",
            "Epoch 3 / 10, Step 4950 / 5086, Loss: 0.2310\n",
            "Epoch 3 / 10, Step 4960 / 5086, Loss: 0.1124\n"
          ]
        },
        {
          "output_type": "stream",
          "name": "stderr",
          "text": [
            "\r4973it [00:30, 164.65it/s]"
          ]
        },
        {
          "output_type": "stream",
          "name": "stdout",
          "text": [
            "Epoch 3 / 10, Step 4970 / 5086, Loss: 0.4375\n"
          ]
        },
        {
          "output_type": "stream",
          "name": "stderr",
          "text": [
            "\r4992it [00:30, 169.92it/s]"
          ]
        },
        {
          "output_type": "stream",
          "name": "stdout",
          "text": [
            "Epoch 3 / 10, Step 4980 / 5086, Loss: 1.1201\n",
            "Epoch 3 / 10, Step 4990 / 5086, Loss: 4.6735\n",
            "Epoch 3 / 10, Step 5000 / 5086, Loss: 9.5017\n"
          ]
        },
        {
          "output_type": "stream",
          "name": "stderr",
          "text": [
            "\r5010it [00:30, 169.37it/s]"
          ]
        },
        {
          "output_type": "stream",
          "name": "stdout",
          "text": [
            "Epoch 3 / 10, Step 5010 / 5086, Loss: 0.0944\n"
          ]
        },
        {
          "output_type": "stream",
          "name": "stderr",
          "text": [
            "\r5028it [00:30, 172.15it/s]"
          ]
        },
        {
          "output_type": "stream",
          "name": "stdout",
          "text": [
            "Epoch 3 / 10, Step 5020 / 5086, Loss: 2.1625\n",
            "Epoch 3 / 10, Step 5030 / 5086, Loss: 0.9576\n",
            "Epoch 3 / 10, Step 5040 / 5086, Loss: 1.3192\n"
          ]
        },
        {
          "output_type": "stream",
          "name": "stderr",
          "text": [
            "\r5048it [00:30, 176.66it/s]"
          ]
        },
        {
          "output_type": "stream",
          "name": "stdout",
          "text": [
            "Epoch 3 / 10, Step 5050 / 5086, Loss: 0.9339\n"
          ]
        },
        {
          "output_type": "stream",
          "name": "stderr",
          "text": [
            "5085it [00:30, 175.95it/s]"
          ]
        },
        {
          "output_type": "stream",
          "name": "stdout",
          "text": [
            "Epoch 3 / 10, Step 5060 / 5086, Loss: 3.8369\n",
            "Epoch 3 / 10, Step 5070 / 5086, Loss: 1.4125\n",
            "Epoch 3 / 10, Step 5080 / 5086, Loss: 0.6069\n"
          ]
        },
        {
          "output_type": "stream",
          "name": "stderr",
          "text": [
            "5086it [00:30, 164.61it/s]\n",
            "35it [00:00, 170.29it/s]"
          ]
        },
        {
          "output_type": "stream",
          "name": "stdout",
          "text": [
            "Epoch 4 / 10, Step 10 / 5086, Loss: 0.7751\n",
            "Epoch 4 / 10, Step 20 / 5086, Loss: 0.0723\n",
            "Epoch 4 / 10, Step 30 / 5086, Loss: 5.0709\n",
            "Epoch 4 / 10, Step 40 / 5086, Loss: 0.7470\n"
          ]
        },
        {
          "output_type": "stream",
          "name": "stderr",
          "text": [
            "70it [00:00, 164.79it/s]"
          ]
        },
        {
          "output_type": "stream",
          "name": "stdout",
          "text": [
            "Epoch 4 / 10, Step 50 / 5086, Loss: 0.8366\n",
            "Epoch 4 / 10, Step 60 / 5086, Loss: 0.0116\n",
            "Epoch 4 / 10, Step 70 / 5086, Loss: 0.0883\n",
            "Epoch 4 / 10, Step 80 / 5086, Loss: 0.1906\n"
          ]
        },
        {
          "output_type": "stream",
          "name": "stderr",
          "text": [
            "122it [00:00, 164.31it/s]"
          ]
        },
        {
          "output_type": "stream",
          "name": "stdout",
          "text": [
            "Epoch 4 / 10, Step 90 / 5086, Loss: 0.1712\n",
            "Epoch 4 / 10, Step 100 / 5086, Loss: 0.0390\n",
            "Epoch 4 / 10, Step 110 / 5086, Loss: 5.1681\n",
            "Epoch 4 / 10, Step 120 / 5086, Loss: 5.3700\n"
          ]
        },
        {
          "output_type": "stream",
          "name": "stderr",
          "text": [
            "157it [00:00, 168.28it/s]"
          ]
        },
        {
          "output_type": "stream",
          "name": "stdout",
          "text": [
            "Epoch 4 / 10, Step 130 / 5086, Loss: 4.8857\n",
            "Epoch 4 / 10, Step 140 / 5086, Loss: 8.2464\n",
            "Epoch 4 / 10, Step 150 / 5086, Loss: 0.2576\n",
            "Epoch 4 / 10, Step 160 / 5086, Loss: 3.2387\n"
          ]
        },
        {
          "output_type": "stream",
          "name": "stderr",
          "text": [
            "191it [00:01, 166.17it/s]"
          ]
        },
        {
          "output_type": "stream",
          "name": "stdout",
          "text": [
            "Epoch 4 / 10, Step 170 / 5086, Loss: 1.5498\n",
            "Epoch 4 / 10, Step 180 / 5086, Loss: 5.1994\n",
            "Epoch 4 / 10, Step 190 / 5086, Loss: 0.5025\n",
            "Epoch 4 / 10, Step 200 / 5086, Loss: 1.6700\n"
          ]
        },
        {
          "output_type": "stream",
          "name": "stderr",
          "text": [
            "242it [00:01, 163.32it/s]"
          ]
        },
        {
          "output_type": "stream",
          "name": "stdout",
          "text": [
            "Epoch 4 / 10, Step 210 / 5086, Loss: 2.8029\n",
            "Epoch 4 / 10, Step 220 / 5086, Loss: 0.8751\n",
            "Epoch 4 / 10, Step 230 / 5086, Loss: 4.5876\n",
            "Epoch 4 / 10, Step 240 / 5086, Loss: 3.6570\n"
          ]
        },
        {
          "output_type": "stream",
          "name": "stderr",
          "text": [
            "277it [00:01, 165.01it/s]"
          ]
        },
        {
          "output_type": "stream",
          "name": "stdout",
          "text": [
            "Epoch 4 / 10, Step 250 / 5086, Loss: 1.6669\n",
            "Epoch 4 / 10, Step 260 / 5086, Loss: 3.2264\n",
            "Epoch 4 / 10, Step 270 / 5086, Loss: 3.4425\n",
            "Epoch 4 / 10, Step 280 / 5086, Loss: 14.8446\n"
          ]
        },
        {
          "output_type": "stream",
          "name": "stderr",
          "text": [
            "312it [00:01, 165.12it/s]"
          ]
        },
        {
          "output_type": "stream",
          "name": "stdout",
          "text": [
            "Epoch 4 / 10, Step 290 / 5086, Loss: 3.6293\n",
            "Epoch 4 / 10, Step 300 / 5086, Loss: 0.2551\n",
            "Epoch 4 / 10, Step 310 / 5086, Loss: 0.6907\n",
            "Epoch 4 / 10, Step 320 / 5086, Loss: 1.5552\n"
          ]
        },
        {
          "output_type": "stream",
          "name": "stderr",
          "text": [
            "364it [00:02, 166.37it/s]"
          ]
        },
        {
          "output_type": "stream",
          "name": "stdout",
          "text": [
            "Epoch 4 / 10, Step 330 / 5086, Loss: 2.9134\n",
            "Epoch 4 / 10, Step 340 / 5086, Loss: 1.2255\n",
            "Epoch 4 / 10, Step 350 / 5086, Loss: 0.1299\n",
            "Epoch 4 / 10, Step 360 / 5086, Loss: 1.8952\n"
          ]
        },
        {
          "output_type": "stream",
          "name": "stderr",
          "text": [
            "399it [00:02, 165.50it/s]"
          ]
        },
        {
          "output_type": "stream",
          "name": "stdout",
          "text": [
            "Epoch 4 / 10, Step 370 / 5086, Loss: 0.8326\n",
            "Epoch 4 / 10, Step 380 / 5086, Loss: 0.0167\n",
            "Epoch 4 / 10, Step 390 / 5086, Loss: 3.8950\n",
            "Epoch 4 / 10, Step 400 / 5086, Loss: 0.8788\n"
          ]
        },
        {
          "output_type": "stream",
          "name": "stderr",
          "text": [
            "433it [00:02, 160.72it/s]"
          ]
        },
        {
          "output_type": "stream",
          "name": "stdout",
          "text": [
            "Epoch 4 / 10, Step 410 / 5086, Loss: 0.0572\n",
            "Epoch 4 / 10, Step 420 / 5086, Loss: 10.0986\n",
            "Epoch 4 / 10, Step 430 / 5086, Loss: 0.1869\n",
            "Epoch 4 / 10, Step 440 / 5086, Loss: 1.5787\n"
          ]
        },
        {
          "output_type": "stream",
          "name": "stderr",
          "text": [
            "466it [00:02, 154.77it/s]"
          ]
        },
        {
          "output_type": "stream",
          "name": "stdout",
          "text": [
            "Epoch 4 / 10, Step 450 / 5086, Loss: 3.7430\n",
            "Epoch 4 / 10, Step 460 / 5086, Loss: 1.3023\n",
            "Epoch 4 / 10, Step 470 / 5086, Loss: 1.0764\n",
            "Epoch 4 / 10, Step 480 / 5086, Loss: 2.7572\n"
          ]
        },
        {
          "output_type": "stream",
          "name": "stderr",
          "text": [
            "517it [00:03, 161.64it/s]"
          ]
        },
        {
          "output_type": "stream",
          "name": "stdout",
          "text": [
            "Epoch 4 / 10, Step 490 / 5086, Loss: 0.9939\n",
            "Epoch 4 / 10, Step 500 / 5086, Loss: 1.8526\n",
            "Epoch 4 / 10, Step 510 / 5086, Loss: 0.2117\n",
            "Epoch 4 / 10, Step 520 / 5086, Loss: 0.0808\n"
          ]
        },
        {
          "output_type": "stream",
          "name": "stderr",
          "text": [
            "551it [00:03, 159.11it/s]"
          ]
        },
        {
          "output_type": "stream",
          "name": "stdout",
          "text": [
            "Epoch 4 / 10, Step 530 / 5086, Loss: 0.0104\n",
            "Epoch 4 / 10, Step 540 / 5086, Loss: 0.6307\n",
            "Epoch 4 / 10, Step 550 / 5086, Loss: 1.1573\n",
            "Epoch 4 / 10, Step 560 / 5086, Loss: 1.6303\n"
          ]
        },
        {
          "output_type": "stream",
          "name": "stderr",
          "text": [
            "602it [00:03, 163.93it/s]"
          ]
        },
        {
          "output_type": "stream",
          "name": "stdout",
          "text": [
            "Epoch 4 / 10, Step 570 / 5086, Loss: 0.3241\n",
            "Epoch 4 / 10, Step 580 / 5086, Loss: 2.0560\n",
            "Epoch 4 / 10, Step 590 / 5086, Loss: 3.7601\n",
            "Epoch 4 / 10, Step 600 / 5086, Loss: 2.3127\n"
          ]
        },
        {
          "output_type": "stream",
          "name": "stderr",
          "text": [
            "636it [00:03, 164.40it/s]"
          ]
        },
        {
          "output_type": "stream",
          "name": "stdout",
          "text": [
            "Epoch 4 / 10, Step 610 / 5086, Loss: 0.2134\n",
            "Epoch 4 / 10, Step 620 / 5086, Loss: 1.9897\n",
            "Epoch 4 / 10, Step 630 / 5086, Loss: 1.7256\n",
            "Epoch 4 / 10, Step 640 / 5086, Loss: 6.8707\n"
          ]
        },
        {
          "output_type": "stream",
          "name": "stderr",
          "text": [
            "670it [00:04, 161.95it/s]"
          ]
        },
        {
          "output_type": "stream",
          "name": "stdout",
          "text": [
            "Epoch 4 / 10, Step 650 / 5086, Loss: 1.7730\n",
            "Epoch 4 / 10, Step 660 / 5086, Loss: 1.0233\n",
            "Epoch 4 / 10, Step 670 / 5086, Loss: 0.9731\n",
            "Epoch 4 / 10, Step 680 / 5086, Loss: 1.4844\n"
          ]
        },
        {
          "output_type": "stream",
          "name": "stderr",
          "text": [
            "722it [00:04, 162.70it/s]"
          ]
        },
        {
          "output_type": "stream",
          "name": "stdout",
          "text": [
            "Epoch 4 / 10, Step 690 / 5086, Loss: 2.8951\n",
            "Epoch 4 / 10, Step 700 / 5086, Loss: 4.7583\n",
            "Epoch 4 / 10, Step 710 / 5086, Loss: 0.3454\n",
            "Epoch 4 / 10, Step 720 / 5086, Loss: 0.8445\n"
          ]
        },
        {
          "output_type": "stream",
          "name": "stderr",
          "text": [
            "758it [00:04, 169.30it/s]"
          ]
        },
        {
          "output_type": "stream",
          "name": "stdout",
          "text": [
            "Epoch 4 / 10, Step 730 / 5086, Loss: 4.1231\n",
            "Epoch 4 / 10, Step 740 / 5086, Loss: 4.9751\n",
            "Epoch 4 / 10, Step 750 / 5086, Loss: 0.0600\n",
            "Epoch 4 / 10, Step 760 / 5086, Loss: 1.3995\n"
          ]
        },
        {
          "output_type": "stream",
          "name": "stderr",
          "text": [
            "793it [00:04, 170.36it/s]"
          ]
        },
        {
          "output_type": "stream",
          "name": "stdout",
          "text": [
            "Epoch 4 / 10, Step 770 / 5086, Loss: 11.0579\n",
            "Epoch 4 / 10, Step 780 / 5086, Loss: 1.8133\n",
            "Epoch 4 / 10, Step 790 / 5086, Loss: 0.1928\n",
            "Epoch 4 / 10, Step 800 / 5086, Loss: 16.3721\n"
          ]
        },
        {
          "output_type": "stream",
          "name": "stderr",
          "text": [
            "829it [00:05, 169.28it/s]"
          ]
        },
        {
          "output_type": "stream",
          "name": "stdout",
          "text": [
            "Epoch 4 / 10, Step 810 / 5086, Loss: 1.5245\n",
            "Epoch 4 / 10, Step 820 / 5086, Loss: 15.0263\n",
            "Epoch 4 / 10, Step 830 / 5086, Loss: 19.5416\n",
            "Epoch 4 / 10, Step 840 / 5086, Loss: 8.2429\n"
          ]
        },
        {
          "output_type": "stream",
          "name": "stderr",
          "text": [
            "880it [00:05, 166.71it/s]"
          ]
        },
        {
          "output_type": "stream",
          "name": "stdout",
          "text": [
            "Epoch 4 / 10, Step 850 / 5086, Loss: 2.9754\n",
            "Epoch 4 / 10, Step 860 / 5086, Loss: 5.0668\n",
            "Epoch 4 / 10, Step 870 / 5086, Loss: 0.1054\n",
            "Epoch 4 / 10, Step 880 / 5086, Loss: 1.9417\n"
          ]
        },
        {
          "output_type": "stream",
          "name": "stderr",
          "text": [
            "914it [00:05, 160.77it/s]"
          ]
        },
        {
          "output_type": "stream",
          "name": "stdout",
          "text": [
            "Epoch 4 / 10, Step 890 / 5086, Loss: 3.2682\n",
            "Epoch 4 / 10, Step 900 / 5086, Loss: 2.9265\n",
            "Epoch 4 / 10, Step 910 / 5086, Loss: 0.0561\n",
            "Epoch 4 / 10, Step 920 / 5086, Loss: 0.7444\n"
          ]
        },
        {
          "output_type": "stream",
          "name": "stderr",
          "text": [
            "947it [00:05, 158.39it/s]"
          ]
        },
        {
          "output_type": "stream",
          "name": "stdout",
          "text": [
            "Epoch 4 / 10, Step 930 / 5086, Loss: 0.8988\n",
            "Epoch 4 / 10, Step 940 / 5086, Loss: 0.0057\n",
            "Epoch 4 / 10, Step 950 / 5086, Loss: 0.8041\n",
            "Epoch 4 / 10, Step 960 / 5086, Loss: 11.8790\n"
          ]
        },
        {
          "output_type": "stream",
          "name": "stderr",
          "text": [
            "996it [00:06, 157.63it/s]"
          ]
        },
        {
          "output_type": "stream",
          "name": "stdout",
          "text": [
            "Epoch 4 / 10, Step 970 / 5086, Loss: 0.5977\n",
            "Epoch 4 / 10, Step 980 / 5086, Loss: 3.2375\n",
            "Epoch 4 / 10, Step 990 / 5086, Loss: 2.3612\n",
            "Epoch 4 / 10, Step 1000 / 5086, Loss: 2.5896\n"
          ]
        },
        {
          "output_type": "stream",
          "name": "stderr",
          "text": [
            "1029it [00:06, 157.09it/s]"
          ]
        },
        {
          "output_type": "stream",
          "name": "stdout",
          "text": [
            "Epoch 4 / 10, Step 1010 / 5086, Loss: 0.0296\n",
            "Epoch 4 / 10, Step 1020 / 5086, Loss: 0.0335\n",
            "Epoch 4 / 10, Step 1030 / 5086, Loss: 1.0115\n",
            "Epoch 4 / 10, Step 1040 / 5086, Loss: 2.4928\n"
          ]
        },
        {
          "output_type": "stream",
          "name": "stderr",
          "text": [
            "1078it [00:06, 157.39it/s]"
          ]
        },
        {
          "output_type": "stream",
          "name": "stdout",
          "text": [
            "Epoch 4 / 10, Step 1050 / 5086, Loss: 3.6249\n",
            "Epoch 4 / 10, Step 1060 / 5086, Loss: 6.8825\n",
            "Epoch 4 / 10, Step 1070 / 5086, Loss: 6.3406\n",
            "Epoch 4 / 10, Step 1080 / 5086, Loss: 3.8580\n"
          ]
        },
        {
          "output_type": "stream",
          "name": "stderr",
          "text": [
            "1111it [00:06, 158.69it/s]"
          ]
        },
        {
          "output_type": "stream",
          "name": "stdout",
          "text": [
            "Epoch 4 / 10, Step 1090 / 5086, Loss: 0.1309\n",
            "Epoch 4 / 10, Step 1100 / 5086, Loss: 0.8960\n",
            "Epoch 4 / 10, Step 1110 / 5086, Loss: 0.5692\n",
            "Epoch 4 / 10, Step 1120 / 5086, Loss: 0.3738\n"
          ]
        },
        {
          "output_type": "stream",
          "name": "stderr",
          "text": [
            "1162it [00:07, 162.50it/s]"
          ]
        },
        {
          "output_type": "stream",
          "name": "stdout",
          "text": [
            "Epoch 4 / 10, Step 1130 / 5086, Loss: 3.3573\n",
            "Epoch 4 / 10, Step 1140 / 5086, Loss: 0.3361\n",
            "Epoch 4 / 10, Step 1150 / 5086, Loss: 1.8735\n",
            "Epoch 4 / 10, Step 1160 / 5086, Loss: 5.3574\n"
          ]
        },
        {
          "output_type": "stream",
          "name": "stderr",
          "text": [
            "1196it [00:07, 162.71it/s]"
          ]
        },
        {
          "output_type": "stream",
          "name": "stdout",
          "text": [
            "Epoch 4 / 10, Step 1170 / 5086, Loss: 2.2233\n",
            "Epoch 4 / 10, Step 1180 / 5086, Loss: 0.0014\n",
            "Epoch 4 / 10, Step 1190 / 5086, Loss: 2.3660\n",
            "Epoch 4 / 10, Step 1200 / 5086, Loss: 0.1457\n"
          ]
        },
        {
          "output_type": "stream",
          "name": "stderr",
          "text": [
            "1231it [00:07, 161.76it/s]"
          ]
        },
        {
          "output_type": "stream",
          "name": "stdout",
          "text": [
            "Epoch 4 / 10, Step 1210 / 5086, Loss: 2.3055\n",
            "Epoch 4 / 10, Step 1220 / 5086, Loss: 2.6519\n",
            "Epoch 4 / 10, Step 1230 / 5086, Loss: 17.1001\n",
            "Epoch 4 / 10, Step 1240 / 5086, Loss: 0.5707\n"
          ]
        },
        {
          "output_type": "stream",
          "name": "stderr",
          "text": [
            "1282it [00:07, 159.02it/s]"
          ]
        },
        {
          "output_type": "stream",
          "name": "stdout",
          "text": [
            "Epoch 4 / 10, Step 1250 / 5086, Loss: 6.7049\n",
            "Epoch 4 / 10, Step 1260 / 5086, Loss: 3.2238\n",
            "Epoch 4 / 10, Step 1270 / 5086, Loss: 1.6920\n",
            "Epoch 4 / 10, Step 1280 / 5086, Loss: 0.0045\n"
          ]
        },
        {
          "output_type": "stream",
          "name": "stderr",
          "text": [
            "1316it [00:08, 162.79it/s]"
          ]
        },
        {
          "output_type": "stream",
          "name": "stdout",
          "text": [
            "Epoch 4 / 10, Step 1290 / 5086, Loss: 0.5230\n",
            "Epoch 4 / 10, Step 1300 / 5086, Loss: 0.7628\n",
            "Epoch 4 / 10, Step 1310 / 5086, Loss: 0.2019\n",
            "Epoch 4 / 10, Step 1320 / 5086, Loss: 0.0268\n"
          ]
        },
        {
          "output_type": "stream",
          "name": "stderr",
          "text": [
            "1350it [00:08, 162.35it/s]"
          ]
        },
        {
          "output_type": "stream",
          "name": "stdout",
          "text": [
            "Epoch 4 / 10, Step 1330 / 5086, Loss: 0.0173\n",
            "Epoch 4 / 10, Step 1340 / 5086, Loss: 5.1212\n",
            "Epoch 4 / 10, Step 1350 / 5086, Loss: 2.1280\n",
            "Epoch 4 / 10, Step 1360 / 5086, Loss: 1.5147\n"
          ]
        },
        {
          "output_type": "stream",
          "name": "stderr",
          "text": [
            "1399it [00:08, 154.18it/s]"
          ]
        },
        {
          "output_type": "stream",
          "name": "stdout",
          "text": [
            "Epoch 4 / 10, Step 1370 / 5086, Loss: 2.5024\n",
            "Epoch 4 / 10, Step 1380 / 5086, Loss: 11.2181\n",
            "Epoch 4 / 10, Step 1390 / 5086, Loss: 0.6748\n"
          ]
        },
        {
          "output_type": "stream",
          "name": "stderr",
          "text": [
            "1432it [00:08, 157.49it/s]"
          ]
        },
        {
          "output_type": "stream",
          "name": "stdout",
          "text": [
            "Epoch 4 / 10, Step 1400 / 5086, Loss: 1.3563\n",
            "Epoch 4 / 10, Step 1410 / 5086, Loss: 21.8444\n",
            "Epoch 4 / 10, Step 1420 / 5086, Loss: 1.7845\n",
            "Epoch 4 / 10, Step 1430 / 5086, Loss: 0.9725\n"
          ]
        },
        {
          "output_type": "stream",
          "name": "stderr",
          "text": [
            "1465it [00:09, 159.63it/s]"
          ]
        },
        {
          "output_type": "stream",
          "name": "stdout",
          "text": [
            "Epoch 4 / 10, Step 1440 / 5086, Loss: 0.1584\n",
            "Epoch 4 / 10, Step 1450 / 5086, Loss: 10.4071\n",
            "Epoch 4 / 10, Step 1460 / 5086, Loss: 2.9054\n",
            "Epoch 4 / 10, Step 1470 / 5086, Loss: 0.8447\n"
          ]
        },
        {
          "output_type": "stream",
          "name": "stderr",
          "text": [
            "1499it [00:09, 162.51it/s]"
          ]
        },
        {
          "output_type": "stream",
          "name": "stdout",
          "text": [
            "Epoch 4 / 10, Step 1480 / 5086, Loss: 0.0000\n",
            "Epoch 4 / 10, Step 1490 / 5086, Loss: 1.0302\n",
            "Epoch 4 / 10, Step 1500 / 5086, Loss: 7.1650\n",
            "Epoch 4 / 10, Step 1510 / 5086, Loss: 0.0476\n"
          ]
        },
        {
          "output_type": "stream",
          "name": "stderr",
          "text": [
            "1551it [00:09, 163.03it/s]"
          ]
        },
        {
          "output_type": "stream",
          "name": "stdout",
          "text": [
            "Epoch 4 / 10, Step 1520 / 5086, Loss: 0.0071\n",
            "Epoch 4 / 10, Step 1530 / 5086, Loss: 2.0903\n",
            "Epoch 4 / 10, Step 1540 / 5086, Loss: 2.6848\n",
            "Epoch 4 / 10, Step 1550 / 5086, Loss: 0.0000\n"
          ]
        },
        {
          "output_type": "stream",
          "name": "stderr",
          "text": [
            "1586it [00:09, 166.40it/s]"
          ]
        },
        {
          "output_type": "stream",
          "name": "stdout",
          "text": [
            "Epoch 4 / 10, Step 1560 / 5086, Loss: 0.4412\n",
            "Epoch 4 / 10, Step 1570 / 5086, Loss: 4.6026\n",
            "Epoch 4 / 10, Step 1580 / 5086, Loss: 0.0011\n",
            "Epoch 4 / 10, Step 1590 / 5086, Loss: 8.9010\n"
          ]
        },
        {
          "output_type": "stream",
          "name": "stderr",
          "text": [
            "1621it [00:10, 166.17it/s]"
          ]
        },
        {
          "output_type": "stream",
          "name": "stdout",
          "text": [
            "Epoch 4 / 10, Step 1600 / 5086, Loss: 3.2156\n",
            "Epoch 4 / 10, Step 1610 / 5086, Loss: 2.9822\n",
            "Epoch 4 / 10, Step 1620 / 5086, Loss: 0.3367\n",
            "Epoch 4 / 10, Step 1630 / 5086, Loss: 0.0000\n"
          ]
        },
        {
          "output_type": "stream",
          "name": "stderr",
          "text": [
            "1673it [00:10, 165.35it/s]"
          ]
        },
        {
          "output_type": "stream",
          "name": "stdout",
          "text": [
            "Epoch 4 / 10, Step 1640 / 5086, Loss: 7.5531\n",
            "Epoch 4 / 10, Step 1650 / 5086, Loss: 1.0431\n",
            "Epoch 4 / 10, Step 1660 / 5086, Loss: 0.3226\n",
            "Epoch 4 / 10, Step 1670 / 5086, Loss: 0.0002\n"
          ]
        },
        {
          "output_type": "stream",
          "name": "stderr",
          "text": [
            "1707it [00:10, 160.45it/s]"
          ]
        },
        {
          "output_type": "stream",
          "name": "stdout",
          "text": [
            "Epoch 4 / 10, Step 1680 / 5086, Loss: 0.1351\n",
            "Epoch 4 / 10, Step 1690 / 5086, Loss: 4.2609\n",
            "Epoch 4 / 10, Step 1700 / 5086, Loss: 1.3324\n",
            "Epoch 4 / 10, Step 1710 / 5086, Loss: 0.0006\n"
          ]
        },
        {
          "output_type": "stream",
          "name": "stderr",
          "text": [
            "1741it [00:10, 159.04it/s]"
          ]
        },
        {
          "output_type": "stream",
          "name": "stdout",
          "text": [
            "Epoch 4 / 10, Step 1720 / 5086, Loss: 0.0245\n",
            "Epoch 4 / 10, Step 1730 / 5086, Loss: 0.1607\n",
            "Epoch 4 / 10, Step 1740 / 5086, Loss: 0.1065\n",
            "Epoch 4 / 10, Step 1750 / 5086, Loss: 1.1739\n"
          ]
        },
        {
          "output_type": "stream",
          "name": "stderr",
          "text": [
            "1791it [00:11, 161.97it/s]"
          ]
        },
        {
          "output_type": "stream",
          "name": "stdout",
          "text": [
            "Epoch 4 / 10, Step 1760 / 5086, Loss: 2.5918\n",
            "Epoch 4 / 10, Step 1770 / 5086, Loss: 2.4256\n",
            "Epoch 4 / 10, Step 1780 / 5086, Loss: 0.8281\n",
            "Epoch 4 / 10, Step 1790 / 5086, Loss: 1.3063\n"
          ]
        },
        {
          "output_type": "stream",
          "name": "stderr",
          "text": [
            "1825it [00:11, 161.49it/s]"
          ]
        },
        {
          "output_type": "stream",
          "name": "stdout",
          "text": [
            "Epoch 4 / 10, Step 1800 / 5086, Loss: 0.0218\n",
            "Epoch 4 / 10, Step 1810 / 5086, Loss: 3.2740\n",
            "Epoch 4 / 10, Step 1820 / 5086, Loss: 1.0228\n",
            "Epoch 4 / 10, Step 1830 / 5086, Loss: 2.0831\n"
          ]
        },
        {
          "output_type": "stream",
          "name": "stderr",
          "text": [
            "1859it [00:11, 160.30it/s]"
          ]
        },
        {
          "output_type": "stream",
          "name": "stdout",
          "text": [
            "Epoch 4 / 10, Step 1840 / 5086, Loss: 4.2553\n",
            "Epoch 4 / 10, Step 1850 / 5086, Loss: 0.0587\n",
            "Epoch 4 / 10, Step 1860 / 5086, Loss: 2.5061\n",
            "Epoch 4 / 10, Step 1870 / 5086, Loss: 4.5316\n"
          ]
        },
        {
          "output_type": "stream",
          "name": "stderr",
          "text": [
            "1908it [00:11, 156.00it/s]"
          ]
        },
        {
          "output_type": "stream",
          "name": "stdout",
          "text": [
            "Epoch 4 / 10, Step 1880 / 5086, Loss: 3.3425\n",
            "Epoch 4 / 10, Step 1890 / 5086, Loss: 1.7555\n",
            "Epoch 4 / 10, Step 1900 / 5086, Loss: 3.2097\n",
            "Epoch 4 / 10, Step 1910 / 5086, Loss: 0.7000\n"
          ]
        },
        {
          "output_type": "stream",
          "name": "stderr",
          "text": [
            "1942it [00:12, 157.96it/s]"
          ]
        },
        {
          "output_type": "stream",
          "name": "stdout",
          "text": [
            "Epoch 4 / 10, Step 1920 / 5086, Loss: 6.0240\n",
            "Epoch 4 / 10, Step 1930 / 5086, Loss: 0.2524\n",
            "Epoch 4 / 10, Step 1940 / 5086, Loss: 0.0016\n",
            "Epoch 4 / 10, Step 1950 / 5086, Loss: 5.7515\n"
          ]
        },
        {
          "output_type": "stream",
          "name": "stderr",
          "text": [
            "1992it [00:12, 161.66it/s]"
          ]
        },
        {
          "output_type": "stream",
          "name": "stdout",
          "text": [
            "Epoch 4 / 10, Step 1960 / 5086, Loss: 1.5500\n",
            "Epoch 4 / 10, Step 1970 / 5086, Loss: 0.0092\n",
            "Epoch 4 / 10, Step 1980 / 5086, Loss: 1.3446\n",
            "Epoch 4 / 10, Step 1990 / 5086, Loss: 0.6336\n"
          ]
        },
        {
          "output_type": "stream",
          "name": "stderr",
          "text": [
            "2025it [00:12, 158.27it/s]"
          ]
        },
        {
          "output_type": "stream",
          "name": "stdout",
          "text": [
            "Epoch 4 / 10, Step 2000 / 5086, Loss: 0.4834\n",
            "Epoch 4 / 10, Step 2010 / 5086, Loss: 1.0144\n",
            "Epoch 4 / 10, Step 2020 / 5086, Loss: 2.9141\n",
            "Epoch 4 / 10, Step 2030 / 5086, Loss: 0.1795\n"
          ]
        },
        {
          "output_type": "stream",
          "name": "stderr",
          "text": [
            "2057it [00:12, 154.02it/s]"
          ]
        },
        {
          "output_type": "stream",
          "name": "stdout",
          "text": [
            "Epoch 4 / 10, Step 2040 / 5086, Loss: 3.2231\n",
            "Epoch 4 / 10, Step 2050 / 5086, Loss: 6.2904\n",
            "Epoch 4 / 10, Step 2060 / 5086, Loss: 3.5591\n",
            "Epoch 4 / 10, Step 2070 / 5086, Loss: 12.5924\n"
          ]
        },
        {
          "output_type": "stream",
          "name": "stderr",
          "text": [
            "2107it [00:13, 159.82it/s]"
          ]
        },
        {
          "output_type": "stream",
          "name": "stdout",
          "text": [
            "Epoch 4 / 10, Step 2080 / 5086, Loss: 3.2570\n",
            "Epoch 4 / 10, Step 2090 / 5086, Loss: 2.9296\n",
            "Epoch 4 / 10, Step 2100 / 5086, Loss: 1.6726\n",
            "Epoch 4 / 10, Step 2110 / 5086, Loss: 13.9352\n"
          ]
        },
        {
          "output_type": "stream",
          "name": "stderr",
          "text": [
            "2140it [00:13, 159.84it/s]"
          ]
        },
        {
          "output_type": "stream",
          "name": "stdout",
          "text": [
            "Epoch 4 / 10, Step 2120 / 5086, Loss: 7.1584\n",
            "Epoch 4 / 10, Step 2130 / 5086, Loss: 4.6587\n",
            "Epoch 4 / 10, Step 2140 / 5086, Loss: 1.1249\n",
            "Epoch 4 / 10, Step 2150 / 5086, Loss: 0.0006\n"
          ]
        },
        {
          "output_type": "stream",
          "name": "stderr",
          "text": [
            "2190it [00:13, 161.70it/s]"
          ]
        },
        {
          "output_type": "stream",
          "name": "stdout",
          "text": [
            "Epoch 4 / 10, Step 2160 / 5086, Loss: 11.4245\n",
            "Epoch 4 / 10, Step 2170 / 5086, Loss: 0.1623\n",
            "Epoch 4 / 10, Step 2180 / 5086, Loss: 5.5450\n",
            "Epoch 4 / 10, Step 2190 / 5086, Loss: 7.3461\n"
          ]
        },
        {
          "output_type": "stream",
          "name": "stderr",
          "text": [
            "2224it [00:13, 157.55it/s]"
          ]
        },
        {
          "output_type": "stream",
          "name": "stdout",
          "text": [
            "Epoch 4 / 10, Step 2200 / 5086, Loss: 13.4070\n",
            "Epoch 4 / 10, Step 2210 / 5086, Loss: 2.5769\n",
            "Epoch 4 / 10, Step 2220 / 5086, Loss: 0.0000\n",
            "Epoch 4 / 10, Step 2230 / 5086, Loss: 4.4302\n"
          ]
        },
        {
          "output_type": "stream",
          "name": "stderr",
          "text": [
            "2257it [00:14, 156.97it/s]"
          ]
        },
        {
          "output_type": "stream",
          "name": "stdout",
          "text": [
            "Epoch 4 / 10, Step 2240 / 5086, Loss: 0.0039\n",
            "Epoch 4 / 10, Step 2250 / 5086, Loss: 0.0000\n",
            "Epoch 4 / 10, Step 2260 / 5086, Loss: 0.9595\n",
            "Epoch 4 / 10, Step 2270 / 5086, Loss: 2.1582\n"
          ]
        },
        {
          "output_type": "stream",
          "name": "stderr",
          "text": [
            "2307it [00:14, 162.74it/s]"
          ]
        },
        {
          "output_type": "stream",
          "name": "stdout",
          "text": [
            "Epoch 4 / 10, Step 2280 / 5086, Loss: 6.7704\n",
            "Epoch 4 / 10, Step 2290 / 5086, Loss: 0.0138\n",
            "Epoch 4 / 10, Step 2300 / 5086, Loss: 0.0035\n",
            "Epoch 4 / 10, Step 2310 / 5086, Loss: 2.4172\n"
          ]
        },
        {
          "output_type": "stream",
          "name": "stderr",
          "text": [
            "2342it [00:14, 166.12it/s]"
          ]
        },
        {
          "output_type": "stream",
          "name": "stdout",
          "text": [
            "Epoch 4 / 10, Step 2320 / 5086, Loss: 0.0000\n",
            "Epoch 4 / 10, Step 2330 / 5086, Loss: 7.3498\n",
            "Epoch 4 / 10, Step 2340 / 5086, Loss: 0.2227\n",
            "Epoch 4 / 10, Step 2350 / 5086, Loss: 3.7208\n"
          ]
        },
        {
          "output_type": "stream",
          "name": "stderr",
          "text": [
            "2394it [00:14, 168.84it/s]"
          ]
        },
        {
          "output_type": "stream",
          "name": "stdout",
          "text": [
            "Epoch 4 / 10, Step 2360 / 5086, Loss: 7.3967\n",
            "Epoch 4 / 10, Step 2370 / 5086, Loss: 2.9620\n",
            "Epoch 4 / 10, Step 2380 / 5086, Loss: 3.3315\n",
            "Epoch 4 / 10, Step 2390 / 5086, Loss: 0.3841\n"
          ]
        },
        {
          "output_type": "stream",
          "name": "stderr",
          "text": [
            "2429it [00:15, 168.64it/s]"
          ]
        },
        {
          "output_type": "stream",
          "name": "stdout",
          "text": [
            "Epoch 4 / 10, Step 2400 / 5086, Loss: 0.5220\n",
            "Epoch 4 / 10, Step 2410 / 5086, Loss: 0.0455\n",
            "Epoch 4 / 10, Step 2420 / 5086, Loss: 0.0753\n",
            "Epoch 4 / 10, Step 2430 / 5086, Loss: 1.1311\n"
          ]
        },
        {
          "output_type": "stream",
          "name": "stderr",
          "text": [
            "2463it [00:15, 163.64it/s]"
          ]
        },
        {
          "output_type": "stream",
          "name": "stdout",
          "text": [
            "Epoch 4 / 10, Step 2440 / 5086, Loss: 0.0057\n",
            "Epoch 4 / 10, Step 2450 / 5086, Loss: 0.8811\n",
            "Epoch 4 / 10, Step 2460 / 5086, Loss: 5.1675\n",
            "Epoch 4 / 10, Step 2470 / 5086, Loss: 0.0789\n"
          ]
        },
        {
          "output_type": "stream",
          "name": "stderr",
          "text": [
            "2497it [00:15, 161.50it/s]"
          ]
        },
        {
          "output_type": "stream",
          "name": "stdout",
          "text": [
            "Epoch 4 / 10, Step 2480 / 5086, Loss: 0.1349\n",
            "Epoch 4 / 10, Step 2490 / 5086, Loss: 0.0000\n",
            "Epoch 4 / 10, Step 2500 / 5086, Loss: 16.8570\n",
            "Epoch 4 / 10, Step 2510 / 5086, Loss: 11.3749\n"
          ]
        },
        {
          "output_type": "stream",
          "name": "stderr",
          "text": [
            "2549it [00:15, 162.09it/s]"
          ]
        },
        {
          "output_type": "stream",
          "name": "stdout",
          "text": [
            "Epoch 4 / 10, Step 2520 / 5086, Loss: 1.7284\n",
            "Epoch 4 / 10, Step 2530 / 5086, Loss: 0.0008\n",
            "Epoch 4 / 10, Step 2540 / 5086, Loss: 0.6250\n",
            "Epoch 4 / 10, Step 2550 / 5086, Loss: 9.8913\n"
          ]
        },
        {
          "output_type": "stream",
          "name": "stderr",
          "text": [
            "2583it [00:16, 159.72it/s]"
          ]
        },
        {
          "output_type": "stream",
          "name": "stdout",
          "text": [
            "Epoch 4 / 10, Step 2560 / 5086, Loss: 2.3198\n",
            "Epoch 4 / 10, Step 2570 / 5086, Loss: 0.0000\n",
            "Epoch 4 / 10, Step 2580 / 5086, Loss: 2.5691\n",
            "Epoch 4 / 10, Step 2590 / 5086, Loss: 0.4283\n"
          ]
        },
        {
          "output_type": "stream",
          "name": "stderr",
          "text": [
            "2616it [00:16, 157.93it/s]"
          ]
        },
        {
          "output_type": "stream",
          "name": "stdout",
          "text": [
            "Epoch 4 / 10, Step 2600 / 5086, Loss: 11.5322\n",
            "Epoch 4 / 10, Step 2610 / 5086, Loss: 9.3282\n",
            "Epoch 4 / 10, Step 2620 / 5086, Loss: 1.3449\n",
            "Epoch 4 / 10, Step 2630 / 5086, Loss: 4.6126\n"
          ]
        },
        {
          "output_type": "stream",
          "name": "stderr",
          "text": [
            "2667it [00:16, 160.25it/s]"
          ]
        },
        {
          "output_type": "stream",
          "name": "stdout",
          "text": [
            "Epoch 4 / 10, Step 2640 / 5086, Loss: 5.3575\n",
            "Epoch 4 / 10, Step 2650 / 5086, Loss: 4.7652\n",
            "Epoch 4 / 10, Step 2660 / 5086, Loss: 0.3985\n",
            "Epoch 4 / 10, Step 2670 / 5086, Loss: 1.1351\n"
          ]
        },
        {
          "output_type": "stream",
          "name": "stderr",
          "text": [
            "2700it [00:16, 157.94it/s]"
          ]
        },
        {
          "output_type": "stream",
          "name": "stdout",
          "text": [
            "Epoch 4 / 10, Step 2680 / 5086, Loss: 0.7761\n",
            "Epoch 4 / 10, Step 2690 / 5086, Loss: 9.1885\n",
            "Epoch 4 / 10, Step 2700 / 5086, Loss: 0.1684\n",
            "Epoch 4 / 10, Step 2710 / 5086, Loss: 11.7833\n"
          ]
        },
        {
          "output_type": "stream",
          "name": "stderr",
          "text": [
            "2751it [00:17, 162.01it/s]"
          ]
        },
        {
          "output_type": "stream",
          "name": "stdout",
          "text": [
            "Epoch 4 / 10, Step 2720 / 5086, Loss: 0.6626\n",
            "Epoch 4 / 10, Step 2730 / 5086, Loss: 0.2393\n",
            "Epoch 4 / 10, Step 2740 / 5086, Loss: 0.0002\n",
            "Epoch 4 / 10, Step 2750 / 5086, Loss: 7.0684\n"
          ]
        },
        {
          "output_type": "stream",
          "name": "stderr",
          "text": [
            "2784it [00:17, 158.87it/s]"
          ]
        },
        {
          "output_type": "stream",
          "name": "stdout",
          "text": [
            "Epoch 4 / 10, Step 2760 / 5086, Loss: 0.0379\n",
            "Epoch 4 / 10, Step 2770 / 5086, Loss: 4.0239\n",
            "Epoch 4 / 10, Step 2780 / 5086, Loss: 3.3060\n",
            "Epoch 4 / 10, Step 2790 / 5086, Loss: 0.7881\n"
          ]
        },
        {
          "output_type": "stream",
          "name": "stderr",
          "text": [
            "2816it [00:17, 156.62it/s]"
          ]
        },
        {
          "output_type": "stream",
          "name": "stdout",
          "text": [
            "Epoch 4 / 10, Step 2800 / 5086, Loss: 8.0164\n",
            "Epoch 4 / 10, Step 2810 / 5086, Loss: 0.0013\n",
            "Epoch 4 / 10, Step 2820 / 5086, Loss: 0.6068\n",
            "Epoch 4 / 10, Step 2830 / 5086, Loss: 0.7429\n"
          ]
        },
        {
          "output_type": "stream",
          "name": "stderr",
          "text": [
            "2864it [00:17, 151.29it/s]"
          ]
        },
        {
          "output_type": "stream",
          "name": "stdout",
          "text": [
            "Epoch 4 / 10, Step 2840 / 5086, Loss: 2.1384\n",
            "Epoch 4 / 10, Step 2850 / 5086, Loss: 2.0295\n",
            "Epoch 4 / 10, Step 2860 / 5086, Loss: 2.6950\n",
            "Epoch 4 / 10, Step 2870 / 5086, Loss: 5.6680"
          ]
        },
        {
          "output_type": "stream",
          "name": "stderr",
          "text": [
            "2897it [00:18, 153.65it/s]"
          ]
        },
        {
          "output_type": "stream",
          "name": "stdout",
          "text": [
            "\n",
            "Epoch 4 / 10, Step 2880 / 5086, Loss: 4.5758\n",
            "Epoch 4 / 10, Step 2890 / 5086, Loss: 16.3491\n",
            "Epoch 4 / 10, Step 2900 / 5086, Loss: 6.2777\n"
          ]
        },
        {
          "output_type": "stream",
          "name": "stderr",
          "text": [
            "2931it [00:18, 152.10it/s]"
          ]
        },
        {
          "output_type": "stream",
          "name": "stdout",
          "text": [
            "Epoch 4 / 10, Step 2910 / 5086, Loss: 0.8289\n",
            "Epoch 4 / 10, Step 2920 / 5086, Loss: 2.9664\n",
            "Epoch 4 / 10, Step 2930 / 5086, Loss: 0.1246\n",
            "Epoch 4 / 10, Step 2940 / 5086, Loss: 0.0009\n"
          ]
        },
        {
          "output_type": "stream",
          "name": "stderr",
          "text": [
            "2979it [00:18, 153.39it/s]"
          ]
        },
        {
          "output_type": "stream",
          "name": "stdout",
          "text": [
            "Epoch 4 / 10, Step 2950 / 5086, Loss: 4.6957\n",
            "Epoch 4 / 10, Step 2960 / 5086, Loss: 3.7510\n",
            "Epoch 4 / 10, Step 2970 / 5086, Loss: 0.0000\n",
            "Epoch 4 / 10, Step 2980 / 5086, Loss: 0.0422\n"
          ]
        },
        {
          "output_type": "stream",
          "name": "stderr",
          "text": [
            "3012it [00:18, 156.36it/s]"
          ]
        },
        {
          "output_type": "stream",
          "name": "stdout",
          "text": [
            "Epoch 4 / 10, Step 2990 / 5086, Loss: 0.0000\n",
            "Epoch 4 / 10, Step 3000 / 5086, Loss: 4.7141\n",
            "Epoch 4 / 10, Step 3010 / 5086, Loss: 0.8747\n",
            "Epoch 4 / 10, Step 3020 / 5086, Loss: 5.1022\n"
          ]
        },
        {
          "output_type": "stream",
          "name": "stderr",
          "text": [
            "3062it [00:19, 157.74it/s]"
          ]
        },
        {
          "output_type": "stream",
          "name": "stdout",
          "text": [
            "Epoch 4 / 10, Step 3030 / 5086, Loss: 15.7573\n",
            "Epoch 4 / 10, Step 3040 / 5086, Loss: 4.0531\n",
            "Epoch 4 / 10, Step 3050 / 5086, Loss: 8.2105\n",
            "Epoch 4 / 10, Step 3060 / 5086, Loss: 7.7218\n"
          ]
        },
        {
          "output_type": "stream",
          "name": "stderr",
          "text": [
            "3096it [00:19, 162.32it/s]"
          ]
        },
        {
          "output_type": "stream",
          "name": "stdout",
          "text": [
            "Epoch 4 / 10, Step 3070 / 5086, Loss: 4.5445\n",
            "Epoch 4 / 10, Step 3080 / 5086, Loss: 0.1915\n",
            "Epoch 4 / 10, Step 3090 / 5086, Loss: 0.0023\n",
            "Epoch 4 / 10, Step 3100 / 5086, Loss: 0.0000\n"
          ]
        },
        {
          "output_type": "stream",
          "name": "stderr",
          "text": [
            "3131it [00:19, 165.67it/s]"
          ]
        },
        {
          "output_type": "stream",
          "name": "stdout",
          "text": [
            "Epoch 4 / 10, Step 3110 / 5086, Loss: 1.2066\n",
            "Epoch 4 / 10, Step 3120 / 5086, Loss: 4.6737\n",
            "Epoch 4 / 10, Step 3130 / 5086, Loss: 3.7286\n",
            "Epoch 4 / 10, Step 3140 / 5086, Loss: 5.9342\n"
          ]
        },
        {
          "output_type": "stream",
          "name": "stderr",
          "text": [
            "3183it [00:19, 168.06it/s]"
          ]
        },
        {
          "output_type": "stream",
          "name": "stdout",
          "text": [
            "Epoch 4 / 10, Step 3150 / 5086, Loss: 0.7337\n",
            "Epoch 4 / 10, Step 3160 / 5086, Loss: 6.1563\n",
            "Epoch 4 / 10, Step 3170 / 5086, Loss: 1.7318\n",
            "Epoch 4 / 10, Step 3180 / 5086, Loss: 4.2958\n"
          ]
        },
        {
          "output_type": "stream",
          "name": "stderr",
          "text": [
            "3218it [00:20, 166.16it/s]"
          ]
        },
        {
          "output_type": "stream",
          "name": "stdout",
          "text": [
            "Epoch 4 / 10, Step 3190 / 5086, Loss: 1.6632\n",
            "Epoch 4 / 10, Step 3200 / 5086, Loss: 5.5970\n",
            "Epoch 4 / 10, Step 3210 / 5086, Loss: 0.0240\n",
            "Epoch 4 / 10, Step 3220 / 5086, Loss: 0.4690\n"
          ]
        },
        {
          "output_type": "stream",
          "name": "stderr",
          "text": [
            "3252it [00:20, 160.75it/s]"
          ]
        },
        {
          "output_type": "stream",
          "name": "stdout",
          "text": [
            "Epoch 4 / 10, Step 3230 / 5086, Loss: 0.0793\n",
            "Epoch 4 / 10, Step 3240 / 5086, Loss: 6.4574\n",
            "Epoch 4 / 10, Step 3250 / 5086, Loss: 0.0072\n",
            "Epoch 4 / 10, Step 3260 / 5086, Loss: 5.2639\n"
          ]
        },
        {
          "output_type": "stream",
          "name": "stderr",
          "text": [
            "3286it [00:20, 156.89it/s]"
          ]
        },
        {
          "output_type": "stream",
          "name": "stdout",
          "text": [
            "Epoch 4 / 10, Step 3270 / 5086, Loss: 0.1699\n",
            "Epoch 4 / 10, Step 3280 / 5086, Loss: 0.0012\n",
            "Epoch 4 / 10, Step 3290 / 5086, Loss: 0.0006\n",
            "Epoch 4 / 10, Step 3300 / 5086, Loss: 0.0039\n"
          ]
        },
        {
          "output_type": "stream",
          "name": "stderr",
          "text": [
            "3337it [00:20, 159.20it/s]"
          ]
        },
        {
          "output_type": "stream",
          "name": "stdout",
          "text": [
            "Epoch 4 / 10, Step 3310 / 5086, Loss: 10.1794\n",
            "Epoch 4 / 10, Step 3320 / 5086, Loss: 1.8028\n",
            "Epoch 4 / 10, Step 3330 / 5086, Loss: 7.0332\n",
            "Epoch 4 / 10, Step 3340 / 5086, Loss: 3.2354\n"
          ]
        },
        {
          "output_type": "stream",
          "name": "stderr",
          "text": [
            "3370it [00:21, 154.67it/s]"
          ]
        },
        {
          "output_type": "stream",
          "name": "stdout",
          "text": [
            "Epoch 4 / 10, Step 3350 / 5086, Loss: 0.7345\n",
            "Epoch 4 / 10, Step 3360 / 5086, Loss: 12.5456\n",
            "Epoch 4 / 10, Step 3370 / 5086, Loss: 5.6790\n",
            "Epoch 4 / 10, Step 3380 / 5086, Loss: 1.8366\n"
          ]
        },
        {
          "output_type": "stream",
          "name": "stderr",
          "text": [
            "3419it [00:21, 159.83it/s]"
          ]
        },
        {
          "output_type": "stream",
          "name": "stdout",
          "text": [
            "Epoch 4 / 10, Step 3390 / 5086, Loss: 3.8127\n",
            "Epoch 4 / 10, Step 3400 / 5086, Loss: 5.6172\n",
            "Epoch 4 / 10, Step 3410 / 5086, Loss: 3.7769\n",
            "Epoch 4 / 10, Step 3420 / 5086, Loss: 1.6397\n"
          ]
        },
        {
          "output_type": "stream",
          "name": "stderr",
          "text": [
            "3453it [00:21, 160.16it/s]"
          ]
        },
        {
          "output_type": "stream",
          "name": "stdout",
          "text": [
            "Epoch 4 / 10, Step 3430 / 5086, Loss: 1.0250\n",
            "Epoch 4 / 10, Step 3440 / 5086, Loss: 0.5891\n",
            "Epoch 4 / 10, Step 3450 / 5086, Loss: 3.4838\n",
            "Epoch 4 / 10, Step 3460 / 5086, Loss: 1.3387\n"
          ]
        },
        {
          "output_type": "stream",
          "name": "stderr",
          "text": [
            "3487it [00:21, 161.85it/s]"
          ]
        },
        {
          "output_type": "stream",
          "name": "stdout",
          "text": [
            "Epoch 4 / 10, Step 3470 / 5086, Loss: 0.8967\n",
            "Epoch 4 / 10, Step 3480 / 5086, Loss: 5.4116\n",
            "Epoch 4 / 10, Step 3490 / 5086, Loss: 4.2079\n",
            "Epoch 4 / 10, Step 3500 / 5086, Loss: 4.2233\n"
          ]
        },
        {
          "output_type": "stream",
          "name": "stderr",
          "text": [
            "3538it [00:22, 158.18it/s]"
          ]
        },
        {
          "output_type": "stream",
          "name": "stdout",
          "text": [
            "Epoch 4 / 10, Step 3510 / 5086, Loss: 0.2976\n",
            "Epoch 4 / 10, Step 3520 / 5086, Loss: 1.5828\n",
            "Epoch 4 / 10, Step 3530 / 5086, Loss: 0.0040\n",
            "Epoch 4 / 10, Step 3540 / 5086, Loss: 0.0000\n"
          ]
        },
        {
          "output_type": "stream",
          "name": "stderr",
          "text": [
            "3571it [00:22, 160.18it/s]"
          ]
        },
        {
          "output_type": "stream",
          "name": "stdout",
          "text": [
            "Epoch 4 / 10, Step 3550 / 5086, Loss: 0.2891\n",
            "Epoch 4 / 10, Step 3560 / 5086, Loss: 0.8106\n",
            "Epoch 4 / 10, Step 3570 / 5086, Loss: 0.0979\n",
            "Epoch 4 / 10, Step 3580 / 5086, Loss: 1.1818\n"
          ]
        },
        {
          "output_type": "stream",
          "name": "stderr",
          "text": [
            "3622it [00:22, 160.58it/s]"
          ]
        },
        {
          "output_type": "stream",
          "name": "stdout",
          "text": [
            "Epoch 4 / 10, Step 3590 / 5086, Loss: 0.0044\n",
            "Epoch 4 / 10, Step 3600 / 5086, Loss: 0.6975\n",
            "Epoch 4 / 10, Step 3610 / 5086, Loss: 1.1706\n",
            "Epoch 4 / 10, Step 3620 / 5086, Loss: 2.0857\n"
          ]
        },
        {
          "output_type": "stream",
          "name": "stderr",
          "text": [
            "3656it [00:22, 156.02it/s]"
          ]
        },
        {
          "output_type": "stream",
          "name": "stdout",
          "text": [
            "Epoch 4 / 10, Step 3630 / 5086, Loss: 8.0993\n",
            "Epoch 4 / 10, Step 3640 / 5086, Loss: 4.5058\n",
            "Epoch 4 / 10, Step 3650 / 5086, Loss: 3.2612\n",
            "Epoch 4 / 10, Step 3660 / 5086, Loss: 2.9535\n"
          ]
        },
        {
          "output_type": "stream",
          "name": "stderr",
          "text": [
            "3690it [00:23, 157.16it/s]"
          ]
        },
        {
          "output_type": "stream",
          "name": "stdout",
          "text": [
            "Epoch 4 / 10, Step 3670 / 5086, Loss: 7.1332\n",
            "Epoch 4 / 10, Step 3680 / 5086, Loss: 0.0954\n",
            "Epoch 4 / 10, Step 3690 / 5086, Loss: 2.6470\n",
            "Epoch 4 / 10, Step 3700 / 5086, Loss: 2.6571\n"
          ]
        },
        {
          "output_type": "stream",
          "name": "stderr",
          "text": [
            "3740it [00:23, 161.03it/s]"
          ]
        },
        {
          "output_type": "stream",
          "name": "stdout",
          "text": [
            "Epoch 4 / 10, Step 3710 / 5086, Loss: 3.6644\n",
            "Epoch 4 / 10, Step 3720 / 5086, Loss: 5.5301\n",
            "Epoch 4 / 10, Step 3730 / 5086, Loss: 1.3865\n",
            "Epoch 4 / 10, Step 3740 / 5086, Loss: 0.0660\n"
          ]
        },
        {
          "output_type": "stream",
          "name": "stderr",
          "text": [
            "3773it [00:23, 158.43it/s]"
          ]
        },
        {
          "output_type": "stream",
          "name": "stdout",
          "text": [
            "Epoch 4 / 10, Step 3750 / 5086, Loss: 1.3426\n",
            "Epoch 4 / 10, Step 3760 / 5086, Loss: 0.0742\n",
            "Epoch 4 / 10, Step 3770 / 5086, Loss: 0.0086\n",
            "Epoch 4 / 10, Step 3780 / 5086, Loss: 0.0496\n"
          ]
        },
        {
          "output_type": "stream",
          "name": "stderr",
          "text": [
            "3823it [00:23, 160.26it/s]"
          ]
        },
        {
          "output_type": "stream",
          "name": "stdout",
          "text": [
            "Epoch 4 / 10, Step 3790 / 5086, Loss: 0.8774\n",
            "Epoch 4 / 10, Step 3800 / 5086, Loss: 3.4714\n",
            "Epoch 4 / 10, Step 3810 / 5086, Loss: 1.6941\n",
            "Epoch 4 / 10, Step 3820 / 5086, Loss: 7.8330\n"
          ]
        },
        {
          "output_type": "stream",
          "name": "stderr",
          "text": [
            "3857it [00:24, 158.19it/s]"
          ]
        },
        {
          "output_type": "stream",
          "name": "stdout",
          "text": [
            "Epoch 4 / 10, Step 3830 / 5086, Loss: 0.4760\n",
            "Epoch 4 / 10, Step 3840 / 5086, Loss: 0.0644\n",
            "Epoch 4 / 10, Step 3850 / 5086, Loss: 0.0051\n",
            "Epoch 4 / 10, Step 3860 / 5086, Loss: 0.0056\n"
          ]
        },
        {
          "output_type": "stream",
          "name": "stderr",
          "text": [
            "3890it [00:24, 157.36it/s]"
          ]
        },
        {
          "output_type": "stream",
          "name": "stdout",
          "text": [
            "Epoch 4 / 10, Step 3870 / 5086, Loss: 0.0002\n",
            "Epoch 4 / 10, Step 3880 / 5086, Loss: 0.0026\n",
            "Epoch 4 / 10, Step 3890 / 5086, Loss: 2.4247\n",
            "Epoch 4 / 10, Step 3900 / 5086, Loss: 0.0006\n"
          ]
        },
        {
          "output_type": "stream",
          "name": "stderr",
          "text": [
            "3941it [00:24, 164.72it/s]"
          ]
        },
        {
          "output_type": "stream",
          "name": "stdout",
          "text": [
            "Epoch 4 / 10, Step 3910 / 5086, Loss: 0.0030\n",
            "Epoch 4 / 10, Step 3920 / 5086, Loss: 0.6286\n",
            "Epoch 4 / 10, Step 3930 / 5086, Loss: 3.9285\n",
            "Epoch 4 / 10, Step 3940 / 5086, Loss: 5.9731\n"
          ]
        },
        {
          "output_type": "stream",
          "name": "stderr",
          "text": [
            "3978it [00:24, 171.45it/s]"
          ]
        },
        {
          "output_type": "stream",
          "name": "stdout",
          "text": [
            "Epoch 4 / 10, Step 3950 / 5086, Loss: 0.0159\n",
            "Epoch 4 / 10, Step 3960 / 5086, Loss: 0.0106\n",
            "Epoch 4 / 10, Step 3970 / 5086, Loss: 1.5547\n",
            "Epoch 4 / 10, Step 3980 / 5086, Loss: 0.0000\n"
          ]
        },
        {
          "output_type": "stream",
          "name": "stderr",
          "text": [
            "4013it [00:25, 162.23it/s]"
          ]
        },
        {
          "output_type": "stream",
          "name": "stdout",
          "text": [
            "Epoch 4 / 10, Step 3990 / 5086, Loss: 3.1491\n",
            "Epoch 4 / 10, Step 4000 / 5086, Loss: 4.5723\n",
            "Epoch 4 / 10, Step 4010 / 5086, Loss: 2.9698\n",
            "Epoch 4 / 10, Step 4020 / 5086, Loss: 2.1672\n"
          ]
        },
        {
          "output_type": "stream",
          "name": "stderr",
          "text": [
            "4048it [00:25, 167.22it/s]"
          ]
        },
        {
          "output_type": "stream",
          "name": "stdout",
          "text": [
            "Epoch 4 / 10, Step 4030 / 5086, Loss: 6.4532\n",
            "Epoch 4 / 10, Step 4040 / 5086, Loss: 4.3327\n",
            "Epoch 4 / 10, Step 4050 / 5086, Loss: 3.9569\n",
            "Epoch 4 / 10, Step 4060 / 5086, Loss: 0.7724\n"
          ]
        },
        {
          "output_type": "stream",
          "name": "stderr",
          "text": [
            "4101it [00:25, 166.72it/s]"
          ]
        },
        {
          "output_type": "stream",
          "name": "stdout",
          "text": [
            "Epoch 4 / 10, Step 4070 / 5086, Loss: 5.1230\n",
            "Epoch 4 / 10, Step 4080 / 5086, Loss: 0.3042\n",
            "Epoch 4 / 10, Step 4090 / 5086, Loss: 0.4899\n",
            "Epoch 4 / 10, Step 4100 / 5086, Loss: 0.0365\n"
          ]
        },
        {
          "output_type": "stream",
          "name": "stderr",
          "text": [
            "4135it [00:25, 163.02it/s]"
          ]
        },
        {
          "output_type": "stream",
          "name": "stdout",
          "text": [
            "Epoch 4 / 10, Step 4110 / 5086, Loss: 2.1533\n",
            "Epoch 4 / 10, Step 4120 / 5086, Loss: 1.1070\n",
            "Epoch 4 / 10, Step 4130 / 5086, Loss: 2.6445\n",
            "Epoch 4 / 10, Step 4140 / 5086, Loss: 2.2978\n"
          ]
        },
        {
          "output_type": "stream",
          "name": "stderr",
          "text": [
            "4168it [00:26, 153.50it/s]"
          ]
        },
        {
          "output_type": "stream",
          "name": "stdout",
          "text": [
            "Epoch 4 / 10, Step 4150 / 5086, Loss: 0.0232\n",
            "Epoch 4 / 10, Step 4160 / 5086, Loss: 0.0095\n",
            "Epoch 4 / 10, Step 4170 / 5086, Loss: 1.5891\n",
            "Epoch 4 / 10, Step 4180 / 5086, Loss: 7.2780\n"
          ]
        },
        {
          "output_type": "stream",
          "name": "stderr",
          "text": [
            "4217it [00:26, 157.52it/s]"
          ]
        },
        {
          "output_type": "stream",
          "name": "stdout",
          "text": [
            "Epoch 4 / 10, Step 4190 / 5086, Loss: 1.5576\n",
            "Epoch 4 / 10, Step 4200 / 5086, Loss: 1.1883\n",
            "Epoch 4 / 10, Step 4210 / 5086, Loss: 0.0000\n",
            "Epoch 4 / 10, Step 4220 / 5086, Loss: 0.4886\n"
          ]
        },
        {
          "output_type": "stream",
          "name": "stderr",
          "text": [
            "4250it [00:26, 157.75it/s]"
          ]
        },
        {
          "output_type": "stream",
          "name": "stdout",
          "text": [
            "Epoch 4 / 10, Step 4230 / 5086, Loss: 0.0000\n",
            "Epoch 4 / 10, Step 4240 / 5086, Loss: 1.0122\n",
            "Epoch 4 / 10, Step 4250 / 5086, Loss: 6.0995\n",
            "Epoch 4 / 10, Step 4260 / 5086, Loss: 2.8185\n"
          ]
        },
        {
          "output_type": "stream",
          "name": "stderr",
          "text": [
            "4299it [00:26, 157.72it/s]"
          ]
        },
        {
          "output_type": "stream",
          "name": "stdout",
          "text": [
            "Epoch 4 / 10, Step 4270 / 5086, Loss: 1.9100\n",
            "Epoch 4 / 10, Step 4280 / 5086, Loss: 0.0261\n",
            "Epoch 4 / 10, Step 4290 / 5086, Loss: 0.7541\n",
            "Epoch 4 / 10, Step 4300 / 5086, Loss: 2.8462\n"
          ]
        },
        {
          "output_type": "stream",
          "name": "stderr",
          "text": [
            "4331it [00:27, 152.08it/s]"
          ]
        },
        {
          "output_type": "stream",
          "name": "stdout",
          "text": [
            "Epoch 4 / 10, Step 4310 / 5086, Loss: 0.6254\n",
            "Epoch 4 / 10, Step 4320 / 5086, Loss: 0.0322\n",
            "Epoch 4 / 10, Step 4330 / 5086, Loss: 1.7937\n",
            "Epoch 4 / 10, Step 4340 / 5086, Loss: 0.0358\n"
          ]
        },
        {
          "output_type": "stream",
          "name": "stderr",
          "text": [
            "4383it [00:27, 160.76it/s]"
          ]
        },
        {
          "output_type": "stream",
          "name": "stdout",
          "text": [
            "Epoch 4 / 10, Step 4350 / 5086, Loss: 10.3679\n",
            "Epoch 4 / 10, Step 4360 / 5086, Loss: 0.0052\n",
            "Epoch 4 / 10, Step 4370 / 5086, Loss: 0.7653\n",
            "Epoch 4 / 10, Step 4380 / 5086, Loss: 1.6855\n"
          ]
        },
        {
          "output_type": "stream",
          "name": "stderr",
          "text": [
            "4417it [00:27, 156.33it/s]"
          ]
        },
        {
          "output_type": "stream",
          "name": "stdout",
          "text": [
            "Epoch 4 / 10, Step 4390 / 5086, Loss: 2.0798\n",
            "Epoch 4 / 10, Step 4400 / 5086, Loss: 5.3520\n",
            "Epoch 4 / 10, Step 4410 / 5086, Loss: 4.8837\n",
            "Epoch 4 / 10, Step 4420 / 5086, Loss: 3.7609\n"
          ]
        },
        {
          "output_type": "stream",
          "name": "stderr",
          "text": [
            "4449it [00:27, 152.68it/s]"
          ]
        },
        {
          "output_type": "stream",
          "name": "stdout",
          "text": [
            "Epoch 4 / 10, Step 4430 / 5086, Loss: 0.0078\n",
            "Epoch 4 / 10, Step 4440 / 5086, Loss: 0.0013\n",
            "Epoch 4 / 10, Step 4450 / 5086, Loss: 2.6461\n",
            "Epoch 4 / 10, Step 4460 / 5086, Loss: 5.3965\n"
          ]
        },
        {
          "output_type": "stream",
          "name": "stderr",
          "text": [
            "4497it [00:28, 148.31it/s]"
          ]
        },
        {
          "output_type": "stream",
          "name": "stdout",
          "text": [
            "Epoch 4 / 10, Step 4470 / 5086, Loss: 0.9061\n",
            "Epoch 4 / 10, Step 4480 / 5086, Loss: 4.2230\n",
            "Epoch 4 / 10, Step 4490 / 5086, Loss: 5.4789\n"
          ]
        },
        {
          "output_type": "stream",
          "name": "stderr",
          "text": [
            "4529it [00:28, 151.60it/s]"
          ]
        },
        {
          "output_type": "stream",
          "name": "stdout",
          "text": [
            "Epoch 4 / 10, Step 4500 / 5086, Loss: 0.3303\n",
            "Epoch 4 / 10, Step 4510 / 5086, Loss: 0.0262\n",
            "Epoch 4 / 10, Step 4520 / 5086, Loss: 0.5758\n",
            "Epoch 4 / 10, Step 4530 / 5086, Loss: 2.1495\n"
          ]
        },
        {
          "output_type": "stream",
          "name": "stderr",
          "text": [
            "4561it [00:28, 149.45it/s]"
          ]
        },
        {
          "output_type": "stream",
          "name": "stdout",
          "text": [
            "Epoch 4 / 10, Step 4540 / 5086, Loss: 0.0035\n",
            "Epoch 4 / 10, Step 4550 / 5086, Loss: 1.0848\n",
            "Epoch 4 / 10, Step 4560 / 5086, Loss: 0.3632\n",
            "Epoch 4 / 10, Step 4570 / 5086, Loss: 0.0084\n"
          ]
        },
        {
          "output_type": "stream",
          "name": "stderr",
          "text": [
            "4608it [00:28, 149.79it/s]"
          ]
        },
        {
          "output_type": "stream",
          "name": "stdout",
          "text": [
            "Epoch 4 / 10, Step 4580 / 5086, Loss: 0.0067\n",
            "Epoch 4 / 10, Step 4590 / 5086, Loss: 1.0577\n",
            "Epoch 4 / 10, Step 4600 / 5086, Loss: 2.9364\n",
            "Epoch 4 / 10, Step 4610 / 5086, Loss: 0.6843\n"
          ]
        },
        {
          "output_type": "stream",
          "name": "stderr",
          "text": [
            "4640it [00:29, 152.29it/s]"
          ]
        },
        {
          "output_type": "stream",
          "name": "stdout",
          "text": [
            "Epoch 4 / 10, Step 4620 / 5086, Loss: 0.7015\n",
            "Epoch 4 / 10, Step 4630 / 5086, Loss: 0.0566\n",
            "Epoch 4 / 10, Step 4640 / 5086, Loss: 0.0624\n",
            "Epoch 4 / 10, Step 4650 / 5086, Loss: 1.0968\n"
          ]
        },
        {
          "output_type": "stream",
          "name": "stderr",
          "text": [
            "4689it [00:29, 156.46it/s]"
          ]
        },
        {
          "output_type": "stream",
          "name": "stdout",
          "text": [
            "Epoch 4 / 10, Step 4660 / 5086, Loss: 2.0332\n",
            "Epoch 4 / 10, Step 4670 / 5086, Loss: 1.4063\n",
            "Epoch 4 / 10, Step 4680 / 5086, Loss: 0.4247\n",
            "Epoch 4 / 10, Step 4690 / 5086, Loss: 0.0000\n"
          ]
        },
        {
          "output_type": "stream",
          "name": "stderr",
          "text": [
            "4723it [00:29, 159.70it/s]"
          ]
        },
        {
          "output_type": "stream",
          "name": "stdout",
          "text": [
            "Epoch 4 / 10, Step 4700 / 5086, Loss: 6.0276\n",
            "Epoch 4 / 10, Step 4710 / 5086, Loss: 3.2887\n",
            "Epoch 4 / 10, Step 4720 / 5086, Loss: 0.4874\n",
            "Epoch 4 / 10, Step 4730 / 5086, Loss: 0.4867\n"
          ]
        },
        {
          "output_type": "stream",
          "name": "stderr",
          "text": [
            "4775it [00:29, 167.37it/s]"
          ]
        },
        {
          "output_type": "stream",
          "name": "stdout",
          "text": [
            "Epoch 4 / 10, Step 4740 / 5086, Loss: 0.0000\n",
            "Epoch 4 / 10, Step 4750 / 5086, Loss: 7.9253\n",
            "Epoch 4 / 10, Step 4760 / 5086, Loss: 0.0000\n",
            "Epoch 4 / 10, Step 4770 / 5086, Loss: 0.2622\n"
          ]
        },
        {
          "output_type": "stream",
          "name": "stderr",
          "text": [
            "4809it [00:30, 161.89it/s]"
          ]
        },
        {
          "output_type": "stream",
          "name": "stdout",
          "text": [
            "Epoch 4 / 10, Step 4780 / 5086, Loss: 1.1546\n",
            "Epoch 4 / 10, Step 4790 / 5086, Loss: 2.1211\n",
            "Epoch 4 / 10, Step 4800 / 5086, Loss: 0.7530\n",
            "Epoch 4 / 10, Step 4810 / 5086, Loss: 0.0013\n"
          ]
        },
        {
          "output_type": "stream",
          "name": "stderr",
          "text": [
            "4843it [00:30, 159.96it/s]"
          ]
        },
        {
          "output_type": "stream",
          "name": "stdout",
          "text": [
            "Epoch 4 / 10, Step 4820 / 5086, Loss: 0.4614\n",
            "Epoch 4 / 10, Step 4830 / 5086, Loss: 0.0036\n",
            "Epoch 4 / 10, Step 4840 / 5086, Loss: 3.7298\n",
            "Epoch 4 / 10, Step 4850 / 5086, Loss: 2.1363\n"
          ]
        },
        {
          "output_type": "stream",
          "name": "stderr",
          "text": [
            "4876it [00:30, 156.94it/s]"
          ]
        },
        {
          "output_type": "stream",
          "name": "stdout",
          "text": [
            "Epoch 4 / 10, Step 4860 / 5086, Loss: 1.0245\n",
            "Epoch 4 / 10, Step 4870 / 5086, Loss: 0.5741\n",
            "Epoch 4 / 10, Step 4880 / 5086, Loss: 2.2397\n",
            "Epoch 4 / 10, Step 4890 / 5086, Loss: 0.0979\n"
          ]
        },
        {
          "output_type": "stream",
          "name": "stderr",
          "text": [
            "4926it [00:30, 158.49it/s]"
          ]
        },
        {
          "output_type": "stream",
          "name": "stdout",
          "text": [
            "Epoch 4 / 10, Step 4900 / 5086, Loss: 0.0050\n",
            "Epoch 4 / 10, Step 4910 / 5086, Loss: 2.0674\n",
            "Epoch 4 / 10, Step 4920 / 5086, Loss: 0.5207\n",
            "Epoch 4 / 10, Step 4930 / 5086, Loss: 2.7651\n"
          ]
        },
        {
          "output_type": "stream",
          "name": "stderr",
          "text": [
            "4959it [00:31, 155.48it/s]"
          ]
        },
        {
          "output_type": "stream",
          "name": "stdout",
          "text": [
            "Epoch 4 / 10, Step 4940 / 5086, Loss: 2.0624\n",
            "Epoch 4 / 10, Step 4950 / 5086, Loss: 0.0085\n",
            "Epoch 4 / 10, Step 4960 / 5086, Loss: 0.0981\n",
            "Epoch 4 / 10, Step 4970 / 5086, Loss: 0.1474\n"
          ]
        },
        {
          "output_type": "stream",
          "name": "stderr",
          "text": [
            "5008it [00:31, 156.74it/s]"
          ]
        },
        {
          "output_type": "stream",
          "name": "stdout",
          "text": [
            "Epoch 4 / 10, Step 4980 / 5086, Loss: 1.0234\n",
            "Epoch 4 / 10, Step 4990 / 5086, Loss: 0.6511\n",
            "Epoch 4 / 10, Step 5000 / 5086, Loss: 3.8950\n",
            "Epoch 4 / 10, Step 5010 / 5086, Loss: 0.2843\n"
          ]
        },
        {
          "output_type": "stream",
          "name": "stderr",
          "text": [
            "5041it [00:31, 155.50it/s]"
          ]
        },
        {
          "output_type": "stream",
          "name": "stdout",
          "text": [
            "Epoch 4 / 10, Step 5020 / 5086, Loss: 0.7644\n",
            "Epoch 4 / 10, Step 5030 / 5086, Loss: 0.0011\n",
            "Epoch 4 / 10, Step 5040 / 5086, Loss: 1.6806\n",
            "Epoch 4 / 10, Step 5050 / 5086, Loss: 0.2549\n"
          ]
        },
        {
          "output_type": "stream",
          "name": "stderr",
          "text": [
            "5086it [00:31, 159.10it/s]\n"
          ]
        },
        {
          "output_type": "stream",
          "name": "stdout",
          "text": [
            "Epoch 4 / 10, Step 5060 / 5086, Loss: 9.6211\n",
            "Epoch 4 / 10, Step 5070 / 5086, Loss: 2.3828\n",
            "Epoch 4 / 10, Step 5080 / 5086, Loss: 1.2740\n"
          ]
        },
        {
          "output_type": "stream",
          "name": "stderr",
          "text": [
            "30it [00:00, 149.38it/s]"
          ]
        },
        {
          "output_type": "stream",
          "name": "stdout",
          "text": [
            "Epoch 5 / 10, Step 10 / 5086, Loss: 3.6909\n",
            "Epoch 5 / 10, Step 20 / 5086, Loss: 0.2331\n",
            "Epoch 5 / 10, Step 30 / 5086, Loss: 5.2967\n",
            "Epoch 5 / 10, Step 40 / 5086, Loss: 1.2356\n"
          ]
        },
        {
          "output_type": "stream",
          "name": "stderr",
          "text": [
            "78it [00:00, 154.23it/s]"
          ]
        },
        {
          "output_type": "stream",
          "name": "stdout",
          "text": [
            "Epoch 5 / 10, Step 50 / 5086, Loss: 1.3687\n",
            "Epoch 5 / 10, Step 60 / 5086, Loss: 0.1349\n",
            "Epoch 5 / 10, Step 70 / 5086, Loss: 0.0011\n",
            "Epoch 5 / 10, Step 80 / 5086, Loss: 0.0006\n"
          ]
        },
        {
          "output_type": "stream",
          "name": "stderr",
          "text": [
            "111it [00:00, 157.40it/s]"
          ]
        },
        {
          "output_type": "stream",
          "name": "stdout",
          "text": [
            "Epoch 5 / 10, Step 90 / 5086, Loss: 0.4734\n",
            "Epoch 5 / 10, Step 100 / 5086, Loss: 0.1381\n",
            "Epoch 5 / 10, Step 110 / 5086, Loss: 7.2192\n",
            "Epoch 5 / 10, Step 120 / 5086, Loss: 5.4580\n"
          ]
        },
        {
          "output_type": "stream",
          "name": "stderr",
          "text": [
            "160it [00:01, 157.91it/s]"
          ]
        },
        {
          "output_type": "stream",
          "name": "stdout",
          "text": [
            "Epoch 5 / 10, Step 130 / 5086, Loss: 3.4132\n",
            "Epoch 5 / 10, Step 140 / 5086, Loss: 8.6518\n",
            "Epoch 5 / 10, Step 150 / 5086, Loss: 0.0014\n",
            "Epoch 5 / 10, Step 160 / 5086, Loss: 5.8441\n"
          ]
        },
        {
          "output_type": "stream",
          "name": "stderr",
          "text": [
            "192it [00:01, 154.13it/s]"
          ]
        },
        {
          "output_type": "stream",
          "name": "stdout",
          "text": [
            "Epoch 5 / 10, Step 170 / 5086, Loss: 1.3510\n",
            "Epoch 5 / 10, Step 180 / 5086, Loss: 2.2490\n",
            "Epoch 5 / 10, Step 190 / 5086, Loss: 0.0022\n",
            "Epoch 5 / 10, Step 200 / 5086, Loss: 1.9047\n"
          ]
        },
        {
          "output_type": "stream",
          "name": "stderr",
          "text": [
            "240it [00:01, 153.88it/s]"
          ]
        },
        {
          "output_type": "stream",
          "name": "stdout",
          "text": [
            "Epoch 5 / 10, Step 210 / 5086, Loss: 5.9964\n",
            "Epoch 5 / 10, Step 220 / 5086, Loss: 0.0107\n",
            "Epoch 5 / 10, Step 230 / 5086, Loss: 5.6497\n",
            "Epoch 5 / 10, Step 240 / 5086, Loss: 2.7255\n"
          ]
        },
        {
          "output_type": "stream",
          "name": "stderr",
          "text": [
            "272it [00:01, 153.55it/s]"
          ]
        },
        {
          "output_type": "stream",
          "name": "stdout",
          "text": [
            "Epoch 5 / 10, Step 250 / 5086, Loss: 2.4113\n",
            "Epoch 5 / 10, Step 260 / 5086, Loss: 1.8417\n",
            "Epoch 5 / 10, Step 270 / 5086, Loss: 2.9089\n",
            "Epoch 5 / 10, Step 280 / 5086, Loss: 13.9966\n"
          ]
        },
        {
          "output_type": "stream",
          "name": "stderr",
          "text": [
            "321it [00:02, 154.35it/s]"
          ]
        },
        {
          "output_type": "stream",
          "name": "stdout",
          "text": [
            "Epoch 5 / 10, Step 290 / 5086, Loss: 6.1314\n",
            "Epoch 5 / 10, Step 300 / 5086, Loss: 1.1219\n",
            "Epoch 5 / 10, Step 310 / 5086, Loss: 0.0137\n",
            "Epoch 5 / 10, Step 320 / 5086, Loss: 2.5642\n"
          ]
        },
        {
          "output_type": "stream",
          "name": "stderr",
          "text": [
            "353it [00:02, 154.72it/s]"
          ]
        },
        {
          "output_type": "stream",
          "name": "stdout",
          "text": [
            "Epoch 5 / 10, Step 330 / 5086, Loss: 4.6427\n",
            "Epoch 5 / 10, Step 340 / 5086, Loss: 0.2575\n",
            "Epoch 5 / 10, Step 350 / 5086, Loss: 1.6501\n",
            "Epoch 5 / 10, Step 360 / 5086, Loss: 1.9728\n"
          ]
        },
        {
          "output_type": "stream",
          "name": "stderr",
          "text": [
            "403it [00:02, 157.44it/s]"
          ]
        },
        {
          "output_type": "stream",
          "name": "stdout",
          "text": [
            "Epoch 5 / 10, Step 370 / 5086, Loss: 0.4817\n",
            "Epoch 5 / 10, Step 380 / 5086, Loss: 0.0225\n",
            "Epoch 5 / 10, Step 390 / 5086, Loss: 2.7745\n",
            "Epoch 5 / 10, Step 400 / 5086, Loss: 0.8452\n"
          ]
        },
        {
          "output_type": "stream",
          "name": "stderr",
          "text": [
            "436it [00:02, 159.89it/s]"
          ]
        },
        {
          "output_type": "stream",
          "name": "stdout",
          "text": [
            "Epoch 5 / 10, Step 410 / 5086, Loss: 0.0107\n",
            "Epoch 5 / 10, Step 420 / 5086, Loss: 7.7025\n",
            "Epoch 5 / 10, Step 430 / 5086, Loss: 0.7052\n",
            "Epoch 5 / 10, Step 440 / 5086, Loss: 1.0811\n"
          ]
        },
        {
          "output_type": "stream",
          "name": "stderr",
          "text": [
            "471it [00:03, 164.77it/s]"
          ]
        },
        {
          "output_type": "stream",
          "name": "stdout",
          "text": [
            "Epoch 5 / 10, Step 450 / 5086, Loss: 2.4709\n",
            "Epoch 5 / 10, Step 460 / 5086, Loss: 1.1964\n",
            "Epoch 5 / 10, Step 470 / 5086, Loss: 1.1746\n",
            "Epoch 5 / 10, Step 480 / 5086, Loss: 2.7965\n"
          ]
        },
        {
          "output_type": "stream",
          "name": "stderr",
          "text": [
            "522it [00:03, 160.17it/s]"
          ]
        },
        {
          "output_type": "stream",
          "name": "stdout",
          "text": [
            "Epoch 5 / 10, Step 490 / 5086, Loss: 0.1246\n",
            "Epoch 5 / 10, Step 500 / 5086, Loss: 0.8782\n",
            "Epoch 5 / 10, Step 510 / 5086, Loss: 0.0217\n",
            "Epoch 5 / 10, Step 520 / 5086, Loss: 0.0253\n"
          ]
        },
        {
          "output_type": "stream",
          "name": "stderr",
          "text": [
            "555it [00:03, 157.54it/s]"
          ]
        },
        {
          "output_type": "stream",
          "name": "stdout",
          "text": [
            "Epoch 5 / 10, Step 530 / 5086, Loss: 0.0096\n",
            "Epoch 5 / 10, Step 540 / 5086, Loss: 1.2124\n",
            "Epoch 5 / 10, Step 550 / 5086, Loss: 2.4180\n",
            "Epoch 5 / 10, Step 560 / 5086, Loss: 2.1247\n"
          ]
        },
        {
          "output_type": "stream",
          "name": "stderr",
          "text": [
            "587it [00:03, 154.88it/s]"
          ]
        },
        {
          "output_type": "stream",
          "name": "stdout",
          "text": [
            "Epoch 5 / 10, Step 570 / 5086, Loss: 1.1067\n",
            "Epoch 5 / 10, Step 580 / 5086, Loss: 2.7653\n",
            "Epoch 5 / 10, Step 590 / 5086, Loss: 4.1110\n"
          ]
        },
        {
          "output_type": "stream",
          "name": "stderr",
          "text": [
            "619it [00:04, 151.52it/s]"
          ]
        },
        {
          "output_type": "stream",
          "name": "stdout",
          "text": [
            "Epoch 5 / 10, Step 600 / 5086, Loss: 2.3139\n",
            "Epoch 5 / 10, Step 610 / 5086, Loss: 0.1088\n",
            "Epoch 5 / 10, Step 620 / 5086, Loss: 3.8688\n",
            "Epoch 5 / 10, Step 630 / 5086, Loss: 1.3180\n"
          ]
        },
        {
          "output_type": "stream",
          "name": "stderr",
          "text": [
            "668it [00:04, 152.97it/s]"
          ]
        },
        {
          "output_type": "stream",
          "name": "stdout",
          "text": [
            "Epoch 5 / 10, Step 640 / 5086, Loss: 6.0793\n",
            "Epoch 5 / 10, Step 650 / 5086, Loss: 1.8468\n",
            "Epoch 5 / 10, Step 660 / 5086, Loss: 0.0519\n",
            "Epoch 5 / 10, Step 670 / 5086, Loss: 3.1576\n"
          ]
        },
        {
          "output_type": "stream",
          "name": "stderr",
          "text": [
            "700it [00:04, 149.98it/s]"
          ]
        },
        {
          "output_type": "stream",
          "name": "stdout",
          "text": [
            "Epoch 5 / 10, Step 680 / 5086, Loss: 0.8269\n",
            "Epoch 5 / 10, Step 690 / 5086, Loss: 7.3734\n",
            "Epoch 5 / 10, Step 700 / 5086, Loss: 0.5804\n",
            "Epoch 5 / 10, Step 710 / 5086, Loss: 0.8103\n"
          ]
        },
        {
          "output_type": "stream",
          "name": "stderr",
          "text": [
            "747it [00:04, 151.53it/s]"
          ]
        },
        {
          "output_type": "stream",
          "name": "stdout",
          "text": [
            "Epoch 5 / 10, Step 720 / 5086, Loss: 1.3298\n",
            "Epoch 5 / 10, Step 730 / 5086, Loss: 5.6142\n",
            "Epoch 5 / 10, Step 740 / 5086, Loss: 6.3039\n",
            "Epoch 5 / 10, Step 750 / 5086, Loss: 0.0158\n"
          ]
        },
        {
          "output_type": "stream",
          "name": "stderr",
          "text": [
            "779it [00:05, 150.93it/s]"
          ]
        },
        {
          "output_type": "stream",
          "name": "stdout",
          "text": [
            "Epoch 5 / 10, Step 760 / 5086, Loss: 1.3457\n",
            "Epoch 5 / 10, Step 770 / 5086, Loss: 7.4822\n",
            "Epoch 5 / 10, Step 780 / 5086, Loss: 2.6448\n",
            "Epoch 5 / 10, Step 790 / 5086, Loss: 0.0041\n"
          ]
        },
        {
          "output_type": "stream",
          "name": "stderr",
          "text": [
            "828it [00:05, 155.05it/s]"
          ]
        },
        {
          "output_type": "stream",
          "name": "stdout",
          "text": [
            "Epoch 5 / 10, Step 800 / 5086, Loss: 13.6249\n",
            "Epoch 5 / 10, Step 810 / 5086, Loss: 5.8170\n",
            "Epoch 5 / 10, Step 820 / 5086, Loss: 2.5074\n",
            "Epoch 5 / 10, Step 830 / 5086, Loss: 25.8899\n"
          ]
        },
        {
          "output_type": "stream",
          "name": "stderr",
          "text": [
            "861it [00:05, 153.87it/s]"
          ]
        },
        {
          "output_type": "stream",
          "name": "stdout",
          "text": [
            "Epoch 5 / 10, Step 840 / 5086, Loss: 13.8957\n",
            "Epoch 5 / 10, Step 850 / 5086, Loss: 7.8246\n",
            "Epoch 5 / 10, Step 860 / 5086, Loss: 1.7065\n",
            "Epoch 5 / 10, Step 870 / 5086, Loss: 0.0088\n"
          ]
        },
        {
          "output_type": "stream",
          "name": "stderr",
          "text": [
            "909it [00:05, 147.84it/s]"
          ]
        },
        {
          "output_type": "stream",
          "name": "stdout",
          "text": [
            "Epoch 5 / 10, Step 880 / 5086, Loss: 0.8017\n",
            "Epoch 5 / 10, Step 890 / 5086, Loss: 2.3071\n",
            "Epoch 5 / 10, Step 900 / 5086, Loss: 3.6016\n"
          ]
        },
        {
          "output_type": "stream",
          "name": "stderr",
          "text": [
            "940it [00:06, 147.83it/s]"
          ]
        },
        {
          "output_type": "stream",
          "name": "stdout",
          "text": [
            "Epoch 5 / 10, Step 910 / 5086, Loss: 0.2082\n",
            "Epoch 5 / 10, Step 920 / 5086, Loss: 2.3698\n",
            "Epoch 5 / 10, Step 930 / 5086, Loss: 4.0506\n",
            "Epoch 5 / 10, Step 940 / 5086, Loss: 0.0023\n"
          ]
        },
        {
          "output_type": "stream",
          "name": "stderr",
          "text": [
            "971it [00:06, 149.64it/s]"
          ]
        },
        {
          "output_type": "stream",
          "name": "stdout",
          "text": [
            "Epoch 5 / 10, Step 950 / 5086, Loss: 1.1684\n",
            "Epoch 5 / 10, Step 960 / 5086, Loss: 13.4053\n",
            "Epoch 5 / 10, Step 970 / 5086, Loss: 0.4526\n",
            "Epoch 5 / 10, Step 980 / 5086, Loss: 6.6789\n"
          ]
        },
        {
          "output_type": "stream",
          "name": "stderr",
          "text": [
            "1018it [00:06, 147.51it/s]"
          ]
        },
        {
          "output_type": "stream",
          "name": "stdout",
          "text": [
            "Epoch 5 / 10, Step 990 / 5086, Loss: 0.4433\n",
            "Epoch 5 / 10, Step 1000 / 5086, Loss: 1.8545\n",
            "Epoch 5 / 10, Step 1010 / 5086, Loss: 0.0870\n"
          ]
        },
        {
          "output_type": "stream",
          "name": "stderr",
          "text": [
            "\r1033it [00:06, 128.68it/s]"
          ]
        },
        {
          "output_type": "stream",
          "name": "stdout",
          "text": [
            "Epoch 5 / 10, Step 1020 / 5086, Loss: 0.0403\n",
            "Epoch 5 / 10, Step 1030 / 5086, Loss: 1.8704\n",
            "Epoch 5 / 10, Step 1040 / 5086, Loss: 5.2347\n"
          ]
        },
        {
          "output_type": "stream",
          "name": "stderr",
          "text": [
            "1071it [00:07, 96.98it/s]"
          ]
        },
        {
          "output_type": "stream",
          "name": "stdout",
          "text": [
            "Epoch 5 / 10, Step 1050 / 5086, Loss: 2.1111\n",
            "Epoch 5 / 10, Step 1060 / 5086, Loss: 9.3343\n",
            "Epoch 5 / 10, Step 1070 / 5086, Loss: 4.0517\n"
          ]
        },
        {
          "output_type": "stream",
          "name": "stderr",
          "text": [
            "1092it [00:07, 82.33it/s]"
          ]
        },
        {
          "output_type": "stream",
          "name": "stdout",
          "text": [
            "Epoch 5 / 10, Step 1080 / 5086, Loss: 5.6936\n",
            "Epoch 5 / 10, Step 1090 / 5086, Loss: 0.0468\n"
          ]
        },
        {
          "output_type": "stream",
          "name": "stderr",
          "text": [
            "1112it [00:07, 86.45it/s]"
          ]
        },
        {
          "output_type": "stream",
          "name": "stdout",
          "text": [
            "Epoch 5 / 10, Step 1100 / 5086, Loss: 0.4408\n",
            "Epoch 5 / 10, Step 1110 / 5086, Loss: 2.2351\n",
            "Epoch 5 / 10, Step 1120 / 5086, Loss: 1.1252"
          ]
        },
        {
          "output_type": "stream",
          "name": "stderr",
          "text": [
            "1132it [00:08, 89.46it/s]"
          ]
        },
        {
          "output_type": "stream",
          "name": "stdout",
          "text": [
            "\n",
            "Epoch 5 / 10, Step 1130 / 5086, Loss: 4.3124\n"
          ]
        },
        {
          "output_type": "stream",
          "name": "stderr",
          "text": [
            "1151it [00:08, 82.54it/s]"
          ]
        },
        {
          "output_type": "stream",
          "name": "stdout",
          "text": [
            "Epoch 5 / 10, Step 1140 / 5086, Loss: 0.2452\n",
            "Epoch 5 / 10, Step 1150 / 5086, Loss: 0.6733\n"
          ]
        },
        {
          "output_type": "stream",
          "name": "stderr",
          "text": [
            "1169it [00:08, 77.83it/s]"
          ]
        },
        {
          "output_type": "stream",
          "name": "stdout",
          "text": [
            "Epoch 5 / 10, Step 1160 / 5086, Loss: 5.8545\n",
            "Epoch 5 / 10, Step 1170 / 5086, Loss: 1.3822\n"
          ]
        },
        {
          "output_type": "stream",
          "name": "stderr",
          "text": [
            "1192it [00:08, 67.81it/s]"
          ]
        },
        {
          "output_type": "stream",
          "name": "stdout",
          "text": [
            "Epoch 5 / 10, Step 1180 / 5086, Loss: 0.0068\n",
            "Epoch 5 / 10, Step 1190 / 5086, Loss: 2.2353\n"
          ]
        },
        {
          "output_type": "stream",
          "name": "stderr",
          "text": [
            "1211it [00:09, 72.45it/s]"
          ]
        },
        {
          "output_type": "stream",
          "name": "stdout",
          "text": [
            "Epoch 5 / 10, Step 1200 / 5086, Loss: 1.6987\n",
            "Epoch 5 / 10, Step 1210 / 5086, Loss: 8.3825\n"
          ]
        },
        {
          "output_type": "stream",
          "name": "stderr",
          "text": [
            "1226it [00:09, 56.10it/s]"
          ]
        },
        {
          "output_type": "stream",
          "name": "stdout",
          "text": [
            "Epoch 5 / 10, Step 1220 / 5086, Loss: 1.0474\n",
            "Epoch 5 / 10, Step 1230 / 5086, Loss: 26.0699\n"
          ]
        },
        {
          "output_type": "stream",
          "name": "stderr",
          "text": [
            "1250it [00:09, 67.13it/s]"
          ]
        },
        {
          "output_type": "stream",
          "name": "stdout",
          "text": [
            "Epoch 5 / 10, Step 1240 / 5086, Loss: 4.1796\n",
            "Epoch 5 / 10, Step 1250 / 5086, Loss: 10.4094\n"
          ]
        },
        {
          "output_type": "stream",
          "name": "stderr",
          "text": [
            "1266it [00:10, 60.97it/s]"
          ]
        },
        {
          "output_type": "stream",
          "name": "stdout",
          "text": [
            "Epoch 5 / 10, Step 1260 / 5086, Loss: 1.6997\n",
            "Epoch 5 / 10, Step 1270 / 5086, Loss: 6.0252\n"
          ]
        },
        {
          "output_type": "stream",
          "name": "stderr",
          "text": [
            "1288it [00:10, 64.26it/s]"
          ]
        },
        {
          "output_type": "stream",
          "name": "stdout",
          "text": [
            "Epoch 5 / 10, Step 1280 / 5086, Loss: 0.1812\n",
            "Epoch 5 / 10, Step 1290 / 5086, Loss: 0.2124\n"
          ]
        },
        {
          "output_type": "stream",
          "name": "stderr",
          "text": [
            "1312it [00:10, 68.99it/s]"
          ]
        },
        {
          "output_type": "stream",
          "name": "stdout",
          "text": [
            "Epoch 5 / 10, Step 1300 / 5086, Loss: 0.6722\n",
            "Epoch 5 / 10, Step 1310 / 5086, Loss: 0.0101\n"
          ]
        },
        {
          "output_type": "stream",
          "name": "stderr",
          "text": [
            "1330it [00:11, 75.56it/s]"
          ]
        },
        {
          "output_type": "stream",
          "name": "stdout",
          "text": [
            "Epoch 5 / 10, Step 1320 / 5086, Loss: 2.2658\n",
            "Epoch 5 / 10, Step 1330 / 5086, Loss: 1.2020\n"
          ]
        },
        {
          "output_type": "stream",
          "name": "stderr",
          "text": [
            "1356it [00:11, 80.17it/s]"
          ]
        },
        {
          "output_type": "stream",
          "name": "stdout",
          "text": [
            "Epoch 5 / 10, Step 1340 / 5086, Loss: 5.4191\n",
            "Epoch 5 / 10, Step 1350 / 5086, Loss: 3.4266\n"
          ]
        },
        {
          "output_type": "stream",
          "name": "stderr",
          "text": [
            "\r1365it [00:11, 77.11it/s]"
          ]
        },
        {
          "output_type": "stream",
          "name": "stdout",
          "text": [
            "Epoch 5 / 10, Step 1360 / 5086, Loss: 0.0604\n",
            "Epoch 5 / 10, Step 1370 / 5086, Loss: 3.7673\n"
          ]
        },
        {
          "output_type": "stream",
          "name": "stderr",
          "text": [
            "1386it [00:12, 53.31it/s]"
          ]
        },
        {
          "output_type": "stream",
          "name": "stdout",
          "text": [
            "Epoch 5 / 10, Step 1380 / 5086, Loss: 11.3035\n",
            "Epoch 5 / 10, Step 1390 / 5086, Loss: 0.5163\n"
          ]
        },
        {
          "output_type": "stream",
          "name": "stderr",
          "text": [
            "1409it [00:12, 60.86it/s]"
          ]
        },
        {
          "output_type": "stream",
          "name": "stdout",
          "text": [
            "Epoch 5 / 10, Step 1400 / 5086, Loss: 0.0602\n",
            "Epoch 5 / 10, Step 1410 / 5086, Loss: 20.4045\n"
          ]
        },
        {
          "output_type": "stream",
          "name": "stderr",
          "text": [
            "1434it [00:12, 74.47it/s]"
          ]
        },
        {
          "output_type": "stream",
          "name": "stdout",
          "text": [
            "Epoch 5 / 10, Step 1420 / 5086, Loss: 2.0869\n",
            "Epoch 5 / 10, Step 1430 / 5086, Loss: 1.9301\n"
          ]
        },
        {
          "output_type": "stream",
          "name": "stderr",
          "text": [
            "1450it [00:12, 63.08it/s]"
          ]
        },
        {
          "output_type": "stream",
          "name": "stdout",
          "text": [
            "Epoch 5 / 10, Step 1440 / 5086, Loss: 0.8646\n",
            "Epoch 5 / 10, Step 1450 / 5086, Loss: 11.4896\n"
          ]
        },
        {
          "output_type": "stream",
          "name": "stderr",
          "text": [
            "1476it [00:13, 73.31it/s]"
          ]
        },
        {
          "output_type": "stream",
          "name": "stdout",
          "text": [
            "Epoch 5 / 10, Step 1460 / 5086, Loss: 2.1699\n",
            "Epoch 5 / 10, Step 1470 / 5086, Loss: 1.3215\n"
          ]
        },
        {
          "output_type": "stream",
          "name": "stderr",
          "text": [
            "1493it [00:13, 76.70it/s]"
          ]
        },
        {
          "output_type": "stream",
          "name": "stdout",
          "text": [
            "Epoch 5 / 10, Step 1480 / 5086, Loss: 0.0026\n",
            "Epoch 5 / 10, Step 1490 / 5086, Loss: 0.1780\n"
          ]
        },
        {
          "output_type": "stream",
          "name": "stderr",
          "text": [
            "\r1501it [00:13, 72.09it/s]"
          ]
        },
        {
          "output_type": "stream",
          "name": "stdout",
          "text": [
            "Epoch 5 / 10, Step 1500 / 5086, Loss: 6.5687\n"
          ]
        },
        {
          "output_type": "stream",
          "name": "stderr",
          "text": [
            "1516it [00:14, 46.14it/s]"
          ]
        },
        {
          "output_type": "stream",
          "name": "stdout",
          "text": [
            "Epoch 5 / 10, Step 1510 / 5086, Loss: 0.0023\n"
          ]
        },
        {
          "output_type": "stream",
          "name": "stderr",
          "text": [
            "1527it [00:14, 42.87it/s]"
          ]
        },
        {
          "output_type": "stream",
          "name": "stdout",
          "text": [
            "Epoch 5 / 10, Step 1520 / 5086, Loss: 0.1457\n"
          ]
        },
        {
          "output_type": "stream",
          "name": "stderr",
          "text": [
            "1542it [00:14, 56.35it/s]"
          ]
        },
        {
          "output_type": "stream",
          "name": "stdout",
          "text": [
            "Epoch 5 / 10, Step 1530 / 5086, Loss: 0.9155\n",
            "Epoch 5 / 10, Step 1540 / 5086, Loss: 0.0385\n"
          ]
        },
        {
          "output_type": "stream",
          "name": "stderr",
          "text": [
            "1565it [00:15, 60.06it/s]"
          ]
        },
        {
          "output_type": "stream",
          "name": "stdout",
          "text": [
            "Epoch 5 / 10, Step 1550 / 5086, Loss: 0.0009\n",
            "Epoch 5 / 10, Step 1560 / 5086, Loss: 0.1155\n"
          ]
        },
        {
          "output_type": "stream",
          "name": "stderr",
          "text": [
            "\r1572it [00:15, 51.02it/s]"
          ]
        },
        {
          "output_type": "stream",
          "name": "stdout",
          "text": [
            "Epoch 5 / 10, Step 1570 / 5086, Loss: 6.0799\n"
          ]
        },
        {
          "output_type": "stream",
          "name": "stderr",
          "text": [
            "1598it [00:15, 68.11it/s]"
          ]
        },
        {
          "output_type": "stream",
          "name": "stdout",
          "text": [
            "Epoch 5 / 10, Step 1580 / 5086, Loss: 0.0121\n",
            "Epoch 5 / 10, Step 1590 / 5086, Loss: 0.8551\n",
            "Epoch 5 / 10, Step 1600 / 5086, Loss: 2.7493\n"
          ]
        },
        {
          "output_type": "stream",
          "name": "stderr",
          "text": [
            "1628it [00:15, 103.81it/s]"
          ]
        },
        {
          "output_type": "stream",
          "name": "stdout",
          "text": [
            "Epoch 5 / 10, Step 1610 / 5086, Loss: 1.3293\n",
            "Epoch 5 / 10, Step 1620 / 5086, Loss: 0.0080\n",
            "Epoch 5 / 10, Step 1630 / 5086, Loss: 0.0000\n",
            "Epoch 5 / 10, Step 1640 / 5086, Loss: 1.6001\n"
          ]
        },
        {
          "output_type": "stream",
          "name": "stderr",
          "text": [
            "1678it [00:16, 141.43it/s]"
          ]
        },
        {
          "output_type": "stream",
          "name": "stdout",
          "text": [
            "Epoch 5 / 10, Step 1650 / 5086, Loss: 0.0194\n",
            "Epoch 5 / 10, Step 1660 / 5086, Loss: 1.2154\n",
            "Epoch 5 / 10, Step 1670 / 5086, Loss: 1.2984\n",
            "Epoch 5 / 10, Step 1680 / 5086, Loss: 0.0004\n"
          ]
        },
        {
          "output_type": "stream",
          "name": "stderr",
          "text": [
            "1712it [00:16, 153.21it/s]"
          ]
        },
        {
          "output_type": "stream",
          "name": "stdout",
          "text": [
            "Epoch 5 / 10, Step 1690 / 5086, Loss: 2.2068\n",
            "Epoch 5 / 10, Step 1700 / 5086, Loss: 0.5080\n",
            "Epoch 5 / 10, Step 1710 / 5086, Loss: 0.0183\n",
            "Epoch 5 / 10, Step 1720 / 5086, Loss: 0.1331\n"
          ]
        },
        {
          "output_type": "stream",
          "name": "stderr",
          "text": [
            "1762it [00:16, 156.27it/s]"
          ]
        },
        {
          "output_type": "stream",
          "name": "stdout",
          "text": [
            "Epoch 5 / 10, Step 1730 / 5086, Loss: 1.2602\n",
            "Epoch 5 / 10, Step 1740 / 5086, Loss: 0.1786\n",
            "Epoch 5 / 10, Step 1750 / 5086, Loss: 1.8524\n",
            "Epoch 5 / 10, Step 1760 / 5086, Loss: 2.5502\n"
          ]
        },
        {
          "output_type": "stream",
          "name": "stderr",
          "text": [
            "1794it [00:16, 152.63it/s]"
          ]
        },
        {
          "output_type": "stream",
          "name": "stdout",
          "text": [
            "Epoch 5 / 10, Step 1770 / 5086, Loss: 1.9465\n",
            "Epoch 5 / 10, Step 1780 / 5086, Loss: 1.6103\n",
            "Epoch 5 / 10, Step 1790 / 5086, Loss: 1.5202\n",
            "Epoch 5 / 10, Step 1800 / 5086, Loss: 0.0787\n"
          ]
        },
        {
          "output_type": "stream",
          "name": "stderr",
          "text": [
            "1826it [00:17, 154.23it/s]"
          ]
        },
        {
          "output_type": "stream",
          "name": "stdout",
          "text": [
            "Epoch 5 / 10, Step 1810 / 5086, Loss: 3.4951\n",
            "Epoch 5 / 10, Step 1820 / 5086, Loss: 1.8092\n",
            "Epoch 5 / 10, Step 1830 / 5086, Loss: 1.3762\n",
            "Epoch 5 / 10, Step 1840 / 5086, Loss: 4.7794\n"
          ]
        },
        {
          "output_type": "stream",
          "name": "stderr",
          "text": [
            "1877it [00:17, 158.45it/s]"
          ]
        },
        {
          "output_type": "stream",
          "name": "stdout",
          "text": [
            "Epoch 5 / 10, Step 1850 / 5086, Loss: 0.0647\n",
            "Epoch 5 / 10, Step 1860 / 5086, Loss: 2.1532\n",
            "Epoch 5 / 10, Step 1870 / 5086, Loss: 3.8986\n",
            "Epoch 5 / 10, Step 1880 / 5086, Loss: 1.6105\n"
          ]
        },
        {
          "output_type": "stream",
          "name": "stderr",
          "text": [
            "1909it [00:17, 157.38it/s]"
          ]
        },
        {
          "output_type": "stream",
          "name": "stdout",
          "text": [
            "Epoch 5 / 10, Step 1890 / 5086, Loss: 1.5571\n",
            "Epoch 5 / 10, Step 1900 / 5086, Loss: 4.9249\n",
            "Epoch 5 / 10, Step 1910 / 5086, Loss: 0.5891\n",
            "Epoch 5 / 10, Step 1920 / 5086, Loss: 6.4337\n"
          ]
        },
        {
          "output_type": "stream",
          "name": "stderr",
          "text": [
            "1960it [00:17, 155.98it/s]"
          ]
        },
        {
          "output_type": "stream",
          "name": "stdout",
          "text": [
            "Epoch 5 / 10, Step 1930 / 5086, Loss: 0.0622\n",
            "Epoch 5 / 10, Step 1940 / 5086, Loss: 0.0384\n",
            "Epoch 5 / 10, Step 1950 / 5086, Loss: 4.7565\n",
            "Epoch 5 / 10, Step 1960 / 5086, Loss: 2.7913\n"
          ]
        },
        {
          "output_type": "stream",
          "name": "stderr",
          "text": [
            "1993it [00:18, 158.55it/s]"
          ]
        },
        {
          "output_type": "stream",
          "name": "stdout",
          "text": [
            "Epoch 5 / 10, Step 1970 / 5086, Loss: 0.0100\n",
            "Epoch 5 / 10, Step 1980 / 5086, Loss: 0.1914\n",
            "Epoch 5 / 10, Step 1990 / 5086, Loss: 0.2834\n",
            "Epoch 5 / 10, Step 2000 / 5086, Loss: 0.1839\n"
          ]
        },
        {
          "output_type": "stream",
          "name": "stderr",
          "text": [
            "2042it [00:18, 160.01it/s]"
          ]
        },
        {
          "output_type": "stream",
          "name": "stdout",
          "text": [
            "Epoch 5 / 10, Step 2010 / 5086, Loss: 1.8729\n",
            "Epoch 5 / 10, Step 2020 / 5086, Loss: 2.3911\n",
            "Epoch 5 / 10, Step 2030 / 5086, Loss: 1.8127\n",
            "Epoch 5 / 10, Step 2040 / 5086, Loss: 2.6074\n"
          ]
        },
        {
          "output_type": "stream",
          "name": "stderr",
          "text": [
            "2076it [00:18, 160.47it/s]"
          ]
        },
        {
          "output_type": "stream",
          "name": "stdout",
          "text": [
            "Epoch 5 / 10, Step 2050 / 5086, Loss: 3.1364\n",
            "Epoch 5 / 10, Step 2060 / 5086, Loss: 3.0628\n",
            "Epoch 5 / 10, Step 2070 / 5086, Loss: 22.9242\n",
            "Epoch 5 / 10, Step 2080 / 5086, Loss: 5.9413\n"
          ]
        },
        {
          "output_type": "stream",
          "name": "stderr",
          "text": [
            "2111it [00:18, 163.14it/s]"
          ]
        },
        {
          "output_type": "stream",
          "name": "stdout",
          "text": [
            "Epoch 5 / 10, Step 2090 / 5086, Loss: 0.5856\n",
            "Epoch 5 / 10, Step 2100 / 5086, Loss: 2.0113\n",
            "Epoch 5 / 10, Step 2110 / 5086, Loss: 10.5735\n",
            "Epoch 5 / 10, Step 2120 / 5086, Loss: 6.3700\n"
          ]
        },
        {
          "output_type": "stream",
          "name": "stderr",
          "text": [
            "2163it [00:19, 165.87it/s]"
          ]
        },
        {
          "output_type": "stream",
          "name": "stdout",
          "text": [
            "Epoch 5 / 10, Step 2130 / 5086, Loss: 5.2121\n",
            "Epoch 5 / 10, Step 2140 / 5086, Loss: 2.2165\n",
            "Epoch 5 / 10, Step 2150 / 5086, Loss: 0.2384\n",
            "Epoch 5 / 10, Step 2160 / 5086, Loss: 14.4107\n"
          ]
        },
        {
          "output_type": "stream",
          "name": "stderr",
          "text": [
            "2197it [00:19, 165.67it/s]"
          ]
        },
        {
          "output_type": "stream",
          "name": "stdout",
          "text": [
            "Epoch 5 / 10, Step 2170 / 5086, Loss: 0.5432\n",
            "Epoch 5 / 10, Step 2180 / 5086, Loss: 1.3564\n",
            "Epoch 5 / 10, Step 2190 / 5086, Loss: 12.2171\n",
            "Epoch 5 / 10, Step 2200 / 5086, Loss: 10.4002\n"
          ]
        },
        {
          "output_type": "stream",
          "name": "stderr",
          "text": [
            "2231it [00:19, 161.31it/s]"
          ]
        },
        {
          "output_type": "stream",
          "name": "stdout",
          "text": [
            "Epoch 5 / 10, Step 2210 / 5086, Loss: 3.8440\n",
            "Epoch 5 / 10, Step 2220 / 5086, Loss: 0.0000\n",
            "Epoch 5 / 10, Step 2230 / 5086, Loss: 2.7956\n",
            "Epoch 5 / 10, Step 2240 / 5086, Loss: 0.0047\n"
          ]
        },
        {
          "output_type": "stream",
          "name": "stderr",
          "text": [
            "2280it [00:19, 155.95it/s]"
          ]
        },
        {
          "output_type": "stream",
          "name": "stdout",
          "text": [
            "Epoch 5 / 10, Step 2250 / 5086, Loss: 0.0009\n",
            "Epoch 5 / 10, Step 2260 / 5086, Loss: 0.3788\n",
            "Epoch 5 / 10, Step 2270 / 5086, Loss: 2.7997\n",
            "Epoch 5 / 10, Step 2280 / 5086, Loss: 3.5629\n"
          ]
        },
        {
          "output_type": "stream",
          "name": "stderr",
          "text": [
            "2312it [00:20, 152.72it/s]"
          ]
        },
        {
          "output_type": "stream",
          "name": "stdout",
          "text": [
            "Epoch 5 / 10, Step 2290 / 5086, Loss: 0.2841\n",
            "Epoch 5 / 10, Step 2300 / 5086, Loss: 0.0037\n",
            "Epoch 5 / 10, Step 2310 / 5086, Loss: 0.0065\n",
            "Epoch 5 / 10, Step 2320 / 5086, Loss: 0.0200\n"
          ]
        },
        {
          "output_type": "stream",
          "name": "stderr",
          "text": [
            "2360it [00:20, 154.19it/s]"
          ]
        },
        {
          "output_type": "stream",
          "name": "stdout",
          "text": [
            "Epoch 5 / 10, Step 2330 / 5086, Loss: 6.3578\n",
            "Epoch 5 / 10, Step 2340 / 5086, Loss: 0.5878\n",
            "Epoch 5 / 10, Step 2350 / 5086, Loss: 2.8313\n",
            "Epoch 5 / 10, Step 2360 / 5086, Loss: 6.0418\n"
          ]
        },
        {
          "output_type": "stream",
          "name": "stderr",
          "text": [
            "2392it [00:20, 150.43it/s]"
          ]
        },
        {
          "output_type": "stream",
          "name": "stdout",
          "text": [
            "Epoch 5 / 10, Step 2370 / 5086, Loss: 4.9835\n",
            "Epoch 5 / 10, Step 2380 / 5086, Loss: 9.3170\n",
            "Epoch 5 / 10, Step 2390 / 5086, Loss: 0.2477\n",
            "Epoch 5 / 10, Step 2400 / 5086, Loss: 1.2532\n"
          ]
        },
        {
          "output_type": "stream",
          "name": "stderr",
          "text": [
            "2440it [00:20, 149.47it/s]"
          ]
        },
        {
          "output_type": "stream",
          "name": "stdout",
          "text": [
            "Epoch 5 / 10, Step 2410 / 5086, Loss: 1.0056\n",
            "Epoch 5 / 10, Step 2420 / 5086, Loss: 1.7797\n",
            "Epoch 5 / 10, Step 2430 / 5086, Loss: 0.3716\n",
            "Epoch 5 / 10, Step 2440 / 5086, Loss: 1.5711\n"
          ]
        },
        {
          "output_type": "stream",
          "name": "stderr",
          "text": [
            "2473it [00:21, 154.30it/s]"
          ]
        },
        {
          "output_type": "stream",
          "name": "stdout",
          "text": [
            "Epoch 5 / 10, Step 2450 / 5086, Loss: 0.1833\n",
            "Epoch 5 / 10, Step 2460 / 5086, Loss: 6.0316\n",
            "Epoch 5 / 10, Step 2470 / 5086, Loss: 3.0884\n",
            "Epoch 5 / 10, Step 2480 / 5086, Loss: 0.8896\n"
          ]
        },
        {
          "output_type": "stream",
          "name": "stderr",
          "text": [
            "2525it [00:21, 162.56it/s]"
          ]
        },
        {
          "output_type": "stream",
          "name": "stdout",
          "text": [
            "Epoch 5 / 10, Step 2490 / 5086, Loss: 0.0001\n",
            "Epoch 5 / 10, Step 2500 / 5086, Loss: 18.4864\n",
            "Epoch 5 / 10, Step 2510 / 5086, Loss: 7.1760\n",
            "Epoch 5 / 10, Step 2520 / 5086, Loss: 2.3791\n"
          ]
        },
        {
          "output_type": "stream",
          "name": "stderr",
          "text": [
            "2559it [00:21, 157.85it/s]"
          ]
        },
        {
          "output_type": "stream",
          "name": "stdout",
          "text": [
            "Epoch 5 / 10, Step 2530 / 5086, Loss: 0.0001\n",
            "Epoch 5 / 10, Step 2540 / 5086, Loss: 1.2398\n",
            "Epoch 5 / 10, Step 2550 / 5086, Loss: 6.5437\n",
            "Epoch 5 / 10, Step 2560 / 5086, Loss: 0.0222\n"
          ]
        },
        {
          "output_type": "stream",
          "name": "stderr",
          "text": [
            "2591it [00:21, 152.47it/s]"
          ]
        },
        {
          "output_type": "stream",
          "name": "stdout",
          "text": [
            "Epoch 5 / 10, Step 2570 / 5086, Loss: 0.0206\n",
            "Epoch 5 / 10, Step 2580 / 5086, Loss: 2.9679\n",
            "Epoch 5 / 10, Step 2590 / 5086, Loss: 0.2364\n"
          ]
        },
        {
          "output_type": "stream",
          "name": "stderr",
          "text": [
            "2624it [00:22, 152.60it/s]"
          ]
        },
        {
          "output_type": "stream",
          "name": "stdout",
          "text": [
            "Epoch 5 / 10, Step 2600 / 5086, Loss: 5.3849\n",
            "Epoch 5 / 10, Step 2610 / 5086, Loss: 7.1900\n",
            "Epoch 5 / 10, Step 2620 / 5086, Loss: 0.1228\n",
            "Epoch 5 / 10, Step 2630 / 5086, Loss: 3.4950\n"
          ]
        },
        {
          "output_type": "stream",
          "name": "stderr",
          "text": [
            "2656it [00:22, 151.88it/s]"
          ]
        },
        {
          "output_type": "stream",
          "name": "stdout",
          "text": [
            "Epoch 5 / 10, Step 2640 / 5086, Loss: 0.8450\n",
            "Epoch 5 / 10, Step 2650 / 5086, Loss: 4.8615\n",
            "Epoch 5 / 10, Step 2660 / 5086, Loss: 1.8273\n",
            "Epoch 5 / 10, Step 2670 / 5086, Loss: 1.1352\n"
          ]
        },
        {
          "output_type": "stream",
          "name": "stderr",
          "text": [
            "2706it [00:22, 157.74it/s]"
          ]
        },
        {
          "output_type": "stream",
          "name": "stdout",
          "text": [
            "Epoch 5 / 10, Step 2680 / 5086, Loss: 2.1667\n",
            "Epoch 5 / 10, Step 2690 / 5086, Loss: 6.2204\n",
            "Epoch 5 / 10, Step 2700 / 5086, Loss: 0.2443\n",
            "Epoch 5 / 10, Step 2710 / 5086, Loss: 8.1911\n"
          ]
        },
        {
          "output_type": "stream",
          "name": "stderr",
          "text": [
            "2739it [00:22, 157.20it/s]"
          ]
        },
        {
          "output_type": "stream",
          "name": "stdout",
          "text": [
            "Epoch 5 / 10, Step 2720 / 5086, Loss: 0.0403\n",
            "Epoch 5 / 10, Step 2730 / 5086, Loss: 0.0849\n",
            "Epoch 5 / 10, Step 2740 / 5086, Loss: 0.0001\n",
            "Epoch 5 / 10, Step 2750 / 5086, Loss: 4.9482\n"
          ]
        },
        {
          "output_type": "stream",
          "name": "stderr",
          "text": [
            "2788it [00:23, 155.63it/s]"
          ]
        },
        {
          "output_type": "stream",
          "name": "stdout",
          "text": [
            "Epoch 5 / 10, Step 2760 / 5086, Loss: 0.0285\n",
            "Epoch 5 / 10, Step 2770 / 5086, Loss: 2.6385\n",
            "Epoch 5 / 10, Step 2780 / 5086, Loss: 3.1122\n",
            "Epoch 5 / 10, Step 2790 / 5086, Loss: 1.3529\n"
          ]
        },
        {
          "output_type": "stream",
          "name": "stderr",
          "text": [
            "2821it [00:23, 154.64it/s]"
          ]
        },
        {
          "output_type": "stream",
          "name": "stdout",
          "text": [
            "Epoch 5 / 10, Step 2800 / 5086, Loss: 7.4821\n",
            "Epoch 5 / 10, Step 2810 / 5086, Loss: 0.0018\n",
            "Epoch 5 / 10, Step 2820 / 5086, Loss: 0.2304\n",
            "Epoch 5 / 10, Step 2830 / 5086, Loss: 0.0313\n"
          ]
        },
        {
          "output_type": "stream",
          "name": "stderr",
          "text": [
            "2870it [00:23, 156.66it/s]"
          ]
        },
        {
          "output_type": "stream",
          "name": "stdout",
          "text": [
            "Epoch 5 / 10, Step 2840 / 5086, Loss: 2.6989\n",
            "Epoch 5 / 10, Step 2850 / 5086, Loss: 3.5087\n",
            "Epoch 5 / 10, Step 2860 / 5086, Loss: 0.8031\n",
            "Epoch 5 / 10, Step 2870 / 5086, Loss: 5.3539\n"
          ]
        },
        {
          "output_type": "stream",
          "name": "stderr",
          "text": [
            "2903it [00:23, 159.60it/s]"
          ]
        },
        {
          "output_type": "stream",
          "name": "stdout",
          "text": [
            "Epoch 5 / 10, Step 2880 / 5086, Loss: 4.2854\n",
            "Epoch 5 / 10, Step 2890 / 5086, Loss: 10.4284\n",
            "Epoch 5 / 10, Step 2900 / 5086, Loss: 6.5457\n",
            "Epoch 5 / 10, Step 2910 / 5086, Loss: 2.9258\n"
          ]
        },
        {
          "output_type": "stream",
          "name": "stderr",
          "text": [
            "2955it [00:24, 165.19it/s]"
          ]
        },
        {
          "output_type": "stream",
          "name": "stdout",
          "text": [
            "Epoch 5 / 10, Step 2920 / 5086, Loss: 3.0519\n",
            "Epoch 5 / 10, Step 2930 / 5086, Loss: 0.0349\n",
            "Epoch 5 / 10, Step 2940 / 5086, Loss: 1.9453\n",
            "Epoch 5 / 10, Step 2950 / 5086, Loss: 4.9670\n"
          ]
        },
        {
          "output_type": "stream",
          "name": "stderr",
          "text": [
            "2990it [00:24, 167.79it/s]"
          ]
        },
        {
          "output_type": "stream",
          "name": "stdout",
          "text": [
            "Epoch 5 / 10, Step 2960 / 5086, Loss: 3.9141\n",
            "Epoch 5 / 10, Step 2970 / 5086, Loss: 0.0020\n",
            "Epoch 5 / 10, Step 2980 / 5086, Loss: 0.1607\n",
            "Epoch 5 / 10, Step 2990 / 5086, Loss: 0.0205\n"
          ]
        },
        {
          "output_type": "stream",
          "name": "stderr",
          "text": [
            "3025it [00:24, 168.07it/s]"
          ]
        },
        {
          "output_type": "stream",
          "name": "stdout",
          "text": [
            "Epoch 5 / 10, Step 3000 / 5086, Loss: 1.8109\n",
            "Epoch 5 / 10, Step 3010 / 5086, Loss: 2.4343\n",
            "Epoch 5 / 10, Step 3020 / 5086, Loss: 1.0073\n",
            "Epoch 5 / 10, Step 3030 / 5086, Loss: 6.2305\n"
          ]
        },
        {
          "output_type": "stream",
          "name": "stderr",
          "text": [
            "3059it [00:24, 162.49it/s]"
          ]
        },
        {
          "output_type": "stream",
          "name": "stdout",
          "text": [
            "Epoch 5 / 10, Step 3040 / 5086, Loss: 1.3676\n",
            "Epoch 5 / 10, Step 3050 / 5086, Loss: 3.7427\n",
            "Epoch 5 / 10, Step 3060 / 5086, Loss: 4.1890\n",
            "Epoch 5 / 10, Step 3070 / 5086, Loss: 1.9940\n"
          ]
        },
        {
          "output_type": "stream",
          "name": "stderr",
          "text": [
            "3111it [00:25, 163.29it/s]"
          ]
        },
        {
          "output_type": "stream",
          "name": "stdout",
          "text": [
            "Epoch 5 / 10, Step 3080 / 5086, Loss: 1.0262\n",
            "Epoch 5 / 10, Step 3090 / 5086, Loss: 0.0043\n",
            "Epoch 5 / 10, Step 3100 / 5086, Loss: 0.0119\n",
            "Epoch 5 / 10, Step 3110 / 5086, Loss: 1.5922\n"
          ]
        },
        {
          "output_type": "stream",
          "name": "stderr",
          "text": [
            "3145it [00:25, 160.28it/s]"
          ]
        },
        {
          "output_type": "stream",
          "name": "stdout",
          "text": [
            "Epoch 5 / 10, Step 3120 / 5086, Loss: 2.0887\n",
            "Epoch 5 / 10, Step 3130 / 5086, Loss: 1.1057\n",
            "Epoch 5 / 10, Step 3140 / 5086, Loss: 2.0867\n",
            "Epoch 5 / 10, Step 3150 / 5086, Loss: 1.7045\n"
          ]
        },
        {
          "output_type": "stream",
          "name": "stderr",
          "text": [
            "3179it [00:25, 159.39it/s]"
          ]
        },
        {
          "output_type": "stream",
          "name": "stdout",
          "text": [
            "Epoch 5 / 10, Step 3160 / 5086, Loss: 7.3714\n",
            "Epoch 5 / 10, Step 3170 / 5086, Loss: 4.3306\n",
            "Epoch 5 / 10, Step 3180 / 5086, Loss: 2.5674\n",
            "Epoch 5 / 10, Step 3190 / 5086, Loss: 1.9063\n"
          ]
        },
        {
          "output_type": "stream",
          "name": "stderr",
          "text": [
            "3228it [00:25, 158.90it/s]"
          ]
        },
        {
          "output_type": "stream",
          "name": "stdout",
          "text": [
            "Epoch 5 / 10, Step 3200 / 5086, Loss: 6.4697\n",
            "Epoch 5 / 10, Step 3210 / 5086, Loss: 0.1044\n",
            "Epoch 5 / 10, Step 3220 / 5086, Loss: 0.6668\n",
            "Epoch 5 / 10, Step 3230 / 5086, Loss: 2.4062\n"
          ]
        },
        {
          "output_type": "stream",
          "name": "stderr",
          "text": [
            "3260it [00:26, 151.49it/s]"
          ]
        },
        {
          "output_type": "stream",
          "name": "stdout",
          "text": [
            "Epoch 5 / 10, Step 3240 / 5086, Loss: 2.5164\n",
            "Epoch 5 / 10, Step 3250 / 5086, Loss: 0.6054\n",
            "Epoch 5 / 10, Step 3260 / 5086, Loss: 1.6484\n",
            "Epoch 5 / 10, Step 3270 / 5086, Loss: 0.0092\n"
          ]
        },
        {
          "output_type": "stream",
          "name": "stderr",
          "text": [
            "3311it [00:26, 159.85it/s]"
          ]
        },
        {
          "output_type": "stream",
          "name": "stdout",
          "text": [
            "Epoch 5 / 10, Step 3280 / 5086, Loss: 0.0056\n",
            "Epoch 5 / 10, Step 3290 / 5086, Loss: 0.5596\n",
            "Epoch 5 / 10, Step 3300 / 5086, Loss: 0.0036\n",
            "Epoch 5 / 10, Step 3310 / 5086, Loss: 8.3503\n"
          ]
        },
        {
          "output_type": "stream",
          "name": "stderr",
          "text": [
            "3345it [00:26, 159.94it/s]"
          ]
        },
        {
          "output_type": "stream",
          "name": "stdout",
          "text": [
            "Epoch 5 / 10, Step 3320 / 5086, Loss: 5.9774\n",
            "Epoch 5 / 10, Step 3330 / 5086, Loss: 6.1551\n",
            "Epoch 5 / 10, Step 3340 / 5086, Loss: 3.1436\n",
            "Epoch 5 / 10, Step 3350 / 5086, Loss: 2.0039\n"
          ]
        },
        {
          "output_type": "stream",
          "name": "stderr",
          "text": [
            "3380it [00:26, 162.64it/s]"
          ]
        },
        {
          "output_type": "stream",
          "name": "stdout",
          "text": [
            "Epoch 5 / 10, Step 3360 / 5086, Loss: 8.5937\n",
            "Epoch 5 / 10, Step 3370 / 5086, Loss: 2.8004\n",
            "Epoch 5 / 10, Step 3380 / 5086, Loss: 0.0078\n",
            "Epoch 5 / 10, Step 3390 / 5086, Loss: 2.7858\n"
          ]
        },
        {
          "output_type": "stream",
          "name": "stderr",
          "text": [
            "3431it [00:27, 159.55it/s]"
          ]
        },
        {
          "output_type": "stream",
          "name": "stdout",
          "text": [
            "Epoch 5 / 10, Step 3400 / 5086, Loss: 3.8209\n",
            "Epoch 5 / 10, Step 3410 / 5086, Loss: 2.0739\n",
            "Epoch 5 / 10, Step 3420 / 5086, Loss: 0.3572\n",
            "Epoch 5 / 10, Step 3430 / 5086, Loss: 0.0415\n"
          ]
        },
        {
          "output_type": "stream",
          "name": "stderr",
          "text": [
            "3465it [00:27, 162.80it/s]"
          ]
        },
        {
          "output_type": "stream",
          "name": "stdout",
          "text": [
            "Epoch 5 / 10, Step 3440 / 5086, Loss: 1.1545\n",
            "Epoch 5 / 10, Step 3450 / 5086, Loss: 2.7778\n",
            "Epoch 5 / 10, Step 3460 / 5086, Loss: 5.7996\n",
            "Epoch 5 / 10, Step 3470 / 5086, Loss: 0.9355\n"
          ]
        },
        {
          "output_type": "stream",
          "name": "stderr",
          "text": [
            "3500it [00:27, 164.75it/s]"
          ]
        },
        {
          "output_type": "stream",
          "name": "stdout",
          "text": [
            "Epoch 5 / 10, Step 3480 / 5086, Loss: 5.9164\n",
            "Epoch 5 / 10, Step 3490 / 5086, Loss: 6.1222\n",
            "Epoch 5 / 10, Step 3500 / 5086, Loss: 3.1735\n",
            "Epoch 5 / 10, Step 3510 / 5086, Loss: 0.0448\n"
          ]
        },
        {
          "output_type": "stream",
          "name": "stderr",
          "text": [
            "3551it [00:27, 157.81it/s]"
          ]
        },
        {
          "output_type": "stream",
          "name": "stdout",
          "text": [
            "Epoch 5 / 10, Step 3520 / 5086, Loss: 1.9319\n",
            "Epoch 5 / 10, Step 3530 / 5086, Loss: 0.0003\n",
            "Epoch 5 / 10, Step 3540 / 5086, Loss: 0.0000\n",
            "Epoch 5 / 10, Step 3550 / 5086, Loss: 0.2462\n"
          ]
        },
        {
          "output_type": "stream",
          "name": "stderr",
          "text": [
            "3583it [00:28, 150.86it/s]"
          ]
        },
        {
          "output_type": "stream",
          "name": "stdout",
          "text": [
            "Epoch 5 / 10, Step 3560 / 5086, Loss: 0.4274\n",
            "Epoch 5 / 10, Step 3570 / 5086, Loss: 0.0295\n",
            "Epoch 5 / 10, Step 3580 / 5086, Loss: 3.2029\n",
            "Epoch 5 / 10, Step 3590 / 5086, Loss: 0.8341\n"
          ]
        },
        {
          "output_type": "stream",
          "name": "stderr",
          "text": [
            "3632it [00:28, 154.82it/s]"
          ]
        },
        {
          "output_type": "stream",
          "name": "stdout",
          "text": [
            "Epoch 5 / 10, Step 3600 / 5086, Loss: 1.7949\n",
            "Epoch 5 / 10, Step 3610 / 5086, Loss: 0.3209\n",
            "Epoch 5 / 10, Step 3620 / 5086, Loss: 0.9141\n",
            "Epoch 5 / 10, Step 3630 / 5086, Loss: 3.7180\n"
          ]
        },
        {
          "output_type": "stream",
          "name": "stderr",
          "text": [
            "3666it [00:28, 158.65it/s]"
          ]
        },
        {
          "output_type": "stream",
          "name": "stdout",
          "text": [
            "Epoch 5 / 10, Step 3640 / 5086, Loss: 3.9599\n",
            "Epoch 5 / 10, Step 3650 / 5086, Loss: 3.7607\n",
            "Epoch 5 / 10, Step 3660 / 5086, Loss: 2.5409\n",
            "Epoch 5 / 10, Step 3670 / 5086, Loss: 3.5785\n"
          ]
        },
        {
          "output_type": "stream",
          "name": "stderr",
          "text": [
            "3701it [00:28, 166.66it/s]"
          ]
        },
        {
          "output_type": "stream",
          "name": "stdout",
          "text": [
            "Epoch 5 / 10, Step 3680 / 5086, Loss: 0.0120\n",
            "Epoch 5 / 10, Step 3690 / 5086, Loss: 2.0798\n",
            "Epoch 5 / 10, Step 3700 / 5086, Loss: 4.1104\n",
            "Epoch 5 / 10, Step 3710 / 5086, Loss: 4.1851\n"
          ]
        },
        {
          "output_type": "stream",
          "name": "stderr",
          "text": [
            "3753it [00:29, 164.56it/s]"
          ]
        },
        {
          "output_type": "stream",
          "name": "stdout",
          "text": [
            "Epoch 5 / 10, Step 3720 / 5086, Loss: 6.3536\n",
            "Epoch 5 / 10, Step 3730 / 5086, Loss: 5.5657\n",
            "Epoch 5 / 10, Step 3740 / 5086, Loss: 0.0052\n",
            "Epoch 5 / 10, Step 3750 / 5086, Loss: 1.8478\n"
          ]
        },
        {
          "output_type": "stream",
          "name": "stderr",
          "text": [
            "3788it [00:29, 167.68it/s]"
          ]
        },
        {
          "output_type": "stream",
          "name": "stdout",
          "text": [
            "Epoch 5 / 10, Step 3760 / 5086, Loss: 0.0008\n",
            "Epoch 5 / 10, Step 3770 / 5086, Loss: 0.0032\n",
            "Epoch 5 / 10, Step 3780 / 5086, Loss: 0.0742\n",
            "Epoch 5 / 10, Step 3790 / 5086, Loss: 1.9016\n"
          ]
        },
        {
          "output_type": "stream",
          "name": "stderr",
          "text": [
            "3822it [00:29, 159.67it/s]"
          ]
        },
        {
          "output_type": "stream",
          "name": "stdout",
          "text": [
            "Epoch 5 / 10, Step 3800 / 5086, Loss: 1.8731\n",
            "Epoch 5 / 10, Step 3810 / 5086, Loss: 0.5689\n",
            "Epoch 5 / 10, Step 3820 / 5086, Loss: 3.7226\n",
            "Epoch 5 / 10, Step 3830 / 5086, Loss: 0.6388\n"
          ]
        },
        {
          "output_type": "stream",
          "name": "stderr",
          "text": [
            "3856it [00:29, 160.06it/s]"
          ]
        },
        {
          "output_type": "stream",
          "name": "stdout",
          "text": [
            "Epoch 5 / 10, Step 3840 / 5086, Loss: 0.1429\n",
            "Epoch 5 / 10, Step 3850 / 5086, Loss: 0.0003\n",
            "Epoch 5 / 10, Step 3860 / 5086, Loss: 0.1301\n",
            "Epoch 5 / 10, Step 3870 / 5086, Loss: 0.0361\n"
          ]
        },
        {
          "output_type": "stream",
          "name": "stderr",
          "text": [
            "3905it [00:30, 154.40it/s]"
          ]
        },
        {
          "output_type": "stream",
          "name": "stdout",
          "text": [
            "Epoch 5 / 10, Step 3880 / 5086, Loss: 0.0060\n",
            "Epoch 5 / 10, Step 3890 / 5086, Loss: 2.1543\n",
            "Epoch 5 / 10, Step 3900 / 5086, Loss: 0.0001\n",
            "Epoch 5 / 10, Step 3910 / 5086, Loss: 0.0002\n"
          ]
        },
        {
          "output_type": "stream",
          "name": "stderr",
          "text": [
            "3939it [00:30, 158.56it/s]"
          ]
        },
        {
          "output_type": "stream",
          "name": "stdout",
          "text": [
            "Epoch 5 / 10, Step 3920 / 5086, Loss: 0.5596\n",
            "Epoch 5 / 10, Step 3930 / 5086, Loss: 4.8250\n",
            "Epoch 5 / 10, Step 3940 / 5086, Loss: 3.3902\n",
            "Epoch 5 / 10, Step 3950 / 5086, Loss: 0.0596\n"
          ]
        },
        {
          "output_type": "stream",
          "name": "stderr",
          "text": [
            "3988it [00:30, 156.81it/s]"
          ]
        },
        {
          "output_type": "stream",
          "name": "stdout",
          "text": [
            "Epoch 5 / 10, Step 3960 / 5086, Loss: 0.2224\n",
            "Epoch 5 / 10, Step 3970 / 5086, Loss: 1.2316\n",
            "Epoch 5 / 10, Step 3980 / 5086, Loss: 0.0904\n",
            "Epoch 5 / 10, Step 3990 / 5086, Loss: 3.8827\n"
          ]
        },
        {
          "output_type": "stream",
          "name": "stderr",
          "text": [
            "4020it [00:30, 153.04it/s]"
          ]
        },
        {
          "output_type": "stream",
          "name": "stdout",
          "text": [
            "Epoch 5 / 10, Step 4000 / 5086, Loss: 6.4242\n",
            "Epoch 5 / 10, Step 4010 / 5086, Loss: 1.6999\n",
            "Epoch 5 / 10, Step 4020 / 5086, Loss: 4.2961\n",
            "Epoch 5 / 10, Step 4030 / 5086, Loss: 7.6496\n"
          ]
        },
        {
          "output_type": "stream",
          "name": "stderr",
          "text": [
            "4068it [00:31, 152.00it/s]"
          ]
        },
        {
          "output_type": "stream",
          "name": "stdout",
          "text": [
            "Epoch 5 / 10, Step 4040 / 5086, Loss: 3.3921\n",
            "Epoch 5 / 10, Step 4050 / 5086, Loss: 3.6649\n",
            "Epoch 5 / 10, Step 4060 / 5086, Loss: 2.2782\n",
            "Epoch 5 / 10, Step 4070 / 5086, Loss: 3.5427\n"
          ]
        },
        {
          "output_type": "stream",
          "name": "stderr",
          "text": [
            "4101it [00:31, 154.60it/s]"
          ]
        },
        {
          "output_type": "stream",
          "name": "stdout",
          "text": [
            "Epoch 5 / 10, Step 4080 / 5086, Loss: 0.0314\n",
            "Epoch 5 / 10, Step 4090 / 5086, Loss: 0.1934\n",
            "Epoch 5 / 10, Step 4100 / 5086, Loss: 0.0491\n",
            "Epoch 5 / 10, Step 4110 / 5086, Loss: 1.2547\n"
          ]
        },
        {
          "output_type": "stream",
          "name": "stderr",
          "text": [
            "4151it [00:31, 154.63it/s]"
          ]
        },
        {
          "output_type": "stream",
          "name": "stdout",
          "text": [
            "Epoch 5 / 10, Step 4120 / 5086, Loss: 1.8357\n",
            "Epoch 5 / 10, Step 4130 / 5086, Loss: 5.1961\n",
            "Epoch 5 / 10, Step 4140 / 5086, Loss: 3.7973\n",
            "Epoch 5 / 10, Step 4150 / 5086, Loss: 0.0706\n"
          ]
        },
        {
          "output_type": "stream",
          "name": "stderr",
          "text": [
            "4183it [00:32, 155.23it/s]"
          ]
        },
        {
          "output_type": "stream",
          "name": "stdout",
          "text": [
            "Epoch 5 / 10, Step 4160 / 5086, Loss: 0.0012\n",
            "Epoch 5 / 10, Step 4170 / 5086, Loss: 1.1780\n",
            "Epoch 5 / 10, Step 4180 / 5086, Loss: 6.5907\n",
            "Epoch 5 / 10, Step 4190 / 5086, Loss: 1.5281\n"
          ]
        },
        {
          "output_type": "stream",
          "name": "stderr",
          "text": [
            "4216it [00:32, 158.03it/s]"
          ]
        },
        {
          "output_type": "stream",
          "name": "stdout",
          "text": [
            "Epoch 5 / 10, Step 4200 / 5086, Loss: 1.0786\n",
            "Epoch 5 / 10, Step 4210 / 5086, Loss: 0.0000\n",
            "Epoch 5 / 10, Step 4220 / 5086, Loss: 0.0812\n",
            "Epoch 5 / 10, Step 4230 / 5086, Loss: 0.0004\n"
          ]
        },
        {
          "output_type": "stream",
          "name": "stderr",
          "text": [
            "4265it [00:32, 153.06it/s]"
          ]
        },
        {
          "output_type": "stream",
          "name": "stdout",
          "text": [
            "Epoch 5 / 10, Step 4240 / 5086, Loss: 3.1630\n",
            "Epoch 5 / 10, Step 4250 / 5086, Loss: 1.5455\n",
            "Epoch 5 / 10, Step 4260 / 5086, Loss: 4.1501\n",
            "Epoch 5 / 10, Step 4270 / 5086, Loss: 2.2795\n"
          ]
        },
        {
          "output_type": "stream",
          "name": "stderr",
          "text": [
            "4298it [00:32, 155.84it/s]"
          ]
        },
        {
          "output_type": "stream",
          "name": "stdout",
          "text": [
            "Epoch 5 / 10, Step 4280 / 5086, Loss: 0.4931\n",
            "Epoch 5 / 10, Step 4290 / 5086, Loss: 3.5343\n",
            "Epoch 5 / 10, Step 4300 / 5086, Loss: 2.3891\n",
            "Epoch 5 / 10, Step 4310 / 5086, Loss: 0.2305\n"
          ]
        },
        {
          "output_type": "stream",
          "name": "stderr",
          "text": [
            "4346it [00:33, 152.31it/s]"
          ]
        },
        {
          "output_type": "stream",
          "name": "stdout",
          "text": [
            "Epoch 5 / 10, Step 4320 / 5086, Loss: 0.0822\n",
            "Epoch 5 / 10, Step 4330 / 5086, Loss: 0.4389\n",
            "Epoch 5 / 10, Step 4340 / 5086, Loss: 0.0118\n",
            "Epoch 5 / 10, Step 4350 / 5086, Loss: 7.4645\n"
          ]
        },
        {
          "output_type": "stream",
          "name": "stderr",
          "text": [
            "4378it [00:33, 140.81it/s]"
          ]
        },
        {
          "output_type": "stream",
          "name": "stdout",
          "text": [
            "Epoch 5 / 10, Step 4360 / 5086, Loss: 0.2276\n",
            "Epoch 5 / 10, Step 4370 / 5086, Loss: 0.7292\n",
            "Epoch 5 / 10, Step 4380 / 5086, Loss: 0.7774\n"
          ]
        },
        {
          "output_type": "stream",
          "name": "stderr",
          "text": [
            "4406it [00:33, 109.10it/s]"
          ]
        },
        {
          "output_type": "stream",
          "name": "stdout",
          "text": [
            "Epoch 5 / 10, Step 4390 / 5086, Loss: 1.2839\n",
            "Epoch 5 / 10, Step 4400 / 5086, Loss: 8.6138\n"
          ]
        },
        {
          "output_type": "stream",
          "name": "stderr",
          "text": [
            "4436it [00:33, 123.51it/s]"
          ]
        },
        {
          "output_type": "stream",
          "name": "stdout",
          "text": [
            "Epoch 5 / 10, Step 4410 / 5086, Loss: 6.9784\n",
            "Epoch 5 / 10, Step 4420 / 5086, Loss: 5.3512\n",
            "Epoch 5 / 10, Step 4430 / 5086, Loss: 0.0009\n"
          ]
        },
        {
          "output_type": "stream",
          "name": "stderr",
          "text": [
            "\r4449it [00:34, 97.14it/s] "
          ]
        },
        {
          "output_type": "stream",
          "name": "stdout",
          "text": [
            "Epoch 5 / 10, Step 4440 / 5086, Loss: 0.0098\n",
            "Epoch 5 / 10, Step 4450 / 5086, Loss: 0.0005\n"
          ]
        },
        {
          "output_type": "stream",
          "name": "stderr",
          "text": [
            "4476it [00:34, 108.00it/s]"
          ]
        },
        {
          "output_type": "stream",
          "name": "stdout",
          "text": [
            "Epoch 5 / 10, Step 4460 / 5086, Loss: 0.3306\n",
            "Epoch 5 / 10, Step 4470 / 5086, Loss: 1.7947\n",
            "Epoch 5 / 10, Step 4480 / 5086, Loss: 7.0594\n",
            "Epoch 5 / 10, Step 4490 / 5086, Loss: 5.7349\n"
          ]
        },
        {
          "output_type": "stream",
          "name": "stderr",
          "text": [
            "4518it [00:34, 109.05it/s]"
          ]
        },
        {
          "output_type": "stream",
          "name": "stdout",
          "text": [
            "Epoch 5 / 10, Step 4500 / 5086, Loss: 0.0008\n",
            "Epoch 5 / 10, Step 4510 / 5086, Loss: 0.0017\n"
          ]
        },
        {
          "output_type": "stream",
          "name": "stderr",
          "text": [
            "\r4530it [00:34, 96.54it/s] "
          ]
        },
        {
          "output_type": "stream",
          "name": "stdout",
          "text": [
            "Epoch 5 / 10, Step 4520 / 5086, Loss: 0.2741\n",
            "Epoch 5 / 10, Step 4530 / 5086, Loss: 0.8434\n"
          ]
        },
        {
          "output_type": "stream",
          "name": "stderr",
          "text": [
            "4551it [00:35, 90.79it/s]"
          ]
        },
        {
          "output_type": "stream",
          "name": "stdout",
          "text": [
            "Epoch 5 / 10, Step 4540 / 5086, Loss: 1.3891\n",
            "Epoch 5 / 10, Step 4550 / 5086, Loss: 2.6137\n"
          ]
        },
        {
          "output_type": "stream",
          "name": "stderr",
          "text": [
            "4570it [00:35, 87.59it/s]"
          ]
        },
        {
          "output_type": "stream",
          "name": "stdout",
          "text": [
            "Epoch 5 / 10, Step 4560 / 5086, Loss: 0.0177\n",
            "Epoch 5 / 10, Step 4570 / 5086, Loss: 0.0031\n"
          ]
        },
        {
          "output_type": "stream",
          "name": "stderr",
          "text": [
            "4600it [00:35, 94.50it/s]"
          ]
        },
        {
          "output_type": "stream",
          "name": "stdout",
          "text": [
            "Epoch 5 / 10, Step 4580 / 5086, Loss: 0.0004\n",
            "Epoch 5 / 10, Step 4590 / 5086, Loss: 0.7713\n",
            "Epoch 5 / 10, Step 4600 / 5086, Loss: 4.2777\n"
          ]
        },
        {
          "output_type": "stream",
          "name": "stderr",
          "text": [
            "4623it [00:35, 101.72it/s]"
          ]
        },
        {
          "output_type": "stream",
          "name": "stdout",
          "text": [
            "Epoch 5 / 10, Step 4610 / 5086, Loss: 0.3908\n",
            "Epoch 5 / 10, Step 4620 / 5086, Loss: 0.8417\n",
            "Epoch 5 / 10, Step 4630 / 5086, Loss: 0.1208\n"
          ]
        },
        {
          "output_type": "stream",
          "name": "stderr",
          "text": [
            "4658it [00:36, 107.84it/s]"
          ]
        },
        {
          "output_type": "stream",
          "name": "stdout",
          "text": [
            "Epoch 5 / 10, Step 4640 / 5086, Loss: 0.2133\n",
            "Epoch 5 / 10, Step 4650 / 5086, Loss: 0.2104\n",
            "Epoch 5 / 10, Step 4660 / 5086, Loss: 1.8543\n"
          ]
        },
        {
          "output_type": "stream",
          "name": "stderr",
          "text": [
            "4680it [00:36, 95.78it/s] "
          ]
        },
        {
          "output_type": "stream",
          "name": "stdout",
          "text": [
            "Epoch 5 / 10, Step 4670 / 5086, Loss: 2.2889\n",
            "Epoch 5 / 10, Step 4680 / 5086, Loss: 0.2317\n"
          ]
        },
        {
          "output_type": "stream",
          "name": "stderr",
          "text": [
            "4700it [00:36, 82.75it/s]"
          ]
        },
        {
          "output_type": "stream",
          "name": "stdout",
          "text": [
            "Epoch 5 / 10, Step 4690 / 5086, Loss: 0.0003\n",
            "Epoch 5 / 10, Step 4700 / 5086, Loss: 5.1197\n"
          ]
        },
        {
          "output_type": "stream",
          "name": "stderr",
          "text": [
            "4719it [00:36, 76.33it/s]"
          ]
        },
        {
          "output_type": "stream",
          "name": "stdout",
          "text": [
            "Epoch 5 / 10, Step 4710 / 5086, Loss: 3.4210\n",
            "Epoch 5 / 10, Step 4720 / 5086, Loss: 0.5975\n"
          ]
        },
        {
          "output_type": "stream",
          "name": "stderr",
          "text": [
            "4749it [00:37, 89.24it/s]"
          ]
        },
        {
          "output_type": "stream",
          "name": "stdout",
          "text": [
            "Epoch 5 / 10, Step 4730 / 5086, Loss: 0.5543\n",
            "Epoch 5 / 10, Step 4740 / 5086, Loss: 0.0000\n",
            "Epoch 5 / 10, Step 4750 / 5086, Loss: 6.8778\n"
          ]
        },
        {
          "output_type": "stream",
          "name": "stderr",
          "text": [
            "4769it [00:37, 85.80it/s]"
          ]
        },
        {
          "output_type": "stream",
          "name": "stdout",
          "text": [
            "Epoch 5 / 10, Step 4760 / 5086, Loss: 0.0001\n",
            "Epoch 5 / 10, Step 4770 / 5086, Loss: 1.7171\n"
          ]
        },
        {
          "output_type": "stream",
          "name": "stderr",
          "text": [
            "4794it [00:37, 72.42it/s]"
          ]
        },
        {
          "output_type": "stream",
          "name": "stdout",
          "text": [
            "Epoch 5 / 10, Step 4780 / 5086, Loss: 2.2061\n",
            "Epoch 5 / 10, Step 4790 / 5086, Loss: 2.7309\n"
          ]
        },
        {
          "output_type": "stream",
          "name": "stderr",
          "text": [
            "4812it [00:38, 78.83it/s]"
          ]
        },
        {
          "output_type": "stream",
          "name": "stdout",
          "text": [
            "Epoch 5 / 10, Step 4800 / 5086, Loss: 0.8720\n",
            "Epoch 5 / 10, Step 4810 / 5086, Loss: 0.0191\n"
          ]
        },
        {
          "output_type": "stream",
          "name": "stderr",
          "text": [
            "4831it [00:38, 84.83it/s]"
          ]
        },
        {
          "output_type": "stream",
          "name": "stdout",
          "text": [
            "Epoch 5 / 10, Step 4820 / 5086, Loss: 1.1542\n",
            "Epoch 5 / 10, Step 4830 / 5086, Loss: 0.0033\n"
          ]
        },
        {
          "output_type": "stream",
          "name": "stderr",
          "text": [
            "4849it [00:38, 86.91it/s]"
          ]
        },
        {
          "output_type": "stream",
          "name": "stdout",
          "text": [
            "Epoch 5 / 10, Step 4840 / 5086, Loss: 1.8977\n",
            "Epoch 5 / 10, Step 4850 / 5086, Loss: 2.7991\n"
          ]
        },
        {
          "output_type": "stream",
          "name": "stderr",
          "text": [
            "4868it [00:38, 80.83it/s]"
          ]
        },
        {
          "output_type": "stream",
          "name": "stdout",
          "text": [
            "Epoch 5 / 10, Step 4860 / 5086, Loss: 0.5533\n",
            "Epoch 5 / 10, Step 4870 / 5086, Loss: 1.1406\n"
          ]
        },
        {
          "output_type": "stream",
          "name": "stderr",
          "text": [
            "4891it [00:39, 55.94it/s]"
          ]
        },
        {
          "output_type": "stream",
          "name": "stdout",
          "text": [
            "Epoch 5 / 10, Step 4880 / 5086, Loss: 1.7018\n",
            "Epoch 5 / 10, Step 4890 / 5086, Loss: 0.1409\n"
          ]
        },
        {
          "output_type": "stream",
          "name": "stderr",
          "text": [
            "4929it [00:39, 100.01it/s]"
          ]
        },
        {
          "output_type": "stream",
          "name": "stdout",
          "text": [
            "Epoch 5 / 10, Step 4900 / 5086, Loss: 0.0036\n",
            "Epoch 5 / 10, Step 4910 / 5086, Loss: 3.4335\n",
            "Epoch 5 / 10, Step 4920 / 5086, Loss: 0.1559\n",
            "Epoch 5 / 10, Step 4930 / 5086, Loss: 0.9601\n"
          ]
        },
        {
          "output_type": "stream",
          "name": "stderr",
          "text": [
            "4961it [00:39, 127.08it/s]"
          ]
        },
        {
          "output_type": "stream",
          "name": "stdout",
          "text": [
            "Epoch 5 / 10, Step 4940 / 5086, Loss: 2.3131\n",
            "Epoch 5 / 10, Step 4950 / 5086, Loss: 0.5344\n",
            "Epoch 5 / 10, Step 4960 / 5086, Loss: 0.0077\n",
            "Epoch 5 / 10, Step 4970 / 5086, Loss: 0.1077\n"
          ]
        },
        {
          "output_type": "stream",
          "name": "stderr",
          "text": [
            "5011it [00:40, 147.37it/s]"
          ]
        },
        {
          "output_type": "stream",
          "name": "stdout",
          "text": [
            "Epoch 5 / 10, Step 4980 / 5086, Loss: 0.0869\n",
            "Epoch 5 / 10, Step 4990 / 5086, Loss: 0.5624\n",
            "Epoch 5 / 10, Step 5000 / 5086, Loss: 3.7537\n",
            "Epoch 5 / 10, Step 5010 / 5086, Loss: 0.1908\n"
          ]
        },
        {
          "output_type": "stream",
          "name": "stderr",
          "text": [
            "5043it [00:40, 152.34it/s]"
          ]
        },
        {
          "output_type": "stream",
          "name": "stdout",
          "text": [
            "Epoch 5 / 10, Step 5020 / 5086, Loss: 3.7851\n",
            "Epoch 5 / 10, Step 5030 / 5086, Loss: 0.0192\n",
            "Epoch 5 / 10, Step 5040 / 5086, Loss: 3.2726\n",
            "Epoch 5 / 10, Step 5050 / 5086, Loss: 0.3082\n"
          ]
        },
        {
          "output_type": "stream",
          "name": "stderr",
          "text": [
            "5086it [00:40, 125.08it/s]\n"
          ]
        },
        {
          "output_type": "stream",
          "name": "stdout",
          "text": [
            "Epoch 5 / 10, Step 5060 / 5086, Loss: 2.0928\n",
            "Epoch 5 / 10, Step 5070 / 5086, Loss: 1.7165\n",
            "Epoch 5 / 10, Step 5080 / 5086, Loss: 0.9426\n"
          ]
        },
        {
          "output_type": "stream",
          "name": "stderr",
          "text": [
            "31it [00:00, 150.44it/s]"
          ]
        },
        {
          "output_type": "stream",
          "name": "stdout",
          "text": [
            "Epoch 6 / 10, Step 10 / 5086, Loss: 1.0190\n",
            "Epoch 6 / 10, Step 20 / 5086, Loss: 0.0705\n",
            "Epoch 6 / 10, Step 30 / 5086, Loss: 6.2882\n",
            "Epoch 6 / 10, Step 40 / 5086, Loss: 0.3618\n"
          ]
        },
        {
          "output_type": "stream",
          "name": "stderr",
          "text": [
            "80it [00:00, 155.81it/s]"
          ]
        },
        {
          "output_type": "stream",
          "name": "stdout",
          "text": [
            "Epoch 6 / 10, Step 50 / 5086, Loss: 0.9175\n",
            "Epoch 6 / 10, Step 60 / 5086, Loss: 0.0362\n",
            "Epoch 6 / 10, Step 70 / 5086, Loss: 0.3931\n",
            "Epoch 6 / 10, Step 80 / 5086, Loss: 0.0049\n"
          ]
        },
        {
          "output_type": "stream",
          "name": "stderr",
          "text": [
            "113it [00:00, 155.92it/s]"
          ]
        },
        {
          "output_type": "stream",
          "name": "stdout",
          "text": [
            "Epoch 6 / 10, Step 90 / 5086, Loss: 1.4952\n",
            "Epoch 6 / 10, Step 100 / 5086, Loss: 0.0274\n",
            "Epoch 6 / 10, Step 110 / 5086, Loss: 9.4965\n",
            "Epoch 6 / 10, Step 120 / 5086, Loss: 9.2653\n"
          ]
        },
        {
          "output_type": "stream",
          "name": "stderr",
          "text": [
            "163it [00:01, 159.02it/s]"
          ]
        },
        {
          "output_type": "stream",
          "name": "stdout",
          "text": [
            "Epoch 6 / 10, Step 130 / 5086, Loss: 3.9259\n",
            "Epoch 6 / 10, Step 140 / 5086, Loss: 11.8919\n",
            "Epoch 6 / 10, Step 150 / 5086, Loss: 0.8476\n",
            "Epoch 6 / 10, Step 160 / 5086, Loss: 2.0610\n"
          ]
        },
        {
          "output_type": "stream",
          "name": "stderr",
          "text": [
            "196it [00:01, 159.16it/s]"
          ]
        },
        {
          "output_type": "stream",
          "name": "stdout",
          "text": [
            "Epoch 6 / 10, Step 170 / 5086, Loss: 1.5021\n",
            "Epoch 6 / 10, Step 180 / 5086, Loss: 3.0194\n",
            "Epoch 6 / 10, Step 190 / 5086, Loss: 0.7639\n",
            "Epoch 6 / 10, Step 200 / 5086, Loss: 2.0476\n"
          ]
        },
        {
          "output_type": "stream",
          "name": "stderr",
          "text": [
            "228it [00:01, 156.02it/s]"
          ]
        },
        {
          "output_type": "stream",
          "name": "stdout",
          "text": [
            "Epoch 6 / 10, Step 210 / 5086, Loss: 2.3594\n",
            "Epoch 6 / 10, Step 220 / 5086, Loss: 0.1105\n",
            "Epoch 6 / 10, Step 230 / 5086, Loss: 4.5273\n",
            "Epoch 6 / 10, Step 240 / 5086, Loss: 2.2059\n"
          ]
        },
        {
          "output_type": "stream",
          "name": "stderr",
          "text": [
            "279it [00:01, 161.16it/s]"
          ]
        },
        {
          "output_type": "stream",
          "name": "stdout",
          "text": [
            "Epoch 6 / 10, Step 250 / 5086, Loss: 2.0274\n",
            "Epoch 6 / 10, Step 260 / 5086, Loss: 2.0901\n",
            "Epoch 6 / 10, Step 270 / 5086, Loss: 8.1609\n",
            "Epoch 6 / 10, Step 280 / 5086, Loss: 23.2365\n"
          ]
        },
        {
          "output_type": "stream",
          "name": "stderr",
          "text": [
            "312it [00:02, 153.74it/s]"
          ]
        },
        {
          "output_type": "stream",
          "name": "stdout",
          "text": [
            "Epoch 6 / 10, Step 290 / 5086, Loss: 1.0582\n",
            "Epoch 6 / 10, Step 300 / 5086, Loss: 2.6403\n",
            "Epoch 6 / 10, Step 310 / 5086, Loss: 0.2154\n",
            "Epoch 6 / 10, Step 320 / 5086, Loss: 1.1160\n"
          ]
        },
        {
          "output_type": "stream",
          "name": "stderr",
          "text": [
            "363it [00:02, 161.06it/s]"
          ]
        },
        {
          "output_type": "stream",
          "name": "stdout",
          "text": [
            "Epoch 6 / 10, Step 330 / 5086, Loss: 3.3354\n",
            "Epoch 6 / 10, Step 340 / 5086, Loss: 0.4315\n",
            "Epoch 6 / 10, Step 350 / 5086, Loss: 0.0444\n",
            "Epoch 6 / 10, Step 360 / 5086, Loss: 5.4986\n"
          ]
        },
        {
          "output_type": "stream",
          "name": "stderr",
          "text": [
            "396it [00:02, 156.19it/s]"
          ]
        },
        {
          "output_type": "stream",
          "name": "stdout",
          "text": [
            "Epoch 6 / 10, Step 370 / 5086, Loss: 0.7011\n",
            "Epoch 6 / 10, Step 380 / 5086, Loss: 0.0713\n",
            "Epoch 6 / 10, Step 390 / 5086, Loss: 2.7186\n",
            "Epoch 6 / 10, Step 400 / 5086, Loss: 0.5652\n"
          ]
        },
        {
          "output_type": "stream",
          "name": "stderr",
          "text": [
            "428it [00:02, 152.51it/s]"
          ]
        },
        {
          "output_type": "stream",
          "name": "stdout",
          "text": [
            "Epoch 6 / 10, Step 410 / 5086, Loss: 0.0019\n",
            "Epoch 6 / 10, Step 420 / 5086, Loss: 6.0899\n",
            "Epoch 6 / 10, Step 430 / 5086, Loss: 0.1809\n",
            "Epoch 6 / 10, Step 440 / 5086, Loss: 1.7950\n"
          ]
        },
        {
          "output_type": "stream",
          "name": "stderr",
          "text": [
            "476it [00:03, 151.75it/s]"
          ]
        },
        {
          "output_type": "stream",
          "name": "stdout",
          "text": [
            "Epoch 6 / 10, Step 450 / 5086, Loss: 2.8449\n",
            "Epoch 6 / 10, Step 460 / 5086, Loss: 3.7071\n",
            "Epoch 6 / 10, Step 470 / 5086, Loss: 0.6492\n",
            "Epoch 6 / 10, Step 480 / 5086, Loss: 4.4959\n"
          ]
        },
        {
          "output_type": "stream",
          "name": "stderr",
          "text": [
            "509it [00:03, 155.41it/s]"
          ]
        },
        {
          "output_type": "stream",
          "name": "stdout",
          "text": [
            "Epoch 6 / 10, Step 490 / 5086, Loss: 1.4520\n",
            "Epoch 6 / 10, Step 500 / 5086, Loss: 0.3856\n",
            "Epoch 6 / 10, Step 510 / 5086, Loss: 0.0436\n",
            "Epoch 6 / 10, Step 520 / 5086, Loss: 0.0011\n"
          ]
        },
        {
          "output_type": "stream",
          "name": "stderr",
          "text": [
            "559it [00:03, 159.81it/s]"
          ]
        },
        {
          "output_type": "stream",
          "name": "stdout",
          "text": [
            "Epoch 6 / 10, Step 530 / 5086, Loss: 0.0011\n",
            "Epoch 6 / 10, Step 540 / 5086, Loss: 0.7620\n",
            "Epoch 6 / 10, Step 550 / 5086, Loss: 2.1471\n",
            "Epoch 6 / 10, Step 560 / 5086, Loss: 0.8843\n"
          ]
        },
        {
          "output_type": "stream",
          "name": "stderr",
          "text": [
            "593it [00:03, 161.48it/s]"
          ]
        },
        {
          "output_type": "stream",
          "name": "stdout",
          "text": [
            "Epoch 6 / 10, Step 570 / 5086, Loss: 0.1586\n",
            "Epoch 6 / 10, Step 580 / 5086, Loss: 6.3802\n",
            "Epoch 6 / 10, Step 590 / 5086, Loss: 4.7169\n",
            "Epoch 6 / 10, Step 600 / 5086, Loss: 1.6578\n"
          ]
        },
        {
          "output_type": "stream",
          "name": "stderr",
          "text": [
            "626it [00:04, 156.86it/s]"
          ]
        },
        {
          "output_type": "stream",
          "name": "stdout",
          "text": [
            "Epoch 6 / 10, Step 610 / 5086, Loss: 0.4585\n",
            "Epoch 6 / 10, Step 620 / 5086, Loss: 1.2128\n",
            "Epoch 6 / 10, Step 630 / 5086, Loss: 1.6540\n",
            "Epoch 6 / 10, Step 640 / 5086, Loss: 9.0540\n"
          ]
        },
        {
          "output_type": "stream",
          "name": "stderr",
          "text": [
            "677it [00:04, 159.65it/s]"
          ]
        },
        {
          "output_type": "stream",
          "name": "stdout",
          "text": [
            "Epoch 6 / 10, Step 650 / 5086, Loss: 3.8265\n",
            "Epoch 6 / 10, Step 660 / 5086, Loss: 0.0041\n",
            "Epoch 6 / 10, Step 670 / 5086, Loss: 2.6623\n",
            "Epoch 6 / 10, Step 680 / 5086, Loss: 1.1262\n"
          ]
        },
        {
          "output_type": "stream",
          "name": "stderr",
          "text": [
            "709it [00:04, 156.09it/s]"
          ]
        },
        {
          "output_type": "stream",
          "name": "stdout",
          "text": [
            "Epoch 6 / 10, Step 690 / 5086, Loss: 4.2752\n",
            "Epoch 6 / 10, Step 700 / 5086, Loss: 1.2182\n",
            "Epoch 6 / 10, Step 710 / 5086, Loss: 0.0811\n",
            "Epoch 6 / 10, Step 720 / 5086, Loss: 0.0663\n"
          ]
        },
        {
          "output_type": "stream",
          "name": "stderr",
          "text": [
            "758it [00:04, 155.88it/s]"
          ]
        },
        {
          "output_type": "stream",
          "name": "stdout",
          "text": [
            "Epoch 6 / 10, Step 730 / 5086, Loss: 2.5805\n",
            "Epoch 6 / 10, Step 740 / 5086, Loss: 4.3423\n",
            "Epoch 6 / 10, Step 750 / 5086, Loss: 0.0296\n",
            "Epoch 6 / 10, Step 760 / 5086, Loss: 1.7653\n"
          ]
        },
        {
          "output_type": "stream",
          "name": "stderr",
          "text": [
            "790it [00:05, 150.88it/s]"
          ]
        },
        {
          "output_type": "stream",
          "name": "stdout",
          "text": [
            "Epoch 6 / 10, Step 770 / 5086, Loss: 11.8445\n",
            "Epoch 6 / 10, Step 780 / 5086, Loss: 1.5950\n",
            "Epoch 6 / 10, Step 790 / 5086, Loss: 0.2014\n",
            "Epoch 6 / 10, Step 800 / 5086, Loss: 16.8295\n"
          ]
        },
        {
          "output_type": "stream",
          "name": "stderr",
          "text": [
            "837it [00:05, 150.63it/s]"
          ]
        },
        {
          "output_type": "stream",
          "name": "stdout",
          "text": [
            "Epoch 6 / 10, Step 810 / 5086, Loss: 2.3412\n",
            "Epoch 6 / 10, Step 820 / 5086, Loss: 12.2137\n",
            "Epoch 6 / 10, Step 830 / 5086, Loss: 21.6600\n",
            "Epoch 6 / 10, Step 840 / 5086, Loss: 10.5596\n"
          ]
        },
        {
          "output_type": "stream",
          "name": "stderr",
          "text": [
            "868it [00:05, 146.69it/s]"
          ]
        },
        {
          "output_type": "stream",
          "name": "stdout",
          "text": [
            "Epoch 6 / 10, Step 850 / 5086, Loss: 2.8097\n",
            "Epoch 6 / 10, Step 860 / 5086, Loss: 4.9498\n",
            "Epoch 6 / 10, Step 870 / 5086, Loss: 0.0977\n"
          ]
        },
        {
          "output_type": "stream",
          "name": "stderr",
          "text": [
            "899it [00:05, 145.67it/s]"
          ]
        },
        {
          "output_type": "stream",
          "name": "stdout",
          "text": [
            "Epoch 6 / 10, Step 880 / 5086, Loss: 1.6396\n",
            "Epoch 6 / 10, Step 890 / 5086, Loss: 4.1390\n",
            "Epoch 6 / 10, Step 900 / 5086, Loss: 3.1219\n"
          ]
        },
        {
          "output_type": "stream",
          "name": "stderr",
          "text": [
            "930it [00:06, 146.62it/s]"
          ]
        },
        {
          "output_type": "stream",
          "name": "stdout",
          "text": [
            "Epoch 6 / 10, Step 910 / 5086, Loss: 0.3852\n",
            "Epoch 6 / 10, Step 920 / 5086, Loss: 2.5998\n",
            "Epoch 6 / 10, Step 930 / 5086, Loss: 1.0492\n"
          ]
        },
        {
          "output_type": "stream",
          "name": "stderr",
          "text": [
            "960it [00:06, 145.88it/s]"
          ]
        },
        {
          "output_type": "stream",
          "name": "stdout",
          "text": [
            "Epoch 6 / 10, Step 940 / 5086, Loss: 0.0015\n",
            "Epoch 6 / 10, Step 950 / 5086, Loss: 2.2152\n",
            "Epoch 6 / 10, Step 960 / 5086, Loss: 14.3790\n",
            "Epoch 6 / 10, Step 970 / 5086, Loss: 0.4856\n"
          ]
        },
        {
          "output_type": "stream",
          "name": "stderr",
          "text": [
            "1009it [00:06, 154.21it/s]"
          ]
        },
        {
          "output_type": "stream",
          "name": "stdout",
          "text": [
            "Epoch 6 / 10, Step 980 / 5086, Loss: 2.7761\n",
            "Epoch 6 / 10, Step 990 / 5086, Loss: 1.8308\n",
            "Epoch 6 / 10, Step 1000 / 5086, Loss: 2.6707\n",
            "Epoch 6 / 10, Step 1010 / 5086, Loss: 0.3507\n"
          ]
        },
        {
          "output_type": "stream",
          "name": "stderr",
          "text": [
            "1042it [00:06, 153.30it/s]"
          ]
        },
        {
          "output_type": "stream",
          "name": "stdout",
          "text": [
            "Epoch 6 / 10, Step 1020 / 5086, Loss: 1.1666\n",
            "Epoch 6 / 10, Step 1030 / 5086, Loss: 2.4211\n",
            "Epoch 6 / 10, Step 1040 / 5086, Loss: 3.3972\n",
            "Epoch 6 / 10, Step 1050 / 5086, Loss: 4.9547\n"
          ]
        },
        {
          "output_type": "stream",
          "name": "stderr",
          "text": [
            "1090it [00:07, 152.25it/s]"
          ]
        },
        {
          "output_type": "stream",
          "name": "stdout",
          "text": [
            "Epoch 6 / 10, Step 1060 / 5086, Loss: 11.3551\n",
            "Epoch 6 / 10, Step 1070 / 5086, Loss: 9.5911\n",
            "Epoch 6 / 10, Step 1080 / 5086, Loss: 4.2729\n",
            "Epoch 6 / 10, Step 1090 / 5086, Loss: 0.1430\n"
          ]
        },
        {
          "output_type": "stream",
          "name": "stderr",
          "text": [
            "1123it [00:07, 157.42it/s]"
          ]
        },
        {
          "output_type": "stream",
          "name": "stdout",
          "text": [
            "Epoch 6 / 10, Step 1100 / 5086, Loss: 2.4988\n",
            "Epoch 6 / 10, Step 1110 / 5086, Loss: 2.5022\n",
            "Epoch 6 / 10, Step 1120 / 5086, Loss: 1.1801\n",
            "Epoch 6 / 10, Step 1130 / 5086, Loss: 5.3733\n"
          ]
        },
        {
          "output_type": "stream",
          "name": "stderr",
          "text": [
            "1155it [00:07, 154.11it/s]"
          ]
        },
        {
          "output_type": "stream",
          "name": "stdout",
          "text": [
            "Epoch 6 / 10, Step 1140 / 5086, Loss: 0.8926\n",
            "Epoch 6 / 10, Step 1150 / 5086, Loss: 0.6458\n",
            "Epoch 6 / 10, Step 1160 / 5086, Loss: 5.6118\n",
            "Epoch 6 / 10, Step 1170 / 5086, Loss: 3.6401\n"
          ]
        },
        {
          "output_type": "stream",
          "name": "stderr",
          "text": [
            "1204it [00:07, 153.07it/s]"
          ]
        },
        {
          "output_type": "stream",
          "name": "stdout",
          "text": [
            "Epoch 6 / 10, Step 1180 / 5086, Loss: 0.0003\n",
            "Epoch 6 / 10, Step 1190 / 5086, Loss: 3.0040\n",
            "Epoch 6 / 10, Step 1200 / 5086, Loss: 0.0634\n",
            "Epoch 6 / 10, Step 1210 / 5086, Loss: 1.8357\n"
          ]
        },
        {
          "output_type": "stream",
          "name": "stderr",
          "text": [
            "1236it [00:08, 152.81it/s]"
          ]
        },
        {
          "output_type": "stream",
          "name": "stdout",
          "text": [
            "Epoch 6 / 10, Step 1220 / 5086, Loss: 2.2608\n",
            "Epoch 6 / 10, Step 1230 / 5086, Loss: 24.7760\n",
            "Epoch 6 / 10, Step 1240 / 5086, Loss: 3.2683\n",
            "Epoch 6 / 10, Step 1250 / 5086, Loss: 7.4520\n"
          ]
        },
        {
          "output_type": "stream",
          "name": "stderr",
          "text": [
            "1285it [00:08, 153.74it/s]"
          ]
        },
        {
          "output_type": "stream",
          "name": "stdout",
          "text": [
            "Epoch 6 / 10, Step 1260 / 5086, Loss: 2.8124\n",
            "Epoch 6 / 10, Step 1270 / 5086, Loss: 3.9113\n",
            "Epoch 6 / 10, Step 1280 / 5086, Loss: 0.2558\n",
            "Epoch 6 / 10, Step 1290 / 5086, Loss: 2.5604\n"
          ]
        },
        {
          "output_type": "stream",
          "name": "stderr",
          "text": [
            "1318it [00:08, 156.16it/s]"
          ]
        },
        {
          "output_type": "stream",
          "name": "stdout",
          "text": [
            "Epoch 6 / 10, Step 1300 / 5086, Loss: 1.9510\n",
            "Epoch 6 / 10, Step 1310 / 5086, Loss: 0.0163\n",
            "Epoch 6 / 10, Step 1320 / 5086, Loss: 0.8267\n",
            "Epoch 6 / 10, Step 1330 / 5086, Loss: 0.1634\n"
          ]
        },
        {
          "output_type": "stream",
          "name": "stderr",
          "text": [
            "1370it [00:08, 162.47it/s]"
          ]
        },
        {
          "output_type": "stream",
          "name": "stdout",
          "text": [
            "Epoch 6 / 10, Step 1340 / 5086, Loss: 4.6134\n",
            "Epoch 6 / 10, Step 1350 / 5086, Loss: 7.7102\n",
            "Epoch 6 / 10, Step 1360 / 5086, Loss: 0.4645\n",
            "Epoch 6 / 10, Step 1370 / 5086, Loss: 11.2979\n"
          ]
        },
        {
          "output_type": "stream",
          "name": "stderr",
          "text": [
            "1404it [00:09, 161.52it/s]"
          ]
        },
        {
          "output_type": "stream",
          "name": "stdout",
          "text": [
            "Epoch 6 / 10, Step 1380 / 5086, Loss: 1.4242\n",
            "Epoch 6 / 10, Step 1390 / 5086, Loss: 2.1021\n",
            "Epoch 6 / 10, Step 1400 / 5086, Loss: 2.2273\n",
            "Epoch 6 / 10, Step 1410 / 5086, Loss: 15.9040\n"
          ]
        },
        {
          "output_type": "stream",
          "name": "stderr",
          "text": [
            "1439it [00:09, 160.18it/s]"
          ]
        },
        {
          "output_type": "stream",
          "name": "stdout",
          "text": [
            "Epoch 6 / 10, Step 1420 / 5086, Loss: 0.7325\n",
            "Epoch 6 / 10, Step 1430 / 5086, Loss: 3.5996\n",
            "Epoch 6 / 10, Step 1440 / 5086, Loss: 1.7831\n",
            "Epoch 6 / 10, Step 1450 / 5086, Loss: 11.0824\n"
          ]
        },
        {
          "output_type": "stream",
          "name": "stderr",
          "text": [
            "1490it [00:09, 159.94it/s]"
          ]
        },
        {
          "output_type": "stream",
          "name": "stdout",
          "text": [
            "Epoch 6 / 10, Step 1460 / 5086, Loss: 2.1463\n",
            "Epoch 6 / 10, Step 1470 / 5086, Loss: 0.0611\n",
            "Epoch 6 / 10, Step 1480 / 5086, Loss: 0.0160\n",
            "Epoch 6 / 10, Step 1490 / 5086, Loss: 2.1874\n"
          ]
        },
        {
          "output_type": "stream",
          "name": "stderr",
          "text": [
            "1523it [00:09, 155.02it/s]"
          ]
        },
        {
          "output_type": "stream",
          "name": "stdout",
          "text": [
            "Epoch 6 / 10, Step 1500 / 5086, Loss: 4.6862\n",
            "Epoch 6 / 10, Step 1510 / 5086, Loss: 0.0200\n",
            "Epoch 6 / 10, Step 1520 / 5086, Loss: 1.0970\n",
            "Epoch 6 / 10, Step 1530 / 5086, Loss: 3.4823\n"
          ]
        },
        {
          "output_type": "stream",
          "name": "stderr",
          "text": [
            "1556it [00:10, 157.08it/s]"
          ]
        },
        {
          "output_type": "stream",
          "name": "stdout",
          "text": [
            "Epoch 6 / 10, Step 1540 / 5086, Loss: 0.0273\n",
            "Epoch 6 / 10, Step 1550 / 5086, Loss: 0.0272\n",
            "Epoch 6 / 10, Step 1560 / 5086, Loss: 1.6092\n",
            "Epoch 6 / 10, Step 1570 / 5086, Loss: 7.3153\n"
          ]
        },
        {
          "output_type": "stream",
          "name": "stderr",
          "text": [
            "1603it [00:10, 148.96it/s]"
          ]
        },
        {
          "output_type": "stream",
          "name": "stdout",
          "text": [
            "Epoch 6 / 10, Step 1580 / 5086, Loss: 0.0030\n",
            "Epoch 6 / 10, Step 1590 / 5086, Loss: 2.4357\n",
            "Epoch 6 / 10, Step 1600 / 5086, Loss: 4.7174\n",
            "Epoch 6 / 10, Step 1610 / 5086, Loss: 2.5335\n"
          ]
        },
        {
          "output_type": "stream",
          "name": "stderr",
          "text": [
            "1652it [00:10, 154.32it/s]"
          ]
        },
        {
          "output_type": "stream",
          "name": "stdout",
          "text": [
            "Epoch 6 / 10, Step 1620 / 5086, Loss: 0.0041\n",
            "Epoch 6 / 10, Step 1630 / 5086, Loss: 0.0000\n",
            "Epoch 6 / 10, Step 1640 / 5086, Loss: 0.3839\n",
            "Epoch 6 / 10, Step 1650 / 5086, Loss: 1.4031\n"
          ]
        },
        {
          "output_type": "stream",
          "name": "stderr",
          "text": [
            "1684it [00:10, 151.73it/s]"
          ]
        },
        {
          "output_type": "stream",
          "name": "stdout",
          "text": [
            "Epoch 6 / 10, Step 1660 / 5086, Loss: 1.8333\n",
            "Epoch 6 / 10, Step 1670 / 5086, Loss: 1.0943\n",
            "Epoch 6 / 10, Step 1680 / 5086, Loss: 0.0004\n",
            "Epoch 6 / 10, Step 1690 / 5086, Loss: 2.8653\n"
          ]
        },
        {
          "output_type": "stream",
          "name": "stderr",
          "text": [
            "1716it [00:11, 148.48it/s]"
          ]
        },
        {
          "output_type": "stream",
          "name": "stdout",
          "text": [
            "Epoch 6 / 10, Step 1700 / 5086, Loss: 2.2748\n",
            "Epoch 6 / 10, Step 1710 / 5086, Loss: 0.1504\n",
            "Epoch 6 / 10, Step 1720 / 5086, Loss: 0.0967\n",
            "Epoch 6 / 10, Step 1730 / 5086, Loss: 0.0566\n"
          ]
        },
        {
          "output_type": "stream",
          "name": "stderr",
          "text": [
            "1763it [00:11, 150.32it/s]"
          ]
        },
        {
          "output_type": "stream",
          "name": "stdout",
          "text": [
            "Epoch 6 / 10, Step 1740 / 5086, Loss: 0.0044\n",
            "Epoch 6 / 10, Step 1750 / 5086, Loss: 2.4688\n",
            "Epoch 6 / 10, Step 1760 / 5086, Loss: 1.8971\n",
            "Epoch 6 / 10, Step 1770 / 5086, Loss: 1.6359\n"
          ]
        },
        {
          "output_type": "stream",
          "name": "stderr",
          "text": [
            "1811it [00:11, 154.69it/s]"
          ]
        },
        {
          "output_type": "stream",
          "name": "stdout",
          "text": [
            "Epoch 6 / 10, Step 1780 / 5086, Loss: 0.8429\n",
            "Epoch 6 / 10, Step 1790 / 5086, Loss: 1.2414\n",
            "Epoch 6 / 10, Step 1800 / 5086, Loss: 0.0089\n",
            "Epoch 6 / 10, Step 1810 / 5086, Loss: 9.5225\n"
          ]
        },
        {
          "output_type": "stream",
          "name": "stderr",
          "text": [
            "1843it [00:12, 151.45it/s]"
          ]
        },
        {
          "output_type": "stream",
          "name": "stdout",
          "text": [
            "Epoch 6 / 10, Step 1820 / 5086, Loss: 11.0332\n",
            "Epoch 6 / 10, Step 1830 / 5086, Loss: 2.9657\n",
            "Epoch 6 / 10, Step 1840 / 5086, Loss: 6.4303\n",
            "Epoch 6 / 10, Step 1850 / 5086, Loss: 0.1694\n"
          ]
        },
        {
          "output_type": "stream",
          "name": "stderr",
          "text": [
            "1890it [00:12, 149.33it/s]"
          ]
        },
        {
          "output_type": "stream",
          "name": "stdout",
          "text": [
            "Epoch 6 / 10, Step 1860 / 5086, Loss: 2.8440\n",
            "Epoch 6 / 10, Step 1870 / 5086, Loss: 5.2449\n",
            "Epoch 6 / 10, Step 1880 / 5086, Loss: 3.3513\n",
            "Epoch 6 / 10, Step 1890 / 5086, Loss: 4.3179\n"
          ]
        },
        {
          "output_type": "stream",
          "name": "stderr",
          "text": [
            "1921it [00:12, 149.30it/s]"
          ]
        },
        {
          "output_type": "stream",
          "name": "stdout",
          "text": [
            "Epoch 6 / 10, Step 1900 / 5086, Loss: 5.1909\n",
            "Epoch 6 / 10, Step 1910 / 5086, Loss: 0.0004\n",
            "Epoch 6 / 10, Step 1920 / 5086, Loss: 6.8906\n",
            "Epoch 6 / 10, Step 1930 / 5086, Loss: 0.8109\n"
          ]
        },
        {
          "output_type": "stream",
          "name": "stderr",
          "text": [
            "1969it [00:12, 151.68it/s]"
          ]
        },
        {
          "output_type": "stream",
          "name": "stdout",
          "text": [
            "Epoch 6 / 10, Step 1940 / 5086, Loss: 0.3107\n",
            "Epoch 6 / 10, Step 1950 / 5086, Loss: 3.4043\n",
            "Epoch 6 / 10, Step 1960 / 5086, Loss: 5.8355\n",
            "Epoch 6 / 10, Step 1970 / 5086, Loss: 0.0218\n"
          ]
        },
        {
          "output_type": "stream",
          "name": "stderr",
          "text": [
            "2001it [00:13, 149.88it/s]"
          ]
        },
        {
          "output_type": "stream",
          "name": "stdout",
          "text": [
            "Epoch 6 / 10, Step 1980 / 5086, Loss: 0.0973\n",
            "Epoch 6 / 10, Step 1990 / 5086, Loss: 0.1661\n",
            "Epoch 6 / 10, Step 2000 / 5086, Loss: 0.0251\n",
            "Epoch 6 / 10, Step 2010 / 5086, Loss: 1.0024\n"
          ]
        },
        {
          "output_type": "stream",
          "name": "stderr",
          "text": [
            "2049it [00:13, 152.83it/s]"
          ]
        },
        {
          "output_type": "stream",
          "name": "stdout",
          "text": [
            "Epoch 6 / 10, Step 2020 / 5086, Loss: 1.3308\n",
            "Epoch 6 / 10, Step 2030 / 5086, Loss: 3.9044\n",
            "Epoch 6 / 10, Step 2040 / 5086, Loss: 2.3620\n",
            "Epoch 6 / 10, Step 2050 / 5086, Loss: 4.2373\n"
          ]
        },
        {
          "output_type": "stream",
          "name": "stderr",
          "text": [
            "2081it [00:13, 149.88it/s]"
          ]
        },
        {
          "output_type": "stream",
          "name": "stdout",
          "text": [
            "Epoch 6 / 10, Step 2060 / 5086, Loss: 1.9108\n",
            "Epoch 6 / 10, Step 2070 / 5086, Loss: 19.5819\n",
            "Epoch 6 / 10, Step 2080 / 5086, Loss: 5.9015\n"
          ]
        },
        {
          "output_type": "stream",
          "name": "stderr",
          "text": [
            "2113it [00:13, 153.21it/s]"
          ]
        },
        {
          "output_type": "stream",
          "name": "stdout",
          "text": [
            "Epoch 6 / 10, Step 2090 / 5086, Loss: 2.3308\n",
            "Epoch 6 / 10, Step 2100 / 5086, Loss: 2.3835\n",
            "Epoch 6 / 10, Step 2110 / 5086, Loss: 10.2431\n",
            "Epoch 6 / 10, Step 2120 / 5086, Loss: 7.7314\n"
          ]
        },
        {
          "output_type": "stream",
          "name": "stderr",
          "text": [
            "2162it [00:14, 157.44it/s]"
          ]
        },
        {
          "output_type": "stream",
          "name": "stdout",
          "text": [
            "Epoch 6 / 10, Step 2130 / 5086, Loss: 3.9501\n",
            "Epoch 6 / 10, Step 2140 / 5086, Loss: 2.0195\n",
            "Epoch 6 / 10, Step 2150 / 5086, Loss: 0.2414\n",
            "Epoch 6 / 10, Step 2160 / 5086, Loss: 12.9088\n"
          ]
        },
        {
          "output_type": "stream",
          "name": "stderr",
          "text": [
            "2194it [00:14, 155.68it/s]"
          ]
        },
        {
          "output_type": "stream",
          "name": "stdout",
          "text": [
            "Epoch 6 / 10, Step 2170 / 5086, Loss: 0.5961\n",
            "Epoch 6 / 10, Step 2180 / 5086, Loss: 2.6231\n",
            "Epoch 6 / 10, Step 2190 / 5086, Loss: 10.5398\n",
            "Epoch 6 / 10, Step 2200 / 5086, Loss: 11.0634\n"
          ]
        },
        {
          "output_type": "stream",
          "name": "stderr",
          "text": [
            "2227it [00:14, 154.33it/s]"
          ]
        },
        {
          "output_type": "stream",
          "name": "stdout",
          "text": [
            "Epoch 6 / 10, Step 2210 / 5086, Loss: 0.7323\n",
            "Epoch 6 / 10, Step 2220 / 5086, Loss: 0.0000\n",
            "Epoch 6 / 10, Step 2230 / 5086, Loss: 4.7310\n",
            "Epoch 6 / 10, Step 2240 / 5086, Loss: 3.6415\n"
          ]
        },
        {
          "output_type": "stream",
          "name": "stderr",
          "text": [
            "2275it [00:14, 154.08it/s]"
          ]
        },
        {
          "output_type": "stream",
          "name": "stdout",
          "text": [
            "Epoch 6 / 10, Step 2250 / 5086, Loss: 0.0000\n",
            "Epoch 6 / 10, Step 2260 / 5086, Loss: 1.1848\n",
            "Epoch 6 / 10, Step 2270 / 5086, Loss: 7.5088\n",
            "Epoch 6 / 10, Step 2280 / 5086, Loss: 10.4928\n"
          ]
        },
        {
          "output_type": "stream",
          "name": "stderr",
          "text": [
            "2307it [00:15, 152.18it/s]"
          ]
        },
        {
          "output_type": "stream",
          "name": "stdout",
          "text": [
            "Epoch 6 / 10, Step 2290 / 5086, Loss: 0.0896\n",
            "Epoch 6 / 10, Step 2300 / 5086, Loss: 0.1129\n",
            "Epoch 6 / 10, Step 2310 / 5086, Loss: 0.4627\n",
            "Epoch 6 / 10, Step 2320 / 5086, Loss: 0.0000\n"
          ]
        },
        {
          "output_type": "stream",
          "name": "stderr",
          "text": [
            "2353it [00:15, 146.77it/s]"
          ]
        },
        {
          "output_type": "stream",
          "name": "stdout",
          "text": [
            "Epoch 6 / 10, Step 2330 / 5086, Loss: 11.3452\n",
            "Epoch 6 / 10, Step 2340 / 5086, Loss: 0.3778\n",
            "Epoch 6 / 10, Step 2350 / 5086, Loss: 0.0297\n",
            "Epoch 6 / 10, Step 2360 / 5086, Loss: 1.7958\n"
          ]
        },
        {
          "output_type": "stream",
          "name": "stderr",
          "text": [
            "2400it [00:15, 151.57it/s]"
          ]
        },
        {
          "output_type": "stream",
          "name": "stdout",
          "text": [
            "Epoch 6 / 10, Step 2370 / 5086, Loss: 3.4378\n",
            "Epoch 6 / 10, Step 2380 / 5086, Loss: 8.3680\n",
            "Epoch 6 / 10, Step 2390 / 5086, Loss: 0.7114\n",
            "Epoch 6 / 10, Step 2400 / 5086, Loss: 0.7362\n"
          ]
        },
        {
          "output_type": "stream",
          "name": "stderr",
          "text": [
            "2431it [00:15, 148.77it/s]"
          ]
        },
        {
          "output_type": "stream",
          "name": "stdout",
          "text": [
            "Epoch 6 / 10, Step 2410 / 5086, Loss: 0.0101\n",
            "Epoch 6 / 10, Step 2420 / 5086, Loss: 0.2680\n",
            "Epoch 6 / 10, Step 2430 / 5086, Loss: 0.3867\n",
            "Epoch 6 / 10, Step 2440 / 5086, Loss: 0.2097\n"
          ]
        },
        {
          "output_type": "stream",
          "name": "stderr",
          "text": [
            "2478it [00:16, 151.34it/s]"
          ]
        },
        {
          "output_type": "stream",
          "name": "stdout",
          "text": [
            "Epoch 6 / 10, Step 2450 / 5086, Loss: 2.7439\n",
            "Epoch 6 / 10, Step 2460 / 5086, Loss: 3.5700\n",
            "Epoch 6 / 10, Step 2470 / 5086, Loss: 0.6624\n",
            "Epoch 6 / 10, Step 2480 / 5086, Loss: 0.6733\n"
          ]
        },
        {
          "output_type": "stream",
          "name": "stderr",
          "text": [
            "2510it [00:16, 148.99it/s]"
          ]
        },
        {
          "output_type": "stream",
          "name": "stdout",
          "text": [
            "Epoch 6 / 10, Step 2490 / 5086, Loss: 0.0134\n",
            "Epoch 6 / 10, Step 2500 / 5086, Loss: 13.1223\n",
            "Epoch 6 / 10, Step 2510 / 5086, Loss: 13.6916\n"
          ]
        },
        {
          "output_type": "stream",
          "name": "stderr",
          "text": [
            "2543it [00:16, 152.01it/s]"
          ]
        },
        {
          "output_type": "stream",
          "name": "stdout",
          "text": [
            "Epoch 6 / 10, Step 2520 / 5086, Loss: 1.7794\n",
            "Epoch 6 / 10, Step 2530 / 5086, Loss: 0.1269\n",
            "Epoch 6 / 10, Step 2540 / 5086, Loss: 2.3086\n",
            "Epoch 6 / 10, Step 2550 / 5086, Loss: 7.5581\n"
          ]
        },
        {
          "output_type": "stream",
          "name": "stderr",
          "text": [
            "2591it [00:16, 154.31it/s]"
          ]
        },
        {
          "output_type": "stream",
          "name": "stdout",
          "text": [
            "Epoch 6 / 10, Step 2560 / 5086, Loss: 7.5164\n",
            "Epoch 6 / 10, Step 2570 / 5086, Loss: 0.0000\n",
            "Epoch 6 / 10, Step 2580 / 5086, Loss: 3.0331\n",
            "Epoch 6 / 10, Step 2590 / 5086, Loss: 3.8911\n"
          ]
        },
        {
          "output_type": "stream",
          "name": "stderr",
          "text": [
            "2623it [00:17, 149.82it/s]"
          ]
        },
        {
          "output_type": "stream",
          "name": "stdout",
          "text": [
            "Epoch 6 / 10, Step 2600 / 5086, Loss: 3.0265\n",
            "Epoch 6 / 10, Step 2610 / 5086, Loss: 12.3091\n",
            "Epoch 6 / 10, Step 2620 / 5086, Loss: 1.6709\n",
            "Epoch 6 / 10, Step 2630 / 5086, Loss: 8.3680\n"
          ]
        },
        {
          "output_type": "stream",
          "name": "stderr",
          "text": [
            "2671it [00:17, 151.86it/s]"
          ]
        },
        {
          "output_type": "stream",
          "name": "stdout",
          "text": [
            "Epoch 6 / 10, Step 2640 / 5086, Loss: 6.6659\n",
            "Epoch 6 / 10, Step 2650 / 5086, Loss: 3.2778\n",
            "Epoch 6 / 10, Step 2660 / 5086, Loss: 0.2152\n",
            "Epoch 6 / 10, Step 2670 / 5086, Loss: 0.9932\n"
          ]
        },
        {
          "output_type": "stream",
          "name": "stderr",
          "text": [
            "2704it [00:17, 155.03it/s]"
          ]
        },
        {
          "output_type": "stream",
          "name": "stdout",
          "text": [
            "Epoch 6 / 10, Step 2680 / 5086, Loss: 1.2975\n",
            "Epoch 6 / 10, Step 2690 / 5086, Loss: 8.3584\n",
            "Epoch 6 / 10, Step 2700 / 5086, Loss: 0.1217\n",
            "Epoch 6 / 10, Step 2710 / 5086, Loss: 9.5083\n"
          ]
        },
        {
          "output_type": "stream",
          "name": "stderr",
          "text": [
            "2737it [00:17, 156.84it/s]"
          ]
        },
        {
          "output_type": "stream",
          "name": "stdout",
          "text": [
            "Epoch 6 / 10, Step 2720 / 5086, Loss: 0.1184\n",
            "Epoch 6 / 10, Step 2730 / 5086, Loss: 0.0625\n",
            "Epoch 6 / 10, Step 2740 / 5086, Loss: 0.1529\n",
            "Epoch 6 / 10, Step 2750 / 5086, Loss: 4.0641\n"
          ]
        },
        {
          "output_type": "stream",
          "name": "stderr",
          "text": [
            "2786it [00:18, 157.49it/s]"
          ]
        },
        {
          "output_type": "stream",
          "name": "stdout",
          "text": [
            "Epoch 6 / 10, Step 2760 / 5086, Loss: 0.1594\n",
            "Epoch 6 / 10, Step 2770 / 5086, Loss: 11.1503\n",
            "Epoch 6 / 10, Step 2780 / 5086, Loss: 5.4362\n",
            "Epoch 6 / 10, Step 2790 / 5086, Loss: 6.0603\n"
          ]
        },
        {
          "output_type": "stream",
          "name": "stderr",
          "text": [
            "2817it [00:18, 148.07it/s]"
          ]
        },
        {
          "output_type": "stream",
          "name": "stdout",
          "text": [
            "Epoch 6 / 10, Step 2800 / 5086, Loss: 11.6528\n",
            "Epoch 6 / 10, Step 2810 / 5086, Loss: 2.5519\n",
            "Epoch 6 / 10, Step 2820 / 5086, Loss: 0.1396\n",
            "Epoch 6 / 10, Step 2830 / 5086, Loss: 0.0203\n"
          ]
        },
        {
          "output_type": "stream",
          "name": "stderr",
          "text": [
            "2866it [00:18, 154.10it/s]"
          ]
        },
        {
          "output_type": "stream",
          "name": "stdout",
          "text": [
            "Epoch 6 / 10, Step 2840 / 5086, Loss: 3.9275\n",
            "Epoch 6 / 10, Step 2850 / 5086, Loss: 1.0822\n",
            "Epoch 6 / 10, Step 2860 / 5086, Loss: 1.0083\n",
            "Epoch 6 / 10, Step 2870 / 5086, Loss: 7.8664\n"
          ]
        },
        {
          "output_type": "stream",
          "name": "stderr",
          "text": [
            "2900it [00:18, 157.76it/s]"
          ]
        },
        {
          "output_type": "stream",
          "name": "stdout",
          "text": [
            "Epoch 6 / 10, Step 2880 / 5086, Loss: 6.6462\n",
            "Epoch 6 / 10, Step 2890 / 5086, Loss: 20.1540\n",
            "Epoch 6 / 10, Step 2900 / 5086, Loss: 4.9417\n",
            "Epoch 6 / 10, Step 2910 / 5086, Loss: 2.1758\n"
          ]
        },
        {
          "output_type": "stream",
          "name": "stderr",
          "text": [
            "2953it [00:19, 167.65it/s]"
          ]
        },
        {
          "output_type": "stream",
          "name": "stdout",
          "text": [
            "Epoch 6 / 10, Step 2920 / 5086, Loss: 1.2916\n",
            "Epoch 6 / 10, Step 2930 / 5086, Loss: 0.1456\n",
            "Epoch 6 / 10, Step 2940 / 5086, Loss: 0.0002\n",
            "Epoch 6 / 10, Step 2950 / 5086, Loss: 6.2551\n"
          ]
        },
        {
          "output_type": "stream",
          "name": "stderr",
          "text": [
            "2987it [00:19, 163.04it/s]"
          ]
        },
        {
          "output_type": "stream",
          "name": "stdout",
          "text": [
            "Epoch 6 / 10, Step 2960 / 5086, Loss: 3.8725\n",
            "Epoch 6 / 10, Step 2970 / 5086, Loss: 0.0039\n",
            "Epoch 6 / 10, Step 2980 / 5086, Loss: 1.7926\n",
            "Epoch 6 / 10, Step 2990 / 5086, Loss: 0.0930\n"
          ]
        },
        {
          "output_type": "stream",
          "name": "stderr",
          "text": [
            "3021it [00:19, 159.91it/s]"
          ]
        },
        {
          "output_type": "stream",
          "name": "stdout",
          "text": [
            "Epoch 6 / 10, Step 3000 / 5086, Loss: 3.3758\n",
            "Epoch 6 / 10, Step 3010 / 5086, Loss: 4.0977\n",
            "Epoch 6 / 10, Step 3020 / 5086, Loss: 5.8697\n",
            "Epoch 6 / 10, Step 3030 / 5086, Loss: 4.1005\n"
          ]
        },
        {
          "output_type": "stream",
          "name": "stderr",
          "text": [
            "3070it [00:20, 155.61it/s]"
          ]
        },
        {
          "output_type": "stream",
          "name": "stdout",
          "text": [
            "Epoch 6 / 10, Step 3040 / 5086, Loss: 1.9987\n",
            "Epoch 6 / 10, Step 3050 / 5086, Loss: 2.5591\n",
            "Epoch 6 / 10, Step 3060 / 5086, Loss: 2.0752\n",
            "Epoch 6 / 10, Step 3070 / 5086, Loss: 2.1650\n"
          ]
        },
        {
          "output_type": "stream",
          "name": "stderr",
          "text": [
            "3103it [00:20, 157.53it/s]"
          ]
        },
        {
          "output_type": "stream",
          "name": "stdout",
          "text": [
            "Epoch 6 / 10, Step 3080 / 5086, Loss: 1.3406\n",
            "Epoch 6 / 10, Step 3090 / 5086, Loss: 0.0071\n",
            "Epoch 6 / 10, Step 3100 / 5086, Loss: 0.2265\n",
            "Epoch 6 / 10, Step 3110 / 5086, Loss: 0.7380\n"
          ]
        },
        {
          "output_type": "stream",
          "name": "stderr",
          "text": [
            "3135it [00:20, 149.15it/s]"
          ]
        },
        {
          "output_type": "stream",
          "name": "stdout",
          "text": [
            "Epoch 6 / 10, Step 3120 / 5086, Loss: 3.2320\n",
            "Epoch 6 / 10, Step 3130 / 5086, Loss: 1.2498\n",
            "Epoch 6 / 10, Step 3140 / 5086, Loss: 2.6539\n",
            "Epoch 6 / 10, Step 3150 / 5086, Loss: 5.1818\n"
          ]
        },
        {
          "output_type": "stream",
          "name": "stderr",
          "text": [
            "3184it [00:20, 152.49it/s]"
          ]
        },
        {
          "output_type": "stream",
          "name": "stdout",
          "text": [
            "Epoch 6 / 10, Step 3160 / 5086, Loss: 6.1971\n",
            "Epoch 6 / 10, Step 3170 / 5086, Loss: 1.3140\n",
            "Epoch 6 / 10, Step 3180 / 5086, Loss: 7.4701\n",
            "Epoch 6 / 10, Step 3190 / 5086, Loss: 3.5183\n"
          ]
        },
        {
          "output_type": "stream",
          "name": "stderr",
          "text": [
            "3216it [00:21, 151.20it/s]"
          ]
        },
        {
          "output_type": "stream",
          "name": "stdout",
          "text": [
            "Epoch 6 / 10, Step 3200 / 5086, Loss: 8.7157\n",
            "Epoch 6 / 10, Step 3210 / 5086, Loss: 0.1507\n",
            "Epoch 6 / 10, Step 3220 / 5086, Loss: 0.4615\n",
            "Epoch 6 / 10, Step 3230 / 5086, Loss: 1.4533\n"
          ]
        },
        {
          "output_type": "stream",
          "name": "stderr",
          "text": [
            "3265it [00:21, 155.83it/s]"
          ]
        },
        {
          "output_type": "stream",
          "name": "stdout",
          "text": [
            "Epoch 6 / 10, Step 3240 / 5086, Loss: 2.3589\n",
            "Epoch 6 / 10, Step 3250 / 5086, Loss: 1.2057\n",
            "Epoch 6 / 10, Step 3260 / 5086, Loss: 5.7664\n",
            "Epoch 6 / 10, Step 3270 / 5086, Loss: 0.7863\n"
          ]
        },
        {
          "output_type": "stream",
          "name": "stderr",
          "text": [
            "3297it [00:21, 149.34it/s]"
          ]
        },
        {
          "output_type": "stream",
          "name": "stdout",
          "text": [
            "Epoch 6 / 10, Step 3280 / 5086, Loss: 0.0021\n",
            "Epoch 6 / 10, Step 3290 / 5086, Loss: 0.0075\n",
            "Epoch 6 / 10, Step 3300 / 5086, Loss: 0.0053\n",
            "Epoch 6 / 10, Step 3310 / 5086, Loss: 16.1316\n"
          ]
        },
        {
          "output_type": "stream",
          "name": "stderr",
          "text": [
            "3347it [00:21, 159.31it/s]"
          ]
        },
        {
          "output_type": "stream",
          "name": "stdout",
          "text": [
            "Epoch 6 / 10, Step 3320 / 5086, Loss: 10.2879\n",
            "Epoch 6 / 10, Step 3330 / 5086, Loss: 4.2420\n",
            "Epoch 6 / 10, Step 3340 / 5086, Loss: 3.2851\n",
            "Epoch 6 / 10, Step 3350 / 5086, Loss: 0.0241\n"
          ]
        },
        {
          "output_type": "stream",
          "name": "stderr",
          "text": [
            "3379it [00:22, 155.51it/s]"
          ]
        },
        {
          "output_type": "stream",
          "name": "stdout",
          "text": [
            "Epoch 6 / 10, Step 3360 / 5086, Loss: 7.4714\n",
            "Epoch 6 / 10, Step 3370 / 5086, Loss: 2.0734\n",
            "Epoch 6 / 10, Step 3380 / 5086, Loss: 0.0060\n",
            "Epoch 6 / 10, Step 3390 / 5086, Loss: 1.2409\n"
          ]
        },
        {
          "output_type": "stream",
          "name": "stderr",
          "text": [
            "3429it [00:22, 159.37it/s]"
          ]
        },
        {
          "output_type": "stream",
          "name": "stdout",
          "text": [
            "Epoch 6 / 10, Step 3400 / 5086, Loss: 5.5787\n",
            "Epoch 6 / 10, Step 3410 / 5086, Loss: 1.5045\n",
            "Epoch 6 / 10, Step 3420 / 5086, Loss: 0.2277\n",
            "Epoch 6 / 10, Step 3430 / 5086, Loss: 0.4210\n"
          ]
        },
        {
          "output_type": "stream",
          "name": "stderr",
          "text": [
            "3461it [00:22, 149.73it/s]"
          ]
        },
        {
          "output_type": "stream",
          "name": "stdout",
          "text": [
            "Epoch 6 / 10, Step 3440 / 5086, Loss: 0.0001\n",
            "Epoch 6 / 10, Step 3450 / 5086, Loss: 1.8754\n",
            "Epoch 6 / 10, Step 3460 / 5086, Loss: 4.4374\n"
          ]
        },
        {
          "output_type": "stream",
          "name": "stderr",
          "text": [
            "3494it [00:22, 153.60it/s]"
          ]
        },
        {
          "output_type": "stream",
          "name": "stdout",
          "text": [
            "Epoch 6 / 10, Step 3470 / 5086, Loss: 0.5961\n",
            "Epoch 6 / 10, Step 3480 / 5086, Loss: 5.4472\n",
            "Epoch 6 / 10, Step 3490 / 5086, Loss: 9.9186\n",
            "Epoch 6 / 10, Step 3500 / 5086, Loss: 3.0410\n"
          ]
        },
        {
          "output_type": "stream",
          "name": "stderr",
          "text": [
            "3526it [00:23, 152.57it/s]"
          ]
        },
        {
          "output_type": "stream",
          "name": "stdout",
          "text": [
            "Epoch 6 / 10, Step 3510 / 5086, Loss: 0.5068\n",
            "Epoch 6 / 10, Step 3520 / 5086, Loss: 0.0785\n",
            "Epoch 6 / 10, Step 3530 / 5086, Loss: 0.0326\n",
            "Epoch 6 / 10, Step 3540 / 5086, Loss: 0.0535\n"
          ]
        },
        {
          "output_type": "stream",
          "name": "stderr",
          "text": [
            "3575it [00:23, 151.72it/s]"
          ]
        },
        {
          "output_type": "stream",
          "name": "stdout",
          "text": [
            "Epoch 6 / 10, Step 3550 / 5086, Loss: 1.6092\n",
            "Epoch 6 / 10, Step 3560 / 5086, Loss: 1.6714\n",
            "Epoch 6 / 10, Step 3570 / 5086, Loss: 2.0822\n",
            "Epoch 6 / 10, Step 3580 / 5086, Loss: 1.2177\n"
          ]
        },
        {
          "output_type": "stream",
          "name": "stderr",
          "text": [
            "3607it [00:23, 149.25it/s]"
          ]
        },
        {
          "output_type": "stream",
          "name": "stdout",
          "text": [
            "Epoch 6 / 10, Step 3590 / 5086, Loss: 0.0475\n",
            "Epoch 6 / 10, Step 3600 / 5086, Loss: 0.3706\n",
            "Epoch 6 / 10, Step 3610 / 5086, Loss: 0.7671\n"
          ]
        },
        {
          "output_type": "stream",
          "name": "stderr",
          "text": [
            "3638it [00:23, 149.03it/s]"
          ]
        },
        {
          "output_type": "stream",
          "name": "stdout",
          "text": [
            "Epoch 6 / 10, Step 3620 / 5086, Loss: 0.5155\n",
            "Epoch 6 / 10, Step 3630 / 5086, Loss: 0.7182\n",
            "Epoch 6 / 10, Step 3640 / 5086, Loss: 1.4977\n"
          ]
        },
        {
          "output_type": "stream",
          "name": "stderr",
          "text": [
            "3669it [00:24, 148.96it/s]"
          ]
        },
        {
          "output_type": "stream",
          "name": "stdout",
          "text": [
            "Epoch 6 / 10, Step 3650 / 5086, Loss: 3.8865\n",
            "Epoch 6 / 10, Step 3660 / 5086, Loss: 2.2634\n",
            "Epoch 6 / 10, Step 3670 / 5086, Loss: 3.7557\n",
            "Epoch 6 / 10, Step 3680 / 5086, Loss: 0.0085\n"
          ]
        },
        {
          "output_type": "stream",
          "name": "stderr",
          "text": [
            "3721it [00:24, 162.26it/s]"
          ]
        },
        {
          "output_type": "stream",
          "name": "stdout",
          "text": [
            "Epoch 6 / 10, Step 3690 / 5086, Loss: 1.1494\n",
            "Epoch 6 / 10, Step 3700 / 5086, Loss: 0.7275\n",
            "Epoch 6 / 10, Step 3710 / 5086, Loss: 2.5019\n",
            "Epoch 6 / 10, Step 3720 / 5086, Loss: 6.8929\n"
          ]
        },
        {
          "output_type": "stream",
          "name": "stderr",
          "text": [
            "3755it [00:24, 160.34it/s]"
          ]
        },
        {
          "output_type": "stream",
          "name": "stdout",
          "text": [
            "Epoch 6 / 10, Step 3730 / 5086, Loss: 3.8958\n",
            "Epoch 6 / 10, Step 3740 / 5086, Loss: 0.8790\n",
            "Epoch 6 / 10, Step 3750 / 5086, Loss: 1.6743\n",
            "Epoch 6 / 10, Step 3760 / 5086, Loss: 0.0042\n"
          ]
        },
        {
          "output_type": "stream",
          "name": "stderr",
          "text": [
            "3789it [00:24, 158.19it/s]"
          ]
        },
        {
          "output_type": "stream",
          "name": "stdout",
          "text": [
            "Epoch 6 / 10, Step 3770 / 5086, Loss: 0.0128\n",
            "Epoch 6 / 10, Step 3780 / 5086, Loss: 0.1681\n",
            "Epoch 6 / 10, Step 3790 / 5086, Loss: 1.2346\n",
            "Epoch 6 / 10, Step 3800 / 5086, Loss: 1.9655\n"
          ]
        },
        {
          "output_type": "stream",
          "name": "stderr",
          "text": [
            "3837it [00:25, 151.81it/s]"
          ]
        },
        {
          "output_type": "stream",
          "name": "stdout",
          "text": [
            "Epoch 6 / 10, Step 3810 / 5086, Loss: 5.6369\n",
            "Epoch 6 / 10, Step 3820 / 5086, Loss: 3.4852\n",
            "Epoch 6 / 10, Step 3830 / 5086, Loss: 1.4510\n"
          ]
        },
        {
          "output_type": "stream",
          "name": "stderr",
          "text": [
            "3870it [00:25, 153.95it/s]"
          ]
        },
        {
          "output_type": "stream",
          "name": "stdout",
          "text": [
            "Epoch 6 / 10, Step 3840 / 5086, Loss: 0.3165\n",
            "Epoch 6 / 10, Step 3850 / 5086, Loss: 0.0016\n",
            "Epoch 6 / 10, Step 3860 / 5086, Loss: 0.0128\n",
            "Epoch 6 / 10, Step 3870 / 5086, Loss: 0.0044\n"
          ]
        },
        {
          "output_type": "stream",
          "name": "stderr",
          "text": [
            "3902it [00:25, 152.44it/s]"
          ]
        },
        {
          "output_type": "stream",
          "name": "stdout",
          "text": [
            "Epoch 6 / 10, Step 3880 / 5086, Loss: 2.0644\n",
            "Epoch 6 / 10, Step 3890 / 5086, Loss: 1.7662\n",
            "Epoch 6 / 10, Step 3900 / 5086, Loss: 0.8775\n",
            "Epoch 6 / 10, Step 3910 / 5086, Loss: 0.0008\n"
          ]
        },
        {
          "output_type": "stream",
          "name": "stderr",
          "text": [
            "3950it [00:25, 148.90it/s]"
          ]
        },
        {
          "output_type": "stream",
          "name": "stdout",
          "text": [
            "Epoch 6 / 10, Step 3920 / 5086, Loss: 0.0405\n",
            "Epoch 6 / 10, Step 3930 / 5086, Loss: 4.7746\n",
            "Epoch 6 / 10, Step 3940 / 5086, Loss: 5.5517\n",
            "Epoch 6 / 10, Step 3950 / 5086, Loss: 0.0785\n"
          ]
        },
        {
          "output_type": "stream",
          "name": "stderr",
          "text": [
            "3980it [00:26, 144.99it/s]"
          ]
        },
        {
          "output_type": "stream",
          "name": "stdout",
          "text": [
            "Epoch 6 / 10, Step 3960 / 5086, Loss: 3.2532\n",
            "Epoch 6 / 10, Step 3970 / 5086, Loss: 1.4581\n",
            "Epoch 6 / 10, Step 3980 / 5086, Loss: 0.0023\n",
            "Epoch 6 / 10, Step 3990 / 5086, Loss: 3.4263\n"
          ]
        },
        {
          "output_type": "stream",
          "name": "stderr",
          "text": [
            "4028it [00:26, 151.53it/s]"
          ]
        },
        {
          "output_type": "stream",
          "name": "stdout",
          "text": [
            "Epoch 6 / 10, Step 4000 / 5086, Loss: 2.6985\n",
            "Epoch 6 / 10, Step 4010 / 5086, Loss: 4.8419\n",
            "Epoch 6 / 10, Step 4020 / 5086, Loss: 1.2712\n",
            "Epoch 6 / 10, Step 4030 / 5086, Loss: 5.3913\n"
          ]
        },
        {
          "output_type": "stream",
          "name": "stderr",
          "text": [
            "4060it [00:26, 148.19it/s]"
          ]
        },
        {
          "output_type": "stream",
          "name": "stdout",
          "text": [
            "Epoch 6 / 10, Step 4040 / 5086, Loss: 5.3175\n",
            "Epoch 6 / 10, Step 4050 / 5086, Loss: 3.1682\n",
            "Epoch 6 / 10, Step 4060 / 5086, Loss: 0.9308\n"
          ]
        },
        {
          "output_type": "stream",
          "name": "stderr",
          "text": [
            "4092it [00:26, 151.04it/s]"
          ]
        },
        {
          "output_type": "stream",
          "name": "stdout",
          "text": [
            "Epoch 6 / 10, Step 4070 / 5086, Loss: 5.4512\n",
            "Epoch 6 / 10, Step 4080 / 5086, Loss: 0.0012\n",
            "Epoch 6 / 10, Step 4090 / 5086, Loss: 0.9717\n",
            "Epoch 6 / 10, Step 4100 / 5086, Loss: 0.0810\n"
          ]
        },
        {
          "output_type": "stream",
          "name": "stderr",
          "text": [
            "4140it [00:27, 149.03it/s]"
          ]
        },
        {
          "output_type": "stream",
          "name": "stdout",
          "text": [
            "Epoch 6 / 10, Step 4110 / 5086, Loss: 0.0114\n",
            "Epoch 6 / 10, Step 4120 / 5086, Loss: 1.7083\n",
            "Epoch 6 / 10, Step 4130 / 5086, Loss: 3.8297\n",
            "Epoch 6 / 10, Step 4140 / 5086, Loss: 2.1554\n"
          ]
        },
        {
          "output_type": "stream",
          "name": "stderr",
          "text": [
            "4171it [00:27, 147.85it/s]"
          ]
        },
        {
          "output_type": "stream",
          "name": "stdout",
          "text": [
            "Epoch 6 / 10, Step 4150 / 5086, Loss: 0.0792\n",
            "Epoch 6 / 10, Step 4160 / 5086, Loss: 0.0001\n",
            "Epoch 6 / 10, Step 4170 / 5086, Loss: 0.1680\n"
          ]
        },
        {
          "output_type": "stream",
          "name": "stderr",
          "text": [
            "4202it [00:27, 146.78it/s]"
          ]
        },
        {
          "output_type": "stream",
          "name": "stdout",
          "text": [
            "Epoch 6 / 10, Step 4180 / 5086, Loss: 3.9894\n",
            "Epoch 6 / 10, Step 4190 / 5086, Loss: 4.1859\n",
            "Epoch 6 / 10, Step 4200 / 5086, Loss: 0.8585\n",
            "Epoch 6 / 10, Step 4210 / 5086, Loss: 0.0057\n"
          ]
        },
        {
          "output_type": "stream",
          "name": "stderr",
          "text": [
            "4250it [00:27, 152.00it/s]"
          ]
        },
        {
          "output_type": "stream",
          "name": "stdout",
          "text": [
            "Epoch 6 / 10, Step 4220 / 5086, Loss: 0.2976\n",
            "Epoch 6 / 10, Step 4230 / 5086, Loss: 0.0078\n",
            "Epoch 6 / 10, Step 4240 / 5086, Loss: 1.1896\n",
            "Epoch 6 / 10, Step 4250 / 5086, Loss: 6.5596\n"
          ]
        },
        {
          "output_type": "stream",
          "name": "stderr",
          "text": [
            "4282it [00:28, 148.98it/s]"
          ]
        },
        {
          "output_type": "stream",
          "name": "stdout",
          "text": [
            "Epoch 6 / 10, Step 4260 / 5086, Loss: 4.4478\n",
            "Epoch 6 / 10, Step 4270 / 5086, Loss: 3.0343\n",
            "Epoch 6 / 10, Step 4280 / 5086, Loss: 1.6686\n",
            "Epoch 6 / 10, Step 4290 / 5086, Loss: 6.4415\n"
          ]
        },
        {
          "output_type": "stream",
          "name": "stderr",
          "text": [
            "4330it [00:28, 153.81it/s]"
          ]
        },
        {
          "output_type": "stream",
          "name": "stdout",
          "text": [
            "Epoch 6 / 10, Step 4300 / 5086, Loss: 0.6468\n",
            "Epoch 6 / 10, Step 4310 / 5086, Loss: 0.7567\n",
            "Epoch 6 / 10, Step 4320 / 5086, Loss: 0.0008\n",
            "Epoch 6 / 10, Step 4330 / 5086, Loss: 3.4678\n"
          ]
        },
        {
          "output_type": "stream",
          "name": "stderr",
          "text": [
            "4362it [00:28, 151.97it/s]"
          ]
        },
        {
          "output_type": "stream",
          "name": "stdout",
          "text": [
            "Epoch 6 / 10, Step 4340 / 5086, Loss: 0.3956\n",
            "Epoch 6 / 10, Step 4350 / 5086, Loss: 11.5786\n",
            "Epoch 6 / 10, Step 4360 / 5086, Loss: 0.1167\n",
            "Epoch 6 / 10, Step 4370 / 5086, Loss: 1.7253\n"
          ]
        },
        {
          "output_type": "stream",
          "name": "stderr",
          "text": [
            "4411it [00:28, 153.59it/s]"
          ]
        },
        {
          "output_type": "stream",
          "name": "stdout",
          "text": [
            "Epoch 6 / 10, Step 4380 / 5086, Loss: 2.2522\n",
            "Epoch 6 / 10, Step 4390 / 5086, Loss: 2.0279\n",
            "Epoch 6 / 10, Step 4400 / 5086, Loss: 6.9604\n",
            "Epoch 6 / 10, Step 4410 / 5086, Loss: 3.8182\n"
          ]
        },
        {
          "output_type": "stream",
          "name": "stderr",
          "text": [
            "4444it [00:29, 156.74it/s]"
          ]
        },
        {
          "output_type": "stream",
          "name": "stdout",
          "text": [
            "Epoch 6 / 10, Step 4420 / 5086, Loss: 6.2020\n",
            "Epoch 6 / 10, Step 4430 / 5086, Loss: 0.2559\n",
            "Epoch 6 / 10, Step 4440 / 5086, Loss: 0.0034\n",
            "Epoch 6 / 10, Step 4450 / 5086, Loss: 3.3997\n"
          ]
        },
        {
          "output_type": "stream",
          "name": "stderr",
          "text": [
            "4477it [00:29, 156.29it/s]"
          ]
        },
        {
          "output_type": "stream",
          "name": "stdout",
          "text": [
            "Epoch 6 / 10, Step 4460 / 5086, Loss: 5.9228\n",
            "Epoch 6 / 10, Step 4470 / 5086, Loss: 3.5643\n",
            "Epoch 6 / 10, Step 4480 / 5086, Loss: 7.5534\n",
            "Epoch 6 / 10, Step 4490 / 5086, Loss: 3.0982\n"
          ]
        },
        {
          "output_type": "stream",
          "name": "stderr",
          "text": [
            "4526it [00:29, 153.24it/s]"
          ]
        },
        {
          "output_type": "stream",
          "name": "stdout",
          "text": [
            "Epoch 6 / 10, Step 4500 / 5086, Loss: 0.0000\n",
            "Epoch 6 / 10, Step 4510 / 5086, Loss: 0.0007\n",
            "Epoch 6 / 10, Step 4520 / 5086, Loss: 0.0085\n",
            "Epoch 6 / 10, Step 4530 / 5086, Loss: 2.3942\n"
          ]
        },
        {
          "output_type": "stream",
          "name": "stderr",
          "text": [
            "4558it [00:29, 150.96it/s]"
          ]
        },
        {
          "output_type": "stream",
          "name": "stdout",
          "text": [
            "Epoch 6 / 10, Step 4540 / 5086, Loss: 0.0130\n",
            "Epoch 6 / 10, Step 4550 / 5086, Loss: 1.3007\n",
            "Epoch 6 / 10, Step 4560 / 5086, Loss: 0.0062\n",
            "Epoch 6 / 10, Step 4570 / 5086, Loss: 0.0001\n"
          ]
        },
        {
          "output_type": "stream",
          "name": "stderr",
          "text": [
            "4604it [00:30, 148.27it/s]"
          ]
        },
        {
          "output_type": "stream",
          "name": "stdout",
          "text": [
            "Epoch 6 / 10, Step 4580 / 5086, Loss: 0.0070\n",
            "Epoch 6 / 10, Step 4590 / 5086, Loss: 0.5421\n",
            "Epoch 6 / 10, Step 4600 / 5086, Loss: 1.6332\n",
            "Epoch 6 / 10, Step 4610 / 5086, Loss: 0.4149\n"
          ]
        },
        {
          "output_type": "stream",
          "name": "stderr",
          "text": [
            "4651it [00:30, 150.33it/s]"
          ]
        },
        {
          "output_type": "stream",
          "name": "stdout",
          "text": [
            "Epoch 6 / 10, Step 4620 / 5086, Loss: 0.7699\n",
            "Epoch 6 / 10, Step 4630 / 5086, Loss: 0.1521\n",
            "Epoch 6 / 10, Step 4640 / 5086, Loss: 0.1967\n",
            "Epoch 6 / 10, Step 4650 / 5086, Loss: 0.2881\n"
          ]
        },
        {
          "output_type": "stream",
          "name": "stderr",
          "text": [
            "4683it [00:30, 152.49it/s]"
          ]
        },
        {
          "output_type": "stream",
          "name": "stdout",
          "text": [
            "Epoch 6 / 10, Step 4660 / 5086, Loss: 1.6739\n",
            "Epoch 6 / 10, Step 4670 / 5086, Loss: 1.3658\n",
            "Epoch 6 / 10, Step 4680 / 5086, Loss: 0.2905\n",
            "Epoch 6 / 10, Step 4690 / 5086, Loss: 0.0002\n"
          ]
        },
        {
          "output_type": "stream",
          "name": "stderr",
          "text": [
            "4730it [00:31, 148.55it/s]"
          ]
        },
        {
          "output_type": "stream",
          "name": "stdout",
          "text": [
            "Epoch 6 / 10, Step 4700 / 5086, Loss: 4.3085\n",
            "Epoch 6 / 10, Step 4710 / 5086, Loss: 3.9096\n",
            "Epoch 6 / 10, Step 4720 / 5086, Loss: 0.3313\n",
            "Epoch 6 / 10, Step 4730 / 5086, Loss: 0.3962\n"
          ]
        },
        {
          "output_type": "stream",
          "name": "stderr",
          "text": [
            "4761it [00:31, 150.36it/s]"
          ]
        },
        {
          "output_type": "stream",
          "name": "stdout",
          "text": [
            "Epoch 6 / 10, Step 4740 / 5086, Loss: 0.0000\n",
            "Epoch 6 / 10, Step 4750 / 5086, Loss: 5.8494\n",
            "Epoch 6 / 10, Step 4760 / 5086, Loss: 0.0000\n",
            "Epoch 6 / 10, Step 4770 / 5086, Loss: 0.0337\n"
          ]
        },
        {
          "output_type": "stream",
          "name": "stderr",
          "text": [
            "4809it [00:31, 151.99it/s]"
          ]
        },
        {
          "output_type": "stream",
          "name": "stdout",
          "text": [
            "Epoch 6 / 10, Step 4780 / 5086, Loss: 2.2036\n",
            "Epoch 6 / 10, Step 4790 / 5086, Loss: 2.0572\n",
            "Epoch 6 / 10, Step 4800 / 5086, Loss: 0.7878\n",
            "Epoch 6 / 10, Step 4810 / 5086, Loss: 0.0014\n"
          ]
        },
        {
          "output_type": "stream",
          "name": "stderr",
          "text": [
            "4842it [00:31, 155.77it/s]"
          ]
        },
        {
          "output_type": "stream",
          "name": "stdout",
          "text": [
            "Epoch 6 / 10, Step 4820 / 5086, Loss: 0.1195\n",
            "Epoch 6 / 10, Step 4830 / 5086, Loss: 0.0016\n",
            "Epoch 6 / 10, Step 4840 / 5086, Loss: 2.0550\n",
            "Epoch 6 / 10, Step 4850 / 5086, Loss: 3.1374\n"
          ]
        },
        {
          "output_type": "stream",
          "name": "stderr",
          "text": [
            "4890it [00:32, 151.78it/s]"
          ]
        },
        {
          "output_type": "stream",
          "name": "stdout",
          "text": [
            "Epoch 6 / 10, Step 4860 / 5086, Loss: 0.4308\n",
            "Epoch 6 / 10, Step 4870 / 5086, Loss: 1.2896\n",
            "Epoch 6 / 10, Step 4880 / 5086, Loss: 2.2717\n",
            "Epoch 6 / 10, Step 4890 / 5086, Loss: 0.5580\n"
          ]
        },
        {
          "output_type": "stream",
          "name": "stderr",
          "text": [
            "4921it [00:32, 148.73it/s]"
          ]
        },
        {
          "output_type": "stream",
          "name": "stdout",
          "text": [
            "Epoch 6 / 10, Step 4900 / 5086, Loss: 0.5939\n",
            "Epoch 6 / 10, Step 4910 / 5086, Loss: 7.7160\n",
            "Epoch 6 / 10, Step 4920 / 5086, Loss: 0.0071\n",
            "Epoch 6 / 10, Step 4930 / 5086, Loss: 2.2215\n"
          ]
        },
        {
          "output_type": "stream",
          "name": "stderr",
          "text": [
            "4968it [00:32, 151.07it/s]"
          ]
        },
        {
          "output_type": "stream",
          "name": "stdout",
          "text": [
            "Epoch 6 / 10, Step 4940 / 5086, Loss: 2.6018\n",
            "Epoch 6 / 10, Step 4950 / 5086, Loss: 0.4482\n",
            "Epoch 6 / 10, Step 4960 / 5086, Loss: 0.1901\n",
            "Epoch 6 / 10, Step 4970 / 5086, Loss: 0.1584\n"
          ]
        },
        {
          "output_type": "stream",
          "name": "stderr",
          "text": [
            "4999it [00:32, 145.10it/s]"
          ]
        },
        {
          "output_type": "stream",
          "name": "stdout",
          "text": [
            "Epoch 6 / 10, Step 4980 / 5086, Loss: 1.0009\n",
            "Epoch 6 / 10, Step 4990 / 5086, Loss: 1.2515\n",
            "Epoch 6 / 10, Step 5000 / 5086, Loss: 2.5621\n"
          ]
        },
        {
          "output_type": "stream",
          "name": "stderr",
          "text": [
            "5030it [00:33, 146.05it/s]"
          ]
        },
        {
          "output_type": "stream",
          "name": "stdout",
          "text": [
            "Epoch 6 / 10, Step 5010 / 5086, Loss: 0.0659\n",
            "Epoch 6 / 10, Step 5020 / 5086, Loss: 4.0560\n",
            "Epoch 6 / 10, Step 5030 / 5086, Loss: 0.2577\n"
          ]
        },
        {
          "output_type": "stream",
          "name": "stderr",
          "text": [
            "5062it [00:33, 151.10it/s]"
          ]
        },
        {
          "output_type": "stream",
          "name": "stdout",
          "text": [
            "Epoch 6 / 10, Step 5040 / 5086, Loss: 1.5969\n",
            "Epoch 6 / 10, Step 5050 / 5086, Loss: 0.2465\n",
            "Epoch 6 / 10, Step 5060 / 5086, Loss: 6.9014\n",
            "Epoch 6 / 10, Step 5070 / 5086, Loss: 3.2192\n"
          ]
        },
        {
          "output_type": "stream",
          "name": "stderr",
          "text": [
            "5086it [00:33, 152.02it/s]\n"
          ]
        },
        {
          "output_type": "stream",
          "name": "stdout",
          "text": [
            "Epoch 6 / 10, Step 5080 / 5086, Loss: 0.9113\n"
          ]
        },
        {
          "output_type": "stream",
          "name": "stderr",
          "text": [
            "12it [00:00, 119.37it/s]"
          ]
        },
        {
          "output_type": "stream",
          "name": "stdout",
          "text": [
            "Epoch 7 / 10, Step 10 / 5086, Loss: 0.6931\n"
          ]
        },
        {
          "output_type": "stream",
          "name": "stderr",
          "text": [
            "\r27it [00:00, 133.27it/s]"
          ]
        },
        {
          "output_type": "stream",
          "name": "stdout",
          "text": [
            "Epoch 7 / 10, Step 20 / 5086, Loss: 0.0060\n",
            "Epoch 7 / 10, Step 30 / 5086, Loss: 4.0125\n"
          ]
        },
        {
          "output_type": "stream",
          "name": "stderr",
          "text": [
            "\r42it [00:00, 138.29it/s]"
          ]
        },
        {
          "output_type": "stream",
          "name": "stdout",
          "text": [
            "Epoch 7 / 10, Step 40 / 5086, Loss: 0.3294\n"
          ]
        },
        {
          "output_type": "stream",
          "name": "stderr",
          "text": [
            "\r56it [00:00, 135.21it/s]"
          ]
        },
        {
          "output_type": "stream",
          "name": "stdout",
          "text": [
            "Epoch 7 / 10, Step 50 / 5086, Loss: 0.1693\n",
            "Epoch 7 / 10, Step 60 / 5086, Loss: 0.0057\n"
          ]
        },
        {
          "output_type": "stream",
          "name": "stderr",
          "text": [
            "\r71it [00:00, 136.86it/s]"
          ]
        },
        {
          "output_type": "stream",
          "name": "stdout",
          "text": [
            "Epoch 7 / 10, Step 70 / 5086, Loss: 1.3831\n"
          ]
        },
        {
          "output_type": "stream",
          "name": "stderr",
          "text": [
            "\r86it [00:00, 139.77it/s]"
          ]
        },
        {
          "output_type": "stream",
          "name": "stdout",
          "text": [
            "Epoch 7 / 10, Step 80 / 5086, Loss: 0.0276\n",
            "Epoch 7 / 10, Step 90 / 5086, Loss: 0.2828\n",
            "Epoch 7 / 10, Step 100 / 5086, Loss: 0.0901\n"
          ]
        },
        {
          "output_type": "stream",
          "name": "stderr",
          "text": [
            "\r103it [00:00, 147.38it/s]"
          ]
        },
        {
          "output_type": "stream",
          "name": "stdout",
          "text": [
            "Epoch 7 / 10, Step 110 / 5086, Loss: 10.4237\n"
          ]
        },
        {
          "output_type": "stream",
          "name": "stderr",
          "text": [
            "135it [00:00, 151.20it/s]"
          ]
        },
        {
          "output_type": "stream",
          "name": "stdout",
          "text": [
            "Epoch 7 / 10, Step 120 / 5086, Loss: 5.7491\n",
            "Epoch 7 / 10, Step 130 / 5086, Loss: 2.0824\n",
            "Epoch 7 / 10, Step 140 / 5086, Loss: 9.5388\n"
          ]
        },
        {
          "output_type": "stream",
          "name": "stderr",
          "text": [
            "\r151it [00:01, 149.42it/s]"
          ]
        },
        {
          "output_type": "stream",
          "name": "stdout",
          "text": [
            "Epoch 7 / 10, Step 150 / 5086, Loss: 0.0483\n"
          ]
        },
        {
          "output_type": "stream",
          "name": "stderr",
          "text": [
            "\r166it [00:01, 149.01it/s]"
          ]
        },
        {
          "output_type": "stream",
          "name": "stdout",
          "text": [
            "Epoch 7 / 10, Step 160 / 5086, Loss: 2.4715\n",
            "Epoch 7 / 10, Step 170 / 5086, Loss: 1.0940\n",
            "Epoch 7 / 10, Step 180 / 5086, Loss: 1.2315\n"
          ]
        },
        {
          "output_type": "stream",
          "name": "stderr",
          "text": [
            "\r182it [00:01, 150.78it/s]"
          ]
        },
        {
          "output_type": "stream",
          "name": "stdout",
          "text": [
            "Epoch 7 / 10, Step 190 / 5086, Loss: 0.1703\n"
          ]
        },
        {
          "output_type": "stream",
          "name": "stderr",
          "text": [
            "214it [00:01, 150.25it/s]"
          ]
        },
        {
          "output_type": "stream",
          "name": "stdout",
          "text": [
            "Epoch 7 / 10, Step 200 / 5086, Loss: 1.2880\n",
            "Epoch 7 / 10, Step 210 / 5086, Loss: 5.3133\n"
          ]
        },
        {
          "output_type": "stream",
          "name": "stderr",
          "text": [
            "\r230it [00:01, 147.75it/s]"
          ]
        },
        {
          "output_type": "stream",
          "name": "stdout",
          "text": [
            "Epoch 7 / 10, Step 220 / 5086, Loss: 0.7630\n",
            "Epoch 7 / 10, Step 230 / 5086, Loss: 3.4608\n"
          ]
        },
        {
          "output_type": "stream",
          "name": "stderr",
          "text": [
            "\r245it [00:01, 145.81it/s]"
          ]
        },
        {
          "output_type": "stream",
          "name": "stdout",
          "text": [
            "Epoch 7 / 10, Step 240 / 5086, Loss: 2.6596\n"
          ]
        },
        {
          "output_type": "stream",
          "name": "stderr",
          "text": [
            "\r260it [00:01, 143.99it/s]"
          ]
        },
        {
          "output_type": "stream",
          "name": "stdout",
          "text": [
            "Epoch 7 / 10, Step 250 / 5086, Loss: 0.8949\n",
            "Epoch 7 / 10, Step 260 / 5086, Loss: 3.1541\n",
            "Epoch 7 / 10, Step 270 / 5086, Loss: 5.0368\n"
          ]
        },
        {
          "output_type": "stream",
          "name": "stderr",
          "text": [
            "308it [00:02, 151.51it/s]"
          ]
        },
        {
          "output_type": "stream",
          "name": "stdout",
          "text": [
            "Epoch 7 / 10, Step 280 / 5086, Loss: 13.9155\n",
            "Epoch 7 / 10, Step 290 / 5086, Loss: 4.8924\n",
            "Epoch 7 / 10, Step 300 / 5086, Loss: 0.3450\n",
            "Epoch 7 / 10, Step 310 / 5086, Loss: 0.9728\n"
          ]
        },
        {
          "output_type": "stream",
          "name": "stderr",
          "text": [
            "341it [00:02, 150.90it/s]"
          ]
        },
        {
          "output_type": "stream",
          "name": "stdout",
          "text": [
            "Epoch 7 / 10, Step 320 / 5086, Loss: 3.2728\n",
            "Epoch 7 / 10, Step 330 / 5086, Loss: 3.1840\n",
            "Epoch 7 / 10, Step 340 / 5086, Loss: 0.7234\n",
            "Epoch 7 / 10, Step 350 / 5086, Loss: 0.4087\n"
          ]
        },
        {
          "output_type": "stream",
          "name": "stderr",
          "text": [
            "388it [00:02, 147.66it/s]"
          ]
        },
        {
          "output_type": "stream",
          "name": "stdout",
          "text": [
            "Epoch 7 / 10, Step 360 / 5086, Loss: 2.2433\n",
            "Epoch 7 / 10, Step 370 / 5086, Loss: 0.6617\n",
            "Epoch 7 / 10, Step 380 / 5086, Loss: 0.0285\n",
            "Epoch 7 / 10, Step 390 / 5086, Loss: 5.2269\n"
          ]
        },
        {
          "output_type": "stream",
          "name": "stderr",
          "text": [
            "420it [00:02, 151.22it/s]"
          ]
        },
        {
          "output_type": "stream",
          "name": "stdout",
          "text": [
            "Epoch 7 / 10, Step 400 / 5086, Loss: 2.5734\n",
            "Epoch 7 / 10, Step 410 / 5086, Loss: 0.1438\n",
            "Epoch 7 / 10, Step 420 / 5086, Loss: 9.2802\n",
            "Epoch 7 / 10, Step 430 / 5086, Loss: 0.3533\n"
          ]
        },
        {
          "output_type": "stream",
          "name": "stderr",
          "text": [
            "469it [00:03, 152.82it/s]"
          ]
        },
        {
          "output_type": "stream",
          "name": "stdout",
          "text": [
            "Epoch 7 / 10, Step 440 / 5086, Loss: 0.5045\n",
            "Epoch 7 / 10, Step 450 / 5086, Loss: 1.5526\n",
            "Epoch 7 / 10, Step 460 / 5086, Loss: 1.4079\n",
            "Epoch 7 / 10, Step 470 / 5086, Loss: 0.6086\n"
          ]
        },
        {
          "output_type": "stream",
          "name": "stderr",
          "text": [
            "501it [00:03, 153.28it/s]"
          ]
        },
        {
          "output_type": "stream",
          "name": "stdout",
          "text": [
            "Epoch 7 / 10, Step 480 / 5086, Loss: 1.7975\n",
            "Epoch 7 / 10, Step 490 / 5086, Loss: 0.8773\n",
            "Epoch 7 / 10, Step 500 / 5086, Loss: 0.1105\n",
            "Epoch 7 / 10, Step 510 / 5086, Loss: 0.0049\n"
          ]
        },
        {
          "output_type": "stream",
          "name": "stderr",
          "text": [
            "550it [00:03, 153.75it/s]"
          ]
        },
        {
          "output_type": "stream",
          "name": "stdout",
          "text": [
            "Epoch 7 / 10, Step 520 / 5086, Loss: 0.0515\n",
            "Epoch 7 / 10, Step 530 / 5086, Loss: 0.0033\n",
            "Epoch 7 / 10, Step 540 / 5086, Loss: 0.2713\n",
            "Epoch 7 / 10, Step 550 / 5086, Loss: 0.6372\n"
          ]
        },
        {
          "output_type": "stream",
          "name": "stderr",
          "text": [
            "582it [00:03, 152.53it/s]"
          ]
        },
        {
          "output_type": "stream",
          "name": "stdout",
          "text": [
            "Epoch 7 / 10, Step 560 / 5086, Loss: 0.2679\n",
            "Epoch 7 / 10, Step 570 / 5086, Loss: 0.0152\n",
            "Epoch 7 / 10, Step 580 / 5086, Loss: 2.5910\n",
            "Epoch 7 / 10, Step 590 / 5086, Loss: 4.0503\n"
          ]
        },
        {
          "output_type": "stream",
          "name": "stderr",
          "text": [
            "630it [00:04, 152.70it/s]"
          ]
        },
        {
          "output_type": "stream",
          "name": "stdout",
          "text": [
            "Epoch 7 / 10, Step 600 / 5086, Loss: 2.1789\n",
            "Epoch 7 / 10, Step 610 / 5086, Loss: 0.0345\n",
            "Epoch 7 / 10, Step 620 / 5086, Loss: 3.3443\n",
            "Epoch 7 / 10, Step 630 / 5086, Loss: 0.9461\n"
          ]
        },
        {
          "output_type": "stream",
          "name": "stderr",
          "text": [
            "662it [00:04, 152.36it/s]"
          ]
        },
        {
          "output_type": "stream",
          "name": "stdout",
          "text": [
            "Epoch 7 / 10, Step 640 / 5086, Loss: 6.8555\n",
            "Epoch 7 / 10, Step 650 / 5086, Loss: 2.3327\n",
            "Epoch 7 / 10, Step 660 / 5086, Loss: 0.0453\n",
            "Epoch 7 / 10, Step 670 / 5086, Loss: 1.8289\n"
          ]
        },
        {
          "output_type": "stream",
          "name": "stderr",
          "text": [
            "711it [00:04, 151.11it/s]"
          ]
        },
        {
          "output_type": "stream",
          "name": "stdout",
          "text": [
            "Epoch 7 / 10, Step 680 / 5086, Loss: 1.3117\n",
            "Epoch 7 / 10, Step 690 / 5086, Loss: 6.5427\n",
            "Epoch 7 / 10, Step 700 / 5086, Loss: 2.0398\n",
            "Epoch 7 / 10, Step 710 / 5086, Loss: 1.9304\n"
          ]
        },
        {
          "output_type": "stream",
          "name": "stderr",
          "text": [
            "744it [00:05, 153.02it/s]"
          ]
        },
        {
          "output_type": "stream",
          "name": "stdout",
          "text": [
            "Epoch 7 / 10, Step 720 / 5086, Loss: 0.3421\n",
            "Epoch 7 / 10, Step 730 / 5086, Loss: 1.3139\n",
            "Epoch 7 / 10, Step 740 / 5086, Loss: 4.0394\n",
            "Epoch 7 / 10, Step 750 / 5086, Loss: 0.0310\n"
          ]
        },
        {
          "output_type": "stream",
          "name": "stderr",
          "text": [
            "776it [00:05, 152.51it/s]"
          ]
        },
        {
          "output_type": "stream",
          "name": "stdout",
          "text": [
            "Epoch 7 / 10, Step 760 / 5086, Loss: 1.5637\n",
            "Epoch 7 / 10, Step 770 / 5086, Loss: 8.1514\n",
            "Epoch 7 / 10, Step 780 / 5086, Loss: 1.3349\n",
            "Epoch 7 / 10, Step 790 / 5086, Loss: 0.0829\n"
          ]
        },
        {
          "output_type": "stream",
          "name": "stderr",
          "text": [
            "825it [00:05, 157.59it/s]"
          ]
        },
        {
          "output_type": "stream",
          "name": "stdout",
          "text": [
            "Epoch 7 / 10, Step 800 / 5086, Loss: 12.5492\n",
            "Epoch 7 / 10, Step 810 / 5086, Loss: 0.7976\n",
            "Epoch 7 / 10, Step 820 / 5086, Loss: 9.2668\n",
            "Epoch 7 / 10, Step 830 / 5086, Loss: 16.2626\n"
          ]
        },
        {
          "output_type": "stream",
          "name": "stderr",
          "text": [
            "858it [00:05, 153.17it/s]"
          ]
        },
        {
          "output_type": "stream",
          "name": "stdout",
          "text": [
            "Epoch 7 / 10, Step 840 / 5086, Loss: 7.7518\n",
            "Epoch 7 / 10, Step 850 / 5086, Loss: 1.7201\n",
            "Epoch 7 / 10, Step 860 / 5086, Loss: 7.0813\n",
            "Epoch 7 / 10, Step 870 / 5086, Loss: 0.0660\n"
          ]
        },
        {
          "output_type": "stream",
          "name": "stderr",
          "text": [
            "907it [00:06, 153.87it/s]"
          ]
        },
        {
          "output_type": "stream",
          "name": "stdout",
          "text": [
            "Epoch 7 / 10, Step 880 / 5086, Loss: 2.2274\n",
            "Epoch 7 / 10, Step 890 / 5086, Loss: 2.6491\n",
            "Epoch 7 / 10, Step 900 / 5086, Loss: 2.6740\n",
            "Epoch 7 / 10, Step 910 / 5086, Loss: 0.0659\n"
          ]
        },
        {
          "output_type": "stream",
          "name": "stderr",
          "text": [
            "941it [00:06, 158.71it/s]"
          ]
        },
        {
          "output_type": "stream",
          "name": "stdout",
          "text": [
            "Epoch 7 / 10, Step 920 / 5086, Loss: 2.1389\n",
            "Epoch 7 / 10, Step 930 / 5086, Loss: 3.0481\n",
            "Epoch 7 / 10, Step 940 / 5086, Loss: 0.0062\n",
            "Epoch 7 / 10, Step 950 / 5086, Loss: 1.0023\n"
          ]
        },
        {
          "output_type": "stream",
          "name": "stderr",
          "text": [
            "990it [00:06, 155.73it/s]"
          ]
        },
        {
          "output_type": "stream",
          "name": "stdout",
          "text": [
            "Epoch 7 / 10, Step 960 / 5086, Loss: 10.6976\n",
            "Epoch 7 / 10, Step 970 / 5086, Loss: 0.5304\n",
            "Epoch 7 / 10, Step 980 / 5086, Loss: 4.2793\n",
            "Epoch 7 / 10, Step 990 / 5086, Loss: 0.3710\n"
          ]
        },
        {
          "output_type": "stream",
          "name": "stderr",
          "text": [
            "1022it [00:06, 149.20it/s]"
          ]
        },
        {
          "output_type": "stream",
          "name": "stdout",
          "text": [
            "Epoch 7 / 10, Step 1000 / 5086, Loss: 2.7692\n",
            "Epoch 7 / 10, Step 1010 / 5086, Loss: 0.1631\n",
            "Epoch 7 / 10, Step 1020 / 5086, Loss: 0.7566\n"
          ]
        },
        {
          "output_type": "stream",
          "name": "stderr",
          "text": [
            "1053it [00:07, 147.73it/s]"
          ]
        },
        {
          "output_type": "stream",
          "name": "stdout",
          "text": [
            "Epoch 7 / 10, Step 1030 / 5086, Loss: 1.8400\n",
            "Epoch 7 / 10, Step 1040 / 5086, Loss: 5.0854\n",
            "Epoch 7 / 10, Step 1050 / 5086, Loss: 3.6543\n",
            "Epoch 7 / 10, Step 1060 / 5086, Loss: 9.2139\n"
          ]
        },
        {
          "output_type": "stream",
          "name": "stderr",
          "text": [
            "1102it [00:07, 156.47it/s]"
          ]
        },
        {
          "output_type": "stream",
          "name": "stdout",
          "text": [
            "Epoch 7 / 10, Step 1070 / 5086, Loss: 6.7008\n",
            "Epoch 7 / 10, Step 1080 / 5086, Loss: 4.5913\n",
            "Epoch 7 / 10, Step 1090 / 5086, Loss: 0.1248\n",
            "Epoch 7 / 10, Step 1100 / 5086, Loss: 2.6272\n"
          ]
        },
        {
          "output_type": "stream",
          "name": "stderr",
          "text": [
            "1135it [00:07, 156.04it/s]"
          ]
        },
        {
          "output_type": "stream",
          "name": "stdout",
          "text": [
            "Epoch 7 / 10, Step 1110 / 5086, Loss: 0.6781\n",
            "Epoch 7 / 10, Step 1120 / 5086, Loss: 0.6243\n",
            "Epoch 7 / 10, Step 1130 / 5086, Loss: 3.7380\n",
            "Epoch 7 / 10, Step 1140 / 5086, Loss: 1.3974\n"
          ]
        },
        {
          "output_type": "stream",
          "name": "stderr",
          "text": [
            "1167it [00:07, 152.40it/s]"
          ]
        },
        {
          "output_type": "stream",
          "name": "stdout",
          "text": [
            "Epoch 7 / 10, Step 1150 / 5086, Loss: 1.8133\n",
            "Epoch 7 / 10, Step 1160 / 5086, Loss: 4.0410\n",
            "Epoch 7 / 10, Step 1170 / 5086, Loss: 4.0721\n",
            "Epoch 7 / 10, Step 1180 / 5086, Loss: 0.0047\n"
          ]
        },
        {
          "output_type": "stream",
          "name": "stderr",
          "text": [
            "1215it [00:08, 151.38it/s]"
          ]
        },
        {
          "output_type": "stream",
          "name": "stdout",
          "text": [
            "Epoch 7 / 10, Step 1190 / 5086, Loss: 1.2431\n",
            "Epoch 7 / 10, Step 1200 / 5086, Loss: 0.0253\n",
            "Epoch 7 / 10, Step 1210 / 5086, Loss: 4.7144\n",
            "Epoch 7 / 10, Step 1220 / 5086, Loss: 0.7353\n"
          ]
        },
        {
          "output_type": "stream",
          "name": "stderr",
          "text": [
            "1247it [00:08, 149.87it/s]"
          ]
        },
        {
          "output_type": "stream",
          "name": "stdout",
          "text": [
            "Epoch 7 / 10, Step 1230 / 5086, Loss: 20.3196\n",
            "Epoch 7 / 10, Step 1240 / 5086, Loss: 2.2011\n",
            "Epoch 7 / 10, Step 1250 / 5086, Loss: 6.3799\n",
            "Epoch 7 / 10, Step 1260 / 5086, Loss: 1.8019\n"
          ]
        },
        {
          "output_type": "stream",
          "name": "stderr",
          "text": [
            "1294it [00:08, 148.83it/s]"
          ]
        },
        {
          "output_type": "stream",
          "name": "stdout",
          "text": [
            "Epoch 7 / 10, Step 1270 / 5086, Loss: 4.8595\n",
            "Epoch 7 / 10, Step 1280 / 5086, Loss: 0.5398\n",
            "Epoch 7 / 10, Step 1290 / 5086, Loss: 0.1089\n",
            "Epoch 7 / 10, Step 1300 / 5086, Loss: 0.4831\n"
          ]
        },
        {
          "output_type": "stream",
          "name": "stderr",
          "text": [
            "1325it [00:08, 147.20it/s]"
          ]
        },
        {
          "output_type": "stream",
          "name": "stdout",
          "text": [
            "Epoch 7 / 10, Step 1310 / 5086, Loss: 0.2075\n",
            "Epoch 7 / 10, Step 1320 / 5086, Loss: 2.9533\n"
          ]
        },
        {
          "output_type": "stream",
          "name": "stderr",
          "text": [
            "1356it [00:09, 145.57it/s]"
          ]
        },
        {
          "output_type": "stream",
          "name": "stdout",
          "text": [
            "Epoch 7 / 10, Step 1330 / 5086, Loss: 0.7854\n",
            "Epoch 7 / 10, Step 1340 / 5086, Loss: 4.7014\n",
            "Epoch 7 / 10, Step 1350 / 5086, Loss: 6.1397\n"
          ]
        },
        {
          "output_type": "stream",
          "name": "stderr",
          "text": [
            "1388it [00:09, 149.89it/s]"
          ]
        },
        {
          "output_type": "stream",
          "name": "stdout",
          "text": [
            "Epoch 7 / 10, Step 1360 / 5086, Loss: 1.1766\n",
            "Epoch 7 / 10, Step 1370 / 5086, Loss: 4.1552\n",
            "Epoch 7 / 10, Step 1380 / 5086, Loss: 8.4200\n",
            "Epoch 7 / 10, Step 1390 / 5086, Loss: 0.9600\n"
          ]
        },
        {
          "output_type": "stream",
          "name": "stderr",
          "text": [
            "1420it [00:09, 148.63it/s]"
          ]
        },
        {
          "output_type": "stream",
          "name": "stdout",
          "text": [
            "Epoch 7 / 10, Step 1400 / 5086, Loss: 3.4672\n",
            "Epoch 7 / 10, Step 1410 / 5086, Loss: 19.2924\n",
            "Epoch 7 / 10, Step 1420 / 5086, Loss: 1.8032\n",
            "Epoch 7 / 10, Step 1430 / 5086, Loss: 0.1537\n"
          ]
        },
        {
          "output_type": "stream",
          "name": "stderr",
          "text": [
            "1467it [00:09, 149.20it/s]"
          ]
        },
        {
          "output_type": "stream",
          "name": "stdout",
          "text": [
            "Epoch 7 / 10, Step 1440 / 5086, Loss: 0.0864\n",
            "Epoch 7 / 10, Step 1450 / 5086, Loss: 6.7046\n",
            "Epoch 7 / 10, Step 1460 / 5086, Loss: 2.4712\n",
            "Epoch 7 / 10, Step 1470 / 5086, Loss: 0.6727\n"
          ]
        },
        {
          "output_type": "stream",
          "name": "stderr",
          "text": [
            "1499it [00:10, 152.76it/s]"
          ]
        },
        {
          "output_type": "stream",
          "name": "stdout",
          "text": [
            "Epoch 7 / 10, Step 1480 / 5086, Loss: 0.0043\n",
            "Epoch 7 / 10, Step 1490 / 5086, Loss: 0.2159\n",
            "Epoch 7 / 10, Step 1500 / 5086, Loss: 3.6057\n",
            "Epoch 7 / 10, Step 1510 / 5086, Loss: 0.0080\n"
          ]
        },
        {
          "output_type": "stream",
          "name": "stderr",
          "text": [
            "1547it [00:10, 151.39it/s]"
          ]
        },
        {
          "output_type": "stream",
          "name": "stdout",
          "text": [
            "Epoch 7 / 10, Step 1520 / 5086, Loss: 0.0019\n",
            "Epoch 7 / 10, Step 1530 / 5086, Loss: 1.7393\n",
            "Epoch 7 / 10, Step 1540 / 5086, Loss: 1.7269\n",
            "Epoch 7 / 10, Step 1550 / 5086, Loss: 0.0164\n"
          ]
        },
        {
          "output_type": "stream",
          "name": "stderr",
          "text": [
            "1580it [00:10, 153.82it/s]"
          ]
        },
        {
          "output_type": "stream",
          "name": "stdout",
          "text": [
            "Epoch 7 / 10, Step 1560 / 5086, Loss: 0.9724\n",
            "Epoch 7 / 10, Step 1570 / 5086, Loss: 7.6614\n",
            "Epoch 7 / 10, Step 1580 / 5086, Loss: 0.1526\n",
            "Epoch 7 / 10, Step 1590 / 5086, Loss: 6.3761\n"
          ]
        },
        {
          "output_type": "stream",
          "name": "stderr",
          "text": [
            "1628it [00:10, 150.63it/s]"
          ]
        },
        {
          "output_type": "stream",
          "name": "stdout",
          "text": [
            "Epoch 7 / 10, Step 1600 / 5086, Loss: 2.4535\n",
            "Epoch 7 / 10, Step 1610 / 5086, Loss: 0.9298\n",
            "Epoch 7 / 10, Step 1620 / 5086, Loss: 0.0043\n",
            "Epoch 7 / 10, Step 1630 / 5086, Loss: 0.0000\n"
          ]
        },
        {
          "output_type": "stream",
          "name": "stderr",
          "text": [
            "1660it [00:11, 151.25it/s]"
          ]
        },
        {
          "output_type": "stream",
          "name": "stdout",
          "text": [
            "Epoch 7 / 10, Step 1640 / 5086, Loss: 3.0409\n",
            "Epoch 7 / 10, Step 1650 / 5086, Loss: 0.0279\n",
            "Epoch 7 / 10, Step 1660 / 5086, Loss: 0.5409\n",
            "Epoch 7 / 10, Step 1670 / 5086, Loss: 0.3681\n"
          ]
        },
        {
          "output_type": "stream",
          "name": "stderr",
          "text": [
            "1710it [00:11, 157.94it/s]"
          ]
        },
        {
          "output_type": "stream",
          "name": "stdout",
          "text": [
            "Epoch 7 / 10, Step 1680 / 5086, Loss: 0.0011\n",
            "Epoch 7 / 10, Step 1690 / 5086, Loss: 1.7988\n",
            "Epoch 7 / 10, Step 1700 / 5086, Loss: 1.5351\n",
            "Epoch 7 / 10, Step 1710 / 5086, Loss: 1.8428\n"
          ]
        },
        {
          "output_type": "stream",
          "name": "stderr",
          "text": [
            "1743it [00:11, 158.31it/s]"
          ]
        },
        {
          "output_type": "stream",
          "name": "stdout",
          "text": [
            "Epoch 7 / 10, Step 1720 / 5086, Loss: 0.1420\n",
            "Epoch 7 / 10, Step 1730 / 5086, Loss: 0.0345\n",
            "Epoch 7 / 10, Step 1740 / 5086, Loss: 0.0136\n",
            "Epoch 7 / 10, Step 1750 / 5086, Loss: 1.9310\n"
          ]
        },
        {
          "output_type": "stream",
          "name": "stderr",
          "text": [
            "1791it [00:11, 152.98it/s]"
          ]
        },
        {
          "output_type": "stream",
          "name": "stdout",
          "text": [
            "Epoch 7 / 10, Step 1760 / 5086, Loss: 1.2224\n",
            "Epoch 7 / 10, Step 1770 / 5086, Loss: 1.8903\n",
            "Epoch 7 / 10, Step 1780 / 5086, Loss: 0.7729\n",
            "Epoch 7 / 10, Step 1790 / 5086, Loss: 1.5680\n"
          ]
        },
        {
          "output_type": "stream",
          "name": "stderr",
          "text": [
            "1824it [00:12, 153.82it/s]"
          ]
        },
        {
          "output_type": "stream",
          "name": "stdout",
          "text": [
            "Epoch 7 / 10, Step 1800 / 5086, Loss: 0.1728\n",
            "Epoch 7 / 10, Step 1810 / 5086, Loss: 4.8268\n",
            "Epoch 7 / 10, Step 1820 / 5086, Loss: 0.5328\n",
            "Epoch 7 / 10, Step 1830 / 5086, Loss: 1.4899\n"
          ]
        },
        {
          "output_type": "stream",
          "name": "stderr",
          "text": [
            "1856it [00:12, 152.55it/s]"
          ]
        },
        {
          "output_type": "stream",
          "name": "stdout",
          "text": [
            "Epoch 7 / 10, Step 1840 / 5086, Loss: 3.3747\n",
            "Epoch 7 / 10, Step 1850 / 5086, Loss: 0.0889\n",
            "Epoch 7 / 10, Step 1860 / 5086, Loss: 1.6969\n",
            "Epoch 7 / 10, Step 1870 / 5086, Loss: 1.7202\n"
          ]
        },
        {
          "output_type": "stream",
          "name": "stderr",
          "text": [
            "1904it [00:12, 149.84it/s]"
          ]
        },
        {
          "output_type": "stream",
          "name": "stdout",
          "text": [
            "Epoch 7 / 10, Step 1880 / 5086, Loss: 1.6360\n",
            "Epoch 7 / 10, Step 1890 / 5086, Loss: 1.4161\n",
            "Epoch 7 / 10, Step 1900 / 5086, Loss: 4.6427\n"
          ]
        },
        {
          "output_type": "stream",
          "name": "stderr",
          "text": [
            "1935it [00:12, 145.60it/s]"
          ]
        },
        {
          "output_type": "stream",
          "name": "stdout",
          "text": [
            "Epoch 7 / 10, Step 1910 / 5086, Loss: 0.6960\n",
            "Epoch 7 / 10, Step 1920 / 5086, Loss: 5.1046\n",
            "Epoch 7 / 10, Step 1930 / 5086, Loss: 0.1566\n"
          ]
        },
        {
          "output_type": "stream",
          "name": "stderr",
          "text": [
            "1966it [00:13, 145.79it/s]"
          ]
        },
        {
          "output_type": "stream",
          "name": "stdout",
          "text": [
            "Epoch 7 / 10, Step 1940 / 5086, Loss: 1.5397\n",
            "Epoch 7 / 10, Step 1950 / 5086, Loss: 4.0036\n",
            "Epoch 7 / 10, Step 1960 / 5086, Loss: 1.7127\n"
          ]
        },
        {
          "output_type": "stream",
          "name": "stderr",
          "text": [
            "1998it [00:13, 148.05it/s]"
          ]
        },
        {
          "output_type": "stream",
          "name": "stdout",
          "text": [
            "Epoch 7 / 10, Step 1970 / 5086, Loss: 0.1257\n",
            "Epoch 7 / 10, Step 1980 / 5086, Loss: 0.5266\n",
            "Epoch 7 / 10, Step 1990 / 5086, Loss: 0.0118\n",
            "Epoch 7 / 10, Step 2000 / 5086, Loss: 0.4006\n"
          ]
        },
        {
          "output_type": "stream",
          "name": "stderr",
          "text": [
            "2029it [00:13, 146.99it/s]"
          ]
        },
        {
          "output_type": "stream",
          "name": "stdout",
          "text": [
            "Epoch 7 / 10, Step 2010 / 5086, Loss: 0.8703\n",
            "Epoch 7 / 10, Step 2020 / 5086, Loss: 3.2072\n",
            "Epoch 7 / 10, Step 2030 / 5086, Loss: 0.7067\n",
            "Epoch 7 / 10, Step 2040 / 5086, Loss: 3.8338\n"
          ]
        },
        {
          "output_type": "stream",
          "name": "stderr",
          "text": [
            "2075it [00:13, 148.84it/s]"
          ]
        },
        {
          "output_type": "stream",
          "name": "stdout",
          "text": [
            "Epoch 7 / 10, Step 2050 / 5086, Loss: 4.6069\n",
            "Epoch 7 / 10, Step 2060 / 5086, Loss: 2.5496\n",
            "Epoch 7 / 10, Step 2070 / 5086, Loss: 23.9506\n",
            "Epoch 7 / 10, Step 2080 / 5086, Loss: 5.8902\n"
          ]
        },
        {
          "output_type": "stream",
          "name": "stderr",
          "text": [
            "2107it [00:14, 150.54it/s]"
          ]
        },
        {
          "output_type": "stream",
          "name": "stdout",
          "text": [
            "Epoch 7 / 10, Step 2090 / 5086, Loss: 1.6060\n",
            "Epoch 7 / 10, Step 2100 / 5086, Loss: 2.1191\n",
            "Epoch 7 / 10, Step 2110 / 5086, Loss: 10.9784\n",
            "Epoch 7 / 10, Step 2120 / 5086, Loss: 9.0639\n"
          ]
        },
        {
          "output_type": "stream",
          "name": "stderr",
          "text": [
            "2156it [00:14, 153.00it/s]"
          ]
        },
        {
          "output_type": "stream",
          "name": "stdout",
          "text": [
            "Epoch 7 / 10, Step 2130 / 5086, Loss: 5.8439\n",
            "Epoch 7 / 10, Step 2140 / 5086, Loss: 1.2765\n",
            "Epoch 7 / 10, Step 2150 / 5086, Loss: 0.0004\n",
            "Epoch 7 / 10, Step 2160 / 5086, Loss: 9.9762\n"
          ]
        },
        {
          "output_type": "stream",
          "name": "stderr",
          "text": [
            "2189it [00:14, 156.47it/s]"
          ]
        },
        {
          "output_type": "stream",
          "name": "stdout",
          "text": [
            "Epoch 7 / 10, Step 2170 / 5086, Loss: 0.0473\n",
            "Epoch 7 / 10, Step 2180 / 5086, Loss: 8.3326\n",
            "Epoch 7 / 10, Step 2190 / 5086, Loss: 7.1894\n",
            "Epoch 7 / 10, Step 2200 / 5086, Loss: 11.1605\n"
          ]
        },
        {
          "output_type": "stream",
          "name": "stderr",
          "text": [
            "2237it [00:14, 152.31it/s]"
          ]
        },
        {
          "output_type": "stream",
          "name": "stdout",
          "text": [
            "Epoch 7 / 10, Step 2210 / 5086, Loss: 1.5704\n",
            "Epoch 7 / 10, Step 2220 / 5086, Loss: 0.0003\n",
            "Epoch 7 / 10, Step 2230 / 5086, Loss: 1.5908\n"
          ]
        },
        {
          "output_type": "stream",
          "name": "stderr",
          "text": [
            "2270it [00:15, 154.24it/s]"
          ]
        },
        {
          "output_type": "stream",
          "name": "stdout",
          "text": [
            "Epoch 7 / 10, Step 2240 / 5086, Loss: 0.0763\n",
            "Epoch 7 / 10, Step 2250 / 5086, Loss: 0.0000\n",
            "Epoch 7 / 10, Step 2260 / 5086, Loss: 0.8942\n",
            "Epoch 7 / 10, Step 2270 / 5086, Loss: 1.5801\n"
          ]
        },
        {
          "output_type": "stream",
          "name": "stderr",
          "text": [
            "2303it [00:15, 155.84it/s]"
          ]
        },
        {
          "output_type": "stream",
          "name": "stdout",
          "text": [
            "Epoch 7 / 10, Step 2280 / 5086, Loss: 4.7009\n",
            "Epoch 7 / 10, Step 2290 / 5086, Loss: 0.0614\n",
            "Epoch 7 / 10, Step 2300 / 5086, Loss: 0.2563\n",
            "Epoch 7 / 10, Step 2310 / 5086, Loss: 0.0000\n"
          ]
        },
        {
          "output_type": "stream",
          "name": "stderr",
          "text": [
            "2335it [00:15, 149.54it/s]"
          ]
        },
        {
          "output_type": "stream",
          "name": "stdout",
          "text": [
            "Epoch 7 / 10, Step 2320 / 5086, Loss: 0.0027\n",
            "Epoch 7 / 10, Step 2330 / 5086, Loss: 6.1323\n",
            "Epoch 7 / 10, Step 2340 / 5086, Loss: 0.2661\n",
            "Epoch 7 / 10, Step 2350 / 5086, Loss: 0.7153\n"
          ]
        },
        {
          "output_type": "stream",
          "name": "stderr",
          "text": [
            "2385it [00:15, 154.61it/s]"
          ]
        },
        {
          "output_type": "stream",
          "name": "stdout",
          "text": [
            "Epoch 7 / 10, Step 2360 / 5086, Loss: 7.3943\n",
            "Epoch 7 / 10, Step 2370 / 5086, Loss: 2.5362\n",
            "Epoch 7 / 10, Step 2380 / 5086, Loss: 6.9212\n",
            "Epoch 7 / 10, Step 2390 / 5086, Loss: 0.8923\n"
          ]
        },
        {
          "output_type": "stream",
          "name": "stderr",
          "text": [
            "2417it [00:16, 149.90it/s]"
          ]
        },
        {
          "output_type": "stream",
          "name": "stdout",
          "text": [
            "Epoch 7 / 10, Step 2400 / 5086, Loss: 0.6888\n",
            "Epoch 7 / 10, Step 2410 / 5086, Loss: 0.0001\n",
            "Epoch 7 / 10, Step 2420 / 5086, Loss: 0.1572\n",
            "Epoch 7 / 10, Step 2430 / 5086, Loss: 1.7068\n"
          ]
        },
        {
          "output_type": "stream",
          "name": "stderr",
          "text": [
            "2465it [00:16, 153.12it/s]"
          ]
        },
        {
          "output_type": "stream",
          "name": "stdout",
          "text": [
            "Epoch 7 / 10, Step 2440 / 5086, Loss: 0.0002\n",
            "Epoch 7 / 10, Step 2450 / 5086, Loss: 0.2769\n",
            "Epoch 7 / 10, Step 2460 / 5086, Loss: 5.3227\n",
            "Epoch 7 / 10, Step 2470 / 5086, Loss: 0.1599\n"
          ]
        },
        {
          "output_type": "stream",
          "name": "stderr",
          "text": [
            "2499it [00:16, 157.79it/s]"
          ]
        },
        {
          "output_type": "stream",
          "name": "stdout",
          "text": [
            "Epoch 7 / 10, Step 2480 / 5086, Loss: 0.5890\n",
            "Epoch 7 / 10, Step 2490 / 5086, Loss: 0.0211\n",
            "Epoch 7 / 10, Step 2500 / 5086, Loss: 13.5217\n",
            "Epoch 7 / 10, Step 2510 / 5086, Loss: 8.1657\n"
          ]
        },
        {
          "output_type": "stream",
          "name": "stderr",
          "text": [
            "2548it [00:16, 157.60it/s]"
          ]
        },
        {
          "output_type": "stream",
          "name": "stdout",
          "text": [
            "Epoch 7 / 10, Step 2520 / 5086, Loss: 4.1394\n",
            "Epoch 7 / 10, Step 2530 / 5086, Loss: 0.0001\n",
            "Epoch 7 / 10, Step 2540 / 5086, Loss: 0.7725\n",
            "Epoch 7 / 10, Step 2550 / 5086, Loss: 6.7199\n"
          ]
        },
        {
          "output_type": "stream",
          "name": "stderr",
          "text": [
            "2580it [00:17, 152.74it/s]"
          ]
        },
        {
          "output_type": "stream",
          "name": "stdout",
          "text": [
            "Epoch 7 / 10, Step 2560 / 5086, Loss: 6.4412\n",
            "Epoch 7 / 10, Step 2570 / 5086, Loss: 0.0001\n",
            "Epoch 7 / 10, Step 2580 / 5086, Loss: 5.8361\n",
            "Epoch 7 / 10, Step 2590 / 5086, Loss: 0.3913\n"
          ]
        },
        {
          "output_type": "stream",
          "name": "stderr",
          "text": [
            "2629it [00:17, 155.41it/s]"
          ]
        },
        {
          "output_type": "stream",
          "name": "stdout",
          "text": [
            "Epoch 7 / 10, Step 2600 / 5086, Loss: 5.6438\n",
            "Epoch 7 / 10, Step 2610 / 5086, Loss: 4.5627\n",
            "Epoch 7 / 10, Step 2620 / 5086, Loss: 1.2713\n",
            "Epoch 7 / 10, Step 2630 / 5086, Loss: 6.8087\n"
          ]
        },
        {
          "output_type": "stream",
          "name": "stderr",
          "text": [
            "2662it [00:17, 155.74it/s]"
          ]
        },
        {
          "output_type": "stream",
          "name": "stdout",
          "text": [
            "Epoch 7 / 10, Step 2640 / 5086, Loss: 8.0514\n",
            "Epoch 7 / 10, Step 2650 / 5086, Loss: 3.6872\n",
            "Epoch 7 / 10, Step 2660 / 5086, Loss: 1.0876\n",
            "Epoch 7 / 10, Step 2670 / 5086, Loss: 0.0755\n"
          ]
        },
        {
          "output_type": "stream",
          "name": "stderr",
          "text": [
            "2710it [00:18, 153.11it/s]"
          ]
        },
        {
          "output_type": "stream",
          "name": "stdout",
          "text": [
            "Epoch 7 / 10, Step 2680 / 5086, Loss: 1.2435\n",
            "Epoch 7 / 10, Step 2690 / 5086, Loss: 8.6122\n",
            "Epoch 7 / 10, Step 2700 / 5086, Loss: 0.4009\n",
            "Epoch 7 / 10, Step 2710 / 5086, Loss: 10.7281\n"
          ]
        },
        {
          "output_type": "stream",
          "name": "stderr",
          "text": [
            "2742it [00:18, 151.58it/s]"
          ]
        },
        {
          "output_type": "stream",
          "name": "stdout",
          "text": [
            "Epoch 7 / 10, Step 2720 / 5086, Loss: 0.1165\n",
            "Epoch 7 / 10, Step 2730 / 5086, Loss: 0.4113\n",
            "Epoch 7 / 10, Step 2740 / 5086, Loss: 0.0000\n",
            "Epoch 7 / 10, Step 2750 / 5086, Loss: 6.4337\n"
          ]
        },
        {
          "output_type": "stream",
          "name": "stderr",
          "text": [
            "2791it [00:18, 153.11it/s]"
          ]
        },
        {
          "output_type": "stream",
          "name": "stdout",
          "text": [
            "Epoch 7 / 10, Step 2760 / 5086, Loss: 0.4354\n",
            "Epoch 7 / 10, Step 2770 / 5086, Loss: 3.0056\n",
            "Epoch 7 / 10, Step 2780 / 5086, Loss: 3.1622\n",
            "Epoch 7 / 10, Step 2790 / 5086, Loss: 1.3398\n"
          ]
        },
        {
          "output_type": "stream",
          "name": "stderr",
          "text": [
            "2823it [00:18, 151.15it/s]"
          ]
        },
        {
          "output_type": "stream",
          "name": "stdout",
          "text": [
            "Epoch 7 / 10, Step 2800 / 5086, Loss: 12.3100\n",
            "Epoch 7 / 10, Step 2810 / 5086, Loss: 2.5955\n",
            "Epoch 7 / 10, Step 2820 / 5086, Loss: 0.0022\n",
            "Epoch 7 / 10, Step 2830 / 5086, Loss: 2.6935\n"
          ]
        },
        {
          "output_type": "stream",
          "name": "stderr",
          "text": [
            "2870it [00:19, 147.65it/s]"
          ]
        },
        {
          "output_type": "stream",
          "name": "stdout",
          "text": [
            "Epoch 7 / 10, Step 2840 / 5086, Loss: 1.8795\n",
            "Epoch 7 / 10, Step 2850 / 5086, Loss: 0.9181\n",
            "Epoch 7 / 10, Step 2860 / 5086, Loss: 1.7790\n",
            "Epoch 7 / 10, Step 2870 / 5086, Loss: 4.3561\n"
          ]
        },
        {
          "output_type": "stream",
          "name": "stderr",
          "text": [
            "2902it [00:19, 150.93it/s]"
          ]
        },
        {
          "output_type": "stream",
          "name": "stdout",
          "text": [
            "Epoch 7 / 10, Step 2880 / 5086, Loss: 2.8670\n",
            "Epoch 7 / 10, Step 2890 / 5086, Loss: 14.0304\n",
            "Epoch 7 / 10, Step 2900 / 5086, Loss: 5.2105\n",
            "Epoch 7 / 10, Step 2910 / 5086, Loss: 2.6097\n"
          ]
        },
        {
          "output_type": "stream",
          "name": "stderr",
          "text": [
            "2950it [00:19, 153.09it/s]"
          ]
        },
        {
          "output_type": "stream",
          "name": "stdout",
          "text": [
            "Epoch 7 / 10, Step 2920 / 5086, Loss: 2.3810\n",
            "Epoch 7 / 10, Step 2930 / 5086, Loss: 0.2084\n",
            "Epoch 7 / 10, Step 2940 / 5086, Loss: 0.3701\n",
            "Epoch 7 / 10, Step 2950 / 5086, Loss: 4.3763\n"
          ]
        },
        {
          "output_type": "stream",
          "name": "stderr",
          "text": [
            "2982it [00:19, 150.47it/s]"
          ]
        },
        {
          "output_type": "stream",
          "name": "stdout",
          "text": [
            "Epoch 7 / 10, Step 2960 / 5086, Loss: 3.4404\n",
            "Epoch 7 / 10, Step 2970 / 5086, Loss: 0.0000\n",
            "Epoch 7 / 10, Step 2980 / 5086, Loss: 0.0002\n",
            "Epoch 7 / 10, Step 2990 / 5086, Loss: 0.0001\n"
          ]
        },
        {
          "output_type": "stream",
          "name": "stderr",
          "text": [
            "3012it [00:20, 123.05it/s]"
          ]
        },
        {
          "output_type": "stream",
          "name": "stdout",
          "text": [
            "Epoch 7 / 10, Step 3000 / 5086, Loss: 4.9121\n",
            "Epoch 7 / 10, Step 3010 / 5086, Loss: 1.9890\n",
            "Epoch 7 / 10, Step 3020 / 5086, Loss: 1.4547\n"
          ]
        },
        {
          "output_type": "stream",
          "name": "stderr",
          "text": [
            "3049it [00:20, 107.86it/s]"
          ]
        },
        {
          "output_type": "stream",
          "name": "stdout",
          "text": [
            "Epoch 7 / 10, Step 3030 / 5086, Loss: 4.5575\n",
            "Epoch 7 / 10, Step 3040 / 5086, Loss: 1.2224\n",
            "Epoch 7 / 10, Step 3050 / 5086, Loss: 0.9413\n"
          ]
        },
        {
          "output_type": "stream",
          "name": "stderr",
          "text": [
            "3071it [00:20, 104.63it/s]"
          ]
        },
        {
          "output_type": "stream",
          "name": "stdout",
          "text": [
            "Epoch 7 / 10, Step 3060 / 5086, Loss: 4.3715\n",
            "Epoch 7 / 10, Step 3070 / 5086, Loss: 1.6934\n",
            "Epoch 7 / 10, Step 3080 / 5086, Loss: 0.5639\n"
          ]
        },
        {
          "output_type": "stream",
          "name": "stderr",
          "text": [
            "3105it [00:21, 97.71it/s] "
          ]
        },
        {
          "output_type": "stream",
          "name": "stdout",
          "text": [
            "Epoch 7 / 10, Step 3090 / 5086, Loss: 0.0294\n",
            "Epoch 7 / 10, Step 3100 / 5086, Loss: 0.0074\n"
          ]
        },
        {
          "output_type": "stream",
          "name": "stderr",
          "text": [
            "3127it [00:21, 92.12it/s]"
          ]
        },
        {
          "output_type": "stream",
          "name": "stdout",
          "text": [
            "Epoch 7 / 10, Step 3110 / 5086, Loss: 1.8993\n",
            "Epoch 7 / 10, Step 3120 / 5086, Loss: 4.2096\n"
          ]
        },
        {
          "output_type": "stream",
          "name": "stderr",
          "text": [
            "\r3137it [00:21, 75.08it/s]"
          ]
        },
        {
          "output_type": "stream",
          "name": "stdout",
          "text": [
            "Epoch 7 / 10, Step 3130 / 5086, Loss: 0.4840\n"
          ]
        },
        {
          "output_type": "stream",
          "name": "stderr",
          "text": [
            "\r3146it [00:21, 63.36it/s]"
          ]
        },
        {
          "output_type": "stream",
          "name": "stdout",
          "text": [
            "Epoch 7 / 10, Step 3140 / 5086, Loss: 1.9116\n",
            "Epoch 7 / 10, Step 3150 / 5086, Loss: 6.1922"
          ]
        },
        {
          "output_type": "stream",
          "name": "stderr",
          "text": [
            "3160it [00:22, 57.34it/s]"
          ]
        },
        {
          "output_type": "stream",
          "name": "stdout",
          "text": [
            "\n",
            "Epoch 7 / 10, Step 3160 / 5086, Loss: 5.1067\n"
          ]
        },
        {
          "output_type": "stream",
          "name": "stderr",
          "text": [
            "3173it [00:22, 53.49it/s]"
          ]
        },
        {
          "output_type": "stream",
          "name": "stdout",
          "text": [
            "Epoch 7 / 10, Step 3170 / 5086, Loss: 2.7631\n"
          ]
        },
        {
          "output_type": "stream",
          "name": "stderr",
          "text": [
            "3193it [00:22, 56.44it/s]"
          ]
        },
        {
          "output_type": "stream",
          "name": "stdout",
          "text": [
            "Epoch 7 / 10, Step 3180 / 5086, Loss: 3.7937\n",
            "Epoch 7 / 10, Step 3190 / 5086, Loss: 3.1411\n"
          ]
        },
        {
          "output_type": "stream",
          "name": "stderr",
          "text": [
            "3207it [00:22, 61.87it/s]"
          ]
        },
        {
          "output_type": "stream",
          "name": "stdout",
          "text": [
            "Epoch 7 / 10, Step 3200 / 5086, Loss: 2.2895\n",
            "Epoch 7 / 10, Step 3210 / 5086, Loss: 0.1920\n"
          ]
        },
        {
          "output_type": "stream",
          "name": "stderr",
          "text": [
            "3230it [00:23, 67.38it/s]"
          ]
        },
        {
          "output_type": "stream",
          "name": "stdout",
          "text": [
            "Epoch 7 / 10, Step 3220 / 5086, Loss: 1.8178\n",
            "Epoch 7 / 10, Step 3230 / 5086, Loss: 0.2775\n"
          ]
        },
        {
          "output_type": "stream",
          "name": "stderr",
          "text": [
            "3250it [00:23, 53.46it/s]"
          ]
        },
        {
          "output_type": "stream",
          "name": "stdout",
          "text": [
            "Epoch 7 / 10, Step 3240 / 5086, Loss: 3.3942\n",
            "Epoch 7 / 10, Step 3250 / 5086, Loss: 0.1568\n"
          ]
        },
        {
          "output_type": "stream",
          "name": "stderr",
          "text": [
            "3275it [00:23, 68.02it/s]"
          ]
        },
        {
          "output_type": "stream",
          "name": "stdout",
          "text": [
            "Epoch 7 / 10, Step 3260 / 5086, Loss: 1.4495\n",
            "Epoch 7 / 10, Step 3270 / 5086, Loss: 0.0328\n"
          ]
        },
        {
          "output_type": "stream",
          "name": "stderr",
          "text": [
            "3292it [00:24, 72.35it/s]"
          ]
        },
        {
          "output_type": "stream",
          "name": "stdout",
          "text": [
            "Epoch 7 / 10, Step 3280 / 5086, Loss: 0.0020\n",
            "Epoch 7 / 10, Step 3290 / 5086, Loss: 0.0012\n"
          ]
        },
        {
          "output_type": "stream",
          "name": "stderr",
          "text": [
            "3307it [00:24, 61.19it/s]"
          ]
        },
        {
          "output_type": "stream",
          "name": "stdout",
          "text": [
            "Epoch 7 / 10, Step 3300 / 5086, Loss: 0.5757\n",
            "Epoch 7 / 10, Step 3310 / 5086, Loss: 7.0337\n"
          ]
        },
        {
          "output_type": "stream",
          "name": "stderr",
          "text": [
            "3329it [00:24, 62.22it/s]"
          ]
        },
        {
          "output_type": "stream",
          "name": "stdout",
          "text": [
            "Epoch 7 / 10, Step 3320 / 5086, Loss: 4.0133\n",
            "Epoch 7 / 10, Step 3330 / 5086, Loss: 5.9460\n"
          ]
        },
        {
          "output_type": "stream",
          "name": "stderr",
          "text": [
            "3358it [00:25, 82.50it/s]"
          ]
        },
        {
          "output_type": "stream",
          "name": "stdout",
          "text": [
            "Epoch 7 / 10, Step 3340 / 5086, Loss: 1.4652\n",
            "Epoch 7 / 10, Step 3350 / 5086, Loss: 0.0397\n"
          ]
        },
        {
          "output_type": "stream",
          "name": "stderr",
          "text": [
            "\r3367it [00:25, 62.55it/s]"
          ]
        },
        {
          "output_type": "stream",
          "name": "stdout",
          "text": [
            "Epoch 7 / 10, Step 3360 / 5086, Loss: 8.4369\n",
            "Epoch 7 / 10, Step 3370 / 5086, Loss: 2.0818\n"
          ]
        },
        {
          "output_type": "stream",
          "name": "stderr",
          "text": [
            "3384it [00:25, 63.71it/s]"
          ]
        },
        {
          "output_type": "stream",
          "name": "stdout",
          "text": [
            "Epoch 7 / 10, Step 3380 / 5086, Loss: 0.1832\n"
          ]
        },
        {
          "output_type": "stream",
          "name": "stderr",
          "text": [
            "3398it [00:25, 52.90it/s]"
          ]
        },
        {
          "output_type": "stream",
          "name": "stdout",
          "text": [
            "Epoch 7 / 10, Step 3390 / 5086, Loss: 3.6831\n"
          ]
        },
        {
          "output_type": "stream",
          "name": "stderr",
          "text": [
            "\r3404it [00:26, 48.77it/s]"
          ]
        },
        {
          "output_type": "stream",
          "name": "stdout",
          "text": [
            "Epoch 7 / 10, Step 3400 / 5086, Loss: 3.4452\n"
          ]
        },
        {
          "output_type": "stream",
          "name": "stderr",
          "text": [
            "3417it [00:26, 52.59it/s]"
          ]
        },
        {
          "output_type": "stream",
          "name": "stdout",
          "text": [
            "Epoch 7 / 10, Step 3410 / 5086, Loss: 1.3941\n",
            "Epoch 7 / 10, Step 3420 / 5086, Loss: 0.1105\n"
          ]
        },
        {
          "output_type": "stream",
          "name": "stderr",
          "text": [
            "3438it [00:26, 46.00it/s]"
          ]
        },
        {
          "output_type": "stream",
          "name": "stdout",
          "text": [
            "Epoch 7 / 10, Step 3430 / 5086, Loss: 1.6802\n"
          ]
        },
        {
          "output_type": "stream",
          "name": "stderr",
          "text": [
            "3452it [00:27, 51.84it/s]"
          ]
        },
        {
          "output_type": "stream",
          "name": "stdout",
          "text": [
            "Epoch 7 / 10, Step 3440 / 5086, Loss: 0.0023\n",
            "Epoch 7 / 10, Step 3450 / 5086, Loss: 1.0570\n"
          ]
        },
        {
          "output_type": "stream",
          "name": "stderr",
          "text": [
            "3479it [00:27, 75.35it/s]"
          ]
        },
        {
          "output_type": "stream",
          "name": "stdout",
          "text": [
            "Epoch 7 / 10, Step 3460 / 5086, Loss: 3.5745\n",
            "Epoch 7 / 10, Step 3470 / 5086, Loss: 1.6644\n"
          ]
        },
        {
          "output_type": "stream",
          "name": "stderr",
          "text": [
            "3497it [00:27, 77.38it/s]"
          ]
        },
        {
          "output_type": "stream",
          "name": "stdout",
          "text": [
            "Epoch 7 / 10, Step 3480 / 5086, Loss: 5.2315\n",
            "Epoch 7 / 10, Step 3490 / 5086, Loss: 8.9279\n"
          ]
        },
        {
          "output_type": "stream",
          "name": "stderr",
          "text": [
            "3516it [00:27, 81.75it/s]"
          ]
        },
        {
          "output_type": "stream",
          "name": "stdout",
          "text": [
            "Epoch 7 / 10, Step 3500 / 5086, Loss: 1.4734\n",
            "Epoch 7 / 10, Step 3510 / 5086, Loss: 0.1143\n"
          ]
        },
        {
          "output_type": "stream",
          "name": "stderr",
          "text": [
            "3538it [00:28, 93.82it/s]"
          ]
        },
        {
          "output_type": "stream",
          "name": "stdout",
          "text": [
            "Epoch 7 / 10, Step 3520 / 5086, Loss: 0.6857\n",
            "Epoch 7 / 10, Step 3530 / 5086, Loss: 0.0329\n"
          ]
        },
        {
          "output_type": "stream",
          "name": "stderr",
          "text": [
            "3558it [00:28, 92.05it/s]"
          ]
        },
        {
          "output_type": "stream",
          "name": "stdout",
          "text": [
            "Epoch 7 / 10, Step 3540 / 5086, Loss: 0.0372\n",
            "Epoch 7 / 10, Step 3550 / 5086, Loss: 0.0286\n"
          ]
        },
        {
          "output_type": "stream",
          "name": "stderr",
          "text": [
            "\r3568it [00:28, 84.07it/s]"
          ]
        },
        {
          "output_type": "stream",
          "name": "stdout",
          "text": [
            "Epoch 7 / 10, Step 3560 / 5086, Loss: 0.1568\n",
            "Epoch 7 / 10, Step 3570 / 5086, Loss: 0.0319\n"
          ]
        },
        {
          "output_type": "stream",
          "name": "stderr",
          "text": [
            "3596it [00:28, 82.02it/s]"
          ]
        },
        {
          "output_type": "stream",
          "name": "stdout",
          "text": [
            "Epoch 7 / 10, Step 3580 / 5086, Loss: 1.6335\n",
            "Epoch 7 / 10, Step 3590 / 5086, Loss: 0.0358\n"
          ]
        },
        {
          "output_type": "stream",
          "name": "stderr",
          "text": [
            "3615it [00:29, 84.44it/s]"
          ]
        },
        {
          "output_type": "stream",
          "name": "stdout",
          "text": [
            "Epoch 7 / 10, Step 3600 / 5086, Loss: 0.6767\n",
            "Epoch 7 / 10, Step 3610 / 5086, Loss: 1.0786\n"
          ]
        },
        {
          "output_type": "stream",
          "name": "stderr",
          "text": [
            "3633it [00:29, 79.56it/s]"
          ]
        },
        {
          "output_type": "stream",
          "name": "stdout",
          "text": [
            "Epoch 7 / 10, Step 3620 / 5086, Loss: 2.4536\n",
            "Epoch 7 / 10, Step 3630 / 5086, Loss: 2.0217\n"
          ]
        },
        {
          "output_type": "stream",
          "name": "stderr",
          "text": [
            "3650it [00:29, 67.39it/s]"
          ]
        },
        {
          "output_type": "stream",
          "name": "stdout",
          "text": [
            "Epoch 7 / 10, Step 3640 / 5086, Loss: 2.9904\n",
            "Epoch 7 / 10, Step 3650 / 5086, Loss: 2.8058\n"
          ]
        },
        {
          "output_type": "stream",
          "name": "stderr",
          "text": [
            "3678it [00:29, 75.37it/s]"
          ]
        },
        {
          "output_type": "stream",
          "name": "stdout",
          "text": [
            "Epoch 7 / 10, Step 3660 / 5086, Loss: 2.3731\n",
            "Epoch 7 / 10, Step 3670 / 5086, Loss: 4.8278\n"
          ]
        },
        {
          "output_type": "stream",
          "name": "stderr",
          "text": [
            "3704it [00:30, 78.09it/s]"
          ]
        },
        {
          "output_type": "stream",
          "name": "stdout",
          "text": [
            "Epoch 7 / 10, Step 3680 / 5086, Loss: 0.0049\n",
            "Epoch 7 / 10, Step 3690 / 5086, Loss: 2.4519\n",
            "Epoch 7 / 10, Step 3700 / 5086, Loss: 3.6844\n"
          ]
        },
        {
          "output_type": "stream",
          "name": "stderr",
          "text": [
            "3722it [00:30, 81.14it/s]"
          ]
        },
        {
          "output_type": "stream",
          "name": "stdout",
          "text": [
            "Epoch 7 / 10, Step 3710 / 5086, Loss: 3.5663\n",
            "Epoch 7 / 10, Step 3720 / 5086, Loss: 4.8745\n"
          ]
        },
        {
          "output_type": "stream",
          "name": "stderr",
          "text": [
            "3739it [00:30, 72.64it/s]"
          ]
        },
        {
          "output_type": "stream",
          "name": "stdout",
          "text": [
            "Epoch 7 / 10, Step 3730 / 5086, Loss: 4.0043\n",
            "Epoch 7 / 10, Step 3740 / 5086, Loss: 0.0025\n"
          ]
        },
        {
          "output_type": "stream",
          "name": "stderr",
          "text": [
            "3766it [00:31, 78.84it/s]"
          ]
        },
        {
          "output_type": "stream",
          "name": "stdout",
          "text": [
            "Epoch 7 / 10, Step 3750 / 5086, Loss: 0.9721\n",
            "Epoch 7 / 10, Step 3760 / 5086, Loss: 0.0120\n"
          ]
        },
        {
          "output_type": "stream",
          "name": "stderr",
          "text": [
            "3786it [00:31, 83.03it/s]"
          ]
        },
        {
          "output_type": "stream",
          "name": "stdout",
          "text": [
            "Epoch 7 / 10, Step 3770 / 5086, Loss: 0.0019\n",
            "Epoch 7 / 10, Step 3780 / 5086, Loss: 0.2317\n"
          ]
        },
        {
          "output_type": "stream",
          "name": "stderr",
          "text": [
            "3803it [00:31, 66.77it/s]"
          ]
        },
        {
          "output_type": "stream",
          "name": "stdout",
          "text": [
            "Epoch 7 / 10, Step 3790 / 5086, Loss: 1.9407\n",
            "Epoch 7 / 10, Step 3800 / 5086, Loss: 2.9408\n"
          ]
        },
        {
          "output_type": "stream",
          "name": "stderr",
          "text": [
            "3818it [00:31, 65.52it/s]"
          ]
        },
        {
          "output_type": "stream",
          "name": "stdout",
          "text": [
            "Epoch 7 / 10, Step 3810 / 5086, Loss: 2.3052\n",
            "Epoch 7 / 10, Step 3820 / 5086, Loss: 3.7402\n"
          ]
        },
        {
          "output_type": "stream",
          "name": "stderr",
          "text": [
            "3845it [00:32, 78.95it/s]"
          ]
        },
        {
          "output_type": "stream",
          "name": "stdout",
          "text": [
            "Epoch 7 / 10, Step 3830 / 5086, Loss: 0.7000\n",
            "Epoch 7 / 10, Step 3840 / 5086, Loss: 0.0867\n"
          ]
        },
        {
          "output_type": "stream",
          "name": "stderr",
          "text": [
            "3863it [00:32, 75.88it/s]"
          ]
        },
        {
          "output_type": "stream",
          "name": "stdout",
          "text": [
            "Epoch 7 / 10, Step 3850 / 5086, Loss: 0.0234\n",
            "Epoch 7 / 10, Step 3860 / 5086, Loss: 0.2614\n"
          ]
        },
        {
          "output_type": "stream",
          "name": "stderr",
          "text": [
            "3883it [00:32, 81.36it/s]"
          ]
        },
        {
          "output_type": "stream",
          "name": "stdout",
          "text": [
            "Epoch 7 / 10, Step 3870 / 5086, Loss: 0.2457\n",
            "Epoch 7 / 10, Step 3880 / 5086, Loss: 0.0184\n"
          ]
        },
        {
          "output_type": "stream",
          "name": "stderr",
          "text": [
            "3905it [00:32, 92.94it/s]"
          ]
        },
        {
          "output_type": "stream",
          "name": "stdout",
          "text": [
            "Epoch 7 / 10, Step 3890 / 5086, Loss: 0.2308\n",
            "Epoch 7 / 10, Step 3900 / 5086, Loss: 0.8497\n",
            "Epoch 7 / 10, Step 3910 / 5086, Loss: 0.0830\n"
          ]
        },
        {
          "output_type": "stream",
          "name": "stderr",
          "text": [
            "3936it [00:33, 95.59it/s]"
          ]
        },
        {
          "output_type": "stream",
          "name": "stdout",
          "text": [
            "Epoch 7 / 10, Step 3920 / 5086, Loss: 0.3749\n",
            "Epoch 7 / 10, Step 3930 / 5086, Loss: 3.3565\n"
          ]
        },
        {
          "output_type": "stream",
          "name": "stderr",
          "text": [
            "3958it [00:33, 93.27it/s]"
          ]
        },
        {
          "output_type": "stream",
          "name": "stdout",
          "text": [
            "Epoch 7 / 10, Step 3940 / 5086, Loss: 7.1859\n",
            "Epoch 7 / 10, Step 3950 / 5086, Loss: 0.3735\n",
            "Epoch 7 / 10, Step 3960 / 5086, Loss: 0.8774\n"
          ]
        },
        {
          "output_type": "stream",
          "name": "stderr",
          "text": [
            "3988it [00:33, 90.59it/s]"
          ]
        },
        {
          "output_type": "stream",
          "name": "stdout",
          "text": [
            "Epoch 7 / 10, Step 3970 / 5086, Loss: 2.3061\n",
            "Epoch 7 / 10, Step 3980 / 5086, Loss: 0.0002\n"
          ]
        },
        {
          "output_type": "stream",
          "name": "stderr",
          "text": [
            "4008it [00:33, 90.49it/s]"
          ]
        },
        {
          "output_type": "stream",
          "name": "stdout",
          "text": [
            "Epoch 7 / 10, Step 3990 / 5086, Loss: 3.0071\n",
            "Epoch 7 / 10, Step 4000 / 5086, Loss: 4.2507\n"
          ]
        },
        {
          "output_type": "stream",
          "name": "stderr",
          "text": [
            "4030it [00:34, 98.36it/s]"
          ]
        },
        {
          "output_type": "stream",
          "name": "stdout",
          "text": [
            "Epoch 7 / 10, Step 4010 / 5086, Loss: 3.6879\n",
            "Epoch 7 / 10, Step 4020 / 5086, Loss: 1.2530\n",
            "Epoch 7 / 10, Step 4030 / 5086, Loss: 8.7780\n"
          ]
        },
        {
          "output_type": "stream",
          "name": "stderr",
          "text": [
            "4052it [00:34, 102.34it/s]"
          ]
        },
        {
          "output_type": "stream",
          "name": "stdout",
          "text": [
            "Epoch 7 / 10, Step 4040 / 5086, Loss: 6.3437\n",
            "Epoch 7 / 10, Step 4050 / 5086, Loss: 3.5137\n"
          ]
        },
        {
          "output_type": "stream",
          "name": "stderr",
          "text": [
            "4073it [00:34, 92.01it/s]"
          ]
        },
        {
          "output_type": "stream",
          "name": "stdout",
          "text": [
            "Epoch 7 / 10, Step 4060 / 5086, Loss: 0.8903\n",
            "Epoch 7 / 10, Step 4070 / 5086, Loss: 2.6841\n"
          ]
        },
        {
          "output_type": "stream",
          "name": "stderr",
          "text": [
            "4093it [00:34, 75.84it/s]"
          ]
        },
        {
          "output_type": "stream",
          "name": "stdout",
          "text": [
            "Epoch 7 / 10, Step 4080 / 5086, Loss: 0.0191\n",
            "Epoch 7 / 10, Step 4090 / 5086, Loss: 0.0509\n"
          ]
        },
        {
          "output_type": "stream",
          "name": "stderr",
          "text": [
            "4111it [00:35, 76.14it/s]"
          ]
        },
        {
          "output_type": "stream",
          "name": "stdout",
          "text": [
            "Epoch 7 / 10, Step 4100 / 5086, Loss: 0.0436\n",
            "Epoch 7 / 10, Step 4110 / 5086, Loss: 0.0001\n"
          ]
        },
        {
          "output_type": "stream",
          "name": "stderr",
          "text": [
            "4131it [00:35, 78.45it/s]"
          ]
        },
        {
          "output_type": "stream",
          "name": "stdout",
          "text": [
            "Epoch 7 / 10, Step 4120 / 5086, Loss: 0.9890\n",
            "Epoch 7 / 10, Step 4130 / 5086, Loss: 2.6242\n",
            "Epoch 7 / 10, Step 4140 / 5086, Loss: 1.3370"
          ]
        },
        {
          "output_type": "stream",
          "name": "stderr",
          "text": [
            "4149it [00:35, 77.42it/s]"
          ]
        },
        {
          "output_type": "stream",
          "name": "stdout",
          "text": [
            "\n",
            "Epoch 7 / 10, Step 4150 / 5086, Loss: 0.0128\n"
          ]
        },
        {
          "output_type": "stream",
          "name": "stderr",
          "text": [
            "4177it [00:36, 82.78it/s]"
          ]
        },
        {
          "output_type": "stream",
          "name": "stdout",
          "text": [
            "Epoch 7 / 10, Step 4160 / 5086, Loss: 0.0001\n",
            "Epoch 7 / 10, Step 4170 / 5086, Loss: 1.0176\n"
          ]
        },
        {
          "output_type": "stream",
          "name": "stderr",
          "text": [
            "4195it [00:36, 80.65it/s]"
          ]
        },
        {
          "output_type": "stream",
          "name": "stdout",
          "text": [
            "Epoch 7 / 10, Step 4180 / 5086, Loss: 7.5420\n",
            "Epoch 7 / 10, Step 4190 / 5086, Loss: 2.8542\n"
          ]
        },
        {
          "output_type": "stream",
          "name": "stderr",
          "text": [
            "4215it [00:36, 87.92it/s]"
          ]
        },
        {
          "output_type": "stream",
          "name": "stdout",
          "text": [
            "Epoch 7 / 10, Step 4200 / 5086, Loss: 0.9455\n",
            "Epoch 7 / 10, Step 4210 / 5086, Loss: 0.0315\n"
          ]
        },
        {
          "output_type": "stream",
          "name": "stderr",
          "text": [
            "4233it [00:36, 80.91it/s]"
          ]
        },
        {
          "output_type": "stream",
          "name": "stdout",
          "text": [
            "Epoch 7 / 10, Step 4220 / 5086, Loss: 0.0011\n",
            "Epoch 7 / 10, Step 4230 / 5086, Loss: 0.0003\n"
          ]
        },
        {
          "output_type": "stream",
          "name": "stderr",
          "text": [
            "4252it [00:36, 80.72it/s]"
          ]
        },
        {
          "output_type": "stream",
          "name": "stdout",
          "text": [
            "Epoch 7 / 10, Step 4240 / 5086, Loss: 2.5847\n",
            "Epoch 7 / 10, Step 4250 / 5086, Loss: 6.2446\n"
          ]
        },
        {
          "output_type": "stream",
          "name": "stderr",
          "text": [
            "4271it [00:37, 84.39it/s]"
          ]
        },
        {
          "output_type": "stream",
          "name": "stdout",
          "text": [
            "Epoch 7 / 10, Step 4260 / 5086, Loss: 3.5671\n",
            "Epoch 7 / 10, Step 4270 / 5086, Loss: 3.7240\n"
          ]
        },
        {
          "output_type": "stream",
          "name": "stderr",
          "text": [
            "4291it [00:37, 86.95it/s]"
          ]
        },
        {
          "output_type": "stream",
          "name": "stdout",
          "text": [
            "Epoch 7 / 10, Step 4280 / 5086, Loss: 1.4483\n",
            "Epoch 7 / 10, Step 4290 / 5086, Loss: 1.1245\n"
          ]
        },
        {
          "output_type": "stream",
          "name": "stderr",
          "text": [
            "4309it [00:37, 80.43it/s]"
          ]
        },
        {
          "output_type": "stream",
          "name": "stdout",
          "text": [
            "Epoch 7 / 10, Step 4300 / 5086, Loss: 2.5289\n",
            "Epoch 7 / 10, Step 4310 / 5086, Loss: 0.1874\n"
          ]
        },
        {
          "output_type": "stream",
          "name": "stderr",
          "text": [
            "4336it [00:38, 79.99it/s]"
          ]
        },
        {
          "output_type": "stream",
          "name": "stdout",
          "text": [
            "Epoch 7 / 10, Step 4320 / 5086, Loss: 0.0741\n",
            "Epoch 7 / 10, Step 4330 / 5086, Loss: 0.9855\n"
          ]
        },
        {
          "output_type": "stream",
          "name": "stderr",
          "text": [
            "4355it [00:38, 81.48it/s]"
          ]
        },
        {
          "output_type": "stream",
          "name": "stdout",
          "text": [
            "Epoch 7 / 10, Step 4340 / 5086, Loss: 0.0180\n",
            "Epoch 7 / 10, Step 4350 / 5086, Loss: 8.6364\n"
          ]
        },
        {
          "output_type": "stream",
          "name": "stderr",
          "text": [
            "4374it [00:38, 83.41it/s]"
          ]
        },
        {
          "output_type": "stream",
          "name": "stdout",
          "text": [
            "Epoch 7 / 10, Step 4360 / 5086, Loss: 0.3493\n",
            "Epoch 7 / 10, Step 4370 / 5086, Loss: 1.2428\n"
          ]
        },
        {
          "output_type": "stream",
          "name": "stderr",
          "text": [
            "4392it [00:38, 82.58it/s]"
          ]
        },
        {
          "output_type": "stream",
          "name": "stdout",
          "text": [
            "Epoch 7 / 10, Step 4380 / 5086, Loss: 2.3585\n",
            "Epoch 7 / 10, Step 4390 / 5086, Loss: 1.5666\n"
          ]
        },
        {
          "output_type": "stream",
          "name": "stderr",
          "text": [
            "4418it [00:38, 106.61it/s]"
          ]
        },
        {
          "output_type": "stream",
          "name": "stdout",
          "text": [
            "Epoch 7 / 10, Step 4400 / 5086, Loss: 4.3310\n",
            "Epoch 7 / 10, Step 4410 / 5086, Loss: 2.7387\n",
            "Epoch 7 / 10, Step 4420 / 5086, Loss: 4.5858\n",
            "Epoch 7 / 10, Step 4430 / 5086, Loss: 0.1314\n"
          ]
        },
        {
          "output_type": "stream",
          "name": "stderr",
          "text": [
            "4463it [00:39, 134.52it/s]"
          ]
        },
        {
          "output_type": "stream",
          "name": "stdout",
          "text": [
            "Epoch 7 / 10, Step 4440 / 5086, Loss: 0.0017\n",
            "Epoch 7 / 10, Step 4450 / 5086, Loss: 1.4493\n",
            "Epoch 7 / 10, Step 4460 / 5086, Loss: 1.4228\n",
            "Epoch 7 / 10, Step 4470 / 5086, Loss: 0.7556\n"
          ]
        },
        {
          "output_type": "stream",
          "name": "stderr",
          "text": [
            "4508it [00:39, 143.65it/s]"
          ]
        },
        {
          "output_type": "stream",
          "name": "stdout",
          "text": [
            "Epoch 7 / 10, Step 4480 / 5086, Loss: 4.1695\n",
            "Epoch 7 / 10, Step 4490 / 5086, Loss: 3.0265\n",
            "Epoch 7 / 10, Step 4500 / 5086, Loss: 0.0010\n"
          ]
        },
        {
          "output_type": "stream",
          "name": "stderr",
          "text": [
            "4539it [00:39, 143.87it/s]"
          ]
        },
        {
          "output_type": "stream",
          "name": "stdout",
          "text": [
            "Epoch 7 / 10, Step 4510 / 5086, Loss: 0.0343\n",
            "Epoch 7 / 10, Step 4520 / 5086, Loss: 0.5886\n",
            "Epoch 7 / 10, Step 4530 / 5086, Loss: 0.3603\n"
          ]
        },
        {
          "output_type": "stream",
          "name": "stderr",
          "text": [
            "\r4554it [00:39, 138.81it/s]"
          ]
        },
        {
          "output_type": "stream",
          "name": "stdout",
          "text": [
            "Epoch 7 / 10, Step 4540 / 5086, Loss: 0.0746\n",
            "Epoch 7 / 10, Step 4550 / 5086, Loss: 0.6905\n",
            "Epoch 7 / 10, Step 4560 / 5086, Loss: 0.8031\n"
          ]
        },
        {
          "output_type": "stream",
          "name": "stderr",
          "text": [
            "4584it [00:40, 134.01it/s]"
          ]
        },
        {
          "output_type": "stream",
          "name": "stdout",
          "text": [
            "Epoch 7 / 10, Step 4570 / 5086, Loss: 0.0012\n",
            "Epoch 7 / 10, Step 4580 / 5086, Loss: 0.0028\n",
            "Epoch 7 / 10, Step 4590 / 5086, Loss: 1.0870\n"
          ]
        },
        {
          "output_type": "stream",
          "name": "stderr",
          "text": [
            "4629it [00:40, 141.94it/s]"
          ]
        },
        {
          "output_type": "stream",
          "name": "stdout",
          "text": [
            "Epoch 7 / 10, Step 4600 / 5086, Loss: 4.0373\n",
            "Epoch 7 / 10, Step 4610 / 5086, Loss: 0.8080\n",
            "Epoch 7 / 10, Step 4620 / 5086, Loss: 0.6196\n"
          ]
        },
        {
          "output_type": "stream",
          "name": "stderr",
          "text": [
            "\r4644it [00:40, 136.91it/s]"
          ]
        },
        {
          "output_type": "stream",
          "name": "stdout",
          "text": [
            "Epoch 7 / 10, Step 4630 / 5086, Loss: 2.4119\n",
            "Epoch 7 / 10, Step 4640 / 5086, Loss: 0.0275\n",
            "Epoch 7 / 10, Step 4650 / 5086, Loss: 0.2182\n"
          ]
        },
        {
          "output_type": "stream",
          "name": "stderr",
          "text": [
            "4674it [00:40, 138.72it/s]"
          ]
        },
        {
          "output_type": "stream",
          "name": "stdout",
          "text": [
            "Epoch 7 / 10, Step 4660 / 5086, Loss: 1.7663\n",
            "Epoch 7 / 10, Step 4670 / 5086, Loss: 3.0643\n",
            "Epoch 7 / 10, Step 4680 / 5086, Loss: 0.4382\n"
          ]
        },
        {
          "output_type": "stream",
          "name": "stderr",
          "text": [
            "4705it [00:40, 136.38it/s]"
          ]
        },
        {
          "output_type": "stream",
          "name": "stdout",
          "text": [
            "Epoch 7 / 10, Step 4690 / 5086, Loss: 0.0017\n",
            "Epoch 7 / 10, Step 4700 / 5086, Loss: 4.2316\n",
            "Epoch 7 / 10, Step 4710 / 5086, Loss: 3.6427\n"
          ]
        },
        {
          "output_type": "stream",
          "name": "stderr",
          "text": [
            "4735it [00:41, 140.49it/s]"
          ]
        },
        {
          "output_type": "stream",
          "name": "stdout",
          "text": [
            "Epoch 7 / 10, Step 4720 / 5086, Loss: 0.6566\n",
            "Epoch 7 / 10, Step 4730 / 5086, Loss: 0.5098\n",
            "Epoch 7 / 10, Step 4740 / 5086, Loss: 0.0000\n"
          ]
        },
        {
          "output_type": "stream",
          "name": "stderr",
          "text": [
            "4765it [00:41, 143.87it/s]"
          ]
        },
        {
          "output_type": "stream",
          "name": "stdout",
          "text": [
            "Epoch 7 / 10, Step 4750 / 5086, Loss: 5.9371\n",
            "Epoch 7 / 10, Step 4760 / 5086, Loss: 0.0006\n",
            "Epoch 7 / 10, Step 4770 / 5086, Loss: 0.2343\n",
            "Epoch 7 / 10, Step 4780 / 5086, Loss: 0.8690\n"
          ]
        },
        {
          "output_type": "stream",
          "name": "stderr",
          "text": [
            "4812it [00:41, 149.27it/s]"
          ]
        },
        {
          "output_type": "stream",
          "name": "stdout",
          "text": [
            "Epoch 7 / 10, Step 4790 / 5086, Loss: 1.5051\n",
            "Epoch 7 / 10, Step 4800 / 5086, Loss: 0.6836\n",
            "Epoch 7 / 10, Step 4810 / 5086, Loss: 0.0050\n",
            "Epoch 7 / 10, Step 4820 / 5086, Loss: 0.4730\n"
          ]
        },
        {
          "output_type": "stream",
          "name": "stderr",
          "text": [
            "4859it [00:41, 150.16it/s]"
          ]
        },
        {
          "output_type": "stream",
          "name": "stdout",
          "text": [
            "Epoch 7 / 10, Step 4830 / 5086, Loss: 0.2094\n",
            "Epoch 7 / 10, Step 4840 / 5086, Loss: 1.7468\n",
            "Epoch 7 / 10, Step 4850 / 5086, Loss: 2.7043\n",
            "Epoch 7 / 10, Step 4860 / 5086, Loss: 0.6144\n"
          ]
        },
        {
          "output_type": "stream",
          "name": "stderr",
          "text": [
            "4891it [00:42, 149.01it/s]"
          ]
        },
        {
          "output_type": "stream",
          "name": "stdout",
          "text": [
            "Epoch 7 / 10, Step 4870 / 5086, Loss: 1.0189\n",
            "Epoch 7 / 10, Step 4880 / 5086, Loss: 2.5428\n",
            "Epoch 7 / 10, Step 4890 / 5086, Loss: 0.0350\n",
            "Epoch 7 / 10, Step 4900 / 5086, Loss: 0.0276\n"
          ]
        },
        {
          "output_type": "stream",
          "name": "stderr",
          "text": [
            "4936it [00:42, 145.27it/s]"
          ]
        },
        {
          "output_type": "stream",
          "name": "stdout",
          "text": [
            "Epoch 7 / 10, Step 4910 / 5086, Loss: 3.2606\n",
            "Epoch 7 / 10, Step 4920 / 5086, Loss: 0.0085\n",
            "Epoch 7 / 10, Step 4930 / 5086, Loss: 1.5035\n"
          ]
        },
        {
          "output_type": "stream",
          "name": "stderr",
          "text": [
            "4966it [00:42, 141.27it/s]"
          ]
        },
        {
          "output_type": "stream",
          "name": "stdout",
          "text": [
            "Epoch 7 / 10, Step 4940 / 5086, Loss: 2.2303\n",
            "Epoch 7 / 10, Step 4950 / 5086, Loss: 0.4284\n",
            "Epoch 7 / 10, Step 4960 / 5086, Loss: 0.0458\n"
          ]
        },
        {
          "output_type": "stream",
          "name": "stderr",
          "text": [
            "4996it [00:42, 139.27it/s]"
          ]
        },
        {
          "output_type": "stream",
          "name": "stdout",
          "text": [
            "Epoch 7 / 10, Step 4970 / 5086, Loss: 0.3282\n",
            "Epoch 7 / 10, Step 4980 / 5086, Loss: 0.4440\n",
            "Epoch 7 / 10, Step 4990 / 5086, Loss: 0.8416\n"
          ]
        },
        {
          "output_type": "stream",
          "name": "stderr",
          "text": [
            "5025it [00:43, 140.82it/s]"
          ]
        },
        {
          "output_type": "stream",
          "name": "stdout",
          "text": [
            "Epoch 7 / 10, Step 5000 / 5086, Loss: 3.7258\n",
            "Epoch 7 / 10, Step 5010 / 5086, Loss: 0.5926\n",
            "Epoch 7 / 10, Step 5020 / 5086, Loss: 1.1026\n"
          ]
        },
        {
          "output_type": "stream",
          "name": "stderr",
          "text": [
            "5055it [00:43, 141.61it/s]"
          ]
        },
        {
          "output_type": "stream",
          "name": "stdout",
          "text": [
            "Epoch 7 / 10, Step 5030 / 5086, Loss: 0.0952\n",
            "Epoch 7 / 10, Step 5040 / 5086, Loss: 0.8042\n",
            "Epoch 7 / 10, Step 5050 / 5086, Loss: 1.3452\n"
          ]
        },
        {
          "output_type": "stream",
          "name": "stderr",
          "text": [
            "5086it [00:43, 116.66it/s]\n"
          ]
        },
        {
          "output_type": "stream",
          "name": "stdout",
          "text": [
            "Epoch 7 / 10, Step 5060 / 5086, Loss: 10.1071\n",
            "Epoch 7 / 10, Step 5070 / 5086, Loss: 3.2813\n",
            "Epoch 7 / 10, Step 5080 / 5086, Loss: 0.5083\n"
          ]
        },
        {
          "output_type": "stream",
          "name": "stderr",
          "text": [
            "27it [00:00, 129.23it/s]"
          ]
        },
        {
          "output_type": "stream",
          "name": "stdout",
          "text": [
            "Epoch 8 / 10, Step 10 / 5086, Loss: 0.5009\n",
            "Epoch 8 / 10, Step 20 / 5086, Loss: 0.0291\n",
            "Epoch 8 / 10, Step 30 / 5086, Loss: 4.1778\n"
          ]
        },
        {
          "output_type": "stream",
          "name": "stderr",
          "text": [
            "55it [00:00, 128.06it/s]"
          ]
        },
        {
          "output_type": "stream",
          "name": "stdout",
          "text": [
            "Epoch 8 / 10, Step 40 / 5086, Loss: 0.5275\n",
            "Epoch 8 / 10, Step 50 / 5086, Loss: 1.1397\n",
            "Epoch 8 / 10, Step 60 / 5086, Loss: 0.0545\n"
          ]
        },
        {
          "output_type": "stream",
          "name": "stderr",
          "text": [
            "86it [00:00, 138.89it/s]"
          ]
        },
        {
          "output_type": "stream",
          "name": "stdout",
          "text": [
            "Epoch 8 / 10, Step 70 / 5086, Loss: 0.1395\n",
            "Epoch 8 / 10, Step 80 / 5086, Loss: 0.0039\n",
            "Epoch 8 / 10, Step 90 / 5086, Loss: 1.5268\n",
            "Epoch 8 / 10, Step 100 / 5086, Loss: 0.5204\n"
          ]
        },
        {
          "output_type": "stream",
          "name": "stderr",
          "text": [
            "132it [00:00, 145.09it/s]"
          ]
        },
        {
          "output_type": "stream",
          "name": "stdout",
          "text": [
            "Epoch 8 / 10, Step 110 / 5086, Loss: 4.8272\n",
            "Epoch 8 / 10, Step 120 / 5086, Loss: 5.8533\n",
            "Epoch 8 / 10, Step 130 / 5086, Loss: 2.6979\n"
          ]
        },
        {
          "output_type": "stream",
          "name": "stderr",
          "text": [
            "162it [00:01, 140.21it/s]"
          ]
        },
        {
          "output_type": "stream",
          "name": "stdout",
          "text": [
            "Epoch 8 / 10, Step 140 / 5086, Loss: 7.7348\n",
            "Epoch 8 / 10, Step 150 / 5086, Loss: 0.0060\n",
            "Epoch 8 / 10, Step 160 / 5086, Loss: 4.9975\n"
          ]
        },
        {
          "output_type": "stream",
          "name": "stderr",
          "text": [
            "192it [00:01, 138.37it/s]"
          ]
        },
        {
          "output_type": "stream",
          "name": "stdout",
          "text": [
            "Epoch 8 / 10, Step 170 / 5086, Loss: 1.4491\n",
            "Epoch 8 / 10, Step 180 / 5086, Loss: 2.0566\n",
            "Epoch 8 / 10, Step 190 / 5086, Loss: 0.2701\n"
          ]
        },
        {
          "output_type": "stream",
          "name": "stderr",
          "text": [
            "222it [00:01, 140.35it/s]"
          ]
        },
        {
          "output_type": "stream",
          "name": "stdout",
          "text": [
            "Epoch 8 / 10, Step 200 / 5086, Loss: 0.2660\n",
            "Epoch 8 / 10, Step 210 / 5086, Loss: 3.3979\n",
            "Epoch 8 / 10, Step 220 / 5086, Loss: 0.0225\n"
          ]
        },
        {
          "output_type": "stream",
          "name": "stderr",
          "text": [
            "252it [00:01, 141.58it/s]"
          ]
        },
        {
          "output_type": "stream",
          "name": "stdout",
          "text": [
            "Epoch 8 / 10, Step 230 / 5086, Loss: 8.3904\n",
            "Epoch 8 / 10, Step 240 / 5086, Loss: 2.6762\n",
            "Epoch 8 / 10, Step 250 / 5086, Loss: 2.1840\n"
          ]
        },
        {
          "output_type": "stream",
          "name": "stderr",
          "text": [
            "283it [00:02, 143.40it/s]"
          ]
        },
        {
          "output_type": "stream",
          "name": "stdout",
          "text": [
            "Epoch 8 / 10, Step 260 / 5086, Loss: 1.9234\n",
            "Epoch 8 / 10, Step 270 / 5086, Loss: 9.6681\n",
            "Epoch 8 / 10, Step 280 / 5086, Loss: 15.3586\n"
          ]
        },
        {
          "output_type": "stream",
          "name": "stderr",
          "text": [
            "313it [00:02, 141.41it/s]"
          ]
        },
        {
          "output_type": "stream",
          "name": "stdout",
          "text": [
            "Epoch 8 / 10, Step 290 / 5086, Loss: 3.9109\n",
            "Epoch 8 / 10, Step 300 / 5086, Loss: 2.2461\n",
            "Epoch 8 / 10, Step 310 / 5086, Loss: 2.3352\n"
          ]
        },
        {
          "output_type": "stream",
          "name": "stderr",
          "text": [
            "342it [00:02, 138.96it/s]"
          ]
        },
        {
          "output_type": "stream",
          "name": "stdout",
          "text": [
            "Epoch 8 / 10, Step 320 / 5086, Loss: 3.2702\n",
            "Epoch 8 / 10, Step 330 / 5086, Loss: 1.6997\n",
            "Epoch 8 / 10, Step 340 / 5086, Loss: 1.3904\n"
          ]
        },
        {
          "output_type": "stream",
          "name": "stderr",
          "text": [
            "372it [00:02, 142.74it/s]"
          ]
        },
        {
          "output_type": "stream",
          "name": "stdout",
          "text": [
            "Epoch 8 / 10, Step 350 / 5086, Loss: 0.1478\n",
            "Epoch 8 / 10, Step 360 / 5086, Loss: 0.0880\n",
            "Epoch 8 / 10, Step 370 / 5086, Loss: 0.1048\n"
          ]
        },
        {
          "output_type": "stream",
          "name": "stderr",
          "text": [
            "402it [00:02, 142.09it/s]"
          ]
        },
        {
          "output_type": "stream",
          "name": "stdout",
          "text": [
            "Epoch 8 / 10, Step 380 / 5086, Loss: 0.9183\n",
            "Epoch 8 / 10, Step 390 / 5086, Loss: 3.2302\n",
            "Epoch 8 / 10, Step 400 / 5086, Loss: 2.5576\n"
          ]
        },
        {
          "output_type": "stream",
          "name": "stderr",
          "text": [
            "432it [00:03, 143.02it/s]"
          ]
        },
        {
          "output_type": "stream",
          "name": "stdout",
          "text": [
            "Epoch 8 / 10, Step 410 / 5086, Loss: 0.1601\n",
            "Epoch 8 / 10, Step 420 / 5086, Loss: 9.3388\n",
            "Epoch 8 / 10, Step 430 / 5086, Loss: 0.1084\n",
            "Epoch 8 / 10, Step 440 / 5086, Loss: 1.7805\n"
          ]
        },
        {
          "output_type": "stream",
          "name": "stderr",
          "text": [
            "479it [00:03, 150.30it/s]"
          ]
        },
        {
          "output_type": "stream",
          "name": "stdout",
          "text": [
            "Epoch 8 / 10, Step 450 / 5086, Loss: 2.6899\n",
            "Epoch 8 / 10, Step 460 / 5086, Loss: 0.8613\n",
            "Epoch 8 / 10, Step 470 / 5086, Loss: 0.4330\n",
            "Epoch 8 / 10, Step 480 / 5086, Loss: 3.1658\n"
          ]
        },
        {
          "output_type": "stream",
          "name": "stderr",
          "text": [
            "511it [00:03, 147.46it/s]"
          ]
        },
        {
          "output_type": "stream",
          "name": "stdout",
          "text": [
            "Epoch 8 / 10, Step 490 / 5086, Loss: 0.4853\n",
            "Epoch 8 / 10, Step 500 / 5086, Loss: 2.0664\n",
            "Epoch 8 / 10, Step 510 / 5086, Loss: 0.0360\n",
            "Epoch 8 / 10, Step 520 / 5086, Loss: 0.2502\n"
          ]
        },
        {
          "output_type": "stream",
          "name": "stderr",
          "text": [
            "556it [00:03, 147.12it/s]"
          ]
        },
        {
          "output_type": "stream",
          "name": "stdout",
          "text": [
            "Epoch 8 / 10, Step 530 / 5086, Loss: 0.0009\n",
            "Epoch 8 / 10, Step 540 / 5086, Loss: 0.7120\n",
            "Epoch 8 / 10, Step 550 / 5086, Loss: 0.7479\n"
          ]
        },
        {
          "output_type": "stream",
          "name": "stderr",
          "text": [
            "586it [00:04, 145.96it/s]"
          ]
        },
        {
          "output_type": "stream",
          "name": "stdout",
          "text": [
            "Epoch 8 / 10, Step 560 / 5086, Loss: 2.8626\n",
            "Epoch 8 / 10, Step 570 / 5086, Loss: 0.4506\n",
            "Epoch 8 / 10, Step 580 / 5086, Loss: 2.9515\n"
          ]
        },
        {
          "output_type": "stream",
          "name": "stderr",
          "text": [
            "617it [00:04, 148.20it/s]"
          ]
        },
        {
          "output_type": "stream",
          "name": "stdout",
          "text": [
            "Epoch 8 / 10, Step 590 / 5086, Loss: 2.5137\n",
            "Epoch 8 / 10, Step 600 / 5086, Loss: 2.0170\n",
            "Epoch 8 / 10, Step 610 / 5086, Loss: 0.0063\n"
          ]
        },
        {
          "output_type": "stream",
          "name": "stderr",
          "text": [
            "647it [00:04, 144.18it/s]"
          ]
        },
        {
          "output_type": "stream",
          "name": "stdout",
          "text": [
            "Epoch 8 / 10, Step 620 / 5086, Loss: 0.4947\n",
            "Epoch 8 / 10, Step 630 / 5086, Loss: 1.6122\n",
            "Epoch 8 / 10, Step 640 / 5086, Loss: 8.4038\n"
          ]
        },
        {
          "output_type": "stream",
          "name": "stderr",
          "text": [
            "678it [00:04, 145.21it/s]"
          ]
        },
        {
          "output_type": "stream",
          "name": "stdout",
          "text": [
            "Epoch 8 / 10, Step 650 / 5086, Loss: 2.4124\n",
            "Epoch 8 / 10, Step 660 / 5086, Loss: 0.0545\n",
            "Epoch 8 / 10, Step 670 / 5086, Loss: 2.6295\n"
          ]
        },
        {
          "output_type": "stream",
          "name": "stderr",
          "text": [
            "709it [00:04, 145.12it/s]"
          ]
        },
        {
          "output_type": "stream",
          "name": "stdout",
          "text": [
            "Epoch 8 / 10, Step 680 / 5086, Loss: 1.1520\n",
            "Epoch 8 / 10, Step 690 / 5086, Loss: 6.3016\n",
            "Epoch 8 / 10, Step 700 / 5086, Loss: 1.2405\n"
          ]
        },
        {
          "output_type": "stream",
          "name": "stderr",
          "text": [
            "\r724it [00:05, 141.75it/s]"
          ]
        },
        {
          "output_type": "stream",
          "name": "stdout",
          "text": [
            "Epoch 8 / 10, Step 710 / 5086, Loss: 2.2636\n",
            "Epoch 8 / 10, Step 720 / 5086, Loss: 1.4741\n",
            "Epoch 8 / 10, Step 730 / 5086, Loss: 2.0946\n"
          ]
        },
        {
          "output_type": "stream",
          "name": "stderr",
          "text": [
            "755it [00:05, 144.28it/s]"
          ]
        },
        {
          "output_type": "stream",
          "name": "stdout",
          "text": [
            "Epoch 8 / 10, Step 740 / 5086, Loss: 1.8229\n",
            "Epoch 8 / 10, Step 750 / 5086, Loss: 0.4627\n",
            "Epoch 8 / 10, Step 760 / 5086, Loss: 1.6301\n"
          ]
        },
        {
          "output_type": "stream",
          "name": "stderr",
          "text": [
            "785it [00:05, 141.66it/s]"
          ]
        },
        {
          "output_type": "stream",
          "name": "stdout",
          "text": [
            "Epoch 8 / 10, Step 770 / 5086, Loss: 5.7058\n",
            "Epoch 8 / 10, Step 780 / 5086, Loss: 0.7051\n",
            "Epoch 8 / 10, Step 790 / 5086, Loss: 0.0500\n"
          ]
        },
        {
          "output_type": "stream",
          "name": "stderr",
          "text": [
            "815it [00:05, 143.40it/s]"
          ]
        },
        {
          "output_type": "stream",
          "name": "stdout",
          "text": [
            "Epoch 8 / 10, Step 800 / 5086, Loss: 5.0551\n",
            "Epoch 8 / 10, Step 810 / 5086, Loss: 1.7553\n",
            "Epoch 8 / 10, Step 820 / 5086, Loss: 0.1274\n",
            "Epoch 8 / 10, Step 830 / 5086, Loss: 20.0233\n"
          ]
        },
        {
          "output_type": "stream",
          "name": "stderr",
          "text": [
            "861it [00:06, 145.42it/s]"
          ]
        },
        {
          "output_type": "stream",
          "name": "stdout",
          "text": [
            "Epoch 8 / 10, Step 840 / 5086, Loss: 7.6481\n",
            "Epoch 8 / 10, Step 850 / 5086, Loss: 6.9139\n",
            "Epoch 8 / 10, Step 860 / 5086, Loss: 6.6760\n",
            "Epoch 8 / 10, Step 870 / 5086, Loss: 0.0301\n"
          ]
        },
        {
          "output_type": "stream",
          "name": "stderr",
          "text": [
            "906it [00:06, 144.46it/s]"
          ]
        },
        {
          "output_type": "stream",
          "name": "stdout",
          "text": [
            "Epoch 8 / 10, Step 880 / 5086, Loss: 1.2980\n",
            "Epoch 8 / 10, Step 890 / 5086, Loss: 2.2454\n",
            "Epoch 8 / 10, Step 900 / 5086, Loss: 2.2920\n"
          ]
        },
        {
          "output_type": "stream",
          "name": "stderr",
          "text": [
            "937it [00:06, 146.13it/s]"
          ]
        },
        {
          "output_type": "stream",
          "name": "stdout",
          "text": [
            "Epoch 8 / 10, Step 910 / 5086, Loss: 0.8894\n",
            "Epoch 8 / 10, Step 920 / 5086, Loss: 2.6560\n",
            "Epoch 8 / 10, Step 930 / 5086, Loss: 0.6825\n"
          ]
        },
        {
          "output_type": "stream",
          "name": "stderr",
          "text": [
            "968it [00:06, 146.17it/s]"
          ]
        },
        {
          "output_type": "stream",
          "name": "stdout",
          "text": [
            "Epoch 8 / 10, Step 940 / 5086, Loss: 0.6940\n",
            "Epoch 8 / 10, Step 950 / 5086, Loss: 0.0167\n",
            "Epoch 8 / 10, Step 960 / 5086, Loss: 9.1980\n"
          ]
        },
        {
          "output_type": "stream",
          "name": "stderr",
          "text": [
            "998it [00:07, 142.49it/s]"
          ]
        },
        {
          "output_type": "stream",
          "name": "stdout",
          "text": [
            "Epoch 8 / 10, Step 970 / 5086, Loss: 0.6713\n",
            "Epoch 8 / 10, Step 980 / 5086, Loss: 2.9615\n",
            "Epoch 8 / 10, Step 990 / 5086, Loss: 4.3070\n"
          ]
        },
        {
          "output_type": "stream",
          "name": "stderr",
          "text": [
            "\r1013it [00:07, 134.40it/s]"
          ]
        },
        {
          "output_type": "stream",
          "name": "stdout",
          "text": [
            "Epoch 8 / 10, Step 1000 / 5086, Loss: 1.7586\n",
            "Epoch 8 / 10, Step 1010 / 5086, Loss: 0.0053\n",
            "Epoch 8 / 10, Step 1020 / 5086, Loss: 0.9965\n"
          ]
        },
        {
          "output_type": "stream",
          "name": "stderr",
          "text": [
            "1060it [00:07, 144.35it/s]"
          ]
        },
        {
          "output_type": "stream",
          "name": "stdout",
          "text": [
            "Epoch 8 / 10, Step 1030 / 5086, Loss: 1.9507\n",
            "Epoch 8 / 10, Step 1040 / 5086, Loss: 4.1553\n",
            "Epoch 8 / 10, Step 1050 / 5086, Loss: 2.6828\n",
            "Epoch 8 / 10, Step 1060 / 5086, Loss: 10.6467\n"
          ]
        },
        {
          "output_type": "stream",
          "name": "stderr",
          "text": [
            "1090it [00:07, 140.95it/s]"
          ]
        },
        {
          "output_type": "stream",
          "name": "stdout",
          "text": [
            "Epoch 8 / 10, Step 1070 / 5086, Loss: 6.6234\n",
            "Epoch 8 / 10, Step 1080 / 5086, Loss: 4.4620\n",
            "Epoch 8 / 10, Step 1090 / 5086, Loss: 0.3565\n"
          ]
        },
        {
          "output_type": "stream",
          "name": "stderr",
          "text": [
            "1122it [00:07, 148.21it/s]"
          ]
        },
        {
          "output_type": "stream",
          "name": "stdout",
          "text": [
            "Epoch 8 / 10, Step 1100 / 5086, Loss: 2.7099\n",
            "Epoch 8 / 10, Step 1110 / 5086, Loss: 1.0187\n",
            "Epoch 8 / 10, Step 1120 / 5086, Loss: 1.1260\n",
            "Epoch 8 / 10, Step 1130 / 5086, Loss: 4.0867\n"
          ]
        },
        {
          "output_type": "stream",
          "name": "stderr",
          "text": [
            "1171it [00:08, 155.56it/s]"
          ]
        },
        {
          "output_type": "stream",
          "name": "stdout",
          "text": [
            "Epoch 8 / 10, Step 1140 / 5086, Loss: 1.0003\n",
            "Epoch 8 / 10, Step 1150 / 5086, Loss: 1.0009\n",
            "Epoch 8 / 10, Step 1160 / 5086, Loss: 5.0075\n",
            "Epoch 8 / 10, Step 1170 / 5086, Loss: 1.4636\n"
          ]
        },
        {
          "output_type": "stream",
          "name": "stderr",
          "text": [
            "1204it [00:08, 156.71it/s]"
          ]
        },
        {
          "output_type": "stream",
          "name": "stdout",
          "text": [
            "Epoch 8 / 10, Step 1180 / 5086, Loss: 0.0024\n",
            "Epoch 8 / 10, Step 1190 / 5086, Loss: 2.3058\n",
            "Epoch 8 / 10, Step 1200 / 5086, Loss: 0.2933\n",
            "Epoch 8 / 10, Step 1210 / 5086, Loss: 3.9747\n"
          ]
        },
        {
          "output_type": "stream",
          "name": "stderr",
          "text": [
            "1237it [00:08, 154.05it/s]"
          ]
        },
        {
          "output_type": "stream",
          "name": "stdout",
          "text": [
            "Epoch 8 / 10, Step 1220 / 5086, Loss: 0.1645\n",
            "Epoch 8 / 10, Step 1230 / 5086, Loss: 21.3044\n",
            "Epoch 8 / 10, Step 1240 / 5086, Loss: 4.4696\n",
            "Epoch 8 / 10, Step 1250 / 5086, Loss: 4.5887\n"
          ]
        },
        {
          "output_type": "stream",
          "name": "stderr",
          "text": [
            "1283it [00:08, 148.71it/s]"
          ]
        },
        {
          "output_type": "stream",
          "name": "stdout",
          "text": [
            "Epoch 8 / 10, Step 1260 / 5086, Loss: 1.3869\n",
            "Epoch 8 / 10, Step 1270 / 5086, Loss: 1.7615\n",
            "Epoch 8 / 10, Step 1280 / 5086, Loss: 0.7025\n",
            "Epoch 8 / 10, Step 1290 / 5086, Loss: 1.8251\n"
          ]
        },
        {
          "output_type": "stream",
          "name": "stderr",
          "text": [
            "1332it [00:09, 153.58it/s]"
          ]
        },
        {
          "output_type": "stream",
          "name": "stdout",
          "text": [
            "Epoch 8 / 10, Step 1300 / 5086, Loss: 2.1007\n",
            "Epoch 8 / 10, Step 1310 / 5086, Loss: 0.1165\n",
            "Epoch 8 / 10, Step 1320 / 5086, Loss: 1.5897\n",
            "Epoch 8 / 10, Step 1330 / 5086, Loss: 1.1298\n"
          ]
        },
        {
          "output_type": "stream",
          "name": "stderr",
          "text": [
            "1364it [00:09, 150.18it/s]"
          ]
        },
        {
          "output_type": "stream",
          "name": "stdout",
          "text": [
            "Epoch 8 / 10, Step 1340 / 5086, Loss: 4.5656\n",
            "Epoch 8 / 10, Step 1350 / 5086, Loss: 7.9340\n",
            "Epoch 8 / 10, Step 1360 / 5086, Loss: 0.2478\n",
            "Epoch 8 / 10, Step 1370 / 5086, Loss: 1.7698\n"
          ]
        },
        {
          "output_type": "stream",
          "name": "stderr",
          "text": [
            "1395it [00:09, 147.58it/s]"
          ]
        },
        {
          "output_type": "stream",
          "name": "stdout",
          "text": [
            "Epoch 8 / 10, Step 1380 / 5086, Loss: 6.5921\n",
            "Epoch 8 / 10, Step 1390 / 5086, Loss: 0.6429\n",
            "Epoch 8 / 10, Step 1400 / 5086, Loss: 0.0186\n"
          ]
        },
        {
          "output_type": "stream",
          "name": "stderr",
          "text": [
            "1425it [00:09, 144.35it/s]"
          ]
        },
        {
          "output_type": "stream",
          "name": "stdout",
          "text": [
            "Epoch 8 / 10, Step 1410 / 5086, Loss: 15.7869\n",
            "Epoch 8 / 10, Step 1420 / 5086, Loss: 2.8457\n",
            "Epoch 8 / 10, Step 1430 / 5086, Loss: 3.6118\n"
          ]
        },
        {
          "output_type": "stream",
          "name": "stderr",
          "text": [
            "1455it [00:10, 140.08it/s]"
          ]
        },
        {
          "output_type": "stream",
          "name": "stdout",
          "text": [
            "Epoch 8 / 10, Step 1440 / 5086, Loss: 0.9682\n",
            "Epoch 8 / 10, Step 1450 / 5086, Loss: 7.5946\n",
            "Epoch 8 / 10, Step 1460 / 5086, Loss: 1.1661\n"
          ]
        },
        {
          "output_type": "stream",
          "name": "stderr",
          "text": [
            "1485it [00:10, 143.99it/s]"
          ]
        },
        {
          "output_type": "stream",
          "name": "stdout",
          "text": [
            "Epoch 8 / 10, Step 1470 / 5086, Loss: 1.6483\n",
            "Epoch 8 / 10, Step 1480 / 5086, Loss: 0.0021\n",
            "Epoch 8 / 10, Step 1490 / 5086, Loss: 1.1748\n"
          ]
        },
        {
          "output_type": "stream",
          "name": "stderr",
          "text": [
            "1515it [00:10, 143.23it/s]"
          ]
        },
        {
          "output_type": "stream",
          "name": "stdout",
          "text": [
            "Epoch 8 / 10, Step 1500 / 5086, Loss: 2.1456\n",
            "Epoch 8 / 10, Step 1510 / 5086, Loss: 0.0228\n",
            "Epoch 8 / 10, Step 1520 / 5086, Loss: 0.0118\n"
          ]
        },
        {
          "output_type": "stream",
          "name": "stderr",
          "text": [
            "1545it [00:10, 142.10it/s]"
          ]
        },
        {
          "output_type": "stream",
          "name": "stdout",
          "text": [
            "Epoch 8 / 10, Step 1530 / 5086, Loss: 6.2341\n",
            "Epoch 8 / 10, Step 1540 / 5086, Loss: 3.1827\n",
            "Epoch 8 / 10, Step 1550 / 5086, Loss: 0.0245\n"
          ]
        },
        {
          "output_type": "stream",
          "name": "stderr",
          "text": [
            "1574it [00:10, 138.61it/s]"
          ]
        },
        {
          "output_type": "stream",
          "name": "stdout",
          "text": [
            "Epoch 8 / 10, Step 1560 / 5086, Loss: 0.0067\n",
            "Epoch 8 / 10, Step 1570 / 5086, Loss: 9.0191\n",
            "Epoch 8 / 10, Step 1580 / 5086, Loss: 0.2866\n"
          ]
        },
        {
          "output_type": "stream",
          "name": "stderr",
          "text": [
            "1605it [00:11, 140.81it/s]"
          ]
        },
        {
          "output_type": "stream",
          "name": "stdout",
          "text": [
            "Epoch 8 / 10, Step 1590 / 5086, Loss: 4.4590\n",
            "Epoch 8 / 10, Step 1600 / 5086, Loss: 2.5979\n",
            "Epoch 8 / 10, Step 1610 / 5086, Loss: 2.3024\n"
          ]
        },
        {
          "output_type": "stream",
          "name": "stderr",
          "text": [
            "1635it [00:11, 142.49it/s]"
          ]
        },
        {
          "output_type": "stream",
          "name": "stdout",
          "text": [
            "Epoch 8 / 10, Step 1620 / 5086, Loss: 0.0034\n",
            "Epoch 8 / 10, Step 1630 / 5086, Loss: 0.0000\n",
            "Epoch 8 / 10, Step 1640 / 5086, Loss: 4.0230\n",
            "Epoch 8 / 10, Step 1650 / 5086, Loss: 1.2747"
          ]
        },
        {
          "output_type": "stream",
          "name": "stderr",
          "text": [
            "1666it [00:11, 144.32it/s]"
          ]
        },
        {
          "output_type": "stream",
          "name": "stdout",
          "text": [
            "\n",
            "Epoch 8 / 10, Step 1660 / 5086, Loss: 1.8799\n",
            "Epoch 8 / 10, Step 1670 / 5086, Loss: 0.4591\n",
            "Epoch 8 / 10, Step 1680 / 5086, Loss: 0.0325\n"
          ]
        },
        {
          "output_type": "stream",
          "name": "stderr",
          "text": [
            "1713it [00:11, 147.08it/s]"
          ]
        },
        {
          "output_type": "stream",
          "name": "stdout",
          "text": [
            "Epoch 8 / 10, Step 1690 / 5086, Loss: 5.6657\n",
            "Epoch 8 / 10, Step 1700 / 5086, Loss: 1.7202\n",
            "Epoch 8 / 10, Step 1710 / 5086, Loss: 0.8646\n",
            "Epoch 8 / 10, Step 1720 / 5086, Loss: 0.2264\n"
          ]
        },
        {
          "output_type": "stream",
          "name": "stderr",
          "text": [
            "1760it [00:12, 150.66it/s]"
          ]
        },
        {
          "output_type": "stream",
          "name": "stdout",
          "text": [
            "Epoch 8 / 10, Step 1730 / 5086, Loss: 0.7774\n",
            "Epoch 8 / 10, Step 1740 / 5086, Loss: 0.1781\n",
            "Epoch 8 / 10, Step 1750 / 5086, Loss: 0.0033\n",
            "Epoch 8 / 10, Step 1760 / 5086, Loss: 3.6699\n"
          ]
        },
        {
          "output_type": "stream",
          "name": "stderr",
          "text": [
            "1791it [00:12, 146.03it/s]"
          ]
        },
        {
          "output_type": "stream",
          "name": "stdout",
          "text": [
            "Epoch 8 / 10, Step 1770 / 5086, Loss: 1.2433\n",
            "Epoch 8 / 10, Step 1780 / 5086, Loss: 0.5839\n",
            "Epoch 8 / 10, Step 1790 / 5086, Loss: 0.8236\n"
          ]
        },
        {
          "output_type": "stream",
          "name": "stderr",
          "text": [
            "1821it [00:12, 145.09it/s]"
          ]
        },
        {
          "output_type": "stream",
          "name": "stdout",
          "text": [
            "Epoch 8 / 10, Step 1800 / 5086, Loss: 0.0886\n",
            "Epoch 8 / 10, Step 1810 / 5086, Loss: 4.9418\n",
            "Epoch 8 / 10, Step 1820 / 5086, Loss: 0.1858\n"
          ]
        },
        {
          "output_type": "stream",
          "name": "stderr",
          "text": [
            "1851it [00:12, 139.52it/s]"
          ]
        },
        {
          "output_type": "stream",
          "name": "stdout",
          "text": [
            "Epoch 8 / 10, Step 1830 / 5086, Loss: 2.1000\n",
            "Epoch 8 / 10, Step 1840 / 5086, Loss: 3.7074\n",
            "Epoch 8 / 10, Step 1850 / 5086, Loss: 0.0280\n"
          ]
        },
        {
          "output_type": "stream",
          "name": "stderr",
          "text": [
            "1881it [00:13, 141.60it/s]"
          ]
        },
        {
          "output_type": "stream",
          "name": "stdout",
          "text": [
            "Epoch 8 / 10, Step 1860 / 5086, Loss: 2.1269\n",
            "Epoch 8 / 10, Step 1870 / 5086, Loss: 4.8100\n",
            "Epoch 8 / 10, Step 1880 / 5086, Loss: 3.3647\n",
            "Epoch 8 / 10, Step 1890 / 5086, Loss: 1.2697\n"
          ]
        },
        {
          "output_type": "stream",
          "name": "stderr",
          "text": [
            "1927it [00:13, 146.41it/s]"
          ]
        },
        {
          "output_type": "stream",
          "name": "stdout",
          "text": [
            "Epoch 8 / 10, Step 1900 / 5086, Loss: 2.5294\n",
            "Epoch 8 / 10, Step 1910 / 5086, Loss: 0.1510\n",
            "Epoch 8 / 10, Step 1920 / 5086, Loss: 4.3445\n",
            "Epoch 8 / 10, Step 1930 / 5086, Loss: 0.7847\n"
          ]
        },
        {
          "output_type": "stream",
          "name": "stderr",
          "text": [
            "1957it [00:13, 146.08it/s]"
          ]
        },
        {
          "output_type": "stream",
          "name": "stdout",
          "text": [
            "Epoch 8 / 10, Step 1940 / 5086, Loss: 0.1402\n",
            "Epoch 8 / 10, Step 1950 / 5086, Loss: 5.8547\n",
            "Epoch 8 / 10, Step 1960 / 5086, Loss: 3.1376\n",
            "Epoch 8 / 10, Step 1970 / 5086, Loss: 0.0433\n"
          ]
        },
        {
          "output_type": "stream",
          "name": "stderr",
          "text": [
            "2003it [00:13, 144.99it/s]"
          ]
        },
        {
          "output_type": "stream",
          "name": "stdout",
          "text": [
            "Epoch 8 / 10, Step 1980 / 5086, Loss: 0.7888\n",
            "Epoch 8 / 10, Step 1990 / 5086, Loss: 0.1471\n",
            "Epoch 8 / 10, Step 2000 / 5086, Loss: 0.0038\n"
          ]
        },
        {
          "output_type": "stream",
          "name": "stderr",
          "text": [
            "2035it [00:14, 148.03it/s]"
          ]
        },
        {
          "output_type": "stream",
          "name": "stdout",
          "text": [
            "Epoch 8 / 10, Step 2010 / 5086, Loss: 3.6153\n",
            "Epoch 8 / 10, Step 2020 / 5086, Loss: 2.8624\n",
            "Epoch 8 / 10, Step 2030 / 5086, Loss: 0.5778\n",
            "Epoch 8 / 10, Step 2040 / 5086, Loss: 9.7540\n"
          ]
        },
        {
          "output_type": "stream",
          "name": "stderr",
          "text": [
            "2065it [00:14, 143.69it/s]"
          ]
        },
        {
          "output_type": "stream",
          "name": "stdout",
          "text": [
            "Epoch 8 / 10, Step 2050 / 5086, Loss: 6.7321\n",
            "Epoch 8 / 10, Step 2060 / 5086, Loss: 2.2957\n",
            "Epoch 8 / 10, Step 2070 / 5086, Loss: 12.6114\n"
          ]
        },
        {
          "output_type": "stream",
          "name": "stderr",
          "text": [
            "2095it [00:14, 143.75it/s]"
          ]
        },
        {
          "output_type": "stream",
          "name": "stdout",
          "text": [
            "Epoch 8 / 10, Step 2080 / 5086, Loss: 3.2464\n",
            "Epoch 8 / 10, Step 2090 / 5086, Loss: 3.3069\n",
            "Epoch 8 / 10, Step 2100 / 5086, Loss: 1.7187\n"
          ]
        },
        {
          "output_type": "stream",
          "name": "stderr",
          "text": [
            "2125it [00:14, 143.10it/s]"
          ]
        },
        {
          "output_type": "stream",
          "name": "stdout",
          "text": [
            "Epoch 8 / 10, Step 2110 / 5086, Loss: 9.1032\n",
            "Epoch 8 / 10, Step 2120 / 5086, Loss: 3.8328\n",
            "Epoch 8 / 10, Step 2130 / 5086, Loss: 4.5375\n"
          ]
        },
        {
          "output_type": "stream",
          "name": "stderr",
          "text": [
            "2155it [00:15, 137.94it/s]"
          ]
        },
        {
          "output_type": "stream",
          "name": "stdout",
          "text": [
            "Epoch 8 / 10, Step 2140 / 5086, Loss: 0.7003\n",
            "Epoch 8 / 10, Step 2150 / 5086, Loss: 1.5646\n",
            "Epoch 8 / 10, Step 2160 / 5086, Loss: 12.3933\n"
          ]
        },
        {
          "output_type": "stream",
          "name": "stderr",
          "text": [
            "2200it [00:15, 142.60it/s]"
          ]
        },
        {
          "output_type": "stream",
          "name": "stdout",
          "text": [
            "Epoch 8 / 10, Step 2170 / 5086, Loss: 1.0829\n",
            "Epoch 8 / 10, Step 2180 / 5086, Loss: 1.5760\n",
            "Epoch 8 / 10, Step 2190 / 5086, Loss: 6.4233\n",
            "Epoch 8 / 10, Step 2200 / 5086, Loss: 6.2050\n"
          ]
        },
        {
          "output_type": "stream",
          "name": "stderr",
          "text": [
            "2230it [00:15, 140.38it/s]"
          ]
        },
        {
          "output_type": "stream",
          "name": "stdout",
          "text": [
            "Epoch 8 / 10, Step 2210 / 5086, Loss: 1.0831\n",
            "Epoch 8 / 10, Step 2220 / 5086, Loss: 0.0000\n",
            "Epoch 8 / 10, Step 2230 / 5086, Loss: 8.0577\n"
          ]
        },
        {
          "output_type": "stream",
          "name": "stderr",
          "text": [
            "2261it [00:15, 144.47it/s]"
          ]
        },
        {
          "output_type": "stream",
          "name": "stdout",
          "text": [
            "Epoch 8 / 10, Step 2240 / 5086, Loss: 1.6359\n",
            "Epoch 8 / 10, Step 2250 / 5086, Loss: 0.0000\n",
            "Epoch 8 / 10, Step 2260 / 5086, Loss: 0.4618\n"
          ]
        },
        {
          "output_type": "stream",
          "name": "stderr",
          "text": [
            "2291it [00:15, 138.80it/s]"
          ]
        },
        {
          "output_type": "stream",
          "name": "stdout",
          "text": [
            "Epoch 8 / 10, Step 2270 / 5086, Loss: 2.9370\n",
            "Epoch 8 / 10, Step 2280 / 5086, Loss: 3.8799\n",
            "Epoch 8 / 10, Step 2290 / 5086, Loss: 0.3481\n"
          ]
        },
        {
          "output_type": "stream",
          "name": "stderr",
          "text": [
            "2321it [00:16, 141.73it/s]"
          ]
        },
        {
          "output_type": "stream",
          "name": "stdout",
          "text": [
            "Epoch 8 / 10, Step 2300 / 5086, Loss: 0.0111\n",
            "Epoch 8 / 10, Step 2310 / 5086, Loss: 0.0167\n",
            "Epoch 8 / 10, Step 2320 / 5086, Loss: 0.0472\n"
          ]
        },
        {
          "output_type": "stream",
          "name": "stderr",
          "text": [
            "2352it [00:16, 144.06it/s]"
          ]
        },
        {
          "output_type": "stream",
          "name": "stdout",
          "text": [
            "Epoch 8 / 10, Step 2330 / 5086, Loss: 9.5256\n",
            "Epoch 8 / 10, Step 2340 / 5086, Loss: 0.2500\n",
            "Epoch 8 / 10, Step 2350 / 5086, Loss: 2.6355\n"
          ]
        },
        {
          "output_type": "stream",
          "name": "stderr",
          "text": [
            "2382it [00:16, 140.21it/s]"
          ]
        },
        {
          "output_type": "stream",
          "name": "stdout",
          "text": [
            "Epoch 8 / 10, Step 2360 / 5086, Loss: 4.9208\n",
            "Epoch 8 / 10, Step 2370 / 5086, Loss: 3.2907\n",
            "Epoch 8 / 10, Step 2380 / 5086, Loss: 9.9362\n"
          ]
        },
        {
          "output_type": "stream",
          "name": "stderr",
          "text": [
            "2412it [00:16, 141.99it/s]"
          ]
        },
        {
          "output_type": "stream",
          "name": "stdout",
          "text": [
            "Epoch 8 / 10, Step 2390 / 5086, Loss: 1.3713\n",
            "Epoch 8 / 10, Step 2400 / 5086, Loss: 0.8174\n",
            "Epoch 8 / 10, Step 2410 / 5086, Loss: 0.1916\n"
          ]
        },
        {
          "output_type": "stream",
          "name": "stderr",
          "text": [
            "2442it [00:17, 140.89it/s]"
          ]
        },
        {
          "output_type": "stream",
          "name": "stdout",
          "text": [
            "Epoch 8 / 10, Step 2420 / 5086, Loss: 0.1851\n",
            "Epoch 8 / 10, Step 2430 / 5086, Loss: 0.1667\n",
            "Epoch 8 / 10, Step 2440 / 5086, Loss: 0.0001\n"
          ]
        },
        {
          "output_type": "stream",
          "name": "stderr",
          "text": [
            "2472it [00:17, 140.77it/s]"
          ]
        },
        {
          "output_type": "stream",
          "name": "stdout",
          "text": [
            "Epoch 8 / 10, Step 2450 / 5086, Loss: 0.2153\n",
            "Epoch 8 / 10, Step 2460 / 5086, Loss: 2.9293\n",
            "Epoch 8 / 10, Step 2470 / 5086, Loss: 1.0374\n"
          ]
        },
        {
          "output_type": "stream",
          "name": "stderr",
          "text": [
            "2502it [00:17, 140.23it/s]"
          ]
        },
        {
          "output_type": "stream",
          "name": "stdout",
          "text": [
            "Epoch 8 / 10, Step 2480 / 5086, Loss: 0.2053\n",
            "Epoch 8 / 10, Step 2490 / 5086, Loss: 1.4392\n",
            "Epoch 8 / 10, Step 2500 / 5086, Loss: 9.3703\n"
          ]
        },
        {
          "output_type": "stream",
          "name": "stderr",
          "text": [
            "2531it [00:17, 132.77it/s]"
          ]
        },
        {
          "output_type": "stream",
          "name": "stdout",
          "text": [
            "Epoch 8 / 10, Step 2510 / 5086, Loss: 5.9777\n",
            "Epoch 8 / 10, Step 2520 / 5086, Loss: 2.0607\n",
            "Epoch 8 / 10, Step 2530 / 5086, Loss: 0.0143\n"
          ]
        },
        {
          "output_type": "stream",
          "name": "stderr",
          "text": [
            "2561it [00:17, 140.04it/s]"
          ]
        },
        {
          "output_type": "stream",
          "name": "stdout",
          "text": [
            "Epoch 8 / 10, Step 2540 / 5086, Loss: 0.0008\n",
            "Epoch 8 / 10, Step 2550 / 5086, Loss: 3.4830\n",
            "Epoch 8 / 10, Step 2560 / 5086, Loss: 2.9668\n",
            "Epoch 8 / 10, Step 2570 / 5086, Loss: 0.0000\n"
          ]
        },
        {
          "output_type": "stream",
          "name": "stderr",
          "text": [
            "2607it [00:18, 144.89it/s]"
          ]
        },
        {
          "output_type": "stream",
          "name": "stdout",
          "text": [
            "Epoch 8 / 10, Step 2580 / 5086, Loss: 3.8012\n",
            "Epoch 8 / 10, Step 2590 / 5086, Loss: 1.1930\n",
            "Epoch 8 / 10, Step 2600 / 5086, Loss: 8.7637\n",
            "Epoch 8 / 10, Step 2610 / 5086, Loss: 7.0067\n"
          ]
        },
        {
          "output_type": "stream",
          "name": "stderr",
          "text": [
            "2638it [00:18, 144.96it/s]"
          ]
        },
        {
          "output_type": "stream",
          "name": "stdout",
          "text": [
            "Epoch 8 / 10, Step 2620 / 5086, Loss: 0.0090\n",
            "Epoch 8 / 10, Step 2630 / 5086, Loss: 12.0454\n",
            "Epoch 8 / 10, Step 2640 / 5086, Loss: 4.1258\n",
            "Epoch 8 / 10, Step 2650 / 5086, Loss: 4.3128\n"
          ]
        },
        {
          "output_type": "stream",
          "name": "stderr",
          "text": [
            "2684it [00:18, 147.62it/s]"
          ]
        },
        {
          "output_type": "stream",
          "name": "stdout",
          "text": [
            "Epoch 8 / 10, Step 2660 / 5086, Loss: 0.9521\n",
            "Epoch 8 / 10, Step 2670 / 5086, Loss: 1.2231\n",
            "Epoch 8 / 10, Step 2680 / 5086, Loss: 2.0325\n",
            "Epoch 8 / 10, Step 2690 / 5086, Loss: 11.1873\n"
          ]
        },
        {
          "output_type": "stream",
          "name": "stderr",
          "text": [
            "2729it [00:19, 144.13it/s]"
          ]
        },
        {
          "output_type": "stream",
          "name": "stdout",
          "text": [
            "Epoch 8 / 10, Step 2700 / 5086, Loss: 1.7370\n",
            "Epoch 8 / 10, Step 2710 / 5086, Loss: 13.3243\n",
            "Epoch 8 / 10, Step 2720 / 5086, Loss: 0.8397\n"
          ]
        },
        {
          "output_type": "stream",
          "name": "stderr",
          "text": [
            "2759it [00:19, 143.20it/s]"
          ]
        },
        {
          "output_type": "stream",
          "name": "stdout",
          "text": [
            "Epoch 8 / 10, Step 2730 / 5086, Loss: 0.0511\n",
            "Epoch 8 / 10, Step 2740 / 5086, Loss: 0.0001\n",
            "Epoch 8 / 10, Step 2750 / 5086, Loss: 5.6336\n"
          ]
        },
        {
          "output_type": "stream",
          "name": "stderr",
          "text": [
            "2790it [00:19, 146.12it/s]"
          ]
        },
        {
          "output_type": "stream",
          "name": "stdout",
          "text": [
            "Epoch 8 / 10, Step 2760 / 5086, Loss: 0.1205\n",
            "Epoch 8 / 10, Step 2770 / 5086, Loss: 3.4404\n",
            "Epoch 8 / 10, Step 2780 / 5086, Loss: 4.7166\n",
            "Epoch 8 / 10, Step 2790 / 5086, Loss: 2.1171\n"
          ]
        },
        {
          "output_type": "stream",
          "name": "stderr",
          "text": [
            "2822it [00:19, 147.44it/s]"
          ]
        },
        {
          "output_type": "stream",
          "name": "stdout",
          "text": [
            "Epoch 8 / 10, Step 2800 / 5086, Loss: 7.7557\n",
            "Epoch 8 / 10, Step 2810 / 5086, Loss: 0.1232\n",
            "Epoch 8 / 10, Step 2820 / 5086, Loss: 0.0002\n",
            "Epoch 8 / 10, Step 2830 / 5086, Loss: 1.4654\n"
          ]
        },
        {
          "output_type": "stream",
          "name": "stderr",
          "text": [
            "2868it [00:20, 147.70it/s]"
          ]
        },
        {
          "output_type": "stream",
          "name": "stdout",
          "text": [
            "Epoch 8 / 10, Step 2840 / 5086, Loss: 1.0869\n",
            "Epoch 8 / 10, Step 2850 / 5086, Loss: 0.9291\n",
            "Epoch 8 / 10, Step 2860 / 5086, Loss: 1.0900\n"
          ]
        },
        {
          "output_type": "stream",
          "name": "stderr",
          "text": [
            "2898it [00:20, 143.75it/s]"
          ]
        },
        {
          "output_type": "stream",
          "name": "stdout",
          "text": [
            "Epoch 8 / 10, Step 2870 / 5086, Loss: 3.7816\n",
            "Epoch 8 / 10, Step 2880 / 5086, Loss: 3.4974\n",
            "Epoch 8 / 10, Step 2890 / 5086, Loss: 13.3329\n"
          ]
        },
        {
          "output_type": "stream",
          "name": "stderr",
          "text": [
            "2929it [00:20, 145.03it/s]"
          ]
        },
        {
          "output_type": "stream",
          "name": "stdout",
          "text": [
            "Epoch 8 / 10, Step 2900 / 5086, Loss: 6.5339\n",
            "Epoch 8 / 10, Step 2910 / 5086, Loss: 1.5925\n",
            "Epoch 8 / 10, Step 2920 / 5086, Loss: 1.9371\n"
          ]
        },
        {
          "output_type": "stream",
          "name": "stderr",
          "text": [
            "2960it [00:20, 147.13it/s]"
          ]
        },
        {
          "output_type": "stream",
          "name": "stdout",
          "text": [
            "Epoch 8 / 10, Step 2930 / 5086, Loss: 0.3542\n",
            "Epoch 8 / 10, Step 2940 / 5086, Loss: 1.2804\n",
            "Epoch 8 / 10, Step 2950 / 5086, Loss: 4.5909\n",
            "Epoch 8 / 10, Step 2960 / 5086, Loss: 5.0630\n"
          ]
        },
        {
          "output_type": "stream",
          "name": "stderr",
          "text": [
            "2991it [00:20, 146.61it/s]"
          ]
        },
        {
          "output_type": "stream",
          "name": "stdout",
          "text": [
            "Epoch 8 / 10, Step 2970 / 5086, Loss: 0.0004\n",
            "Epoch 8 / 10, Step 2980 / 5086, Loss: 0.0000\n",
            "Epoch 8 / 10, Step 2990 / 5086, Loss: 0.0006\n",
            "Epoch 8 / 10, Step 3000 / 5086, Loss: 2.1204\n"
          ]
        },
        {
          "output_type": "stream",
          "name": "stderr",
          "text": [
            "3036it [00:21, 141.32it/s]"
          ]
        },
        {
          "output_type": "stream",
          "name": "stdout",
          "text": [
            "Epoch 8 / 10, Step 3010 / 5086, Loss: 2.2016\n",
            "Epoch 8 / 10, Step 3020 / 5086, Loss: 0.9672\n",
            "Epoch 8 / 10, Step 3030 / 5086, Loss: 6.2728\n"
          ]
        },
        {
          "output_type": "stream",
          "name": "stderr",
          "text": [
            "3066it [00:21, 139.73it/s]"
          ]
        },
        {
          "output_type": "stream",
          "name": "stdout",
          "text": [
            "Epoch 8 / 10, Step 3040 / 5086, Loss: 1.6682\n",
            "Epoch 8 / 10, Step 3050 / 5086, Loss: 2.4373\n",
            "Epoch 8 / 10, Step 3060 / 5086, Loss: 9.9603\n"
          ]
        },
        {
          "output_type": "stream",
          "name": "stderr",
          "text": [
            "3095it [00:21, 141.32it/s]"
          ]
        },
        {
          "output_type": "stream",
          "name": "stdout",
          "text": [
            "Epoch 8 / 10, Step 3070 / 5086, Loss: 0.8172\n",
            "Epoch 8 / 10, Step 3080 / 5086, Loss: 0.7902\n",
            "Epoch 8 / 10, Step 3090 / 5086, Loss: 0.0001\n"
          ]
        },
        {
          "output_type": "stream",
          "name": "stderr",
          "text": [
            "3125it [00:21, 142.97it/s]"
          ]
        },
        {
          "output_type": "stream",
          "name": "stdout",
          "text": [
            "Epoch 8 / 10, Step 3100 / 5086, Loss: 0.0313\n",
            "Epoch 8 / 10, Step 3110 / 5086, Loss: 2.5201\n",
            "Epoch 8 / 10, Step 3120 / 5086, Loss: 3.2125\n"
          ]
        },
        {
          "output_type": "stream",
          "name": "stderr",
          "text": [
            "3155it [00:22, 142.60it/s]"
          ]
        },
        {
          "output_type": "stream",
          "name": "stdout",
          "text": [
            "Epoch 8 / 10, Step 3130 / 5086, Loss: 0.1797\n",
            "Epoch 8 / 10, Step 3140 / 5086, Loss: 1.0481\n",
            "Epoch 8 / 10, Step 3150 / 5086, Loss: 4.3177\n"
          ]
        },
        {
          "output_type": "stream",
          "name": "stderr",
          "text": [
            "3186it [00:22, 140.94it/s]"
          ]
        },
        {
          "output_type": "stream",
          "name": "stdout",
          "text": [
            "Epoch 8 / 10, Step 3160 / 5086, Loss: 5.6082\n",
            "Epoch 8 / 10, Step 3170 / 5086, Loss: 2.2140\n",
            "Epoch 8 / 10, Step 3180 / 5086, Loss: 4.9313\n"
          ]
        },
        {
          "output_type": "stream",
          "name": "stderr",
          "text": [
            "3218it [00:22, 146.84it/s]"
          ]
        },
        {
          "output_type": "stream",
          "name": "stdout",
          "text": [
            "Epoch 8 / 10, Step 3190 / 5086, Loss: 4.8706\n",
            "Epoch 8 / 10, Step 3200 / 5086, Loss: 2.5561\n",
            "Epoch 8 / 10, Step 3210 / 5086, Loss: 0.2665\n",
            "Epoch 8 / 10, Step 3220 / 5086, Loss: 1.3841\n"
          ]
        },
        {
          "output_type": "stream",
          "name": "stderr",
          "text": [
            "3249it [00:22, 147.07it/s]"
          ]
        },
        {
          "output_type": "stream",
          "name": "stdout",
          "text": [
            "Epoch 8 / 10, Step 3230 / 5086, Loss: 0.6443\n",
            "Epoch 8 / 10, Step 3240 / 5086, Loss: 3.5472\n",
            "Epoch 8 / 10, Step 3250 / 5086, Loss: 0.0002\n",
            "Epoch 8 / 10, Step 3260 / 5086, Loss: 5.4861\n"
          ]
        },
        {
          "output_type": "stream",
          "name": "stderr",
          "text": [
            "3296it [00:23, 149.63it/s]"
          ]
        },
        {
          "output_type": "stream",
          "name": "stdout",
          "text": [
            "Epoch 8 / 10, Step 3270 / 5086, Loss: 0.6671\n",
            "Epoch 8 / 10, Step 3280 / 5086, Loss: 1.1286\n",
            "Epoch 8 / 10, Step 3290 / 5086, Loss: 2.2207\n",
            "Epoch 8 / 10, Step 3300 / 5086, Loss: 0.0001\n"
          ]
        },
        {
          "output_type": "stream",
          "name": "stderr",
          "text": [
            "3328it [00:23, 149.67it/s]"
          ]
        },
        {
          "output_type": "stream",
          "name": "stdout",
          "text": [
            "Epoch 8 / 10, Step 3310 / 5086, Loss: 11.3139\n",
            "Epoch 8 / 10, Step 3320 / 5086, Loss: 4.2927\n",
            "Epoch 8 / 10, Step 3330 / 5086, Loss: 2.0857\n",
            "Epoch 8 / 10, Step 3340 / 5086, Loss: 1.8145\n"
          ]
        },
        {
          "output_type": "stream",
          "name": "stderr",
          "text": [
            "3376it [00:23, 151.61it/s]"
          ]
        },
        {
          "output_type": "stream",
          "name": "stdout",
          "text": [
            "Epoch 8 / 10, Step 3350 / 5086, Loss: 0.0362\n",
            "Epoch 8 / 10, Step 3360 / 5086, Loss: 3.7980\n",
            "Epoch 8 / 10, Step 3370 / 5086, Loss: 1.6547\n",
            "Epoch 8 / 10, Step 3380 / 5086, Loss: 0.0077\n"
          ]
        },
        {
          "output_type": "stream",
          "name": "stderr",
          "text": [
            "3408it [00:23, 150.64it/s]"
          ]
        },
        {
          "output_type": "stream",
          "name": "stdout",
          "text": [
            "Epoch 8 / 10, Step 3390 / 5086, Loss: 5.0707\n",
            "Epoch 8 / 10, Step 3400 / 5086, Loss: 1.3563\n",
            "Epoch 8 / 10, Step 3410 / 5086, Loss: 1.5813\n",
            "Epoch 8 / 10, Step 3420 / 5086, Loss: 0.0416\n"
          ]
        },
        {
          "output_type": "stream",
          "name": "stderr",
          "text": [
            "3457it [00:24, 154.04it/s]"
          ]
        },
        {
          "output_type": "stream",
          "name": "stdout",
          "text": [
            "Epoch 8 / 10, Step 3430 / 5086, Loss: 0.4380\n",
            "Epoch 8 / 10, Step 3440 / 5086, Loss: 0.0000\n",
            "Epoch 8 / 10, Step 3450 / 5086, Loss: 6.0258\n",
            "Epoch 8 / 10, Step 3460 / 5086, Loss: 6.3836\n"
          ]
        },
        {
          "output_type": "stream",
          "name": "stderr",
          "text": [
            "3489it [00:24, 148.19it/s]"
          ]
        },
        {
          "output_type": "stream",
          "name": "stdout",
          "text": [
            "Epoch 8 / 10, Step 3470 / 5086, Loss: 0.7310\n",
            "Epoch 8 / 10, Step 3480 / 5086, Loss: 6.7832\n",
            "Epoch 8 / 10, Step 3490 / 5086, Loss: 9.2132\n"
          ]
        },
        {
          "output_type": "stream",
          "name": "stderr",
          "text": [
            "3520it [00:24, 145.80it/s]"
          ]
        },
        {
          "output_type": "stream",
          "name": "stdout",
          "text": [
            "Epoch 8 / 10, Step 3500 / 5086, Loss: 3.3709\n",
            "Epoch 8 / 10, Step 3510 / 5086, Loss: 0.5788\n",
            "Epoch 8 / 10, Step 3520 / 5086, Loss: 0.0088\n"
          ]
        },
        {
          "output_type": "stream",
          "name": "stderr",
          "text": [
            "3551it [00:24, 146.22it/s]"
          ]
        },
        {
          "output_type": "stream",
          "name": "stdout",
          "text": [
            "Epoch 8 / 10, Step 3530 / 5086, Loss: 0.0867\n",
            "Epoch 8 / 10, Step 3540 / 5086, Loss: 0.0410\n",
            "Epoch 8 / 10, Step 3550 / 5086, Loss: 2.2413\n"
          ]
        },
        {
          "output_type": "stream",
          "name": "stderr",
          "text": [
            "3581it [00:24, 143.62it/s]"
          ]
        },
        {
          "output_type": "stream",
          "name": "stdout",
          "text": [
            "Epoch 8 / 10, Step 3560 / 5086, Loss: 1.0924\n",
            "Epoch 8 / 10, Step 3570 / 5086, Loss: 1.6462\n",
            "Epoch 8 / 10, Step 3580 / 5086, Loss: 0.9657\n"
          ]
        },
        {
          "output_type": "stream",
          "name": "stderr",
          "text": [
            "3612it [00:25, 145.27it/s]"
          ]
        },
        {
          "output_type": "stream",
          "name": "stdout",
          "text": [
            "Epoch 8 / 10, Step 3590 / 5086, Loss: 0.0803\n",
            "Epoch 8 / 10, Step 3600 / 5086, Loss: 0.6527\n",
            "Epoch 8 / 10, Step 3610 / 5086, Loss: 0.3856\n"
          ]
        },
        {
          "output_type": "stream",
          "name": "stderr",
          "text": [
            "3642it [00:25, 143.64it/s]"
          ]
        },
        {
          "output_type": "stream",
          "name": "stdout",
          "text": [
            "Epoch 8 / 10, Step 3620 / 5086, Loss: 1.1452\n",
            "Epoch 8 / 10, Step 3630 / 5086, Loss: 3.5582\n",
            "Epoch 8 / 10, Step 3640 / 5086, Loss: 3.7198\n"
          ]
        },
        {
          "output_type": "stream",
          "name": "stderr",
          "text": [
            "3672it [00:25, 141.98it/s]"
          ]
        },
        {
          "output_type": "stream",
          "name": "stdout",
          "text": [
            "Epoch 8 / 10, Step 3650 / 5086, Loss: 3.0673\n",
            "Epoch 8 / 10, Step 3660 / 5086, Loss: 0.8991\n",
            "Epoch 8 / 10, Step 3670 / 5086, Loss: 4.7930\n"
          ]
        },
        {
          "output_type": "stream",
          "name": "stderr",
          "text": [
            "3703it [00:25, 145.06it/s]"
          ]
        },
        {
          "output_type": "stream",
          "name": "stdout",
          "text": [
            "Epoch 8 / 10, Step 3680 / 5086, Loss: 0.0088\n",
            "Epoch 8 / 10, Step 3690 / 5086, Loss: 1.3359\n",
            "Epoch 8 / 10, Step 3700 / 5086, Loss: 1.0823\n"
          ]
        },
        {
          "output_type": "stream",
          "name": "stderr",
          "text": [
            "3734it [00:26, 146.39it/s]"
          ]
        },
        {
          "output_type": "stream",
          "name": "stdout",
          "text": [
            "Epoch 8 / 10, Step 3710 / 5086, Loss: 6.1258\n",
            "Epoch 8 / 10, Step 3720 / 5086, Loss: 5.4626\n",
            "Epoch 8 / 10, Step 3730 / 5086, Loss: 2.1213\n"
          ]
        },
        {
          "output_type": "stream",
          "name": "stderr",
          "text": [
            "3764it [00:26, 142.06it/s]"
          ]
        },
        {
          "output_type": "stream",
          "name": "stdout",
          "text": [
            "Epoch 8 / 10, Step 3740 / 5086, Loss: 0.6085\n",
            "Epoch 8 / 10, Step 3750 / 5086, Loss: 0.0006\n",
            "Epoch 8 / 10, Step 3760 / 5086, Loss: 0.0004\n"
          ]
        },
        {
          "output_type": "stream",
          "name": "stderr",
          "text": [
            "3795it [00:26, 142.70it/s]"
          ]
        },
        {
          "output_type": "stream",
          "name": "stdout",
          "text": [
            "Epoch 8 / 10, Step 3770 / 5086, Loss: 0.0010\n",
            "Epoch 8 / 10, Step 3780 / 5086, Loss: 0.1242\n",
            "Epoch 8 / 10, Step 3790 / 5086, Loss: 1.7106\n"
          ]
        },
        {
          "output_type": "stream",
          "name": "stderr",
          "text": [
            "3826it [00:26, 144.53it/s]"
          ]
        },
        {
          "output_type": "stream",
          "name": "stdout",
          "text": [
            "Epoch 8 / 10, Step 3800 / 5086, Loss: 2.7195\n",
            "Epoch 8 / 10, Step 3810 / 5086, Loss: 1.6991\n",
            "Epoch 8 / 10, Step 3820 / 5086, Loss: 4.1921\n"
          ]
        },
        {
          "output_type": "stream",
          "name": "stderr",
          "text": [
            "3857it [00:26, 145.37it/s]"
          ]
        },
        {
          "output_type": "stream",
          "name": "stdout",
          "text": [
            "Epoch 8 / 10, Step 3830 / 5086, Loss: 0.6697\n",
            "Epoch 8 / 10, Step 3840 / 5086, Loss: 0.0708\n",
            "Epoch 8 / 10, Step 3850 / 5086, Loss: 0.0004\n"
          ]
        },
        {
          "output_type": "stream",
          "name": "stderr",
          "text": [
            "3887it [00:27, 142.30it/s]"
          ]
        },
        {
          "output_type": "stream",
          "name": "stdout",
          "text": [
            "Epoch 8 / 10, Step 3860 / 5086, Loss: 0.1190\n",
            "Epoch 8 / 10, Step 3870 / 5086, Loss: 0.7330\n",
            "Epoch 8 / 10, Step 3880 / 5086, Loss: 0.3917\n"
          ]
        },
        {
          "output_type": "stream",
          "name": "stderr",
          "text": [
            "3918it [00:27, 144.28it/s]"
          ]
        },
        {
          "output_type": "stream",
          "name": "stdout",
          "text": [
            "Epoch 8 / 10, Step 3890 / 5086, Loss: 0.4437\n",
            "Epoch 8 / 10, Step 3900 / 5086, Loss: 0.2143\n",
            "Epoch 8 / 10, Step 3910 / 5086, Loss: 0.0002\n"
          ]
        },
        {
          "output_type": "stream",
          "name": "stderr",
          "text": [
            "3950it [00:27, 148.34it/s]"
          ]
        },
        {
          "output_type": "stream",
          "name": "stdout",
          "text": [
            "Epoch 8 / 10, Step 3920 / 5086, Loss: 0.4406\n",
            "Epoch 8 / 10, Step 3930 / 5086, Loss: 4.8025\n",
            "Epoch 8 / 10, Step 3940 / 5086, Loss: 5.7124\n",
            "Epoch 8 / 10, Step 3950 / 5086, Loss: 0.0020\n"
          ]
        },
        {
          "output_type": "stream",
          "name": "stderr",
          "text": [
            "3981it [00:27, 145.66it/s]"
          ]
        },
        {
          "output_type": "stream",
          "name": "stdout",
          "text": [
            "Epoch 8 / 10, Step 3960 / 5086, Loss: 0.0073\n",
            "Epoch 8 / 10, Step 3970 / 5086, Loss: 0.0972\n",
            "Epoch 8 / 10, Step 3980 / 5086, Loss: 0.0006\n"
          ]
        },
        {
          "output_type": "stream",
          "name": "stderr",
          "text": [
            "4013it [00:27, 149.13it/s]"
          ]
        },
        {
          "output_type": "stream",
          "name": "stdout",
          "text": [
            "Epoch 8 / 10, Step 3990 / 5086, Loss: 2.2512\n",
            "Epoch 8 / 10, Step 4000 / 5086, Loss: 3.9028\n",
            "Epoch 8 / 10, Step 4010 / 5086, Loss: 3.1281\n",
            "Epoch 8 / 10, Step 4020 / 5086, Loss: 3.5636\n"
          ]
        },
        {
          "output_type": "stream",
          "name": "stderr",
          "text": [
            "4058it [00:28, 142.15it/s]"
          ]
        },
        {
          "output_type": "stream",
          "name": "stdout",
          "text": [
            "Epoch 8 / 10, Step 4030 / 5086, Loss: 6.9988\n",
            "Epoch 8 / 10, Step 4040 / 5086, Loss: 3.5282\n",
            "Epoch 8 / 10, Step 4050 / 5086, Loss: 0.3304\n"
          ]
        },
        {
          "output_type": "stream",
          "name": "stderr",
          "text": [
            "4089it [00:28, 146.67it/s]"
          ]
        },
        {
          "output_type": "stream",
          "name": "stdout",
          "text": [
            "Epoch 8 / 10, Step 4060 / 5086, Loss: 1.0550\n",
            "Epoch 8 / 10, Step 4070 / 5086, Loss: 2.2071\n",
            "Epoch 8 / 10, Step 4080 / 5086, Loss: 0.0077\n",
            "Epoch 8 / 10, Step 4090 / 5086, Loss: 0.0434\n"
          ]
        },
        {
          "output_type": "stream",
          "name": "stderr",
          "text": [
            "4120it [00:28, 147.55it/s]"
          ]
        },
        {
          "output_type": "stream",
          "name": "stdout",
          "text": [
            "Epoch 8 / 10, Step 4100 / 5086, Loss: 0.0802\n",
            "Epoch 8 / 10, Step 4110 / 5086, Loss: 0.0116\n",
            "Epoch 8 / 10, Step 4120 / 5086, Loss: 0.7236\n"
          ]
        },
        {
          "output_type": "stream",
          "name": "stderr",
          "text": [
            "4151it [00:28, 143.89it/s]"
          ]
        },
        {
          "output_type": "stream",
          "name": "stdout",
          "text": [
            "Epoch 8 / 10, Step 4130 / 5086, Loss: 4.1540\n",
            "Epoch 8 / 10, Step 4140 / 5086, Loss: 1.8159\n",
            "Epoch 8 / 10, Step 4150 / 5086, Loss: 0.3009\n"
          ]
        },
        {
          "output_type": "stream",
          "name": "stderr",
          "text": [
            "4182it [00:29, 144.82it/s]"
          ]
        },
        {
          "output_type": "stream",
          "name": "stdout",
          "text": [
            "Epoch 8 / 10, Step 4160 / 5086, Loss: 0.0002\n",
            "Epoch 8 / 10, Step 4170 / 5086, Loss: 0.5162\n",
            "Epoch 8 / 10, Step 4180 / 5086, Loss: 6.7090\n"
          ]
        },
        {
          "output_type": "stream",
          "name": "stderr",
          "text": [
            "4212it [00:29, 140.81it/s]"
          ]
        },
        {
          "output_type": "stream",
          "name": "stdout",
          "text": [
            "Epoch 8 / 10, Step 4190 / 5086, Loss: 1.4229\n",
            "Epoch 8 / 10, Step 4200 / 5086, Loss: 0.9327\n",
            "Epoch 8 / 10, Step 4210 / 5086, Loss: 0.0000\n"
          ]
        },
        {
          "output_type": "stream",
          "name": "stderr",
          "text": [
            "4242it [00:29, 140.30it/s]"
          ]
        },
        {
          "output_type": "stream",
          "name": "stdout",
          "text": [
            "Epoch 8 / 10, Step 4220 / 5086, Loss: 0.6396\n",
            "Epoch 8 / 10, Step 4230 / 5086, Loss: 0.0002\n",
            "Epoch 8 / 10, Step 4240 / 5086, Loss: 0.2253\n"
          ]
        },
        {
          "output_type": "stream",
          "name": "stderr",
          "text": [
            "4272it [00:29, 142.11it/s]"
          ]
        },
        {
          "output_type": "stream",
          "name": "stdout",
          "text": [
            "Epoch 8 / 10, Step 4250 / 5086, Loss: 4.2870\n",
            "Epoch 8 / 10, Step 4260 / 5086, Loss: 5.0331\n",
            "Epoch 8 / 10, Step 4270 / 5086, Loss: 0.2612\n"
          ]
        },
        {
          "output_type": "stream",
          "name": "stderr",
          "text": [
            "4302it [00:30, 140.37it/s]"
          ]
        },
        {
          "output_type": "stream",
          "name": "stdout",
          "text": [
            "Epoch 8 / 10, Step 4280 / 5086, Loss: 2.4540\n",
            "Epoch 8 / 10, Step 4290 / 5086, Loss: 0.6252\n",
            "Epoch 8 / 10, Step 4300 / 5086, Loss: 0.0308\n"
          ]
        },
        {
          "output_type": "stream",
          "name": "stderr",
          "text": [
            "4332it [00:30, 139.76it/s]"
          ]
        },
        {
          "output_type": "stream",
          "name": "stdout",
          "text": [
            "Epoch 8 / 10, Step 4310 / 5086, Loss: 0.3219\n",
            "Epoch 8 / 10, Step 4320 / 5086, Loss: 0.0304\n",
            "Epoch 8 / 10, Step 4330 / 5086, Loss: 2.7361\n"
          ]
        },
        {
          "output_type": "stream",
          "name": "stderr",
          "text": [
            "4361it [00:30, 138.59it/s]"
          ]
        },
        {
          "output_type": "stream",
          "name": "stdout",
          "text": [
            "Epoch 8 / 10, Step 4340 / 5086, Loss: 0.0032\n",
            "Epoch 8 / 10, Step 4350 / 5086, Loss: 5.4651\n",
            "Epoch 8 / 10, Step 4360 / 5086, Loss: 0.1037\n"
          ]
        },
        {
          "output_type": "stream",
          "name": "stderr",
          "text": [
            "4391it [00:30, 143.12it/s]"
          ]
        },
        {
          "output_type": "stream",
          "name": "stdout",
          "text": [
            "Epoch 8 / 10, Step 4370 / 5086, Loss: 4.4559\n",
            "Epoch 8 / 10, Step 4380 / 5086, Loss: 1.4587\n",
            "Epoch 8 / 10, Step 4390 / 5086, Loss: 3.0639\n",
            "Epoch 8 / 10, Step 4400 / 5086, Loss: 5.9628\n"
          ]
        },
        {
          "output_type": "stream",
          "name": "stderr",
          "text": [
            "4438it [00:30, 147.82it/s]"
          ]
        },
        {
          "output_type": "stream",
          "name": "stdout",
          "text": [
            "Epoch 8 / 10, Step 4410 / 5086, Loss: 3.3020\n",
            "Epoch 8 / 10, Step 4420 / 5086, Loss: 3.9721\n",
            "Epoch 8 / 10, Step 4430 / 5086, Loss: 0.5030\n",
            "Epoch 8 / 10, Step 4440 / 5086, Loss: 0.0000\n"
          ]
        },
        {
          "output_type": "stream",
          "name": "stderr",
          "text": [
            "4468it [00:31, 142.67it/s]"
          ]
        },
        {
          "output_type": "stream",
          "name": "stdout",
          "text": [
            "Epoch 8 / 10, Step 4450 / 5086, Loss: 1.6910\n",
            "Epoch 8 / 10, Step 4460 / 5086, Loss: 2.2781\n",
            "Epoch 8 / 10, Step 4470 / 5086, Loss: 1.6020\n"
          ]
        },
        {
          "output_type": "stream",
          "name": "stderr",
          "text": [
            "4514it [00:31, 144.88it/s]"
          ]
        },
        {
          "output_type": "stream",
          "name": "stdout",
          "text": [
            "Epoch 8 / 10, Step 4480 / 5086, Loss: 6.8581\n",
            "Epoch 8 / 10, Step 4490 / 5086, Loss: 7.7547\n",
            "Epoch 8 / 10, Step 4500 / 5086, Loss: 0.0000\n",
            "Epoch 8 / 10, Step 4510 / 5086, Loss: 0.0027\n",
            "Epoch 8 / 10, Step 4520 / 5086, Loss: 0.0765\n"
          ]
        },
        {
          "output_type": "stream",
          "name": "stderr",
          "text": [
            "4560it [00:31, 146.26it/s]"
          ]
        },
        {
          "output_type": "stream",
          "name": "stdout",
          "text": [
            "Epoch 8 / 10, Step 4530 / 5086, Loss: 1.6620\n",
            "Epoch 8 / 10, Step 4540 / 5086, Loss: 0.0175\n",
            "Epoch 8 / 10, Step 4550 / 5086, Loss: 0.8790\n",
            "Epoch 8 / 10, Step 4560 / 5086, Loss: 0.4320\n"
          ]
        },
        {
          "output_type": "stream",
          "name": "stderr",
          "text": [
            "4590it [00:32, 142.77it/s]"
          ]
        },
        {
          "output_type": "stream",
          "name": "stdout",
          "text": [
            "Epoch 8 / 10, Step 4570 / 5086, Loss: 0.0004\n",
            "Epoch 8 / 10, Step 4580 / 5086, Loss: 0.0188\n",
            "Epoch 8 / 10, Step 4590 / 5086, Loss: 0.0262\n"
          ]
        },
        {
          "output_type": "stream",
          "name": "stderr",
          "text": [
            "4621it [00:32, 143.30it/s]"
          ]
        },
        {
          "output_type": "stream",
          "name": "stdout",
          "text": [
            "Epoch 8 / 10, Step 4600 / 5086, Loss: 2.5121\n",
            "Epoch 8 / 10, Step 4610 / 5086, Loss: 0.0138\n",
            "Epoch 8 / 10, Step 4620 / 5086, Loss: 0.7561\n"
          ]
        },
        {
          "output_type": "stream",
          "name": "stderr",
          "text": [
            "4651it [00:32, 138.76it/s]"
          ]
        },
        {
          "output_type": "stream",
          "name": "stdout",
          "text": [
            "Epoch 8 / 10, Step 4630 / 5086, Loss: 0.4821\n",
            "Epoch 8 / 10, Step 4640 / 5086, Loss: 0.2554\n",
            "Epoch 8 / 10, Step 4650 / 5086, Loss: 1.7301\n"
          ]
        },
        {
          "output_type": "stream",
          "name": "stderr",
          "text": [
            "4682it [00:32, 144.93it/s]"
          ]
        },
        {
          "output_type": "stream",
          "name": "stdout",
          "text": [
            "Epoch 8 / 10, Step 4660 / 5086, Loss: 3.1850\n",
            "Epoch 8 / 10, Step 4670 / 5086, Loss: 1.6914\n",
            "Epoch 8 / 10, Step 4680 / 5086, Loss: 0.1001\n",
            "Epoch 8 / 10, Step 4690 / 5086, Loss: 0.0015\n"
          ]
        },
        {
          "output_type": "stream",
          "name": "stderr",
          "text": [
            "4730it [00:33, 152.70it/s]"
          ]
        },
        {
          "output_type": "stream",
          "name": "stdout",
          "text": [
            "Epoch 8 / 10, Step 4700 / 5086, Loss: 4.6479\n",
            "Epoch 8 / 10, Step 4710 / 5086, Loss: 4.2388\n",
            "Epoch 8 / 10, Step 4720 / 5086, Loss: 0.6002\n",
            "Epoch 8 / 10, Step 4730 / 5086, Loss: 0.7189\n"
          ]
        },
        {
          "output_type": "stream",
          "name": "stderr",
          "text": [
            "4762it [00:33, 150.50it/s]"
          ]
        },
        {
          "output_type": "stream",
          "name": "stdout",
          "text": [
            "Epoch 8 / 10, Step 4740 / 5086, Loss: 0.0000\n",
            "Epoch 8 / 10, Step 4750 / 5086, Loss: 6.1516\n",
            "Epoch 8 / 10, Step 4760 / 5086, Loss: 0.0002\n",
            "Epoch 8 / 10, Step 4770 / 5086, Loss: 0.4338\n"
          ]
        },
        {
          "output_type": "stream",
          "name": "stderr",
          "text": [
            "4809it [00:33, 148.69it/s]"
          ]
        },
        {
          "output_type": "stream",
          "name": "stdout",
          "text": [
            "Epoch 8 / 10, Step 4780 / 5086, Loss: 0.8662\n",
            "Epoch 8 / 10, Step 4790 / 5086, Loss: 1.0908\n",
            "Epoch 8 / 10, Step 4800 / 5086, Loss: 0.8817\n",
            "Epoch 8 / 10, Step 4810 / 5086, Loss: 0.0065\n"
          ]
        },
        {
          "output_type": "stream",
          "name": "stderr",
          "text": [
            "4840it [00:33, 148.81it/s]"
          ]
        },
        {
          "output_type": "stream",
          "name": "stdout",
          "text": [
            "Epoch 8 / 10, Step 4820 / 5086, Loss: 0.0346\n",
            "Epoch 8 / 10, Step 4830 / 5086, Loss: 0.0030\n",
            "Epoch 8 / 10, Step 4840 / 5086, Loss: 2.3038\n",
            "Epoch 8 / 10, Step 4850 / 5086, Loss: 2.5110\n"
          ]
        },
        {
          "output_type": "stream",
          "name": "stderr",
          "text": [
            "4887it [00:34, 149.28it/s]"
          ]
        },
        {
          "output_type": "stream",
          "name": "stdout",
          "text": [
            "Epoch 8 / 10, Step 4860 / 5086, Loss: 0.4832\n",
            "Epoch 8 / 10, Step 4870 / 5086, Loss: 1.0631\n",
            "Epoch 8 / 10, Step 4880 / 5086, Loss: 1.7234\n",
            "Epoch 8 / 10, Step 4890 / 5086, Loss: 0.7034\n"
          ]
        },
        {
          "output_type": "stream",
          "name": "stderr",
          "text": [
            "4918it [00:34, 147.72it/s]"
          ]
        },
        {
          "output_type": "stream",
          "name": "stdout",
          "text": [
            "Epoch 8 / 10, Step 4900 / 5086, Loss: 1.0686\n",
            "Epoch 8 / 10, Step 4910 / 5086, Loss: 4.1798\n",
            "Epoch 8 / 10, Step 4920 / 5086, Loss: 0.5992\n",
            "Epoch 8 / 10, Step 4930 / 5086, Loss: 1.4827\n"
          ]
        },
        {
          "output_type": "stream",
          "name": "stderr",
          "text": [
            "4964it [00:34, 146.93it/s]"
          ]
        },
        {
          "output_type": "stream",
          "name": "stdout",
          "text": [
            "Epoch 8 / 10, Step 4940 / 5086, Loss: 2.3655\n",
            "Epoch 8 / 10, Step 4950 / 5086, Loss: 0.6123\n",
            "Epoch 8 / 10, Step 4960 / 5086, Loss: 0.0350\n",
            "Epoch 8 / 10, Step 4970 / 5086, Loss: 0.1590\n"
          ]
        },
        {
          "output_type": "stream",
          "name": "stderr",
          "text": [
            "5010it [00:34, 148.61it/s]"
          ]
        },
        {
          "output_type": "stream",
          "name": "stdout",
          "text": [
            "Epoch 8 / 10, Step 4980 / 5086, Loss: 0.5455\n",
            "Epoch 8 / 10, Step 4990 / 5086, Loss: 1.3396\n",
            "Epoch 8 / 10, Step 5000 / 5086, Loss: 3.5815\n",
            "Epoch 8 / 10, Step 5010 / 5086, Loss: 0.2882\n"
          ]
        },
        {
          "output_type": "stream",
          "name": "stderr",
          "text": [
            "5040it [00:35, 145.99it/s]"
          ]
        },
        {
          "output_type": "stream",
          "name": "stdout",
          "text": [
            "Epoch 8 / 10, Step 5020 / 5086, Loss: 3.1311\n",
            "Epoch 8 / 10, Step 5030 / 5086, Loss: 0.0822\n",
            "Epoch 8 / 10, Step 5040 / 5086, Loss: 3.7557\n"
          ]
        },
        {
          "output_type": "stream",
          "name": "stderr",
          "text": [
            "5071it [00:35, 145.15it/s]"
          ]
        },
        {
          "output_type": "stream",
          "name": "stdout",
          "text": [
            "Epoch 8 / 10, Step 5050 / 5086, Loss: 1.6515\n",
            "Epoch 8 / 10, Step 5060 / 5086, Loss: 6.2132\n",
            "Epoch 8 / 10, Step 5070 / 5086, Loss: 3.4087\n"
          ]
        },
        {
          "output_type": "stream",
          "name": "stderr",
          "text": [
            "5086it [00:35, 143.37it/s]\n"
          ]
        },
        {
          "output_type": "stream",
          "name": "stdout",
          "text": [
            "Epoch 8 / 10, Step 5080 / 5086, Loss: 1.2727\n"
          ]
        },
        {
          "output_type": "stream",
          "name": "stderr",
          "text": [
            "12it [00:00, 115.53it/s]"
          ]
        },
        {
          "output_type": "stream",
          "name": "stdout",
          "text": [
            "Epoch 9 / 10, Step 10 / 5086, Loss: 1.1259\n"
          ]
        },
        {
          "output_type": "stream",
          "name": "stderr",
          "text": [
            "\r24it [00:00, 116.69it/s]"
          ]
        },
        {
          "output_type": "stream",
          "name": "stdout",
          "text": [
            "Epoch 9 / 10, Step 20 / 5086, Loss: 0.0290\n",
            "Epoch 9 / 10, Step 30 / 5086, Loss: 4.1811\n"
          ]
        },
        {
          "output_type": "stream",
          "name": "stderr",
          "text": [
            "\r38it [00:00, 123.86it/s]"
          ]
        },
        {
          "output_type": "stream",
          "name": "stdout",
          "text": [
            "Epoch 9 / 10, Step 40 / 5086, Loss: 0.2167\n"
          ]
        },
        {
          "output_type": "stream",
          "name": "stderr",
          "text": [
            "68it [00:00, 138.47it/s]"
          ]
        },
        {
          "output_type": "stream",
          "name": "stdout",
          "text": [
            "Epoch 9 / 10, Step 50 / 5086, Loss: 0.1924\n",
            "Epoch 9 / 10, Step 60 / 5086, Loss: 0.0234\n",
            "Epoch 9 / 10, Step 70 / 5086, Loss: 1.3841\n"
          ]
        },
        {
          "output_type": "stream",
          "name": "stderr",
          "text": [
            "97it [00:00, 138.88it/s]"
          ]
        },
        {
          "output_type": "stream",
          "name": "stdout",
          "text": [
            "Epoch 9 / 10, Step 80 / 5086, Loss: 0.0363\n",
            "Epoch 9 / 10, Step 90 / 5086, Loss: 0.1461\n",
            "Epoch 9 / 10, Step 100 / 5086, Loss: 0.0920\n"
          ]
        },
        {
          "output_type": "stream",
          "name": "stderr",
          "text": [
            "127it [00:00, 140.44it/s]"
          ]
        },
        {
          "output_type": "stream",
          "name": "stdout",
          "text": [
            "Epoch 9 / 10, Step 110 / 5086, Loss: 6.0957\n",
            "Epoch 9 / 10, Step 120 / 5086, Loss: 6.7181\n",
            "Epoch 9 / 10, Step 130 / 5086, Loss: 2.5745\n"
          ]
        },
        {
          "output_type": "stream",
          "name": "stderr",
          "text": [
            "157it [00:01, 137.41it/s]"
          ]
        },
        {
          "output_type": "stream",
          "name": "stdout",
          "text": [
            "Epoch 9 / 10, Step 140 / 5086, Loss: 8.5765\n",
            "Epoch 9 / 10, Step 150 / 5086, Loss: 0.0185\n",
            "Epoch 9 / 10, Step 160 / 5086, Loss: 5.8627\n"
          ]
        },
        {
          "output_type": "stream",
          "name": "stderr",
          "text": [
            "186it [00:01, 135.92it/s]"
          ]
        },
        {
          "output_type": "stream",
          "name": "stdout",
          "text": [
            "Epoch 9 / 10, Step 170 / 5086, Loss: 1.1215\n",
            "Epoch 9 / 10, Step 180 / 5086, Loss: 1.0283\n",
            "Epoch 9 / 10, Step 190 / 5086, Loss: 0.1389\n"
          ]
        },
        {
          "output_type": "stream",
          "name": "stderr",
          "text": [
            "215it [00:01, 138.09it/s]"
          ]
        },
        {
          "output_type": "stream",
          "name": "stdout",
          "text": [
            "Epoch 9 / 10, Step 200 / 5086, Loss: 0.1477\n",
            "Epoch 9 / 10, Step 210 / 5086, Loss: 3.9045\n",
            "Epoch 9 / 10, Step 220 / 5086, Loss: 0.3074\n"
          ]
        },
        {
          "output_type": "stream",
          "name": "stderr",
          "text": [
            "243it [00:01, 135.31it/s]"
          ]
        },
        {
          "output_type": "stream",
          "name": "stdout",
          "text": [
            "Epoch 9 / 10, Step 230 / 5086, Loss: 4.8228\n",
            "Epoch 9 / 10, Step 240 / 5086, Loss: 3.0244\n",
            "Epoch 9 / 10, Step 250 / 5086, Loss: 1.3454\n"
          ]
        },
        {
          "output_type": "stream",
          "name": "stderr",
          "text": [
            "271it [00:02, 132.93it/s]"
          ]
        },
        {
          "output_type": "stream",
          "name": "stdout",
          "text": [
            "Epoch 9 / 10, Step 260 / 5086, Loss: 3.8344\n",
            "Epoch 9 / 10, Step 270 / 5086, Loss: 8.6243\n"
          ]
        },
        {
          "output_type": "stream",
          "name": "stderr",
          "text": [
            "\r285it [00:02, 130.74it/s]"
          ]
        },
        {
          "output_type": "stream",
          "name": "stdout",
          "text": [
            "Epoch 9 / 10, Step 280 / 5086, Loss: 21.5870\n"
          ]
        },
        {
          "output_type": "stream",
          "name": "stderr",
          "text": [
            "\r299it [00:02, 132.98it/s]"
          ]
        },
        {
          "output_type": "stream",
          "name": "stdout",
          "text": [
            "Epoch 9 / 10, Step 290 / 5086, Loss: 3.7316\n",
            "Epoch 9 / 10, Step 300 / 5086, Loss: 0.6861\n"
          ]
        },
        {
          "output_type": "stream",
          "name": "stderr",
          "text": [
            "\r313it [00:02, 134.18it/s]"
          ]
        },
        {
          "output_type": "stream",
          "name": "stdout",
          "text": [
            "Epoch 9 / 10, Step 310 / 5086, Loss: 0.5381\n"
          ]
        },
        {
          "output_type": "stream",
          "name": "stderr",
          "text": [
            "\r328it [00:02, 138.17it/s]"
          ]
        },
        {
          "output_type": "stream",
          "name": "stdout",
          "text": [
            "Epoch 9 / 10, Step 320 / 5086, Loss: 1.6942\n",
            "Epoch 9 / 10, Step 330 / 5086, Loss: 2.6051\n"
          ]
        },
        {
          "output_type": "stream",
          "name": "stderr",
          "text": [
            "\r343it [00:02, 139.73it/s]"
          ]
        },
        {
          "output_type": "stream",
          "name": "stdout",
          "text": [
            "Epoch 9 / 10, Step 340 / 5086, Loss: 1.1800\n"
          ]
        },
        {
          "output_type": "stream",
          "name": "stderr",
          "text": [
            "\r358it [00:02, 140.84it/s]"
          ]
        },
        {
          "output_type": "stream",
          "name": "stdout",
          "text": [
            "Epoch 9 / 10, Step 350 / 5086, Loss: 0.2426\n",
            "Epoch 9 / 10, Step 360 / 5086, Loss: 0.9677\n"
          ]
        },
        {
          "output_type": "stream",
          "name": "stderr",
          "text": [
            "\r374it [00:02, 143.39it/s]"
          ]
        },
        {
          "output_type": "stream",
          "name": "stdout",
          "text": [
            "Epoch 9 / 10, Step 370 / 5086, Loss: 1.2803\n"
          ]
        },
        {
          "output_type": "stream",
          "name": "stderr",
          "text": [
            "\r389it [00:02, 144.22it/s]"
          ]
        },
        {
          "output_type": "stream",
          "name": "stdout",
          "text": [
            "Epoch 9 / 10, Step 380 / 5086, Loss: 0.0240\n",
            "Epoch 9 / 10, Step 390 / 5086, Loss: 5.9715\n"
          ]
        },
        {
          "output_type": "stream",
          "name": "stderr",
          "text": [
            "\r404it [00:02, 142.12it/s]"
          ]
        },
        {
          "output_type": "stream",
          "name": "stdout",
          "text": [
            "Epoch 9 / 10, Step 400 / 5086, Loss: 1.8352\n"
          ]
        },
        {
          "output_type": "stream",
          "name": "stderr",
          "text": [
            "\r419it [00:03, 140.92it/s]"
          ]
        },
        {
          "output_type": "stream",
          "name": "stdout",
          "text": [
            "Epoch 9 / 10, Step 410 / 5086, Loss: 0.0005\n",
            "Epoch 9 / 10, Step 420 / 5086, Loss: 5.8166\n"
          ]
        },
        {
          "output_type": "stream",
          "name": "stderr",
          "text": [
            "\r434it [00:03, 138.15it/s]"
          ]
        },
        {
          "output_type": "stream",
          "name": "stdout",
          "text": [
            "Epoch 9 / 10, Step 430 / 5086, Loss: 0.3633\n"
          ]
        },
        {
          "output_type": "stream",
          "name": "stderr",
          "text": [
            "\r448it [00:03, 130.64it/s]"
          ]
        },
        {
          "output_type": "stream",
          "name": "stdout",
          "text": [
            "Epoch 9 / 10, Step 440 / 5086, Loss: 1.2850\n",
            "Epoch 9 / 10, Step 450 / 5086, Loss: 2.9086\n"
          ]
        },
        {
          "output_type": "stream",
          "name": "stderr",
          "text": [
            "\r462it [00:03, 130.55it/s]"
          ]
        },
        {
          "output_type": "stream",
          "name": "stdout",
          "text": [
            "Epoch 9 / 10, Step 460 / 5086, Loss: 2.6978\n"
          ]
        },
        {
          "output_type": "stream",
          "name": "stderr",
          "text": [
            "\r476it [00:03, 133.02it/s]"
          ]
        },
        {
          "output_type": "stream",
          "name": "stdout",
          "text": [
            "Epoch 9 / 10, Step 470 / 5086, Loss: 1.0020\n",
            "Epoch 9 / 10, Step 480 / 5086, Loss: 2.8467\n"
          ]
        },
        {
          "output_type": "stream",
          "name": "stderr",
          "text": [
            "\r491it [00:03, 136.75it/s]"
          ]
        },
        {
          "output_type": "stream",
          "name": "stdout",
          "text": [
            "Epoch 9 / 10, Step 490 / 5086, Loss: 0.4960\n"
          ]
        },
        {
          "output_type": "stream",
          "name": "stderr",
          "text": [
            "\r505it [00:03, 134.09it/s]"
          ]
        },
        {
          "output_type": "stream",
          "name": "stdout",
          "text": [
            "Epoch 9 / 10, Step 500 / 5086, Loss: 2.8006\n",
            "Epoch 9 / 10, Step 510 / 5086, Loss: 0.0849\n"
          ]
        },
        {
          "output_type": "stream",
          "name": "stderr",
          "text": [
            "\r520it [00:03, 136.08it/s]"
          ]
        },
        {
          "output_type": "stream",
          "name": "stdout",
          "text": [
            "Epoch 9 / 10, Step 520 / 5086, Loss: 0.0005\n"
          ]
        },
        {
          "output_type": "stream",
          "name": "stderr",
          "text": [
            "\r534it [00:03, 133.67it/s]"
          ]
        },
        {
          "output_type": "stream",
          "name": "stdout",
          "text": [
            "Epoch 9 / 10, Step 530 / 5086, Loss: 0.0058\n",
            "Epoch 9 / 10, Step 540 / 5086, Loss: 1.3298\n"
          ]
        },
        {
          "output_type": "stream",
          "name": "stderr",
          "text": [
            "\r550it [00:04, 138.50it/s]"
          ]
        },
        {
          "output_type": "stream",
          "name": "stdout",
          "text": [
            "Epoch 9 / 10, Step 550 / 5086, Loss: 1.2642\n"
          ]
        },
        {
          "output_type": "stream",
          "name": "stderr",
          "text": [
            "\r564it [00:04, 133.83it/s]"
          ]
        },
        {
          "output_type": "stream",
          "name": "stdout",
          "text": [
            "Epoch 9 / 10, Step 560 / 5086, Loss: 1.2506\n",
            "Epoch 9 / 10, Step 570 / 5086, Loss: 0.0715\n"
          ]
        },
        {
          "output_type": "stream",
          "name": "stderr",
          "text": [
            "\r579it [00:04, 137.60it/s]"
          ]
        },
        {
          "output_type": "stream",
          "name": "stdout",
          "text": [
            "Epoch 9 / 10, Step 580 / 5086, Loss: 5.4905\n"
          ]
        },
        {
          "output_type": "stream",
          "name": "stderr",
          "text": [
            "\r593it [00:04, 134.43it/s]"
          ]
        },
        {
          "output_type": "stream",
          "name": "stdout",
          "text": [
            "Epoch 9 / 10, Step 590 / 5086, Loss: 2.7579\n",
            "Epoch 9 / 10, Step 600 / 5086, Loss: 1.4816\n"
          ]
        },
        {
          "output_type": "stream",
          "name": "stderr",
          "text": [
            "\r610it [00:04, 141.32it/s]"
          ]
        },
        {
          "output_type": "stream",
          "name": "stdout",
          "text": [
            "Epoch 9 / 10, Step 610 / 5086, Loss: 0.0029\n"
          ]
        },
        {
          "output_type": "stream",
          "name": "stderr",
          "text": [
            "\r625it [00:04, 136.12it/s]"
          ]
        },
        {
          "output_type": "stream",
          "name": "stdout",
          "text": [
            "Epoch 9 / 10, Step 620 / 5086, Loss: 3.3631\n",
            "Epoch 9 / 10, Step 630 / 5086, Loss: 0.7505\n"
          ]
        },
        {
          "output_type": "stream",
          "name": "stderr",
          "text": [
            "\r639it [00:04, 135.46it/s]"
          ]
        },
        {
          "output_type": "stream",
          "name": "stdout",
          "text": [
            "Epoch 9 / 10, Step 640 / 5086, Loss: 8.3450\n"
          ]
        },
        {
          "output_type": "stream",
          "name": "stderr",
          "text": [
            "\r653it [00:04, 130.90it/s]"
          ]
        },
        {
          "output_type": "stream",
          "name": "stdout",
          "text": [
            "Epoch 9 / 10, Step 650 / 5086, Loss: 2.0096\n",
            "Epoch 9 / 10, Step 660 / 5086, Loss: 0.0551\n"
          ]
        },
        {
          "output_type": "stream",
          "name": "stderr",
          "text": [
            "\r668it [00:04, 135.34it/s]"
          ]
        },
        {
          "output_type": "stream",
          "name": "stdout",
          "text": [
            "Epoch 9 / 10, Step 670 / 5086, Loss: 3.8734\n"
          ]
        },
        {
          "output_type": "stream",
          "name": "stderr",
          "text": [
            "698it [00:05, 139.44it/s]"
          ]
        },
        {
          "output_type": "stream",
          "name": "stdout",
          "text": [
            "Epoch 9 / 10, Step 680 / 5086, Loss: 1.2890\n",
            "Epoch 9 / 10, Step 690 / 5086, Loss: 6.1579\n",
            "Epoch 9 / 10, Step 700 / 5086, Loss: 2.9354\n"
          ]
        },
        {
          "output_type": "stream",
          "name": "stderr",
          "text": [
            "\r713it [00:05, 132.63it/s]"
          ]
        },
        {
          "output_type": "stream",
          "name": "stdout",
          "text": [
            "Epoch 9 / 10, Step 710 / 5086, Loss: 2.1453\n",
            "Epoch 9 / 10, Step 720 / 5086, Loss: 0.0908\n"
          ]
        },
        {
          "output_type": "stream",
          "name": "stderr",
          "text": [
            "\r729it [00:05, 137.60it/s]"
          ]
        },
        {
          "output_type": "stream",
          "name": "stdout",
          "text": [
            "Epoch 9 / 10, Step 730 / 5086, Loss: 1.2484\n"
          ]
        },
        {
          "output_type": "stream",
          "name": "stderr",
          "text": [
            "\r743it [00:05, 130.46it/s]"
          ]
        },
        {
          "output_type": "stream",
          "name": "stdout",
          "text": [
            "Epoch 9 / 10, Step 740 / 5086, Loss: 3.5363\n",
            "Epoch 9 / 10, Step 750 / 5086, Loss: 0.0166\n"
          ]
        },
        {
          "output_type": "stream",
          "name": "stderr",
          "text": [
            "\r758it [00:05, 133.80it/s]"
          ]
        },
        {
          "output_type": "stream",
          "name": "stdout",
          "text": [
            "Epoch 9 / 10, Step 760 / 5086, Loss: 2.3230\n"
          ]
        },
        {
          "output_type": "stream",
          "name": "stderr",
          "text": [
            "788it [00:05, 138.57it/s]"
          ]
        },
        {
          "output_type": "stream",
          "name": "stdout",
          "text": [
            "Epoch 9 / 10, Step 770 / 5086, Loss: 9.1140\n",
            "Epoch 9 / 10, Step 780 / 5086, Loss: 1.2437\n",
            "Epoch 9 / 10, Step 790 / 5086, Loss: 0.0332\n"
          ]
        },
        {
          "output_type": "stream",
          "name": "stderr",
          "text": [
            "\r802it [00:05, 132.43it/s]"
          ]
        },
        {
          "output_type": "stream",
          "name": "stdout",
          "text": [
            "Epoch 9 / 10, Step 800 / 5086, Loss: 12.6952\n",
            "Epoch 9 / 10, Step 810 / 5086, Loss: 0.6135\n"
          ]
        },
        {
          "output_type": "stream",
          "name": "stderr",
          "text": [
            "\r819it [00:06, 140.63it/s]"
          ]
        },
        {
          "output_type": "stream",
          "name": "stdout",
          "text": [
            "Epoch 9 / 10, Step 820 / 5086, Loss: 5.3497\n"
          ]
        },
        {
          "output_type": "stream",
          "name": "stderr",
          "text": [
            "\r834it [00:06, 136.99it/s]"
          ]
        },
        {
          "output_type": "stream",
          "name": "stdout",
          "text": [
            "Epoch 9 / 10, Step 830 / 5086, Loss: 15.9958\n",
            "Epoch 9 / 10, Step 840 / 5086, Loss: 5.7116\n"
          ]
        },
        {
          "output_type": "stream",
          "name": "stderr",
          "text": [
            "\r849it [00:06, 139.40it/s]"
          ]
        },
        {
          "output_type": "stream",
          "name": "stdout",
          "text": [
            "Epoch 9 / 10, Step 850 / 5086, Loss: 1.1026\n"
          ]
        },
        {
          "output_type": "stream",
          "name": "stderr",
          "text": [
            "\r864it [00:06, 135.14it/s]"
          ]
        },
        {
          "output_type": "stream",
          "name": "stdout",
          "text": [
            "Epoch 9 / 10, Step 860 / 5086, Loss: 4.8905\n",
            "Epoch 9 / 10, Step 870 / 5086, Loss: 0.0138\n"
          ]
        },
        {
          "output_type": "stream",
          "name": "stderr",
          "text": [
            "\r880it [00:06, 139.08it/s]"
          ]
        },
        {
          "output_type": "stream",
          "name": "stdout",
          "text": [
            "Epoch 9 / 10, Step 880 / 5086, Loss: 1.3221\n"
          ]
        },
        {
          "output_type": "stream",
          "name": "stderr",
          "text": [
            "\r894it [00:06, 135.61it/s]"
          ]
        },
        {
          "output_type": "stream",
          "name": "stdout",
          "text": [
            "Epoch 9 / 10, Step 890 / 5086, Loss: 3.8694\n",
            "Epoch 9 / 10, Step 900 / 5086, Loss: 4.8353\n"
          ]
        },
        {
          "output_type": "stream",
          "name": "stderr",
          "text": [
            "\r909it [00:06, 139.20it/s]"
          ]
        },
        {
          "output_type": "stream",
          "name": "stdout",
          "text": [
            "Epoch 9 / 10, Step 910 / 5086, Loss: 0.0752\n"
          ]
        },
        {
          "output_type": "stream",
          "name": "stderr",
          "text": [
            "\r923it [00:06, 132.71it/s]"
          ]
        },
        {
          "output_type": "stream",
          "name": "stdout",
          "text": [
            "Epoch 9 / 10, Step 920 / 5086, Loss: 1.2044\n",
            "Epoch 9 / 10, Step 930 / 5086, Loss: 2.8541\n"
          ]
        },
        {
          "output_type": "stream",
          "name": "stderr",
          "text": [
            "\r938it [00:06, 135.99it/s]"
          ]
        },
        {
          "output_type": "stream",
          "name": "stdout",
          "text": [
            "Epoch 9 / 10, Step 940 / 5086, Loss: 0.0008\n"
          ]
        },
        {
          "output_type": "stream",
          "name": "stderr",
          "text": [
            "968it [00:07, 138.83it/s]"
          ]
        },
        {
          "output_type": "stream",
          "name": "stdout",
          "text": [
            "Epoch 9 / 10, Step 950 / 5086, Loss: 0.6879\n",
            "Epoch 9 / 10, Step 960 / 5086, Loss: 11.2223\n",
            "Epoch 9 / 10, Step 970 / 5086, Loss: 0.3785\n"
          ]
        },
        {
          "output_type": "stream",
          "name": "stderr",
          "text": [
            "\r982it [00:07, 131.25it/s]"
          ]
        },
        {
          "output_type": "stream",
          "name": "stdout",
          "text": [
            "Epoch 9 / 10, Step 980 / 5086, Loss: 2.8495\n",
            "Epoch 9 / 10, Step 990 / 5086, Loss: 2.3525\n"
          ]
        },
        {
          "output_type": "stream",
          "name": "stderr",
          "text": [
            "\r996it [00:07, 131.95it/s]"
          ]
        },
        {
          "output_type": "stream",
          "name": "stdout",
          "text": [
            "Epoch 9 / 10, Step 1000 / 5086, Loss: 3.4488\n"
          ]
        },
        {
          "output_type": "stream",
          "name": "stderr",
          "text": [
            "1026it [00:07, 138.52it/s]"
          ]
        },
        {
          "output_type": "stream",
          "name": "stdout",
          "text": [
            "Epoch 9 / 10, Step 1010 / 5086, Loss: 0.0025\n",
            "Epoch 9 / 10, Step 1020 / 5086, Loss: 0.0122\n",
            "Epoch 9 / 10, Step 1030 / 5086, Loss: 1.7037\n"
          ]
        },
        {
          "output_type": "stream",
          "name": "stderr",
          "text": [
            "1054it [00:07, 136.28it/s]"
          ]
        },
        {
          "output_type": "stream",
          "name": "stdout",
          "text": [
            "Epoch 9 / 10, Step 1040 / 5086, Loss: 4.1618\n",
            "Epoch 9 / 10, Step 1050 / 5086, Loss: 2.4874\n",
            "Epoch 9 / 10, Step 1060 / 5086, Loss: 8.2581\n"
          ]
        },
        {
          "output_type": "stream",
          "name": "stderr",
          "text": [
            "1082it [00:08, 131.91it/s]"
          ]
        },
        {
          "output_type": "stream",
          "name": "stdout",
          "text": [
            "Epoch 9 / 10, Step 1070 / 5086, Loss: 5.9232\n",
            "Epoch 9 / 10, Step 1080 / 5086, Loss: 2.9506\n"
          ]
        },
        {
          "output_type": "stream",
          "name": "stderr",
          "text": [
            "\r1096it [00:08, 132.59it/s]"
          ]
        },
        {
          "output_type": "stream",
          "name": "stdout",
          "text": [
            "Epoch 9 / 10, Step 1090 / 5086, Loss: 0.0000\n"
          ]
        },
        {
          "output_type": "stream",
          "name": "stderr",
          "text": [
            "\r1110it [00:08, 133.97it/s]"
          ]
        },
        {
          "output_type": "stream",
          "name": "stdout",
          "text": [
            "Epoch 9 / 10, Step 1100 / 5086, Loss: 3.7580\n",
            "Epoch 9 / 10, Step 1110 / 5086, Loss: 0.7478\n"
          ]
        },
        {
          "output_type": "stream",
          "name": "stderr",
          "text": [
            "\r1124it [00:08, 132.37it/s]"
          ]
        },
        {
          "output_type": "stream",
          "name": "stdout",
          "text": [
            "Epoch 9 / 10, Step 1120 / 5086, Loss: 1.2897\n"
          ]
        },
        {
          "output_type": "stream",
          "name": "stderr",
          "text": [
            "\r1138it [00:08, 130.75it/s]"
          ]
        },
        {
          "output_type": "stream",
          "name": "stdout",
          "text": [
            "Epoch 9 / 10, Step 1130 / 5086, Loss: 5.2198\n",
            "Epoch 9 / 10, Step 1140 / 5086, Loss: 0.4741\n"
          ]
        },
        {
          "output_type": "stream",
          "name": "stderr",
          "text": [
            "\r1152it [00:08, 131.57it/s]"
          ]
        },
        {
          "output_type": "stream",
          "name": "stdout",
          "text": [
            "Epoch 9 / 10, Step 1150 / 5086, Loss: 1.2727\n"
          ]
        },
        {
          "output_type": "stream",
          "name": "stderr",
          "text": [
            "\r1166it [00:08, 130.64it/s]"
          ]
        },
        {
          "output_type": "stream",
          "name": "stdout",
          "text": [
            "Epoch 9 / 10, Step 1160 / 5086, Loss: 5.6701\n",
            "Epoch 9 / 10, Step 1170 / 5086, Loss: 2.9340\n"
          ]
        },
        {
          "output_type": "stream",
          "name": "stderr",
          "text": [
            "\r1181it [00:08, 133.45it/s]"
          ]
        },
        {
          "output_type": "stream",
          "name": "stdout",
          "text": [
            "Epoch 9 / 10, Step 1180 / 5086, Loss: 0.0009\n"
          ]
        },
        {
          "output_type": "stream",
          "name": "stderr",
          "text": [
            "\r1195it [00:08, 132.48it/s]"
          ]
        },
        {
          "output_type": "stream",
          "name": "stdout",
          "text": [
            "Epoch 9 / 10, Step 1190 / 5086, Loss: 2.0836\n",
            "Epoch 9 / 10, Step 1200 / 5086, Loss: 0.9992\n"
          ]
        },
        {
          "output_type": "stream",
          "name": "stderr",
          "text": [
            "\r1210it [00:08, 137.39it/s]"
          ]
        },
        {
          "output_type": "stream",
          "name": "stdout",
          "text": [
            "Epoch 9 / 10, Step 1210 / 5086, Loss: 7.2722\n"
          ]
        },
        {
          "output_type": "stream",
          "name": "stderr",
          "text": [
            "\r1224it [00:09, 133.16it/s]"
          ]
        },
        {
          "output_type": "stream",
          "name": "stdout",
          "text": [
            "Epoch 9 / 10, Step 1220 / 5086, Loss: 0.5428\n",
            "Epoch 9 / 10, Step 1230 / 5086, Loss: 24.0555\n"
          ]
        },
        {
          "output_type": "stream",
          "name": "stderr",
          "text": [
            "\r1239it [00:09, 135.80it/s]"
          ]
        },
        {
          "output_type": "stream",
          "name": "stdout",
          "text": [
            "Epoch 9 / 10, Step 1240 / 5086, Loss: 5.1062\n"
          ]
        },
        {
          "output_type": "stream",
          "name": "stderr",
          "text": [
            "1267it [00:09, 135.37it/s]"
          ]
        },
        {
          "output_type": "stream",
          "name": "stdout",
          "text": [
            "Epoch 9 / 10, Step 1250 / 5086, Loss: 4.7063\n",
            "Epoch 9 / 10, Step 1260 / 5086, Loss: 1.4192\n",
            "Epoch 9 / 10, Step 1270 / 5086, Loss: 1.7429\n"
          ]
        },
        {
          "output_type": "stream",
          "name": "stderr",
          "text": [
            "1297it [00:09, 137.90it/s]"
          ]
        },
        {
          "output_type": "stream",
          "name": "stdout",
          "text": [
            "Epoch 9 / 10, Step 1280 / 5086, Loss: 0.0743\n",
            "Epoch 9 / 10, Step 1290 / 5086, Loss: 1.8131\n",
            "Epoch 9 / 10, Step 1300 / 5086, Loss: 1.9827\n"
          ]
        },
        {
          "output_type": "stream",
          "name": "stderr",
          "text": [
            "1327it [00:09, 139.90it/s]"
          ]
        },
        {
          "output_type": "stream",
          "name": "stdout",
          "text": [
            "Epoch 9 / 10, Step 1310 / 5086, Loss: 0.2469\n",
            "Epoch 9 / 10, Step 1320 / 5086, Loss: 0.7491\n",
            "Epoch 9 / 10, Step 1330 / 5086, Loss: 0.1267\n"
          ]
        },
        {
          "output_type": "stream",
          "name": "stderr",
          "text": [
            "1357it [00:10, 136.62it/s]"
          ]
        },
        {
          "output_type": "stream",
          "name": "stdout",
          "text": [
            "Epoch 9 / 10, Step 1340 / 5086, Loss: 3.7639\n",
            "Epoch 9 / 10, Step 1350 / 5086, Loss: 2.8311\n",
            "Epoch 9 / 10, Step 1360 / 5086, Loss: 1.5067\n"
          ]
        },
        {
          "output_type": "stream",
          "name": "stderr",
          "text": [
            "1387it [00:10, 139.81it/s]"
          ]
        },
        {
          "output_type": "stream",
          "name": "stdout",
          "text": [
            "Epoch 9 / 10, Step 1370 / 5086, Loss: 3.3605\n",
            "Epoch 9 / 10, Step 1380 / 5086, Loss: 7.8768\n",
            "Epoch 9 / 10, Step 1390 / 5086, Loss: 2.3860\n"
          ]
        },
        {
          "output_type": "stream",
          "name": "stderr",
          "text": [
            "\r1402it [00:10, 131.42it/s]"
          ]
        },
        {
          "output_type": "stream",
          "name": "stdout",
          "text": [
            "Epoch 9 / 10, Step 1400 / 5086, Loss: 2.0414\n",
            "Epoch 9 / 10, Step 1410 / 5086, Loss: 16.6435\n"
          ]
        },
        {
          "output_type": "stream",
          "name": "stderr",
          "text": [
            "\r1418it [00:10, 136.55it/s]"
          ]
        },
        {
          "output_type": "stream",
          "name": "stdout",
          "text": [
            "Epoch 9 / 10, Step 1420 / 5086, Loss: 2.6760\n"
          ]
        },
        {
          "output_type": "stream",
          "name": "stderr",
          "text": [
            "1447it [00:10, 137.35it/s]"
          ]
        },
        {
          "output_type": "stream",
          "name": "stdout",
          "text": [
            "Epoch 9 / 10, Step 1430 / 5086, Loss: 2.5837\n",
            "Epoch 9 / 10, Step 1440 / 5086, Loss: 1.1130\n",
            "Epoch 9 / 10, Step 1450 / 5086, Loss: 9.2604\n"
          ]
        },
        {
          "output_type": "stream",
          "name": "stderr",
          "text": [
            "1476it [00:10, 136.62it/s]"
          ]
        },
        {
          "output_type": "stream",
          "name": "stdout",
          "text": [
            "Epoch 9 / 10, Step 1460 / 5086, Loss: 0.7551\n",
            "Epoch 9 / 10, Step 1470 / 5086, Loss: 2.0985\n",
            "Epoch 9 / 10, Step 1480 / 5086, Loss: 0.0005\n"
          ]
        },
        {
          "output_type": "stream",
          "name": "stderr",
          "text": [
            "1506it [00:11, 136.92it/s]"
          ]
        },
        {
          "output_type": "stream",
          "name": "stdout",
          "text": [
            "Epoch 9 / 10, Step 1490 / 5086, Loss: 0.3162\n",
            "Epoch 9 / 10, Step 1500 / 5086, Loss: 5.5364\n",
            "Epoch 9 / 10, Step 1510 / 5086, Loss: 0.0069\n"
          ]
        },
        {
          "output_type": "stream",
          "name": "stderr",
          "text": [
            "1534it [00:11, 135.02it/s]"
          ]
        },
        {
          "output_type": "stream",
          "name": "stdout",
          "text": [
            "Epoch 9 / 10, Step 1520 / 5086, Loss: 0.0046\n",
            "Epoch 9 / 10, Step 1530 / 5086, Loss: 2.1873\n",
            "Epoch 9 / 10, Step 1540 / 5086, Loss: 0.9406\n"
          ]
        },
        {
          "output_type": "stream",
          "name": "stderr",
          "text": [
            "1562it [00:11, 132.49it/s]"
          ]
        },
        {
          "output_type": "stream",
          "name": "stdout",
          "text": [
            "Epoch 9 / 10, Step 1550 / 5086, Loss: 0.0000\n",
            "Epoch 9 / 10, Step 1560 / 5086, Loss: 1.4315\n"
          ]
        },
        {
          "output_type": "stream",
          "name": "stderr",
          "text": [
            "\r1576it [00:11, 131.76it/s]"
          ]
        },
        {
          "output_type": "stream",
          "name": "stdout",
          "text": [
            "Epoch 9 / 10, Step 1570 / 5086, Loss: 9.0575\n"
          ]
        },
        {
          "output_type": "stream",
          "name": "stderr",
          "text": [
            "\r1590it [00:11, 132.04it/s]"
          ]
        },
        {
          "output_type": "stream",
          "name": "stdout",
          "text": [
            "Epoch 9 / 10, Step 1580 / 5086, Loss: 0.5334\n",
            "Epoch 9 / 10, Step 1590 / 5086, Loss: 2.6728\n"
          ]
        },
        {
          "output_type": "stream",
          "name": "stderr",
          "text": [
            "\r1604it [00:11, 132.92it/s]"
          ]
        },
        {
          "output_type": "stream",
          "name": "stdout",
          "text": [
            "Epoch 9 / 10, Step 1600 / 5086, Loss: 4.4655\n"
          ]
        },
        {
          "output_type": "stream",
          "name": "stderr",
          "text": [
            "\r1618it [00:12, 134.36it/s]"
          ]
        },
        {
          "output_type": "stream",
          "name": "stdout",
          "text": [
            "Epoch 9 / 10, Step 1610 / 5086, Loss: 2.9330\n",
            "Epoch 9 / 10, Step 1620 / 5086, Loss: 5.6316\n"
          ]
        },
        {
          "output_type": "stream",
          "name": "stderr",
          "text": [
            "\r1632it [00:12, 132.79it/s]"
          ]
        },
        {
          "output_type": "stream",
          "name": "stdout",
          "text": [
            "Epoch 9 / 10, Step 1630 / 5086, Loss: 0.0000\n"
          ]
        },
        {
          "output_type": "stream",
          "name": "stderr",
          "text": [
            "\r1646it [00:12, 132.85it/s]"
          ]
        },
        {
          "output_type": "stream",
          "name": "stdout",
          "text": [
            "Epoch 9 / 10, Step 1640 / 5086, Loss: 6.6334\n",
            "Epoch 9 / 10, Step 1650 / 5086, Loss: 1.9725\n"
          ]
        },
        {
          "output_type": "stream",
          "name": "stderr",
          "text": [
            "\r1661it [00:12, 134.90it/s]"
          ]
        },
        {
          "output_type": "stream",
          "name": "stdout",
          "text": [
            "Epoch 9 / 10, Step 1660 / 5086, Loss: 1.0734\n"
          ]
        },
        {
          "output_type": "stream",
          "name": "stderr",
          "text": [
            "\r1675it [00:12, 131.24it/s]"
          ]
        },
        {
          "output_type": "stream",
          "name": "stdout",
          "text": [
            "Epoch 9 / 10, Step 1670 / 5086, Loss: 0.0514\n",
            "Epoch 9 / 10, Step 1680 / 5086, Loss: 0.0006\n"
          ]
        },
        {
          "output_type": "stream",
          "name": "stderr",
          "text": [
            "\r1690it [00:12, 134.05it/s]"
          ]
        },
        {
          "output_type": "stream",
          "name": "stdout",
          "text": [
            "Epoch 9 / 10, Step 1690 / 5086, Loss: 7.7012\n"
          ]
        },
        {
          "output_type": "stream",
          "name": "stderr",
          "text": [
            "\r1704it [00:12, 134.24it/s]"
          ]
        },
        {
          "output_type": "stream",
          "name": "stdout",
          "text": [
            "Epoch 9 / 10, Step 1700 / 5086, Loss: 1.4819\n",
            "Epoch 9 / 10, Step 1710 / 5086, Loss: 2.2756\n"
          ]
        },
        {
          "output_type": "stream",
          "name": "stderr",
          "text": [
            "\r1720it [00:12, 140.92it/s]"
          ]
        },
        {
          "output_type": "stream",
          "name": "stdout",
          "text": [
            "Epoch 9 / 10, Step 1720 / 5086, Loss: 0.1860\n"
          ]
        },
        {
          "output_type": "stream",
          "name": "stderr",
          "text": [
            "\r1735it [00:12, 139.58it/s]"
          ]
        },
        {
          "output_type": "stream",
          "name": "stdout",
          "text": [
            "Epoch 9 / 10, Step 1730 / 5086, Loss: 1.9531\n",
            "Epoch 9 / 10, Step 1740 / 5086, Loss: 0.3759\n"
          ]
        },
        {
          "output_type": "stream",
          "name": "stderr",
          "text": [
            "\r1750it [00:12, 142.50it/s]"
          ]
        },
        {
          "output_type": "stream",
          "name": "stdout",
          "text": [
            "Epoch 9 / 10, Step 1750 / 5086, Loss: 0.0056\n"
          ]
        },
        {
          "output_type": "stream",
          "name": "stderr",
          "text": [
            "\r1765it [00:13, 136.96it/s]"
          ]
        },
        {
          "output_type": "stream",
          "name": "stdout",
          "text": [
            "Epoch 9 / 10, Step 1760 / 5086, Loss: 4.3209\n",
            "Epoch 9 / 10, Step 1770 / 5086, Loss: 1.9025\n"
          ]
        },
        {
          "output_type": "stream",
          "name": "stderr",
          "text": [
            "\r1781it [00:13, 141.84it/s]"
          ]
        },
        {
          "output_type": "stream",
          "name": "stdout",
          "text": [
            "Epoch 9 / 10, Step 1780 / 5086, Loss: 0.8482\n"
          ]
        },
        {
          "output_type": "stream",
          "name": "stderr",
          "text": [
            "\r1796it [00:13, 139.53it/s]"
          ]
        },
        {
          "output_type": "stream",
          "name": "stdout",
          "text": [
            "Epoch 9 / 10, Step 1790 / 5086, Loss: 2.9804\n",
            "Epoch 9 / 10, Step 1800 / 5086, Loss: 0.3361\n"
          ]
        },
        {
          "output_type": "stream",
          "name": "stderr",
          "text": [
            "\r1811it [00:13, 142.07it/s]"
          ]
        },
        {
          "output_type": "stream",
          "name": "stdout",
          "text": [
            "Epoch 9 / 10, Step 1810 / 5086, Loss: 3.3778\n"
          ]
        },
        {
          "output_type": "stream",
          "name": "stderr",
          "text": [
            "\r1826it [00:13, 135.24it/s]"
          ]
        },
        {
          "output_type": "stream",
          "name": "stdout",
          "text": [
            "Epoch 9 / 10, Step 1820 / 5086, Loss: 0.5625\n",
            "Epoch 9 / 10, Step 1830 / 5086, Loss: 0.9094\n"
          ]
        },
        {
          "output_type": "stream",
          "name": "stderr",
          "text": [
            "\r1840it [00:13, 136.54it/s]"
          ]
        },
        {
          "output_type": "stream",
          "name": "stdout",
          "text": [
            "Epoch 9 / 10, Step 1840 / 5086, Loss: 3.7895\n"
          ]
        },
        {
          "output_type": "stream",
          "name": "stderr",
          "text": [
            "\r1854it [00:13, 133.80it/s]"
          ]
        },
        {
          "output_type": "stream",
          "name": "stdout",
          "text": [
            "Epoch 9 / 10, Step 1850 / 5086, Loss: 0.0125\n",
            "Epoch 9 / 10, Step 1860 / 5086, Loss: 0.7943\n"
          ]
        },
        {
          "output_type": "stream",
          "name": "stderr",
          "text": [
            "\r1870it [00:13, 140.38it/s]"
          ]
        },
        {
          "output_type": "stream",
          "name": "stdout",
          "text": [
            "Epoch 9 / 10, Step 1870 / 5086, Loss: 0.7469\n"
          ]
        },
        {
          "output_type": "stream",
          "name": "stderr",
          "text": [
            "\r1885it [00:13, 133.58it/s]"
          ]
        },
        {
          "output_type": "stream",
          "name": "stdout",
          "text": [
            "Epoch 9 / 10, Step 1880 / 5086, Loss: 1.7469\n",
            "Epoch 9 / 10, Step 1890 / 5086, Loss: 1.9792\n"
          ]
        },
        {
          "output_type": "stream",
          "name": "stderr",
          "text": [
            "\r1899it [00:14, 130.22it/s]"
          ]
        },
        {
          "output_type": "stream",
          "name": "stdout",
          "text": [
            "Epoch 9 / 10, Step 1900 / 5086, Loss: 6.1352\n"
          ]
        },
        {
          "output_type": "stream",
          "name": "stderr",
          "text": [
            "1929it [00:14, 138.01it/s]"
          ]
        },
        {
          "output_type": "stream",
          "name": "stdout",
          "text": [
            "Epoch 9 / 10, Step 1910 / 5086, Loss: 0.7722\n",
            "Epoch 9 / 10, Step 1920 / 5086, Loss: 5.4244\n",
            "Epoch 9 / 10, Step 1930 / 5086, Loss: 3.4320\n"
          ]
        },
        {
          "output_type": "stream",
          "name": "stderr",
          "text": [
            "\r1943it [00:14, 133.38it/s]"
          ]
        },
        {
          "output_type": "stream",
          "name": "stdout",
          "text": [
            "Epoch 9 / 10, Step 1940 / 5086, Loss: 0.0095\n",
            "Epoch 9 / 10, Step 1950 / 5086, Loss: 6.2024\n"
          ]
        },
        {
          "output_type": "stream",
          "name": "stderr",
          "text": [
            "\r1960it [00:14, 140.38it/s]"
          ]
        },
        {
          "output_type": "stream",
          "name": "stdout",
          "text": [
            "Epoch 9 / 10, Step 1960 / 5086, Loss: 0.6298\n"
          ]
        },
        {
          "output_type": "stream",
          "name": "stderr",
          "text": [
            "\r1975it [00:14, 134.69it/s]"
          ]
        },
        {
          "output_type": "stream",
          "name": "stdout",
          "text": [
            "Epoch 9 / 10, Step 1970 / 5086, Loss: 0.2286\n",
            "Epoch 9 / 10, Step 1980 / 5086, Loss: 0.2631\n"
          ]
        },
        {
          "output_type": "stream",
          "name": "stderr",
          "text": [
            "\r1990it [00:14, 136.34it/s]"
          ]
        },
        {
          "output_type": "stream",
          "name": "stdout",
          "text": [
            "Epoch 9 / 10, Step 1990 / 5086, Loss: 0.4214\n"
          ]
        },
        {
          "output_type": "stream",
          "name": "stderr",
          "text": [
            "\r2004it [00:14, 135.54it/s]"
          ]
        },
        {
          "output_type": "stream",
          "name": "stdout",
          "text": [
            "Epoch 9 / 10, Step 2000 / 5086, Loss: 0.8414\n",
            "Epoch 9 / 10, Step 2010 / 5086, Loss: 1.7828\n"
          ]
        },
        {
          "output_type": "stream",
          "name": "stderr",
          "text": [
            "\r2020it [00:14, 141.74it/s]"
          ]
        },
        {
          "output_type": "stream",
          "name": "stdout",
          "text": [
            "Epoch 9 / 10, Step 2020 / 5086, Loss: 1.7602\n"
          ]
        },
        {
          "output_type": "stream",
          "name": "stderr",
          "text": [
            "\r2035it [00:15, 138.01it/s]"
          ]
        },
        {
          "output_type": "stream",
          "name": "stdout",
          "text": [
            "Epoch 9 / 10, Step 2030 / 5086, Loss: 1.4352\n",
            "Epoch 9 / 10, Step 2040 / 5086, Loss: 5.8842\n"
          ]
        },
        {
          "output_type": "stream",
          "name": "stderr",
          "text": [
            "\r2050it [00:15, 139.93it/s]"
          ]
        },
        {
          "output_type": "stream",
          "name": "stdout",
          "text": [
            "Epoch 9 / 10, Step 2050 / 5086, Loss: 6.3806\n"
          ]
        },
        {
          "output_type": "stream",
          "name": "stderr",
          "text": [
            "\r2065it [00:15, 137.79it/s]"
          ]
        },
        {
          "output_type": "stream",
          "name": "stdout",
          "text": [
            "Epoch 9 / 10, Step 2060 / 5086, Loss: 1.7625\n",
            "Epoch 9 / 10, Step 2070 / 5086, Loss: 12.3954\n"
          ]
        },
        {
          "output_type": "stream",
          "name": "stderr",
          "text": [
            "\r2081it [00:15, 141.59it/s]"
          ]
        },
        {
          "output_type": "stream",
          "name": "stdout",
          "text": [
            "Epoch 9 / 10, Step 2080 / 5086, Loss: 4.2816\n"
          ]
        },
        {
          "output_type": "stream",
          "name": "stderr",
          "text": [
            "\r2096it [00:15, 140.59it/s]"
          ]
        },
        {
          "output_type": "stream",
          "name": "stdout",
          "text": [
            "Epoch 9 / 10, Step 2090 / 5086, Loss: 2.9476\n",
            "Epoch 9 / 10, Step 2100 / 5086, Loss: 1.8085\n"
          ]
        },
        {
          "output_type": "stream",
          "name": "stderr",
          "text": [
            "\r2111it [00:15, 138.00it/s]"
          ]
        },
        {
          "output_type": "stream",
          "name": "stdout",
          "text": [
            "Epoch 9 / 10, Step 2110 / 5086, Loss: 9.1850\n"
          ]
        },
        {
          "output_type": "stream",
          "name": "stderr",
          "text": [
            "\r2125it [00:15, 134.82it/s]"
          ]
        },
        {
          "output_type": "stream",
          "name": "stdout",
          "text": [
            "Epoch 9 / 10, Step 2120 / 5086, Loss: 4.9505\n",
            "Epoch 9 / 10, Step 2130 / 5086, Loss: 4.5431\n"
          ]
        },
        {
          "output_type": "stream",
          "name": "stderr",
          "text": [
            "\r2139it [00:15, 135.03it/s]"
          ]
        },
        {
          "output_type": "stream",
          "name": "stdout",
          "text": [
            "Epoch 9 / 10, Step 2140 / 5086, Loss: 0.0517\n"
          ]
        },
        {
          "output_type": "stream",
          "name": "stderr",
          "text": [
            "\r2153it [00:15, 127.76it/s]"
          ]
        },
        {
          "output_type": "stream",
          "name": "stdout",
          "text": [
            "Epoch 9 / 10, Step 2150 / 5086, Loss: 0.0765\n",
            "Epoch 9 / 10, Step 2160 / 5086, Loss: 11.7784\n"
          ]
        },
        {
          "output_type": "stream",
          "name": "stderr",
          "text": [
            "\r2167it [00:16, 128.41it/s]"
          ]
        },
        {
          "output_type": "stream",
          "name": "stdout",
          "text": [
            "Epoch 9 / 10, Step 2170 / 5086, Loss: 0.1911\n"
          ]
        },
        {
          "output_type": "stream",
          "name": "stderr",
          "text": [
            "2196it [00:16, 135.86it/s]"
          ]
        },
        {
          "output_type": "stream",
          "name": "stdout",
          "text": [
            "Epoch 9 / 10, Step 2180 / 5086, Loss: 6.2243\n",
            "Epoch 9 / 10, Step 2190 / 5086, Loss: 6.3297\n",
            "Epoch 9 / 10, Step 2200 / 5086, Loss: 5.0634\n"
          ]
        },
        {
          "output_type": "stream",
          "name": "stderr",
          "text": [
            "2226it [00:16, 139.34it/s]"
          ]
        },
        {
          "output_type": "stream",
          "name": "stdout",
          "text": [
            "Epoch 9 / 10, Step 2210 / 5086, Loss: 2.3778\n",
            "Epoch 9 / 10, Step 2220 / 5086, Loss: 0.0113\n",
            "Epoch 9 / 10, Step 2230 / 5086, Loss: 2.9653\n"
          ]
        },
        {
          "output_type": "stream",
          "name": "stderr",
          "text": [
            "\r2241it [00:16, 135.01it/s]"
          ]
        },
        {
          "output_type": "stream",
          "name": "stdout",
          "text": [
            "Epoch 9 / 10, Step 2240 / 5086, Loss: 0.0070\n",
            "Epoch 9 / 10, Step 2250 / 5086, Loss: 0.0004\n"
          ]
        },
        {
          "output_type": "stream",
          "name": "stderr",
          "text": [
            "\r2255it [00:16, 130.53it/s]"
          ]
        },
        {
          "output_type": "stream",
          "name": "stdout",
          "text": [
            "Epoch 9 / 10, Step 2260 / 5086, Loss: 0.8039\n"
          ]
        },
        {
          "output_type": "stream",
          "name": "stderr",
          "text": [
            "2283it [00:16, 131.82it/s]"
          ]
        },
        {
          "output_type": "stream",
          "name": "stdout",
          "text": [
            "Epoch 9 / 10, Step 2270 / 5086, Loss: 1.1184\n",
            "Epoch 9 / 10, Step 2280 / 5086, Loss: 4.8808\n"
          ]
        },
        {
          "output_type": "stream",
          "name": "stderr",
          "text": [
            "\r2297it [00:17, 133.93it/s]"
          ]
        },
        {
          "output_type": "stream",
          "name": "stdout",
          "text": [
            "Epoch 9 / 10, Step 2290 / 5086, Loss: 0.0067\n"
          ]
        },
        {
          "output_type": "stream",
          "name": "stderr",
          "text": [
            "\r2311it [00:17, 135.33it/s]"
          ]
        },
        {
          "output_type": "stream",
          "name": "stdout",
          "text": [
            "Epoch 9 / 10, Step 2300 / 5086, Loss: 0.0269\n",
            "Epoch 9 / 10, Step 2310 / 5086, Loss: 0.0788\n"
          ]
        },
        {
          "output_type": "stream",
          "name": "stderr",
          "text": [
            "\r2325it [00:17, 135.20it/s]"
          ]
        },
        {
          "output_type": "stream",
          "name": "stdout",
          "text": [
            "Epoch 9 / 10, Step 2320 / 5086, Loss: 0.0000\n"
          ]
        },
        {
          "output_type": "stream",
          "name": "stderr",
          "text": [
            "\r2339it [00:17, 133.45it/s]"
          ]
        },
        {
          "output_type": "stream",
          "name": "stdout",
          "text": [
            "Epoch 9 / 10, Step 2330 / 5086, Loss: 5.5603\n",
            "Epoch 9 / 10, Step 2340 / 5086, Loss: 0.8072\n"
          ]
        },
        {
          "output_type": "stream",
          "name": "stderr",
          "text": [
            "\r2353it [00:17, 134.85it/s]"
          ]
        },
        {
          "output_type": "stream",
          "name": "stdout",
          "text": [
            "Epoch 9 / 10, Step 2350 / 5086, Loss: 2.4360\n"
          ]
        },
        {
          "output_type": "stream",
          "name": "stderr",
          "text": [
            "\r2367it [00:17, 136.35it/s]"
          ]
        },
        {
          "output_type": "stream",
          "name": "stdout",
          "text": [
            "Epoch 9 / 10, Step 2360 / 5086, Loss: 5.9351\n",
            "Epoch 9 / 10, Step 2370 / 5086, Loss: 3.3162\n"
          ]
        },
        {
          "output_type": "stream",
          "name": "stderr",
          "text": [
            "\r2383it [00:17, 142.32it/s]"
          ]
        },
        {
          "output_type": "stream",
          "name": "stdout",
          "text": [
            "Epoch 9 / 10, Step 2380 / 5086, Loss: 7.6996\n"
          ]
        },
        {
          "output_type": "stream",
          "name": "stderr",
          "text": [
            "\r2398it [00:17, 137.82it/s]"
          ]
        },
        {
          "output_type": "stream",
          "name": "stdout",
          "text": [
            "Epoch 9 / 10, Step 2390 / 5086, Loss: 1.0791\n",
            "Epoch 9 / 10, Step 2400 / 5086, Loss: 0.0395\n"
          ]
        },
        {
          "output_type": "stream",
          "name": "stderr",
          "text": [
            "\r2413it [00:17, 138.80it/s]"
          ]
        },
        {
          "output_type": "stream",
          "name": "stdout",
          "text": [
            "Epoch 9 / 10, Step 2410 / 5086, Loss: 0.0035\n"
          ]
        },
        {
          "output_type": "stream",
          "name": "stderr",
          "text": [
            "\r2427it [00:17, 138.50it/s]"
          ]
        },
        {
          "output_type": "stream",
          "name": "stdout",
          "text": [
            "Epoch 9 / 10, Step 2420 / 5086, Loss: 0.1207\n",
            "Epoch 9 / 10, Step 2430 / 5086, Loss: 3.1207\n"
          ]
        },
        {
          "output_type": "stream",
          "name": "stderr",
          "text": [
            "\r2441it [00:18, 136.17it/s]"
          ]
        },
        {
          "output_type": "stream",
          "name": "stdout",
          "text": [
            "Epoch 9 / 10, Step 2440 / 5086, Loss: 0.6137\n"
          ]
        },
        {
          "output_type": "stream",
          "name": "stderr",
          "text": [
            "\r2455it [00:18, 133.83it/s]"
          ]
        },
        {
          "output_type": "stream",
          "name": "stdout",
          "text": [
            "Epoch 9 / 10, Step 2450 / 5086, Loss: 1.1493\n",
            "Epoch 9 / 10, Step 2460 / 5086, Loss: 6.0975\n"
          ]
        },
        {
          "output_type": "stream",
          "name": "stderr",
          "text": [
            "\r2471it [00:18, 139.67it/s]"
          ]
        },
        {
          "output_type": "stream",
          "name": "stdout",
          "text": [
            "Epoch 9 / 10, Step 2470 / 5086, Loss: 0.1429\n",
            "Epoch 9 / 10, Step 2480 / 5086, Loss: 0.5302\n"
          ]
        },
        {
          "output_type": "stream",
          "name": "stderr",
          "text": [
            "\r2485it [00:18, 137.69it/s]"
          ]
        },
        {
          "output_type": "stream",
          "name": "stdout",
          "text": [
            "Epoch 9 / 10, Step 2490 / 5086, Loss: 0.0016\n"
          ]
        },
        {
          "output_type": "stream",
          "name": "stderr",
          "text": [
            "2517it [00:18, 145.33it/s]"
          ]
        },
        {
          "output_type": "stream",
          "name": "stdout",
          "text": [
            "Epoch 9 / 10, Step 2500 / 5086, Loss: 17.1368\n",
            "Epoch 9 / 10, Step 2510 / 5086, Loss: 8.4843\n",
            "Epoch 9 / 10, Step 2520 / 5086, Loss: 2.3281\n"
          ]
        },
        {
          "output_type": "stream",
          "name": "stderr",
          "text": [
            "2547it [00:18, 142.93it/s]"
          ]
        },
        {
          "output_type": "stream",
          "name": "stdout",
          "text": [
            "Epoch 9 / 10, Step 2530 / 5086, Loss: 0.0032\n",
            "Epoch 9 / 10, Step 2540 / 5086, Loss: 0.6675\n",
            "Epoch 9 / 10, Step 2550 / 5086, Loss: 6.2723\n",
            "Epoch 9 / 10, Step 2560 / 5086, Loss: 0.0031"
          ]
        },
        {
          "output_type": "stream",
          "name": "stderr",
          "text": [
            "2577it [00:19, 144.37it/s]"
          ]
        },
        {
          "output_type": "stream",
          "name": "stdout",
          "text": [
            "\n",
            "Epoch 9 / 10, Step 2570 / 5086, Loss: 0.0008\n",
            "Epoch 9 / 10, Step 2580 / 5086, Loss: 3.2438\n"
          ]
        },
        {
          "output_type": "stream",
          "name": "stderr",
          "text": [
            "2608it [00:19, 145.51it/s]"
          ]
        },
        {
          "output_type": "stream",
          "name": "stdout",
          "text": [
            "Epoch 9 / 10, Step 2590 / 5086, Loss: 0.1849\n",
            "Epoch 9 / 10, Step 2600 / 5086, Loss: 3.8539\n",
            "Epoch 9 / 10, Step 2610 / 5086, Loss: 5.7854\n",
            "Epoch 9 / 10, Step 2620 / 5086, Loss: 0.0953\n"
          ]
        },
        {
          "output_type": "stream",
          "name": "stderr",
          "text": [
            "2654it [00:19, 148.38it/s]"
          ]
        },
        {
          "output_type": "stream",
          "name": "stdout",
          "text": [
            "Epoch 9 / 10, Step 2630 / 5086, Loss: 6.6968\n",
            "Epoch 9 / 10, Step 2640 / 5086, Loss: 3.2919\n",
            "Epoch 9 / 10, Step 2650 / 5086, Loss: 3.4748\n",
            "Epoch 9 / 10, Step 2660 / 5086, Loss: 0.1248\n"
          ]
        },
        {
          "output_type": "stream",
          "name": "stderr",
          "text": [
            "2684it [00:19, 141.85it/s]"
          ]
        },
        {
          "output_type": "stream",
          "name": "stdout",
          "text": [
            "Epoch 9 / 10, Step 2670 / 5086, Loss: 0.9714\n",
            "Epoch 9 / 10, Step 2680 / 5086, Loss: 1.9196\n",
            "Epoch 9 / 10, Step 2690 / 5086, Loss: 6.7228\n"
          ]
        },
        {
          "output_type": "stream",
          "name": "stderr",
          "text": [
            "2715it [00:19, 140.47it/s]"
          ]
        },
        {
          "output_type": "stream",
          "name": "stdout",
          "text": [
            "Epoch 9 / 10, Step 2700 / 5086, Loss: 0.8490\n",
            "Epoch 9 / 10, Step 2710 / 5086, Loss: 10.7920\n",
            "Epoch 9 / 10, Step 2720 / 5086, Loss: 0.9422\n"
          ]
        },
        {
          "output_type": "stream",
          "name": "stderr",
          "text": [
            "2745it [00:20, 140.24it/s]"
          ]
        },
        {
          "output_type": "stream",
          "name": "stdout",
          "text": [
            "Epoch 9 / 10, Step 2730 / 5086, Loss: 0.1071\n",
            "Epoch 9 / 10, Step 2740 / 5086, Loss: 0.0000\n",
            "Epoch 9 / 10, Step 2750 / 5086, Loss: 5.5369\n"
          ]
        },
        {
          "output_type": "stream",
          "name": "stderr",
          "text": [
            "2775it [00:20, 139.32it/s]"
          ]
        },
        {
          "output_type": "stream",
          "name": "stdout",
          "text": [
            "Epoch 9 / 10, Step 2760 / 5086, Loss: 0.2464\n",
            "Epoch 9 / 10, Step 2770 / 5086, Loss: 6.0228\n",
            "Epoch 9 / 10, Step 2780 / 5086, Loss: 5.7306\n"
          ]
        },
        {
          "output_type": "stream",
          "name": "stderr",
          "text": [
            "2806it [00:20, 141.08it/s]"
          ]
        },
        {
          "output_type": "stream",
          "name": "stdout",
          "text": [
            "Epoch 9 / 10, Step 2790 / 5086, Loss: 0.2785\n",
            "Epoch 9 / 10, Step 2800 / 5086, Loss: 9.1457\n",
            "Epoch 9 / 10, Step 2810 / 5086, Loss: 0.0015\n"
          ]
        },
        {
          "output_type": "stream",
          "name": "stderr",
          "text": [
            "2836it [00:20, 139.76it/s]"
          ]
        },
        {
          "output_type": "stream",
          "name": "stdout",
          "text": [
            "Epoch 9 / 10, Step 2820 / 5086, Loss: 0.0048\n",
            "Epoch 9 / 10, Step 2830 / 5086, Loss: 0.0559\n",
            "Epoch 9 / 10, Step 2840 / 5086, Loss: 4.1497\n"
          ]
        },
        {
          "output_type": "stream",
          "name": "stderr",
          "text": [
            "2865it [00:21, 139.86it/s]"
          ]
        },
        {
          "output_type": "stream",
          "name": "stdout",
          "text": [
            "Epoch 9 / 10, Step 2850 / 5086, Loss: 2.3921\n",
            "Epoch 9 / 10, Step 2860 / 5086, Loss: 3.1398\n",
            "Epoch 9 / 10, Step 2870 / 5086, Loss: 5.6308\n"
          ]
        },
        {
          "output_type": "stream",
          "name": "stderr",
          "text": [
            "2910it [00:21, 144.72it/s]"
          ]
        },
        {
          "output_type": "stream",
          "name": "stdout",
          "text": [
            "Epoch 9 / 10, Step 2880 / 5086, Loss: 4.9550\n",
            "Epoch 9 / 10, Step 2890 / 5086, Loss: 10.9150\n",
            "Epoch 9 / 10, Step 2900 / 5086, Loss: 5.3052\n",
            "Epoch 9 / 10, Step 2910 / 5086, Loss: 1.5738\n"
          ]
        },
        {
          "output_type": "stream",
          "name": "stderr",
          "text": [
            "2941it [00:21, 147.56it/s]"
          ]
        },
        {
          "output_type": "stream",
          "name": "stdout",
          "text": [
            "Epoch 9 / 10, Step 2920 / 5086, Loss: 2.3607\n",
            "Epoch 9 / 10, Step 2930 / 5086, Loss: 0.5122\n",
            "Epoch 9 / 10, Step 2940 / 5086, Loss: 0.8376\n",
            "Epoch 9 / 10, Step 2950 / 5086, Loss: 4.3999\n"
          ]
        },
        {
          "output_type": "stream",
          "name": "stderr",
          "text": [
            "2986it [00:21, 143.26it/s]"
          ]
        },
        {
          "output_type": "stream",
          "name": "stdout",
          "text": [
            "Epoch 9 / 10, Step 2960 / 5086, Loss: 4.0389\n",
            "Epoch 9 / 10, Step 2970 / 5086, Loss: 0.0120\n",
            "Epoch 9 / 10, Step 2980 / 5086, Loss: 0.0110\n"
          ]
        },
        {
          "output_type": "stream",
          "name": "stderr",
          "text": [
            "3017it [00:22, 144.63it/s]"
          ]
        },
        {
          "output_type": "stream",
          "name": "stdout",
          "text": [
            "Epoch 9 / 10, Step 2990 / 5086, Loss: 0.0681\n",
            "Epoch 9 / 10, Step 3000 / 5086, Loss: 4.1175\n",
            "Epoch 9 / 10, Step 3010 / 5086, Loss: 1.0876\n"
          ]
        },
        {
          "output_type": "stream",
          "name": "stderr",
          "text": [
            "3047it [00:22, 144.58it/s]"
          ]
        },
        {
          "output_type": "stream",
          "name": "stdout",
          "text": [
            "Epoch 9 / 10, Step 3020 / 5086, Loss: 0.6231\n",
            "Epoch 9 / 10, Step 3030 / 5086, Loss: 6.5530\n",
            "Epoch 9 / 10, Step 3040 / 5086, Loss: 1.9990\n"
          ]
        },
        {
          "output_type": "stream",
          "name": "stderr",
          "text": [
            "3078it [00:22, 141.62it/s]"
          ]
        },
        {
          "output_type": "stream",
          "name": "stdout",
          "text": [
            "Epoch 9 / 10, Step 3050 / 5086, Loss: 0.0867\n",
            "Epoch 9 / 10, Step 3060 / 5086, Loss: 10.2605\n",
            "Epoch 9 / 10, Step 3070 / 5086, Loss: 2.9617\n"
          ]
        },
        {
          "output_type": "stream",
          "name": "stderr",
          "text": [
            "3109it [00:22, 144.62it/s]"
          ]
        },
        {
          "output_type": "stream",
          "name": "stdout",
          "text": [
            "Epoch 9 / 10, Step 3080 / 5086, Loss: 0.4683\n",
            "Epoch 9 / 10, Step 3090 / 5086, Loss: 0.0005\n",
            "Epoch 9 / 10, Step 3100 / 5086, Loss: 0.0004\n"
          ]
        },
        {
          "output_type": "stream",
          "name": "stderr",
          "text": [
            "\r3124it [00:22, 140.88it/s]"
          ]
        },
        {
          "output_type": "stream",
          "name": "stdout",
          "text": [
            "Epoch 9 / 10, Step 3110 / 5086, Loss: 1.1867\n",
            "Epoch 9 / 10, Step 3120 / 5086, Loss: 1.3444\n",
            "Epoch 9 / 10, Step 3130 / 5086, Loss: 0.5329\n"
          ]
        },
        {
          "output_type": "stream",
          "name": "stderr",
          "text": [
            "3155it [00:23, 145.41it/s]"
          ]
        },
        {
          "output_type": "stream",
          "name": "stdout",
          "text": [
            "Epoch 9 / 10, Step 3140 / 5086, Loss: 2.0776\n",
            "Epoch 9 / 10, Step 3150 / 5086, Loss: 1.4951\n",
            "Epoch 9 / 10, Step 3160 / 5086, Loss: 7.8337\n"
          ]
        },
        {
          "output_type": "stream",
          "name": "stderr",
          "text": [
            "3185it [00:23, 143.11it/s]"
          ]
        },
        {
          "output_type": "stream",
          "name": "stdout",
          "text": [
            "Epoch 9 / 10, Step 3170 / 5086, Loss: 6.1052\n",
            "Epoch 9 / 10, Step 3180 / 5086, Loss: 5.3500\n",
            "Epoch 9 / 10, Step 3190 / 5086, Loss: 8.8563\n"
          ]
        },
        {
          "output_type": "stream",
          "name": "stderr",
          "text": [
            "3215it [00:23, 143.59it/s]"
          ]
        },
        {
          "output_type": "stream",
          "name": "stdout",
          "text": [
            "Epoch 9 / 10, Step 3200 / 5086, Loss: 1.5869\n",
            "Epoch 9 / 10, Step 3210 / 5086, Loss: 2.0194\n",
            "Epoch 9 / 10, Step 3220 / 5086, Loss: 0.3448\n"
          ]
        },
        {
          "output_type": "stream",
          "name": "stderr",
          "text": [
            "3245it [00:23, 140.91it/s]"
          ]
        },
        {
          "output_type": "stream",
          "name": "stdout",
          "text": [
            "Epoch 9 / 10, Step 3230 / 5086, Loss: 0.0002\n",
            "Epoch 9 / 10, Step 3240 / 5086, Loss: 6.4636\n",
            "Epoch 9 / 10, Step 3250 / 5086, Loss: 0.2608\n"
          ]
        },
        {
          "output_type": "stream",
          "name": "stderr",
          "text": [
            "3275it [00:23, 139.04it/s]"
          ]
        },
        {
          "output_type": "stream",
          "name": "stdout",
          "text": [
            "Epoch 9 / 10, Step 3260 / 5086, Loss: 1.1656\n",
            "Epoch 9 / 10, Step 3270 / 5086, Loss: 0.3669\n",
            "Epoch 9 / 10, Step 3280 / 5086, Loss: 0.0208\n"
          ]
        },
        {
          "output_type": "stream",
          "name": "stderr",
          "text": [
            "3305it [00:24, 141.57it/s]"
          ]
        },
        {
          "output_type": "stream",
          "name": "stdout",
          "text": [
            "Epoch 9 / 10, Step 3290 / 5086, Loss: 0.3589\n",
            "Epoch 9 / 10, Step 3300 / 5086, Loss: 0.3435\n",
            "Epoch 9 / 10, Step 3310 / 5086, Loss: 8.3857\n"
          ]
        },
        {
          "output_type": "stream",
          "name": "stderr",
          "text": [
            "3336it [00:24, 143.52it/s]"
          ]
        },
        {
          "output_type": "stream",
          "name": "stdout",
          "text": [
            "Epoch 9 / 10, Step 3320 / 5086, Loss: 6.3161\n",
            "Epoch 9 / 10, Step 3330 / 5086, Loss: 4.8131\n",
            "Epoch 9 / 10, Step 3340 / 5086, Loss: 2.1243\n",
            "Epoch 9 / 10, Step 3350 / 5086, Loss: 0.4348\n"
          ]
        },
        {
          "output_type": "stream",
          "name": "stderr",
          "text": [
            "3382it [00:24, 143.88it/s]"
          ]
        },
        {
          "output_type": "stream",
          "name": "stdout",
          "text": [
            "Epoch 9 / 10, Step 3360 / 5086, Loss: 4.8436\n",
            "Epoch 9 / 10, Step 3370 / 5086, Loss: 2.3657\n",
            "Epoch 9 / 10, Step 3380 / 5086, Loss: 0.0241\n"
          ]
        },
        {
          "output_type": "stream",
          "name": "stderr",
          "text": [
            "3413it [00:24, 144.21it/s]"
          ]
        },
        {
          "output_type": "stream",
          "name": "stdout",
          "text": [
            "Epoch 9 / 10, Step 3390 / 5086, Loss: 2.4140\n",
            "Epoch 9 / 10, Step 3400 / 5086, Loss: 3.9099\n",
            "Epoch 9 / 10, Step 3410 / 5086, Loss: 4.1459\n"
          ]
        },
        {
          "output_type": "stream",
          "name": "stderr",
          "text": [
            "3443it [00:25, 140.01it/s]"
          ]
        },
        {
          "output_type": "stream",
          "name": "stdout",
          "text": [
            "Epoch 9 / 10, Step 3420 / 5086, Loss: 0.3621\n",
            "Epoch 9 / 10, Step 3430 / 5086, Loss: 1.7412\n",
            "Epoch 9 / 10, Step 3440 / 5086, Loss: 0.0004\n"
          ]
        },
        {
          "output_type": "stream",
          "name": "stderr",
          "text": [
            "3474it [00:25, 142.23it/s]"
          ]
        },
        {
          "output_type": "stream",
          "name": "stdout",
          "text": [
            "Epoch 9 / 10, Step 3450 / 5086, Loss: 3.9215\n",
            "Epoch 9 / 10, Step 3460 / 5086, Loss: 8.7098\n",
            "Epoch 9 / 10, Step 3470 / 5086, Loss: 1.4017\n"
          ]
        },
        {
          "output_type": "stream",
          "name": "stderr",
          "text": [
            "3506it [00:25, 143.94it/s]"
          ]
        },
        {
          "output_type": "stream",
          "name": "stdout",
          "text": [
            "Epoch 9 / 10, Step 3480 / 5086, Loss: 4.7307\n",
            "Epoch 9 / 10, Step 3490 / 5086, Loss: 11.3094\n",
            "Epoch 9 / 10, Step 3500 / 5086, Loss: 6.2530\n"
          ]
        },
        {
          "output_type": "stream",
          "name": "stderr",
          "text": [
            "3536it [00:25, 140.40it/s]"
          ]
        },
        {
          "output_type": "stream",
          "name": "stdout",
          "text": [
            "Epoch 9 / 10, Step 3510 / 5086, Loss: 1.1214\n",
            "Epoch 9 / 10, Step 3520 / 5086, Loss: 0.2110\n",
            "Epoch 9 / 10, Step 3530 / 5086, Loss: 0.0175\n"
          ]
        },
        {
          "output_type": "stream",
          "name": "stderr",
          "text": [
            "3565it [00:25, 137.75it/s]"
          ]
        },
        {
          "output_type": "stream",
          "name": "stdout",
          "text": [
            "Epoch 9 / 10, Step 3540 / 5086, Loss: 0.4695\n",
            "Epoch 9 / 10, Step 3550 / 5086, Loss: 2.7209\n",
            "Epoch 9 / 10, Step 3560 / 5086, Loss: 1.5930\n"
          ]
        },
        {
          "output_type": "stream",
          "name": "stderr",
          "text": [
            "3594it [00:26, 138.26it/s]"
          ]
        },
        {
          "output_type": "stream",
          "name": "stdout",
          "text": [
            "Epoch 9 / 10, Step 3570 / 5086, Loss: 1.6013\n",
            "Epoch 9 / 10, Step 3580 / 5086, Loss: 3.4860\n",
            "Epoch 9 / 10, Step 3590 / 5086, Loss: 1.4187\n"
          ]
        },
        {
          "output_type": "stream",
          "name": "stderr",
          "text": [
            "3624it [00:26, 141.68it/s]"
          ]
        },
        {
          "output_type": "stream",
          "name": "stdout",
          "text": [
            "Epoch 9 / 10, Step 3600 / 5086, Loss: 0.8175\n",
            "Epoch 9 / 10, Step 3610 / 5086, Loss: 1.1636\n",
            "Epoch 9 / 10, Step 3620 / 5086, Loss: 1.6894\n"
          ]
        },
        {
          "output_type": "stream",
          "name": "stderr",
          "text": [
            "3655it [00:26, 143.07it/s]"
          ]
        },
        {
          "output_type": "stream",
          "name": "stdout",
          "text": [
            "Epoch 9 / 10, Step 3630 / 5086, Loss: 0.4982\n",
            "Epoch 9 / 10, Step 3640 / 5086, Loss: 2.1509\n",
            "Epoch 9 / 10, Step 3650 / 5086, Loss: 2.8386\n"
          ]
        },
        {
          "output_type": "stream",
          "name": "stderr",
          "text": [
            "3686it [00:26, 144.09it/s]"
          ]
        },
        {
          "output_type": "stream",
          "name": "stdout",
          "text": [
            "Epoch 9 / 10, Step 3660 / 5086, Loss: 0.5936\n",
            "Epoch 9 / 10, Step 3670 / 5086, Loss: 6.2022\n",
            "Epoch 9 / 10, Step 3680 / 5086, Loss: 0.3453\n"
          ]
        },
        {
          "output_type": "stream",
          "name": "stderr",
          "text": [
            "3716it [00:27, 139.18it/s]"
          ]
        },
        {
          "output_type": "stream",
          "name": "stdout",
          "text": [
            "Epoch 9 / 10, Step 3690 / 5086, Loss: 1.3889\n",
            "Epoch 9 / 10, Step 3700 / 5086, Loss: 1.5703\n",
            "Epoch 9 / 10, Step 3710 / 5086, Loss: 2.9528\n"
          ]
        },
        {
          "output_type": "stream",
          "name": "stderr",
          "text": [
            "3746it [00:27, 142.60it/s]"
          ]
        },
        {
          "output_type": "stream",
          "name": "stdout",
          "text": [
            "Epoch 9 / 10, Step 3720 / 5086, Loss: 4.6940\n",
            "Epoch 9 / 10, Step 3730 / 5086, Loss: 4.7684\n",
            "Epoch 9 / 10, Step 3740 / 5086, Loss: 0.0047\n"
          ]
        },
        {
          "output_type": "stream",
          "name": "stderr",
          "text": [
            "3777it [00:27, 144.08it/s]"
          ]
        },
        {
          "output_type": "stream",
          "name": "stdout",
          "text": [
            "Epoch 9 / 10, Step 3750 / 5086, Loss: 0.4592\n",
            "Epoch 9 / 10, Step 3760 / 5086, Loss: 0.0027\n",
            "Epoch 9 / 10, Step 3770 / 5086, Loss: 0.0117\n",
            "Epoch 9 / 10, Step 3780 / 5086, Loss: 0.0093\n"
          ]
        },
        {
          "output_type": "stream",
          "name": "stderr",
          "text": [
            "3809it [00:27, 147.37it/s]"
          ]
        },
        {
          "output_type": "stream",
          "name": "stdout",
          "text": [
            "Epoch 9 / 10, Step 3790 / 5086, Loss: 1.5838\n",
            "Epoch 9 / 10, Step 3800 / 5086, Loss: 2.9146\n",
            "Epoch 9 / 10, Step 3810 / 5086, Loss: 2.7263\n",
            "Epoch 9 / 10, Step 3820 / 5086, Loss: 2.5570\n"
          ]
        },
        {
          "output_type": "stream",
          "name": "stderr",
          "text": [
            "3857it [00:28, 152.18it/s]"
          ]
        },
        {
          "output_type": "stream",
          "name": "stdout",
          "text": [
            "Epoch 9 / 10, Step 3830 / 5086, Loss: 0.1684\n",
            "Epoch 9 / 10, Step 3840 / 5086, Loss: 0.0279\n",
            "Epoch 9 / 10, Step 3850 / 5086, Loss: 0.0022\n"
          ]
        },
        {
          "output_type": "stream",
          "name": "stderr",
          "text": [
            "3889it [00:28, 147.27it/s]"
          ]
        },
        {
          "output_type": "stream",
          "name": "stdout",
          "text": [
            "Epoch 9 / 10, Step 3860 / 5086, Loss: 0.0430\n",
            "Epoch 9 / 10, Step 3870 / 5086, Loss: 0.0828\n",
            "Epoch 9 / 10, Step 3880 / 5086, Loss: 0.8625\n",
            "Epoch 9 / 10, Step 3890 / 5086, Loss: 0.6765\n"
          ]
        },
        {
          "output_type": "stream",
          "name": "stderr",
          "text": [
            "3920it [00:28, 146.64it/s]"
          ]
        },
        {
          "output_type": "stream",
          "name": "stdout",
          "text": [
            "Epoch 9 / 10, Step 3900 / 5086, Loss: 0.0020\n",
            "Epoch 9 / 10, Step 3910 / 5086, Loss: 0.0002\n",
            "Epoch 9 / 10, Step 3920 / 5086, Loss: 0.6643\n",
            "Epoch 9 / 10, Step 3930 / 5086, Loss: 4.5737\n"
          ]
        },
        {
          "output_type": "stream",
          "name": "stderr",
          "text": [
            "3966it [00:28, 147.00it/s]"
          ]
        },
        {
          "output_type": "stream",
          "name": "stdout",
          "text": [
            "Epoch 9 / 10, Step 3940 / 5086, Loss: 4.0590\n",
            "Epoch 9 / 10, Step 3950 / 5086, Loss: 0.0250\n",
            "Epoch 9 / 10, Step 3960 / 5086, Loss: 0.6036\n",
            "Epoch 9 / 10, Step 3970 / 5086, Loss: 0.1433\n"
          ]
        },
        {
          "output_type": "stream",
          "name": "stderr",
          "text": [
            "3997it [00:28, 147.31it/s]"
          ]
        },
        {
          "output_type": "stream",
          "name": "stdout",
          "text": [
            "Epoch 9 / 10, Step 3980 / 5086, Loss: 0.1954\n",
            "Epoch 9 / 10, Step 3990 / 5086, Loss: 0.8620\n",
            "Epoch 9 / 10, Step 4000 / 5086, Loss: 3.6954\n"
          ]
        },
        {
          "output_type": "stream",
          "name": "stderr",
          "text": [
            "4027it [00:29, 144.31it/s]"
          ]
        },
        {
          "output_type": "stream",
          "name": "stdout",
          "text": [
            "Epoch 9 / 10, Step 4010 / 5086, Loss: 4.7288\n",
            "Epoch 9 / 10, Step 4020 / 5086, Loss: 2.4032\n",
            "Epoch 9 / 10, Step 4030 / 5086, Loss: 6.0148\n"
          ]
        },
        {
          "output_type": "stream",
          "name": "stderr",
          "text": [
            "4057it [00:29, 144.77it/s]"
          ]
        },
        {
          "output_type": "stream",
          "name": "stdout",
          "text": [
            "Epoch 9 / 10, Step 4040 / 5086, Loss: 4.5780\n",
            "Epoch 9 / 10, Step 4050 / 5086, Loss: 3.4045\n",
            "Epoch 9 / 10, Step 4060 / 5086, Loss: 1.0885\n"
          ]
        },
        {
          "output_type": "stream",
          "name": "stderr",
          "text": [
            "4087it [00:29, 143.56it/s]"
          ]
        },
        {
          "output_type": "stream",
          "name": "stdout",
          "text": [
            "Epoch 9 / 10, Step 4070 / 5086, Loss: 6.1548\n",
            "Epoch 9 / 10, Step 4080 / 5086, Loss: 0.0086\n",
            "Epoch 9 / 10, Step 4090 / 5086, Loss: 0.0489\n"
          ]
        },
        {
          "output_type": "stream",
          "name": "stderr",
          "text": [
            "4117it [00:29, 143.96it/s]"
          ]
        },
        {
          "output_type": "stream",
          "name": "stdout",
          "text": [
            "Epoch 9 / 10, Step 4100 / 5086, Loss: 0.3559\n",
            "Epoch 9 / 10, Step 4110 / 5086, Loss: 0.0236\n",
            "Epoch 9 / 10, Step 4120 / 5086, Loss: 1.3618\n"
          ]
        },
        {
          "output_type": "stream",
          "name": "stderr",
          "text": [
            "4148it [00:30, 142.72it/s]"
          ]
        },
        {
          "output_type": "stream",
          "name": "stdout",
          "text": [
            "Epoch 9 / 10, Step 4130 / 5086, Loss: 0.8234\n",
            "Epoch 9 / 10, Step 4140 / 5086, Loss: 2.3557\n",
            "Epoch 9 / 10, Step 4150 / 5086, Loss: 0.0305\n"
          ]
        },
        {
          "output_type": "stream",
          "name": "stderr",
          "text": [
            "4178it [00:30, 141.17it/s]"
          ]
        },
        {
          "output_type": "stream",
          "name": "stdout",
          "text": [
            "Epoch 9 / 10, Step 4160 / 5086, Loss: 0.0002\n",
            "Epoch 9 / 10, Step 4170 / 5086, Loss: 1.5156\n",
            "Epoch 9 / 10, Step 4180 / 5086, Loss: 3.5278\n"
          ]
        },
        {
          "output_type": "stream",
          "name": "stderr",
          "text": [
            "4209it [00:30, 145.03it/s]"
          ]
        },
        {
          "output_type": "stream",
          "name": "stdout",
          "text": [
            "Epoch 9 / 10, Step 4190 / 5086, Loss: 0.2908\n",
            "Epoch 9 / 10, Step 4200 / 5086, Loss: 0.2111\n",
            "Epoch 9 / 10, Step 4210 / 5086, Loss: 0.0000\n",
            "Epoch 9 / 10, Step 4220 / 5086, Loss: 0.0073"
          ]
        },
        {
          "output_type": "stream",
          "name": "stderr",
          "text": [
            "4239it [00:30, 143.46it/s]"
          ]
        },
        {
          "output_type": "stream",
          "name": "stdout",
          "text": [
            "\n",
            "Epoch 9 / 10, Step 4230 / 5086, Loss: 0.0055\n",
            "Epoch 9 / 10, Step 4240 / 5086, Loss: 7.4876\n"
          ]
        },
        {
          "output_type": "stream",
          "name": "stderr",
          "text": [
            "4270it [00:30, 146.39it/s]"
          ]
        },
        {
          "output_type": "stream",
          "name": "stdout",
          "text": [
            "Epoch 9 / 10, Step 4250 / 5086, Loss: 2.8194\n",
            "Epoch 9 / 10, Step 4260 / 5086, Loss: 3.1907\n",
            "Epoch 9 / 10, Step 4270 / 5086, Loss: 1.9477\n"
          ]
        },
        {
          "output_type": "stream",
          "name": "stderr",
          "text": [
            "4300it [00:31, 141.27it/s]"
          ]
        },
        {
          "output_type": "stream",
          "name": "stdout",
          "text": [
            "Epoch 9 / 10, Step 4280 / 5086, Loss: 0.1146\n",
            "Epoch 9 / 10, Step 4290 / 5086, Loss: 1.4651\n",
            "Epoch 9 / 10, Step 4300 / 5086, Loss: 3.1750\n"
          ]
        },
        {
          "output_type": "stream",
          "name": "stderr",
          "text": [
            "4331it [00:31, 145.05it/s]"
          ]
        },
        {
          "output_type": "stream",
          "name": "stdout",
          "text": [
            "Epoch 9 / 10, Step 4310 / 5086, Loss: 2.3581\n",
            "Epoch 9 / 10, Step 4320 / 5086, Loss: 0.0920\n",
            "Epoch 9 / 10, Step 4330 / 5086, Loss: 2.8810\n",
            "Epoch 9 / 10, Step 4340 / 5086, Loss: 0.0410\n"
          ]
        },
        {
          "output_type": "stream",
          "name": "stderr",
          "text": [
            "4378it [00:31, 148.92it/s]"
          ]
        },
        {
          "output_type": "stream",
          "name": "stdout",
          "text": [
            "Epoch 9 / 10, Step 4350 / 5086, Loss: 6.3507\n",
            "Epoch 9 / 10, Step 4360 / 5086, Loss: 0.3036\n",
            "Epoch 9 / 10, Step 4370 / 5086, Loss: 1.2082\n",
            "Epoch 9 / 10, Step 4380 / 5086, Loss: 1.1537\n"
          ]
        },
        {
          "output_type": "stream",
          "name": "stderr",
          "text": [
            "4409it [00:31, 147.78it/s]"
          ]
        },
        {
          "output_type": "stream",
          "name": "stdout",
          "text": [
            "Epoch 9 / 10, Step 4390 / 5086, Loss: 1.2502\n",
            "Epoch 9 / 10, Step 4400 / 5086, Loss: 4.3380\n",
            "Epoch 9 / 10, Step 4410 / 5086, Loss: 3.9719\n",
            "Epoch 9 / 10, Step 4420 / 5086, Loss: 3.9934\n"
          ]
        },
        {
          "output_type": "stream",
          "name": "stderr",
          "text": [
            "4457it [00:32, 149.62it/s]"
          ]
        },
        {
          "output_type": "stream",
          "name": "stdout",
          "text": [
            "Epoch 9 / 10, Step 4430 / 5086, Loss: 0.0024\n",
            "Epoch 9 / 10, Step 4440 / 5086, Loss: 0.0588\n",
            "Epoch 9 / 10, Step 4450 / 5086, Loss: 3.2808\n",
            "Epoch 9 / 10, Step 4460 / 5086, Loss: 2.0988\n"
          ]
        },
        {
          "output_type": "stream",
          "name": "stderr",
          "text": [
            "4488it [00:32, 149.27it/s]"
          ]
        },
        {
          "output_type": "stream",
          "name": "stdout",
          "text": [
            "Epoch 9 / 10, Step 4470 / 5086, Loss: 2.9765\n",
            "Epoch 9 / 10, Step 4480 / 5086, Loss: 6.3728\n",
            "Epoch 9 / 10, Step 4490 / 5086, Loss: 5.7672\n",
            "Epoch 9 / 10, Step 4500 / 5086, Loss: 0.3690\n"
          ]
        },
        {
          "output_type": "stream",
          "name": "stderr",
          "text": [
            "4536it [00:32, 153.81it/s]"
          ]
        },
        {
          "output_type": "stream",
          "name": "stdout",
          "text": [
            "Epoch 9 / 10, Step 4510 / 5086, Loss: 0.0049\n",
            "Epoch 9 / 10, Step 4520 / 5086, Loss: 0.5256\n",
            "Epoch 9 / 10, Step 4530 / 5086, Loss: 1.2617\n",
            "Epoch 9 / 10, Step 4540 / 5086, Loss: 0.0014\n"
          ]
        },
        {
          "output_type": "stream",
          "name": "stderr",
          "text": [
            "4568it [00:32, 153.90it/s]"
          ]
        },
        {
          "output_type": "stream",
          "name": "stdout",
          "text": [
            "Epoch 9 / 10, Step 4550 / 5086, Loss: 1.2108\n",
            "Epoch 9 / 10, Step 4560 / 5086, Loss: 0.5669\n",
            "Epoch 9 / 10, Step 4570 / 5086, Loss: 0.0000\n",
            "Epoch 9 / 10, Step 4580 / 5086, Loss: 0.0011\n"
          ]
        },
        {
          "output_type": "stream",
          "name": "stderr",
          "text": [
            "4616it [00:33, 151.75it/s]"
          ]
        },
        {
          "output_type": "stream",
          "name": "stdout",
          "text": [
            "Epoch 9 / 10, Step 4590 / 5086, Loss: 0.8097\n",
            "Epoch 9 / 10, Step 4600 / 5086, Loss: 0.9532\n",
            "Epoch 9 / 10, Step 4610 / 5086, Loss: 1.1168\n"
          ]
        },
        {
          "output_type": "stream",
          "name": "stderr",
          "text": [
            "4648it [00:33, 149.15it/s]"
          ]
        },
        {
          "output_type": "stream",
          "name": "stdout",
          "text": [
            "Epoch 9 / 10, Step 4620 / 5086, Loss: 1.5321\n",
            "Epoch 9 / 10, Step 4630 / 5086, Loss: 0.4118\n",
            "Epoch 9 / 10, Step 4640 / 5086, Loss: 0.0168\n"
          ]
        },
        {
          "output_type": "stream",
          "name": "stderr",
          "text": [
            "4680it [00:33, 150.20it/s]"
          ]
        },
        {
          "output_type": "stream",
          "name": "stdout",
          "text": [
            "Epoch 9 / 10, Step 4650 / 5086, Loss: 1.1962\n",
            "Epoch 9 / 10, Step 4660 / 5086, Loss: 2.3933\n",
            "Epoch 9 / 10, Step 4670 / 5086, Loss: 3.6654\n",
            "Epoch 9 / 10, Step 4680 / 5086, Loss: 0.4606\n"
          ]
        },
        {
          "output_type": "stream",
          "name": "stderr",
          "text": [
            "4712it [00:33, 147.93it/s]"
          ]
        },
        {
          "output_type": "stream",
          "name": "stdout",
          "text": [
            "Epoch 9 / 10, Step 4690 / 5086, Loss: 0.0006\n",
            "Epoch 9 / 10, Step 4700 / 5086, Loss: 5.2150\n",
            "Epoch 9 / 10, Step 4710 / 5086, Loss: 3.7708\n",
            "Epoch 9 / 10, Step 4720 / 5086, Loss: 0.0243\n"
          ]
        },
        {
          "output_type": "stream",
          "name": "stderr",
          "text": [
            "4757it [00:34, 144.29it/s]"
          ]
        },
        {
          "output_type": "stream",
          "name": "stdout",
          "text": [
            "Epoch 9 / 10, Step 4730 / 5086, Loss: 0.6976\n",
            "Epoch 9 / 10, Step 4740 / 5086, Loss: 0.0001\n",
            "Epoch 9 / 10, Step 4750 / 5086, Loss: 4.6449\n"
          ]
        },
        {
          "output_type": "stream",
          "name": "stderr",
          "text": [
            "4789it [00:34, 147.34it/s]"
          ]
        },
        {
          "output_type": "stream",
          "name": "stdout",
          "text": [
            "Epoch 9 / 10, Step 4760 / 5086, Loss: 0.0000\n",
            "Epoch 9 / 10, Step 4770 / 5086, Loss: 1.5968\n",
            "Epoch 9 / 10, Step 4780 / 5086, Loss: 0.6195\n",
            "Epoch 9 / 10, Step 4790 / 5086, Loss: 2.6157\n"
          ]
        },
        {
          "output_type": "stream",
          "name": "stderr",
          "text": [
            "4820it [00:34, 145.85it/s]"
          ]
        },
        {
          "output_type": "stream",
          "name": "stdout",
          "text": [
            "Epoch 9 / 10, Step 4800 / 5086, Loss: 0.8284\n",
            "Epoch 9 / 10, Step 4810 / 5086, Loss: 0.0670\n",
            "Epoch 9 / 10, Step 4820 / 5086, Loss: 1.7157\n",
            "Epoch 9 / 10, Step 4830 / 5086, Loss: 0.0544\n"
          ]
        },
        {
          "output_type": "stream",
          "name": "stderr",
          "text": [
            "4866it [00:34, 145.14it/s]"
          ]
        },
        {
          "output_type": "stream",
          "name": "stdout",
          "text": [
            "Epoch 9 / 10, Step 4840 / 5086, Loss: 2.8459\n",
            "Epoch 9 / 10, Step 4850 / 5086, Loss: 2.4276\n",
            "Epoch 9 / 10, Step 4860 / 5086, Loss: 0.8054\n",
            "Epoch 9 / 10, Step 4870 / 5086, Loss: 0.8052\n"
          ]
        },
        {
          "output_type": "stream",
          "name": "stderr",
          "text": [
            "4898it [00:35, 148.45it/s]"
          ]
        },
        {
          "output_type": "stream",
          "name": "stdout",
          "text": [
            "Epoch 9 / 10, Step 4880 / 5086, Loss: 2.5713\n",
            "Epoch 9 / 10, Step 4890 / 5086, Loss: 0.1150\n",
            "Epoch 9 / 10, Step 4900 / 5086, Loss: 0.0165\n"
          ]
        },
        {
          "output_type": "stream",
          "name": "stderr",
          "text": [
            "4929it [00:35, 138.83it/s]"
          ]
        },
        {
          "output_type": "stream",
          "name": "stdout",
          "text": [
            "Epoch 9 / 10, Step 4910 / 5086, Loss: 1.7111\n",
            "Epoch 9 / 10, Step 4920 / 5086, Loss: 0.0222\n",
            "Epoch 9 / 10, Step 4930 / 5086, Loss: 2.3692\n"
          ]
        },
        {
          "output_type": "stream",
          "name": "stderr",
          "text": [
            "4960it [00:35, 142.28it/s]"
          ]
        },
        {
          "output_type": "stream",
          "name": "stdout",
          "text": [
            "Epoch 9 / 10, Step 4940 / 5086, Loss: 0.0044\n",
            "Epoch 9 / 10, Step 4950 / 5086, Loss: 0.9973\n",
            "Epoch 9 / 10, Step 4960 / 5086, Loss: 0.0029\n"
          ]
        },
        {
          "output_type": "stream",
          "name": "stderr",
          "text": [
            "4991it [00:35, 144.57it/s]"
          ]
        },
        {
          "output_type": "stream",
          "name": "stdout",
          "text": [
            "Epoch 9 / 10, Step 4970 / 5086, Loss: 0.0364\n",
            "Epoch 9 / 10, Step 4980 / 5086, Loss: 1.4040\n",
            "Epoch 9 / 10, Step 4990 / 5086, Loss: 1.3710\n"
          ]
        },
        {
          "output_type": "stream",
          "name": "stderr",
          "text": [
            "5023it [00:36, 146.19it/s]"
          ]
        },
        {
          "output_type": "stream",
          "name": "stdout",
          "text": [
            "Epoch 9 / 10, Step 5000 / 5086, Loss: 3.6321\n",
            "Epoch 9 / 10, Step 5010 / 5086, Loss: 0.6025\n",
            "Epoch 9 / 10, Step 5020 / 5086, Loss: 1.2401\n"
          ]
        },
        {
          "output_type": "stream",
          "name": "stderr",
          "text": [
            "5053it [00:36, 144.69it/s]"
          ]
        },
        {
          "output_type": "stream",
          "name": "stdout",
          "text": [
            "Epoch 9 / 10, Step 5030 / 5086, Loss: 0.1534\n",
            "Epoch 9 / 10, Step 5040 / 5086, Loss: 0.6984\n",
            "Epoch 9 / 10, Step 5050 / 5086, Loss: 0.3374\n"
          ]
        },
        {
          "output_type": "stream",
          "name": "stderr",
          "text": [
            "5086it [00:36, 139.31it/s]\n"
          ]
        },
        {
          "output_type": "stream",
          "name": "stdout",
          "text": [
            "Epoch 9 / 10, Step 5060 / 5086, Loss: 3.5761\n",
            "Epoch 9 / 10, Step 5070 / 5086, Loss: 0.3737\n",
            "Epoch 9 / 10, Step 5080 / 5086, Loss: 0.8848\n"
          ]
        },
        {
          "output_type": "stream",
          "name": "stderr",
          "text": [
            "27it [00:00, 133.04it/s]"
          ]
        },
        {
          "output_type": "stream",
          "name": "stdout",
          "text": [
            "Epoch 10 / 10, Step 10 / 5086, Loss: 1.1862\n",
            "Epoch 10 / 10, Step 20 / 5086, Loss: 0.0421\n",
            "Epoch 10 / 10, Step 30 / 5086, Loss: 3.7618\n"
          ]
        },
        {
          "output_type": "stream",
          "name": "stderr",
          "text": [
            "56it [00:00, 139.35it/s]"
          ]
        },
        {
          "output_type": "stream",
          "name": "stdout",
          "text": [
            "Epoch 10 / 10, Step 40 / 5086, Loss: 0.6033\n",
            "Epoch 10 / 10, Step 50 / 5086, Loss: 1.3182\n",
            "Epoch 10 / 10, Step 60 / 5086, Loss: 0.5752\n"
          ]
        },
        {
          "output_type": "stream",
          "name": "stderr",
          "text": [
            "86it [00:00, 139.95it/s]"
          ]
        },
        {
          "output_type": "stream",
          "name": "stdout",
          "text": [
            "Epoch 10 / 10, Step 70 / 5086, Loss: 0.0942\n",
            "Epoch 10 / 10, Step 80 / 5086, Loss: 0.0054\n",
            "Epoch 10 / 10, Step 90 / 5086, Loss: 0.3234\n"
          ]
        },
        {
          "output_type": "stream",
          "name": "stderr",
          "text": [
            "116it [00:00, 139.52it/s]"
          ]
        },
        {
          "output_type": "stream",
          "name": "stdout",
          "text": [
            "Epoch 10 / 10, Step 100 / 5086, Loss: 0.0105\n",
            "Epoch 10 / 10, Step 110 / 5086, Loss: 10.3989\n",
            "Epoch 10 / 10, Step 120 / 5086, Loss: 6.5273\n"
          ]
        },
        {
          "output_type": "stream",
          "name": "stderr",
          "text": [
            "148it [00:01, 148.63it/s]"
          ]
        },
        {
          "output_type": "stream",
          "name": "stdout",
          "text": [
            "Epoch 10 / 10, Step 130 / 5086, Loss: 2.0799\n",
            "Epoch 10 / 10, Step 140 / 5086, Loss: 7.5423\n",
            "Epoch 10 / 10, Step 150 / 5086, Loss: 0.0304\n",
            "Epoch 10 / 10, Step 160 / 5086, Loss: 3.4222\n"
          ]
        },
        {
          "output_type": "stream",
          "name": "stderr",
          "text": [
            "196it [00:01, 155.64it/s]"
          ]
        },
        {
          "output_type": "stream",
          "name": "stdout",
          "text": [
            "Epoch 10 / 10, Step 170 / 5086, Loss: 3.4521\n",
            "Epoch 10 / 10, Step 180 / 5086, Loss: 5.4147\n",
            "Epoch 10 / 10, Step 190 / 5086, Loss: 0.4646\n",
            "Epoch 10 / 10, Step 200 / 5086, Loss: 1.5858\n"
          ]
        },
        {
          "output_type": "stream",
          "name": "stderr",
          "text": [
            "229it [00:01, 154.06it/s]"
          ]
        },
        {
          "output_type": "stream",
          "name": "stdout",
          "text": [
            "Epoch 10 / 10, Step 210 / 5086, Loss: 2.6078\n",
            "Epoch 10 / 10, Step 220 / 5086, Loss: 0.0884\n",
            "Epoch 10 / 10, Step 230 / 5086, Loss: 5.5492\n",
            "Epoch 10 / 10, Step 240 / 5086, Loss: 1.9525\n"
          ]
        },
        {
          "output_type": "stream",
          "name": "stderr",
          "text": [
            "276it [00:01, 144.18it/s]"
          ]
        },
        {
          "output_type": "stream",
          "name": "stdout",
          "text": [
            "Epoch 10 / 10, Step 250 / 5086, Loss: 3.9985\n",
            "Epoch 10 / 10, Step 260 / 5086, Loss: 2.4762\n",
            "Epoch 10 / 10, Step 270 / 5086, Loss: 4.8858\n"
          ]
        },
        {
          "output_type": "stream",
          "name": "stderr",
          "text": [
            "307it [00:02, 145.89it/s]"
          ]
        },
        {
          "output_type": "stream",
          "name": "stdout",
          "text": [
            "Epoch 10 / 10, Step 280 / 5086, Loss: 14.5751\n",
            "Epoch 10 / 10, Step 290 / 5086, Loss: 4.6260\n",
            "Epoch 10 / 10, Step 300 / 5086, Loss: 1.4641\n"
          ]
        },
        {
          "output_type": "stream",
          "name": "stderr",
          "text": [
            "338it [00:02, 146.41it/s]"
          ]
        },
        {
          "output_type": "stream",
          "name": "stdout",
          "text": [
            "Epoch 10 / 10, Step 310 / 5086, Loss: 0.3818\n",
            "Epoch 10 / 10, Step 320 / 5086, Loss: 2.8229\n",
            "Epoch 10 / 10, Step 330 / 5086, Loss: 4.2433\n"
          ]
        },
        {
          "output_type": "stream",
          "name": "stderr",
          "text": [
            "369it [00:02, 146.45it/s]"
          ]
        },
        {
          "output_type": "stream",
          "name": "stdout",
          "text": [
            "Epoch 10 / 10, Step 340 / 5086, Loss: 1.4409\n",
            "Epoch 10 / 10, Step 350 / 5086, Loss: 0.4606\n",
            "Epoch 10 / 10, Step 360 / 5086, Loss: 0.7092\n"
          ]
        },
        {
          "output_type": "stream",
          "name": "stderr",
          "text": [
            "400it [00:02, 147.79it/s]"
          ]
        },
        {
          "output_type": "stream",
          "name": "stdout",
          "text": [
            "Epoch 10 / 10, Step 370 / 5086, Loss: 0.9807\n",
            "Epoch 10 / 10, Step 380 / 5086, Loss: 4.5928\n",
            "Epoch 10 / 10, Step 390 / 5086, Loss: 2.2262\n",
            "Epoch 10 / 10, Step 400 / 5086, Loss: 1.8339\n"
          ]
        },
        {
          "output_type": "stream",
          "name": "stderr",
          "text": [
            "431it [00:02, 143.24it/s]"
          ]
        },
        {
          "output_type": "stream",
          "name": "stdout",
          "text": [
            "Epoch 10 / 10, Step 410 / 5086, Loss: 0.6773\n",
            "Epoch 10 / 10, Step 420 / 5086, Loss: 6.0663\n",
            "Epoch 10 / 10, Step 430 / 5086, Loss: 0.2245\n",
            "Epoch 10 / 10, Step 440 / 5086, Loss: 1.5964\n"
          ]
        },
        {
          "output_type": "stream",
          "name": "stderr",
          "text": [
            "480it [00:03, 151.80it/s]"
          ]
        },
        {
          "output_type": "stream",
          "name": "stdout",
          "text": [
            "Epoch 10 / 10, Step 450 / 5086, Loss: 2.3897\n",
            "Epoch 10 / 10, Step 460 / 5086, Loss: 1.2338\n",
            "Epoch 10 / 10, Step 470 / 5086, Loss: 1.6895\n",
            "Epoch 10 / 10, Step 480 / 5086, Loss: 2.6383\n"
          ]
        },
        {
          "output_type": "stream",
          "name": "stderr",
          "text": [
            "512it [00:03, 151.54it/s]"
          ]
        },
        {
          "output_type": "stream",
          "name": "stdout",
          "text": [
            "Epoch 10 / 10, Step 490 / 5086, Loss: 0.3613\n",
            "Epoch 10 / 10, Step 500 / 5086, Loss: 3.8229\n",
            "Epoch 10 / 10, Step 510 / 5086, Loss: 0.6334\n",
            "Epoch 10 / 10, Step 520 / 5086, Loss: 0.0151\n"
          ]
        },
        {
          "output_type": "stream",
          "name": "stderr",
          "text": [
            "559it [00:03, 148.70it/s]"
          ]
        },
        {
          "output_type": "stream",
          "name": "stdout",
          "text": [
            "Epoch 10 / 10, Step 530 / 5086, Loss: 0.0000\n",
            "Epoch 10 / 10, Step 540 / 5086, Loss: 1.4563\n",
            "Epoch 10 / 10, Step 550 / 5086, Loss: 0.8887\n",
            "Epoch 10 / 10, Step 560 / 5086, Loss: 1.1303\n"
          ]
        },
        {
          "output_type": "stream",
          "name": "stderr",
          "text": [
            "591it [00:04, 147.43it/s]"
          ]
        },
        {
          "output_type": "stream",
          "name": "stdout",
          "text": [
            "Epoch 10 / 10, Step 570 / 5086, Loss: 0.1055\n",
            "Epoch 10 / 10, Step 580 / 5086, Loss: 3.0817\n",
            "Epoch 10 / 10, Step 590 / 5086, Loss: 3.3644\n",
            "Epoch 10 / 10, Step 600 / 5086, Loss: 2.1033\n"
          ]
        },
        {
          "output_type": "stream",
          "name": "stderr",
          "text": [
            "637it [00:04, 148.39it/s]"
          ]
        },
        {
          "output_type": "stream",
          "name": "stdout",
          "text": [
            "Epoch 10 / 10, Step 610 / 5086, Loss: 0.0666\n",
            "Epoch 10 / 10, Step 620 / 5086, Loss: 2.0517\n",
            "Epoch 10 / 10, Step 630 / 5086, Loss: 0.4054\n",
            "Epoch 10 / 10, Step 640 / 5086, Loss: 8.6933\n"
          ]
        },
        {
          "output_type": "stream",
          "name": "stderr",
          "text": [
            "668it [00:04, 145.61it/s]"
          ]
        },
        {
          "output_type": "stream",
          "name": "stdout",
          "text": [
            "Epoch 10 / 10, Step 650 / 5086, Loss: 1.9535\n",
            "Epoch 10 / 10, Step 660 / 5086, Loss: 0.0299\n",
            "Epoch 10 / 10, Step 670 / 5086, Loss: 0.8796\n",
            "Epoch 10 / 10, Step 680 / 5086, Loss: 0.6223\n"
          ]
        },
        {
          "output_type": "stream",
          "name": "stderr",
          "text": [
            "714it [00:04, 146.45it/s]"
          ]
        },
        {
          "output_type": "stream",
          "name": "stdout",
          "text": [
            "Epoch 10 / 10, Step 690 / 5086, Loss: 2.8581\n",
            "Epoch 10 / 10, Step 700 / 5086, Loss: 4.9727\n",
            "Epoch 10 / 10, Step 710 / 5086, Loss: 1.8895\n"
          ]
        },
        {
          "output_type": "stream",
          "name": "stderr",
          "text": [
            "745it [00:05, 144.59it/s]"
          ]
        },
        {
          "output_type": "stream",
          "name": "stdout",
          "text": [
            "Epoch 10 / 10, Step 720 / 5086, Loss: 1.2465\n",
            "Epoch 10 / 10, Step 730 / 5086, Loss: 2.7363\n",
            "Epoch 10 / 10, Step 740 / 5086, Loss: 4.4521\n"
          ]
        },
        {
          "output_type": "stream",
          "name": "stderr",
          "text": [
            "775it [00:05, 144.92it/s]"
          ]
        },
        {
          "output_type": "stream",
          "name": "stdout",
          "text": [
            "Epoch 10 / 10, Step 750 / 5086, Loss: 0.0194\n",
            "Epoch 10 / 10, Step 760 / 5086, Loss: 1.4300\n",
            "Epoch 10 / 10, Step 770 / 5086, Loss: 9.6652\n"
          ]
        },
        {
          "output_type": "stream",
          "name": "stderr",
          "text": [
            "806it [00:05, 145.63it/s]"
          ]
        },
        {
          "output_type": "stream",
          "name": "stdout",
          "text": [
            "Epoch 10 / 10, Step 780 / 5086, Loss: 0.5631\n",
            "Epoch 10 / 10, Step 790 / 5086, Loss: 0.1352\n",
            "Epoch 10 / 10, Step 800 / 5086, Loss: 12.6088\n"
          ]
        },
        {
          "output_type": "stream",
          "name": "stderr",
          "text": [
            "836it [00:05, 143.98it/s]"
          ]
        },
        {
          "output_type": "stream",
          "name": "stdout",
          "text": [
            "Epoch 10 / 10, Step 810 / 5086, Loss: 1.1157\n",
            "Epoch 10 / 10, Step 820 / 5086, Loss: 9.2333\n",
            "Epoch 10 / 10, Step 830 / 5086, Loss: 16.8004\n"
          ]
        },
        {
          "output_type": "stream",
          "name": "stderr",
          "text": [
            "866it [00:05, 140.15it/s]"
          ]
        },
        {
          "output_type": "stream",
          "name": "stdout",
          "text": [
            "Epoch 10 / 10, Step 840 / 5086, Loss: 8.2203\n",
            "Epoch 10 / 10, Step 850 / 5086, Loss: 1.9998\n",
            "Epoch 10 / 10, Step 860 / 5086, Loss: 6.0227\n"
          ]
        },
        {
          "output_type": "stream",
          "name": "stderr",
          "text": [
            "897it [00:06, 144.50it/s]"
          ]
        },
        {
          "output_type": "stream",
          "name": "stdout",
          "text": [
            "Epoch 10 / 10, Step 870 / 5086, Loss: 0.0438\n",
            "Epoch 10 / 10, Step 880 / 5086, Loss: 3.1134\n",
            "Epoch 10 / 10, Step 890 / 5086, Loss: 1.3734\n",
            "Epoch 10 / 10, Step 900 / 5086, Loss: 3.6779"
          ]
        },
        {
          "output_type": "stream",
          "name": "stderr",
          "text": [
            "929it [00:06, 149.64it/s]"
          ]
        },
        {
          "output_type": "stream",
          "name": "stdout",
          "text": [
            "\n",
            "Epoch 10 / 10, Step 910 / 5086, Loss: 0.0057\n",
            "Epoch 10 / 10, Step 920 / 5086, Loss: 0.8113\n",
            "Epoch 10 / 10, Step 930 / 5086, Loss: 5.5191\n"
          ]
        },
        {
          "output_type": "stream",
          "name": "stderr",
          "text": [
            "962it [00:06, 151.78it/s]"
          ]
        },
        {
          "output_type": "stream",
          "name": "stdout",
          "text": [
            "Epoch 10 / 10, Step 940 / 5086, Loss: 0.0084\n",
            "Epoch 10 / 10, Step 950 / 5086, Loss: 1.7767\n",
            "Epoch 10 / 10, Step 960 / 5086, Loss: 10.8681\n",
            "Epoch 10 / 10, Step 970 / 5086, Loss: 0.6441\n"
          ]
        },
        {
          "output_type": "stream",
          "name": "stderr",
          "text": [
            "1010it [00:06, 152.97it/s]"
          ]
        },
        {
          "output_type": "stream",
          "name": "stdout",
          "text": [
            "Epoch 10 / 10, Step 980 / 5086, Loss: 4.7497\n",
            "Epoch 10 / 10, Step 990 / 5086, Loss: 0.1489\n",
            "Epoch 10 / 10, Step 1000 / 5086, Loss: 2.3853\n",
            "Epoch 10 / 10, Step 1010 / 5086, Loss: 0.0716\n"
          ]
        },
        {
          "output_type": "stream",
          "name": "stderr",
          "text": [
            "1042it [00:07, 146.86it/s]"
          ]
        },
        {
          "output_type": "stream",
          "name": "stdout",
          "text": [
            "Epoch 10 / 10, Step 1020 / 5086, Loss: 0.0077\n",
            "Epoch 10 / 10, Step 1030 / 5086, Loss: 1.1264\n",
            "Epoch 10 / 10, Step 1040 / 5086, Loss: 4.7894\n"
          ]
        },
        {
          "output_type": "stream",
          "name": "stderr",
          "text": [
            "1088it [00:07, 147.60it/s]"
          ]
        },
        {
          "output_type": "stream",
          "name": "stdout",
          "text": [
            "Epoch 10 / 10, Step 1050 / 5086, Loss: 1.2730\n",
            "Epoch 10 / 10, Step 1060 / 5086, Loss: 6.0373\n",
            "Epoch 10 / 10, Step 1070 / 5086, Loss: 5.8195\n",
            "Epoch 10 / 10, Step 1080 / 5086, Loss: 5.1677\n",
            "Epoch 10 / 10, Step 1090 / 5086, Loss: 0.0558\n"
          ]
        },
        {
          "output_type": "stream",
          "name": "stderr",
          "text": [
            "1119it [00:07, 147.80it/s]"
          ]
        },
        {
          "output_type": "stream",
          "name": "stdout",
          "text": [
            "Epoch 10 / 10, Step 1100 / 5086, Loss: 1.4029\n",
            "Epoch 10 / 10, Step 1110 / 5086, Loss: 1.3928\n",
            "Epoch 10 / 10, Step 1120 / 5086, Loss: 0.5365\n",
            "Epoch 10 / 10, Step 1130 / 5086, Loss: 5.6008\n"
          ]
        },
        {
          "output_type": "stream",
          "name": "stderr",
          "text": [
            "1165it [00:08, 144.01it/s]"
          ]
        },
        {
          "output_type": "stream",
          "name": "stdout",
          "text": [
            "Epoch 10 / 10, Step 1140 / 5086, Loss: 0.5191\n",
            "Epoch 10 / 10, Step 1150 / 5086, Loss: 0.4927\n",
            "Epoch 10 / 10, Step 1160 / 5086, Loss: 3.6986\n"
          ]
        },
        {
          "output_type": "stream",
          "name": "stderr",
          "text": [
            "1196it [00:08, 144.16it/s]"
          ]
        },
        {
          "output_type": "stream",
          "name": "stdout",
          "text": [
            "Epoch 10 / 10, Step 1170 / 5086, Loss: 2.6122\n",
            "Epoch 10 / 10, Step 1180 / 5086, Loss: 0.0133\n",
            "Epoch 10 / 10, Step 1190 / 5086, Loss: 1.8496\n"
          ]
        },
        {
          "output_type": "stream",
          "name": "stderr",
          "text": [
            "1227it [00:08, 146.45it/s]"
          ]
        },
        {
          "output_type": "stream",
          "name": "stdout",
          "text": [
            "Epoch 10 / 10, Step 1200 / 5086, Loss: 0.0294\n",
            "Epoch 10 / 10, Step 1210 / 5086, Loss: 5.3902\n",
            "Epoch 10 / 10, Step 1220 / 5086, Loss: 1.1106\n",
            "Epoch 10 / 10, Step 1230 / 5086, Loss: 23.2384\n"
          ]
        },
        {
          "output_type": "stream",
          "name": "stderr",
          "text": [
            "1258it [00:08, 145.19it/s]"
          ]
        },
        {
          "output_type": "stream",
          "name": "stdout",
          "text": [
            "Epoch 10 / 10, Step 1240 / 5086, Loss: 2.6831\n",
            "Epoch 10 / 10, Step 1250 / 5086, Loss: 6.5121\n",
            "Epoch 10 / 10, Step 1260 / 5086, Loss: 1.6497\n"
          ]
        },
        {
          "output_type": "stream",
          "name": "stderr",
          "text": [
            "1288it [00:08, 142.71it/s]"
          ]
        },
        {
          "output_type": "stream",
          "name": "stdout",
          "text": [
            "Epoch 10 / 10, Step 1270 / 5086, Loss: 1.8344\n",
            "Epoch 10 / 10, Step 1280 / 5086, Loss: 0.1962\n",
            "Epoch 10 / 10, Step 1290 / 5086, Loss: 0.6376\n"
          ]
        },
        {
          "output_type": "stream",
          "name": "stderr",
          "text": [
            "1317it [00:09, 137.52it/s]"
          ]
        },
        {
          "output_type": "stream",
          "name": "stdout",
          "text": [
            "Epoch 10 / 10, Step 1300 / 5086, Loss: 0.5760\n",
            "Epoch 10 / 10, Step 1310 / 5086, Loss: 0.0044\n",
            "Epoch 10 / 10, Step 1320 / 5086, Loss: 0.0550\n"
          ]
        },
        {
          "output_type": "stream",
          "name": "stderr",
          "text": [
            "1345it [00:09, 132.78it/s]"
          ]
        },
        {
          "output_type": "stream",
          "name": "stdout",
          "text": [
            "Epoch 10 / 10, Step 1330 / 5086, Loss: 1.4876\n",
            "Epoch 10 / 10, Step 1340 / 5086, Loss: 5.5252\n",
            "Epoch 10 / 10, Step 1350 / 5086, Loss: 8.3213\n"
          ]
        },
        {
          "output_type": "stream",
          "name": "stderr",
          "text": [
            "1391it [00:09, 143.25it/s]"
          ]
        },
        {
          "output_type": "stream",
          "name": "stdout",
          "text": [
            "Epoch 10 / 10, Step 1360 / 5086, Loss: 1.6300\n",
            "Epoch 10 / 10, Step 1370 / 5086, Loss: 5.1643\n",
            "Epoch 10 / 10, Step 1380 / 5086, Loss: 4.9052\n",
            "Epoch 10 / 10, Step 1390 / 5086, Loss: 2.3717\n"
          ]
        },
        {
          "output_type": "stream",
          "name": "stderr",
          "text": [
            "1421it [00:09, 143.45it/s]"
          ]
        },
        {
          "output_type": "stream",
          "name": "stdout",
          "text": [
            "Epoch 10 / 10, Step 1400 / 5086, Loss: 1.1497\n",
            "Epoch 10 / 10, Step 1410 / 5086, Loss: 6.1891\n",
            "Epoch 10 / 10, Step 1420 / 5086, Loss: 4.7368\n"
          ]
        },
        {
          "output_type": "stream",
          "name": "stderr",
          "text": [
            "1453it [00:10, 148.58it/s]"
          ]
        },
        {
          "output_type": "stream",
          "name": "stdout",
          "text": [
            "Epoch 10 / 10, Step 1430 / 5086, Loss: 1.4426\n",
            "Epoch 10 / 10, Step 1440 / 5086, Loss: 0.1535\n",
            "Epoch 10 / 10, Step 1450 / 5086, Loss: 5.6683\n"
          ]
        },
        {
          "output_type": "stream",
          "name": "stderr",
          "text": [
            "1484it [00:10, 145.67it/s]"
          ]
        },
        {
          "output_type": "stream",
          "name": "stdout",
          "text": [
            "Epoch 10 / 10, Step 1460 / 5086, Loss: 2.2448\n",
            "Epoch 10 / 10, Step 1470 / 5086, Loss: 2.9916\n",
            "Epoch 10 / 10, Step 1480 / 5086, Loss: 0.0083\n"
          ]
        },
        {
          "output_type": "stream",
          "name": "stderr",
          "text": [
            "1515it [00:10, 147.58it/s]"
          ]
        },
        {
          "output_type": "stream",
          "name": "stdout",
          "text": [
            "Epoch 10 / 10, Step 1490 / 5086, Loss: 0.0175\n",
            "Epoch 10 / 10, Step 1500 / 5086, Loss: 2.8445\n",
            "Epoch 10 / 10, Step 1510 / 5086, Loss: 0.0140\n"
          ]
        },
        {
          "output_type": "stream",
          "name": "stderr",
          "text": [
            "1547it [00:10, 147.45it/s]"
          ]
        },
        {
          "output_type": "stream",
          "name": "stdout",
          "text": [
            "Epoch 10 / 10, Step 1520 / 5086, Loss: 0.0018\n",
            "Epoch 10 / 10, Step 1530 / 5086, Loss: 2.5816\n",
            "Epoch 10 / 10, Step 1540 / 5086, Loss: 2.4749\n",
            "Epoch 10 / 10, Step 1550 / 5086, Loss: 0.0000\n"
          ]
        },
        {
          "output_type": "stream",
          "name": "stderr",
          "text": [
            "1579it [00:10, 152.93it/s]"
          ]
        },
        {
          "output_type": "stream",
          "name": "stdout",
          "text": [
            "Epoch 10 / 10, Step 1560 / 5086, Loss: 1.7500\n",
            "Epoch 10 / 10, Step 1570 / 5086, Loss: 6.4932\n",
            "Epoch 10 / 10, Step 1580 / 5086, Loss: 0.3123\n",
            "Epoch 10 / 10, Step 1590 / 5086, Loss: 3.8230\n"
          ]
        },
        {
          "output_type": "stream",
          "name": "stderr",
          "text": [
            "1627it [00:11, 152.34it/s]"
          ]
        },
        {
          "output_type": "stream",
          "name": "stdout",
          "text": [
            "Epoch 10 / 10, Step 1600 / 5086, Loss: 3.2544\n",
            "Epoch 10 / 10, Step 1610 / 5086, Loss: 1.6220\n",
            "Epoch 10 / 10, Step 1620 / 5086, Loss: 0.0245\n",
            "Epoch 10 / 10, Step 1630 / 5086, Loss: 0.0000\n"
          ]
        },
        {
          "output_type": "stream",
          "name": "stderr",
          "text": [
            "1659it [00:11, 149.83it/s]"
          ]
        },
        {
          "output_type": "stream",
          "name": "stdout",
          "text": [
            "Epoch 10 / 10, Step 1640 / 5086, Loss: 3.4103\n",
            "Epoch 10 / 10, Step 1650 / 5086, Loss: 2.9129\n",
            "Epoch 10 / 10, Step 1660 / 5086, Loss: 1.3143\n",
            "Epoch 10 / 10, Step 1670 / 5086, Loss: 1.1659\n"
          ]
        },
        {
          "output_type": "stream",
          "name": "stderr",
          "text": [
            "1708it [00:11, 155.72it/s]"
          ]
        },
        {
          "output_type": "stream",
          "name": "stdout",
          "text": [
            "Epoch 10 / 10, Step 1680 / 5086, Loss: 0.0087\n",
            "Epoch 10 / 10, Step 1690 / 5086, Loss: 2.2548\n",
            "Epoch 10 / 10, Step 1700 / 5086, Loss: 0.8960\n",
            "Epoch 10 / 10, Step 1710 / 5086, Loss: 0.6931\n"
          ]
        },
        {
          "output_type": "stream",
          "name": "stderr",
          "text": [
            "1740it [00:11, 149.92it/s]"
          ]
        },
        {
          "output_type": "stream",
          "name": "stdout",
          "text": [
            "Epoch 10 / 10, Step 1720 / 5086, Loss: 0.3221\n",
            "Epoch 10 / 10, Step 1730 / 5086, Loss: 0.0604\n",
            "Epoch 10 / 10, Step 1740 / 5086, Loss: 0.0202\n",
            "Epoch 10 / 10, Step 1750 / 5086, Loss: 1.4122\n"
          ]
        },
        {
          "output_type": "stream",
          "name": "stderr",
          "text": [
            "1787it [00:12, 149.56it/s]"
          ]
        },
        {
          "output_type": "stream",
          "name": "stdout",
          "text": [
            "Epoch 10 / 10, Step 1760 / 5086, Loss: 2.2989\n",
            "Epoch 10 / 10, Step 1770 / 5086, Loss: 0.8739\n",
            "Epoch 10 / 10, Step 1780 / 5086, Loss: 0.7805\n",
            "Epoch 10 / 10, Step 1790 / 5086, Loss: 1.9079\n"
          ]
        },
        {
          "output_type": "stream",
          "name": "stderr",
          "text": [
            "\r1802it [00:12, 146.44it/s]"
          ]
        },
        {
          "output_type": "stream",
          "name": "stdout",
          "text": [
            "Epoch 10 / 10, Step 1800 / 5086, Loss: 0.2979\n"
          ]
        },
        {
          "output_type": "stream",
          "name": "stderr",
          "text": [
            "\r1817it [00:12, 74.80it/s] "
          ]
        },
        {
          "output_type": "stream",
          "name": "stdout",
          "text": [
            "Epoch 10 / 10, Step 1810 / 5086, Loss: 4.2692\n"
          ]
        },
        {
          "output_type": "stream",
          "name": "stderr",
          "text": [
            "\r1829it [00:13, 76.18it/s]"
          ]
        },
        {
          "output_type": "stream",
          "name": "stdout",
          "text": [
            "Epoch 10 / 10, Step 1820 / 5086, Loss: 1.0551\n",
            "Epoch 10 / 10, Step 1830 / 5086, Loss: 1.8042\n"
          ]
        },
        {
          "output_type": "stream",
          "name": "stderr",
          "text": [
            "1853it [00:13, 84.83it/s]"
          ]
        },
        {
          "output_type": "stream",
          "name": "stdout",
          "text": [
            "Epoch 10 / 10, Step 1840 / 5086, Loss: 4.8448\n",
            "Epoch 10 / 10, Step 1850 / 5086, Loss: 0.0826\n",
            "Epoch 10 / 10, Step 1860 / 5086, Loss: 1.7817\n"
          ]
        },
        {
          "output_type": "stream",
          "name": "stderr",
          "text": [
            "1896it [00:13, 115.77it/s]"
          ]
        },
        {
          "output_type": "stream",
          "name": "stdout",
          "text": [
            "Epoch 10 / 10, Step 1870 / 5086, Loss: 1.2766\n",
            "Epoch 10 / 10, Step 1880 / 5086, Loss: 3.3783\n",
            "Epoch 10 / 10, Step 1890 / 5086, Loss: 4.2011\n"
          ]
        },
        {
          "output_type": "stream",
          "name": "stderr",
          "text": [
            "1926it [00:13, 129.80it/s]"
          ]
        },
        {
          "output_type": "stream",
          "name": "stdout",
          "text": [
            "Epoch 10 / 10, Step 1900 / 5086, Loss: 5.6501\n",
            "Epoch 10 / 10, Step 1910 / 5086, Loss: 0.3406\n",
            "Epoch 10 / 10, Step 1920 / 5086, Loss: 8.4771\n"
          ]
        },
        {
          "output_type": "stream",
          "name": "stderr",
          "text": [
            "1956it [00:13, 138.01it/s]"
          ]
        },
        {
          "output_type": "stream",
          "name": "stdout",
          "text": [
            "Epoch 10 / 10, Step 1930 / 5086, Loss: 0.2950\n",
            "Epoch 10 / 10, Step 1940 / 5086, Loss: 0.0076\n",
            "Epoch 10 / 10, Step 1950 / 5086, Loss: 4.4427\n"
          ]
        },
        {
          "output_type": "stream",
          "name": "stderr",
          "text": [
            "1987it [00:14, 142.15it/s]"
          ]
        },
        {
          "output_type": "stream",
          "name": "stdout",
          "text": [
            "Epoch 10 / 10, Step 1960 / 5086, Loss: 1.0753\n",
            "Epoch 10 / 10, Step 1970 / 5086, Loss: 0.0428\n",
            "Epoch 10 / 10, Step 1980 / 5086, Loss: 0.1690\n"
          ]
        },
        {
          "output_type": "stream",
          "name": "stderr",
          "text": [
            "2017it [00:14, 137.42it/s]"
          ]
        },
        {
          "output_type": "stream",
          "name": "stdout",
          "text": [
            "Epoch 10 / 10, Step 1990 / 5086, Loss: 0.0104\n",
            "Epoch 10 / 10, Step 2000 / 5086, Loss: 0.3021\n",
            "Epoch 10 / 10, Step 2010 / 5086, Loss: 0.5742\n"
          ]
        },
        {
          "output_type": "stream",
          "name": "stderr",
          "text": [
            "2047it [00:14, 141.34it/s]"
          ]
        },
        {
          "output_type": "stream",
          "name": "stdout",
          "text": [
            "Epoch 10 / 10, Step 2020 / 5086, Loss: 2.0591\n",
            "Epoch 10 / 10, Step 2030 / 5086, Loss: 0.3651\n",
            "Epoch 10 / 10, Step 2040 / 5086, Loss: 2.6880\n"
          ]
        },
        {
          "output_type": "stream",
          "name": "stderr",
          "text": [
            "2077it [00:14, 139.38it/s]"
          ]
        },
        {
          "output_type": "stream",
          "name": "stdout",
          "text": [
            "Epoch 10 / 10, Step 2050 / 5086, Loss: 5.0071\n",
            "Epoch 10 / 10, Step 2060 / 5086, Loss: 1.9928\n",
            "Epoch 10 / 10, Step 2070 / 5086, Loss: 12.1617\n"
          ]
        },
        {
          "output_type": "stream",
          "name": "stderr",
          "text": [
            "2108it [00:15, 143.68it/s]"
          ]
        },
        {
          "output_type": "stream",
          "name": "stdout",
          "text": [
            "Epoch 10 / 10, Step 2080 / 5086, Loss: 3.6663\n",
            "Epoch 10 / 10, Step 2090 / 5086, Loss: 2.3789\n",
            "Epoch 10 / 10, Step 2100 / 5086, Loss: 0.7495\n"
          ]
        },
        {
          "output_type": "stream",
          "name": "stderr",
          "text": [
            "\r2123it [00:15, 136.62it/s]"
          ]
        },
        {
          "output_type": "stream",
          "name": "stdout",
          "text": [
            "Epoch 10 / 10, Step 2110 / 5086, Loss: 11.9598\n",
            "Epoch 10 / 10, Step 2120 / 5086, Loss: 7.6239\n",
            "Epoch 10 / 10, Step 2130 / 5086, Loss: 7.8239\n"
          ]
        },
        {
          "output_type": "stream",
          "name": "stderr",
          "text": [
            "2166it [00:15, 140.07it/s]"
          ]
        },
        {
          "output_type": "stream",
          "name": "stdout",
          "text": [
            "Epoch 10 / 10, Step 2140 / 5086, Loss: 0.0550\n",
            "Epoch 10 / 10, Step 2150 / 5086, Loss: 0.0150\n",
            "Epoch 10 / 10, Step 2160 / 5086, Loss: 10.3031\n"
          ]
        },
        {
          "output_type": "stream",
          "name": "stderr",
          "text": [
            "2197it [00:15, 141.86it/s]"
          ]
        },
        {
          "output_type": "stream",
          "name": "stdout",
          "text": [
            "Epoch 10 / 10, Step 2170 / 5086, Loss: 0.0011\n",
            "Epoch 10 / 10, Step 2180 / 5086, Loss: 8.3226\n",
            "Epoch 10 / 10, Step 2190 / 5086, Loss: 5.5276\n"
          ]
        },
        {
          "output_type": "stream",
          "name": "stderr",
          "text": [
            "2227it [00:15, 138.10it/s]"
          ]
        },
        {
          "output_type": "stream",
          "name": "stdout",
          "text": [
            "Epoch 10 / 10, Step 2200 / 5086, Loss: 5.9384\n",
            "Epoch 10 / 10, Step 2210 / 5086, Loss: 3.0620\n",
            "Epoch 10 / 10, Step 2220 / 5086, Loss: 0.0001\n"
          ]
        },
        {
          "output_type": "stream",
          "name": "stderr",
          "text": [
            "2257it [00:16, 142.10it/s]"
          ]
        },
        {
          "output_type": "stream",
          "name": "stdout",
          "text": [
            "Epoch 10 / 10, Step 2230 / 5086, Loss: 4.1953\n",
            "Epoch 10 / 10, Step 2240 / 5086, Loss: 0.0059\n",
            "Epoch 10 / 10, Step 2250 / 5086, Loss: 0.0001\n"
          ]
        },
        {
          "output_type": "stream",
          "name": "stderr",
          "text": [
            "2287it [00:16, 141.44it/s]"
          ]
        },
        {
          "output_type": "stream",
          "name": "stdout",
          "text": [
            "Epoch 10 / 10, Step 2260 / 5086, Loss: 0.0262\n",
            "Epoch 10 / 10, Step 2270 / 5086, Loss: 0.0094\n",
            "Epoch 10 / 10, Step 2280 / 5086, Loss: 6.2563\n"
          ]
        },
        {
          "output_type": "stream",
          "name": "stderr",
          "text": [
            "2318it [00:16, 145.38it/s]"
          ]
        },
        {
          "output_type": "stream",
          "name": "stdout",
          "text": [
            "Epoch 10 / 10, Step 2290 / 5086, Loss: 0.5800\n",
            "Epoch 10 / 10, Step 2300 / 5086, Loss: 0.0072\n",
            "Epoch 10 / 10, Step 2310 / 5086, Loss: 0.0758\n"
          ]
        },
        {
          "output_type": "stream",
          "name": "stderr",
          "text": [
            "2349it [00:16, 147.66it/s]"
          ]
        },
        {
          "output_type": "stream",
          "name": "stdout",
          "text": [
            "Epoch 10 / 10, Step 2320 / 5086, Loss: 0.0000\n",
            "Epoch 10 / 10, Step 2330 / 5086, Loss: 5.4762\n",
            "Epoch 10 / 10, Step 2340 / 5086, Loss: 0.9263\n"
          ]
        },
        {
          "output_type": "stream",
          "name": "stderr",
          "text": [
            "2381it [00:16, 152.01it/s]"
          ]
        },
        {
          "output_type": "stream",
          "name": "stdout",
          "text": [
            "Epoch 10 / 10, Step 2350 / 5086, Loss: 3.2198\n",
            "Epoch 10 / 10, Step 2360 / 5086, Loss: 7.5375\n",
            "Epoch 10 / 10, Step 2370 / 5086, Loss: 5.1169\n",
            "Epoch 10 / 10, Step 2380 / 5086, Loss: 8.1308\n",
            "Epoch 10 / 10, Step 2390 / 5086, Loss: 1.6804\n"
          ]
        },
        {
          "output_type": "stream",
          "name": "stderr",
          "text": [
            "2429it [00:17, 151.25it/s]"
          ]
        },
        {
          "output_type": "stream",
          "name": "stdout",
          "text": [
            "Epoch 10 / 10, Step 2400 / 5086, Loss: 0.0084\n",
            "Epoch 10 / 10, Step 2410 / 5086, Loss: 0.0001\n",
            "Epoch 10 / 10, Step 2420 / 5086, Loss: 0.3468\n",
            "Epoch 10 / 10, Step 2430 / 5086, Loss: 2.3204\n"
          ]
        },
        {
          "output_type": "stream",
          "name": "stderr",
          "text": [
            "2460it [00:17, 144.98it/s]"
          ]
        },
        {
          "output_type": "stream",
          "name": "stdout",
          "text": [
            "Epoch 10 / 10, Step 2440 / 5086, Loss: 0.0057\n",
            "Epoch 10 / 10, Step 2450 / 5086, Loss: 1.3651\n",
            "Epoch 10 / 10, Step 2460 / 5086, Loss: 2.3046\n",
            "Epoch 10 / 10, Step 2470 / 5086, Loss: 0.0271\n"
          ]
        },
        {
          "output_type": "stream",
          "name": "stderr",
          "text": [
            "2506it [00:17, 147.70it/s]"
          ]
        },
        {
          "output_type": "stream",
          "name": "stdout",
          "text": [
            "Epoch 10 / 10, Step 2480 / 5086, Loss: 0.4730\n",
            "Epoch 10 / 10, Step 2490 / 5086, Loss: 0.0084\n",
            "Epoch 10 / 10, Step 2500 / 5086, Loss: 10.0597\n",
            "Epoch 10 / 10, Step 2510 / 5086, Loss: 10.3730\n"
          ]
        },
        {
          "output_type": "stream",
          "name": "stderr",
          "text": [
            "2537it [00:18, 149.25it/s]"
          ]
        },
        {
          "output_type": "stream",
          "name": "stdout",
          "text": [
            "Epoch 10 / 10, Step 2520 / 5086, Loss: 1.1663\n",
            "Epoch 10 / 10, Step 2530 / 5086, Loss: 0.0003\n",
            "Epoch 10 / 10, Step 2540 / 5086, Loss: 0.0957\n",
            "Epoch 10 / 10, Step 2550 / 5086, Loss: 7.6103\n"
          ]
        },
        {
          "output_type": "stream",
          "name": "stderr",
          "text": [
            "2582it [00:18, 139.98it/s]"
          ]
        },
        {
          "output_type": "stream",
          "name": "stdout",
          "text": [
            "Epoch 10 / 10, Step 2560 / 5086, Loss: 11.3601\n",
            "Epoch 10 / 10, Step 2570 / 5086, Loss: 0.0000\n",
            "Epoch 10 / 10, Step 2580 / 5086, Loss: 7.7716\n"
          ]
        },
        {
          "output_type": "stream",
          "name": "stderr",
          "text": [
            "2613it [00:18, 144.12it/s]"
          ]
        },
        {
          "output_type": "stream",
          "name": "stdout",
          "text": [
            "Epoch 10 / 10, Step 2590 / 5086, Loss: 0.4803\n",
            "Epoch 10 / 10, Step 2600 / 5086, Loss: 7.9359\n",
            "Epoch 10 / 10, Step 2610 / 5086, Loss: 6.7695\n",
            "Epoch 10 / 10, Step 2620 / 5086, Loss: 2.2757\n"
          ]
        },
        {
          "output_type": "stream",
          "name": "stderr",
          "text": [
            "2659it [00:18, 146.37it/s]"
          ]
        },
        {
          "output_type": "stream",
          "name": "stdout",
          "text": [
            "Epoch 10 / 10, Step 2630 / 5086, Loss: 0.8122\n",
            "Epoch 10 / 10, Step 2640 / 5086, Loss: 3.8502\n",
            "Epoch 10 / 10, Step 2650 / 5086, Loss: 3.9609\n",
            "Epoch 10 / 10, Step 2660 / 5086, Loss: 0.6654\n"
          ]
        },
        {
          "output_type": "stream",
          "name": "stderr",
          "text": [
            "2690it [00:19, 145.66it/s]"
          ]
        },
        {
          "output_type": "stream",
          "name": "stdout",
          "text": [
            "Epoch 10 / 10, Step 2670 / 5086, Loss: 1.2925\n",
            "Epoch 10 / 10, Step 2680 / 5086, Loss: 1.5016\n",
            "Epoch 10 / 10, Step 2690 / 5086, Loss: 10.1823\n",
            "Epoch 10 / 10, Step 2700 / 5086, Loss: 0.6172\n"
          ]
        },
        {
          "output_type": "stream",
          "name": "stderr",
          "text": [
            "2736it [00:19, 140.56it/s]"
          ]
        },
        {
          "output_type": "stream",
          "name": "stdout",
          "text": [
            "Epoch 10 / 10, Step 2710 / 5086, Loss: 10.6224\n",
            "Epoch 10 / 10, Step 2720 / 5086, Loss: 0.4705\n",
            "Epoch 10 / 10, Step 2730 / 5086, Loss: 1.0690\n"
          ]
        },
        {
          "output_type": "stream",
          "name": "stderr",
          "text": [
            "2767it [00:19, 141.36it/s]"
          ]
        },
        {
          "output_type": "stream",
          "name": "stdout",
          "text": [
            "Epoch 10 / 10, Step 2740 / 5086, Loss: 0.0026\n",
            "Epoch 10 / 10, Step 2750 / 5086, Loss: 7.8174\n",
            "Epoch 10 / 10, Step 2760 / 5086, Loss: 0.2889\n"
          ]
        },
        {
          "output_type": "stream",
          "name": "stderr",
          "text": [
            "\r2782it [00:19, 133.28it/s]"
          ]
        },
        {
          "output_type": "stream",
          "name": "stdout",
          "text": [
            "Epoch 10 / 10, Step 2770 / 5086, Loss: 7.0337\n",
            "Epoch 10 / 10, Step 2780 / 5086, Loss: 2.3340\n",
            "Epoch 10 / 10, Step 2790 / 5086, Loss: 1.2373\n"
          ]
        },
        {
          "output_type": "stream",
          "name": "stderr",
          "text": [
            "2827it [00:20, 138.33it/s]"
          ]
        },
        {
          "output_type": "stream",
          "name": "stdout",
          "text": [
            "Epoch 10 / 10, Step 2800 / 5086, Loss: 8.4885\n",
            "Epoch 10 / 10, Step 2810 / 5086, Loss: 0.8726\n",
            "Epoch 10 / 10, Step 2820 / 5086, Loss: 0.0030\n"
          ]
        },
        {
          "output_type": "stream",
          "name": "stderr",
          "text": [
            "2857it [00:20, 140.73it/s]"
          ]
        },
        {
          "output_type": "stream",
          "name": "stdout",
          "text": [
            "Epoch 10 / 10, Step 2830 / 5086, Loss: 0.1652\n",
            "Epoch 10 / 10, Step 2840 / 5086, Loss: 2.7009\n",
            "Epoch 10 / 10, Step 2850 / 5086, Loss: 1.3118\n"
          ]
        },
        {
          "output_type": "stream",
          "name": "stderr",
          "text": [
            "\r2872it [00:20, 132.92it/s]"
          ]
        },
        {
          "output_type": "stream",
          "name": "stdout",
          "text": [
            "Epoch 10 / 10, Step 2860 / 5086, Loss: 0.3634\n",
            "Epoch 10 / 10, Step 2870 / 5086, Loss: 1.6873\n",
            "Epoch 10 / 10, Step 2880 / 5086, Loss: 4.3960\n"
          ]
        },
        {
          "output_type": "stream",
          "name": "stderr",
          "text": [
            "2918it [00:20, 141.09it/s]"
          ]
        },
        {
          "output_type": "stream",
          "name": "stdout",
          "text": [
            "Epoch 10 / 10, Step 2890 / 5086, Loss: 11.7470\n",
            "Epoch 10 / 10, Step 2900 / 5086, Loss: 2.7374\n",
            "Epoch 10 / 10, Step 2910 / 5086, Loss: 2.6983\n"
          ]
        },
        {
          "output_type": "stream",
          "name": "stderr",
          "text": [
            "2949it [00:21, 144.08it/s]"
          ]
        },
        {
          "output_type": "stream",
          "name": "stdout",
          "text": [
            "Epoch 10 / 10, Step 2920 / 5086, Loss: 0.6476\n",
            "Epoch 10 / 10, Step 2930 / 5086, Loss: 0.0119\n",
            "Epoch 10 / 10, Step 2940 / 5086, Loss: 0.7409\n"
          ]
        },
        {
          "output_type": "stream",
          "name": "stderr",
          "text": [
            "2980it [00:21, 145.47it/s]"
          ]
        },
        {
          "output_type": "stream",
          "name": "stdout",
          "text": [
            "Epoch 10 / 10, Step 2950 / 5086, Loss: 5.7817\n",
            "Epoch 10 / 10, Step 2960 / 5086, Loss: 5.7032\n",
            "Epoch 10 / 10, Step 2970 / 5086, Loss: 0.0000\n",
            "Epoch 10 / 10, Step 2980 / 5086, Loss: 0.0031\n"
          ]
        },
        {
          "output_type": "stream",
          "name": "stderr",
          "text": [
            "3010it [00:21, 145.29it/s]"
          ]
        },
        {
          "output_type": "stream",
          "name": "stdout",
          "text": [
            "Epoch 10 / 10, Step 2990 / 5086, Loss: 0.0359\n",
            "Epoch 10 / 10, Step 3000 / 5086, Loss: 1.3917\n",
            "Epoch 10 / 10, Step 3010 / 5086, Loss: 0.7993\n"
          ]
        },
        {
          "output_type": "stream",
          "name": "stderr",
          "text": [
            "3042it [00:21, 146.33it/s]"
          ]
        },
        {
          "output_type": "stream",
          "name": "stdout",
          "text": [
            "Epoch 10 / 10, Step 3020 / 5086, Loss: 0.8372\n",
            "Epoch 10 / 10, Step 3030 / 5086, Loss: 5.7695\n",
            "Epoch 10 / 10, Step 3040 / 5086, Loss: 1.9909\n"
          ]
        },
        {
          "output_type": "stream",
          "name": "stderr",
          "text": [
            "3072it [00:21, 142.14it/s]"
          ]
        },
        {
          "output_type": "stream",
          "name": "stdout",
          "text": [
            "Epoch 10 / 10, Step 3050 / 5086, Loss: 0.3844\n",
            "Epoch 10 / 10, Step 3060 / 5086, Loss: 13.9669\n",
            "Epoch 10 / 10, Step 3070 / 5086, Loss: 7.8936\n"
          ]
        },
        {
          "output_type": "stream",
          "name": "stderr",
          "text": [
            "3103it [00:22, 144.81it/s]"
          ]
        },
        {
          "output_type": "stream",
          "name": "stdout",
          "text": [
            "Epoch 10 / 10, Step 3080 / 5086, Loss: 2.5536\n",
            "Epoch 10 / 10, Step 3090 / 5086, Loss: 0.2686\n",
            "Epoch 10 / 10, Step 3100 / 5086, Loss: 0.0006\n"
          ]
        },
        {
          "output_type": "stream",
          "name": "stderr",
          "text": [
            "3134it [00:22, 144.88it/s]"
          ]
        },
        {
          "output_type": "stream",
          "name": "stdout",
          "text": [
            "Epoch 10 / 10, Step 3110 / 5086, Loss: 3.2939\n",
            "Epoch 10 / 10, Step 3120 / 5086, Loss: 3.9304\n",
            "Epoch 10 / 10, Step 3130 / 5086, Loss: 0.8241\n"
          ]
        },
        {
          "output_type": "stream",
          "name": "stderr",
          "text": [
            "3164it [00:22, 143.01it/s]"
          ]
        },
        {
          "output_type": "stream",
          "name": "stdout",
          "text": [
            "Epoch 10 / 10, Step 3140 / 5086, Loss: 1.0186\n",
            "Epoch 10 / 10, Step 3150 / 5086, Loss: 7.2929\n",
            "Epoch 10 / 10, Step 3160 / 5086, Loss: 6.7818\n"
          ]
        },
        {
          "output_type": "stream",
          "name": "stderr",
          "text": [
            "3195it [00:22, 143.26it/s]"
          ]
        },
        {
          "output_type": "stream",
          "name": "stdout",
          "text": [
            "Epoch 10 / 10, Step 3170 / 5086, Loss: 3.7119\n",
            "Epoch 10 / 10, Step 3180 / 5086, Loss: 2.1923\n",
            "Epoch 10 / 10, Step 3190 / 5086, Loss: 3.4559\n"
          ]
        },
        {
          "output_type": "stream",
          "name": "stderr",
          "text": [
            "3225it [00:22, 141.08it/s]"
          ]
        },
        {
          "output_type": "stream",
          "name": "stdout",
          "text": [
            "Epoch 10 / 10, Step 3200 / 5086, Loss: 2.1077\n",
            "Epoch 10 / 10, Step 3210 / 5086, Loss: 1.0235\n",
            "Epoch 10 / 10, Step 3220 / 5086, Loss: 0.8517\n"
          ]
        },
        {
          "output_type": "stream",
          "name": "stderr",
          "text": [
            "3255it [00:23, 141.43it/s]"
          ]
        },
        {
          "output_type": "stream",
          "name": "stdout",
          "text": [
            "Epoch 10 / 10, Step 3230 / 5086, Loss: 0.0199\n",
            "Epoch 10 / 10, Step 3240 / 5086, Loss: 1.7902\n",
            "Epoch 10 / 10, Step 3250 / 5086, Loss: 0.2124\n"
          ]
        },
        {
          "output_type": "stream",
          "name": "stderr",
          "text": [
            "3286it [00:23, 143.86it/s]"
          ]
        },
        {
          "output_type": "stream",
          "name": "stdout",
          "text": [
            "Epoch 10 / 10, Step 3260 / 5086, Loss: 1.9559\n",
            "Epoch 10 / 10, Step 3270 / 5086, Loss: 0.0058\n",
            "Epoch 10 / 10, Step 3280 / 5086, Loss: 0.9442\n"
          ]
        },
        {
          "output_type": "stream",
          "name": "stderr",
          "text": [
            "3316it [00:23, 140.65it/s]"
          ]
        },
        {
          "output_type": "stream",
          "name": "stdout",
          "text": [
            "Epoch 10 / 10, Step 3290 / 5086, Loss: 1.3766\n",
            "Epoch 10 / 10, Step 3300 / 5086, Loss: 0.3826\n",
            "Epoch 10 / 10, Step 3310 / 5086, Loss: 7.1973\n"
          ]
        },
        {
          "output_type": "stream",
          "name": "stderr",
          "text": [
            "3347it [00:23, 143.92it/s]"
          ]
        },
        {
          "output_type": "stream",
          "name": "stdout",
          "text": [
            "Epoch 10 / 10, Step 3320 / 5086, Loss: 2.7571\n",
            "Epoch 10 / 10, Step 3330 / 5086, Loss: 2.5079\n",
            "Epoch 10 / 10, Step 3340 / 5086, Loss: 1.4555\n"
          ]
        },
        {
          "output_type": "stream",
          "name": "stderr",
          "text": [
            "3379it [00:24, 148.64it/s]"
          ]
        },
        {
          "output_type": "stream",
          "name": "stdout",
          "text": [
            "Epoch 10 / 10, Step 3350 / 5086, Loss: 0.1226\n",
            "Epoch 10 / 10, Step 3360 / 5086, Loss: 5.5767\n",
            "Epoch 10 / 10, Step 3370 / 5086, Loss: 2.0422\n",
            "Epoch 10 / 10, Step 3380 / 5086, Loss: 0.0139\n"
          ]
        },
        {
          "output_type": "stream",
          "name": "stderr",
          "text": [
            "3410it [00:24, 148.06it/s]"
          ]
        },
        {
          "output_type": "stream",
          "name": "stdout",
          "text": [
            "Epoch 10 / 10, Step 3390 / 5086, Loss: 2.7932\n",
            "Epoch 10 / 10, Step 3400 / 5086, Loss: 2.5310\n",
            "Epoch 10 / 10, Step 3410 / 5086, Loss: 2.9577\n",
            "Epoch 10 / 10, Step 3420 / 5086, Loss: 0.5541\n"
          ]
        },
        {
          "output_type": "stream",
          "name": "stderr",
          "text": [
            "3455it [00:24, 145.93it/s]"
          ]
        },
        {
          "output_type": "stream",
          "name": "stdout",
          "text": [
            "Epoch 10 / 10, Step 3430 / 5086, Loss: 1.4713\n",
            "Epoch 10 / 10, Step 3440 / 5086, Loss: 0.0020\n",
            "Epoch 10 / 10, Step 3450 / 5086, Loss: 2.2120\n"
          ]
        },
        {
          "output_type": "stream",
          "name": "stderr",
          "text": [
            "3485it [00:24, 142.94it/s]"
          ]
        },
        {
          "output_type": "stream",
          "name": "stdout",
          "text": [
            "Epoch 10 / 10, Step 3460 / 5086, Loss: 3.5703\n",
            "Epoch 10 / 10, Step 3470 / 5086, Loss: 1.1564\n",
            "Epoch 10 / 10, Step 3480 / 5086, Loss: 4.7578\n"
          ]
        },
        {
          "output_type": "stream",
          "name": "stderr",
          "text": [
            "3516it [00:24, 144.65it/s]"
          ]
        },
        {
          "output_type": "stream",
          "name": "stdout",
          "text": [
            "Epoch 10 / 10, Step 3490 / 5086, Loss: 7.0785\n",
            "Epoch 10 / 10, Step 3500 / 5086, Loss: 3.6248\n",
            "Epoch 10 / 10, Step 3510 / 5086, Loss: 0.7008\n"
          ]
        },
        {
          "output_type": "stream",
          "name": "stderr",
          "text": [
            "3547it [00:25, 146.01it/s]"
          ]
        },
        {
          "output_type": "stream",
          "name": "stdout",
          "text": [
            "Epoch 10 / 10, Step 3520 / 5086, Loss: 0.2372\n",
            "Epoch 10 / 10, Step 3530 / 5086, Loss: 0.0006\n",
            "Epoch 10 / 10, Step 3540 / 5086, Loss: 0.6206\n"
          ]
        },
        {
          "output_type": "stream",
          "name": "stderr",
          "text": [
            "3579it [00:25, 149.80it/s]"
          ]
        },
        {
          "output_type": "stream",
          "name": "stdout",
          "text": [
            "Epoch 10 / 10, Step 3550 / 5086, Loss: 2.0888\n",
            "Epoch 10 / 10, Step 3560 / 5086, Loss: 1.1329\n",
            "Epoch 10 / 10, Step 3570 / 5086, Loss: 1.1920\n",
            "Epoch 10 / 10, Step 3580 / 5086, Loss: 1.2905\n"
          ]
        },
        {
          "output_type": "stream",
          "name": "stderr",
          "text": [
            "3610it [00:25, 144.33it/s]"
          ]
        },
        {
          "output_type": "stream",
          "name": "stdout",
          "text": [
            "Epoch 10 / 10, Step 3590 / 5086, Loss: 0.1001\n",
            "Epoch 10 / 10, Step 3600 / 5086, Loss: 0.3249\n",
            "Epoch 10 / 10, Step 3610 / 5086, Loss: 0.2264\n"
          ]
        },
        {
          "output_type": "stream",
          "name": "stderr",
          "text": [
            "3640it [00:25, 143.43it/s]"
          ]
        },
        {
          "output_type": "stream",
          "name": "stdout",
          "text": [
            "Epoch 10 / 10, Step 3620 / 5086, Loss: 0.7486\n",
            "Epoch 10 / 10, Step 3630 / 5086, Loss: 0.1935\n",
            "Epoch 10 / 10, Step 3640 / 5086, Loss: 0.9122\n"
          ]
        },
        {
          "output_type": "stream",
          "name": "stderr",
          "text": [
            "3672it [00:26, 149.07it/s]"
          ]
        },
        {
          "output_type": "stream",
          "name": "stdout",
          "text": [
            "Epoch 10 / 10, Step 3650 / 5086, Loss: 3.0786\n",
            "Epoch 10 / 10, Step 3660 / 5086, Loss: 0.3100\n",
            "Epoch 10 / 10, Step 3670 / 5086, Loss: 3.4799\n",
            "Epoch 10 / 10, Step 3680 / 5086, Loss: 0.0778\n"
          ]
        },
        {
          "output_type": "stream",
          "name": "stderr",
          "text": [
            "3719it [00:26, 151.08it/s]"
          ]
        },
        {
          "output_type": "stream",
          "name": "stdout",
          "text": [
            "Epoch 10 / 10, Step 3690 / 5086, Loss: 2.8605\n",
            "Epoch 10 / 10, Step 3700 / 5086, Loss: 1.3086\n",
            "Epoch 10 / 10, Step 3710 / 5086, Loss: 6.2430\n",
            "Epoch 10 / 10, Step 3720 / 5086, Loss: 5.6714\n"
          ]
        },
        {
          "output_type": "stream",
          "name": "stderr",
          "text": [
            "3751it [00:26, 146.00it/s]"
          ]
        },
        {
          "output_type": "stream",
          "name": "stdout",
          "text": [
            "Epoch 10 / 10, Step 3730 / 5086, Loss: 1.8328\n",
            "Epoch 10 / 10, Step 3740 / 5086, Loss: 0.1235\n",
            "Epoch 10 / 10, Step 3750 / 5086, Loss: 0.5983\n",
            "Epoch 10 / 10, Step 3760 / 5086, Loss: 0.0001\n"
          ]
        },
        {
          "output_type": "stream",
          "name": "stderr",
          "text": [
            "3796it [00:26, 143.36it/s]"
          ]
        },
        {
          "output_type": "stream",
          "name": "stdout",
          "text": [
            "Epoch 10 / 10, Step 3770 / 5086, Loss: 0.0000\n",
            "Epoch 10 / 10, Step 3780 / 5086, Loss: 0.2796\n",
            "Epoch 10 / 10, Step 3790 / 5086, Loss: 4.6940\n"
          ]
        },
        {
          "output_type": "stream",
          "name": "stderr",
          "text": [
            "3827it [00:27, 146.02it/s]"
          ]
        },
        {
          "output_type": "stream",
          "name": "stdout",
          "text": [
            "Epoch 10 / 10, Step 3800 / 5086, Loss: 3.7315\n",
            "Epoch 10 / 10, Step 3810 / 5086, Loss: 1.8101\n",
            "Epoch 10 / 10, Step 3820 / 5086, Loss: 2.8347\n"
          ]
        },
        {
          "output_type": "stream",
          "name": "stderr",
          "text": [
            "3858it [00:27, 145.51it/s]"
          ]
        },
        {
          "output_type": "stream",
          "name": "stdout",
          "text": [
            "Epoch 10 / 10, Step 3830 / 5086, Loss: 0.1550\n",
            "Epoch 10 / 10, Step 3840 / 5086, Loss: 0.0169\n",
            "Epoch 10 / 10, Step 3850 / 5086, Loss: 0.0002\n"
          ]
        },
        {
          "output_type": "stream",
          "name": "stderr",
          "text": [
            "3889it [00:27, 144.54it/s]"
          ]
        },
        {
          "output_type": "stream",
          "name": "stdout",
          "text": [
            "Epoch 10 / 10, Step 3860 / 5086, Loss: 0.0001\n",
            "Epoch 10 / 10, Step 3870 / 5086, Loss: 0.0034\n",
            "Epoch 10 / 10, Step 3880 / 5086, Loss: 2.2301\n"
          ]
        },
        {
          "output_type": "stream",
          "name": "stderr",
          "text": [
            "\r3904it [00:27, 135.87it/s]"
          ]
        },
        {
          "output_type": "stream",
          "name": "stdout",
          "text": [
            "Epoch 10 / 10, Step 3890 / 5086, Loss: 2.5933\n",
            "Epoch 10 / 10, Step 3900 / 5086, Loss: 0.0000\n",
            "Epoch 10 / 10, Step 3910 / 5086, Loss: 0.0004\n"
          ]
        },
        {
          "output_type": "stream",
          "name": "stderr",
          "text": [
            "3947it [00:27, 138.24it/s]"
          ]
        },
        {
          "output_type": "stream",
          "name": "stdout",
          "text": [
            "Epoch 10 / 10, Step 3920 / 5086, Loss: 0.6653\n",
            "Epoch 10 / 10, Step 3930 / 5086, Loss: 2.4585\n",
            "Epoch 10 / 10, Step 3940 / 5086, Loss: 5.1163\n"
          ]
        },
        {
          "output_type": "stream",
          "name": "stderr",
          "text": [
            "3975it [00:28, 135.57it/s]"
          ]
        },
        {
          "output_type": "stream",
          "name": "stdout",
          "text": [
            "Epoch 10 / 10, Step 3950 / 5086, Loss: 0.5210\n",
            "Epoch 10 / 10, Step 3960 / 5086, Loss: 1.7048\n",
            "Epoch 10 / 10, Step 3970 / 5086, Loss: 3.2881\n"
          ]
        },
        {
          "output_type": "stream",
          "name": "stderr",
          "text": [
            "4004it [00:28, 136.86it/s]"
          ]
        },
        {
          "output_type": "stream",
          "name": "stdout",
          "text": [
            "Epoch 10 / 10, Step 3980 / 5086, Loss: 0.0000\n",
            "Epoch 10 / 10, Step 3990 / 5086, Loss: 3.4248\n",
            "Epoch 10 / 10, Step 4000 / 5086, Loss: 3.5063\n"
          ]
        },
        {
          "output_type": "stream",
          "name": "stderr",
          "text": [
            "4033it [00:28, 136.00it/s]"
          ]
        },
        {
          "output_type": "stream",
          "name": "stdout",
          "text": [
            "Epoch 10 / 10, Step 4010 / 5086, Loss: 3.2427\n",
            "Epoch 10 / 10, Step 4020 / 5086, Loss: 2.4161\n",
            "Epoch 10 / 10, Step 4030 / 5086, Loss: 5.6620\n"
          ]
        },
        {
          "output_type": "stream",
          "name": "stderr",
          "text": [
            "4062it [00:28, 135.08it/s]"
          ]
        },
        {
          "output_type": "stream",
          "name": "stdout",
          "text": [
            "Epoch 10 / 10, Step 4040 / 5086, Loss: 5.7519\n",
            "Epoch 10 / 10, Step 4050 / 5086, Loss: 2.7106\n",
            "Epoch 10 / 10, Step 4060 / 5086, Loss: 1.6877\n"
          ]
        },
        {
          "output_type": "stream",
          "name": "stderr",
          "text": [
            "4091it [00:29, 137.84it/s]"
          ]
        },
        {
          "output_type": "stream",
          "name": "stdout",
          "text": [
            "Epoch 10 / 10, Step 4070 / 5086, Loss: 4.4813\n",
            "Epoch 10 / 10, Step 4080 / 5086, Loss: 0.0688\n",
            "Epoch 10 / 10, Step 4090 / 5086, Loss: 0.0143\n"
          ]
        },
        {
          "output_type": "stream",
          "name": "stderr",
          "text": [
            "4120it [00:29, 137.19it/s]"
          ]
        },
        {
          "output_type": "stream",
          "name": "stdout",
          "text": [
            "Epoch 10 / 10, Step 4100 / 5086, Loss: 0.0244\n",
            "Epoch 10 / 10, Step 4110 / 5086, Loss: 0.0009\n",
            "Epoch 10 / 10, Step 4120 / 5086, Loss: 2.2568\n"
          ]
        },
        {
          "output_type": "stream",
          "name": "stderr",
          "text": [
            "4148it [00:29, 133.65it/s]"
          ]
        },
        {
          "output_type": "stream",
          "name": "stdout",
          "text": [
            "Epoch 10 / 10, Step 4130 / 5086, Loss: 4.3757\n",
            "Epoch 10 / 10, Step 4140 / 5086, Loss: 3.1175\n",
            "Epoch 10 / 10, Step 4150 / 5086, Loss: 0.0640\n"
          ]
        },
        {
          "output_type": "stream",
          "name": "stderr",
          "text": [
            "4177it [00:29, 136.18it/s]"
          ]
        },
        {
          "output_type": "stream",
          "name": "stdout",
          "text": [
            "Epoch 10 / 10, Step 4160 / 5086, Loss: 0.0037\n",
            "Epoch 10 / 10, Step 4170 / 5086, Loss: 1.8594\n",
            "Epoch 10 / 10, Step 4180 / 5086, Loss: 3.4200\n"
          ]
        },
        {
          "output_type": "stream",
          "name": "stderr",
          "text": [
            "4205it [00:29, 132.97it/s]"
          ]
        },
        {
          "output_type": "stream",
          "name": "stdout",
          "text": [
            "Epoch 10 / 10, Step 4190 / 5086, Loss: 0.8407\n",
            "Epoch 10 / 10, Step 4200 / 5086, Loss: 0.6709\n",
            "Epoch 10 / 10, Step 4210 / 5086, Loss: 0.0000\n"
          ]
        },
        {
          "output_type": "stream",
          "name": "stderr",
          "text": [
            "4234it [00:30, 136.15it/s]"
          ]
        },
        {
          "output_type": "stream",
          "name": "stdout",
          "text": [
            "Epoch 10 / 10, Step 4220 / 5086, Loss: 0.0031\n",
            "Epoch 10 / 10, Step 4230 / 5086, Loss: 0.0011\n",
            "Epoch 10 / 10, Step 4240 / 5086, Loss: 6.4829\n"
          ]
        },
        {
          "output_type": "stream",
          "name": "stderr",
          "text": [
            "4278it [00:30, 136.36it/s]"
          ]
        },
        {
          "output_type": "stream",
          "name": "stdout",
          "text": [
            "Epoch 10 / 10, Step 4250 / 5086, Loss: 3.0467\n",
            "Epoch 10 / 10, Step 4260 / 5086, Loss: 5.0389\n",
            "Epoch 10 / 10, Step 4270 / 5086, Loss: 1.8790\n"
          ]
        },
        {
          "output_type": "stream",
          "name": "stderr",
          "text": [
            "4307it [00:30, 135.13it/s]"
          ]
        },
        {
          "output_type": "stream",
          "name": "stdout",
          "text": [
            "Epoch 10 / 10, Step 4280 / 5086, Loss: 0.5907\n",
            "Epoch 10 / 10, Step 4290 / 5086, Loss: 0.6044\n",
            "Epoch 10 / 10, Step 4300 / 5086, Loss: 0.6201\n"
          ]
        },
        {
          "output_type": "stream",
          "name": "stderr",
          "text": [
            "4336it [00:30, 133.26it/s]"
          ]
        },
        {
          "output_type": "stream",
          "name": "stdout",
          "text": [
            "Epoch 10 / 10, Step 4310 / 5086, Loss: 0.7022\n",
            "Epoch 10 / 10, Step 4320 / 5086, Loss: 0.0475\n",
            "Epoch 10 / 10, Step 4330 / 5086, Loss: 3.4519\n"
          ]
        },
        {
          "output_type": "stream",
          "name": "stderr",
          "text": [
            "4365it [00:31, 134.97it/s]"
          ]
        },
        {
          "output_type": "stream",
          "name": "stdout",
          "text": [
            "Epoch 10 / 10, Step 4340 / 5086, Loss: 0.0178\n",
            "Epoch 10 / 10, Step 4350 / 5086, Loss: 3.2306\n",
            "Epoch 10 / 10, Step 4360 / 5086, Loss: 0.0063\n"
          ]
        },
        {
          "output_type": "stream",
          "name": "stderr",
          "text": [
            "4395it [00:31, 141.16it/s]"
          ]
        },
        {
          "output_type": "stream",
          "name": "stdout",
          "text": [
            "Epoch 10 / 10, Step 4370 / 5086, Loss: 1.4369\n",
            "Epoch 10 / 10, Step 4380 / 5086, Loss: 0.9255\n",
            "Epoch 10 / 10, Step 4390 / 5086, Loss: 0.2413\n"
          ]
        },
        {
          "output_type": "stream",
          "name": "stderr",
          "text": [
            "4425it [00:31, 139.76it/s]"
          ]
        },
        {
          "output_type": "stream",
          "name": "stdout",
          "text": [
            "Epoch 10 / 10, Step 4400 / 5086, Loss: 9.0080\n",
            "Epoch 10 / 10, Step 4410 / 5086, Loss: 3.2462\n",
            "Epoch 10 / 10, Step 4420 / 5086, Loss: 2.9378\n"
          ]
        },
        {
          "output_type": "stream",
          "name": "stderr",
          "text": [
            "4456it [00:31, 142.97it/s]"
          ]
        },
        {
          "output_type": "stream",
          "name": "stdout",
          "text": [
            "Epoch 10 / 10, Step 4430 / 5086, Loss: 0.0053\n",
            "Epoch 10 / 10, Step 4440 / 5086, Loss: 0.1714\n",
            "Epoch 10 / 10, Step 4450 / 5086, Loss: 0.7073\n"
          ]
        },
        {
          "output_type": "stream",
          "name": "stderr",
          "text": [
            "4487it [00:31, 140.14it/s]"
          ]
        },
        {
          "output_type": "stream",
          "name": "stdout",
          "text": [
            "Epoch 10 / 10, Step 4460 / 5086, Loss: 0.2083\n",
            "Epoch 10 / 10, Step 4470 / 5086, Loss: 0.2211\n",
            "Epoch 10 / 10, Step 4480 / 5086, Loss: 5.9088\n"
          ]
        },
        {
          "output_type": "stream",
          "name": "stderr",
          "text": [
            "4517it [00:32, 139.30it/s]"
          ]
        },
        {
          "output_type": "stream",
          "name": "stdout",
          "text": [
            "Epoch 10 / 10, Step 4490 / 5086, Loss: 7.5805\n",
            "Epoch 10 / 10, Step 4500 / 5086, Loss: 0.0017\n",
            "Epoch 10 / 10, Step 4510 / 5086, Loss: 0.0913\n"
          ]
        },
        {
          "output_type": "stream",
          "name": "stderr",
          "text": [
            "4548it [00:32, 139.87it/s]"
          ]
        },
        {
          "output_type": "stream",
          "name": "stdout",
          "text": [
            "Epoch 10 / 10, Step 4520 / 5086, Loss: 0.5678\n",
            "Epoch 10 / 10, Step 4530 / 5086, Loss: 2.9580\n",
            "Epoch 10 / 10, Step 4540 / 5086, Loss: 2.0468\n"
          ]
        },
        {
          "output_type": "stream",
          "name": "stderr",
          "text": [
            "4579it [00:32, 139.86it/s]"
          ]
        },
        {
          "output_type": "stream",
          "name": "stdout",
          "text": [
            "Epoch 10 / 10, Step 4550 / 5086, Loss: 0.9493\n",
            "Epoch 10 / 10, Step 4560 / 5086, Loss: 0.1230\n",
            "Epoch 10 / 10, Step 4570 / 5086, Loss: 0.0095\n"
          ]
        },
        {
          "output_type": "stream",
          "name": "stderr",
          "text": [
            "\r4594it [00:32, 137.37it/s]"
          ]
        },
        {
          "output_type": "stream",
          "name": "stdout",
          "text": [
            "Epoch 10 / 10, Step 4580 / 5086, Loss: 1.4854\n",
            "Epoch 10 / 10, Step 4590 / 5086, Loss: 0.7083\n",
            "Epoch 10 / 10, Step 4600 / 5086, Loss: 3.0453\n"
          ]
        },
        {
          "output_type": "stream",
          "name": "stderr",
          "text": [
            "4637it [00:33, 137.77it/s]"
          ]
        },
        {
          "output_type": "stream",
          "name": "stdout",
          "text": [
            "Epoch 10 / 10, Step 4610 / 5086, Loss: 3.0338\n",
            "Epoch 10 / 10, Step 4620 / 5086, Loss: 0.5353\n",
            "Epoch 10 / 10, Step 4630 / 5086, Loss: 4.8032\n"
          ]
        },
        {
          "output_type": "stream",
          "name": "stderr",
          "text": [
            "4666it [00:33, 137.87it/s]"
          ]
        },
        {
          "output_type": "stream",
          "name": "stdout",
          "text": [
            "Epoch 10 / 10, Step 4640 / 5086, Loss: 1.5696\n",
            "Epoch 10 / 10, Step 4650 / 5086, Loss: 0.5904\n",
            "Epoch 10 / 10, Step 4660 / 5086, Loss: 2.2355\n"
          ]
        },
        {
          "output_type": "stream",
          "name": "stderr",
          "text": [
            "4695it [00:33, 136.59it/s]"
          ]
        },
        {
          "output_type": "stream",
          "name": "stdout",
          "text": [
            "Epoch 10 / 10, Step 4670 / 5086, Loss: 3.0371\n",
            "Epoch 10 / 10, Step 4680 / 5086, Loss: 0.9874\n",
            "Epoch 10 / 10, Step 4690 / 5086, Loss: 0.0951\n"
          ]
        },
        {
          "output_type": "stream",
          "name": "stderr",
          "text": [
            "4725it [00:33, 140.27it/s]"
          ]
        },
        {
          "output_type": "stream",
          "name": "stdout",
          "text": [
            "Epoch 10 / 10, Step 4700 / 5086, Loss: 5.4950\n",
            "Epoch 10 / 10, Step 4710 / 5086, Loss: 2.0888\n",
            "Epoch 10 / 10, Step 4720 / 5086, Loss: 2.6293\n"
          ]
        },
        {
          "output_type": "stream",
          "name": "stderr",
          "text": [
            "4755it [00:33, 138.44it/s]"
          ]
        },
        {
          "output_type": "stream",
          "name": "stdout",
          "text": [
            "Epoch 10 / 10, Step 4730 / 5086, Loss: 5.0644\n",
            "Epoch 10 / 10, Step 4740 / 5086, Loss: 0.0039\n",
            "Epoch 10 / 10, Step 4750 / 5086, Loss: 8.5004\n"
          ]
        },
        {
          "output_type": "stream",
          "name": "stderr",
          "text": [
            "4784it [00:34, 137.59it/s]"
          ]
        },
        {
          "output_type": "stream",
          "name": "stdout",
          "text": [
            "Epoch 10 / 10, Step 4760 / 5086, Loss: 0.6449\n",
            "Epoch 10 / 10, Step 4770 / 5086, Loss: 3.0561\n",
            "Epoch 10 / 10, Step 4780 / 5086, Loss: 1.6717\n"
          ]
        },
        {
          "output_type": "stream",
          "name": "stderr",
          "text": [
            "4814it [00:34, 139.09it/s]"
          ]
        },
        {
          "output_type": "stream",
          "name": "stdout",
          "text": [
            "Epoch 10 / 10, Step 4790 / 5086, Loss: 1.6769\n",
            "Epoch 10 / 10, Step 4800 / 5086, Loss: 0.9242\n",
            "Epoch 10 / 10, Step 4810 / 5086, Loss: 1.1730\n"
          ]
        },
        {
          "output_type": "stream",
          "name": "stderr",
          "text": [
            "4842it [00:34, 134.87it/s]"
          ]
        },
        {
          "output_type": "stream",
          "name": "stdout",
          "text": [
            "Epoch 10 / 10, Step 4820 / 5086, Loss: 1.8180\n",
            "Epoch 10 / 10, Step 4830 / 5086, Loss: 1.8006\n",
            "Epoch 10 / 10, Step 4840 / 5086, Loss: 3.4321\n"
          ]
        },
        {
          "output_type": "stream",
          "name": "stderr",
          "text": [
            "4871it [00:34, 138.53it/s]"
          ]
        },
        {
          "output_type": "stream",
          "name": "stdout",
          "text": [
            "Epoch 10 / 10, Step 4850 / 5086, Loss: 3.9429\n",
            "Epoch 10 / 10, Step 4860 / 5086, Loss: 0.3385\n",
            "Epoch 10 / 10, Step 4870 / 5086, Loss: 0.7127\n"
          ]
        },
        {
          "output_type": "stream",
          "name": "stderr",
          "text": [
            "4899it [00:35, 135.21it/s]"
          ]
        },
        {
          "output_type": "stream",
          "name": "stdout",
          "text": [
            "Epoch 10 / 10, Step 4880 / 5086, Loss: 4.4063\n",
            "Epoch 10 / 10, Step 4890 / 5086, Loss: 0.5712\n",
            "Epoch 10 / 10, Step 4900 / 5086, Loss: 0.0023\n"
          ]
        },
        {
          "output_type": "stream",
          "name": "stderr",
          "text": [
            "4928it [00:35, 136.03it/s]"
          ]
        },
        {
          "output_type": "stream",
          "name": "stdout",
          "text": [
            "Epoch 10 / 10, Step 4910 / 5086, Loss: 4.1625\n",
            "Epoch 10 / 10, Step 4920 / 5086, Loss: 2.1074\n",
            "Epoch 10 / 10, Step 4930 / 5086, Loss: 2.3408\n"
          ]
        },
        {
          "output_type": "stream",
          "name": "stderr",
          "text": [
            "4956it [00:35, 135.67it/s]"
          ]
        },
        {
          "output_type": "stream",
          "name": "stdout",
          "text": [
            "Epoch 10 / 10, Step 4940 / 5086, Loss: 2.2094\n",
            "Epoch 10 / 10, Step 4950 / 5086, Loss: 0.0318\n",
            "Epoch 10 / 10, Step 4960 / 5086, Loss: 0.3228\n"
          ]
        },
        {
          "output_type": "stream",
          "name": "stderr",
          "text": [
            "4985it [00:35, 136.95it/s]"
          ]
        },
        {
          "output_type": "stream",
          "name": "stdout",
          "text": [
            "Epoch 10 / 10, Step 4970 / 5086, Loss: 0.0368\n",
            "Epoch 10 / 10, Step 4980 / 5086, Loss: 0.9088\n",
            "Epoch 10 / 10, Step 4990 / 5086, Loss: 1.0675\n"
          ]
        },
        {
          "output_type": "stream",
          "name": "stderr",
          "text": [
            "5014it [00:35, 135.77it/s]"
          ]
        },
        {
          "output_type": "stream",
          "name": "stdout",
          "text": [
            "Epoch 10 / 10, Step 5000 / 5086, Loss: 1.9314\n",
            "Epoch 10 / 10, Step 5010 / 5086, Loss: 0.5523\n",
            "Epoch 10 / 10, Step 5020 / 5086, Loss: 3.4268\n"
          ]
        },
        {
          "output_type": "stream",
          "name": "stderr",
          "text": [
            "5057it [00:36, 136.22it/s]"
          ]
        },
        {
          "output_type": "stream",
          "name": "stdout",
          "text": [
            "Epoch 10 / 10, Step 5030 / 5086, Loss: 0.0134\n",
            "Epoch 10 / 10, Step 5040 / 5086, Loss: 2.9024\n",
            "Epoch 10 / 10, Step 5050 / 5086, Loss: 1.4293\n"
          ]
        },
        {
          "output_type": "stream",
          "name": "stderr",
          "text": [
            "5086it [00:36, 139.75it/s]"
          ]
        },
        {
          "output_type": "stream",
          "name": "stdout",
          "text": [
            "Epoch 10 / 10, Step 5060 / 5086, Loss: 5.4241\n",
            "Epoch 10 / 10, Step 5070 / 5086, Loss: 2.8979\n",
            "Epoch 10 / 10, Step 5080 / 5086, Loss: 0.5797\n",
            "Finished Training\n"
          ]
        },
        {
          "output_type": "stream",
          "name": "stderr",
          "text": [
            "\n"
          ]
        }
      ]
    },
    {
      "cell_type": "code",
      "source": [
        "with torch.no_grad():\n",
        "    nCorrect = 0\n",
        "    nSamples = 0\n",
        "    nClassCorrect = [0 for i in range(4)]\n",
        "    nClassTotal = [0 for i in range(4)]\n",
        "    \n",
        "        \n",
        "    for i,data in tqdm(enumerate(testDataLoader)):\n",
        "        # get the inputs; data is a list of [inputs, labels]\n",
        "        inputs, labels = data\n",
        "        inputs = inputs.to(device)\n",
        "        # print(\"l\",labels.shape)\n",
        "        # print(labels)\n",
        "        labels = labels.reshape((-1,)).to(device)\n",
        "        # print(\"l\",labels.shape)\n",
        "        # print(labels)\n",
        "    \n",
        "        outputs = lstm(inputs)\n",
        "        # outputs = torch.squeeze(outputs)\n",
        "        # outputs = outputs.reshape((-1, 1))\n",
        "        # print(outputs.shape)\n",
        "        _, predictions = torch.max(outputs,1)\n",
        "        print(predictions)\n",
        "        print(\"l\",labels)\n",
        "        nSamples += labels.shape[0]\n",
        "        # nCorrect += (predictions == labels).sum().item()\n",
        "        for i in range(len(predictions)):\n",
        "            if predictions[i] == labels[i]:\n",
        "                nCorrect += 1\n",
        "\n",
        "    \n",
        "    acc = 100.0 * nCorrect / nSamples\n",
        "    print(f'Accuracy on test: {acc:.2f}%')\n",
        "\n",
        "    "
      ],
      "metadata": {
        "colab": {
          "base_uri": "https://localhost:8080/"
        },
        "id": "EjPdbMTRZRjz",
        "outputId": "6aebb7e4-04fd-43ec-8cf0-70ec66648f11"
      },
      "execution_count": 80,
      "outputs": [
        {
          "output_type": "stream",
          "name": "stderr",
          "text": [
            "23it [00:00, 231.98it/s]"
          ]
        },
        {
          "output_type": "stream",
          "name": "stdout",
          "text": [
            "tensor([0, 0, 0, 1, 0, 0, 0, 0, 1, 0, 0, 0, 0, 1, 0, 1, 0, 1, 0, 1, 0, 1, 0, 1,\n",
            "        0, 1, 0, 1, 0, 0, 0, 0])\n",
            "l tensor([2, 3, 2, 1, 0, 2, 3, 0, 1, 0, 0, 0, 0, 1, 0, 1, 0, 1, 0, 1, 0, 1, 0, 1,\n",
            "        0, 1, 0, 1, 0, 0, 0, 0])\n",
            "tensor([0, 1, 0, 0, 0, 1, 0, 0, 0, 0, 0, 0, 1, 0, 0, 0, 0, 0, 0, 0, 1, 0, 1, 0,\n",
            "        0, 1, 0, 1, 0, 0, 0, 0])\n",
            "l tensor([0, 0, 0, 1, 0, 1, 0, 1, 0, 0, 0, 0, 2, 3, 2, 3, 0, 0, 0, 0, 1, 0, 1, 0,\n",
            "        0, 1, 1, 1, 0, 1, 0, 2])\n",
            "tensor([1, 0, 0, 0, 0, 0, 0, 0, 1, 0, 1, 0, 0, 0, 0, 1, 0, 1, 0, 0, 1, 0, 0, 1,\n",
            "        0, 1, 0, 0, 0, 1, 0, 1])\n",
            "l tensor([1, 0, 3, 0, 0, 1, 0, 0, 1, 0, 1, 0, 0, 0, 0, 1, 0, 1, 0, 0, 1, 0, 0, 1,\n",
            "        0, 1, 0, 0, 0, 1, 0, 1])\n",
            "tensor([0, 0, 0, 0, 0, 0, 0, 0, 0, 0, 0, 0, 1, 0, 1, 1, 0, 0, 0, 0, 0, 0, 0, 0,\n",
            "        0, 0, 0, 0, 0, 0, 0, 1])\n",
            "l tensor([0, 0, 0, 1, 0, 0, 0, 0, 0, 1, 0, 0, 0, 0, 1, 1, 0, 1, 0, 1, 0, 0, 0, 0,\n",
            "        0, 0, 1, 0, 0, 0, 0, 1])\n",
            "tensor([0, 0, 0, 0, 0, 0, 1, 0, 0, 1, 0, 0, 0, 1, 0, 0, 1, 0, 1, 0, 0, 1, 0, 0,\n",
            "        0, 0, 0, 0, 0, 1, 0, 0])\n",
            "l tensor([0, 2, 2, 1, 0, 2, 2, 3, 1, 1, 2, 2, 3, 2, 3, 0, 1, 2, 1, 2, 3, 2, 3, 2,\n",
            "        3, 1, 0, 0, 0, 1, 0, 0])\n",
            "tensor([1, 0, 0, 0, 0, 1, 1, 0, 1, 0, 0, 0, 1, 0, 1, 0, 0, 0, 0, 0, 0, 0, 0, 0,\n",
            "        0, 0, 1, 1, 0, 0, 0, 0])\n",
            "l tensor([1, 0, 0, 2, 3, 1, 1, 0, 1, 0, 1, 0, 2, 3, 1, 0, 1, 0, 0, 0, 1, 0, 0, 0,\n",
            "        0, 0, 1, 1, 0, 0, 0, 0])\n",
            "tensor([0, 0, 0, 1, 0, 1, 0, 0, 0, 1, 0, 0, 0, 0, 1, 0, 0, 0, 0, 0, 0, 1, 0, 0,\n",
            "        0, 0, 0, 1, 0, 0, 0, 0])\n",
            "l tensor([0, 2, 3, 1, 0, 1, 0, 0, 1, 1, 0, 0, 0, 2, 1, 2, 3, 2, 3, 1, 0, 1, 0, 0,\n",
            "        2, 1, 0, 1, 0, 0, 2, 3])\n",
            "tensor([1, 0, 1, 0, 0, 0, 0, 0, 1, 0, 1, 0, 1, 0, 0, 0, 0, 0, 1, 0, 1, 0, 0, 0,\n",
            "        0, 0, 0, 0, 0, 0, 1, 0])\n",
            "l tensor([1, 0, 1, 0, 2, 3, 1, 0, 1, 0, 1, 0, 1, 0, 1, 0, 0, 0, 1, 1, 1, 0, 0, 0,\n",
            "        2, 2, 3, 1, 0, 2, 1, 0])\n",
            "tensor([0, 1, 0, 0, 0, 1, 0, 1, 0, 1, 1, 0, 0, 0, 1, 0, 0, 0, 0, 1, 0, 0, 0, 1,\n",
            "        0, 0, 0, 0, 0, 0, 0, 0])\n",
            "l tensor([0, 1, 0, 2, 3, 2, 3, 1, 0, 1, 0, 0, 2, 3, 2, 3, 2, 3, 2, 1, 0, 3, 0, 1,\n",
            "        0, 1, 0, 0, 0, 1, 1, 2])\n",
            "tensor([0, 1, 0, 1, 0, 1, 0, 0, 1, 0, 0, 0, 0, 1, 0, 0, 1, 0, 0, 0, 1, 0, 0, 0,\n",
            "        0, 1, 0, 0, 0, 0, 0, 0])\n",
            "l tensor([3, 1, 0, 0, 0, 1, 1, 0, 0, 2, 3, 1, 0, 2, 3, 2, 1, 0, 0, 0, 1, 2, 2, 3,\n",
            "        2, 3, 2, 3, 2, 3, 2, 3])\n",
            "tensor([0, 0, 1, 0, 0, 0, 0, 0, 0, 0, 1, 0, 1, 1, 0, 1, 0, 0, 0, 1, 0, 0, 0, 0,\n",
            "        1, 0, 0, 0, 0, 0, 0, 0])\n",
            "l tensor([2, 2, 1, 0, 0, 1, 2, 3, 2, 3, 1, 0, 1, 1, 0, 1, 0, 1, 0, 1, 1, 0, 1, 0,\n",
            "        1, 0, 0, 0, 0, 0, 0, 0])\n",
            "tensor([0, 0, 0, 1, 0, 0, 0, 1, 1, 0, 0, 0, 0, 1, 0, 0, 0, 0, 0, 0, 0, 0, 0, 1,\n",
            "        0, 1, 1, 0, 0, 0, 0, 0])\n",
            "l tensor([0, 0, 0, 1, 0, 0, 0, 1, 1, 0, 0, 0, 0, 1, 0, 1, 0, 0, 1, 1, 1, 0, 0, 1,\n",
            "        0, 1, 1, 0, 0, 2, 3, 0])\n",
            "tensor([0, 0, 0, 0, 0, 0, 0, 0, 1, 0, 0, 0, 0, 0, 1, 0, 0, 0, 0, 0, 1, 0, 1, 0,\n",
            "        0, 1, 0, 1, 0, 1, 0, 0])\n",
            "l tensor([0, 0, 0, 0, 2, 3, 0, 0, 1, 0, 1, 0, 0, 0, 1, 0, 1, 0, 1, 0, 1, 0, 1, 1,\n",
            "        0, 1, 1, 1, 2, 1, 2, 0])\n",
            "tensor([0, 0, 0, 0, 1, 0, 1, 1, 0, 0, 0, 0, 0, 0, 0, 0, 0, 0, 0, 0, 0, 0, 0, 0,\n",
            "        0, 1, 0, 0, 0, 0, 1, 0])\n",
            "l tensor([0, 1, 0, 0, 1, 1, 1, 1, 0, 2, 3, 0, 0, 0, 1, 0, 1, 0, 0, 0, 0, 0, 1, 2,\n",
            "        3, 2, 2, 2, 1, 3, 1, 0])\n",
            "tensor([0, 0, 1, 0, 1, 0, 0, 0, 0, 0, 0, 1, 0, 1, 0, 0, 0, 1, 0, 0, 1, 0, 0, 0,\n",
            "        0, 0, 0, 0, 0, 0, 0, 0])\n",
            "l tensor([0, 0, 1, 0, 1, 0, 2, 0, 2, 3, 0, 1, 0, 1, 0, 0, 1, 1, 0, 0, 2, 3, 1, 0,\n",
            "        0, 0, 0, 0, 0, 0, 0, 0])\n",
            "tensor([0, 1, 0, 0, 0, 0, 0, 0, 0, 0, 1, 0, 0, 0, 1, 0, 1, 0, 0, 0, 1, 0, 1, 0,\n",
            "        1, 0, 1, 0, 0, 0, 0, 0])\n",
            "l tensor([2, 1, 0, 3, 1, 0, 1, 0, 0, 0, 2, 3, 2, 3, 1, 0, 2, 3, 2, 3, 2, 3, 1, 0,\n",
            "        1, 0, 1, 0, 2, 0, 0, 0])\n",
            "tensor([1, 0, 0, 0, 0, 0, 1, 0, 1, 0, 1, 0, 0, 1, 0, 0, 0, 0, 0, 0, 0, 0, 1, 1,\n",
            "        1, 0, 0, 1, 1, 0, 1, 0])\n",
            "l tensor([1, 0, 1, 0, 0, 0, 1, 0, 1, 0, 1, 0, 0, 1, 0, 2, 3, 0, 0, 0, 0, 0, 2, 1,\n",
            "        1, 0, 0, 1, 1, 1, 1, 0])\n",
            "tensor([1, 0, 0, 0, 1, 0, 0, 0, 0, 0, 0, 1, 0, 1, 0, 0, 0, 0, 0, 0, 0, 1, 0, 1,\n",
            "        0, 0, 0, 0, 1, 0, 0, 0])\n",
            "l tensor([1, 0, 0, 0, 1, 0, 2, 3, 0, 0, 0, 1, 0, 2, 3, 0, 0, 0, 0, 0, 1, 1, 0, 0,\n",
            "        1, 0, 1, 0, 1, 0, 0, 0])\n",
            "tensor([0, 0, 0, 0, 0, 0, 0, 0, 0, 1, 0, 0, 1, 1, 1, 0, 0, 0, 1, 0, 1, 0, 1, 0,\n",
            "        0, 0, 1, 0, 0, 0, 1, 0])\n",
            "l tensor([1, 0, 1, 0, 1, 0, 1, 0, 0, 1, 0, 0, 1, 0, 1, 0, 0, 0, 1, 0, 1, 0, 1, 0,\n",
            "        0, 0, 1, 0, 0, 0, 1, 0])\n",
            "tensor([0, 0, 0, 0, 0, 0, 1, 0, 0, 0, 1, 0, 0, 0, 0, 0, 0, 1, 0, 1, 0, 0, 0, 1,\n",
            "        0, 0, 0, 0, 0, 0, 0, 0])\n",
            "l tensor([0, 0, 2, 3, 0, 0, 1, 0, 0, 0, 1, 0, 0, 2, 3, 0, 0, 1, 0, 1, 0, 1, 2, 1,\n",
            "        2, 1, 1, 0, 3, 3, 0, 1])\n",
            "tensor([0, 1, 1, 1, 1, 0, 0, 1, 1, 0, 0, 0, 0, 0, 0, 0, 0, 0, 0, 0, 0, 1, 0, 0,\n",
            "        0, 0, 0, 1, 0, 1, 0, 0])\n",
            "l tensor([0, 1, 1, 0, 1, 0, 0, 1, 0, 0, 0, 0, 1, 0, 0, 0, 0, 2, 3, 0, 1, 1, 0, 2,\n",
            "        3, 1, 0, 1, 0, 1, 0, 1])\n",
            "tensor([0, 0, 0, 1, 0, 1, 0, 0, 1, 0, 0, 0, 1, 0, 0, 0, 1, 0, 0, 0, 0, 0, 0, 0,\n",
            "        0, 0, 0, 0, 0, 0, 0, 0])\n",
            "l tensor([0, 0, 0, 1, 0, 1, 0, 0, 1, 0, 1, 0, 1, 0, 0, 0, 1, 2, 2, 3, 2, 1, 0, 0,\n",
            "        0, 2, 1, 0, 1, 0, 1, 0])\n",
            "tensor([0, 0, 1, 0, 0, 1, 1, 0, 1, 0, 1, 0, 1, 0, 1, 0, 0, 0])\n",
            "l tensor([0, 2, 1, 0, 3, 1, 1, 0, 1, 0, 1, 0, 1, 0, 1, 0, 0, 0])\n",
            "Accuracy on test: 68.98%\n"
          ]
        },
        {
          "output_type": "stream",
          "name": "stderr",
          "text": [
            "\n"
          ]
        }
      ]
    },
    {
      "cell_type": "code",
      "source": [
        "outputs.shape"
      ],
      "metadata": {
        "colab": {
          "base_uri": "https://localhost:8080/"
        },
        "id": "ZezLkMMCjNIf",
        "outputId": "300b7bf3-cb57-4c1a-a738-eece3b376e9b"
      },
      "execution_count": 33,
      "outputs": [
        {
          "output_type": "execute_result",
          "data": {
            "text/plain": [
              "torch.Size([18, 4])"
            ]
          },
          "metadata": {},
          "execution_count": 33
        }
      ]
    },
    {
      "cell_type": "code",
      "source": [
        "labels.shape"
      ],
      "metadata": {
        "colab": {
          "base_uri": "https://localhost:8080/"
        },
        "id": "aCI_2NPfjaLW",
        "outputId": "8d7d54c6-9f1b-4753-bff7-a6f03deac699"
      },
      "execution_count": 34,
      "outputs": [
        {
          "output_type": "execute_result",
          "data": {
            "text/plain": [
              "torch.Size([18])"
            ]
          },
          "metadata": {},
          "execution_count": 34
        }
      ]
    },
    {
      "cell_type": "code",
      "source": [
        "ytrain.shape"
      ],
      "metadata": {
        "colab": {
          "base_uri": "https://localhost:8080/"
        },
        "id": "gOh71WFtjgW3",
        "outputId": "c71ef138-230c-4a45-fbc8-5e1157f830f8"
      },
      "execution_count": 35,
      "outputs": [
        {
          "output_type": "execute_result",
          "data": {
            "text/plain": [
              "(5090,)"
            ]
          },
          "metadata": {},
          "execution_count": 35
        }
      ]
    },
    {
      "cell_type": "markdown",
      "source": [
        "Dataloader for taking only previous x utterances (Sliding window --> if x utterances to be considered send x+1 samples at a time (x+1 is window size)) "
      ],
      "metadata": {
        "id": "CaZaTpN5H2ej"
      }
    },
    {
      "cell_type": "code",
      "source": [
        "class MyDataset(Dataset):\n",
        "    def __init__(self, data, window):\n",
        "        self.data = data\n",
        "        self.window = window\n",
        "\n",
        "    def __getitem__(self, index):\n",
        "        x = self.data[index:index+self.window]\n",
        "        return x\n",
        "\n",
        "    def __len__(self):\n",
        "        return len(self.data) - self.window"
      ],
      "metadata": {
        "id": "ERvXfSfDA77L"
      },
      "execution_count": 64,
      "outputs": []
    },
    {
      "cell_type": "code",
      "source": [
        "trainDataLoader = DataLoader(MyDataset(train_data,4),batch_size=1)"
      ],
      "metadata": {
        "id": "UDKFOn1XBkIA"
      },
      "execution_count": 65,
      "outputs": []
    },
    {
      "cell_type": "code",
      "source": [
        "MyDataset(train_data,4)"
      ],
      "metadata": {
        "colab": {
          "base_uri": "https://localhost:8080/"
        },
        "id": "105xWrd6DLrf",
        "outputId": "923d8798-da43-483c-c640-62e981945ed6"
      },
      "execution_count": 47,
      "outputs": [
        {
          "output_type": "execute_result",
          "data": {
            "text/plain": [
              "<__main__.MyDataset at 0x7f78dd705910>"
            ]
          },
          "metadata": {},
          "execution_count": 47
        }
      ]
    }
  ]
}